{
 "cells": [
  {
   "cell_type": "markdown",
   "id": "0aa697a7",
   "metadata": {},
   "source": [
    "### This program can be used to create a structured df from the Patient's notes data"
   ]
  },
  {
   "cell_type": "markdown",
   "id": "0bdfb1cd",
   "metadata": {},
   "source": [
    "Importing all necessary libraries"
   ]
  },
  {
   "cell_type": "code",
   "execution_count": 168,
   "id": "38a1ae93",
   "metadata": {},
   "outputs": [],
   "source": [
    "# All necessary imports\n",
    "import pandas as pd\n",
    "import nltk\n",
    "from nltk.corpus import stopwords\n",
    "from nltk.stem import PorterStemmer, WordNetLemmatizer\n",
    "from sklearn.feature_extraction.text import TfidfVectorizer\n",
    "from sklearn.feature_extraction.text import CountVectorizer\n",
    "from sklearn.decomposition import TruncatedSVD\n",
    "from sklearn.preprocessing import Normalizer\n",
    "\n",
    "from time import time\n",
    "import numpy as np\n",
    "\n",
    "import os\n",
    "from sklearn.utils import resample\n",
    "import re\n",
    "\n",
    "from sklearn.decomposition import PCA\n",
    "from sklearn.manifold import (\n",
    "    TSNE,\n",
    "    Isomap,\n",
    "    LocallyLinearEmbedding,\n",
    ")\n",
    "import umap\n",
    "\n",
    "from sklearn.cluster import KMeans\n",
    "from sklearn.cluster import DBSCAN\n",
    "from sklearn.cluster import AgglomerativeClustering\n",
    "\n",
    "import plotly.express as px\n",
    "\n",
    "from sklearn import metrics\n",
    "import warnings\n",
    "warnings.simplefilter(action='ignore')\n"
   ]
  },
  {
   "cell_type": "markdown",
   "id": "6e158ae5",
   "metadata": {},
   "source": [
    "Reading in the data and taking a sample\n",
    "\n",
    "NOTE: in the interest of time, I took a sample size of ___. The output of the methods employed here will differ based on the sample size used, as that affects the data that the models see."
   ]
  },
  {
   "cell_type": "code",
   "execution_count": 169,
   "metadata": {},
   "outputs": [
    {
     "name": "stdout",
     "output_type": "stream",
     "text": [
      "Original data shape: (42146, 3)\n",
      "Sample data shape: (10000, 3)\n"
     ]
    },
    {
     "data": {
      "text/html": [
       "<div>\n",
       "<style scoped>\n",
       "    .dataframe tbody tr th:only-of-type {\n",
       "        vertical-align: middle;\n",
       "    }\n",
       "\n",
       "    .dataframe tbody tr th {\n",
       "        vertical-align: top;\n",
       "    }\n",
       "\n",
       "    .dataframe thead th {\n",
       "        text-align: right;\n",
       "    }\n",
       "</style>\n",
       "<table border=\"1\" class=\"dataframe\">\n",
       "  <thead>\n",
       "    <tr style=\"text-align: right;\">\n",
       "      <th></th>\n",
       "      <th>pn_num</th>\n",
       "      <th>case_num</th>\n",
       "      <th>pn_history</th>\n",
       "    </tr>\n",
       "  </thead>\n",
       "  <tbody>\n",
       "    <tr>\n",
       "      <th>12778</th>\n",
       "      <td>37895</td>\n",
       "      <td>3</td>\n",
       "      <td>Mr Hamilton is a 35 year old male complaining ...</td>\n",
       "    </tr>\n",
       "    <tr>\n",
       "      <th>3583</th>\n",
       "      <td>20555</td>\n",
       "      <td>2</td>\n",
       "      <td>44 year old f with 3 year history or unpredict...</td>\n",
       "    </tr>\n",
       "    <tr>\n",
       "      <th>29227</th>\n",
       "      <td>70540</td>\n",
       "      <td>7</td>\n",
       "      <td>35 yo F complains of irregular menstrual cycle...</td>\n",
       "    </tr>\n",
       "    <tr>\n",
       "      <th>35191</th>\n",
       "      <td>82503</td>\n",
       "      <td>8</td>\n",
       "      <td>67 yo F present with insomina for the last 3 w...</td>\n",
       "    </tr>\n",
       "    <tr>\n",
       "      <th>37385</th>\n",
       "      <td>90404</td>\n",
       "      <td>9</td>\n",
       "      <td>20-year-old female co headache x 1 day \\r\\n* s...</td>\n",
       "    </tr>\n",
       "  </tbody>\n",
       "</table>\n",
       "</div>"
      ],
      "text/plain": [
       "       pn_num  case_num                                         pn_history\n",
       "12778   37895         3  Mr Hamilton is a 35 year old male complaining ...\n",
       "3583    20555         2  44 year old f with 3 year history or unpredict...\n",
       "29227   70540         7  35 yo F complains of irregular menstrual cycle...\n",
       "35191   82503         8  67 yo F present with insomina for the last 3 w...\n",
       "37385   90404         9  20-year-old female co headache x 1 day \\r\\n* s..."
      ]
     },
     "execution_count": 169,
     "metadata": {},
     "output_type": "execute_result"
    }
   ],
   "source": [
    "\n",
    "patient = pd.read_csv(\"patient_notes.csv\")\n",
    "print(f\"Original data shape: {patient.shape}\")\n",
    "n = 10000\n",
    "\n",
    "patient = resample(patient, n_samples=n)\n",
    "print(f\"Sample data shape: {patient.shape}\")\n",
    "patient.head()"
   ]
  },
  {
   "cell_type": "markdown",
   "id": "0b315cf5",
   "metadata": {},
   "source": [
    "Cleaning html tags, emails, numbers, and punctuation from the patient notes."
   ]
  },
  {
   "cell_type": "code",
   "execution_count": 170,
   "id": "0d4c31cd",
   "metadata": {},
   "outputs": [
    {
     "data": {
      "text/html": [
       "<div>\n",
       "<style scoped>\n",
       "    .dataframe tbody tr th:only-of-type {\n",
       "        vertical-align: middle;\n",
       "    }\n",
       "\n",
       "    .dataframe tbody tr th {\n",
       "        vertical-align: top;\n",
       "    }\n",
       "\n",
       "    .dataframe thead th {\n",
       "        text-align: right;\n",
       "    }\n",
       "</style>\n",
       "<table border=\"1\" class=\"dataframe\">\n",
       "  <thead>\n",
       "    <tr style=\"text-align: right;\">\n",
       "      <th></th>\n",
       "      <th>pn_num</th>\n",
       "      <th>case_num</th>\n",
       "      <th>pn_history</th>\n",
       "      <th>pn_history_clean</th>\n",
       "    </tr>\n",
       "  </thead>\n",
       "  <tbody>\n",
       "    <tr>\n",
       "      <th>12778</th>\n",
       "      <td>37895</td>\n",
       "      <td>3</td>\n",
       "      <td>Mr Hamilton is a 35 year old male complaining ...</td>\n",
       "      <td>Mr Hamilton is a  year old male complaining up...</td>\n",
       "    </tr>\n",
       "    <tr>\n",
       "      <th>3583</th>\n",
       "      <td>20555</td>\n",
       "      <td>2</td>\n",
       "      <td>44 year old f with 3 year history or unpredict...</td>\n",
       "      <td>year old f with  year history or unpredictabl...</td>\n",
       "    </tr>\n",
       "    <tr>\n",
       "      <th>29227</th>\n",
       "      <td>70540</td>\n",
       "      <td>7</td>\n",
       "      <td>35 yo F complains of irregular menstrual cycle...</td>\n",
       "      <td>yo F complains of irregular menstrual cycles ...</td>\n",
       "    </tr>\n",
       "    <tr>\n",
       "      <th>35191</th>\n",
       "      <td>82503</td>\n",
       "      <td>8</td>\n",
       "      <td>67 yo F present with insomina for the last 3 w...</td>\n",
       "      <td>yo F present with insomina for the last  week...</td>\n",
       "    </tr>\n",
       "    <tr>\n",
       "      <th>37385</th>\n",
       "      <td>90404</td>\n",
       "      <td>9</td>\n",
       "      <td>20-year-old female co headache x 1 day \\r\\n* s...</td>\n",
       "      <td>yearold female co headache x  day \\r\\n strated...</td>\n",
       "    </tr>\n",
       "  </tbody>\n",
       "</table>\n",
       "</div>"
      ],
      "text/plain": [
       "       pn_num  case_num                                         pn_history  \\\n",
       "12778   37895         3  Mr Hamilton is a 35 year old male complaining ...   \n",
       "3583    20555         2  44 year old f with 3 year history or unpredict...   \n",
       "29227   70540         7  35 yo F complains of irregular menstrual cycle...   \n",
       "35191   82503         8  67 yo F present with insomina for the last 3 w...   \n",
       "37385   90404         9  20-year-old female co headache x 1 day \\r\\n* s...   \n",
       "\n",
       "                                        pn_history_clean  \n",
       "12778  Mr Hamilton is a  year old male complaining up...  \n",
       "3583    year old f with  year history or unpredictabl...  \n",
       "29227   yo F complains of irregular menstrual cycles ...  \n",
       "35191   yo F present with insomina for the last  week...  \n",
       "37385  yearold female co headache x  day \\r\\n strated...  "
      ]
     },
     "execution_count": 170,
     "metadata": {},
     "output_type": "execute_result"
    }
   ],
   "source": [
    "# ---------------------------------------------------------------\n",
    "# Downloading necessary NLTK resources needed for preprocessing\n",
    "# ---------------------------------------------------------------\n",
    "\n",
    "# -------------------------\n",
    "# Text Cleaning Function\n",
    "# -------------------------\n",
    "def clean_text(text):\n",
    "    # Removing HTML tags\n",
    "    text = re.sub(r'<.*?>', '', text)\n",
    "\n",
    "    # Removing emails\n",
    "    text = re.sub(r'\\S+@\\S+', '', text)\n",
    "\n",
    "    # Removing numbers\n",
    "    text = re.sub(r'\\d+', '', text)\n",
    "\n",
    "    # Removing punctuation\n",
    "    text = re.sub(r'[^\\w\\s]', '', text)\n",
    "\n",
    "    return text\n",
    "\n",
    "\n",
    "# -------------------------\n",
    "# # Cleaning the text in the column\n",
    "# -------------------------\n",
    "patient[\"pn_history_clean\"] = patient[\"pn_history\"].apply(clean_text)\n",
    "\n",
    "patient.head()"
   ]
  },
  {
   "cell_type": "markdown",
   "id": "b529d87f",
   "metadata": {},
   "source": [
    "Instantiating the stemmer and lemmatizer and downloading the stop words used"
   ]
  },
  {
   "cell_type": "code",
   "execution_count": 171,
   "id": "cf3ff040",
   "metadata": {},
   "outputs": [
    {
     "name": "stderr",
     "output_type": "stream",
     "text": [
      "[nltk_data] Downloading package stopwords to\n",
      "[nltk_data]     /Users/btwitchell/nltk_data...\n",
      "[nltk_data]   Package stopwords is already up-to-date!\n",
      "[nltk_data] Downloading package wordnet to\n",
      "[nltk_data]     /Users/btwitchell/nltk_data...\n",
      "[nltk_data]   Package wordnet is already up-to-date!\n",
      "[nltk_data] Downloading package punkt to\n",
      "[nltk_data]     /Users/btwitchell/nltk_data...\n",
      "[nltk_data]   Package punkt is already up-to-date!\n"
     ]
    }
   ],
   "source": [
    "# ---------------------------------------------------------------------------------\n",
    "# Tokenization, Lowercasing, Stop Words Removal, Stemming, and Lemmatization\n",
    "# ---------------------------------------------------------------------------------\n",
    "\n",
    "nltk.download('stopwords')\n",
    "nltk.download('wordnet')\n",
    "nltk.download('punkt')\n",
    "\n",
    "stop_words = set(stopwords.words('english'))\n",
    "porter = PorterStemmer()\n",
    "lemmatizer = WordNetLemmatizer()"
   ]
  },
  {
   "cell_type": "markdown",
   "id": "66b422a3",
   "metadata": {},
   "source": [
    "Applying the stop word removal, stemming, and lemmatization to the dataset. Also tokenizing the documents by word."
   ]
  },
  {
   "cell_type": "code",
   "execution_count": 172,
   "metadata": {},
   "outputs": [
    {
     "data": {
      "text/html": [
       "<div>\n",
       "<style scoped>\n",
       "    .dataframe tbody tr th:only-of-type {\n",
       "        vertical-align: middle;\n",
       "    }\n",
       "\n",
       "    .dataframe tbody tr th {\n",
       "        vertical-align: top;\n",
       "    }\n",
       "\n",
       "    .dataframe thead th {\n",
       "        text-align: right;\n",
       "    }\n",
       "</style>\n",
       "<table border=\"1\" class=\"dataframe\">\n",
       "  <thead>\n",
       "    <tr style=\"text-align: right;\">\n",
       "      <th></th>\n",
       "      <th>pn_num</th>\n",
       "      <th>case_num</th>\n",
       "      <th>pn_history</th>\n",
       "      <th>pn_history_clean</th>\n",
       "      <th>pn_history_preprocessed</th>\n",
       "    </tr>\n",
       "  </thead>\n",
       "  <tbody>\n",
       "    <tr>\n",
       "      <th>12778</th>\n",
       "      <td>37895</td>\n",
       "      <td>3</td>\n",
       "      <td>Mr Hamilton is a 35 year old male complaining ...</td>\n",
       "      <td>Mr Hamilton is a  year old male complaining up...</td>\n",
       "      <td>mr hamilton year old male complain stomach pro...</td>\n",
       "    </tr>\n",
       "    <tr>\n",
       "      <th>3583</th>\n",
       "      <td>20555</td>\n",
       "      <td>2</td>\n",
       "      <td>44 year old f with 3 year history or unpredict...</td>\n",
       "      <td>year old f with  year history or unpredictabl...</td>\n",
       "      <td>year old f year histori unpredict period rang ...</td>\n",
       "    </tr>\n",
       "    <tr>\n",
       "      <th>29227</th>\n",
       "      <td>70540</td>\n",
       "      <td>7</td>\n",
       "      <td>35 yo F complains of irregular menstrual cycle...</td>\n",
       "      <td>yo F complains of irregular menstrual cycles ...</td>\n",
       "      <td>yo f complain irregular menstrual cycl period ...</td>\n",
       "    </tr>\n",
       "    <tr>\n",
       "      <th>35191</th>\n",
       "      <td>82503</td>\n",
       "      <td>8</td>\n",
       "      <td>67 yo F present with insomina for the last 3 w...</td>\n",
       "      <td>yo F present with insomina for the last  week...</td>\n",
       "      <td>yo f present insomina last week patient suffer...</td>\n",
       "    </tr>\n",
       "    <tr>\n",
       "      <th>37385</th>\n",
       "      <td>90404</td>\n",
       "      <td>9</td>\n",
       "      <td>20-year-old female co headache x 1 day \\r\\n* s...</td>\n",
       "      <td>yearold female co headache x  day \\r\\n strated...</td>\n",
       "      <td>yearold femal co headach x day strate suddenli...</td>\n",
       "    </tr>\n",
       "    <tr>\n",
       "      <th>...</th>\n",
       "      <td>...</td>\n",
       "      <td>...</td>\n",
       "      <td>...</td>\n",
       "      <td>...</td>\n",
       "      <td>...</td>\n",
       "    </tr>\n",
       "    <tr>\n",
       "      <th>31562</th>\n",
       "      <td>72988</td>\n",
       "      <td>7</td>\n",
       "      <td>35 yo f comes to the office co of problem with...</td>\n",
       "      <td>yo f comes to the office co of problem with p...</td>\n",
       "      <td>yo f come offic co problem period irregularit ...</td>\n",
       "    </tr>\n",
       "    <tr>\n",
       "      <th>16275</th>\n",
       "      <td>41537</td>\n",
       "      <td>4</td>\n",
       "      <td>Ms. Moore is a 45 year old female who presents...</td>\n",
       "      <td>Ms Moore is a  year old female who presents fo...</td>\n",
       "      <td>m moor year old femal present evalu feel nervo...</td>\n",
       "    </tr>\n",
       "    <tr>\n",
       "      <th>40432</th>\n",
       "      <td>93558</td>\n",
       "      <td>9</td>\n",
       "      <td>HPI: Patient is a 20 year old female complaini...</td>\n",
       "      <td>HPI Patient is a  year old female complaining ...</td>\n",
       "      <td>hpi patient year old femal complain headach si...</td>\n",
       "    </tr>\n",
       "    <tr>\n",
       "      <th>14672</th>\n",
       "      <td>39819</td>\n",
       "      <td>3</td>\n",
       "      <td>35 y/o M c/o \"stomach really bothering me\" \\r\\...</td>\n",
       "      <td>yo M co stomach really bothering me \\r\\nHPI A...</td>\n",
       "      <td>yo co stomach realli bother hpi start moago ch...</td>\n",
       "    </tr>\n",
       "    <tr>\n",
       "      <th>39537</th>\n",
       "      <td>92636</td>\n",
       "      <td>9</td>\n",
       "      <td>20 y o F c/o headache, sudden onset x 2 days, ...</td>\n",
       "      <td>y o F co headache sudden onset x  days starte...</td>\n",
       "      <td>f co headach sudden onset x day start woke dul...</td>\n",
       "    </tr>\n",
       "  </tbody>\n",
       "</table>\n",
       "<p>10000 rows × 5 columns</p>\n",
       "</div>"
      ],
      "text/plain": [
       "       pn_num  case_num                                         pn_history  \\\n",
       "12778   37895         3  Mr Hamilton is a 35 year old male complaining ...   \n",
       "3583    20555         2  44 year old f with 3 year history or unpredict...   \n",
       "29227   70540         7  35 yo F complains of irregular menstrual cycle...   \n",
       "35191   82503         8  67 yo F present with insomina for the last 3 w...   \n",
       "37385   90404         9  20-year-old female co headache x 1 day \\r\\n* s...   \n",
       "...       ...       ...                                                ...   \n",
       "31562   72988         7  35 yo f comes to the office co of problem with...   \n",
       "16275   41537         4  Ms. Moore is a 45 year old female who presents...   \n",
       "40432   93558         9  HPI: Patient is a 20 year old female complaini...   \n",
       "14672   39819         3  35 y/o M c/o \"stomach really bothering me\" \\r\\...   \n",
       "39537   92636         9  20 y o F c/o headache, sudden onset x 2 days, ...   \n",
       "\n",
       "                                        pn_history_clean  \\\n",
       "12778  Mr Hamilton is a  year old male complaining up...   \n",
       "3583    year old f with  year history or unpredictabl...   \n",
       "29227   yo F complains of irregular menstrual cycles ...   \n",
       "35191   yo F present with insomina for the last  week...   \n",
       "37385  yearold female co headache x  day \\r\\n strated...   \n",
       "...                                                  ...   \n",
       "31562   yo f comes to the office co of problem with p...   \n",
       "16275  Ms Moore is a  year old female who presents fo...   \n",
       "40432  HPI Patient is a  year old female complaining ...   \n",
       "14672   yo M co stomach really bothering me \\r\\nHPI A...   \n",
       "39537   y o F co headache sudden onset x  days starte...   \n",
       "\n",
       "                                 pn_history_preprocessed  \n",
       "12778  mr hamilton year old male complain stomach pro...  \n",
       "3583   year old f year histori unpredict period rang ...  \n",
       "29227  yo f complain irregular menstrual cycl period ...  \n",
       "35191  yo f present insomina last week patient suffer...  \n",
       "37385  yearold femal co headach x day strate suddenli...  \n",
       "...                                                  ...  \n",
       "31562  yo f come offic co problem period irregularit ...  \n",
       "16275  m moor year old femal present evalu feel nervo...  \n",
       "40432  hpi patient year old femal complain headach si...  \n",
       "14672  yo co stomach realli bother hpi start moago ch...  \n",
       "39537  f co headach sudden onset x day start woke dul...  \n",
       "\n",
       "[10000 rows x 5 columns]"
      ]
     },
     "execution_count": 172,
     "metadata": {},
     "output_type": "execute_result"
    }
   ],
   "source": [
    "def process_text(text):\n",
    "    \"\"\"\n",
    "    This function processes the given text by performing tokenization, lowercasing, stop words removal, stemming, and lemmatization.\n",
    "\n",
    "    Parameters:\n",
    "    - text: The input text to be processed.\n",
    "\n",
    "    Returns:\n",
    "    - processed_text: The processed text after tokenization, lowercasing, stop words removal, stemming, and lemmatization.\n",
    "    \"\"\"\n",
    "    # Tokenization and Lowercasing (puts words into a list delimited by spaces and newlines)\n",
    "    tokens = nltk.word_tokenize(text.lower())\n",
    "    \n",
    "    # Stop Words Removal\n",
    "    filtered_tokens = [word for word in tokens if word not in stop_words]\n",
    "    \n",
    "    # Stemming and Lemmatization\n",
    "    stemmed = [porter.stem(word) for word in filtered_tokens]\n",
    "    lemmatized = [lemmatizer.lemmatize(word) for word in stemmed]\n",
    "    processed_text = ' '.join(lemmatized)\n",
    "\n",
    "    return processed_text\n",
    "\n",
    "# ---------------------------------------------------------------------------------\n",
    "# Apply processing\n",
    "# ---------------------------------------------------------------------------------\n",
    "patient[\"pn_history_preprocessed\"] = patient[\"pn_history_clean\"].apply(process_text)\n",
    "patient"
   ]
  },
  {
   "cell_type": "markdown",
   "id": "16cf1e4a",
   "metadata": {},
   "source": [
    "Representing the tokenized words as a TF-IDF matrix, which accounts for frequency of tokens both locally to a document (increasing the importance of the token) aswell as globally for a corpus (decreasing importance of the token)."
   ]
  },
  {
   "cell_type": "code",
   "execution_count": 173,
   "metadata": {},
   "outputs": [
    {
     "name": "stdout",
     "output_type": "stream",
     "text": [
      "vectorization done in 0.401 s\n",
      "n_samples: 10000, n_features: 3591\n",
      "sparseness: 0.017 of the entries of the TFIDF matrix are non-zero.\n"
     ]
    }
   ],
   "source": [
    "\n",
    "# ---------------------------------------------------------------------------------\n",
    "# TF-IDF Vectorization\n",
    "# ---------------------------------------------------------------------------------\n",
    "\n",
    "vectorizer = TfidfVectorizer(strip_accents='unicode',max_df=0.5, min_df=5)#ngram_range=(1,1), (2,2), (3,3)\n",
    "t0 = time()\n",
    "sparse_tfidf_matrix = vectorizer.fit_transform(patient[\"pn_history_preprocessed\"])\n",
    "print(f\"vectorization done in {time() - t0:.3f} s\")\n",
    "print(f\"n_samples: {sparse_tfidf_matrix.shape[0]}, n_features: {sparse_tfidf_matrix.shape[1]}\")\n",
    "print(f\"sparseness: {sparse_tfidf_matrix.nnz / np.prod(sparse_tfidf_matrix.shape):.3f} of the entries of the TFIDF matrix are non-zero.\")"
   ]
  },
  {
   "cell_type": "markdown",
   "id": "230e126f",
   "metadata": {},
   "source": [
    "Apply data reducgion via Latent Semantic Analysis (LSM), which can be conceived of as PCA applied to sparse matrices.\n",
    "\n",
    "Because the TF-IDF matrix is sparse, I determined (contrary to the assignment's instructions) that outlier detection  could negatively affect the output of truncated Singular Value Decomposition (SVD). Of course, while trying out various methods and obtaining results is more ideal, in the interest and of time and simplicity I omitted this step. Per [Scikit-Learn's guidance for clustering with text documents](https://scikit-learn.org/stable/auto_examples/text/plot_document_clustering.html#sphx-glr-auto-examples-text-plot-document-clustering-py) I determined that normalization of the data would be appropriate only after I first obtain the truncated SVD matrix and keeping the first k columns that capture 90% of total variance."
   ]
  },
  {
   "cell_type": "code",
   "execution_count": 174,
   "id": "df7b81b2",
   "metadata": {},
   "outputs": [
    {
     "name": "stdout",
     "output_type": "stream",
     "text": [
      "LSA done in 54.120 s\n",
      "Number of components explaining 90% of variance: 1404\n"
     ]
    },
    {
     "data": {
      "text/html": [
       "<div>\n",
       "<style scoped>\n",
       "    .dataframe tbody tr th:only-of-type {\n",
       "        vertical-align: middle;\n",
       "    }\n",
       "\n",
       "    .dataframe tbody tr th {\n",
       "        vertical-align: top;\n",
       "    }\n",
       "\n",
       "    .dataframe thead th {\n",
       "        text-align: right;\n",
       "    }\n",
       "</style>\n",
       "<table border=\"1\" class=\"dataframe\">\n",
       "  <thead>\n",
       "    <tr style=\"text-align: right;\">\n",
       "      <th></th>\n",
       "      <th>pn_num</th>\n",
       "      <th>case_num</th>\n",
       "      <th>pn_history</th>\n",
       "      <th>0</th>\n",
       "      <th>1</th>\n",
       "      <th>2</th>\n",
       "      <th>3</th>\n",
       "      <th>4</th>\n",
       "      <th>5</th>\n",
       "      <th>6</th>\n",
       "      <th>...</th>\n",
       "      <th>1394</th>\n",
       "      <th>1395</th>\n",
       "      <th>1396</th>\n",
       "      <th>1397</th>\n",
       "      <th>1398</th>\n",
       "      <th>1399</th>\n",
       "      <th>1400</th>\n",
       "      <th>1401</th>\n",
       "      <th>1402</th>\n",
       "      <th>1403</th>\n",
       "    </tr>\n",
       "  </thead>\n",
       "  <tbody>\n",
       "    <tr>\n",
       "      <th>0</th>\n",
       "      <td>37895</td>\n",
       "      <td>3</td>\n",
       "      <td>Mr Hamilton is a 35 year old male complaining ...</td>\n",
       "      <td>0.359222</td>\n",
       "      <td>0.343675</td>\n",
       "      <td>0.108686</td>\n",
       "      <td>0.103118</td>\n",
       "      <td>-0.055795</td>\n",
       "      <td>-0.047713</td>\n",
       "      <td>-0.004512</td>\n",
       "      <td>...</td>\n",
       "      <td>0.004821</td>\n",
       "      <td>-0.002703</td>\n",
       "      <td>0.014817</td>\n",
       "      <td>0.006085</td>\n",
       "      <td>0.001674</td>\n",
       "      <td>0.000387</td>\n",
       "      <td>-0.008683</td>\n",
       "      <td>-0.011946</td>\n",
       "      <td>-0.008967</td>\n",
       "      <td>-0.004861</td>\n",
       "    </tr>\n",
       "    <tr>\n",
       "      <th>1</th>\n",
       "      <td>20555</td>\n",
       "      <td>2</td>\n",
       "      <td>44 year old f with 3 year history or unpredict...</td>\n",
       "      <td>0.288994</td>\n",
       "      <td>-0.139732</td>\n",
       "      <td>0.137617</td>\n",
       "      <td>0.021303</td>\n",
       "      <td>0.041342</td>\n",
       "      <td>0.013760</td>\n",
       "      <td>0.015951</td>\n",
       "      <td>...</td>\n",
       "      <td>0.004470</td>\n",
       "      <td>-0.003090</td>\n",
       "      <td>0.007753</td>\n",
       "      <td>-0.015211</td>\n",
       "      <td>-0.003799</td>\n",
       "      <td>0.012597</td>\n",
       "      <td>-0.000897</td>\n",
       "      <td>-0.008394</td>\n",
       "      <td>-0.018405</td>\n",
       "      <td>-0.020047</td>\n",
       "    </tr>\n",
       "    <tr>\n",
       "      <th>2</th>\n",
       "      <td>70540</td>\n",
       "      <td>7</td>\n",
       "      <td>35 yo F complains of irregular menstrual cycle...</td>\n",
       "      <td>0.337212</td>\n",
       "      <td>-0.240513</td>\n",
       "      <td>0.359017</td>\n",
       "      <td>0.072237</td>\n",
       "      <td>0.069259</td>\n",
       "      <td>0.040155</td>\n",
       "      <td>-0.027472</td>\n",
       "      <td>...</td>\n",
       "      <td>0.004874</td>\n",
       "      <td>-0.001152</td>\n",
       "      <td>-0.004981</td>\n",
       "      <td>-0.008906</td>\n",
       "      <td>-0.004106</td>\n",
       "      <td>0.008707</td>\n",
       "      <td>-0.003222</td>\n",
       "      <td>0.008107</td>\n",
       "      <td>0.016686</td>\n",
       "      <td>-0.008986</td>\n",
       "    </tr>\n",
       "    <tr>\n",
       "      <th>3</th>\n",
       "      <td>82503</td>\n",
       "      <td>8</td>\n",
       "      <td>67 yo F present with insomina for the last 3 w...</td>\n",
       "      <td>0.205558</td>\n",
       "      <td>-0.102330</td>\n",
       "      <td>-0.176173</td>\n",
       "      <td>0.195617</td>\n",
       "      <td>-0.081420</td>\n",
       "      <td>-0.038823</td>\n",
       "      <td>0.012653</td>\n",
       "      <td>...</td>\n",
       "      <td>0.015851</td>\n",
       "      <td>0.008453</td>\n",
       "      <td>0.014499</td>\n",
       "      <td>-0.007084</td>\n",
       "      <td>-0.009744</td>\n",
       "      <td>0.019334</td>\n",
       "      <td>-0.002475</td>\n",
       "      <td>0.035429</td>\n",
       "      <td>0.023690</td>\n",
       "      <td>-0.010920</td>\n",
       "    </tr>\n",
       "    <tr>\n",
       "      <th>4</th>\n",
       "      <td>90404</td>\n",
       "      <td>9</td>\n",
       "      <td>20-year-old female co headache x 1 day \\r\\n* s...</td>\n",
       "      <td>0.272254</td>\n",
       "      <td>0.042140</td>\n",
       "      <td>-0.104269</td>\n",
       "      <td>-0.080158</td>\n",
       "      <td>0.271678</td>\n",
       "      <td>-0.052540</td>\n",
       "      <td>-0.079025</td>\n",
       "      <td>...</td>\n",
       "      <td>-0.008419</td>\n",
       "      <td>-0.011026</td>\n",
       "      <td>-0.005550</td>\n",
       "      <td>-0.010678</td>\n",
       "      <td>-0.026419</td>\n",
       "      <td>-0.009070</td>\n",
       "      <td>0.025168</td>\n",
       "      <td>-0.026367</td>\n",
       "      <td>0.018814</td>\n",
       "      <td>0.002551</td>\n",
       "    </tr>\n",
       "    <tr>\n",
       "      <th>...</th>\n",
       "      <td>...</td>\n",
       "      <td>...</td>\n",
       "      <td>...</td>\n",
       "      <td>...</td>\n",
       "      <td>...</td>\n",
       "      <td>...</td>\n",
       "      <td>...</td>\n",
       "      <td>...</td>\n",
       "      <td>...</td>\n",
       "      <td>...</td>\n",
       "      <td>...</td>\n",
       "      <td>...</td>\n",
       "      <td>...</td>\n",
       "      <td>...</td>\n",
       "      <td>...</td>\n",
       "      <td>...</td>\n",
       "      <td>...</td>\n",
       "      <td>...</td>\n",
       "      <td>...</td>\n",
       "      <td>...</td>\n",
       "      <td>...</td>\n",
       "    </tr>\n",
       "    <tr>\n",
       "      <th>9995</th>\n",
       "      <td>72988</td>\n",
       "      <td>7</td>\n",
       "      <td>35 yo f comes to the office co of problem with...</td>\n",
       "      <td>0.358864</td>\n",
       "      <td>-0.296778</td>\n",
       "      <td>0.412633</td>\n",
       "      <td>0.092737</td>\n",
       "      <td>0.068084</td>\n",
       "      <td>0.020012</td>\n",
       "      <td>0.022336</td>\n",
       "      <td>...</td>\n",
       "      <td>0.009990</td>\n",
       "      <td>0.002986</td>\n",
       "      <td>0.001396</td>\n",
       "      <td>0.015227</td>\n",
       "      <td>-0.012737</td>\n",
       "      <td>0.007229</td>\n",
       "      <td>0.012555</td>\n",
       "      <td>-0.001133</td>\n",
       "      <td>0.004790</td>\n",
       "      <td>-0.009789</td>\n",
       "    </tr>\n",
       "    <tr>\n",
       "      <th>9996</th>\n",
       "      <td>41537</td>\n",
       "      <td>4</td>\n",
       "      <td>Ms. Moore is a 45 year old female who presents...</td>\n",
       "      <td>0.288686</td>\n",
       "      <td>-0.052411</td>\n",
       "      <td>-0.151272</td>\n",
       "      <td>0.063106</td>\n",
       "      <td>-0.035046</td>\n",
       "      <td>0.317724</td>\n",
       "      <td>-0.031872</td>\n",
       "      <td>...</td>\n",
       "      <td>0.008227</td>\n",
       "      <td>-0.015428</td>\n",
       "      <td>0.021300</td>\n",
       "      <td>0.013940</td>\n",
       "      <td>0.010022</td>\n",
       "      <td>0.004411</td>\n",
       "      <td>-0.017486</td>\n",
       "      <td>-0.027004</td>\n",
       "      <td>-0.000958</td>\n",
       "      <td>-0.030432</td>\n",
       "    </tr>\n",
       "    <tr>\n",
       "      <th>9997</th>\n",
       "      <td>93558</td>\n",
       "      <td>9</td>\n",
       "      <td>HPI: Patient is a 20 year old female complaini...</td>\n",
       "      <td>0.346863</td>\n",
       "      <td>-0.004302</td>\n",
       "      <td>-0.105752</td>\n",
       "      <td>-0.058549</td>\n",
       "      <td>0.356642</td>\n",
       "      <td>-0.056624</td>\n",
       "      <td>-0.097660</td>\n",
       "      <td>...</td>\n",
       "      <td>0.002809</td>\n",
       "      <td>-0.005362</td>\n",
       "      <td>0.000881</td>\n",
       "      <td>-0.005994</td>\n",
       "      <td>0.002043</td>\n",
       "      <td>-0.002307</td>\n",
       "      <td>0.000333</td>\n",
       "      <td>0.004124</td>\n",
       "      <td>0.003317</td>\n",
       "      <td>0.006118</td>\n",
       "    </tr>\n",
       "    <tr>\n",
       "      <th>9998</th>\n",
       "      <td>39819</td>\n",
       "      <td>3</td>\n",
       "      <td>35 y/o M c/o \"stomach really bothering me\" \\r\\...</td>\n",
       "      <td>0.295769</td>\n",
       "      <td>0.262856</td>\n",
       "      <td>0.064290</td>\n",
       "      <td>0.054147</td>\n",
       "      <td>-0.054798</td>\n",
       "      <td>-0.017688</td>\n",
       "      <td>-0.014978</td>\n",
       "      <td>...</td>\n",
       "      <td>0.007419</td>\n",
       "      <td>-0.004900</td>\n",
       "      <td>0.003524</td>\n",
       "      <td>-0.015975</td>\n",
       "      <td>0.008274</td>\n",
       "      <td>-0.000274</td>\n",
       "      <td>0.012374</td>\n",
       "      <td>0.008897</td>\n",
       "      <td>-0.003220</td>\n",
       "      <td>0.002562</td>\n",
       "    </tr>\n",
       "    <tr>\n",
       "      <th>9999</th>\n",
       "      <td>92636</td>\n",
       "      <td>9</td>\n",
       "      <td>20 y o F c/o headache, sudden onset x 2 days, ...</td>\n",
       "      <td>0.279428</td>\n",
       "      <td>0.018126</td>\n",
       "      <td>-0.133756</td>\n",
       "      <td>-0.112916</td>\n",
       "      <td>0.344049</td>\n",
       "      <td>-0.072938</td>\n",
       "      <td>-0.075320</td>\n",
       "      <td>...</td>\n",
       "      <td>0.009632</td>\n",
       "      <td>-0.000681</td>\n",
       "      <td>-0.002402</td>\n",
       "      <td>0.008590</td>\n",
       "      <td>-0.002165</td>\n",
       "      <td>0.007691</td>\n",
       "      <td>-0.021033</td>\n",
       "      <td>-0.008721</td>\n",
       "      <td>0.005131</td>\n",
       "      <td>-0.012487</td>\n",
       "    </tr>\n",
       "  </tbody>\n",
       "</table>\n",
       "<p>10000 rows × 1407 columns</p>\n",
       "</div>"
      ],
      "text/plain": [
       "      pn_num  case_num                                         pn_history  \\\n",
       "0      37895         3  Mr Hamilton is a 35 year old male complaining ...   \n",
       "1      20555         2  44 year old f with 3 year history or unpredict...   \n",
       "2      70540         7  35 yo F complains of irregular menstrual cycle...   \n",
       "3      82503         8  67 yo F present with insomina for the last 3 w...   \n",
       "4      90404         9  20-year-old female co headache x 1 day \\r\\n* s...   \n",
       "...      ...       ...                                                ...   \n",
       "9995   72988         7  35 yo f comes to the office co of problem with...   \n",
       "9996   41537         4  Ms. Moore is a 45 year old female who presents...   \n",
       "9997   93558         9  HPI: Patient is a 20 year old female complaini...   \n",
       "9998   39819         3  35 y/o M c/o \"stomach really bothering me\" \\r\\...   \n",
       "9999   92636         9  20 y o F c/o headache, sudden onset x 2 days, ...   \n",
       "\n",
       "             0         1         2         3         4         5         6  \\\n",
       "0     0.359222  0.343675  0.108686  0.103118 -0.055795 -0.047713 -0.004512   \n",
       "1     0.288994 -0.139732  0.137617  0.021303  0.041342  0.013760  0.015951   \n",
       "2     0.337212 -0.240513  0.359017  0.072237  0.069259  0.040155 -0.027472   \n",
       "3     0.205558 -0.102330 -0.176173  0.195617 -0.081420 -0.038823  0.012653   \n",
       "4     0.272254  0.042140 -0.104269 -0.080158  0.271678 -0.052540 -0.079025   \n",
       "...        ...       ...       ...       ...       ...       ...       ...   \n",
       "9995  0.358864 -0.296778  0.412633  0.092737  0.068084  0.020012  0.022336   \n",
       "9996  0.288686 -0.052411 -0.151272  0.063106 -0.035046  0.317724 -0.031872   \n",
       "9997  0.346863 -0.004302 -0.105752 -0.058549  0.356642 -0.056624 -0.097660   \n",
       "9998  0.295769  0.262856  0.064290  0.054147 -0.054798 -0.017688 -0.014978   \n",
       "9999  0.279428  0.018126 -0.133756 -0.112916  0.344049 -0.072938 -0.075320   \n",
       "\n",
       "      ...      1394      1395      1396      1397      1398      1399  \\\n",
       "0     ...  0.004821 -0.002703  0.014817  0.006085  0.001674  0.000387   \n",
       "1     ...  0.004470 -0.003090  0.007753 -0.015211 -0.003799  0.012597   \n",
       "2     ...  0.004874 -0.001152 -0.004981 -0.008906 -0.004106  0.008707   \n",
       "3     ...  0.015851  0.008453  0.014499 -0.007084 -0.009744  0.019334   \n",
       "4     ... -0.008419 -0.011026 -0.005550 -0.010678 -0.026419 -0.009070   \n",
       "...   ...       ...       ...       ...       ...       ...       ...   \n",
       "9995  ...  0.009990  0.002986  0.001396  0.015227 -0.012737  0.007229   \n",
       "9996  ...  0.008227 -0.015428  0.021300  0.013940  0.010022  0.004411   \n",
       "9997  ...  0.002809 -0.005362  0.000881 -0.005994  0.002043 -0.002307   \n",
       "9998  ...  0.007419 -0.004900  0.003524 -0.015975  0.008274 -0.000274   \n",
       "9999  ...  0.009632 -0.000681 -0.002402  0.008590 -0.002165  0.007691   \n",
       "\n",
       "          1400      1401      1402      1403  \n",
       "0    -0.008683 -0.011946 -0.008967 -0.004861  \n",
       "1    -0.000897 -0.008394 -0.018405 -0.020047  \n",
       "2    -0.003222  0.008107  0.016686 -0.008986  \n",
       "3    -0.002475  0.035429  0.023690 -0.010920  \n",
       "4     0.025168 -0.026367  0.018814  0.002551  \n",
       "...        ...       ...       ...       ...  \n",
       "9995  0.012555 -0.001133  0.004790 -0.009789  \n",
       "9996 -0.017486 -0.027004 -0.000958 -0.030432  \n",
       "9997  0.000333  0.004124  0.003317  0.006118  \n",
       "9998  0.012374  0.008897 -0.003220  0.002562  \n",
       "9999 -0.021033 -0.008721  0.005131 -0.012487  \n",
       "\n",
       "[10000 rows x 1407 columns]"
      ]
     },
     "execution_count": 174,
     "metadata": {},
     "output_type": "execute_result"
    }
   ],
   "source": [
    "\n",
    "n_components = min(sparse_tfidf_matrix.shape)\n",
    "svd = TruncatedSVD(n_components=n_components)\n",
    "    \n",
    "t0 = time()\n",
    "X_lsa = svd.fit(sparse_tfidf_matrix)\n",
    "cumulative_variance = np.cumsum(svd.explained_variance_ratio_)\n",
    "\n",
    "# Keep first k components that explain 90% of total variance\n",
    "k = np.where(cumulative_variance >= 0.90)[0][0] + 1\n",
    "k_singular_values = svd.transform(sparse_tfidf_matrix)[:, :k]\n",
    "\n",
    "print(f\"LSA done in {time() - t0:.3f} s\")\n",
    "print(f\"Number of components explaining 90% of variance: {k}\")\n",
    "\n",
    "# normalize the singular values\n",
    "X = Normalizer(copy=False).fit_transform(k_singular_values)\n",
    "df = pd.concat([patient[['pn_num','case_num','pn_history']].reset_index(drop=True),pd.DataFrame(X).reset_index(drop=True)], axis=1)\n",
    "df\n"
   ]
  },
  {
   "cell_type": "markdown",
   "id": "bc41a87d",
   "metadata": {},
   "source": [
    "## Manifold techniques\n",
    "\n",
    "I used various manifold techniques to again perform dimension reduction, representing the data in 2, 3, and 4 dimensions. "
   ]
  },
  {
   "cell_type": "code",
   "execution_count": 181,
   "id": "ee1d26fc",
   "metadata": {},
   "outputs": [],
   "source": [
    "\n",
    "def embeddings_dict_n_components(n_components=2, n_neighbors=30, n_jobs=-1):\n",
    "    \"\"\"Returns a dictionary of embeddings with n components\n",
    "    Embeddings used are PCA, t-SNE, Isomap, LLE, Modified LLE, & UMAP\n",
    "    \"\"\"\n",
    "    embeddings = {\n",
    "        f\"PCA_{n_components}_comp\": PCA(\n",
    "                                        n_components=n_components,\n",
    "                                        random_state=42,\n",
    "                                        ),\n",
    "        f\"t-SNE_{n_components}_comp\": TSNE(\n",
    "                                        n_components=n_components,\n",
    "                                        n_iter=500,\n",
    "                                        n_iter_without_progress=150,\n",
    "                                        random_state=42,\n",
    "                                        method='exact',\n",
    "                                        n_jobs=n_jobs\n",
    "                                        ),\n",
    "        f\"Isomap_{n_components}_comp\": Isomap(n_neighbors=n_neighbors,\n",
    "                                             n_components=n_components,\n",
    "                                             n_jobs=n_jobs),\n",
    "        f\"Stand-LLE_{n_components}_comp\": LocallyLinearEmbedding(\n",
    "                                                        n_neighbors=n_neighbors,\n",
    "                                                        n_components=n_components,\n",
    "                                                        method=\"standard\",\n",
    "                                                        n_jobs=n_jobs\n",
    "                                                        ),\n",
    "        f\"Mod-LLE_{n_components}_comp\": LocallyLinearEmbedding(\n",
    "                                            n_neighbors=n_neighbors,\n",
    "                                            n_components=n_components,\n",
    "                                            method=\"modified\",\n",
    "                                            n_jobs=n_jobs\n",
    "                                            ),\n",
    "        f\"HessianLLE_{n_components}_comp\": LocallyLinearEmbedding(\n",
    "                                                        n_neighbors=n_neighbors,\n",
    "                                                        n_components=n_components,\n",
    "                                                        method=\"hessian\",\n",
    "                                                        eigen_solver='dense',\n",
    "                                                        n_jobs=n_jobs\n",
    "                                                        ),\n",
    "        f\"UMAP_{n_components}_comp\": umap.UMAP(\n",
    "                                                n_neighbors=n_neighbors,\n",
    "                                                n_components=n_components,)\n",
    "    }\n",
    "    return embeddings\n",
    "\n",
    "embeddings = []\n",
    "dimensions_upper_bound = 4\n",
    "for n_comp in range(2,dimensions_upper_bound+1):\n",
    "    embeddings.append(embeddings_dict_n_components(n_components=n_comp))\n",
    "\n"
   ]
  },
  {
   "cell_type": "markdown",
   "id": "0404523c",
   "metadata": {},
   "source": [
    "The 2 and 3 dimension representations are then plotted to show how well each technique was able to separate the data. The original labels for the patiet's case were used to color the datapoints, and the data for almost all the techniques are separated according to these labels.\n",
    "\n",
    "It's important to note that the goal with these unsupervised methods is not necessarily to separate the data according to these labels, as other types of groupings could prove to provide useful information. However, it is also helpful to see that LSM combined with these various embeddings performed very well in separating the data according to the pre-defined cases."
   ]
  },
  {
   "cell_type": "code",
   "execution_count": 182,
   "id": "4b036dc1",
   "metadata": {},
   "outputs": [],
   "source": [
    "\n",
    "def plot_embeddings(X, y, title, axes, dimensions=2, shorten_axes_labels=True):\n",
    "    \"\"\"Plot the embedding with either 2 or 3 dimensions\"\"\"\n",
    "    y=y.astype(str)\n",
    "    height = 400\n",
    "    width = 500\n",
    "\n",
    "    if shorten_axes_labels:\n",
    "        for i in range(len(axes)):\n",
    "            axes[i] = axes[i][-3:]\n",
    "\n",
    "    if dimensions == 2:\n",
    "        fig = px.scatter(x=X[0], y=X[1], color=y, title=title)\n",
    "        fig.update_layout(width=width,height=height,xaxis_title=axes[0],yaxis_title=axes[1])\n",
    "\n",
    "    if dimensions == 3:\n",
    "        fig = px.scatter_3d(x=X[0], y=X[1], z=X[2],color=y, title=title)\n",
    "        fig.update_layout(scene = dict(xaxis_title=axes[0],yaxis_title=axes[1],zaxis_title=axes[2]),\n",
    "                          width=width,height=height)\n",
    "    \n",
    "    return fig\n"
   ]
  },
  {
   "cell_type": "code",
   "execution_count": 183,
   "id": "121b03f4",
   "metadata": {},
   "outputs": [
    {
     "name": "stdout",
     "output_type": "stream",
     "text": [
      "Fitting PCA_2_comp...Done ✔️\n",
      "Fitting t-SNE_2_comp...Done ✔️\n",
      "Fitting Isomap_2_comp...Done ✔️\n",
      "Fitting Stand-LLE_2_comp...Done ✔️\n",
      "Fitting Mod-LLE_2_comp...Done ✔️\n",
      "Fitting HessianLLE_2_comp...Done ✔️\n",
      "Fitting UMAP_2_comp...Done ✔️\n",
      "Fitting PCA_3_comp...Done ✔️\n",
      "Fitting t-SNE_3_comp...Done ✔️\n",
      "Fitting Isomap_3_comp...Done ✔️\n",
      "Fitting Stand-LLE_3_comp...Done ✔️\n",
      "Fitting Mod-LLE_3_comp...Done ✔️\n",
      "Fitting HessianLLE_3_comp...Done ✔️\n",
      "Fitting UMAP_3_comp...Done ✔️\n",
      "Fitting PCA_4_comp...Done ✔️\n",
      "Fitting t-SNE_4_comp..."
     ]
    }
   ],
   "source": [
    "embeddings_dfs = {}\n",
    "figs = []\n",
    "\n",
    "for i in range(len(embeddings)):\n",
    "    for title, model in embeddings[i].items():\n",
    "        \n",
    "        print(f\"Fitting {title}...\",end='', flush=True)\n",
    "        t0 = time()\n",
    "        X_reduced =  model.fit_transform(X)\n",
    "        print(\"Done ✔️\")\n",
    "        fit_time = f\" - {time() - t0:.3f} sec.\"\n",
    "        X_reduced = X_reduced.T\n",
    "        columns = [f\"{title}_c_{i}\" for i in range(1,i+3)]\n",
    "        embedding_df = pd.DataFrame(X_reduced.T, columns=columns)\n",
    "        embedding_df['case_num'] = df['case_num']\n",
    "        if i < 2:\n",
    "            figs.append(plot_embeddings(X_reduced, df['case_num'], title+fit_time, columns, model.n_components))\n",
    "        embeddings_dfs[title] = embedding_df"
   ]
  },
  {
   "cell_type": "markdown",
   "id": "faba24f2",
   "metadata": {},
   "source": [
    "We note from the figures below that separation and density among the clusters varies according to the embedding employed and the number of dimensions.\n",
    "\n",
    "UMAP in 3 dimensions and T-SNE in 2 dimensions perform exceptionally well (at least from simply looking at the plots)."
   ]
  },
  {
   "cell_type": "code",
   "execution_count": null,
   "id": "07eb9bd7",
   "metadata": {},
   "outputs": [
    {
     "data": {
      "application/vnd.plotly.v1+json": {
       "config": {
        "plotlyServerURL": "https://plot.ly"
       },
       "data": [
        {
         "hovertemplate": "color=5<br>x=%{x}<br>y=%{y}<extra></extra>",
         "legendgroup": "5",
         "marker": {
          "color": "#636efa",
          "symbol": "circle"
         },
         "mode": "markers",
         "name": "5",
         "orientation": "v",
         "showlegend": true,
         "type": "scatter",
         "x": [
          -0.06248405497384845,
          -0.04780307702842179,
          -0.08292900681548347,
          -0.06068368762415186,
          -0.10247453001574804,
          -0.12738635492475778,
          -0.1424383565215596,
          -0.07093887334578146,
          -0.11526848781612632,
          -0.15427155770065712,
          -0.05903922212855187,
          -0.10631839291798018,
          -0.08135828043241321,
          -0.07633516201422277,
          -0.08043944625393765,
          -0.09012669990230177,
          -0.09390513139067272,
          -0.1489099547153842,
          -0.07478785005611258,
          -0.10714527407662815,
          -0.1124359423592335,
          -0.027010204664293276,
          -0.06855320919640609,
          -0.07809482658459058,
          -0.07236449701618217,
          -0.05583730120514571,
          -0.08924862574349883,
          -0.14828954945439218,
          -0.04482501875521625,
          -0.11150429762896126,
          -0.007070357845577216,
          -0.07994657648305757,
          -0.1431486826346407,
          -0.14354845664203883,
          -0.07272408386878691,
          -0.12012510892206503,
          -0.12296421509164765,
          -0.13840880225837116,
          -0.11549895142407733,
          -0.06891103520131259,
          -0.06708610368717773,
          -0.12916910822924707,
          -0.11247878907903029,
          -0.1347581136468843,
          -0.05493730578091471,
          -0.12097231738448495,
          -0.046304414726235456,
          -0.1042562079976206,
          -0.08353154690580135,
          -0.08675506543877531,
          -0.11343021908972903,
          -0.07998555166852783,
          -0.0954854193022575,
          -0.1387050897701244,
          -0.13203511249725383,
          -0.09817684533164435,
          -0.08889794925620154,
          -0.09240154387750597,
          -0.10595843867390728,
          -0.10044243275079329,
          -0.11251817288919787,
          -0.13966184156657693,
          -0.1286142066788139,
          -0.11259984174741104,
          -0.11117895587470887,
          -0.09064016439087819,
          -0.06970118252481296,
          -0.12032722838619793,
          -0.10758230352565612,
          -0.07004283736278234,
          -0.12369246938505084,
          -0.09494509503792868,
          -0.13136139910433645,
          -0.04196290244377836,
          -0.05739985083089683,
          -0.10894981765850482,
          -0.14481700600930747,
          -0.06808570411298043,
          -0.07153021061500069
         ],
         "xaxis": "x",
         "y": [
          -0.13510172182441713,
          -0.12131565012976984,
          -0.1213252067069812,
          -0.17246895309782004,
          -0.1441591932202769,
          -0.1561944527362956,
          -0.17403558055012652,
          -0.12973112409155216,
          -0.08519773609563124,
          -0.17524566014712178,
          -0.11297492010679486,
          -0.14084508430132986,
          -0.12164816797358985,
          -0.07421854362002524,
          -0.18661503299878668,
          -0.122331138546371,
          -0.13617928855556533,
          -0.1739257125268933,
          -0.06798980292126029,
          -0.16012883881362133,
          -0.13032526467150407,
          -0.08916493724769016,
          -0.15191462112879564,
          -0.15502151599431488,
          -0.12715119031040253,
          -0.06259515827417991,
          -0.151531294305506,
          -0.15694736872517331,
          -0.12218002328696706,
          -0.11786903221612938,
          -0.06755294771966727,
          -0.16871280348392367,
          -0.15865181070478107,
          -0.09456772346409557,
          -0.11856819617047719,
          -0.1745454690302995,
          -0.12060077271566862,
          -0.10154854533396265,
          -0.15132293806443795,
          -0.06396847223442152,
          -0.07677227350154546,
          -0.1395473892409921,
          -0.1133085900098325,
          -0.0506091209869532,
          -0.06562257385993846,
          -0.13431514410793094,
          -0.13615075532818074,
          -0.13086948821718553,
          -0.150934725332879,
          -0.05177331263930763,
          -0.09340783800839718,
          -0.08480165885439175,
          -0.10683165033483359,
          -0.1841668355751374,
          -0.14454413582564074,
          -0.11318687252366005,
          -0.12704431008037925,
          -0.13362030842760575,
          -0.10335496795683904,
          -0.09871220155718431,
          -0.11502036162145933,
          -0.09796765781363458,
          -0.13361138599042832,
          -0.1738282330537853,
          -0.13749040936048132,
          -0.12482885899641291,
          -0.1865526733990772,
          -0.1228513742206932,
          -0.19708568266359958,
          -0.03845100489540066,
          -0.15855978270923143,
          -0.05837775741519101,
          -0.10969326496797796,
          -0.13360832571201262,
          -0.11167785579699652,
          -0.18432198566783525,
          -0.052781951071896066,
          -0.13126636647900808,
          -0.10391889828592835
         ],
         "yaxis": "y"
        },
        {
         "hovertemplate": "color=6<br>x=%{x}<br>y=%{y}<extra></extra>",
         "legendgroup": "6",
         "marker": {
          "color": "#EF553B",
          "symbol": "circle"
         },
         "mode": "markers",
         "name": "6",
         "orientation": "v",
         "showlegend": true,
         "type": "scatter",
         "x": [
          -0.04418106569486533,
          -0.015414671107651079,
          0.016621122521168936,
          -0.005957008433441594,
          0.02469376362691031,
          -0.00497679165569278,
          -0.009573821231649937,
          0.027690830912644984,
          -0.027417959994554448,
          -0.0031338336063838133,
          0.006899701227304736,
          -0.010747340739572587,
          0.05097650010371899,
          -0.01476422690851742,
          0.005943179297756296,
          -0.03770983209052447,
          -0.057776167532030596,
          0.002777834810722151,
          -0.029676003292822224,
          -0.024420136240921
         ],
         "xaxis": "x",
         "y": [
          -0.04041779622278742,
          -0.040634402397578345,
          -0.0428884802490035,
          -0.028453810220291358,
          -0.050997858484911576,
          -0.05753945529105514,
          -0.025199524169334464,
          -0.03269778435270957,
          -0.04408844922285114,
          -0.05523063077724867,
          -0.07688557713821186,
          -0.026316376981093025,
          -0.0528061174837701,
          -0.030972713330622386,
          -0.027581323216420837,
          -0.0396244906914841,
          -0.04726941785286681,
          -0.021807518451241698,
          -0.024972876259505627,
          -0.001815905389131877
         ],
         "yaxis": "y"
        },
        {
         "hovertemplate": "color=3<br>x=%{x}<br>y=%{y}<extra></extra>",
         "legendgroup": "3",
         "marker": {
          "color": "#00cc96",
          "symbol": "circle"
         },
         "mode": "markers",
         "name": "3",
         "orientation": "v",
         "showlegend": true,
         "type": "scatter",
         "x": [
          0.31312574038566626,
          0.22457174256539827,
          0.3175299727824599,
          0.3872072228305191,
          0.2808260459201111,
          0.3229898325948249,
          0.36156488388724944,
          0.2825098822304374,
          0.33717993774887545,
          0.39042857488153476,
          0.3785363669286354,
          0.321060320440253,
          0.24282060120323976,
          0.456175055130826,
          0.2919661198312842,
          0.31008429099848667,
          0.28607087632598815,
          0.3323017411991257,
          0.23918915996798182,
          0.328982898174543,
          0.22993024404544643,
          0.31786323756584217,
          0.35142507483993773,
          0.3696620646383235,
          0.3462099378232368,
          0.3057244539653254,
          0.2943062108352197,
          0.19028410816132157,
          0.3274051112168289,
          0.3064131977855726,
          0.33267768913685475,
          0.30730492925752484,
          0.4261278139539914,
          0.375293302962337,
          0.26078264617954466,
          0.3326199504667858,
          0.2590984780508724,
          0.2997623555059516,
          0.3264746693425905,
          0.2874256033113122,
          0.3639672231987574,
          0.21858759570608588,
          0.32527128309392067,
          0.49150483753228524,
          0.26546480587953847,
          0.3234191606654947,
          0.41413561313838254,
          0.26956082254595737,
          0.31942614022428806,
          0.34643015954397705,
          0.4145976919106796,
          0.21376144676036876,
          0.2503131830014701,
          0.28579125547726386,
          0.24135824329181957,
          0.2554247747660863,
          0.3245053278909425,
          0.24074139365858266,
          0.3797433348353486,
          0.3035562755915472,
          0.3399685052242722,
          0.28105307835151233,
          0.34022761697192916,
          0.2967847537866323,
          0.314876098981872,
          0.3718771593894307,
          0.3883992758478134,
          0.3123980296623766,
          0.3238819111856013,
          0.42620120293640384,
          0.27992449775167527,
          0.3695106468747318,
          0.40819300524989055,
          0.3615648838872494,
          0.36620857506816074,
          0.2769144459043948,
          0.3345929800775167,
          0.188618153529537,
          0.3850860203149328,
          0.2565581230233784,
          0.26950613477690294,
          0.3201554590006905,
          0.3261815792883006,
          0.21515869118874542,
          0.43015718473397785,
          0.3494925975301482,
          0.23895265223735684,
          0.24110730576336403,
          0.24611701394093002,
          0.2808158327179389,
          0.2952602255556245,
          0.36270913347528777,
          0.4291449629298533,
          0.2929965465796122,
          0.23719911173047228,
          0.3517421264523294,
          0.30709035579728255,
          0.34850730017637277,
          0.2587582849735381,
          0.23670512470730343,
          0.245357565068985,
          0.27336731689582033,
          0.3852013690413767,
          0.40446566424791525,
          0.32329728786334233,
          0.28426091228463773,
          0.3180141685508949,
          0.2848852409326362,
          0.3499510647141753,
          0.3619733398686822,
          0.35201614693890054,
          0.37554704747407325,
          0.21953025985740604,
          0.2891934082382833,
          0.32102702971097613,
          0.35153160756535023,
          0.24205238909878402,
          0.2985851373610133,
          0.18769730102398,
          0.3380873096913045,
          0.3499185957025675,
          0.36707580487717345,
          0.2554247747660863,
          0.3163729190090364,
          0.28280111702668054,
          0.3259896287464878,
          0.2428281243953328,
          0.36710921643914085,
          0.2115860708218754,
          0.20969895154510132,
          0.3948535670482164,
          0.31114940132707647,
          0.3985416272888704
         ],
         "xaxis": "x",
         "y": [
          0.006473006190835388,
          0.0008579435529135558,
          0.0017454435442001608,
          0.009139756536185,
          -0.02874516456398716,
          0.03556946988503625,
          0.018043794262323755,
          0.08506813057017108,
          0.05022863934495483,
          0.019460672637353797,
          0.059543519151327065,
          0.04736316131313578,
          0.05046047092099773,
          0.02910697757975519,
          0.03688605588867819,
          0.02038207525509076,
          -0.010722504022399588,
          0.006316309964261707,
          0.031195321968074757,
          0.03508921031418993,
          -0.05721548193088085,
          -0.00017662329169097456,
          -0.009390697208395207,
          0.011232217931457877,
          -0.02636777403198654,
          -0.007624495976169752,
          0.0536123251273601,
          -0.055221842812952705,
          0.044538509697488314,
          -0.00394381186807257,
          0.07366977137741891,
          0.006082507953742743,
          -0.0022231942717048534,
          -0.02955450819064712,
          0.02256407166697381,
          0.002594526645538549,
          0.017740992443109536,
          -0.02700977468993341,
          0.0008765481709158569,
          0.06658273600831469,
          0.04377836719108468,
          -0.014878185808496088,
          0.0423237747661757,
          -0.00046841330981253033,
          -0.03591742781267491,
          0.02746978990686648,
          0.055479171638498595,
          0.015187575410930909,
          0.013460907026837584,
          -0.004507128021200202,
          0.06469830648911916,
          -0.01699389531271754,
          0.024153380573965218,
          -0.0061883999135327085,
          0.01578387695744246,
          0.12084489622695853,
          -0.003669597736773956,
          0.020187236108927985,
          0.09259462496638006,
          0.00993337587055091,
          0.0005404179335224258,
          -0.06374608973601006,
          -0.003717864614728141,
          0.09198128860411144,
          -0.012245674353620678,
          0.02847515277509135,
          0.026219888515605805,
          0.01828097840224135,
          -0.01743967303090697,
          0.07816781667945669,
          -0.03226405524807653,
          0.051350531778744615,
          0.031596155565237594,
          0.01804379426232376,
          0.02938185687645875,
          0.08858309972075444,
          -0.006505595970049067,
          -0.012238023892017398,
          0.05528448923543792,
          0.017223710364133987,
          -0.019957965593194904,
          0.03505113290117553,
          -0.013201693922110997,
          -0.007672726955652319,
          0.024600657665686518,
          0.05403824150168732,
          0.021182740689068825,
          -0.03088169440272579,
          -0.02523338282488376,
          0.05596100975312297,
          -0.005647340873918418,
          0.007734368258826477,
          0.04732579364229036,
          0.02631886434089486,
          -0.0065550970964271945,
          0.001325916413880316,
          -0.03552339884311153,
          0.09978549101874017,
          0.0025347557154457106,
          0.033259273269239616,
          -0.02383246361720372,
          0.028546256667980646,
          -0.009645513996755858,
          0.05685486729973678,
          0.00849270530828728,
          0.024224182038530127,
          0.03722857442539028,
          -0.0008537595482431655,
          0.00022368996910598454,
          0.07554558924068648,
          0.049703932339755515,
          0.013984522160128706,
          -0.009800596356056778,
          0.01841539648583609,
          0.04569315543671364,
          -0.004060542901135434,
          0.021026705869786715,
          -0.008379110161996842,
          -0.00719403914532828,
          0.045899323717392575,
          0.003052248343863352,
          0.008290213474971617,
          0.12084489622695853,
          0.003504157764961816,
          0.01572029939755341,
          -0.014614765007982101,
          -0.006899972493543094,
          0.007079149016353977,
          0.05567029176814138,
          -0.019439379776118988,
          0.02847766315719275,
          0.04598060037601515,
          0.03510160638458133
         ],
         "yaxis": "y"
        },
        {
         "hovertemplate": "color=4<br>x=%{x}<br>y=%{y}<extra></extra>",
         "legendgroup": "4",
         "marker": {
          "color": "#ab63fa",
          "symbol": "circle"
         },
         "mode": "markers",
         "name": "4",
         "orientation": "v",
         "showlegend": true,
         "type": "scatter",
         "x": [
          -0.07532990940019034,
          -0.11888249440694755,
          -0.09339926156041947,
          -0.14268928156251764,
          -0.13380287389294265,
          -0.08027293663770975,
          -0.1686767809146675,
          -0.15506055923973638,
          -0.11525828448960844,
          -0.14164299815532286,
          -0.14883194936659552,
          -0.11865572294062261,
          -0.12023150708791218,
          -0.11944647115662295,
          -0.11951250127393348,
          -0.13946312169260913,
          -0.15255478356756308,
          -0.13766402244604634,
          -0.2144313208499269,
          -0.13001653816019768,
          -0.18741134832941023,
          -0.12822587037901695,
          -0.06187634265832028,
          -0.11786700723212355,
          -0.10780523636747061,
          -0.16244656188068662,
          -0.12988613802306959,
          -0.16397281014640117,
          -0.17541245143584988,
          -0.20073565376242108,
          -0.08119572019814048,
          -0.09972111335369091,
          -0.13141035040773055,
          -0.11271863634222931,
          -0.15415640707237882,
          -0.1088663784451231,
          -0.11860735836815801,
          -0.1422847879121366,
          -0.11234668331229138,
          -0.12748164581329535,
          -0.07841042947183861,
          -0.12543519625153832,
          -0.1544748416624535,
          -0.15636234297648152,
          -0.11263627316691761,
          -0.15205769920138362,
          -0.10240904984618235,
          -0.12594172468568346,
          -0.0844218289664484,
          -0.08452941263767075,
          -0.08823442782691966,
          -0.1650880427883577,
          -0.0472671281014999,
          -0.12443555239788981,
          -0.061644931959958814,
          -0.06909390306544311,
          -0.1299609562525362
         ],
         "xaxis": "x",
         "y": [
          0.07285698140340258,
          0.12680109979301787,
          0.14731727896336722,
          0.17473510811239043,
          0.10650682616334022,
          0.08723208552235993,
          0.18345244519389317,
          0.109183672020348,
          -0.0004414184010873408,
          0.1596437574530024,
          0.15473131484358746,
          0.16223953417474288,
          0.1982044990717899,
          0.14841486174908408,
          0.15890085471964965,
          0.08178265734412912,
          0.12476547678255615,
          0.1969409235246368,
          0.15440231886543013,
          0.20392793364370515,
          0.16276487298901762,
          0.12018767553137776,
          0.08582354519291838,
          0.07344797012129446,
          0.05941294250489488,
          0.15239384554353225,
          0.1065202242336125,
          0.2039443925627238,
          0.18263594647513479,
          0.047252089379816946,
          0.05055492344882145,
          0.0888527439838253,
          0.16992350346379617,
          0.1552459905787859,
          0.21544478692113653,
          0.0624059601343192,
          0.14157680321296565,
          0.22157544757177128,
          0.13604099329896624,
          0.15003459815097922,
          0.06277511462180291,
          0.1632927930583494,
          0.07667533254174215,
          0.20967401751196543,
          0.1900179342554275,
          0.12688682168493784,
          0.1418472281201252,
          0.10194861011452135,
          0.15327151237533027,
          0.08390179955600367,
          0.06790830605145426,
          0.2745144891837233,
          0.0654035014833174,
          0.15322415282302942,
          0.12807646968920514,
          0.09417771878442759,
          0.151893528091916
         ],
         "yaxis": "y"
        },
        {
         "hovertemplate": "color=0<br>x=%{x}<br>y=%{y}<extra></extra>",
         "legendgroup": "0",
         "marker": {
          "color": "#FFA15A",
          "symbol": "circle"
         },
         "mode": "markers",
         "name": "0",
         "orientation": "v",
         "showlegend": true,
         "type": "scatter",
         "x": [
          -0.08137282645764865,
          -0.11536831172253564,
          -0.07164243319587267,
          -0.0795941567446415,
          -0.07150099482951541,
          -0.04758910422088703,
          -0.06316328979126443,
          -0.06900890684180429,
          -0.06378574701296645,
          -0.07970237198652609,
          -0.04163489955990877,
          -0.046731678007016296,
          -0.0917316594177258,
          -0.0643547718809287,
          -0.10486189266897257,
          -0.03569935963999208,
          -0.07172738551783424,
          -0.06458917482728031,
          -0.06489485701548567,
          -0.06817560177621373,
          -0.06579468969728812,
          -0.07331090560260911,
          -0.051580073642829516,
          -0.06721379601971672,
          -0.053474902086661516
         ],
         "xaxis": "x",
         "y": [
          -0.052117912586952954,
          -0.06911434998422578,
          -0.09020283491441106,
          -0.06599199862935685,
          -0.05042237532996172,
          -0.09095581043857212,
          -0.1461575474556435,
          -0.029110459468126976,
          0.027041300352311136,
          -0.10316460514465442,
          -0.11827111419318355,
          -0.08537472149318888,
          -0.12170500681566579,
          -0.004979257105621896,
          -0.11317902956737147,
          -0.030850506933478256,
          -0.05733114363388758,
          -0.06545162383876194,
          -0.15249004696905882,
          -0.08195711607008616,
          -0.02800050622351456,
          -0.01884330432244729,
          -0.07199030086266174,
          -0.04099046862015641,
          -0.08136519717553985
         ],
         "yaxis": "y"
        },
        {
         "hovertemplate": "color=9<br>x=%{x}<br>y=%{y}<extra></extra>",
         "legendgroup": "9",
         "marker": {
          "color": "#19d3f3",
          "symbol": "circle"
         },
         "mode": "markers",
         "name": "9",
         "orientation": "v",
         "showlegend": true,
         "type": "scatter",
         "x": [
          -0.02059018295209373,
          -0.038450301571160805,
          -0.0040497809786207,
          -0.042041611389406805,
          -0.008966553715176673,
          -0.05246954953171422,
          -0.017080392155552123,
          -0.04333741611298774,
          -0.07303685450131385,
          -0.05887069395863385,
          -0.09985161195050535,
          -0.05023550802353867,
          -0.022358340737033643,
          -0.031235605325768967,
          -0.06318832532118035,
          -0.039722992004951274,
          -0.02384576136639657,
          -0.030872267307038136,
          -0.03737360835610548,
          -0.0026834549101628635,
          -0.026947695121200713,
          -0.024150942458959476,
          -0.030284682421942533,
          -0.004609617537589836,
          -0.05335711247277101,
          -0.008258387317592212,
          -0.029093855117798457,
          -0.09416632581215988,
          -0.050577716140255184,
          -0.08165672251766712,
          -0.06479090430669665,
          -0.0207540581803482,
          -0.05260298921065248,
          -0.02765626726788822,
          -0.04077632479120639,
          -0.047195673102947575,
          -0.056114806472077165,
          -0.043329134858545865,
          -0.00376962233153541,
          -0.0215717000757228,
          -0.024703209837839253,
          -0.028520127115606895,
          -0.05720234956447232,
          -0.03810440577645956,
          -0.06379948688991428,
          -0.00599150162532145,
          -0.032691547838096274,
          -0.06075830882040421,
          -0.05584597850717563,
          -0.03767473252479274,
          -0.0023847533565583257,
          -0.024676727035782765,
          -0.024782464925504982,
          -0.08308545654932252,
          -0.03626621738499291,
          -0.051595820130771575,
          -0.10284131010948787,
          -0.0889476180925576,
          -0.005281715348898489,
          -0.0247908326233398,
          -0.04707851980672985,
          -0.036895021542623814
         ],
         "xaxis": "x",
         "y": [
          -0.022769494701616322,
          -0.022554647839314667,
          -0.04246100762062882,
          0.009342736435274562,
          -0.06166658671675912,
          -0.04107355407122883,
          -0.06354860671480793,
          0.023861063089864076,
          -0.09907958337366614,
          0.00432863782979527,
          -0.05200296212227443,
          -0.0055654562969615915,
          -0.06125923098541427,
          -0.011787449515332551,
          0.010659819232104139,
          -0.05851931009999793,
          -0.030802742450154724,
          -0.007666486006976142,
          -0.004603697923380973,
          0.0174218114730273,
          -0.016648866820693813,
          -0.02768779342388903,
          0.0315375362354155,
          -0.015001980968786726,
          -0.0453150421599518,
          -0.026696261119849643,
          -0.03822937661892623,
          -0.12301797743060695,
          -0.041257564491154246,
          -0.09074362434203981,
          -0.05403315470749961,
          -0.012100214776974538,
          -0.0035147826763936955,
          -0.06605932862399629,
          -0.00466679712000713,
          -0.07220873313613366,
          -0.06930717780912814,
          -0.05421763750911963,
          -0.08737364470924368,
          -0.03449146940685356,
          -0.06911241121026086,
          -0.0812048785736236,
          -0.04981612205712233,
          -0.03968794464190137,
          -0.005514681591194611,
          -0.057319215531017945,
          -0.0015197370315450313,
          -0.017602776985124455,
          -0.013448955551172068,
          0.010629693976871517,
          -0.008517516011173518,
          -0.0005425334659329853,
          -0.03639320617621374,
          0.036789556587674424,
          -0.021838514709677792,
          -0.09480699266822731,
          -0.05552160640468683,
          -0.0007987472700852312,
          -0.033966109372735497,
          -0.0656928459876153,
          0.02239231266327666,
          0.015593684330141274
         ],
         "yaxis": "y"
        },
        {
         "hovertemplate": "color=7<br>x=%{x}<br>y=%{y}<extra></extra>",
         "legendgroup": "7",
         "marker": {
          "color": "#FF6692",
          "symbol": "circle"
         },
         "mode": "markers",
         "name": "7",
         "orientation": "v",
         "showlegend": true,
         "type": "scatter",
         "x": [
          -0.17578409326126732,
          -0.22776554620814746,
          -0.21267302373640984,
          -0.15330283541637021,
          -0.15762283779711628,
          -0.2055267246899414,
          -0.14881030297695463,
          -0.14045529819643304,
          -0.21738815505089368,
          -0.19197648012414,
          -0.2306980672205695,
          -0.23079115881218407,
          -0.1783049693949431,
          -0.21292562076428095,
          -0.1705555937505728,
          -0.21007804405231995,
          -0.21540323925894714,
          -0.23389963658087987,
          -0.17180435156407778,
          -0.232877363734383,
          -0.1504437638268969,
          -0.2806823210789406,
          -0.14198933143093476,
          -0.12671204563022995,
          -0.2630717417867041,
          -0.22356571493736205,
          -0.17665254303267575,
          -0.22304282161800162,
          -0.07806858944648527,
          -0.16827408193810572,
          -0.13312983698404673,
          -0.23627448500058687,
          -0.12620104335868676,
          -0.13620258142571398,
          -0.2418463965980388,
          -0.14909332028510497,
          -0.16496027122065252,
          -0.14445243866551188,
          -0.2108313177806703,
          -0.15696977059269157,
          -0.23656498783370486,
          -0.1800306723152302,
          -0.21850083367476666,
          -0.27367130042860055,
          -0.13244174288460558,
          -0.1823877547146676,
          -0.18310212508424611,
          -0.13973148212903944,
          -0.1843111240703903,
          -0.1617958243415012,
          -0.2125466156099274,
          -0.17560064710781298,
          -0.2490069583492559,
          -0.1674245604475343
         ],
         "xaxis": "x",
         "y": [
          -0.2135850367380019,
          -0.2518201347793846,
          -0.30789924163724935,
          -0.19061024757987804,
          -0.23689428122185854,
          -0.1995187095690977,
          -0.23350610975994804,
          -0.1359192616497346,
          -0.27440917274322263,
          -0.22150862204452915,
          -0.311930601324559,
          -0.2622353605371461,
          -0.202294937858966,
          -0.24057672531826527,
          -0.2726576053509005,
          -0.2439110475146636,
          -0.29663517299131803,
          -0.31801828863003334,
          -0.25852211352157817,
          -0.3256324901508565,
          -0.13150134636344216,
          -0.33723940389814056,
          -0.22015132925818265,
          -0.1684640314716398,
          -0.2366137937379456,
          -0.3308577083187589,
          -0.27899437062598736,
          -0.2998266704377151,
          -0.11053497574580204,
          -0.308906870708375,
          -0.24823027550905008,
          -0.2991381195842487,
          -0.2068100256277813,
          -0.21762663621281994,
          -0.3556777429262207,
          -0.23020447368853006,
          -0.22459650270968692,
          -0.19065147716208292,
          -0.3114017260039111,
          -0.18418764787725805,
          -0.3098793606671687,
          -0.26607978191086396,
          -0.2513475835033607,
          -0.22329329619183344,
          -0.18089555193061269,
          -0.2644462147288244,
          -0.21548078758765132,
          -0.15300722900221425,
          -0.2585885935603512,
          -0.21594381021675607,
          -0.2325618718871378,
          -0.16359767750084886,
          -0.3382634263839178,
          -0.17551433264175287
         ],
         "yaxis": "y"
        },
        {
         "hovertemplate": "color=8<br>x=%{x}<br>y=%{y}<extra></extra>",
         "legendgroup": "8",
         "marker": {
          "color": "#B6E880",
          "symbol": "circle"
         },
         "mode": "markers",
         "name": "8",
         "orientation": "v",
         "showlegend": true,
         "type": "scatter",
         "x": [
          -0.22636383848390598,
          -0.18989103541043686,
          -0.19555077235814963,
          -0.20162039633490736,
          -0.12581243104937914,
          -0.21021381166694422,
          -0.2043299491970991,
          -0.19775330478917097,
          -0.21913942432059996,
          -0.18102410078967482,
          -0.23563827148575817,
          -0.19049377610342366,
          -0.20199478196346612,
          -0.1436274814300999,
          -0.23103544699415002,
          -0.15702836049184238,
          -0.15540539796011996,
          -0.18519614128242912,
          -0.18777181486908245,
          -0.16029528219386777,
          -0.24083885486237128,
          -0.1811821551540604,
          -0.2448128945603905,
          -0.19737595358575757,
          -0.19626398791062313,
          -0.21088949300392268,
          -0.16115781611858523,
          -0.15345634556249735,
          -0.1856698626362304,
          -0.2184028490971097,
          -0.2024172315343363,
          -0.2363720730337009,
          -0.21245347816466736,
          -0.24586599252104113,
          -0.19294832627544262,
          -0.17597999649322116,
          -0.15445803691346993,
          -0.1719629788798809,
          -0.1627127299274212,
          -0.1817225636464843,
          -0.19725651505936942,
          -0.2181969376926044,
          -0.24429253692232994,
          -0.19521924235775434,
          -0.22629988578423593,
          -0.19375101862768626,
          -0.20707353967197645,
          -0.16520622003393454,
          -0.18440086986652518
         ],
         "xaxis": "x",
         "y": [
          0.39638637433524526,
          0.5168714085002549,
          0.4588395885648993,
          0.3359231314417136,
          0.2997460693732968,
          0.4633501068024074,
          0.36525605139791834,
          0.3691783763011043,
          0.497127498861601,
          0.3152562343653995,
          0.4810671620595993,
          0.28782486789600864,
          0.5065842984842988,
          0.2038638398732245,
          0.3903051628932868,
          0.4670226335516093,
          0.3575986844084193,
          0.3201079122026728,
          0.49241669533779847,
          0.38976991139635897,
          0.567891538719784,
          0.41592065306967596,
          0.5219606240593818,
          0.4468436129109127,
          0.49100238692917775,
          0.5071704669323145,
          0.3125683572274031,
          0.36565725341331157,
          0.4425224715210228,
          0.38958278021760306,
          0.34493896474787733,
          0.4612991821565563,
          0.3687052187909037,
          0.48831349706219723,
          0.36992267323523553,
          0.3122910385659371,
          0.3684450170757872,
          0.44824690004617274,
          0.36389728837734747,
          0.40590246146473824,
          0.33039986226127405,
          0.5276886975310098,
          0.5575907665050351,
          0.3964210513621308,
          0.4964455801771716,
          0.4751209685546079,
          0.39305440410616543,
          0.30928784245865065,
          0.41370538751048397
         ],
         "yaxis": "y"
        },
        {
         "hovertemplate": "color=2<br>x=%{x}<br>y=%{y}<extra></extra>",
         "legendgroup": "2",
         "marker": {
          "color": "#FF97FF",
          "symbol": "circle"
         },
         "mode": "markers",
         "name": "2",
         "orientation": "v",
         "showlegend": true,
         "type": "scatter",
         "x": [
          -0.13496492874678645,
          -0.23114262024958437,
          -0.188445356564783,
          -0.22121953031631986,
          -0.16107243973995242,
          -0.19286321624230943,
          -0.09559431005323427,
          -0.11669601416186633,
          -0.12390351325535501,
          -0.17018599951516525,
          -0.13591675845882345,
          -0.19693927629805885,
          -0.24339526026986288,
          -0.15460311527294582,
          -0.15987590398677548,
          -0.268522773966053,
          -0.13633901046349242
         ],
         "xaxis": "x",
         "y": [
          -0.2009378279397782,
          -0.3031177481580668,
          -0.23076232071525807,
          -0.15870358009204039,
          -0.06578140431030662,
          -0.17933030409160242,
          -0.12613464786629078,
          0.010672188386029721,
          -0.08588618492882237,
          -0.20723736701850695,
          -0.09762378659090239,
          -0.09161408381276001,
          -0.1912629622572493,
          -0.05660653179346905,
          -0.10215120616239474,
          -0.20173617002932898,
          -0.09508475756266281
         ],
         "yaxis": "y"
        },
        {
         "hovertemplate": "color=1<br>x=%{x}<br>y=%{y}<extra></extra>",
         "legendgroup": "1",
         "marker": {
          "color": "#FECB52",
          "symbol": "circle"
         },
         "mode": "markers",
         "name": "1",
         "orientation": "v",
         "showlegend": true,
         "type": "scatter",
         "x": [
          -0.03835213226121302,
          -0.0222025979128557,
          -0.006038055885969484,
          -0.05005681821037121
         ],
         "xaxis": "x",
         "y": [
          -0.01811135002368648,
          -0.14873305783908455,
          -0.07446568091334768,
          -0.1132722118400746
         ],
         "yaxis": "y"
        }
       ],
       "layout": {
        "height": 400,
        "legend": {
         "title": {
          "text": "color"
         },
         "tracegroupgap": 0
        },
        "template": {
         "data": {
          "bar": [
           {
            "error_x": {
             "color": "#2a3f5f"
            },
            "error_y": {
             "color": "#2a3f5f"
            },
            "marker": {
             "line": {
              "color": "#E5ECF6",
              "width": 0.5
             },
             "pattern": {
              "fillmode": "overlay",
              "size": 10,
              "solidity": 0.2
             }
            },
            "type": "bar"
           }
          ],
          "barpolar": [
           {
            "marker": {
             "line": {
              "color": "#E5ECF6",
              "width": 0.5
             },
             "pattern": {
              "fillmode": "overlay",
              "size": 10,
              "solidity": 0.2
             }
            },
            "type": "barpolar"
           }
          ],
          "carpet": [
           {
            "aaxis": {
             "endlinecolor": "#2a3f5f",
             "gridcolor": "white",
             "linecolor": "white",
             "minorgridcolor": "white",
             "startlinecolor": "#2a3f5f"
            },
            "baxis": {
             "endlinecolor": "#2a3f5f",
             "gridcolor": "white",
             "linecolor": "white",
             "minorgridcolor": "white",
             "startlinecolor": "#2a3f5f"
            },
            "type": "carpet"
           }
          ],
          "choropleth": [
           {
            "colorbar": {
             "outlinewidth": 0,
             "ticks": ""
            },
            "type": "choropleth"
           }
          ],
          "contour": [
           {
            "colorbar": {
             "outlinewidth": 0,
             "ticks": ""
            },
            "colorscale": [
             [
              0,
              "#0d0887"
             ],
             [
              0.1111111111111111,
              "#46039f"
             ],
             [
              0.2222222222222222,
              "#7201a8"
             ],
             [
              0.3333333333333333,
              "#9c179e"
             ],
             [
              0.4444444444444444,
              "#bd3786"
             ],
             [
              0.5555555555555556,
              "#d8576b"
             ],
             [
              0.6666666666666666,
              "#ed7953"
             ],
             [
              0.7777777777777778,
              "#fb9f3a"
             ],
             [
              0.8888888888888888,
              "#fdca26"
             ],
             [
              1,
              "#f0f921"
             ]
            ],
            "type": "contour"
           }
          ],
          "contourcarpet": [
           {
            "colorbar": {
             "outlinewidth": 0,
             "ticks": ""
            },
            "type": "contourcarpet"
           }
          ],
          "heatmap": [
           {
            "colorbar": {
             "outlinewidth": 0,
             "ticks": ""
            },
            "colorscale": [
             [
              0,
              "#0d0887"
             ],
             [
              0.1111111111111111,
              "#46039f"
             ],
             [
              0.2222222222222222,
              "#7201a8"
             ],
             [
              0.3333333333333333,
              "#9c179e"
             ],
             [
              0.4444444444444444,
              "#bd3786"
             ],
             [
              0.5555555555555556,
              "#d8576b"
             ],
             [
              0.6666666666666666,
              "#ed7953"
             ],
             [
              0.7777777777777778,
              "#fb9f3a"
             ],
             [
              0.8888888888888888,
              "#fdca26"
             ],
             [
              1,
              "#f0f921"
             ]
            ],
            "type": "heatmap"
           }
          ],
          "heatmapgl": [
           {
            "colorbar": {
             "outlinewidth": 0,
             "ticks": ""
            },
            "colorscale": [
             [
              0,
              "#0d0887"
             ],
             [
              0.1111111111111111,
              "#46039f"
             ],
             [
              0.2222222222222222,
              "#7201a8"
             ],
             [
              0.3333333333333333,
              "#9c179e"
             ],
             [
              0.4444444444444444,
              "#bd3786"
             ],
             [
              0.5555555555555556,
              "#d8576b"
             ],
             [
              0.6666666666666666,
              "#ed7953"
             ],
             [
              0.7777777777777778,
              "#fb9f3a"
             ],
             [
              0.8888888888888888,
              "#fdca26"
             ],
             [
              1,
              "#f0f921"
             ]
            ],
            "type": "heatmapgl"
           }
          ],
          "histogram": [
           {
            "marker": {
             "pattern": {
              "fillmode": "overlay",
              "size": 10,
              "solidity": 0.2
             }
            },
            "type": "histogram"
           }
          ],
          "histogram2d": [
           {
            "colorbar": {
             "outlinewidth": 0,
             "ticks": ""
            },
            "colorscale": [
             [
              0,
              "#0d0887"
             ],
             [
              0.1111111111111111,
              "#46039f"
             ],
             [
              0.2222222222222222,
              "#7201a8"
             ],
             [
              0.3333333333333333,
              "#9c179e"
             ],
             [
              0.4444444444444444,
              "#bd3786"
             ],
             [
              0.5555555555555556,
              "#d8576b"
             ],
             [
              0.6666666666666666,
              "#ed7953"
             ],
             [
              0.7777777777777778,
              "#fb9f3a"
             ],
             [
              0.8888888888888888,
              "#fdca26"
             ],
             [
              1,
              "#f0f921"
             ]
            ],
            "type": "histogram2d"
           }
          ],
          "histogram2dcontour": [
           {
            "colorbar": {
             "outlinewidth": 0,
             "ticks": ""
            },
            "colorscale": [
             [
              0,
              "#0d0887"
             ],
             [
              0.1111111111111111,
              "#46039f"
             ],
             [
              0.2222222222222222,
              "#7201a8"
             ],
             [
              0.3333333333333333,
              "#9c179e"
             ],
             [
              0.4444444444444444,
              "#bd3786"
             ],
             [
              0.5555555555555556,
              "#d8576b"
             ],
             [
              0.6666666666666666,
              "#ed7953"
             ],
             [
              0.7777777777777778,
              "#fb9f3a"
             ],
             [
              0.8888888888888888,
              "#fdca26"
             ],
             [
              1,
              "#f0f921"
             ]
            ],
            "type": "histogram2dcontour"
           }
          ],
          "mesh3d": [
           {
            "colorbar": {
             "outlinewidth": 0,
             "ticks": ""
            },
            "type": "mesh3d"
           }
          ],
          "parcoords": [
           {
            "line": {
             "colorbar": {
              "outlinewidth": 0,
              "ticks": ""
             }
            },
            "type": "parcoords"
           }
          ],
          "pie": [
           {
            "automargin": true,
            "type": "pie"
           }
          ],
          "scatter": [
           {
            "fillpattern": {
             "fillmode": "overlay",
             "size": 10,
             "solidity": 0.2
            },
            "type": "scatter"
           }
          ],
          "scatter3d": [
           {
            "line": {
             "colorbar": {
              "outlinewidth": 0,
              "ticks": ""
             }
            },
            "marker": {
             "colorbar": {
              "outlinewidth": 0,
              "ticks": ""
             }
            },
            "type": "scatter3d"
           }
          ],
          "scattercarpet": [
           {
            "marker": {
             "colorbar": {
              "outlinewidth": 0,
              "ticks": ""
             }
            },
            "type": "scattercarpet"
           }
          ],
          "scattergeo": [
           {
            "marker": {
             "colorbar": {
              "outlinewidth": 0,
              "ticks": ""
             }
            },
            "type": "scattergeo"
           }
          ],
          "scattergl": [
           {
            "marker": {
             "colorbar": {
              "outlinewidth": 0,
              "ticks": ""
             }
            },
            "type": "scattergl"
           }
          ],
          "scattermapbox": [
           {
            "marker": {
             "colorbar": {
              "outlinewidth": 0,
              "ticks": ""
             }
            },
            "type": "scattermapbox"
           }
          ],
          "scatterpolar": [
           {
            "marker": {
             "colorbar": {
              "outlinewidth": 0,
              "ticks": ""
             }
            },
            "type": "scatterpolar"
           }
          ],
          "scatterpolargl": [
           {
            "marker": {
             "colorbar": {
              "outlinewidth": 0,
              "ticks": ""
             }
            },
            "type": "scatterpolargl"
           }
          ],
          "scatterternary": [
           {
            "marker": {
             "colorbar": {
              "outlinewidth": 0,
              "ticks": ""
             }
            },
            "type": "scatterternary"
           }
          ],
          "surface": [
           {
            "colorbar": {
             "outlinewidth": 0,
             "ticks": ""
            },
            "colorscale": [
             [
              0,
              "#0d0887"
             ],
             [
              0.1111111111111111,
              "#46039f"
             ],
             [
              0.2222222222222222,
              "#7201a8"
             ],
             [
              0.3333333333333333,
              "#9c179e"
             ],
             [
              0.4444444444444444,
              "#bd3786"
             ],
             [
              0.5555555555555556,
              "#d8576b"
             ],
             [
              0.6666666666666666,
              "#ed7953"
             ],
             [
              0.7777777777777778,
              "#fb9f3a"
             ],
             [
              0.8888888888888888,
              "#fdca26"
             ],
             [
              1,
              "#f0f921"
             ]
            ],
            "type": "surface"
           }
          ],
          "table": [
           {
            "cells": {
             "fill": {
              "color": "#EBF0F8"
             },
             "line": {
              "color": "white"
             }
            },
            "header": {
             "fill": {
              "color": "#C8D4E3"
             },
             "line": {
              "color": "white"
             }
            },
            "type": "table"
           }
          ]
         },
         "layout": {
          "annotationdefaults": {
           "arrowcolor": "#2a3f5f",
           "arrowhead": 0,
           "arrowwidth": 1
          },
          "autotypenumbers": "strict",
          "coloraxis": {
           "colorbar": {
            "outlinewidth": 0,
            "ticks": ""
           }
          },
          "colorscale": {
           "diverging": [
            [
             0,
             "#8e0152"
            ],
            [
             0.1,
             "#c51b7d"
            ],
            [
             0.2,
             "#de77ae"
            ],
            [
             0.3,
             "#f1b6da"
            ],
            [
             0.4,
             "#fde0ef"
            ],
            [
             0.5,
             "#f7f7f7"
            ],
            [
             0.6,
             "#e6f5d0"
            ],
            [
             0.7,
             "#b8e186"
            ],
            [
             0.8,
             "#7fbc41"
            ],
            [
             0.9,
             "#4d9221"
            ],
            [
             1,
             "#276419"
            ]
           ],
           "sequential": [
            [
             0,
             "#0d0887"
            ],
            [
             0.1111111111111111,
             "#46039f"
            ],
            [
             0.2222222222222222,
             "#7201a8"
            ],
            [
             0.3333333333333333,
             "#9c179e"
            ],
            [
             0.4444444444444444,
             "#bd3786"
            ],
            [
             0.5555555555555556,
             "#d8576b"
            ],
            [
             0.6666666666666666,
             "#ed7953"
            ],
            [
             0.7777777777777778,
             "#fb9f3a"
            ],
            [
             0.8888888888888888,
             "#fdca26"
            ],
            [
             1,
             "#f0f921"
            ]
           ],
           "sequentialminus": [
            [
             0,
             "#0d0887"
            ],
            [
             0.1111111111111111,
             "#46039f"
            ],
            [
             0.2222222222222222,
             "#7201a8"
            ],
            [
             0.3333333333333333,
             "#9c179e"
            ],
            [
             0.4444444444444444,
             "#bd3786"
            ],
            [
             0.5555555555555556,
             "#d8576b"
            ],
            [
             0.6666666666666666,
             "#ed7953"
            ],
            [
             0.7777777777777778,
             "#fb9f3a"
            ],
            [
             0.8888888888888888,
             "#fdca26"
            ],
            [
             1,
             "#f0f921"
            ]
           ]
          },
          "colorway": [
           "#636efa",
           "#EF553B",
           "#00cc96",
           "#ab63fa",
           "#FFA15A",
           "#19d3f3",
           "#FF6692",
           "#B6E880",
           "#FF97FF",
           "#FECB52"
          ],
          "font": {
           "color": "#2a3f5f"
          },
          "geo": {
           "bgcolor": "white",
           "lakecolor": "white",
           "landcolor": "#E5ECF6",
           "showlakes": true,
           "showland": true,
           "subunitcolor": "white"
          },
          "hoverlabel": {
           "align": "left"
          },
          "hovermode": "closest",
          "mapbox": {
           "style": "light"
          },
          "paper_bgcolor": "white",
          "plot_bgcolor": "#E5ECF6",
          "polar": {
           "angularaxis": {
            "gridcolor": "white",
            "linecolor": "white",
            "ticks": ""
           },
           "bgcolor": "#E5ECF6",
           "radialaxis": {
            "gridcolor": "white",
            "linecolor": "white",
            "ticks": ""
           }
          },
          "scene": {
           "xaxis": {
            "backgroundcolor": "#E5ECF6",
            "gridcolor": "white",
            "gridwidth": 2,
            "linecolor": "white",
            "showbackground": true,
            "ticks": "",
            "zerolinecolor": "white"
           },
           "yaxis": {
            "backgroundcolor": "#E5ECF6",
            "gridcolor": "white",
            "gridwidth": 2,
            "linecolor": "white",
            "showbackground": true,
            "ticks": "",
            "zerolinecolor": "white"
           },
           "zaxis": {
            "backgroundcolor": "#E5ECF6",
            "gridcolor": "white",
            "gridwidth": 2,
            "linecolor": "white",
            "showbackground": true,
            "ticks": "",
            "zerolinecolor": "white"
           }
          },
          "shapedefaults": {
           "line": {
            "color": "#2a3f5f"
           }
          },
          "ternary": {
           "aaxis": {
            "gridcolor": "white",
            "linecolor": "white",
            "ticks": ""
           },
           "baxis": {
            "gridcolor": "white",
            "linecolor": "white",
            "ticks": ""
           },
           "bgcolor": "#E5ECF6",
           "caxis": {
            "gridcolor": "white",
            "linecolor": "white",
            "ticks": ""
           }
          },
          "title": {
           "x": 0.05
          },
          "xaxis": {
           "automargin": true,
           "gridcolor": "white",
           "linecolor": "white",
           "ticks": "",
           "title": {
            "standoff": 15
           },
           "zerolinecolor": "white",
           "zerolinewidth": 2
          },
          "yaxis": {
           "automargin": true,
           "gridcolor": "white",
           "linecolor": "white",
           "ticks": "",
           "title": {
            "standoff": 15
           },
           "zerolinecolor": "white",
           "zerolinewidth": 2
          }
         }
        },
        "title": {
         "text": "PCA_2_comp - 0.089 sec."
        },
        "width": 500,
        "xaxis": {
         "anchor": "y",
         "domain": [
          0,
          1
         ],
         "title": {
          "text": "c_1"
         }
        },
        "yaxis": {
         "anchor": "x",
         "domain": [
          0,
          1
         ],
         "title": {
          "text": "c_2"
         }
        }
       }
      }
     },
     "metadata": {},
     "output_type": "display_data"
    },
    {
     "data": {
      "application/vnd.plotly.v1+json": {
       "config": {
        "plotlyServerURL": "https://plot.ly"
       },
       "data": [
        {
         "hovertemplate": "color=5<br>x=%{x}<br>y=%{y}<extra></extra>",
         "legendgroup": "5",
         "marker": {
          "color": "#636efa",
          "symbol": "circle"
         },
         "mode": "markers",
         "name": "5",
         "orientation": "v",
         "showlegend": true,
         "type": "scatter",
         "x": [
          7.0771403312683105,
          9.73875904083252,
          0.8981305956840515,
          3.4611449241638184,
          4.204621315002441,
          6.577045440673828,
          3.8643739223480225,
          1.6988191604614258,
          4.911226272583008,
          6.73123025894165,
          0.07468270510435104,
          6.501898765563965,
          3.4803061485290527,
          -1.2303943634033203,
          7.635190963745117,
          7.959752559661865,
          6.551609992980957,
          7.9645562171936035,
          11.086316108703613,
          10.730605125427246,
          4.714581489562988,
          0.05180259421467781,
          6.280435562133789,
          3.744804620742798,
          10.252668380737305,
          9.066057205200195,
          2.319037914276123,
          5.159933090209961,
          8.290882110595703,
          5.255553245544434,
          -15.800933837890625,
          4.070889472961426,
          4.9382147789001465,
          9.168362617492676,
          1.3118802309036255,
          5.130364894866943,
          2.863088846206665,
          6.177456378936768,
          7.391071796417236,
          10.85789680480957,
          5.075074672698975,
          5.29049015045166,
          4.729547023773193,
          8.57627010345459,
          5.072113037109375,
          8.67539119720459,
          6.965442657470703,
          2.573488473892212,
          8.202871322631836,
          5.135665416717529,
          5.719573020935059,
          9.56542682647705,
          12.940999031066895,
          2.8047313690185547,
          5.349971294403076,
          9.80747127532959,
          0.40189027786254883,
          5.432405471801758,
          5.863114356994629,
          -0.3237527906894684,
          -0.6845117807388306,
          6.122211456298828,
          9.812707901000977,
          4.19045352935791,
          0.630524754524231,
          2.039677619934082,
          0.606774091720581,
          5.570592880249023,
          7.9381608963012695,
          3.208348512649536,
          5.002790927886963,
          -0.9762105941772461,
          1.9941320419311523,
          -1.1083781719207764,
          1.2989096641540527,
          3.3443779945373535,
          2.716336250305176,
          9.862076759338379,
          0.04477822035551071
         ],
         "xaxis": "x",
         "y": [
          17.449159622192383,
          11.637040138244629,
          9.777576446533203,
          10.638812065124512,
          18.623502731323242,
          16.633459091186523,
          13.343689918518066,
          14.356781005859375,
          19.108205795288086,
          9.20036792755127,
          -8.763036727905273,
          13.873688697814941,
          16.02674102783203,
          16.106721878051758,
          10.68712043762207,
          13.522507667541504,
          18.437944412231445,
          12.43966293334961,
          11.926140785217285,
          14.776413917541504,
          17.913923263549805,
          13.711724281311035,
          11.738472938537598,
          17.13315200805664,
          14.524097442626953,
          19.48768424987793,
          14.035228729248047,
          15.990601539611816,
          14.19072151184082,
          9.339245796203613,
          4.073867321014404,
          12.046595573425293,
          16.983949661254883,
          8.731606483459473,
          11.80952262878418,
          12.899319648742676,
          12.85633659362793,
          14.48751163482666,
          16.154863357543945,
          16.881296157836914,
          5.0884833335876465,
          13.638708114624023,
          5.5472798347473145,
          7.662075519561768,
          4.821552753448486,
          8.476761817932129,
          19.06875991821289,
          13.33486557006836,
          17.704051971435547,
          20.36859130859375,
          6.406396865844727,
          8.039562225341797,
          5.25668478012085,
          15.523252487182617,
          19.024320602416992,
          12.043456077575684,
          18.248964309692383,
          11.020524024963379,
          17.30093765258789,
          17.223966598510742,
          11.781059265136719,
          15.994110107421875,
          15.772607803344727,
          14.02938461303711,
          15.483394622802734,
          19.069068908691406,
          12.784412384033203,
          11.419697761535645,
          12.134145736694336,
          19.8245849609375,
          15.654010772705078,
          16.178651809692383,
          15.861814498901367,
          11.800976753234863,
          18.05401611328125,
          15.0205659866333,
          17.77529525756836,
          12.667195320129395,
          9.659290313720703
         ],
         "yaxis": "y"
        },
        {
         "hovertemplate": "color=6<br>x=%{x}<br>y=%{y}<extra></extra>",
         "legendgroup": "6",
         "marker": {
          "color": "#EF553B",
          "symbol": "circle"
         },
         "mode": "markers",
         "name": "6",
         "orientation": "v",
         "showlegend": true,
         "type": "scatter",
         "x": [
          -13.458617210388184,
          -16.163179397583008,
          -13.199275970458984,
          -14.231132507324219,
          -12.309476852416992,
          -13.586326599121094,
          -14.577914237976074,
          -15.73483657836914,
          -15.043834686279297,
          -16.490983963012695,
          -14.083949089050293,
          -14.305617332458496,
          -14.42238998413086,
          -15.63606071472168,
          -13.256775856018066,
          -13.445623397827148,
          -12.134263038635254,
          -15.872426986694336,
          -14.727079391479492,
          -15.267730712890625
         ],
         "xaxis": "x",
         "y": [
          19.638256072998047,
          19.292043685913086,
          17.304885864257812,
          18.162490844726562,
          16.901243209838867,
          17.811019897460938,
          17.308258056640625,
          16.39655876159668,
          18.38689422607422,
          17.766929626464844,
          16.832244873046875,
          15.633011817932129,
          15.574984550476074,
          18.106821060180664,
          16.15947151184082,
          18.82492446899414,
          16.130502700805664,
          17.904956817626953,
          19.073156356811523,
          17.17595672607422
         ],
         "yaxis": "y"
        },
        {
         "hovertemplate": "color=3<br>x=%{x}<br>y=%{y}<extra></extra>",
         "legendgroup": "3",
         "marker": {
          "color": "#00cc96",
          "symbol": "circle"
         },
         "mode": "markers",
         "name": "3",
         "orientation": "v",
         "showlegend": true,
         "type": "scatter",
         "x": [
          -22.37731170654297,
          -20.02753257751465,
          -32.47986602783203,
          -28.22470474243164,
          -31.457826614379883,
          -22.79094886779785,
          -24.309696197509766,
          -28.876707077026367,
          -27.645832061767578,
          -29.48313331604004,
          -25.4410343170166,
          -20.876327514648438,
          -34.616851806640625,
          -32.25971603393555,
          -21.11696434020996,
          -27.34831428527832,
          -32.99482727050781,
          -33.333251953125,
          -18.991445541381836,
          -24.46411895751953,
          -21.840206146240234,
          -22.81427764892578,
          -24.506254196166992,
          -29.49452781677246,
          -27.83144760131836,
          -30.985225677490234,
          -29.19595718383789,
          -24.633060455322266,
          -28.125762939453125,
          -23.574359893798828,
          -22.266826629638672,
          -26.571453094482422,
          -32.44951629638672,
          -29.305227279663086,
          -30.960840225219727,
          -23.010337829589844,
          -35.05232238769531,
          -26.910686492919922,
          -27.583139419555664,
          -32.01670455932617,
          -25.659774780273438,
          -20.96105194091797,
          -20.20282745361328,
          -25.845890045166016,
          -27.40467643737793,
          -29.944469451904297,
          -25.65326499938965,
          -30.262451171875,
          -31.132522583007812,
          -26.084095001220703,
          -28.10704231262207,
          -26.62205696105957,
          -28.504470825195312,
          -22.332275390625,
          -30.62725067138672,
          -17.8234920501709,
          -29.455684661865234,
          -16.743497848510742,
          -21.39516258239746,
          -27.420835494995117,
          -24.37896728515625,
          -23.49275779724121,
          -28.625404357910156,
          -25.514745712280273,
          -27.904342651367188,
          -27.744434356689453,
          -26.395048141479492,
          -29.716867446899414,
          -31.14089584350586,
          -28.057971954345703,
          -29.760435104370117,
          -27.21119499206543,
          -25.96228790283203,
          -24.309696197509766,
          -32.84514617919922,
          -20.812665939331055,
          -22.310747146606445,
          -19.065269470214844,
          -29.048561096191406,
          -25.174095153808594,
          -27.414165496826172,
          -30.676658630371094,
          -22.963134765625,
          -16.88198471069336,
          -22.8183650970459,
          -23.417503356933594,
          -26.32074737548828,
          -33.62948226928711,
          -24.556283950805664,
          -27.00591278076172,
          -18.947580337524414,
          -20.5553035736084,
          -29.421483993530273,
          -25.220624923706055,
          -28.962860107421875,
          -26.918848037719727,
          -32.619571685791016,
          -24.571352005004883,
          -19.837047576904297,
          -23.120603561401367,
          -20.076095581054688,
          -21.706050872802734,
          -27.33537483215332,
          -24.860206604003906,
          -28.44858741760254,
          -31.13853645324707,
          -31.71839714050293,
          -23.226306915283203,
          -25.75774574279785,
          -27.58955955505371,
          -27.13872718811035,
          -30.05948829650879,
          -17.450101852416992,
          -25.222902297973633,
          -34.17931365966797,
          -30.93539047241211,
          -23.92409324645996,
          -30.892980575561523,
          -18.047134399414062,
          -25.095735549926758,
          -22.20684814453125,
          -31.15926170349121,
          -17.8234920501709,
          -33.192623138427734,
          -31.408716201782227,
          -22.574668884277344,
          -28.65973472595215,
          -31.37541961669922,
          -35.38153076171875,
          -18.699254989624023,
          -22.71367835998535,
          -24.632617950439453,
          -24.252418518066406
         ],
         "xaxis": "x",
         "y": [
          -5.990225315093994,
          -5.077025890350342,
          -3.2611563205718994,
          0.47232410311698914,
          -6.747751712799072,
          0.2150106132030487,
          4.861565589904785,
          2.199209213256836,
          -2.3100974559783936,
          -7.244933128356934,
          -0.878667950630188,
          1.147600531578064,
          -5.475712776184082,
          0.6175705790519714,
          2.9934229850769043,
          4.892849922180176,
          -7.1717376708984375,
          -6.651637077331543,
          3.1697516441345215,
          1.3505417108535767,
          -10.810895919799805,
          1.7689857482910156,
          -5.3365797996521,
          -1.8893126249313354,
          -8.222129821777344,
          3.6169533729553223,
          -0.7733287215232849,
          -12.255542755126953,
          -8.504587173461914,
          -8.155008316040039,
          -0.2597576677799225,
          -3.3556289672851562,
          0.21218469738960266,
          -4.315573692321777,
          -9.726386070251465,
          -11.283875465393066,
          -2.004526376724243,
          -10.348090171813965,
          5.189854621887207,
          -8.658310890197754,
          -0.9075443744659424,
          -6.534965991973877,
          -4.591253757476807,
          -3.8549680709838867,
          -13.463469505310059,
          -5.672733783721924,
          1.0862948894500732,
          1.8738590478897095,
          -3.6884520053863525,
          -2.252081871032715,
          -6.039778709411621,
          -6.99415922164917,
          -10.675366401672363,
          -9.472963333129883,
          -11.866328239440918,
          -12.074614524841309,
          -2.9608571529388428,
          3.654677391052246,
          0.40344274044036865,
          -2.32383394241333,
          -7.992232322692871,
          -12.608409881591797,
          3.830493450164795,
          2.411860227584839,
          -3.880474328994751,
          -4.430830955505371,
          -4.660137176513672,
          0.5090641975402832,
          -4.539609432220459,
          -0.7017307877540588,
          -8.992098808288574,
          1.465613603591919,
          0.3263741731643677,
          4.861565589904785,
          1.5011805295944214,
          -2.3936767578125,
          -1.1689014434814453,
          -3.690974235534668,
          -0.7183517217636108,
          -11.038237571716309,
          -13.396490097045898,
          -5.376693248748779,
          -5.916869163513184,
          3.5992419719696045,
          1.8963359594345093,
          -3.5643861293792725,
          -8.95950984954834,
          -3.56441593170166,
          -6.779350280761719,
          -10.553777694702148,
          -7.781924724578857,
          2.156048536300659,
          -5.369687557220459,
          3.220473051071167,
          5.74815034866333,
          3.199063539505005,
          -3.327927827835083,
          0.9516411423683167,
          -8.472020149230957,
          -3.8554189205169678,
          -1.689989686012268,
          -5.296680927276611,
          -6.466740608215332,
          -4.514188289642334,
          3.275263786315918,
          -1.6664472818374634,
          1.8303459882736206,
          -7.985954761505127,
          -5.2908196449279785,
          -0.7276976704597473,
          1.3141865730285645,
          4.516936302185059,
          3.4524848461151123,
          -3.1965932846069336,
          1.9151253700256348,
          -8.264787673950195,
          -1.6740314960479736,
          -1.9161559343338013,
          3.3194077014923096,
          -10.930366516113281,
          -2.5239646434783936,
          2.4580535888671875,
          -12.074614524841309,
          -0.7900288105010986,
          -0.2978827655315399,
          -10.43931770324707,
          -11.002467155456543,
          -7.399954795837402,
          -2.146458625793457,
          -7.706743240356445,
          -2.358631134033203,
          -9.754192352294922,
          -0.8379709720611572
         ],
         "yaxis": "y"
        },
        {
         "hovertemplate": "color=4<br>x=%{x}<br>y=%{y}<extra></extra>",
         "legendgroup": "4",
         "marker": {
          "color": "#ab63fa",
          "symbol": "circle"
         },
         "mode": "markers",
         "name": "4",
         "orientation": "v",
         "showlegend": true,
         "type": "scatter",
         "x": [
          12.161388397216797,
          15.188009262084961,
          14.558812141418457,
          18.263744354248047,
          16.986034393310547,
          11.847935676574707,
          14.371734619140625,
          5.1393723487854,
          17.740856170654297,
          15.600127220153809,
          11.401352882385254,
          14.388861656188965,
          16.96778678894043,
          13.52685546875,
          12.244214057922363,
          13.006096839904785,
          12.27736759185791,
          12.263467788696289,
          18.591463088989258,
          11.5641508102417,
          17.177513122558594,
          14.88210391998291,
          16.969913482666016,
          10.78661823272705,
          11.188497543334961,
          15.8473482131958,
          20.4017391204834,
          11.84096622467041,
          15.274604797363281,
          16.16057777404785,
          14.709436416625977,
          14.110581398010254,
          13.096495628356934,
          13.442779541015625,
          16.461360931396484,
          10.33739948272705,
          14.686850547790527,
          15.452066421508789,
          18.28205680847168,
          17.44774627685547,
          10.219639778137207,
          14.415270805358887,
          16.874897003173828,
          13.750452041625977,
          16.316064834594727,
          11.725125312805176,
          9.796164512634277,
          18.803451538085938,
          9.202925682067871,
          14.261837005615234,
          11.665172576904297,
          16.01357078552246,
          9.569869995117188,
          19.77573013305664,
          12.130036354064941,
          10.746548652648926,
          9.37603759765625
         ],
         "xaxis": "x",
         "y": [
          -9.673739433288574,
          -10.868946075439453,
          -9.513751029968262,
          -7.487586975097656,
          -2.489124059677124,
          -1.6870921850204468,
          -0.17772215604782104,
          4.3931074142456055,
          -1.5751835107803345,
          -6.449262619018555,
          -5.815009117126465,
          -5.46278190612793,
          -8.51162338256836,
          -7.432724952697754,
          -2.2278475761413574,
          -3.3199353218078613,
          -3.9532525539398193,
          -6.928221225738525,
          -4.788357257843018,
          -8.878890037536621,
          -5.633271217346191,
          -7.95174503326416,
          -3.6222951412200928,
          -3.3628227710723877,
          -2.8720638751983643,
          -8.89730453491211,
          -5.824149131774902,
          -6.872326850891113,
          -8.195686340332031,
          -1.7860461473464966,
          -2.952265739440918,
          -0.32361912727355957,
          -3.2165822982788086,
          -5.653034687042236,
          -7.494780540466309,
          -3.7123606204986572,
          0.4083554744720459,
          -6.171676158905029,
          -7.045873165130615,
          -5.630481243133545,
          -5.0536274909973145,
          -2.997408628463745,
          -3.1325836181640625,
          -7.7307538986206055,
          -9.107034683227539,
          -3.615638017654419,
          -6.70158052444458,
          -4.7840375900268555,
          -3.0324699878692627,
          -5.034823894500732,
          -0.5196505188941956,
          -5.267602920532227,
          -7.426509857177734,
          -4.912782669067383,
          -4.9384684562683105,
          -2.309965133666992,
          -3.904550552368164
         ],
         "yaxis": "y"
        },
        {
         "hovertemplate": "color=0<br>x=%{x}<br>y=%{y}<extra></extra>",
         "legendgroup": "0",
         "marker": {
          "color": "#FFA15A",
          "symbol": "circle"
         },
         "mode": "markers",
         "name": "0",
         "orientation": "v",
         "showlegend": true,
         "type": "scatter",
         "x": [
          2.493595838546753,
          -0.9198270440101624,
          1.9191815853118896,
          0.11121009290218353,
          3.8758580684661865,
          0.0677192434668541,
          1.579528570175171,
          -0.9172887206077576,
          3.1097545623779297,
          1.1660726070404053,
          0.33324623107910156,
          -1.3443567752838135,
          2.1932032108306885,
          2.820841073989868,
          2.714228391647339,
          -1.4229291677474976,
          1.9259015321731567,
          -2.2191059589385986,
          2.0790131092071533,
          3.131584882736206,
          -0.33058303594589233,
          0.15535993874073029,
          -2.2944188117980957,
          1.3246588706970215,
          -0.03319421783089638
         ],
         "xaxis": "x",
         "y": [
          -8.614700317382812,
          -12.92554759979248,
          -13.475763320922852,
          -13.322226524353027,
          -11.012534141540527,
          -13.291640281677246,
          -9.99094295501709,
          -13.138935089111328,
          -12.841776847839355,
          -11.56249713897705,
          -9.483973503112793,
          -9.462664604187012,
          -11.348065376281738,
          -11.070192337036133,
          -10.900918960571289,
          -13.760905265808105,
          -12.672639846801758,
          -10.962303161621094,
          -9.444214820861816,
          -9.631732940673828,
          -11.237702369689941,
          -14.601164817810059,
          -10.972752571105957,
          -10.700103759765625,
          -11.939523696899414
         ],
         "yaxis": "y"
        },
        {
         "hovertemplate": "color=9<br>x=%{x}<br>y=%{y}<extra></extra>",
         "legendgroup": "9",
         "marker": {
          "color": "#19d3f3",
          "symbol": "circle"
         },
         "mode": "markers",
         "name": "9",
         "orientation": "v",
         "showlegend": true,
         "type": "scatter",
         "x": [
          -7.248625755310059,
          -10.244107246398926,
          -7.216619968414307,
          -8.433349609375,
          -1.3981008529663086,
          -10.357471466064453,
          -8.05105972290039,
          -8.502120971679688,
          -4.329883098602295,
          -9.740656852722168,
          -2.2876758575439453,
          -5.368429660797119,
          -4.8950605392456055,
          -4.037905216217041,
          -3.2203948497772217,
          -5.93979549407959,
          -7.723739147186279,
          -4.854944705963135,
          -8.630227088928223,
          -8.193692207336426,
          -10.29859733581543,
          -4.733407974243164,
          -2.9950814247131348,
          -8.978816986083984,
          -6.445633411407471,
          -4.677523136138916,
          -6.23067569732666,
          -1.8675017356872559,
          -9.59637451171875,
          -2.988253355026245,
          -4.553036689758301,
          -7.513283729553223,
          -3.677051305770874,
          -4.088160991668701,
          -6.52930212020874,
          -1.333932638168335,
          -2.6588287353515625,
          -5.513071060180664,
          -1.8121767044067383,
          -6.2540812492370605,
          -5.372530460357666,
          -2.5033133029937744,
          -8.796014785766602,
          -5.345577716827393,
          -6.944993019104004,
          -7.956464767456055,
          -7.529386520385742,
          -6.994812488555908,
          -9.18069839477539,
          -3.5310158729553223,
          -5.817047119140625,
          -7.906871795654297,
          -5.826391220092773,
          -7.231279373168945,
          -8.551753044128418,
          -4.872982978820801,
          -2.1502504348754883,
          -8.188864707946777,
          -4.153326034545898,
          -1.8878815174102783,
          -9.92241382598877,
          -8.022163391113281
         ],
         "xaxis": "x",
         "y": [
          -1.0708409547805786,
          -1.9738229513168335,
          2.626328468322754,
          -5.8562846183776855,
          2.8220856189727783,
          0.7969657778739929,
          -1.2223910093307495,
          4.7293925285339355,
          0.7091527581214905,
          -5.052725791931152,
          1.0856542587280273,
          -3.083566904067993,
          0.6821885704994202,
          5.396282196044922,
          -1.8228205442428589,
          -5.5938401222229,
          -4.640261650085449,
          -1.623941421508789,
          -1.511231541633606,
          -5.732232570648193,
          2.3837850093841553,
          4.8416829109191895,
          -4.487085342407227,
          1.6454379558563232,
          1.7462215423583984,
          -1.7619602680206299,
          4.068484306335449,
          -0.2860987186431885,
          1.0888862609863281,
          0.9974051713943481,
          -0.3350306451320648,
          1.0247136354446411,
          1.317009449005127,
          3.045825719833374,
          -0.3731667101383209,
          0.8959680199623108,
          -2.0319478511810303,
          0.5742912292480469,
          -0.9670193195343018,
          4.155445575714111,
          -5.018980026245117,
          3.4634196758270264,
          -3.749601364135742,
          4.060305595397949,
          1.3125840425491333,
          1.0310715436935425,
          -6.066280364990234,
          0.27039480209350586,
          0.10168326646089554,
          -2.3736610412597656,
          -1.3197590112686157,
          5.526783466339111,
          2.4232017993927,
          -2.5269811153411865,
          4.562711715698242,
          2.2191219329833984,
          4.067774295806885,
          3.1259758472442627,
          3.6844520568847656,
          2.9291887283325195,
          -1.642043948173523,
          -5.721278190612793
         ],
         "yaxis": "y"
        },
        {
         "hovertemplate": "color=7<br>x=%{x}<br>y=%{y}<extra></extra>",
         "legendgroup": "7",
         "marker": {
          "color": "#FF6692",
          "symbol": "circle"
         },
         "mode": "markers",
         "name": "7",
         "orientation": "v",
         "showlegend": true,
         "type": "scatter",
         "x": [
          25.147842407226562,
          27.57992172241211,
          29.91975975036621,
          24.262636184692383,
          31.859214782714844,
          28.36440086364746,
          29.571659088134766,
          32.170772552490234,
          31.303924560546875,
          29.251991271972656,
          28.812803268432617,
          28.472074508666992,
          31.463966369628906,
          26.272775650024414,
          31.484107971191406,
          23.260177612304688,
          32.85610580444336,
          27.011795043945312,
          26.453670501708984,
          28.0885009765625,
          31.829227447509766,
          27.106225967407227,
          31.576295852661133,
          22.599672317504883,
          25.962913513183594,
          29.443788528442383,
          28.808551788330078,
          29.27208709716797,
          29.16220474243164,
          30.95325469970703,
          24.45537567138672,
          29.67493438720703,
          31.860177993774414,
          33.16839599609375,
          29.546356201171875,
          22.484495162963867,
          30.063505172729492,
          30.854183197021484,
          29.97625732421875,
          27.454832077026367,
          28.442846298217773,
          26.480159759521484,
          26.128490447998047,
          25.332674026489258,
          22.783689498901367,
          31.006662368774414,
          29.109960556030273,
          29.516788482666016,
          28.762359619140625,
          33.77619934082031,
          27.769672393798828,
          24.04553985595703,
          27.45627212524414,
          33.35554885864258
         ],
         "xaxis": "x",
         "y": [
          8.242345809936523,
          9.934459686279297,
          8.348267555236816,
          5.093582630157471,
          10.372944831848145,
          10.245671272277832,
          5.425676345825195,
          8.740848541259766,
          8.177425384521484,
          9.674057960510254,
          8.079852104187012,
          7.38772439956665,
          11.855408668518066,
          5.287770748138428,
          7.282262802124023,
          6.800201416015625,
          6.9106574058532715,
          8.202993392944336,
          6.166705131530762,
          8.428200721740723,
          12.816388130187988,
          9.7360200881958,
          11.244977951049805,
          7.635160446166992,
          7.680509090423584,
          6.418598175048828,
          11.673802375793457,
          8.969314575195312,
          2.9933314323425293,
          5.641641616821289,
          9.08803939819336,
          6.701819896697998,
          6.523213863372803,
          5.902139186859131,
          8.83123779296875,
          8.218790054321289,
          10.093561172485352,
          9.103656768798828,
          7.689948558807373,
          3.743985891342163,
          5.607914924621582,
          11.089458465576172,
          5.258028507232666,
          7.947994709014893,
          6.016349792480469,
          4.855884075164795,
          3.929579019546509,
          12.277774810791016,
          7.16087532043457,
          7.399003505706787,
          6.512413024902344,
          5.330482006072998,
          7.906877517700195,
          9.125579833984375
         ],
         "yaxis": "y"
        },
        {
         "hovertemplate": "color=8<br>x=%{x}<br>y=%{y}<extra></extra>",
         "legendgroup": "8",
         "marker": {
          "color": "#B6E880",
          "symbol": "circle"
         },
         "mode": "markers",
         "name": "8",
         "orientation": "v",
         "showlegend": true,
         "type": "scatter",
         "x": [
          17.94369125366211,
          14.780265808105469,
          14.421172142028809,
          11.024433135986328,
          11.251029014587402,
          18.05393409729004,
          14.184015274047852,
          18.401918411254883,
          13.969489097595215,
          16.109140396118164,
          14.433561325073242,
          10.9551420211792,
          15.078917503356934,
          19.436363220214844,
          10.814181327819824,
          15.704785346984863,
          13.650527954101562,
          10.81667423248291,
          16.484140396118164,
          18.579647064208984,
          14.34771728515625,
          13.077078819274902,
          14.217069625854492,
          17.229740142822266,
          17.08808708190918,
          13.14976692199707,
          15.523175239562988,
          16.69744110107422,
          16.804027557373047,
          15.181039810180664,
          18.397014617919922,
          16.12202262878418,
          12.482312202453613,
          15.583823204040527,
          16.552047729492188,
          17.577678680419922,
          12.41401195526123,
          12.96593189239502,
          12.255434036254883,
          18.244768142700195,
          11.50889778137207,
          15.169746398925781,
          16.09026527404785,
          14.336005210876465,
          15.675032615661621,
          13.359963417053223,
          10.50063419342041,
          11.40091609954834,
          15.176725387573242
         ],
         "xaxis": "x",
         "y": [
          -23.941518783569336,
          -20.332054138183594,
          -22.205604553222656,
          -15.328963279724121,
          -18.734033584594727,
          -21.141328811645508,
          -17.981586456298828,
          -19.400142669677734,
          -23.059673309326172,
          -18.89837646484375,
          -19.522924423217773,
          -15.225913047790527,
          -23.84886932373047,
          -23.04135513305664,
          -22.5918025970459,
          -22.010412216186523,
          -25.220840454101562,
          -22.04831886291504,
          -23.001432418823242,
          -21.466569900512695,
          -21.577438354492188,
          -19.7868709564209,
          -20.95115852355957,
          -22.069204330444336,
          -21.322336196899414,
          -20.876014709472656,
          -17.005027770996094,
          -23.37868309020996,
          -20.004505157470703,
          -17.154577255249023,
          -24.437135696411133,
          -20.809982299804688,
          -22.210416793823242,
          -19.71416473388672,
          -24.800613403320312,
          -18.2900390625,
          -24.297399520874023,
          -23.863344192504883,
          -21.349105834960938,
          -20.099327087402344,
          -16.028230667114258,
          -20.865625381469727,
          -21.69091033935547,
          -18.940431594848633,
          -22.6667537689209,
          -22.323383331298828,
          -22.66534423828125,
          -23.83176612854004,
          -24.018844604492188
         ],
         "yaxis": "y"
        },
        {
         "hovertemplate": "color=2<br>x=%{x}<br>y=%{y}<extra></extra>",
         "legendgroup": "2",
         "marker": {
          "color": "#FF97FF",
          "symbol": "circle"
         },
         "mode": "markers",
         "name": "2",
         "orientation": "v",
         "showlegend": true,
         "type": "scatter",
         "x": [
          26.266212463378906,
          25.899093627929688,
          24.395339965820312,
          24.672903060913086,
          23.036449432373047,
          25.90986442565918,
          22.327119827270508,
          22.532657623291016,
          22.761289596557617,
          25.131181716918945,
          23.623132705688477,
          23.46254539489746,
          24.08256721496582,
          24.552278518676758,
          24.810943603515625,
          24.90648078918457,
          22.62969207763672
         ],
         "xaxis": "x",
         "y": [
          13.309036254882812,
          12.844709396362305,
          12.237446784973145,
          14.865939140319824,
          12.656013488769531,
          11.368032455444336,
          15.534428596496582,
          12.326794624328613,
          14.30453109741211,
          13.63585376739502,
          9.778521537780762,
          14.88357162475586,
          14.14187240600586,
          16.021718978881836,
          15.775941848754883,
          14.299269676208496,
          14.974140167236328
         ],
         "yaxis": "y"
        },
        {
         "hovertemplate": "color=1<br>x=%{x}<br>y=%{y}<extra></extra>",
         "legendgroup": "1",
         "marker": {
          "color": "#FECB52",
          "symbol": "circle"
         },
         "mode": "markers",
         "name": "1",
         "orientation": "v",
         "showlegend": true,
         "type": "scatter",
         "x": [
          3.613915205001831,
          0.0405888631939888,
          17.79376792907715,
          3.604802131652832
         ],
         "xaxis": "x",
         "y": [
          -0.28726425766944885,
          1.0270057916641235,
          6.499595642089844,
          -0.2544682025909424
         ],
         "yaxis": "y"
        }
       ],
       "layout": {
        "height": 400,
        "legend": {
         "title": {
          "text": "color"
         },
         "tracegroupgap": 0
        },
        "template": {
         "data": {
          "bar": [
           {
            "error_x": {
             "color": "#2a3f5f"
            },
            "error_y": {
             "color": "#2a3f5f"
            },
            "marker": {
             "line": {
              "color": "#E5ECF6",
              "width": 0.5
             },
             "pattern": {
              "fillmode": "overlay",
              "size": 10,
              "solidity": 0.2
             }
            },
            "type": "bar"
           }
          ],
          "barpolar": [
           {
            "marker": {
             "line": {
              "color": "#E5ECF6",
              "width": 0.5
             },
             "pattern": {
              "fillmode": "overlay",
              "size": 10,
              "solidity": 0.2
             }
            },
            "type": "barpolar"
           }
          ],
          "carpet": [
           {
            "aaxis": {
             "endlinecolor": "#2a3f5f",
             "gridcolor": "white",
             "linecolor": "white",
             "minorgridcolor": "white",
             "startlinecolor": "#2a3f5f"
            },
            "baxis": {
             "endlinecolor": "#2a3f5f",
             "gridcolor": "white",
             "linecolor": "white",
             "minorgridcolor": "white",
             "startlinecolor": "#2a3f5f"
            },
            "type": "carpet"
           }
          ],
          "choropleth": [
           {
            "colorbar": {
             "outlinewidth": 0,
             "ticks": ""
            },
            "type": "choropleth"
           }
          ],
          "contour": [
           {
            "colorbar": {
             "outlinewidth": 0,
             "ticks": ""
            },
            "colorscale": [
             [
              0,
              "#0d0887"
             ],
             [
              0.1111111111111111,
              "#46039f"
             ],
             [
              0.2222222222222222,
              "#7201a8"
             ],
             [
              0.3333333333333333,
              "#9c179e"
             ],
             [
              0.4444444444444444,
              "#bd3786"
             ],
             [
              0.5555555555555556,
              "#d8576b"
             ],
             [
              0.6666666666666666,
              "#ed7953"
             ],
             [
              0.7777777777777778,
              "#fb9f3a"
             ],
             [
              0.8888888888888888,
              "#fdca26"
             ],
             [
              1,
              "#f0f921"
             ]
            ],
            "type": "contour"
           }
          ],
          "contourcarpet": [
           {
            "colorbar": {
             "outlinewidth": 0,
             "ticks": ""
            },
            "type": "contourcarpet"
           }
          ],
          "heatmap": [
           {
            "colorbar": {
             "outlinewidth": 0,
             "ticks": ""
            },
            "colorscale": [
             [
              0,
              "#0d0887"
             ],
             [
              0.1111111111111111,
              "#46039f"
             ],
             [
              0.2222222222222222,
              "#7201a8"
             ],
             [
              0.3333333333333333,
              "#9c179e"
             ],
             [
              0.4444444444444444,
              "#bd3786"
             ],
             [
              0.5555555555555556,
              "#d8576b"
             ],
             [
              0.6666666666666666,
              "#ed7953"
             ],
             [
              0.7777777777777778,
              "#fb9f3a"
             ],
             [
              0.8888888888888888,
              "#fdca26"
             ],
             [
              1,
              "#f0f921"
             ]
            ],
            "type": "heatmap"
           }
          ],
          "heatmapgl": [
           {
            "colorbar": {
             "outlinewidth": 0,
             "ticks": ""
            },
            "colorscale": [
             [
              0,
              "#0d0887"
             ],
             [
              0.1111111111111111,
              "#46039f"
             ],
             [
              0.2222222222222222,
              "#7201a8"
             ],
             [
              0.3333333333333333,
              "#9c179e"
             ],
             [
              0.4444444444444444,
              "#bd3786"
             ],
             [
              0.5555555555555556,
              "#d8576b"
             ],
             [
              0.6666666666666666,
              "#ed7953"
             ],
             [
              0.7777777777777778,
              "#fb9f3a"
             ],
             [
              0.8888888888888888,
              "#fdca26"
             ],
             [
              1,
              "#f0f921"
             ]
            ],
            "type": "heatmapgl"
           }
          ],
          "histogram": [
           {
            "marker": {
             "pattern": {
              "fillmode": "overlay",
              "size": 10,
              "solidity": 0.2
             }
            },
            "type": "histogram"
           }
          ],
          "histogram2d": [
           {
            "colorbar": {
             "outlinewidth": 0,
             "ticks": ""
            },
            "colorscale": [
             [
              0,
              "#0d0887"
             ],
             [
              0.1111111111111111,
              "#46039f"
             ],
             [
              0.2222222222222222,
              "#7201a8"
             ],
             [
              0.3333333333333333,
              "#9c179e"
             ],
             [
              0.4444444444444444,
              "#bd3786"
             ],
             [
              0.5555555555555556,
              "#d8576b"
             ],
             [
              0.6666666666666666,
              "#ed7953"
             ],
             [
              0.7777777777777778,
              "#fb9f3a"
             ],
             [
              0.8888888888888888,
              "#fdca26"
             ],
             [
              1,
              "#f0f921"
             ]
            ],
            "type": "histogram2d"
           }
          ],
          "histogram2dcontour": [
           {
            "colorbar": {
             "outlinewidth": 0,
             "ticks": ""
            },
            "colorscale": [
             [
              0,
              "#0d0887"
             ],
             [
              0.1111111111111111,
              "#46039f"
             ],
             [
              0.2222222222222222,
              "#7201a8"
             ],
             [
              0.3333333333333333,
              "#9c179e"
             ],
             [
              0.4444444444444444,
              "#bd3786"
             ],
             [
              0.5555555555555556,
              "#d8576b"
             ],
             [
              0.6666666666666666,
              "#ed7953"
             ],
             [
              0.7777777777777778,
              "#fb9f3a"
             ],
             [
              0.8888888888888888,
              "#fdca26"
             ],
             [
              1,
              "#f0f921"
             ]
            ],
            "type": "histogram2dcontour"
           }
          ],
          "mesh3d": [
           {
            "colorbar": {
             "outlinewidth": 0,
             "ticks": ""
            },
            "type": "mesh3d"
           }
          ],
          "parcoords": [
           {
            "line": {
             "colorbar": {
              "outlinewidth": 0,
              "ticks": ""
             }
            },
            "type": "parcoords"
           }
          ],
          "pie": [
           {
            "automargin": true,
            "type": "pie"
           }
          ],
          "scatter": [
           {
            "fillpattern": {
             "fillmode": "overlay",
             "size": 10,
             "solidity": 0.2
            },
            "type": "scatter"
           }
          ],
          "scatter3d": [
           {
            "line": {
             "colorbar": {
              "outlinewidth": 0,
              "ticks": ""
             }
            },
            "marker": {
             "colorbar": {
              "outlinewidth": 0,
              "ticks": ""
             }
            },
            "type": "scatter3d"
           }
          ],
          "scattercarpet": [
           {
            "marker": {
             "colorbar": {
              "outlinewidth": 0,
              "ticks": ""
             }
            },
            "type": "scattercarpet"
           }
          ],
          "scattergeo": [
           {
            "marker": {
             "colorbar": {
              "outlinewidth": 0,
              "ticks": ""
             }
            },
            "type": "scattergeo"
           }
          ],
          "scattergl": [
           {
            "marker": {
             "colorbar": {
              "outlinewidth": 0,
              "ticks": ""
             }
            },
            "type": "scattergl"
           }
          ],
          "scattermapbox": [
           {
            "marker": {
             "colorbar": {
              "outlinewidth": 0,
              "ticks": ""
             }
            },
            "type": "scattermapbox"
           }
          ],
          "scatterpolar": [
           {
            "marker": {
             "colorbar": {
              "outlinewidth": 0,
              "ticks": ""
             }
            },
            "type": "scatterpolar"
           }
          ],
          "scatterpolargl": [
           {
            "marker": {
             "colorbar": {
              "outlinewidth": 0,
              "ticks": ""
             }
            },
            "type": "scatterpolargl"
           }
          ],
          "scatterternary": [
           {
            "marker": {
             "colorbar": {
              "outlinewidth": 0,
              "ticks": ""
             }
            },
            "type": "scatterternary"
           }
          ],
          "surface": [
           {
            "colorbar": {
             "outlinewidth": 0,
             "ticks": ""
            },
            "colorscale": [
             [
              0,
              "#0d0887"
             ],
             [
              0.1111111111111111,
              "#46039f"
             ],
             [
              0.2222222222222222,
              "#7201a8"
             ],
             [
              0.3333333333333333,
              "#9c179e"
             ],
             [
              0.4444444444444444,
              "#bd3786"
             ],
             [
              0.5555555555555556,
              "#d8576b"
             ],
             [
              0.6666666666666666,
              "#ed7953"
             ],
             [
              0.7777777777777778,
              "#fb9f3a"
             ],
             [
              0.8888888888888888,
              "#fdca26"
             ],
             [
              1,
              "#f0f921"
             ]
            ],
            "type": "surface"
           }
          ],
          "table": [
           {
            "cells": {
             "fill": {
              "color": "#EBF0F8"
             },
             "line": {
              "color": "white"
             }
            },
            "header": {
             "fill": {
              "color": "#C8D4E3"
             },
             "line": {
              "color": "white"
             }
            },
            "type": "table"
           }
          ]
         },
         "layout": {
          "annotationdefaults": {
           "arrowcolor": "#2a3f5f",
           "arrowhead": 0,
           "arrowwidth": 1
          },
          "autotypenumbers": "strict",
          "coloraxis": {
           "colorbar": {
            "outlinewidth": 0,
            "ticks": ""
           }
          },
          "colorscale": {
           "diverging": [
            [
             0,
             "#8e0152"
            ],
            [
             0.1,
             "#c51b7d"
            ],
            [
             0.2,
             "#de77ae"
            ],
            [
             0.3,
             "#f1b6da"
            ],
            [
             0.4,
             "#fde0ef"
            ],
            [
             0.5,
             "#f7f7f7"
            ],
            [
             0.6,
             "#e6f5d0"
            ],
            [
             0.7,
             "#b8e186"
            ],
            [
             0.8,
             "#7fbc41"
            ],
            [
             0.9,
             "#4d9221"
            ],
            [
             1,
             "#276419"
            ]
           ],
           "sequential": [
            [
             0,
             "#0d0887"
            ],
            [
             0.1111111111111111,
             "#46039f"
            ],
            [
             0.2222222222222222,
             "#7201a8"
            ],
            [
             0.3333333333333333,
             "#9c179e"
            ],
            [
             0.4444444444444444,
             "#bd3786"
            ],
            [
             0.5555555555555556,
             "#d8576b"
            ],
            [
             0.6666666666666666,
             "#ed7953"
            ],
            [
             0.7777777777777778,
             "#fb9f3a"
            ],
            [
             0.8888888888888888,
             "#fdca26"
            ],
            [
             1,
             "#f0f921"
            ]
           ],
           "sequentialminus": [
            [
             0,
             "#0d0887"
            ],
            [
             0.1111111111111111,
             "#46039f"
            ],
            [
             0.2222222222222222,
             "#7201a8"
            ],
            [
             0.3333333333333333,
             "#9c179e"
            ],
            [
             0.4444444444444444,
             "#bd3786"
            ],
            [
             0.5555555555555556,
             "#d8576b"
            ],
            [
             0.6666666666666666,
             "#ed7953"
            ],
            [
             0.7777777777777778,
             "#fb9f3a"
            ],
            [
             0.8888888888888888,
             "#fdca26"
            ],
            [
             1,
             "#f0f921"
            ]
           ]
          },
          "colorway": [
           "#636efa",
           "#EF553B",
           "#00cc96",
           "#ab63fa",
           "#FFA15A",
           "#19d3f3",
           "#FF6692",
           "#B6E880",
           "#FF97FF",
           "#FECB52"
          ],
          "font": {
           "color": "#2a3f5f"
          },
          "geo": {
           "bgcolor": "white",
           "lakecolor": "white",
           "landcolor": "#E5ECF6",
           "showlakes": true,
           "showland": true,
           "subunitcolor": "white"
          },
          "hoverlabel": {
           "align": "left"
          },
          "hovermode": "closest",
          "mapbox": {
           "style": "light"
          },
          "paper_bgcolor": "white",
          "plot_bgcolor": "#E5ECF6",
          "polar": {
           "angularaxis": {
            "gridcolor": "white",
            "linecolor": "white",
            "ticks": ""
           },
           "bgcolor": "#E5ECF6",
           "radialaxis": {
            "gridcolor": "white",
            "linecolor": "white",
            "ticks": ""
           }
          },
          "scene": {
           "xaxis": {
            "backgroundcolor": "#E5ECF6",
            "gridcolor": "white",
            "gridwidth": 2,
            "linecolor": "white",
            "showbackground": true,
            "ticks": "",
            "zerolinecolor": "white"
           },
           "yaxis": {
            "backgroundcolor": "#E5ECF6",
            "gridcolor": "white",
            "gridwidth": 2,
            "linecolor": "white",
            "showbackground": true,
            "ticks": "",
            "zerolinecolor": "white"
           },
           "zaxis": {
            "backgroundcolor": "#E5ECF6",
            "gridcolor": "white",
            "gridwidth": 2,
            "linecolor": "white",
            "showbackground": true,
            "ticks": "",
            "zerolinecolor": "white"
           }
          },
          "shapedefaults": {
           "line": {
            "color": "#2a3f5f"
           }
          },
          "ternary": {
           "aaxis": {
            "gridcolor": "white",
            "linecolor": "white",
            "ticks": ""
           },
           "baxis": {
            "gridcolor": "white",
            "linecolor": "white",
            "ticks": ""
           },
           "bgcolor": "#E5ECF6",
           "caxis": {
            "gridcolor": "white",
            "linecolor": "white",
            "ticks": ""
           }
          },
          "title": {
           "x": 0.05
          },
          "xaxis": {
           "automargin": true,
           "gridcolor": "white",
           "linecolor": "white",
           "ticks": "",
           "title": {
            "standoff": 15
           },
           "zerolinecolor": "white",
           "zerolinewidth": 2
          },
          "yaxis": {
           "automargin": true,
           "gridcolor": "white",
           "linecolor": "white",
           "ticks": "",
           "title": {
            "standoff": 15
           },
           "zerolinecolor": "white",
           "zerolinewidth": 2
          }
         }
        },
        "title": {
         "text": "t-SNE_2_comp - 2.432 sec."
        },
        "width": 500,
        "xaxis": {
         "anchor": "y",
         "domain": [
          0,
          1
         ],
         "title": {
          "text": "c_1"
         }
        },
        "yaxis": {
         "anchor": "x",
         "domain": [
          0,
          1
         ],
         "title": {
          "text": "c_2"
         }
        }
       }
      }
     },
     "metadata": {},
     "output_type": "display_data"
    },
    {
     "data": {
      "application/vnd.plotly.v1+json": {
       "config": {
        "plotlyServerURL": "https://plot.ly"
       },
       "data": [
        {
         "hovertemplate": "color=5<br>x=%{x}<br>y=%{y}<extra></extra>",
         "legendgroup": "5",
         "marker": {
          "color": "#636efa",
          "symbol": "circle"
         },
         "mode": "markers",
         "name": "5",
         "orientation": "v",
         "showlegend": true,
         "type": "scatter",
         "x": [
          -0.39487182897904427,
          -0.43933032639376257,
          -0.28020491915073253,
          0.08629025032579268,
          -0.25166832667658834,
          -0.4668257062868222,
          -0.530759609511455,
          -0.25258419309764163,
          -0.6767866123499677,
          -0.4109313379383182,
          -0.14096376709639039,
          -0.7114795048411947,
          -0.45390460628322365,
          -0.01929913762744663,
          -0.4287354854750521,
          -0.4244502312488793,
          -0.17149368849739724,
          -0.6356141965359118,
          -0.09035380143747723,
          -0.19736532695618864,
          -0.3250848775632935,
          -0.452284458970169,
          -0.4062274395968852,
          -0.4656975893988089,
          -0.5375926847785797,
          0.019992394231704666,
          -0.3724086143753681,
          -0.6701647121405649,
          -0.5289657359344938,
          -0.4643273631276479,
          -0.30231737704263745,
          -0.4935380987433781,
          -0.5225655188312451,
          -1.0792693844920855,
          -0.34104763796100623,
          -0.3752734925244879,
          -0.5907026157127784,
          -0.6117598066949383,
          -0.4015488494718631,
          -0.5630290713669232,
          -0.3620653736914621,
          -0.6142438811951291,
          -0.6017551958723236,
          -0.8779097213511872,
          -0.36838362468011177,
          -1.0533704289234682,
          -0.9137015265629287,
          -0.5060784545073643,
          0.3500101948230696,
          -0.6185030586704571,
          -0.5479498013841074,
          -0.3322852024082465,
          -0.7820503868007427,
          -0.3351721151548077,
          -0.5284123441033189,
          -0.46373635792374046,
          0.20015487492927092,
          -0.611421412768178,
          -0.7357678801840997,
          -0.027887714198762455,
          -0.2326277153592367,
          -0.7530096197254749,
          -0.5710646024362799,
          -0.7050876699143008,
          -0.8136375886466974,
          -0.7891104621633617,
          -0.4857947135544499,
          -0.5084652179328304,
          -0.48509060685989963,
          -0.5195272791494386,
          -0.5316609400433039,
          -0.26703697024015555,
          -0.6411790314035534,
          -0.14420384147610016,
          -0.1791047046209731,
          -0.537471582633694,
          -0.529743584430202,
          -0.7835940840496872,
          -0.19128740578272332
         ],
         "xaxis": "x",
         "y": [
          -0.9147470768421107,
          -1.1860442353658562,
          -0.9467556570313661,
          -0.9763661484272785,
          -1.4474519452819645,
          -1.0378556899616957,
          -1.0883827803599886,
          -1.0550441657124863,
          -0.6645786920926183,
          -1.129278140226617,
          -1.05656216280299,
          -0.6885420929503531,
          -0.9692348081472071,
          -0.5785769101301397,
          -0.9092842586319048,
          -0.9133076426868586,
          -0.9640020916160905,
          -0.9679809496904918,
          -0.9052282502555417,
          -1.063948611036518,
          -0.6400479388275176,
          -0.6717603995341043,
          -1.330074073765248,
          -1.0116842203385605,
          -0.8620910799194694,
          0.010516588422558143,
          -0.8039199211578543,
          -1.0621864490812094,
          -0.7065050551968914,
          -0.6239364276767014,
          -0.08562836052402857,
          -0.9601460362465865,
          -1.1212084189875493,
          -0.6278996835473021,
          -1.0531566161070494,
          -1.5485099707551349,
          -0.8586837270551987,
          -0.7355219687123387,
          -1.3520912415731077,
          0.06355438265448177,
          -0.4710920556739549,
          -1.5554704401036976,
          -0.7840134078044095,
          -0.4091512454119234,
          -0.12197060809778597,
          -0.5220525214710052,
          -0.9011861548749833,
          -0.8547316108065919,
          -0.7789361999077563,
          -1.1100291509872142,
          -0.7148633633627792,
          -0.4489789328339786,
          -0.6799240359450638,
          -1.2280268963750214,
          -0.9377814926127738,
          -0.9352837881410475,
          -0.6596532034247192,
          -0.6791752182093607,
          -0.6839869041900981,
          -0.9309218094681782,
          -0.8452850894102961,
          -0.4757111774267711,
          -0.9024601887459129,
          -0.8466426625281167,
          -0.18315075004066275,
          -1.580829650382704,
          -0.8962811434034144,
          -1.0409610619931124,
          -1.0241799056229905,
          -0.8740016487086996,
          -0.8464771698646415,
          -0.11929934652282596,
          -0.5335722338289252,
          -0.7094412745821658,
          -0.6100067553166955,
          -0.9557252880535034,
          -1.1456063561864613,
          -1.067610444110956,
          -0.9197717471438658
         ],
         "yaxis": "y"
        },
        {
         "hovertemplate": "color=6<br>x=%{x}<br>y=%{y}<extra></extra>",
         "legendgroup": "6",
         "marker": {
          "color": "#EF553B",
          "symbol": "circle"
         },
         "mode": "markers",
         "name": "6",
         "orientation": "v",
         "showlegend": true,
         "type": "scatter",
         "x": [
          -0.01180579121536174,
          0.31491288419357766,
          0.7941986697454857,
          0.19842170091947178,
          1.0187369342117032,
          0.2891954089280062,
          0.38728117372590165,
          0.5356472125405506,
          0.47569296226946095,
          0.8648414637874955,
          0.7957746954769338,
          0.6585298502585104,
          0.7637294949212657,
          0.5463605942605372,
          0.7613342783338355,
          0.40718437056815077,
          0.1424333249151772,
          0.8690671468817457,
          0.24837008230629826,
          0.5232672346097247
         ],
         "xaxis": "x",
         "y": [
          -0.6677865641161732,
          -0.6415180915937604,
          -1.070575418992003,
          -0.45506686093676924,
          -0.6973994337592199,
          -0.6796377480453436,
          -0.4428274488258728,
          -0.7381409510522527,
          -0.8707150711858582,
          -0.5139733740486988,
          -1.2301861489570738,
          -0.5818122164066223,
          -0.4457173630956246,
          -1.1249143387321936,
          -0.3627337059528826,
          -0.4915615172650017,
          -0.7574659024849272,
          -0.3032577376009238,
          -0.5229513563619012,
          -0.7012696935454513
         ],
         "yaxis": "y"
        },
        {
         "hovertemplate": "color=3<br>x=%{x}<br>y=%{y}<extra></extra>",
         "legendgroup": "3",
         "marker": {
          "color": "#00cc96",
          "symbol": "circle"
         },
         "mode": "markers",
         "name": "3",
         "orientation": "v",
         "showlegend": true,
         "type": "scatter",
         "x": [
          1.9012676221790676,
          1.6996320546569352,
          1.8285118577858093,
          1.8051578430295467,
          1.3407380778512012,
          1.8836292565141588,
          1.3206306275755533,
          1.6360241523883503,
          1.353657366048145,
          1.8413867059636932,
          1.5049444796076035,
          1.5219135517837894,
          2.19830615876985,
          1.3374583088727259,
          1.5578571795514284,
          1.772592227075159,
          1.5029389930657764,
          1.9277409508953012,
          1.180430968930001,
          1.346242930550722,
          1.1608677517418664,
          2.070812931995354,
          1.9849740141568146,
          1.3953808700690031,
          1.909394323510951,
          1.131082317875185,
          1.4793466708051626,
          1.2866064618404356,
          1.3264842439327205,
          1.7046173709922794,
          1.4368470365597887,
          1.011272513519604,
          1.9314119397558764,
          1.9804583590445766,
          1.884608023655149,
          1.9073927157865485,
          1.4735348878661934,
          1.6502434185431658,
          1.8878560352828035,
          1.0477950589740594,
          1.7653188143685787,
          0.990856573744176,
          1.72884046250185,
          1.7418194563480844,
          1.1384582132552679,
          1.637814115763813,
          1.619806301294897,
          1.8577009318235125,
          1.8439327997621295,
          1.504177035237251,
          1.6369131642199037,
          1.5856360411804291,
          1.7732256236837678,
          1.677723587877771,
          1.4791024122633933,
          1.994354474467302,
          2.0070988346320155,
          0.13625297977980363,
          2.037692869248182,
          1.604586641786294,
          1.7263634294688783,
          2.037197233752618,
          2.0035014148438317,
          1.7670897261547531,
          1.656072594816096,
          1.8874790333346194,
          1.8434916467258053,
          2.20497153180516,
          1.4508476939556734,
          1.6217184605101365,
          1.4597690922923,
          1.428160764355157,
          2.0753183289426973,
          1.3206306451787586,
          1.9457574617040898,
          1.1051812116628192,
          1.6783770508774791,
          1.1294766533173053,
          1.683424812165111,
          1.6799044523440092,
          1.5740977573937487,
          1.4225815475818457,
          1.920141250899832,
          0.2237462477639417,
          1.7895636683381564,
          1.753503952013823,
          2.099085449779828,
          1.3584020597360815,
          1.1954811937921477,
          1.2912602878504247,
          1.9881535726041406,
          1.2183307865837572,
          2.011709688592676,
          1.3339158880848163,
          1.883001382809214,
          1.6537940473253603,
          1.9235428759183604,
          1.3704546391748786,
          1.707227249183756,
          1.9287633528441992,
          1.3618183474896215,
          1.73047821146619,
          1.254727240955581,
          1.6209707087020142,
          1.431735799000425,
          1.6513563778515803,
          1.3368918104342495,
          0.9737649684619347,
          1.99053617459753,
          1.4645104796888029,
          1.486487495377236,
          1.588572562331508,
          0.5462316569544673,
          1.9464897888813335,
          1.8833126632645503,
          1.327631699155251,
          1.322148692779207,
          1.8833505084967674,
          0.4229849535944466,
          1.1352082011778695,
          1.5018385085491623,
          1.2477146658874876,
          1.9943544744673034,
          1.8449912174955707,
          2.1678865474579894,
          1.957187600948714,
          2.0480500204852623,
          1.3563596627534946,
          1.9880227908517534,
          1.0870560464950922,
          1.72275513392006,
          1.3423163224492938,
          1.771561755071012
         ],
         "xaxis": "x",
         "y": [
          -0.030934541023287406,
          0.26180325335508925,
          0.44996517846921125,
          0.6922123056341795,
          0.6129580939662355,
          0.17930925748532078,
          0.7535229776388168,
          0.8594771310688696,
          0.832092553764807,
          0.25995641253689167,
          0.44261456989866643,
          0.804404367692792,
          0.24762000511738233,
          0.5152597504764364,
          0.5076354910453561,
          0.42655932786414646,
          1.0157016546650222,
          0.5562798301073396,
          0.26345550391031386,
          0.6482907826874412,
          0.1674519344834433,
          0.10023208429421016,
          -0.2586174185317999,
          0.6822841458075619,
          -0.37022151570131206,
          0.520949451431946,
          0.4070411919018909,
          -0.037365978779238335,
          -0.07938200574847726,
          0.251619822606539,
          0.4374176022970111,
          0.06010963964545911,
          0.08816372644218953,
          0.1818158178888328,
          0.29073156173613895,
          -0.20101448740589953,
          0.208122685728445,
          -0.08371488119301962,
          0.23491652097220142,
          0.9172854222425619,
          0.3661719986766548,
          -0.05869039500552988,
          0.2574327858295709,
          0.10499470172800617,
          0.30732013123074936,
          0.3384737770777293,
          0.9132606950842558,
          0.01170742357948384,
          0.5827331720035174,
          0.12902862527137735,
          0.8466451519583899,
          -0.32154550319242386,
          -0.44186207090058877,
          -0.6393620365647448,
          0.9884525844584682,
          -0.046286053834216495,
          0.43640658604323196,
          0.5397563058132809,
          0.034714791898468086,
          0.2645946600228104,
          0.1806812557488181,
          0.045897493052726016,
          -0.04048265877206974,
          -0.22432363947848452,
          0.25251887094855685,
          0.5917864209550046,
          0.3899770802351552,
          0.4826215355878006,
          0.3196815159182547,
          0.5539454232494339,
          0.30498739581636847,
          0.8942348648152774,
          0.22438578348088517,
          0.7535229702865337,
          0.1824805004019895,
          0.21827636647747065,
          0.3398190131786318,
          0.4017103367145647,
          0.637922124790533,
          -0.4681536142309586,
          -0.7365289323811274,
          0.2916957840847869,
          0.4632485070840815,
          0.31841179799660796,
          0.39085258337462103,
          0.5591081696909234,
          -0.06134006891676228,
          0.5574995721305372,
          0.5621181938572601,
          -0.004205964361622888,
          0.11499653886005523,
          0.48947830523294966,
          0.10110072574986183,
          0.6579548518004766,
          -0.05130732174077912,
          0.40759078374047775,
          0.3935623205962409,
          0.6841516871600104,
          0.5551256716013109,
          -0.23210913023685212,
          -0.09863038032145602,
          0.3053532465172891,
          0.5010533856049713,
          0.3281242857680705,
          -0.05812518618135935,
          0.1080364978376831,
          0.467024964620763,
          0.5716078597222012,
          0.3181435721439148,
          0.6741034094739763,
          0.7225546381733714,
          1.0684482599413978,
          0.21681497315181528,
          0.07524559753020668,
          0.5077118436562237,
          0.19111299396593248,
          -0.29758062166979854,
          0.24778532460573288,
          0.47188069698464163,
          0.05433886885384394,
          0.278059909783331,
          0.7726163609259666,
          -0.04628605383421596,
          0.4968360162798822,
          0.17808576914837054,
          -0.33014689707203243,
          -0.14441911500185758,
          0.42922381612129423,
          0.27868525163663976,
          0.36284326877445644,
          0.28226491423127026,
          0.0054720529168671116,
          0.16108541137403687
         ],
         "yaxis": "y"
        },
        {
         "hovertemplate": "color=4<br>x=%{x}<br>y=%{y}<extra></extra>",
         "legendgroup": "4",
         "marker": {
          "color": "#ab63fa",
          "symbol": "circle"
         },
         "mode": "markers",
         "name": "4",
         "orientation": "v",
         "showlegend": true,
         "type": "scatter",
         "x": [
          0.31666153193533986,
          -0.1745551916253354,
          -0.5068440590966057,
          -0.3416016872590223,
          -0.7391012998215077,
          -0.44490395002469796,
          -0.7454763272925247,
          -0.9248388996293595,
          -0.9087832398729527,
          -0.606273501673533,
          -0.6032298437767726,
          -0.76579414470687,
          0.19516747653254288,
          -0.48060346656210595,
          -0.3662600818019587,
          -0.6593200245656359,
          -0.5778823689462255,
          -0.6199328219553981,
          -0.7884122605924176,
          -0.7377740087917204,
          -0.6963879350629681,
          -0.38639926653091794,
          0.20690728782683315,
          -0.4372716515219582,
          -0.4669702397866341,
          -0.516124487696565,
          -0.7394924784701232,
          -0.6995677142259141,
          -0.6894324274235819,
          -1.069773245206137,
          -0.5077344415810082,
          -0.46098814144087935,
          -0.5245802974565946,
          -0.5165329273193828,
          -0.6312532809986171,
          -0.5159234036810814,
          -0.325790346285983,
          -0.7821694223036421,
          -0.35614093316231904,
          -0.8055583824841774,
          -0.5092238639518746,
          -0.4955131987164258,
          -0.7430388984438896,
          -0.6250102410123303,
          0.08002911696016171,
          -0.678801891106918,
          -0.7432031494649739,
          -0.7815357384018579,
          -0.6668197329904555,
          -0.832423009961919,
          -0.666516892976841,
          -0.7650539251721817,
          0.0035330025843325697,
          -0.18674866046063057,
          0.06590559353887541,
          -0.460768148431327,
          -0.758566807550642
         ],
         "xaxis": "x",
         "y": [
          0.5061928770786123,
          0.7375373332118624,
          0.9854602863328495,
          1.1073566927719414,
          0.5278979319255651,
          1.0993796851697215,
          0.5186180454212531,
          0.37455633814680617,
          -0.16335716181080992,
          0.5242561882150286,
          0.8611509805280262,
          1.5267319310374,
          1.5803945455086654,
          1.0643607073923682,
          1.024804071558622,
          0.7557203571494051,
          0.9195165763266617,
          1.1703016042027357,
          1.2254970632488218,
          1.2072886109374403,
          1.0626882657147299,
          1.0412578787994338,
          0.6535381157574448,
          0.7286925902421068,
          0.9450818697517982,
          1.0004751534147083,
          1.1765915319685933,
          1.27886417681562,
          1.3193667793293375,
          0.1243665687406388,
          0.8358505033074527,
          0.38090887926604405,
          1.0011962621177566,
          1.4159582515203912,
          1.3111358315205852,
          0.8520098853217924,
          0.9518045573476454,
          1.2830391822089404,
          0.9109149791534034,
          1.055301215498526,
          0.4813279269372776,
          1.0738083147988615,
          0.457943298468741,
          1.4211072670903708,
          1.45240625935818,
          0.6859433658906551,
          0.9197615652210891,
          0.53383733712479,
          0.9534060157270094,
          0.5241129466082788,
          0.015265461224480083,
          1.1986917244886581,
          0.6176534843145288,
          1.4308214037434328,
          1.6543286080303887,
          0.9781572869882064,
          0.9269075423603373
         ],
         "yaxis": "y"
        },
        {
         "hovertemplate": "color=0<br>x=%{x}<br>y=%{y}<extra></extra>",
         "legendgroup": "0",
         "marker": {
          "color": "#FFA15A",
          "symbol": "circle"
         },
         "mode": "markers",
         "name": "0",
         "orientation": "v",
         "showlegend": true,
         "type": "scatter",
         "x": [
          -1.084675060169609,
          -0.32658519764436145,
          -0.6578059820868191,
          -0.35907054179562303,
          0.18308287984278693,
          -0.4573157354826674,
          -0.5101149960368381,
          -0.5771418037462939,
          -0.06077271349972642,
          -0.08985875957474458,
          -0.45324309289093967,
          -0.02422764314534721,
          -0.46865340804799166,
          -0.46354254757301055,
          -0.39280722519658184,
          0.24419654270671534,
          -0.1728159066436693,
          -0.31111506908426567,
          -0.44551947989903523,
          -0.3874610412517072,
          -0.5505299693037402,
          -0.017511351643190072,
          -0.8720674796293705,
          -0.7044594569802151,
          0.23052620525047904
         ],
         "xaxis": "x",
         "y": [
          -0.521876144610424,
          -0.9844369600063245,
          -0.5522771328796395,
          -0.9820764736678705,
          -0.21844056129099568,
          -0.9732147548593717,
          -0.7956343828247213,
          -0.451885184785168,
          -0.29885405553934774,
          -0.8195129636615557,
          -0.8343069120631785,
          -0.6973972385440613,
          -0.9258426578991972,
          -0.9579103958661107,
          -0.9719097406889409,
          -0.4247280799925369,
          -0.9537029410427864,
          -1.0676274905011744,
          -1.1046809723195294,
          -1.1265112076307116,
          -0.5800503553255495,
          -0.6280788701871325,
          -1.2448279322210865,
          -0.8563469129610821,
          -0.7708019907165604
         ],
         "yaxis": "y"
        },
        {
         "hovertemplate": "color=9<br>x=%{x}<br>y=%{y}<extra></extra>",
         "legendgroup": "9",
         "marker": {
          "color": "#19d3f3",
          "symbol": "circle"
         },
         "mode": "markers",
         "name": "9",
         "orientation": "v",
         "showlegend": true,
         "type": "scatter",
         "x": [
          -0.002189275373745683,
          -0.006657963493699493,
          -0.19112878355429339,
          0.00917498421463418,
          -0.2997770062620422,
          0.11671361646044018,
          -0.17660717287541353,
          -0.053611488409075224,
          0.03421679768344004,
          0.27114596201746605,
          -0.11237661023213903,
          0.1657590297744248,
          -0.030350571729398583,
          0.4787389179962454,
          -0.6184165014158598,
          0.15967399528365955,
          0.38306033924447963,
          -0.23682833105767354,
          0.43298765685902113,
          0.10083500680547601,
          0.49612201526939204,
          -0.3562629326351921,
          -0.05340735652066166,
          0.33492535824039743,
          -0.2680785048750685,
          -0.1401646127190025,
          -0.0012888440443680925,
          -0.14608622348377842,
          0.014552547360875084,
          -0.04748273943412696,
          -0.09355010965640034,
          -0.12185779878650012,
          -0.07665111517792607,
          -0.0852343542752725,
          0.1881187939624717,
          0.2567640581229981,
          -0.7925225468816096,
          0.05630534780171907,
          0.15493072200788718,
          -0.19961247374199187,
          -0.029192068874832756,
          -0.1315988334366406,
          0.019862602067636445,
          -0.4686262734801359,
          0.0965068607974874,
          -0.06882450528755257,
          0.05502829511558046,
          0.250461678014808,
          -0.13660250992816358,
          -0.39409320233406836,
          0.06242365969472512,
          -0.009294429448288089,
          -0.06816269077062762,
          -0.1636686020850723,
          -0.3714343746150428,
          -0.055584642704742525,
          -0.5826417106390809,
          0.013239024387209496,
          0.19650135864817742,
          0.02335353718143537,
          0.06897048980490371,
          -0.19606120691947584
         ],
         "xaxis": "x",
         "y": [
          -0.31630391725655427,
          -0.5765387405170501,
          -0.9774498375144028,
          -0.3586547572201519,
          -0.9257914685430092,
          -1.3353017535511442,
          -0.836121504491409,
          -0.6057880465793247,
          -0.8359772077513251,
          0.21312018239332742,
          -0.6775572321460799,
          0.2684207194472255,
          -0.8803009066711984,
          -0.4723390998676336,
          -0.5090679686472003,
          -0.5835574400199988,
          -0.643091368026391,
          -0.5658441477686453,
          -0.03583951714906423,
          -0.7014453886664788,
          -0.6735089023429949,
          -0.4876640346671252,
          0.006369861407360986,
          -0.6618701094935312,
          -0.4400797467834554,
          -0.7473807171209121,
          -0.856752715309805,
          -0.6294220564652854,
          -0.5458384223446319,
          -0.9050574856638931,
          -0.5815237432683019,
          -0.46428932831080444,
          -1.1665814749794925,
          -1.0692444596166515,
          -0.6290681570229213,
          -0.9783029451738761,
          -0.23811840634530376,
          -0.28719431891645203,
          -0.5141829174560496,
          -0.6283502036866533,
          -0.7644518056478413,
          -0.7827965211287595,
          -0.6587946492835243,
          -0.30906113671751184,
          -1.0035012209102199,
          -0.6262027617374762,
          -0.8777768891286156,
          -0.42583248336351814,
          -0.656316785298238,
          -0.5523780032588957,
          -0.9186683608140876,
          -1.1420110595197384,
          -1.0304199572870874,
          -0.699521811856383,
          -0.7764468342957191,
          -0.9570047725407349,
          -0.7198188028238605,
          -0.7055766916859965,
          -0.7009540976734242,
          -0.8962860589898962,
          -0.8372886934029986,
          -0.8323737748322079
         ],
         "yaxis": "y"
        },
        {
         "hovertemplate": "color=7<br>x=%{x}<br>y=%{y}<extra></extra>",
         "legendgroup": "7",
         "marker": {
          "color": "#FF6692",
          "symbol": "circle"
         },
         "mode": "markers",
         "name": "7",
         "orientation": "v",
         "showlegend": true,
         "type": "scatter",
         "x": [
          -1.3328322422897043,
          -1.1102784989214443,
          -1.2384494518012532,
          -1.7429684547401059,
          -1.6552014015020158,
          -1.218535516465891,
          -0.7363691375856843,
          -1.4961248617705525,
          -1.081573286513919,
          -1.8518725893682448,
          -0.9962649964413649,
          -1.2482864675082703,
          -0.7859326756908931,
          -1.4958715675402408,
          -0.9330942350484666,
          -0.9093092066628206,
          -1.0197751284859977,
          -1.186921044181121,
          -0.8581130932138109,
          -1.2002757925085479,
          -1.1004806590079996,
          -1.3530284384899796,
          -0.9116768843048774,
          -0.8225325680573304,
          -1.3876508417348634,
          -1.01515659674052,
          -1.4490952010464673,
          -1.2072455961952626,
          -0.545361617940686,
          -1.4954123633064922,
          -0.8710098082256424,
          -1.0428945099027311,
          -1.454157606517897,
          -1.0459323853980862,
          -1.2030760787014194,
          -1.0331165295516067,
          -1.8195567872781526,
          -1.6883770253286652,
          -1.1813243740886143,
          -0.9903907728890623,
          -0.9197475240028163,
          -0.9325960392140066,
          -1.749047073748393,
          -1.119738462995657,
          -1.2157314304141662,
          -1.7565168140365384,
          -1.2301438564281677,
          -0.5303659365494996,
          -1.6401778709986015,
          -1.3819072766580536,
          -1.3781222012140766,
          -1.4252447644501507,
          -1.0058021951726273,
          -1.8170993104744257
         ],
         "xaxis": "x",
         "y": [
          -0.5680344802104567,
          -0.7160101257051492,
          -0.7456761203426489,
          -0.7351908313365497,
          -0.4532765265430746,
          -0.6146165393499204,
          -0.5201038471992472,
          -0.7292813000017205,
          -0.13672746217899148,
          -0.9831430570150989,
          -0.6516832255381303,
          -0.3383850257479177,
          0.11086658500143926,
          -0.7797365145141225,
          -0.6150863417556138,
          -0.3053677604428169,
          -0.2839416038740385,
          -0.4026102419491654,
          -0.5703757294526519,
          -0.7435372588763526,
          -0.10794996671636638,
          -0.670898006051168,
          -0.1521257936466005,
          0.09561822672590514,
          -0.4617967480031125,
          -0.6037781989109866,
          -0.172290202722169,
          -0.6845999831729135,
          0.5188463937145457,
          -0.6552654655608807,
          -0.7320883213792497,
          -0.5878019613446098,
          -0.33424702456042726,
          -0.4616481826433732,
          -0.3996958523899558,
          -0.07084130638537017,
          -1.0538250441435475,
          -0.6651740361522084,
          -0.7850795012471693,
          -1.1582162660208037,
          -0.5738535403383058,
          -0.44356605926781256,
          -0.5889119155716136,
          -0.4198181235116288,
          -0.331237855445216,
          -0.5780377067100854,
          -0.43224225227925506,
          -0.17754366262422144,
          -0.7181791028384982,
          -0.9547848460907513,
          -0.5538221116195583,
          -0.33700587294853385,
          -0.49657927703988386,
          -0.47619700753001326
         ],
         "yaxis": "y"
        },
        {
         "hovertemplate": "color=8<br>x=%{x}<br>y=%{y}<extra></extra>",
         "legendgroup": "8",
         "marker": {
          "color": "#B6E880",
          "symbol": "circle"
         },
         "mode": "markers",
         "name": "8",
         "orientation": "v",
         "showlegend": true,
         "type": "scatter",
         "x": [
          -1.6862943016796066,
          -1.0516274617432575,
          -1.0848716479210057,
          -0.869706036245378,
          -0.6617843627240004,
          -0.895014270968336,
          -1.1521585643372823,
          -1.2228655707506557,
          -1.372615970857387,
          -1.5283019474645203,
          -1.1342137042102003,
          -0.8499681119666574,
          -0.9995375425160609,
          -1.6574942366435903,
          -1.3909068772987114,
          -1.5550314820592748,
          -1.5623375605921928,
          -1.434206099895229,
          -1.4329094427508082,
          -1.3286720670099852,
          -1.2661210875990696,
          -1.3449768038016503,
          -1.2901201781748244,
          -1.5680163577458583,
          -1.1222815717222727,
          -1.0676366953036203,
          -1.314331680560265,
          -1.2408353807877015,
          -1.1730278874379623,
          -0.9875900329133408,
          -1.5517803215042485,
          -1.3399643598214737,
          -1.4591501593254341,
          -1.4145165817506467,
          -1.3627508188604174,
          -0.915390018932031,
          -1.4104066940424116,
          -1.4049019368164848,
          -1.3876613691279664,
          -1.3999716863331857,
          -1.4615481115530982,
          -0.6768317203382175,
          -1.279438799665856,
          -0.8041466120706191,
          -1.2460890153987945,
          -1.3404067855412283,
          -1.5726989204515558,
          -1.0923285169007286,
          -1.064482799890378
         ],
         "xaxis": "x",
         "y": [
          1.651657512908393,
          1.5919000979620093,
          1.5944187654633426,
          0.37636876878587966,
          1.2000664696513776,
          1.8773633507994651,
          1.1885669242852768,
          1.1684041727474164,
          2.0706552178622086,
          2.283417707887801,
          1.4393214796202127,
          0.26694066458517945,
          1.6840782979294107,
          1.6136630603984776,
          1.6696711198364587,
          1.8759115444004961,
          1.8885108661334535,
          1.713345913110078,
          1.945311989247121,
          1.977292367413167,
          1.767592669314107,
          1.3197235527425344,
          1.659185162909433,
          2.050046010680707,
          1.9438680279107432,
          1.5634910941684432,
          1.8924683705646346,
          1.6578559786666363,
          1.6897423288279914,
          1.585493453133588,
          1.8646235958487587,
          1.6103427403397808,
          1.5175244157954826,
          1.7579278229958595,
          1.572929952680339,
          1.5756868161293358,
          2.24598102356598,
          1.88375185227938,
          2.281342494098401,
          1.8029293927027303,
          0.7430122640890436,
          1.8242000173721276,
          1.6836010054981587,
          1.5793757954062075,
          1.7009428393856707,
          1.928706094747709,
          1.8573441239505772,
          2.2433276420167143,
          1.2640643126925004
         ],
         "yaxis": "y"
        },
        {
         "hovertemplate": "color=2<br>x=%{x}<br>y=%{y}<extra></extra>",
         "legendgroup": "2",
         "marker": {
          "color": "#FF97FF",
          "symbol": "circle"
         },
         "mode": "markers",
         "name": "2",
         "orientation": "v",
         "showlegend": true,
         "type": "scatter",
         "x": [
          -1.2922428499340664,
          -1.1494546207067649,
          -1.263726434267802,
          -1.18352127259241,
          -0.8333030436092234,
          -1.3123870798375106,
          -0.9563494155751618,
          -0.9885301373355658,
          -0.895136672838586,
          -0.9744978073305108,
          -1.2050569306485144,
          -1.3982383833536949,
          -1.1985806440642162,
          -1.2576951042663536,
          -0.3516387925307593,
          -1.0189438845603604,
          -1.0843975405623991
         ],
         "xaxis": "x",
         "y": [
          -0.29466005746419155,
          -0.7422817162943733,
          -0.2574631153146542,
          -0.29853092089916594,
          0.35032691611802824,
          0.006029003084147732,
          -0.7019353701793113,
          0.7439692743448204,
          -0.10690034134005964,
          -0.2096027083085921,
          -0.615606434594476,
          -0.34727547091791366,
          -0.46854880681904526,
          -0.08381845479428525,
          -0.05316994105025746,
          -0.19449777741635998,
          -0.41788062782888796
         ],
         "yaxis": "y"
        },
        {
         "hovertemplate": "color=1<br>x=%{x}<br>y=%{y}<extra></extra>",
         "legendgroup": "1",
         "marker": {
          "color": "#FECB52",
          "symbol": "circle"
         },
         "mode": "markers",
         "name": "1",
         "orientation": "v",
         "showlegend": true,
         "type": "scatter",
         "x": [
          -0.11082471393677924,
          0.002511448254656235,
          0.31636614038318545,
          0.21012366214056077
         ],
         "xaxis": "x",
         "y": [
          0.10974500926918358,
          -0.2968886500284451,
          -0.4874371919597745,
          -0.8135153639340451
         ],
         "yaxis": "y"
        }
       ],
       "layout": {
        "height": 400,
        "legend": {
         "title": {
          "text": "color"
         },
         "tracegroupgap": 0
        },
        "template": {
         "data": {
          "bar": [
           {
            "error_x": {
             "color": "#2a3f5f"
            },
            "error_y": {
             "color": "#2a3f5f"
            },
            "marker": {
             "line": {
              "color": "#E5ECF6",
              "width": 0.5
             },
             "pattern": {
              "fillmode": "overlay",
              "size": 10,
              "solidity": 0.2
             }
            },
            "type": "bar"
           }
          ],
          "barpolar": [
           {
            "marker": {
             "line": {
              "color": "#E5ECF6",
              "width": 0.5
             },
             "pattern": {
              "fillmode": "overlay",
              "size": 10,
              "solidity": 0.2
             }
            },
            "type": "barpolar"
           }
          ],
          "carpet": [
           {
            "aaxis": {
             "endlinecolor": "#2a3f5f",
             "gridcolor": "white",
             "linecolor": "white",
             "minorgridcolor": "white",
             "startlinecolor": "#2a3f5f"
            },
            "baxis": {
             "endlinecolor": "#2a3f5f",
             "gridcolor": "white",
             "linecolor": "white",
             "minorgridcolor": "white",
             "startlinecolor": "#2a3f5f"
            },
            "type": "carpet"
           }
          ],
          "choropleth": [
           {
            "colorbar": {
             "outlinewidth": 0,
             "ticks": ""
            },
            "type": "choropleth"
           }
          ],
          "contour": [
           {
            "colorbar": {
             "outlinewidth": 0,
             "ticks": ""
            },
            "colorscale": [
             [
              0,
              "#0d0887"
             ],
             [
              0.1111111111111111,
              "#46039f"
             ],
             [
              0.2222222222222222,
              "#7201a8"
             ],
             [
              0.3333333333333333,
              "#9c179e"
             ],
             [
              0.4444444444444444,
              "#bd3786"
             ],
             [
              0.5555555555555556,
              "#d8576b"
             ],
             [
              0.6666666666666666,
              "#ed7953"
             ],
             [
              0.7777777777777778,
              "#fb9f3a"
             ],
             [
              0.8888888888888888,
              "#fdca26"
             ],
             [
              1,
              "#f0f921"
             ]
            ],
            "type": "contour"
           }
          ],
          "contourcarpet": [
           {
            "colorbar": {
             "outlinewidth": 0,
             "ticks": ""
            },
            "type": "contourcarpet"
           }
          ],
          "heatmap": [
           {
            "colorbar": {
             "outlinewidth": 0,
             "ticks": ""
            },
            "colorscale": [
             [
              0,
              "#0d0887"
             ],
             [
              0.1111111111111111,
              "#46039f"
             ],
             [
              0.2222222222222222,
              "#7201a8"
             ],
             [
              0.3333333333333333,
              "#9c179e"
             ],
             [
              0.4444444444444444,
              "#bd3786"
             ],
             [
              0.5555555555555556,
              "#d8576b"
             ],
             [
              0.6666666666666666,
              "#ed7953"
             ],
             [
              0.7777777777777778,
              "#fb9f3a"
             ],
             [
              0.8888888888888888,
              "#fdca26"
             ],
             [
              1,
              "#f0f921"
             ]
            ],
            "type": "heatmap"
           }
          ],
          "heatmapgl": [
           {
            "colorbar": {
             "outlinewidth": 0,
             "ticks": ""
            },
            "colorscale": [
             [
              0,
              "#0d0887"
             ],
             [
              0.1111111111111111,
              "#46039f"
             ],
             [
              0.2222222222222222,
              "#7201a8"
             ],
             [
              0.3333333333333333,
              "#9c179e"
             ],
             [
              0.4444444444444444,
              "#bd3786"
             ],
             [
              0.5555555555555556,
              "#d8576b"
             ],
             [
              0.6666666666666666,
              "#ed7953"
             ],
             [
              0.7777777777777778,
              "#fb9f3a"
             ],
             [
              0.8888888888888888,
              "#fdca26"
             ],
             [
              1,
              "#f0f921"
             ]
            ],
            "type": "heatmapgl"
           }
          ],
          "histogram": [
           {
            "marker": {
             "pattern": {
              "fillmode": "overlay",
              "size": 10,
              "solidity": 0.2
             }
            },
            "type": "histogram"
           }
          ],
          "histogram2d": [
           {
            "colorbar": {
             "outlinewidth": 0,
             "ticks": ""
            },
            "colorscale": [
             [
              0,
              "#0d0887"
             ],
             [
              0.1111111111111111,
              "#46039f"
             ],
             [
              0.2222222222222222,
              "#7201a8"
             ],
             [
              0.3333333333333333,
              "#9c179e"
             ],
             [
              0.4444444444444444,
              "#bd3786"
             ],
             [
              0.5555555555555556,
              "#d8576b"
             ],
             [
              0.6666666666666666,
              "#ed7953"
             ],
             [
              0.7777777777777778,
              "#fb9f3a"
             ],
             [
              0.8888888888888888,
              "#fdca26"
             ],
             [
              1,
              "#f0f921"
             ]
            ],
            "type": "histogram2d"
           }
          ],
          "histogram2dcontour": [
           {
            "colorbar": {
             "outlinewidth": 0,
             "ticks": ""
            },
            "colorscale": [
             [
              0,
              "#0d0887"
             ],
             [
              0.1111111111111111,
              "#46039f"
             ],
             [
              0.2222222222222222,
              "#7201a8"
             ],
             [
              0.3333333333333333,
              "#9c179e"
             ],
             [
              0.4444444444444444,
              "#bd3786"
             ],
             [
              0.5555555555555556,
              "#d8576b"
             ],
             [
              0.6666666666666666,
              "#ed7953"
             ],
             [
              0.7777777777777778,
              "#fb9f3a"
             ],
             [
              0.8888888888888888,
              "#fdca26"
             ],
             [
              1,
              "#f0f921"
             ]
            ],
            "type": "histogram2dcontour"
           }
          ],
          "mesh3d": [
           {
            "colorbar": {
             "outlinewidth": 0,
             "ticks": ""
            },
            "type": "mesh3d"
           }
          ],
          "parcoords": [
           {
            "line": {
             "colorbar": {
              "outlinewidth": 0,
              "ticks": ""
             }
            },
            "type": "parcoords"
           }
          ],
          "pie": [
           {
            "automargin": true,
            "type": "pie"
           }
          ],
          "scatter": [
           {
            "fillpattern": {
             "fillmode": "overlay",
             "size": 10,
             "solidity": 0.2
            },
            "type": "scatter"
           }
          ],
          "scatter3d": [
           {
            "line": {
             "colorbar": {
              "outlinewidth": 0,
              "ticks": ""
             }
            },
            "marker": {
             "colorbar": {
              "outlinewidth": 0,
              "ticks": ""
             }
            },
            "type": "scatter3d"
           }
          ],
          "scattercarpet": [
           {
            "marker": {
             "colorbar": {
              "outlinewidth": 0,
              "ticks": ""
             }
            },
            "type": "scattercarpet"
           }
          ],
          "scattergeo": [
           {
            "marker": {
             "colorbar": {
              "outlinewidth": 0,
              "ticks": ""
             }
            },
            "type": "scattergeo"
           }
          ],
          "scattergl": [
           {
            "marker": {
             "colorbar": {
              "outlinewidth": 0,
              "ticks": ""
             }
            },
            "type": "scattergl"
           }
          ],
          "scattermapbox": [
           {
            "marker": {
             "colorbar": {
              "outlinewidth": 0,
              "ticks": ""
             }
            },
            "type": "scattermapbox"
           }
          ],
          "scatterpolar": [
           {
            "marker": {
             "colorbar": {
              "outlinewidth": 0,
              "ticks": ""
             }
            },
            "type": "scatterpolar"
           }
          ],
          "scatterpolargl": [
           {
            "marker": {
             "colorbar": {
              "outlinewidth": 0,
              "ticks": ""
             }
            },
            "type": "scatterpolargl"
           }
          ],
          "scatterternary": [
           {
            "marker": {
             "colorbar": {
              "outlinewidth": 0,
              "ticks": ""
             }
            },
            "type": "scatterternary"
           }
          ],
          "surface": [
           {
            "colorbar": {
             "outlinewidth": 0,
             "ticks": ""
            },
            "colorscale": [
             [
              0,
              "#0d0887"
             ],
             [
              0.1111111111111111,
              "#46039f"
             ],
             [
              0.2222222222222222,
              "#7201a8"
             ],
             [
              0.3333333333333333,
              "#9c179e"
             ],
             [
              0.4444444444444444,
              "#bd3786"
             ],
             [
              0.5555555555555556,
              "#d8576b"
             ],
             [
              0.6666666666666666,
              "#ed7953"
             ],
             [
              0.7777777777777778,
              "#fb9f3a"
             ],
             [
              0.8888888888888888,
              "#fdca26"
             ],
             [
              1,
              "#f0f921"
             ]
            ],
            "type": "surface"
           }
          ],
          "table": [
           {
            "cells": {
             "fill": {
              "color": "#EBF0F8"
             },
             "line": {
              "color": "white"
             }
            },
            "header": {
             "fill": {
              "color": "#C8D4E3"
             },
             "line": {
              "color": "white"
             }
            },
            "type": "table"
           }
          ]
         },
         "layout": {
          "annotationdefaults": {
           "arrowcolor": "#2a3f5f",
           "arrowhead": 0,
           "arrowwidth": 1
          },
          "autotypenumbers": "strict",
          "coloraxis": {
           "colorbar": {
            "outlinewidth": 0,
            "ticks": ""
           }
          },
          "colorscale": {
           "diverging": [
            [
             0,
             "#8e0152"
            ],
            [
             0.1,
             "#c51b7d"
            ],
            [
             0.2,
             "#de77ae"
            ],
            [
             0.3,
             "#f1b6da"
            ],
            [
             0.4,
             "#fde0ef"
            ],
            [
             0.5,
             "#f7f7f7"
            ],
            [
             0.6,
             "#e6f5d0"
            ],
            [
             0.7,
             "#b8e186"
            ],
            [
             0.8,
             "#7fbc41"
            ],
            [
             0.9,
             "#4d9221"
            ],
            [
             1,
             "#276419"
            ]
           ],
           "sequential": [
            [
             0,
             "#0d0887"
            ],
            [
             0.1111111111111111,
             "#46039f"
            ],
            [
             0.2222222222222222,
             "#7201a8"
            ],
            [
             0.3333333333333333,
             "#9c179e"
            ],
            [
             0.4444444444444444,
             "#bd3786"
            ],
            [
             0.5555555555555556,
             "#d8576b"
            ],
            [
             0.6666666666666666,
             "#ed7953"
            ],
            [
             0.7777777777777778,
             "#fb9f3a"
            ],
            [
             0.8888888888888888,
             "#fdca26"
            ],
            [
             1,
             "#f0f921"
            ]
           ],
           "sequentialminus": [
            [
             0,
             "#0d0887"
            ],
            [
             0.1111111111111111,
             "#46039f"
            ],
            [
             0.2222222222222222,
             "#7201a8"
            ],
            [
             0.3333333333333333,
             "#9c179e"
            ],
            [
             0.4444444444444444,
             "#bd3786"
            ],
            [
             0.5555555555555556,
             "#d8576b"
            ],
            [
             0.6666666666666666,
             "#ed7953"
            ],
            [
             0.7777777777777778,
             "#fb9f3a"
            ],
            [
             0.8888888888888888,
             "#fdca26"
            ],
            [
             1,
             "#f0f921"
            ]
           ]
          },
          "colorway": [
           "#636efa",
           "#EF553B",
           "#00cc96",
           "#ab63fa",
           "#FFA15A",
           "#19d3f3",
           "#FF6692",
           "#B6E880",
           "#FF97FF",
           "#FECB52"
          ],
          "font": {
           "color": "#2a3f5f"
          },
          "geo": {
           "bgcolor": "white",
           "lakecolor": "white",
           "landcolor": "#E5ECF6",
           "showlakes": true,
           "showland": true,
           "subunitcolor": "white"
          },
          "hoverlabel": {
           "align": "left"
          },
          "hovermode": "closest",
          "mapbox": {
           "style": "light"
          },
          "paper_bgcolor": "white",
          "plot_bgcolor": "#E5ECF6",
          "polar": {
           "angularaxis": {
            "gridcolor": "white",
            "linecolor": "white",
            "ticks": ""
           },
           "bgcolor": "#E5ECF6",
           "radialaxis": {
            "gridcolor": "white",
            "linecolor": "white",
            "ticks": ""
           }
          },
          "scene": {
           "xaxis": {
            "backgroundcolor": "#E5ECF6",
            "gridcolor": "white",
            "gridwidth": 2,
            "linecolor": "white",
            "showbackground": true,
            "ticks": "",
            "zerolinecolor": "white"
           },
           "yaxis": {
            "backgroundcolor": "#E5ECF6",
            "gridcolor": "white",
            "gridwidth": 2,
            "linecolor": "white",
            "showbackground": true,
            "ticks": "",
            "zerolinecolor": "white"
           },
           "zaxis": {
            "backgroundcolor": "#E5ECF6",
            "gridcolor": "white",
            "gridwidth": 2,
            "linecolor": "white",
            "showbackground": true,
            "ticks": "",
            "zerolinecolor": "white"
           }
          },
          "shapedefaults": {
           "line": {
            "color": "#2a3f5f"
           }
          },
          "ternary": {
           "aaxis": {
            "gridcolor": "white",
            "linecolor": "white",
            "ticks": ""
           },
           "baxis": {
            "gridcolor": "white",
            "linecolor": "white",
            "ticks": ""
           },
           "bgcolor": "#E5ECF6",
           "caxis": {
            "gridcolor": "white",
            "linecolor": "white",
            "ticks": ""
           }
          },
          "title": {
           "x": 0.05
          },
          "xaxis": {
           "automargin": true,
           "gridcolor": "white",
           "linecolor": "white",
           "ticks": "",
           "title": {
            "standoff": 15
           },
           "zerolinecolor": "white",
           "zerolinewidth": 2
          },
          "yaxis": {
           "automargin": true,
           "gridcolor": "white",
           "linecolor": "white",
           "ticks": "",
           "title": {
            "standoff": 15
           },
           "zerolinecolor": "white",
           "zerolinewidth": 2
          }
         }
        },
        "title": {
         "text": "Isomap_2_comp - 0.144 sec."
        },
        "width": 500,
        "xaxis": {
         "anchor": "y",
         "domain": [
          0,
          1
         ],
         "title": {
          "text": "c_1"
         }
        },
        "yaxis": {
         "anchor": "x",
         "domain": [
          0,
          1
         ],
         "title": {
          "text": "c_2"
         }
        }
       }
      }
     },
     "metadata": {},
     "output_type": "display_data"
    },
    {
     "data": {
      "application/vnd.plotly.v1+json": {
       "config": {
        "plotlyServerURL": "https://plot.ly"
       },
       "data": [
        {
         "hovertemplate": "color=5<br>x=%{x}<br>y=%{y}<extra></extra>",
         "legendgroup": "5",
         "marker": {
          "color": "#636efa",
          "symbol": "circle"
         },
         "mode": "markers",
         "name": "5",
         "orientation": "v",
         "showlegend": true,
         "type": "scatter",
         "x": [
          0.0056479442132222404,
          0.00683108790013643,
          0.005233185596193839,
          -0.007503702262803683,
          0.004329135582276038,
          0.008183271351756605,
          0.005993160261493102,
          0.002935236798766278,
          0.01016524914833402,
          0.009515590455435697,
          0.003709165165387558,
          0.010373407881629198,
          0.007535339454805355,
          -0.0015304930974876386,
          0.008598517108699251,
          0.007267304448958775,
          0.006372778093751447,
          0.009192160112292617,
          0.0030350456884001287,
          0.009816771938441285,
          0.004239912920899022,
          0.007390046800938438,
          0.008219332368211513,
          0.0061620685792621935,
          0.009435810734977748,
          -0.003394065841189382,
          0.006401030767058117,
          0.010891840477121564,
          0.00949801089296367,
          0.009360301607015824,
          0.00714920644360139,
          0.004932656714924752,
          0.008262181862175456,
          0.020453357316499526,
          0.006103741936909717,
          0.007539509079431548,
          0.007064446692830309,
          0.008147051783058454,
          0.008012592558219813,
          0.010153752858416439,
          0.005824225184448823,
          0.0072748240955283,
          0.008185611180825385,
          0.02512477685426117,
          -0.0015703626140870924,
          0.023082792163827658,
          0.009695119623020838,
          0.005548876128129529,
          -0.0019168373250083443,
          0.0093439769785982,
          0.004754368406764388,
          0.00902453940755446,
          0.01091489314666845,
          0.007731094298597051,
          0.007060293798566042,
          0.007623347959294454,
          -0.008037702815512564,
          0.011273353477959783,
          0.008801653821703555,
          -0.005619658761120652,
          -0.0005743401231759621,
          0.012496871153893793,
          0.007880516350512477,
          0.006535550516260688,
          0.01101653008233968,
          0.00827144019728411,
          0.0036559707001900255,
          0.007933896786893716,
          0.009091229561545615,
          0.007531613189409012,
          0.006662453455458692,
          -0.000682837636196934,
          0.00858933225429126,
          0.0026453110841321986,
          0.0005202178377853584,
          0.008638442242302365,
          0.007064652878513086,
          0.009702295800769582,
          0.001150381917032671
         ],
         "xaxis": "x",
         "y": [
          0.002461230461877552,
          -0.0017460415959957704,
          -0.0033819369211346845,
          -0.0027663708919923036,
          -0.0015191349488764619,
          -0.0009096093632180603,
          -0.0014641628838347742,
          -0.0017941093323553389,
          -0.0020260477718445566,
          -0.0014288433247645338,
          -0.0024599402834937223,
          0.0016878705081384785,
          -0.0019947771697704925,
          -0.0023999924072462737,
          -0.0008616496327135958,
          -0.000946905761398123,
          -0.0021370983184712186,
          -0.001313387580886026,
          -0.0022400644245047993,
          -0.0021540680825258493,
          -0.0022688135997600348,
          -0.0028258543569515474,
          -0.0015942075330106914,
          -0.0021953132764364856,
          -0.0017271510881726078,
          0.057295492177238935,
          -0.0013007720617001905,
          0.00016556269851175642,
          -0.00001706410429903188,
          -0.0009808366343533603,
          -0.0051659391665636115,
          -0.0018077111690984055,
          -0.0014469479773240174,
          -0.00044903213620665905,
          -0.0027220379149694605,
          -0.0017389090478794472,
          -0.0013067725069129121,
          -0.0009010701636815513,
          -0.0015550104352742957,
          -0.0009860723422375275,
          -0.0036527670569520797,
          -0.0015662694331688848,
          -0.002065790944752323,
          0.0011538101424091451,
          -0.00419351460710328,
          -0.0000431491072190697,
          -0.0021198387913645353,
          -0.0020895928797140806,
          -0.003381885117617847,
          -0.0018145583124358072,
          -0.0037546470323517878,
          -0.0011618443917741986,
          -0.001817552661533009,
          -0.0011029827229299474,
          -0.0019977155909170208,
          -0.0026204838506531953,
          -0.0019861112549706267,
          -0.002557323848511331,
          -0.0018557501169743293,
          -0.004069635813254535,
          -0.000967068155881004,
          -0.0003042563112159377,
          -0.001694868167650472,
          0.0039158330531540095,
          -0.0015370703574611594,
          -0.0022093184920884933,
          -0.0037593489358068582,
          -0.0017670076824849567,
          -0.0023529945247228318,
          -0.0029103629962500127,
          0.004406947804393259,
          -0.0038662432061430246,
          0.00007220670435335473,
          -0.002884454302514536,
          -0.0011659267535342466,
          -0.00010210722300933728,
          -0.0016975710314241221,
          -0.001821972895030062,
          -0.0038284303566303024
         ],
         "yaxis": "y"
        },
        {
         "hovertemplate": "color=6<br>x=%{x}<br>y=%{y}<extra></extra>",
         "legendgroup": "6",
         "marker": {
          "color": "#EF553B",
          "symbol": "circle"
         },
         "mode": "markers",
         "name": "6",
         "orientation": "v",
         "showlegend": true,
         "type": "scatter",
         "x": [
          0.0024808633910488875,
          -0.0030686465799352088,
          -0.01520274366989971,
          -0.003257421660989232,
          -0.014563062812420969,
          -0.008186311125594203,
          -0.006146296139369928,
          -0.007452759807371381,
          -0.004070427825956843,
          -0.007608199693833254,
          -0.009948988256951952,
          -0.006236281691736694,
          -0.00749683425338879,
          -0.007520527473591785,
          -0.0026641669058557887,
          0.00011496105715128047,
          -0.0024037156050869257,
          -0.010853239039525335,
          -0.003144539117339702,
          -0.004930901599750764
         ],
         "xaxis": "x",
         "y": [
          -0.0037913793628530645,
          -0.003500412299320445,
          -0.006982157264733946,
          -0.004248052441113079,
          -0.0035602800576531556,
          -0.005840423176285046,
          -0.0010829109915356724,
          -0.004999725032087392,
          -0.0047233023356611295,
          -0.004555760195113917,
          -0.005100800796015811,
          -0.004566876276777716,
          -0.0050845371254734,
          -0.005329907517500098,
          -0.004071273756578467,
          -0.003799179202608638,
          -0.004620490158568066,
          -0.005367027513154175,
          -0.004090908007333714,
          -0.0021035336997712734
         ],
         "yaxis": "y"
        },
        {
         "hovertemplate": "color=3<br>x=%{x}<br>y=%{y}<extra></extra>",
         "legendgroup": "3",
         "marker": {
          "color": "#00cc96",
          "symbol": "circle"
         },
         "mode": "markers",
         "name": "3",
         "orientation": "v",
         "showlegend": true,
         "type": "scatter",
         "x": [
          -0.052326033578817065,
          -0.04208826800155528,
          -0.04810103037285228,
          -0.056824810373060516,
          -0.040729170318666644,
          -0.04610739170947202,
          -0.11057954434318251,
          -0.05016537444751601,
          -0.06492901421971953,
          -0.09074814127234074,
          -0.09765704270555436,
          -0.053921812391310435,
          -0.04728915333174135,
          -0.04376291633445661,
          -0.05331576035264465,
          -0.05662424018079047,
          -0.04429394834660083,
          -0.050411598548836645,
          -0.03603364506686145,
          -0.047866157712644526,
          -0.03824210818205597,
          -0.04669929577592326,
          -0.06104349018260576,
          -0.04470746776590214,
          -0.054995890577576576,
          -0.04710562102444383,
          -0.05222673169084307,
          -0.03559891548025777,
          -0.052106616763852226,
          -0.0600910572175491,
          -0.0555677317113901,
          -0.039041087475520875,
          -0.048411177851353654,
          -0.05793958216908124,
          -0.048877544665245715,
          -0.05527414966666298,
          -0.0504343749033763,
          -0.04653554578146117,
          -0.052282612766436844,
          -0.022951059762808517,
          -0.06349777111183041,
          -0.03044932582129499,
          -0.04869092310935305,
          -0.051820554596806796,
          -0.03262986609381792,
          -0.04967327113567905,
          -0.05372791744918386,
          -0.05333483182505589,
          -0.049515962881983615,
          -0.04757118322132709,
          -0.05319773638018893,
          -0.05138589902949912,
          -0.052779046234209835,
          -0.057761080106613925,
          -0.03239755249029196,
          -0.3624662580148748,
          -0.052094637522657854,
          -0.010870072932483307,
          -0.05710018820315819,
          -0.052342267038071225,
          -0.04991575694351576,
          -0.04751946779531081,
          -0.04998287461048885,
          -0.052143486639703626,
          -0.044557250765181675,
          -0.04914356582502601,
          -0.053859360414245536,
          -0.05073881118687288,
          -0.05258725581705547,
          -0.06182442233567298,
          -0.05650364170842126,
          -0.05438432181874991,
          -0.09333036147120127,
          -0.10784420378236624,
          -0.04796354300122,
          -0.03836274843974034,
          -0.05185660520921045,
          -0.0372173743988097,
          -0.05667028153559326,
          -0.03562851011412124,
          -0.03149295938164426,
          -0.05409154618826024,
          -0.05265393514133837,
          -0.0071280248833124425,
          -0.04764836715757344,
          -0.05900876692240664,
          -0.05965078428765064,
          -0.04705567711249639,
          -0.04499356848265908,
          -0.05760151693346909,
          -0.046316762366015375,
          -0.04178519609781333,
          -0.05507027652957181,
          -0.05090627663785935,
          -0.046272473947806037,
          -0.05842834485942096,
          -0.05221124975526055,
          -0.07132443901396461,
          -0.053595375917198596,
          -0.05172897340654755,
          -0.04762507930299587,
          -0.05259305655123597,
          -0.06276832260383061,
          -0.10197679850954687,
          -0.06387590101693902,
          -0.04300518431650069,
          -0.0504986360435526,
          -0.03144340313335742,
          -0.057237754591939624,
          -0.05181731600875898,
          -0.06497782781927289,
          -0.05079688653927074,
          -0.02098704548683448,
          -0.05143299483319492,
          -0.051833892642467995,
          -0.06751829475515436,
          -0.040791457564575334,
          -0.046108184272952824,
          -0.02240681073990334,
          -0.04493679468454988,
          -0.05280180250699623,
          -0.05192135458976481,
          -0.3463144469754867,
          -0.04443377384688591,
          -0.05102949986566647,
          -0.05006654973273861,
          -0.04118811296288706,
          -0.055004196760651436,
          -0.08345261760092357,
          -0.032511140570139166,
          -0.06725353435700204,
          -0.04005955162367678,
          -0.06857960581348913
         ],
         "xaxis": "x",
         "y": [
          -0.015276180163920926,
          -0.010094309517719696,
          -0.017004084269180018,
          -0.02935499068208542,
          -0.009280869451166428,
          -0.013046080824969546,
          0.6924852325795287,
          -0.013427493480987584,
          0.08360349801800429,
          -0.02800111259218579,
          -0.006823910220810969,
          0.061378898581111146,
          -0.021072950639399235,
          -0.023606661022574957,
          -0.005308500114069192,
          0.00345726035747327,
          -0.000032078112260608416,
          0.0014642211437282879,
          -0.0033264313354110994,
          0.0027851847336911803,
          -0.01151664142617856,
          -0.005837177278902428,
          -0.009592609852088005,
          -0.009414584154352786,
          -0.00991557163032826,
          0.006892119850971717,
          -0.004884138792783841,
          -0.01177689100262723,
          -0.014050782421175221,
          -0.012841166863081614,
          -0.016162035730783588,
          -0.013210705762520245,
          -0.018612731457197045,
          0.043883524654986746,
          -0.009690098319425189,
          -0.012990400459001558,
          -0.05820313448710311,
          -0.02417872020223838,
          -0.003771695450330778,
          -0.005191069666934504,
          -0.017240957255630233,
          -0.038875877449738375,
          0.004894174680094801,
          -0.008279530811394362,
          -0.009470004861682433,
          -0.0027559433092671035,
          -0.0159768353880157,
          -0.020229186881435393,
          -0.037293756864561614,
          -0.014636081576821766,
          -0.003505285558691862,
          -0.027779734268855924,
          -0.01643585736935201,
          -0.0021695358720853868,
          -0.005712637885977865,
          -0.1023327236457519,
          -0.0030781059139728464,
          -0.004520045202611289,
          0.014222079842316201,
          -0.007941116545366285,
          -0.009243168748826386,
          -0.01466192515941283,
          -0.006045808263773156,
          0.008923356302110455,
          -0.04336666089120681,
          0.015592131031686031,
          -0.002615246001522069,
          -0.04802406191776616,
          -0.04763739130584728,
          -0.013713047544249311,
          -0.012367769797880105,
          -0.0481954700403981,
          0.020279081614181276,
          0.6537170804181426,
          -0.016431642299670587,
          0.004550085388227133,
          -0.022441437052223595,
          -0.003753910449276192,
          0.013834082158662837,
          -0.009019378150415688,
          -0.011234366804715706,
          -0.007761355773669251,
          -0.013836610861673905,
          -0.0005019580650334199,
          0.0038392652055545817,
          -0.0035859249153597852,
          -0.006985611272450287,
          -0.039181226894083335,
          -0.01082519906989056,
          -0.01831435653449822,
          -0.01379186361340883,
          0.013787629176772977,
          0.008642384631672065,
          0.02789739583621849,
          -0.0027215996395190054,
          0.04840425145318684,
          -0.002397501481007522,
          0.01175841095206348,
          -0.016775853974928825,
          0.027771882848785366,
          -0.001890743863599685,
          -0.007245577876933737,
          -0.011481820691112712,
          -0.010975974525613441,
          -0.016805184833563698,
          -0.029549796935211065,
          -0.006529201768840927,
          -0.005963410007273941,
          -0.009948376892709894,
          -0.01885291494634795,
          -0.011334086489774742,
          -0.001389562658444518,
          -0.005208113791464658,
          -0.006237451428782653,
          -0.0025840200600786463,
          -0.013307731710049744,
          -0.019788372290332375,
          -0.055559729632135506,
          0.003246212971113157,
          -0.01654709760059117,
          -0.00023916439189256705,
          -0.00262957496336496,
          -0.0970259788259002,
          -0.01675161098611023,
          -0.012472316664021401,
          -0.006346480197292365,
          -0.011005812772853271,
          -0.008338968931753302,
          0.01989806199938912,
          -0.006311716295600383,
          0.059148148370135524,
          -0.0131567768117591,
          -0.04784221487832822
         ],
         "yaxis": "y"
        },
        {
         "hovertemplate": "color=4<br>x=%{x}<br>y=%{y}<extra></extra>",
         "legendgroup": "4",
         "marker": {
          "color": "#ab63fa",
          "symbol": "circle"
         },
         "mode": "markers",
         "name": "4",
         "orientation": "v",
         "showlegend": true,
         "type": "scatter",
         "x": [
          0.005364104015485857,
          0.01155023427175128,
          0.013297878271828363,
          0.02436332073097291,
          0.019374194643617476,
          0.014635045216216454,
          0.018567056500997207,
          0.018375398203496443,
          0.017668359247915492,
          0.021119861757308324,
          0.023045790350545124,
          0.0322830244210024,
          0.018944755399786302,
          0.023524632642053303,
          0.02116590339468396,
          0.021797619008849408,
          0.024250522880105436,
          0.025755427569575412,
          0.032882733306460535,
          0.03197049119899567,
          0.028514222294962935,
          0.02266837801616206,
          0.004720415353681423,
          0.022938724495716233,
          0.023694016400709964,
          0.021823190640973184,
          0.02384523334338734,
          0.02963797721593668,
          0.02678103644982447,
          0.020907470359045662,
          0.024622209467343125,
          0.018338166214414628,
          0.024664756893732723,
          0.027256033054316717,
          0.02467318180520254,
          0.02295525904749917,
          0.01733205447321866,
          0.03464127917332859,
          0.020438474144029495,
          0.03270739131417601,
          0.018613746355261543,
          0.0253284661687597,
          0.018027700373856113,
          0.03180831034528121,
          0.01847309051105603,
          0.0214094121070333,
          0.03613698765460227,
          0.02669559251299075,
          0.024343227515410903,
          0.021585290860509185,
          0.015620253087649985,
          0.0323899134775917,
          0.00840262088453534,
          0.021916909743340658,
          0.013541900754370624,
          0.022187821945643726,
          0.02167566944137788
         ],
         "xaxis": "x",
         "y": [
          0.0007544499427329029,
          -0.0019155888094575316,
          -0.00047858533386480214,
          0.010666672686871811,
          0.010878583159230917,
          -0.0018000145773703694,
          -0.0001180405176717178,
          0.000166756356072717,
          0.0019334655228107154,
          0.0013636584181055192,
          -0.0022117918029782163,
          -0.002212688169775122,
          0.0004206921222081883,
          0.013363908519645633,
          -0.000787208262698319,
          0.0011218095124076594,
          -0.0027383714314307,
          0.0023177743170405135,
          0.005970247253595594,
          0.002904868091258686,
          0.002411491007962667,
          0.005500224370946965,
          0.004543531578414049,
          0.0006236623090878687,
          -0.002351163844206923,
          0.0020716899056487104,
          -0.0010410645107245542,
          0.002114557304366216,
          0.003191792643621405,
          -0.001304824816990022,
          0.0015514052805857175,
          -0.0020174356225487328,
          0.0010091463211724747,
          0.0006098659101817783,
          0.00117235602385698,
          -0.00035648345975797247,
          -0.0003511635721029048,
          -0.00021052402624265878,
          0.002605108825477001,
          0.0018129397569938421,
          -0.002888110339046235,
          0.0018462244411259904,
          0.04477513013852313,
          0.005497369027444077,
          0.0011660596219942448,
          0.00189037699979272,
          0.0016185261781767463,
          0.003269585404425117,
          -0.0024424967204369347,
          0.0031599086593592784,
          -0.001302524533433165,
          0.0016023764963168652,
          0.0031631745960095763,
          0.0017364793057800532,
          -0.027690538307660856,
          0.0010438583676058225,
          0.00028129742071464695
         ],
         "yaxis": "y"
        },
        {
         "hovertemplate": "color=0<br>x=%{x}<br>y=%{y}<extra></extra>",
         "legendgroup": "0",
         "marker": {
          "color": "#FFA15A",
          "symbol": "circle"
         },
         "mode": "markers",
         "name": "0",
         "orientation": "v",
         "showlegend": true,
         "type": "scatter",
         "x": [
          0.024498699358742188,
          0.008553497295541682,
          0.012140737748977556,
          0.0077198667264967435,
          -0.001011168274799093,
          0.010495200190284167,
          0.007284740318403787,
          0.010473235300144039,
          0.003429969119145712,
          0.002564395231014184,
          0.007286002672442584,
          0.0014518519939206859,
          0.007920677173877747,
          0.00755934546091673,
          0.007154901388743251,
          0.003337896868804341,
          0.005321747445892245,
          0.005171149578788574,
          0.011381768070760183,
          0.008235724445274456,
          0.008120284611528125,
          0.00557226995342331,
          0.007648895135616021,
          0.007018218833277766,
          0.0012967067379625538
         ],
         "xaxis": "x",
         "y": [
          0.0003143729346229418,
          -0.0007510622527912708,
          -0.0022299368395412127,
          -0.0014593881068381553,
          -0.00487747716988611,
          -0.0007989216046611139,
          -0.0028858002950021416,
          0.002054235011930798,
          -0.00003758052241631393,
          -0.005100264482172996,
          -0.0025604459716559117,
          -0.002092739479380684,
          -0.002233925985229278,
          -0.0020216187877065903,
          -0.0032859770949567185,
          -0.0010290924855486626,
          -0.003211401624799118,
          -0.0035167152154194042,
          -0.001710853308091606,
          -0.001948204467254494,
          -0.0012876335933251493,
          -0.0028381950395979655,
          -0.0020582829191997387,
          -0.0026734280225661003,
          -0.005143746127023216
         ],
         "yaxis": "y"
        },
        {
         "hovertemplate": "color=9<br>x=%{x}<br>y=%{y}<extra></extra>",
         "legendgroup": "9",
         "marker": {
          "color": "#19d3f3",
          "symbol": "circle"
         },
         "mode": "markers",
         "name": "9",
         "orientation": "v",
         "showlegend": true,
         "type": "scatter",
         "x": [
          0.001547209305717221,
          0.006848349956991753,
          0.004421271058790963,
          0.003876194167819577,
          0.005634017524225803,
          0.003434601700086859,
          0.004715512621122665,
          0.007414062752654264,
          -0.0026621578269191773,
          0.012565757063188757,
          0.004360358002997909,
          0.007829767106667024,
          0.0031064040469398063,
          -0.003461021293716289,
          0.022789603987796635,
          -0.005038616884599775,
          -0.002419137114607714,
          0.007559873794728257,
          -0.008449097291059809,
          0.003697004094590249,
          -0.0030499299297408952,
          0.004792324230635216,
          0.005227534187218927,
          0.002627080076290922,
          0.004991629018589613,
          0.00508619216882833,
          0.00718103265877682,
          0.0061487504791856995,
          0.0017198908068747076,
          0.0044762374392945115,
          0.00497534895874889,
          0.006310878505959181,
          0.006149446064572753,
          0.005077243203827854,
          0.0029335219348276195,
          -0.0028638216226651286,
          0.028216234859539134,
          -0.0046584359038078504,
          0.0009131925189972282,
          0.007583249694276074,
          0.004813939278433339,
          0.0063367829322052574,
          0.0037981257159869705,
          0.01816923151322418,
          0.004661334653016491,
          0.003723808198098477,
          0.005388422058744846,
          0.0010265817052896604,
          0.00594291679785873,
          0.01442440890245636,
          0.005512408489701463,
          0.0038113813344336214,
          0.0042799368465661,
          0.005799595295694163,
          0.0088918303977998,
          0.004346599275478282,
          0.009281157406442413,
          0.006438195898958773,
          -0.0005560759508575971,
          0.004897121835510498,
          0.005359968231483443,
          0.0063222942194105375
         ],
         "xaxis": "x",
         "y": [
          -0.004862250422082184,
          -0.005165660671775402,
          -0.005492152359016053,
          -0.005575605330174892,
          -0.004868010594937203,
          -0.004968977611031877,
          -0.00429177509312792,
          -0.005114926989831209,
          -0.006448974283035515,
          -0.0026609155283595087,
          -0.005336869894585566,
          -0.0043539245296857,
          -0.005424805536541635,
          -0.006896278784727351,
          -0.00217667702494102,
          -0.007868667952442496,
          -0.007493297738936408,
          -0.004958675426472693,
          -0.003989746499891186,
          -0.005452345271830132,
          -0.004657914728606979,
          -0.005484944871051934,
          -0.007781575985428481,
          -0.005588156847691372,
          -0.005135666380126899,
          -0.005341851861728586,
          -0.005299170580393043,
          -0.004899641659543118,
          -0.00633700449828737,
          -0.005083282791905362,
          -0.00524295676203583,
          -0.005376827966819492,
          -0.004868794674801634,
          -0.005252156385828036,
          -0.005051372490579513,
          -0.004825638838517995,
          -0.0025317714031231897,
          -0.005631149783635422,
          -0.005878257997381689,
          -0.004949220155995672,
          -0.005475105337163838,
          -0.004826638270880844,
          -0.00493282555951189,
          -0.0031835802331773577,
          -0.005492944682838154,
          -0.005764103677851365,
          -0.005258938661248172,
          -0.005475125898473461,
          -0.005360088194879306,
          -0.003657504435020255,
          -0.0051774216422620575,
          -0.005032057458349164,
          -0.004984099260810802,
          -0.004896175916378035,
          -0.004215795253806269,
          -0.005439158177768036,
          -0.0033316892141280682,
          -0.005080347595507417,
          -0.007066540300746112,
          -0.005349239608783973,
          -0.005073122892327586,
          -0.005361636317582796
         ],
         "yaxis": "y"
        },
        {
         "hovertemplate": "color=7<br>x=%{x}<br>y=%{y}<extra></extra>",
         "legendgroup": "7",
         "marker": {
          "color": "#FF6692",
          "symbol": "circle"
         },
         "mode": "markers",
         "name": "7",
         "orientation": "v",
         "showlegend": true,
         "type": "scatter",
         "x": [
          0.021244252059458353,
          0.021539178638837586,
          0.020552179455882676,
          0.020309403960498202,
          0.02112753740437924,
          0.021011319709819464,
          0.01691088265194304,
          0.01753430867204305,
          0.020715677804215064,
          0.02125988030357248,
          0.02145546223588586,
          0.022284675831749774,
          0.01263312662283022,
          0.022477773101583248,
          0.020746234038270882,
          0.0205416979345635,
          0.02073120529350102,
          0.022462229207881483,
          0.02204568137492595,
          0.022218399374184045,
          0.0157313182710304,
          0.022542844556321114,
          0.01739468181008791,
          0.017717203596642306,
          0.020987924213537467,
          0.020517520223725647,
          0.019180169143271246,
          0.020911406348549454,
          0.013674737098443586,
          0.021623042363029133,
          0.02251126162421105,
          0.019883842910261157,
          0.020688569119364626,
          0.021326598575498044,
          0.019846973816543028,
          0.0223868370866789,
          0.02196032606274911,
          0.02037992721226417,
          0.021171671359927813,
          0.019136193707925825,
          0.02158268740805558,
          0.021750167869577182,
          0.023217125937168452,
          0.022671085256271213,
          0.01759121689662192,
          0.02147172551242312,
          0.01967619363764101,
          0.005028373121548885,
          0.021351840003918585,
          0.020921264205863186,
          0.030240611470065567,
          0.019978022449185187,
          0.021430216222102644,
          0.020895593186757634
         ],
         "xaxis": "x",
         "y": [
          -0.0018266524386235886,
          -0.0020002861645374015,
          -0.0012699719754217242,
          -0.0020175273830503396,
          -0.0016741808322347299,
          -0.0017060202563340407,
          -0.003373861483919577,
          -0.0015132150594334565,
          -0.0017328853031772116,
          -0.00172867372791638,
          -0.001779953202978914,
          -0.0016971185582547914,
          -0.0020758302689422243,
          -0.002125667515241514,
          -0.001217269715195958,
          -0.0018891429992973705,
          -0.0015746674131173477,
          -0.0015329329409694177,
          -0.0018489054395509977,
          -0.0019061852987398015,
          -0.002249236353296498,
          -0.001706891731798249,
          -0.0013635545225657991,
          -0.0021226562362146734,
          -0.0020121458706666567,
          -0.0020565131358002003,
          -0.0014582005482551771,
          -0.0014754906284096259,
          -0.002232610408151217,
          -0.0014834691367385591,
          -0.0013621677965541777,
          -0.0017492139647004301,
          0.003679573528619591,
          -0.0019523920309434568,
          -0.001610833935765374,
          -0.0006681318926276478,
          -0.0012261656869600214,
          -0.0017265697901071159,
          -0.001702806950959205,
          -0.001566006713208494,
          -0.002020906535816963,
          -0.0014989622577600628,
          -0.0016942293477900522,
          -0.001691469814256212,
          -0.001453547665814011,
          -0.0018575001758643506,
          -0.001636252247634062,
          -0.0010178897708019302,
          -0.0014709455144156086,
          -0.0017244211039136974,
          0.0005990990305880552,
          -0.002147674476841638,
          -0.0017421569931369008,
          -0.0011225873026906794
         ],
         "yaxis": "y"
        },
        {
         "hovertemplate": "color=8<br>x=%{x}<br>y=%{y}<extra></extra>",
         "legendgroup": "8",
         "marker": {
          "color": "#B6E880",
          "symbol": "circle"
         },
         "mode": "markers",
         "name": "8",
         "orientation": "v",
         "showlegend": true,
         "type": "scatter",
         "x": [
          0.07866067201207859,
          0.08141149705521783,
          0.07452656737917371,
          0.060650990582767045,
          0.036004448894817936,
          0.0838815602441065,
          0.06902160984153967,
          0.0814635275978363,
          0.07935384505715067,
          0.0747467943599187,
          0.06221057284822768,
          0.05981344292995517,
          0.08394846141609479,
          0.06815590342097451,
          0.08339619076504978,
          0.07638639013268558,
          0.0780342316967319,
          0.08242562598262346,
          0.07815416140224202,
          0.08042841512040459,
          0.08030355630406133,
          0.07840631214926572,
          0.07946194534184833,
          0.08314253364109823,
          0.0833935248980373,
          0.07937759608671224,
          0.07530057099173099,
          0.0815059920755675,
          0.07406824103340474,
          0.0702592259749594,
          0.08146078279369198,
          0.08069193376409392,
          0.08554631664020336,
          0.0831178194667057,
          0.07933029057692656,
          0.08423218774936912,
          0.0862420476282205,
          0.08135106008931382,
          0.08407179687348329,
          0.08049332488543393,
          0.06601120890434253,
          0.06932323241475961,
          0.07931846936569836,
          0.07469666421860174,
          0.07360872716344452,
          0.08050591281379943,
          0.08636041687633003,
          0.08421225061860864,
          0.08147127994492862
         ],
         "xaxis": "x",
         "y": [
          0.008558155914070706,
          0.008661667424786718,
          0.008133225015014511,
          0.007773153272810258,
          0.0034357227945255656,
          0.00912414605441311,
          0.006962608716536384,
          0.008660949351637373,
          0.008667288053384955,
          0.00760937589553673,
          0.006140418888419402,
          0.0055991257308912286,
          0.009118987228932254,
          0.007233633497908919,
          0.009215345139294043,
          0.008258579375905482,
          0.008462594683632203,
          0.009381445951719636,
          0.008450361617916555,
          0.00865943295318547,
          0.008770138968256812,
          0.00883967581735643,
          0.00837087021568663,
          0.009052811265619482,
          0.00897356990834878,
          0.008419104930067069,
          0.008292050166614648,
          0.00883123350053674,
          0.00799880435586445,
          0.008373670759457085,
          0.008800563767043232,
          0.00871869549446147,
          0.009471837122019669,
          0.00882883605738348,
          0.008566542008479693,
          0.009041444761343453,
          0.009393611410158584,
          0.008976027812916731,
          0.008973325878899041,
          0.0086921904271181,
          0.00689176887551822,
          0.007227634127229619,
          0.00862301456899871,
          0.007728656018522368,
          0.007918079345423615,
          0.008731987334059443,
          0.009491309772166764,
          0.009301769620730916,
          0.00898850437879864
         ],
         "yaxis": "y"
        },
        {
         "hovertemplate": "color=2<br>x=%{x}<br>y=%{y}<extra></extra>",
         "legendgroup": "2",
         "marker": {
          "color": "#FF97FF",
          "symbol": "circle"
         },
         "mode": "markers",
         "name": "2",
         "orientation": "v",
         "showlegend": true,
         "type": "scatter",
         "x": [
          0.022172220467408917,
          0.022768226106297064,
          0.024621995034452615,
          0.02297556816227491,
          0.01834226262827946,
          0.024690060301032137,
          0.01822855596495552,
          0.0348038881859873,
          0.015453802531509443,
          0.019965066159084083,
          0.016986181844000667,
          0.030492870225984008,
          0.02546000900444908,
          0.034082877208732945,
          0.014995890018248963,
          0.02168260627589534,
          0.021022403131733203
         ],
         "xaxis": "x",
         "y": [
          -0.001673426593927281,
          -0.0016162275320679848,
          -0.0009958185401985793,
          -0.0014970766985986789,
          -0.00120544219211393,
          -0.000824354528860656,
          -0.00221112879200637,
          0.001278272295126684,
          -0.0025388807143464018,
          -0.002196462719764279,
          -0.001079225466077866,
          0.0002846307743245291,
          -0.0008848304203954646,
          0.0006791034766821143,
          -0.003385291917943317,
          -0.002090872899595546,
          -0.0010826527429185356
         ],
         "yaxis": "y"
        },
        {
         "hovertemplate": "color=1<br>x=%{x}<br>y=%{y}<extra></extra>",
         "legendgroup": "1",
         "marker": {
          "color": "#FECB52",
          "symbol": "circle"
         },
         "mode": "markers",
         "name": "1",
         "orientation": "v",
         "showlegend": true,
         "type": "scatter",
         "x": [
          0.013615009126775747,
          0.0034695207940558005,
          -0.00040723496349825625,
          0.006948173179152958
         ],
         "xaxis": "x",
         "y": [
          -0.0032071945823763104,
          -0.005033206753206076,
          -0.010556421447145746,
          -0.003380296884470259
         ],
         "yaxis": "y"
        }
       ],
       "layout": {
        "height": 400,
        "legend": {
         "title": {
          "text": "color"
         },
         "tracegroupgap": 0
        },
        "template": {
         "data": {
          "bar": [
           {
            "error_x": {
             "color": "#2a3f5f"
            },
            "error_y": {
             "color": "#2a3f5f"
            },
            "marker": {
             "line": {
              "color": "#E5ECF6",
              "width": 0.5
             },
             "pattern": {
              "fillmode": "overlay",
              "size": 10,
              "solidity": 0.2
             }
            },
            "type": "bar"
           }
          ],
          "barpolar": [
           {
            "marker": {
             "line": {
              "color": "#E5ECF6",
              "width": 0.5
             },
             "pattern": {
              "fillmode": "overlay",
              "size": 10,
              "solidity": 0.2
             }
            },
            "type": "barpolar"
           }
          ],
          "carpet": [
           {
            "aaxis": {
             "endlinecolor": "#2a3f5f",
             "gridcolor": "white",
             "linecolor": "white",
             "minorgridcolor": "white",
             "startlinecolor": "#2a3f5f"
            },
            "baxis": {
             "endlinecolor": "#2a3f5f",
             "gridcolor": "white",
             "linecolor": "white",
             "minorgridcolor": "white",
             "startlinecolor": "#2a3f5f"
            },
            "type": "carpet"
           }
          ],
          "choropleth": [
           {
            "colorbar": {
             "outlinewidth": 0,
             "ticks": ""
            },
            "type": "choropleth"
           }
          ],
          "contour": [
           {
            "colorbar": {
             "outlinewidth": 0,
             "ticks": ""
            },
            "colorscale": [
             [
              0,
              "#0d0887"
             ],
             [
              0.1111111111111111,
              "#46039f"
             ],
             [
              0.2222222222222222,
              "#7201a8"
             ],
             [
              0.3333333333333333,
              "#9c179e"
             ],
             [
              0.4444444444444444,
              "#bd3786"
             ],
             [
              0.5555555555555556,
              "#d8576b"
             ],
             [
              0.6666666666666666,
              "#ed7953"
             ],
             [
              0.7777777777777778,
              "#fb9f3a"
             ],
             [
              0.8888888888888888,
              "#fdca26"
             ],
             [
              1,
              "#f0f921"
             ]
            ],
            "type": "contour"
           }
          ],
          "contourcarpet": [
           {
            "colorbar": {
             "outlinewidth": 0,
             "ticks": ""
            },
            "type": "contourcarpet"
           }
          ],
          "heatmap": [
           {
            "colorbar": {
             "outlinewidth": 0,
             "ticks": ""
            },
            "colorscale": [
             [
              0,
              "#0d0887"
             ],
             [
              0.1111111111111111,
              "#46039f"
             ],
             [
              0.2222222222222222,
              "#7201a8"
             ],
             [
              0.3333333333333333,
              "#9c179e"
             ],
             [
              0.4444444444444444,
              "#bd3786"
             ],
             [
              0.5555555555555556,
              "#d8576b"
             ],
             [
              0.6666666666666666,
              "#ed7953"
             ],
             [
              0.7777777777777778,
              "#fb9f3a"
             ],
             [
              0.8888888888888888,
              "#fdca26"
             ],
             [
              1,
              "#f0f921"
             ]
            ],
            "type": "heatmap"
           }
          ],
          "heatmapgl": [
           {
            "colorbar": {
             "outlinewidth": 0,
             "ticks": ""
            },
            "colorscale": [
             [
              0,
              "#0d0887"
             ],
             [
              0.1111111111111111,
              "#46039f"
             ],
             [
              0.2222222222222222,
              "#7201a8"
             ],
             [
              0.3333333333333333,
              "#9c179e"
             ],
             [
              0.4444444444444444,
              "#bd3786"
             ],
             [
              0.5555555555555556,
              "#d8576b"
             ],
             [
              0.6666666666666666,
              "#ed7953"
             ],
             [
              0.7777777777777778,
              "#fb9f3a"
             ],
             [
              0.8888888888888888,
              "#fdca26"
             ],
             [
              1,
              "#f0f921"
             ]
            ],
            "type": "heatmapgl"
           }
          ],
          "histogram": [
           {
            "marker": {
             "pattern": {
              "fillmode": "overlay",
              "size": 10,
              "solidity": 0.2
             }
            },
            "type": "histogram"
           }
          ],
          "histogram2d": [
           {
            "colorbar": {
             "outlinewidth": 0,
             "ticks": ""
            },
            "colorscale": [
             [
              0,
              "#0d0887"
             ],
             [
              0.1111111111111111,
              "#46039f"
             ],
             [
              0.2222222222222222,
              "#7201a8"
             ],
             [
              0.3333333333333333,
              "#9c179e"
             ],
             [
              0.4444444444444444,
              "#bd3786"
             ],
             [
              0.5555555555555556,
              "#d8576b"
             ],
             [
              0.6666666666666666,
              "#ed7953"
             ],
             [
              0.7777777777777778,
              "#fb9f3a"
             ],
             [
              0.8888888888888888,
              "#fdca26"
             ],
             [
              1,
              "#f0f921"
             ]
            ],
            "type": "histogram2d"
           }
          ],
          "histogram2dcontour": [
           {
            "colorbar": {
             "outlinewidth": 0,
             "ticks": ""
            },
            "colorscale": [
             [
              0,
              "#0d0887"
             ],
             [
              0.1111111111111111,
              "#46039f"
             ],
             [
              0.2222222222222222,
              "#7201a8"
             ],
             [
              0.3333333333333333,
              "#9c179e"
             ],
             [
              0.4444444444444444,
              "#bd3786"
             ],
             [
              0.5555555555555556,
              "#d8576b"
             ],
             [
              0.6666666666666666,
              "#ed7953"
             ],
             [
              0.7777777777777778,
              "#fb9f3a"
             ],
             [
              0.8888888888888888,
              "#fdca26"
             ],
             [
              1,
              "#f0f921"
             ]
            ],
            "type": "histogram2dcontour"
           }
          ],
          "mesh3d": [
           {
            "colorbar": {
             "outlinewidth": 0,
             "ticks": ""
            },
            "type": "mesh3d"
           }
          ],
          "parcoords": [
           {
            "line": {
             "colorbar": {
              "outlinewidth": 0,
              "ticks": ""
             }
            },
            "type": "parcoords"
           }
          ],
          "pie": [
           {
            "automargin": true,
            "type": "pie"
           }
          ],
          "scatter": [
           {
            "fillpattern": {
             "fillmode": "overlay",
             "size": 10,
             "solidity": 0.2
            },
            "type": "scatter"
           }
          ],
          "scatter3d": [
           {
            "line": {
             "colorbar": {
              "outlinewidth": 0,
              "ticks": ""
             }
            },
            "marker": {
             "colorbar": {
              "outlinewidth": 0,
              "ticks": ""
             }
            },
            "type": "scatter3d"
           }
          ],
          "scattercarpet": [
           {
            "marker": {
             "colorbar": {
              "outlinewidth": 0,
              "ticks": ""
             }
            },
            "type": "scattercarpet"
           }
          ],
          "scattergeo": [
           {
            "marker": {
             "colorbar": {
              "outlinewidth": 0,
              "ticks": ""
             }
            },
            "type": "scattergeo"
           }
          ],
          "scattergl": [
           {
            "marker": {
             "colorbar": {
              "outlinewidth": 0,
              "ticks": ""
             }
            },
            "type": "scattergl"
           }
          ],
          "scattermapbox": [
           {
            "marker": {
             "colorbar": {
              "outlinewidth": 0,
              "ticks": ""
             }
            },
            "type": "scattermapbox"
           }
          ],
          "scatterpolar": [
           {
            "marker": {
             "colorbar": {
              "outlinewidth": 0,
              "ticks": ""
             }
            },
            "type": "scatterpolar"
           }
          ],
          "scatterpolargl": [
           {
            "marker": {
             "colorbar": {
              "outlinewidth": 0,
              "ticks": ""
             }
            },
            "type": "scatterpolargl"
           }
          ],
          "scatterternary": [
           {
            "marker": {
             "colorbar": {
              "outlinewidth": 0,
              "ticks": ""
             }
            },
            "type": "scatterternary"
           }
          ],
          "surface": [
           {
            "colorbar": {
             "outlinewidth": 0,
             "ticks": ""
            },
            "colorscale": [
             [
              0,
              "#0d0887"
             ],
             [
              0.1111111111111111,
              "#46039f"
             ],
             [
              0.2222222222222222,
              "#7201a8"
             ],
             [
              0.3333333333333333,
              "#9c179e"
             ],
             [
              0.4444444444444444,
              "#bd3786"
             ],
             [
              0.5555555555555556,
              "#d8576b"
             ],
             [
              0.6666666666666666,
              "#ed7953"
             ],
             [
              0.7777777777777778,
              "#fb9f3a"
             ],
             [
              0.8888888888888888,
              "#fdca26"
             ],
             [
              1,
              "#f0f921"
             ]
            ],
            "type": "surface"
           }
          ],
          "table": [
           {
            "cells": {
             "fill": {
              "color": "#EBF0F8"
             },
             "line": {
              "color": "white"
             }
            },
            "header": {
             "fill": {
              "color": "#C8D4E3"
             },
             "line": {
              "color": "white"
             }
            },
            "type": "table"
           }
          ]
         },
         "layout": {
          "annotationdefaults": {
           "arrowcolor": "#2a3f5f",
           "arrowhead": 0,
           "arrowwidth": 1
          },
          "autotypenumbers": "strict",
          "coloraxis": {
           "colorbar": {
            "outlinewidth": 0,
            "ticks": ""
           }
          },
          "colorscale": {
           "diverging": [
            [
             0,
             "#8e0152"
            ],
            [
             0.1,
             "#c51b7d"
            ],
            [
             0.2,
             "#de77ae"
            ],
            [
             0.3,
             "#f1b6da"
            ],
            [
             0.4,
             "#fde0ef"
            ],
            [
             0.5,
             "#f7f7f7"
            ],
            [
             0.6,
             "#e6f5d0"
            ],
            [
             0.7,
             "#b8e186"
            ],
            [
             0.8,
             "#7fbc41"
            ],
            [
             0.9,
             "#4d9221"
            ],
            [
             1,
             "#276419"
            ]
           ],
           "sequential": [
            [
             0,
             "#0d0887"
            ],
            [
             0.1111111111111111,
             "#46039f"
            ],
            [
             0.2222222222222222,
             "#7201a8"
            ],
            [
             0.3333333333333333,
             "#9c179e"
            ],
            [
             0.4444444444444444,
             "#bd3786"
            ],
            [
             0.5555555555555556,
             "#d8576b"
            ],
            [
             0.6666666666666666,
             "#ed7953"
            ],
            [
             0.7777777777777778,
             "#fb9f3a"
            ],
            [
             0.8888888888888888,
             "#fdca26"
            ],
            [
             1,
             "#f0f921"
            ]
           ],
           "sequentialminus": [
            [
             0,
             "#0d0887"
            ],
            [
             0.1111111111111111,
             "#46039f"
            ],
            [
             0.2222222222222222,
             "#7201a8"
            ],
            [
             0.3333333333333333,
             "#9c179e"
            ],
            [
             0.4444444444444444,
             "#bd3786"
            ],
            [
             0.5555555555555556,
             "#d8576b"
            ],
            [
             0.6666666666666666,
             "#ed7953"
            ],
            [
             0.7777777777777778,
             "#fb9f3a"
            ],
            [
             0.8888888888888888,
             "#fdca26"
            ],
            [
             1,
             "#f0f921"
            ]
           ]
          },
          "colorway": [
           "#636efa",
           "#EF553B",
           "#00cc96",
           "#ab63fa",
           "#FFA15A",
           "#19d3f3",
           "#FF6692",
           "#B6E880",
           "#FF97FF",
           "#FECB52"
          ],
          "font": {
           "color": "#2a3f5f"
          },
          "geo": {
           "bgcolor": "white",
           "lakecolor": "white",
           "landcolor": "#E5ECF6",
           "showlakes": true,
           "showland": true,
           "subunitcolor": "white"
          },
          "hoverlabel": {
           "align": "left"
          },
          "hovermode": "closest",
          "mapbox": {
           "style": "light"
          },
          "paper_bgcolor": "white",
          "plot_bgcolor": "#E5ECF6",
          "polar": {
           "angularaxis": {
            "gridcolor": "white",
            "linecolor": "white",
            "ticks": ""
           },
           "bgcolor": "#E5ECF6",
           "radialaxis": {
            "gridcolor": "white",
            "linecolor": "white",
            "ticks": ""
           }
          },
          "scene": {
           "xaxis": {
            "backgroundcolor": "#E5ECF6",
            "gridcolor": "white",
            "gridwidth": 2,
            "linecolor": "white",
            "showbackground": true,
            "ticks": "",
            "zerolinecolor": "white"
           },
           "yaxis": {
            "backgroundcolor": "#E5ECF6",
            "gridcolor": "white",
            "gridwidth": 2,
            "linecolor": "white",
            "showbackground": true,
            "ticks": "",
            "zerolinecolor": "white"
           },
           "zaxis": {
            "backgroundcolor": "#E5ECF6",
            "gridcolor": "white",
            "gridwidth": 2,
            "linecolor": "white",
            "showbackground": true,
            "ticks": "",
            "zerolinecolor": "white"
           }
          },
          "shapedefaults": {
           "line": {
            "color": "#2a3f5f"
           }
          },
          "ternary": {
           "aaxis": {
            "gridcolor": "white",
            "linecolor": "white",
            "ticks": ""
           },
           "baxis": {
            "gridcolor": "white",
            "linecolor": "white",
            "ticks": ""
           },
           "bgcolor": "#E5ECF6",
           "caxis": {
            "gridcolor": "white",
            "linecolor": "white",
            "ticks": ""
           }
          },
          "title": {
           "x": 0.05
          },
          "xaxis": {
           "automargin": true,
           "gridcolor": "white",
           "linecolor": "white",
           "ticks": "",
           "title": {
            "standoff": 15
           },
           "zerolinecolor": "white",
           "zerolinewidth": 2
          },
          "yaxis": {
           "automargin": true,
           "gridcolor": "white",
           "linecolor": "white",
           "ticks": "",
           "title": {
            "standoff": 15
           },
           "zerolinecolor": "white",
           "zerolinewidth": 2
          }
         }
        },
        "title": {
         "text": "Stand-LLE_2_comp - 0.078 sec."
        },
        "width": 500,
        "xaxis": {
         "anchor": "y",
         "domain": [
          0,
          1
         ],
         "title": {
          "text": "c_1"
         }
        },
        "yaxis": {
         "anchor": "x",
         "domain": [
          0,
          1
         ],
         "title": {
          "text": "c_2"
         }
        }
       }
      }
     },
     "metadata": {},
     "output_type": "display_data"
    },
    {
     "data": {
      "application/vnd.plotly.v1+json": {
       "config": {
        "plotlyServerURL": "https://plot.ly"
       },
       "data": [
        {
         "hovertemplate": "color=5<br>x=%{x}<br>y=%{y}<extra></extra>",
         "legendgroup": "5",
         "marker": {
          "color": "#636efa",
          "symbol": "circle"
         },
         "mode": "markers",
         "name": "5",
         "orientation": "v",
         "showlegend": true,
         "type": "scatter",
         "x": [
          0.0015579526879069573,
          0.00299973082300742,
          0.00771598147671756,
          0.011975536749418344,
          0.002320091504740955,
          0.0012641361974485496,
          0.0009429091840506363,
          0.004286157678929626,
          0.0011106032823088984,
          0.0009068716555101243,
          0.005295577416594721,
          -0.004138368153850613,
          0.0014025961148063548,
          0.0064571519010270546,
          0.002008936132922121,
          0.0024333924329928832,
          0.00215734968789315,
          0.0013047991606800037,
          0.0057502348543648505,
          -0.0005371686350006842,
          0.0021144472111985814,
          -0.0008487719597039897,
          0.002499605724758191,
          0.0028294547409034457,
          0.0006143432398838107,
          -0.003245768714674607,
          0.0029876706256501797,
          0.00045582231521192057,
          0.0006174513261614516,
          0.0010814013026686524,
          -0.005250542719235572,
          0.002295698284929936,
          0.0011989747826661066,
          -0.006527894353456787,
          0.0030600947445363564,
          0.0013915994441771726,
          0.0009689605574618236,
          -0.0024750353004607826,
          0.001464508892992091,
          -0.007107501453810746,
          -0.005879521702509788,
          0.0010136054714231894,
          -0.0013138235132915666,
          -0.010074443539288134,
          0.0034630635682265194,
          -0.007632237548138654,
          -0.0014620301618420571,
          0.001991640180161521,
          0.006378204607955023,
          0.0005660233956262646,
          -0.0003772140984856759,
          0.002798772322470379,
          -0.004119100777811643,
          0.0011042573693844002,
          0.0013901367251779948,
          0.0027757299566817557,
          0.010128129585849473,
          0.0005503398139222003,
          0.0011486159159892798,
          0.010311809504320552,
          0.007173275469540717,
          -0.002144236804786477,
          0.0008491005441886164,
          0.0003173790367766522,
          -0.004064366769854028,
          0.0005754172379450459,
          0.002198238431241994,
          0.0022564631595652414,
          0.0033836274218774624,
          0.0024765854356241504,
          0.0005719700748861489,
          0.004072398580410047,
          -0.0014279253192397054,
          -0.00020002141385318486,
          0.0055503634302096205,
          0.001196943292346613,
          0.001494620435927983,
          0.0017229158768185225,
          0.008185961805307474
         ],
         "xaxis": "x",
         "y": [
          0.007408733967687978,
          0.010126405664446336,
          0.00710516163224608,
          0.011832592695797487,
          0.010889313038823447,
          0.010480052264520192,
          0.011919978451044436,
          0.007926210929128433,
          0.012047268219148628,
          0.009307701487510079,
          0.0012291920735746054,
          0.014541689719300662,
          0.009213022885264122,
          0.00399614330855793,
          0.008336050977105974,
          0.010483577102650054,
          0.011550391928720215,
          0.010396975538272115,
          0.006678919157972212,
          0.01937550363874995,
          0.011319451336960816,
          0.014491720833426012,
          0.010333951096686427,
          0.009935092077874855,
          0.011949690447469031,
          0.0007882844075511687,
          0.008849776452623711,
          0.009323103420960622,
          0.010071444391997747,
          0.007994059264557925,
          0.008157403940485268,
          0.010110796029444558,
          0.01178770949616668,
          0.004004964793582338,
          0.010173667025029127,
          0.011217010210834134,
          0.011697816678334512,
          0.012982979946969321,
          0.011955352656001927,
          -0.00033323439208215685,
          0.010686557995870533,
          0.013265273428577163,
          0.011576975977221071,
          0.0004338167080860569,
          0.013934037356892845,
          0.0032640327480148628,
          0.02236386017121392,
          0.010273768474910384,
          0.00631582238436383,
          0.010397770141951007,
          0.015874154422407975,
          0.005257565904268322,
          0.019800515473679704,
          0.011213889071403953,
          0.00981486104842743,
          0.008464097022262638,
          0.005574527213476641,
          0.009420563802493119,
          0.012112482150546269,
          0.004746596384592999,
          0.007183113589119845,
          0.006106418640745717,
          0.011189242176565854,
          0.010101546604792315,
          0.009211579461711248,
          0.01476348544762905,
          0.012258664181379619,
          0.010346107488397286,
          0.007272143483801236,
          0.009815695574053677,
          0.010676196592250144,
          0.005583793555805049,
          0.009006648886430326,
          0.01875251685843826,
          0.007995938118533217,
          0.010244223244421076,
          0.010539198318926546,
          0.007547985072503978,
          0.005003750177758145
         ],
         "yaxis": "y"
        },
        {
         "hovertemplate": "color=6<br>x=%{x}<br>y=%{y}<extra></extra>",
         "legendgroup": "6",
         "marker": {
          "color": "#EF553B",
          "symbol": "circle"
         },
         "mode": "markers",
         "name": "6",
         "orientation": "v",
         "showlegend": true,
         "type": "scatter",
         "x": [
          0.019041434547085772,
          0.023467738618707348,
          0.031073906567131392,
          0.02581762524283579,
          0.02330105100031851,
          0.031416374826280534,
          0.02659664682003899,
          0.025880088757168004,
          0.028014337123897268,
          0.027531497545176108,
          0.02702217724382175,
          0.0288421681901631,
          0.028153536881193167,
          0.028943011485995998,
          0.022256909460986435,
          0.0259917966627167,
          0.01834156985736549,
          0.033512613261186756,
          0.026260970960484107,
          0.029695796222122702
         ],
         "xaxis": "x",
         "y": [
          -0.003182559443100831,
          -0.003971127819029997,
          -0.0026669089183716244,
          -0.004794564747350892,
          -0.003950412341849848,
          -0.004675961044593297,
          -0.004525006536366764,
          -0.005317709991933975,
          -0.004763966661688139,
          -0.004896227894228963,
          -0.004237307525553794,
          -0.004824037142423899,
          -0.003920838720877494,
          -0.0036387153048797836,
          -0.0034873442733721594,
          -0.004914110744849114,
          -0.0018386484962232801,
          -0.0063224903122308706,
          -0.004632345919628916,
          -0.004850407767903683
         ],
         "yaxis": "y"
        },
        {
         "hovertemplate": "color=3<br>x=%{x}<br>y=%{y}<extra></extra>",
         "legendgroup": "3",
         "marker": {
          "color": "#00cc96",
          "symbol": "circle"
         },
         "mode": "markers",
         "name": "3",
         "orientation": "v",
         "showlegend": true,
         "type": "scatter",
         "x": [
          0.05160397933497312,
          0.05028487846183236,
          0.05657018156789011,
          0.05686778167608996,
          0.051069839440403705,
          0.05701993369941709,
          0.05381650466475362,
          0.05335220567175981,
          0.05309516817117083,
          0.055776727225963205,
          0.05644929536311366,
          0.05363428577261333,
          0.05617340983563533,
          0.05118521024823534,
          0.05905003270287754,
          0.056268401588525765,
          0.04362835201821085,
          0.057814033177987306,
          0.03771521663134441,
          0.0506818979063359,
          0.03702747000818705,
          0.058495416040330234,
          0.053014885066522126,
          0.05245766077414459,
          0.0509586465219867,
          0.046336468397160595,
          0.0573644822849512,
          0.0406341118585738,
          0.05290163580629249,
          0.053892699845974994,
          0.052882107091167294,
          0.04338953894636483,
          0.055530441142155766,
          0.05714932465736239,
          0.053759977424474824,
          0.053075931312695425,
          0.05704393999079638,
          0.04972823243229984,
          0.05752078127582911,
          0.0326427347021321,
          0.05466359734550429,
          0.03659576616249626,
          0.053088834188717515,
          0.04998982934734904,
          0.03774236054585703,
          0.05427658444691331,
          0.053790914449416326,
          0.054762244530774155,
          0.05835192780411178,
          0.05329225380514405,
          0.05459150729928534,
          0.051111924149318914,
          0.05361846937318576,
          0.04710870059142072,
          0.035322759479456574,
          0.07556221224944701,
          0.05702128318965959,
          0.014758906445637338,
          0.055759857831651834,
          0.05618105970389853,
          0.05679032337349179,
          0.05466469137502057,
          0.05746254644004714,
          0.054693113748615914,
          0.0549978160609047,
          0.053539023344561815,
          0.05369011345297758,
          0.05919595908486902,
          0.056002534718673495,
          0.05724674592549442,
          0.05514057901703663,
          0.05655901414587474,
          0.05814034423133055,
          0.05484089957779672,
          0.055522993279250324,
          0.04461428031745455,
          0.05505197395113787,
          0.03275901751213849,
          0.057820510638419156,
          0.0466563937830575,
          0.041724308009278274,
          0.053655696325165037,
          0.05533226067491087,
          0.009899295390023875,
          0.05521861845671576,
          0.05448631416703412,
          0.05537097724265188,
          0.055465446619884985,
          0.041724843411182516,
          0.04948353613810549,
          0.05256781587934581,
          0.04498412015208044,
          0.05564235565584018,
          0.05128464738914102,
          0.04678353648748864,
          0.056550377031247226,
          0.0577569919105261,
          0.055548590294887706,
          0.053934173685106654,
          0.05321229589207148,
          0.05056986669545817,
          0.05160507171999598,
          0.05144224650490721,
          0.05349252994202703,
          0.054130709001318805,
          0.05648545074537984,
          0.04849727652490329,
          0.03786615018358121,
          0.057414004892238135,
          0.05393244886316627,
          0.055894363809854436,
          0.05554668561711765,
          0.027281279204974366,
          0.05427715435813553,
          0.05522746389081931,
          0.053680823882762095,
          0.04406452246522169,
          0.06080685269936735,
          0.018603715687684777,
          0.04693158044336681,
          0.0542308063360466,
          0.05058571843937505,
          0.07511935114891319,
          0.056867959048326096,
          0.05685515359956657,
          0.0533803480422726,
          0.05559381117997927,
          0.05236213844054097,
          0.06144002727128557,
          0.0362394864148338,
          0.05467977661928465,
          0.048048902416947516,
          0.057401475099494795
         ],
         "xaxis": "x",
         "y": [
          -0.024233942309747323,
          -0.024857965973559742,
          -0.028535513330790796,
          -0.028063956016485557,
          -0.025224025590667942,
          -0.027380101232707135,
          -0.0264915576736699,
          -0.025886841409888544,
          -0.026164974538470897,
          -0.026358909084793235,
          -0.027695551546176905,
          -0.02639782595541842,
          -0.027086563646785553,
          -0.023921354300819684,
          -0.027967125500969515,
          -0.026814170331246286,
          -0.024486173561451923,
          -0.027374859530323738,
          -0.017334750890620823,
          -0.024771727280379734,
          -0.01635807256221427,
          -0.02771196950715148,
          -0.024897711878392965,
          -0.02573149830621778,
          -0.022522112491727562,
          -0.013447027335987492,
          -0.026935734636841676,
          -0.01727325758696971,
          -0.023097185025658377,
          -0.02375611505443843,
          -0.024950354975674903,
          -0.02109234306995732,
          -0.025436087984627164,
          -0.02701360160298494,
          -0.025085414645840274,
          -0.023282117344567744,
          -0.02639248454407134,
          -0.022356686986677615,
          -0.026715125685174063,
          -0.026688075970161592,
          -0.025791637123885946,
          -0.019045609145603017,
          -0.026431241363812287,
          -0.02446179843903162,
          -0.016331005752213548,
          -0.02673847739594157,
          -0.0257735199084824,
          -0.02617658949234057,
          -0.028807055882843227,
          -0.02486209985735616,
          -0.026662784451373045,
          -0.022668184183224596,
          -0.023015159551195055,
          -0.017670087154965188,
          -0.022767761765212027,
          -0.037090335328713336,
          -0.026640972147569473,
          -0.009257047125543125,
          -0.026657114382874634,
          -0.026957510404091244,
          -0.026132691995769012,
          -0.025516264856151126,
          -0.02707370927249201,
          -0.02578570209621298,
          -0.02592670351825117,
          -0.026983693955048158,
          -0.02547188587624762,
          -0.029274528280764604,
          -0.026977570610929032,
          -0.02703069444576357,
          -0.024771975253680783,
          -0.027730434132335925,
          -0.027540982223088716,
          -0.02699453434593212,
          -0.026012006204195356,
          -0.021875076585320792,
          -0.025771174525084324,
          -0.016595450194584156,
          -0.02823778761450193,
          -0.018675640739507407,
          -0.016882565930158747,
          -0.02682215167214158,
          -0.025863706886464926,
          -0.011330124673908482,
          -0.026840199531124452,
          -0.02595269361675845,
          -0.024548161101677138,
          -0.025577311309983256,
          -0.019580766374438296,
          -0.02159466077940206,
          -0.025678015009461676,
          -0.02264923315404811,
          -0.026066598038268524,
          -0.024630720202801208,
          -0.020667483766157364,
          -0.026470338567233482,
          -0.027257705241350214,
          -0.02800503063787017,
          -0.025746064335521065,
          -0.023659005170629122,
          -0.024177511739044744,
          -0.025157131202376476,
          -0.024580566305309654,
          -0.026052601873561874,
          -0.025090349263132545,
          -0.02607954402495646,
          -0.02387111510822179,
          -0.02304892484670199,
          -0.027283992622863636,
          -0.024304771536312636,
          -0.02718161841108359,
          -0.02723055365947294,
          -0.010998626912728586,
          -0.02450520187465424,
          -0.02664744500544283,
          -0.024338254588818716,
          -0.01878132445007201,
          -0.03004692092045207,
          -0.014035497000755784,
          -0.01672117745095219,
          -0.02534015058129115,
          -0.025157824670020597,
          -0.03646111359966534,
          -0.026974230957277395,
          -0.02658386938008696,
          -0.023375246587045134,
          -0.025111745975591283,
          -0.025155931970025327,
          -0.029217457233268497,
          -0.020179149395977442,
          -0.0253188866416245,
          -0.020769427787578124,
          -0.02686687364251175
         ],
         "yaxis": "y"
        },
        {
         "hovertemplate": "color=4<br>x=%{x}<br>y=%{y}<extra></extra>",
         "legendgroup": "4",
         "marker": {
          "color": "#ab63fa",
          "symbol": "circle"
         },
         "mode": "markers",
         "name": "4",
         "orientation": "v",
         "showlegend": true,
         "type": "scatter",
         "x": [
          -0.005049002479909633,
          -0.010830225395370723,
          -0.01623989916283033,
          -0.026890627173188197,
          -0.020864856348717063,
          -0.007424243534916921,
          -0.02228273600761824,
          -0.02660125296275657,
          -0.019664882762929502,
          -0.019721788820394225,
          -0.02022751544615864,
          -0.033894381804725884,
          -0.03145903557170969,
          -0.02092521604551084,
          -0.01671797649571912,
          -0.013617685064146196,
          -0.01652077887057075,
          -0.025052567408693806,
          -0.03696570748277152,
          -0.031628921765770215,
          -0.022194779808818194,
          -0.02391862986071522,
          -0.012613034368318747,
          -0.0135036904575191,
          -0.011077267388876221,
          -0.023268929452007824,
          -0.02542246638728661,
          -0.030766594520048974,
          -0.02646956103169413,
          -0.021392851265211704,
          -0.018359823900265946,
          -0.014926982522428035,
          -0.01702398293557193,
          -0.02687249422807497,
          -0.029164984590537752,
          -0.013094442105347905,
          -0.02479926031862693,
          -0.030680904539980815,
          -0.015921000657815338,
          -0.02907037142272827,
          -0.010334834947580593,
          -0.02043134262093728,
          -0.0226566929872308,
          -0.031607828877590186,
          -0.024492073628838134,
          -0.015533800442647096,
          -0.03127789398255307,
          -0.022146613773205502,
          -0.01693881490419778,
          -0.019988108141075694,
          -0.011542217078486518,
          -0.030472818538155696,
          -0.005633199530951211,
          -0.015986669673024697,
          -0.015262972161894902,
          -0.015194709771928978,
          -0.018370436991989994
         ],
         "xaxis": "x",
         "y": [
          -0.01231477797252613,
          -0.015727598835524974,
          -0.011978129949052046,
          -0.016774881334983553,
          -0.0031876031453684124,
          0.00017209740505393559,
          -0.006968661569966467,
          -0.005233210883687492,
          0.011682661936147306,
          -0.010721655074359834,
          -0.0061616952236903545,
          -0.01623501143597239,
          -0.02273992370761625,
          -0.013416118202567223,
          -0.001334066862093702,
          -0.0016184864165937308,
          -0.0029108459583188947,
          -0.011286802905725415,
          -0.016868605768127657,
          -0.017339199253672555,
          -0.009123997009379116,
          -0.01384307933004913,
          -0.013533914574119729,
          -0.0003024660776356799,
          0.0021427259531102013,
          -0.00891261517340349,
          -0.0037357632772418675,
          -0.014331850430333238,
          -0.012134310550656582,
          0.008766309825202616,
          -0.005966072444419709,
          0.005112367671377541,
          -0.0036295010885451797,
          -0.014343654150031832,
          -0.01680943768206406,
          -0.0011568666355515692,
          -0.008436680714560838,
          -0.01698468758912645,
          -0.006709131402419212,
          -0.015495884727472702,
          -0.0012695249073918053,
          -0.00785216736849651,
          -0.0007296764248185683,
          -0.018255445384151064,
          -0.0192256506543609,
          -0.004247708587077989,
          -0.016506904889550852,
          -0.005103649847255174,
          -0.004593527569254992,
          0.002534654503708477,
          0.007060938344653555,
          -0.016777064815257654,
          -0.007721154393604866,
          -0.01513290085982155,
          -0.014805212687563263,
          -0.0018365367185660592,
          -0.0067427519480332005
         ],
         "yaxis": "y"
        },
        {
         "hovertemplate": "color=0<br>x=%{x}<br>y=%{y}<extra></extra>",
         "legendgroup": "0",
         "marker": {
          "color": "#FFA15A",
          "symbol": "circle"
         },
         "mode": "markers",
         "name": "0",
         "orientation": "v",
         "showlegend": true,
         "type": "scatter",
         "x": [
          -0.006631749788760314,
          0.004845170577091909,
          0.0020582501550479686,
          0.0055651927619447495,
          0.009359642519713088,
          0.004865591853652575,
          0.004285215151037592,
          0.00039315112630751464,
          0.0038334737665567642,
          0.008939557426091965,
          0.006216325931520492,
          0.008061693371224051,
          0.004524788160098663,
          0.0056229356059190145,
          0.00713613882415088,
          0.005861371758113931,
          0.004768457581121463,
          0.007362140776814046,
          0.0038681975579531102,
          0.0038985604990930296,
          0.002033814092437039,
          0.0008269830315939596,
          0.004866754376597004,
          0.004288916981726652,
          0.008980777164532652
         ],
         "xaxis": "x",
         "y": [
          0.000042411290645919,
          0.005270499917096608,
          0.005025366713923529,
          0.007082055230581403,
          -0.0015260923836375685,
          0.005781428870490492,
          0.007390306379414538,
          0.0005144439582784704,
          -0.0014005716167903525,
          0.004005984627255429,
          0.005130615691365459,
          0.002317976812405224,
          0.007684342315683904,
          0.006609087172152364,
          0.0074206640742970125,
          0.000845179843559909,
          0.004833962044552676,
          0.004018983390200456,
          0.006534309014685283,
          0.006153317212439093,
          0.002354337131261127,
          0.005974813813037552,
          0.007250662505540623,
          0.009140294716004435,
          0.0008729966650235177
         ],
         "yaxis": "y"
        },
        {
         "hovertemplate": "color=9<br>x=%{x}<br>y=%{y}<extra></extra>",
         "legendgroup": "9",
         "marker": {
          "color": "#19d3f3",
          "symbol": "circle"
         },
         "mode": "markers",
         "name": "9",
         "orientation": "v",
         "showlegend": true,
         "type": "scatter",
         "x": [
          0.010885311494335935,
          0.011037238415511604,
          0.011966002940865885,
          0.011928491012963609,
          0.01001315725792455,
          0.012536806526389933,
          0.008902300404472981,
          0.011030254253973498,
          0.015651306834110586,
          0.00023702780230329645,
          0.013128939169459133,
          0.010262995971965394,
          0.011561555551584116,
          0.012474303068626184,
          0.002269111842163237,
          0.017333239735413175,
          0.018154813472385366,
          0.011844051382276038,
          0.018360023999058842,
          0.013835780825733198,
          0.017455063603795916,
          0.012258482521185929,
          0.004904902751100846,
          0.014839909276224575,
          0.010216611323933181,
          0.012137660383017602,
          0.013303745188446658,
          0.011819794413766786,
          0.014665270811894683,
          0.011947851229025948,
          0.011716657852729549,
          0.011689626046552718,
          0.011319971597704053,
          0.013926773170759845,
          0.011938045915957518,
          0.01597101210780163,
          -0.006793584143985549,
          0.013108660984859796,
          0.015051915489832193,
          0.013000720827620871,
          0.01252161373580245,
          0.012784956484840957,
          0.014299472048711756,
          0.006329064422009186,
          0.011979237218863861,
          0.014201233701721525,
          0.013017396823582763,
          0.013832574159031668,
          0.012555683893990066,
          0.006487612016120985,
          0.012293765692440908,
          0.012104388474765969,
          0.013347721410755659,
          0.011746396275775053,
          0.006095578010992443,
          0.012483120223467543,
          0.0031591942290912366,
          0.01178442531515041,
          0.016745648666640287,
          0.014016857671016047,
          0.012656491685044713,
          0.01178688507803292
         ],
         "xaxis": "x",
         "y": [
          -0.002654134386158287,
          -0.004993137618408382,
          -0.000779390678329696,
          -0.005399594879732738,
          0.00868267656069753,
          -0.00012915171314518688,
          -0.0020311832143238774,
          -0.0011644592365814982,
          -0.002518187643604506,
          -0.01747808605988396,
          -0.0017937465881142155,
          -0.00533037776181645,
          -0.0007827794819419842,
          0.005040890918058347,
          -0.004235832086577255,
          -0.002121965235581296,
          -0.005590576806169714,
          -0.0026750446938071824,
          -0.009415766470659953,
          -0.0051030651006755065,
          -0.0035627936844566553,
          0.001977623656452032,
          -0.0024463635438995938,
          -0.0027967618965546847,
          -0.0012060115323566077,
          -0.004114848939187044,
          -0.0011088282879492572,
          -0.001961924755655318,
          -0.0020961847362043857,
          -0.0015246191293452282,
          0.0015743277467008382,
          -0.0022753252885923626,
          -0.00037796931130456305,
          -0.0009580963492311803,
          -0.0023772856936485286,
          -0.002849055892340186,
          -0.00306895956839911,
          -0.0038628478455766716,
          -0.0018938944179594246,
          -0.0008508869747957246,
          -0.0023520192243157885,
          -0.0021098930582027766,
          -0.003778426916037345,
          -0.002915228796981992,
          -0.0012569076663212048,
          -0.002019354879883732,
          -0.003537235041036638,
          -0.003608330556042463,
          -0.0024902113690250726,
          -0.004737777069117339,
          -0.0021258930224623477,
          -0.0001292149291674228,
          -0.002458319392782193,
          -0.003559640119250161,
          -0.00263374900079517,
          -0.0010013445719913722,
          0.004239477977632968,
          -0.002222472636449611,
          -0.0018123363323531937,
          0.0002080607896265457,
          -0.0030668886152211377,
          -0.0031296861892632314
         ],
         "yaxis": "y"
        },
        {
         "hovertemplate": "color=7<br>x=%{x}<br>y=%{y}<extra></extra>",
         "legendgroup": "7",
         "marker": {
          "color": "#FF6692",
          "symbol": "circle"
         },
         "mode": "markers",
         "name": "7",
         "orientation": "v",
         "showlegend": true,
         "type": "scatter",
         "x": [
          -0.03401586669593405,
          -0.03293811377979386,
          -0.031950543086249165,
          -0.03255090977482548,
          -0.03248748873588546,
          -0.033982062875415005,
          -0.02995415071404582,
          -0.03280230419970638,
          -0.033558639733746246,
          -0.03461136647636043,
          -0.033801799829434084,
          -0.03421686799355841,
          -0.022901533715399235,
          -0.03440891958959781,
          -0.031241258112194307,
          -0.0314386282080108,
          -0.032234235116316574,
          -0.03083301243032059,
          -0.031829887250995816,
          -0.03412074177281774,
          -0.021633793404271486,
          -0.032885603912243135,
          -0.029270641978577115,
          -0.026818725165962013,
          -0.03310365234389617,
          -0.03328782490236619,
          -0.030253840615425125,
          -0.033099998963612834,
          -0.017989955578982735,
          -0.033561210790335146,
          -0.031129058304613984,
          -0.032655926782706436,
          -0.030940098468134235,
          -0.03320004297262406,
          -0.03146728162275776,
          -0.030061131076903863,
          -0.03376184363463027,
          -0.03341079533802771,
          -0.03270808833447619,
          -0.022484456569468816,
          -0.03471984584878364,
          -0.03185484488883353,
          -0.03347697179265268,
          -0.03192599348584589,
          -0.022925894427569742,
          -0.03217941736225236,
          -0.031316715563791224,
          -0.013526834975833858,
          -0.034142392197744016,
          -0.033664525949734174,
          -0.033121866473418624,
          -0.02900619823327337,
          -0.03208475871459805,
          -0.03528044111269715
         ],
         "xaxis": "x",
         "y": [
          0.11164108464123587,
          0.10494602689886634,
          0.10382327564220557,
          0.10213163427568289,
          0.10656889351117681,
          0.10791672352584468,
          0.1012177518473932,
          0.11347967929116373,
          0.10759546346691014,
          0.11168611981277085,
          0.11401011877305801,
          0.11239981303937409,
          0.07112649262693485,
          0.10927744117670855,
          0.10345877683236247,
          0.09722889859125887,
          0.10369668709383803,
          0.10141927702933289,
          0.10783488281197019,
          0.11106891884362102,
          0.04893437755242149,
          0.1050140714124176,
          0.09281561240469603,
          0.08258744882635402,
          0.10863838079404967,
          0.109254667710841,
          0.09674941404604388,
          0.10641297278735534,
          0.03687902501460243,
          0.10894178594382814,
          0.09726114232148295,
          0.10446655904692623,
          0.0990551801366782,
          0.10601011227649952,
          0.10325454678495569,
          0.09389029990204531,
          0.10971289665376352,
          0.10706385335272606,
          0.10600257756852412,
          0.0750704496718191,
          0.11348685091868584,
          0.09692358220506986,
          0.10553063928621964,
          0.1019995374340448,
          0.07251835497551089,
          0.09761530268959433,
          0.09839937159082339,
          0.06436988238420974,
          0.11324572940063854,
          0.10891745748366785,
          0.08056814256648344,
          0.08013360126948826,
          0.10423813595015556,
          0.11365367660775427
         ],
         "yaxis": "y"
        },
        {
         "hovertemplate": "color=8<br>x=%{x}<br>y=%{y}<extra></extra>",
         "legendgroup": "8",
         "marker": {
          "color": "#B6E880",
          "symbol": "circle"
         },
         "mode": "markers",
         "name": "8",
         "orientation": "v",
         "showlegend": true,
         "type": "scatter",
         "x": [
          -0.10558995698219703,
          -0.10371067015111146,
          -0.0953967535639626,
          -0.051938778655293186,
          -0.0562672267212067,
          -0.10345218309700735,
          -0.08816604318760564,
          -0.09408946080151649,
          -0.11048081414857769,
          -0.09397860295820402,
          -0.09613247685820718,
          -0.048870999014439566,
          -0.1055673633710019,
          -0.08177610122205177,
          -0.1109050025692462,
          -0.11105026322646942,
          -0.11653175783721181,
          -0.11039224869705629,
          -0.10649822670917462,
          -0.10388810214290363,
          -0.10622849721127314,
          -0.09819009239203932,
          -0.09871277489443535,
          -0.10680662945279426,
          -0.10608671726641121,
          -0.10760628580980414,
          -0.10129586880299842,
          -0.10165799893376419,
          -0.10068101522169087,
          -0.09640144661952108,
          -0.11001481159423315,
          -0.10614405211527031,
          -0.11683924294309195,
          -0.10907909891210135,
          -0.10587768477244718,
          -0.10610034825792805,
          -0.12506142177873097,
          -0.11227174220169878,
          -0.11952339160845317,
          -0.10315093447403356,
          -0.079909846136813,
          -0.09426396924313349,
          -0.1062836643706591,
          -0.10194212434644324,
          -0.10474286234371594,
          -0.10827656844808736,
          -0.11326187337721877,
          -0.11806630351764924,
          -0.10153411502918758
         ],
         "xaxis": "x",
         "y": [
          -0.07419682264220266,
          -0.07422472982185617,
          -0.06825560784505989,
          -0.028367979186308873,
          -0.04334653762256504,
          -0.07537515093029926,
          -0.05277887984708939,
          -0.0657215392542695,
          -0.08010591894967041,
          -0.06571952598719866,
          -0.0677548012997909,
          -0.027792005721631968,
          -0.07722649572626983,
          -0.055793196340711615,
          -0.08021484511183366,
          -0.0801225385143283,
          -0.08520228422339726,
          -0.07988827638737146,
          -0.0771045228703256,
          -0.07648069079161275,
          -0.0760457005789129,
          -0.06870672612236968,
          -0.07026509428555895,
          -0.0782929468137144,
          -0.07735791970496347,
          -0.07709317578959778,
          -0.07244912691523006,
          -0.07489053373755093,
          -0.0728065938792518,
          -0.06673840694438214,
          -0.07892607742060008,
          -0.07681620552001164,
          -0.08501131197271718,
          -0.0794175642480909,
          -0.07727312216170576,
          -0.0766144183917359,
          -0.09282187241639689,
          -0.0821170709732702,
          -0.08787311780783826,
          -0.07483305307952927,
          -0.054438698709950904,
          -0.06877958893875502,
          -0.07650376724427502,
          -0.07290187766157566,
          -0.07470090262992317,
          -0.07927696646130981,
          -0.08163602904191601,
          -0.0871331302642846,
          -0.07349027934120882
         ],
         "yaxis": "y"
        },
        {
         "hovertemplate": "color=2<br>x=%{x}<br>y=%{y}<extra></extra>",
         "legendgroup": "2",
         "marker": {
          "color": "#FF97FF",
          "symbol": "circle"
         },
         "mode": "markers",
         "name": "2",
         "orientation": "v",
         "showlegend": true,
         "type": "scatter",
         "x": [
          -0.031367759500517976,
          -0.03180250873972956,
          -0.03116454124034752,
          -0.03129568256160677,
          -0.024594252565514996,
          -0.0319264922314706,
          -0.02139610300347643,
          -0.03721586859771015,
          -0.02302547878797912,
          -0.02576401147215644,
          -0.020533957692806547,
          -0.032989590901232255,
          -0.03286975862762277,
          -0.03943675237227403,
          -0.021064301911436687,
          -0.03207231786491613,
          -0.02741138806760814
         ],
         "xaxis": "x",
         "y": [
          0.08785515738976404,
          0.09725832828930497,
          0.08782556560383761,
          0.07803400897119388,
          0.04489621141959426,
          0.08324100521894243,
          0.056475598460363506,
          0.03705116234160652,
          0.06182833199325541,
          0.07258857316188036,
          0.0515734988160217,
          0.059295843333515307,
          0.08667348985764615,
          0.046889545647952245,
          0.06649889744742783,
          0.09178936683631478,
          0.0667685693212181
         ],
         "yaxis": "y"
        },
        {
         "hovertemplate": "color=1<br>x=%{x}<br>y=%{y}<extra></extra>",
         "legendgroup": "1",
         "marker": {
          "color": "#FECB52",
          "symbol": "circle"
         },
         "mode": "markers",
         "name": "1",
         "orientation": "v",
         "showlegend": true,
         "type": "scatter",
         "x": [
          -0.01203012270906907,
          0.004782037115434971,
          -0.006047070911340771,
          -0.00568670166101899
         ],
         "xaxis": "x",
         "y": [
          0.019609481178591154,
          0.00022227958396641738,
          0.04260563376853797,
          0.03458671256909056
         ],
         "yaxis": "y"
        }
       ],
       "layout": {
        "height": 400,
        "legend": {
         "title": {
          "text": "color"
         },
         "tracegroupgap": 0
        },
        "template": {
         "data": {
          "bar": [
           {
            "error_x": {
             "color": "#2a3f5f"
            },
            "error_y": {
             "color": "#2a3f5f"
            },
            "marker": {
             "line": {
              "color": "#E5ECF6",
              "width": 0.5
             },
             "pattern": {
              "fillmode": "overlay",
              "size": 10,
              "solidity": 0.2
             }
            },
            "type": "bar"
           }
          ],
          "barpolar": [
           {
            "marker": {
             "line": {
              "color": "#E5ECF6",
              "width": 0.5
             },
             "pattern": {
              "fillmode": "overlay",
              "size": 10,
              "solidity": 0.2
             }
            },
            "type": "barpolar"
           }
          ],
          "carpet": [
           {
            "aaxis": {
             "endlinecolor": "#2a3f5f",
             "gridcolor": "white",
             "linecolor": "white",
             "minorgridcolor": "white",
             "startlinecolor": "#2a3f5f"
            },
            "baxis": {
             "endlinecolor": "#2a3f5f",
             "gridcolor": "white",
             "linecolor": "white",
             "minorgridcolor": "white",
             "startlinecolor": "#2a3f5f"
            },
            "type": "carpet"
           }
          ],
          "choropleth": [
           {
            "colorbar": {
             "outlinewidth": 0,
             "ticks": ""
            },
            "type": "choropleth"
           }
          ],
          "contour": [
           {
            "colorbar": {
             "outlinewidth": 0,
             "ticks": ""
            },
            "colorscale": [
             [
              0,
              "#0d0887"
             ],
             [
              0.1111111111111111,
              "#46039f"
             ],
             [
              0.2222222222222222,
              "#7201a8"
             ],
             [
              0.3333333333333333,
              "#9c179e"
             ],
             [
              0.4444444444444444,
              "#bd3786"
             ],
             [
              0.5555555555555556,
              "#d8576b"
             ],
             [
              0.6666666666666666,
              "#ed7953"
             ],
             [
              0.7777777777777778,
              "#fb9f3a"
             ],
             [
              0.8888888888888888,
              "#fdca26"
             ],
             [
              1,
              "#f0f921"
             ]
            ],
            "type": "contour"
           }
          ],
          "contourcarpet": [
           {
            "colorbar": {
             "outlinewidth": 0,
             "ticks": ""
            },
            "type": "contourcarpet"
           }
          ],
          "heatmap": [
           {
            "colorbar": {
             "outlinewidth": 0,
             "ticks": ""
            },
            "colorscale": [
             [
              0,
              "#0d0887"
             ],
             [
              0.1111111111111111,
              "#46039f"
             ],
             [
              0.2222222222222222,
              "#7201a8"
             ],
             [
              0.3333333333333333,
              "#9c179e"
             ],
             [
              0.4444444444444444,
              "#bd3786"
             ],
             [
              0.5555555555555556,
              "#d8576b"
             ],
             [
              0.6666666666666666,
              "#ed7953"
             ],
             [
              0.7777777777777778,
              "#fb9f3a"
             ],
             [
              0.8888888888888888,
              "#fdca26"
             ],
             [
              1,
              "#f0f921"
             ]
            ],
            "type": "heatmap"
           }
          ],
          "heatmapgl": [
           {
            "colorbar": {
             "outlinewidth": 0,
             "ticks": ""
            },
            "colorscale": [
             [
              0,
              "#0d0887"
             ],
             [
              0.1111111111111111,
              "#46039f"
             ],
             [
              0.2222222222222222,
              "#7201a8"
             ],
             [
              0.3333333333333333,
              "#9c179e"
             ],
             [
              0.4444444444444444,
              "#bd3786"
             ],
             [
              0.5555555555555556,
              "#d8576b"
             ],
             [
              0.6666666666666666,
              "#ed7953"
             ],
             [
              0.7777777777777778,
              "#fb9f3a"
             ],
             [
              0.8888888888888888,
              "#fdca26"
             ],
             [
              1,
              "#f0f921"
             ]
            ],
            "type": "heatmapgl"
           }
          ],
          "histogram": [
           {
            "marker": {
             "pattern": {
              "fillmode": "overlay",
              "size": 10,
              "solidity": 0.2
             }
            },
            "type": "histogram"
           }
          ],
          "histogram2d": [
           {
            "colorbar": {
             "outlinewidth": 0,
             "ticks": ""
            },
            "colorscale": [
             [
              0,
              "#0d0887"
             ],
             [
              0.1111111111111111,
              "#46039f"
             ],
             [
              0.2222222222222222,
              "#7201a8"
             ],
             [
              0.3333333333333333,
              "#9c179e"
             ],
             [
              0.4444444444444444,
              "#bd3786"
             ],
             [
              0.5555555555555556,
              "#d8576b"
             ],
             [
              0.6666666666666666,
              "#ed7953"
             ],
             [
              0.7777777777777778,
              "#fb9f3a"
             ],
             [
              0.8888888888888888,
              "#fdca26"
             ],
             [
              1,
              "#f0f921"
             ]
            ],
            "type": "histogram2d"
           }
          ],
          "histogram2dcontour": [
           {
            "colorbar": {
             "outlinewidth": 0,
             "ticks": ""
            },
            "colorscale": [
             [
              0,
              "#0d0887"
             ],
             [
              0.1111111111111111,
              "#46039f"
             ],
             [
              0.2222222222222222,
              "#7201a8"
             ],
             [
              0.3333333333333333,
              "#9c179e"
             ],
             [
              0.4444444444444444,
              "#bd3786"
             ],
             [
              0.5555555555555556,
              "#d8576b"
             ],
             [
              0.6666666666666666,
              "#ed7953"
             ],
             [
              0.7777777777777778,
              "#fb9f3a"
             ],
             [
              0.8888888888888888,
              "#fdca26"
             ],
             [
              1,
              "#f0f921"
             ]
            ],
            "type": "histogram2dcontour"
           }
          ],
          "mesh3d": [
           {
            "colorbar": {
             "outlinewidth": 0,
             "ticks": ""
            },
            "type": "mesh3d"
           }
          ],
          "parcoords": [
           {
            "line": {
             "colorbar": {
              "outlinewidth": 0,
              "ticks": ""
             }
            },
            "type": "parcoords"
           }
          ],
          "pie": [
           {
            "automargin": true,
            "type": "pie"
           }
          ],
          "scatter": [
           {
            "fillpattern": {
             "fillmode": "overlay",
             "size": 10,
             "solidity": 0.2
            },
            "type": "scatter"
           }
          ],
          "scatter3d": [
           {
            "line": {
             "colorbar": {
              "outlinewidth": 0,
              "ticks": ""
             }
            },
            "marker": {
             "colorbar": {
              "outlinewidth": 0,
              "ticks": ""
             }
            },
            "type": "scatter3d"
           }
          ],
          "scattercarpet": [
           {
            "marker": {
             "colorbar": {
              "outlinewidth": 0,
              "ticks": ""
             }
            },
            "type": "scattercarpet"
           }
          ],
          "scattergeo": [
           {
            "marker": {
             "colorbar": {
              "outlinewidth": 0,
              "ticks": ""
             }
            },
            "type": "scattergeo"
           }
          ],
          "scattergl": [
           {
            "marker": {
             "colorbar": {
              "outlinewidth": 0,
              "ticks": ""
             }
            },
            "type": "scattergl"
           }
          ],
          "scattermapbox": [
           {
            "marker": {
             "colorbar": {
              "outlinewidth": 0,
              "ticks": ""
             }
            },
            "type": "scattermapbox"
           }
          ],
          "scatterpolar": [
           {
            "marker": {
             "colorbar": {
              "outlinewidth": 0,
              "ticks": ""
             }
            },
            "type": "scatterpolar"
           }
          ],
          "scatterpolargl": [
           {
            "marker": {
             "colorbar": {
              "outlinewidth": 0,
              "ticks": ""
             }
            },
            "type": "scatterpolargl"
           }
          ],
          "scatterternary": [
           {
            "marker": {
             "colorbar": {
              "outlinewidth": 0,
              "ticks": ""
             }
            },
            "type": "scatterternary"
           }
          ],
          "surface": [
           {
            "colorbar": {
             "outlinewidth": 0,
             "ticks": ""
            },
            "colorscale": [
             [
              0,
              "#0d0887"
             ],
             [
              0.1111111111111111,
              "#46039f"
             ],
             [
              0.2222222222222222,
              "#7201a8"
             ],
             [
              0.3333333333333333,
              "#9c179e"
             ],
             [
              0.4444444444444444,
              "#bd3786"
             ],
             [
              0.5555555555555556,
              "#d8576b"
             ],
             [
              0.6666666666666666,
              "#ed7953"
             ],
             [
              0.7777777777777778,
              "#fb9f3a"
             ],
             [
              0.8888888888888888,
              "#fdca26"
             ],
             [
              1,
              "#f0f921"
             ]
            ],
            "type": "surface"
           }
          ],
          "table": [
           {
            "cells": {
             "fill": {
              "color": "#EBF0F8"
             },
             "line": {
              "color": "white"
             }
            },
            "header": {
             "fill": {
              "color": "#C8D4E3"
             },
             "line": {
              "color": "white"
             }
            },
            "type": "table"
           }
          ]
         },
         "layout": {
          "annotationdefaults": {
           "arrowcolor": "#2a3f5f",
           "arrowhead": 0,
           "arrowwidth": 1
          },
          "autotypenumbers": "strict",
          "coloraxis": {
           "colorbar": {
            "outlinewidth": 0,
            "ticks": ""
           }
          },
          "colorscale": {
           "diverging": [
            [
             0,
             "#8e0152"
            ],
            [
             0.1,
             "#c51b7d"
            ],
            [
             0.2,
             "#de77ae"
            ],
            [
             0.3,
             "#f1b6da"
            ],
            [
             0.4,
             "#fde0ef"
            ],
            [
             0.5,
             "#f7f7f7"
            ],
            [
             0.6,
             "#e6f5d0"
            ],
            [
             0.7,
             "#b8e186"
            ],
            [
             0.8,
             "#7fbc41"
            ],
            [
             0.9,
             "#4d9221"
            ],
            [
             1,
             "#276419"
            ]
           ],
           "sequential": [
            [
             0,
             "#0d0887"
            ],
            [
             0.1111111111111111,
             "#46039f"
            ],
            [
             0.2222222222222222,
             "#7201a8"
            ],
            [
             0.3333333333333333,
             "#9c179e"
            ],
            [
             0.4444444444444444,
             "#bd3786"
            ],
            [
             0.5555555555555556,
             "#d8576b"
            ],
            [
             0.6666666666666666,
             "#ed7953"
            ],
            [
             0.7777777777777778,
             "#fb9f3a"
            ],
            [
             0.8888888888888888,
             "#fdca26"
            ],
            [
             1,
             "#f0f921"
            ]
           ],
           "sequentialminus": [
            [
             0,
             "#0d0887"
            ],
            [
             0.1111111111111111,
             "#46039f"
            ],
            [
             0.2222222222222222,
             "#7201a8"
            ],
            [
             0.3333333333333333,
             "#9c179e"
            ],
            [
             0.4444444444444444,
             "#bd3786"
            ],
            [
             0.5555555555555556,
             "#d8576b"
            ],
            [
             0.6666666666666666,
             "#ed7953"
            ],
            [
             0.7777777777777778,
             "#fb9f3a"
            ],
            [
             0.8888888888888888,
             "#fdca26"
            ],
            [
             1,
             "#f0f921"
            ]
           ]
          },
          "colorway": [
           "#636efa",
           "#EF553B",
           "#00cc96",
           "#ab63fa",
           "#FFA15A",
           "#19d3f3",
           "#FF6692",
           "#B6E880",
           "#FF97FF",
           "#FECB52"
          ],
          "font": {
           "color": "#2a3f5f"
          },
          "geo": {
           "bgcolor": "white",
           "lakecolor": "white",
           "landcolor": "#E5ECF6",
           "showlakes": true,
           "showland": true,
           "subunitcolor": "white"
          },
          "hoverlabel": {
           "align": "left"
          },
          "hovermode": "closest",
          "mapbox": {
           "style": "light"
          },
          "paper_bgcolor": "white",
          "plot_bgcolor": "#E5ECF6",
          "polar": {
           "angularaxis": {
            "gridcolor": "white",
            "linecolor": "white",
            "ticks": ""
           },
           "bgcolor": "#E5ECF6",
           "radialaxis": {
            "gridcolor": "white",
            "linecolor": "white",
            "ticks": ""
           }
          },
          "scene": {
           "xaxis": {
            "backgroundcolor": "#E5ECF6",
            "gridcolor": "white",
            "gridwidth": 2,
            "linecolor": "white",
            "showbackground": true,
            "ticks": "",
            "zerolinecolor": "white"
           },
           "yaxis": {
            "backgroundcolor": "#E5ECF6",
            "gridcolor": "white",
            "gridwidth": 2,
            "linecolor": "white",
            "showbackground": true,
            "ticks": "",
            "zerolinecolor": "white"
           },
           "zaxis": {
            "backgroundcolor": "#E5ECF6",
            "gridcolor": "white",
            "gridwidth": 2,
            "linecolor": "white",
            "showbackground": true,
            "ticks": "",
            "zerolinecolor": "white"
           }
          },
          "shapedefaults": {
           "line": {
            "color": "#2a3f5f"
           }
          },
          "ternary": {
           "aaxis": {
            "gridcolor": "white",
            "linecolor": "white",
            "ticks": ""
           },
           "baxis": {
            "gridcolor": "white",
            "linecolor": "white",
            "ticks": ""
           },
           "bgcolor": "#E5ECF6",
           "caxis": {
            "gridcolor": "white",
            "linecolor": "white",
            "ticks": ""
           }
          },
          "title": {
           "x": 0.05
          },
          "xaxis": {
           "automargin": true,
           "gridcolor": "white",
           "linecolor": "white",
           "ticks": "",
           "title": {
            "standoff": 15
           },
           "zerolinecolor": "white",
           "zerolinewidth": 2
          },
          "yaxis": {
           "automargin": true,
           "gridcolor": "white",
           "linecolor": "white",
           "ticks": "",
           "title": {
            "standoff": 15
           },
           "zerolinecolor": "white",
           "zerolinewidth": 2
          }
         }
        },
        "title": {
         "text": "Mod-LLE_2_comp - 0.195 sec."
        },
        "width": 500,
        "xaxis": {
         "anchor": "y",
         "domain": [
          0,
          1
         ],
         "title": {
          "text": "c_1"
         }
        },
        "yaxis": {
         "anchor": "x",
         "domain": [
          0,
          1
         ],
         "title": {
          "text": "c_2"
         }
        }
       }
      }
     },
     "metadata": {},
     "output_type": "display_data"
    },
    {
     "data": {
      "application/vnd.plotly.v1+json": {
       "config": {
        "plotlyServerURL": "https://plot.ly"
       },
       "data": [
        {
         "hovertemplate": "color=5<br>x=%{x}<br>y=%{y}<extra></extra>",
         "legendgroup": "5",
         "marker": {
          "color": "#636efa",
          "symbol": "circle"
         },
         "mode": "markers",
         "name": "5",
         "orientation": "v",
         "showlegend": true,
         "type": "scatter",
         "x": [
          -0.009153532500895257,
          -0.009849587638133664,
          -0.009287007492285324,
          -0.011127653684600641,
          -0.01017271910745496,
          -0.009372364350224784,
          -0.006940312634151005,
          -0.007317235707444357,
          -0.010639120532995783,
          -0.006006540166745129,
          -0.010868497865897775,
          -0.0042534299193216045,
          -0.00927716684107817,
          -0.007736386502023463,
          -0.008887618696494935,
          -0.00908565630827227,
          -0.010667750646874348,
          -0.0077020902875365675,
          -0.010116715864017758,
          -0.0015811956563806066,
          -0.010013215364035901,
          -0.005542052804736949,
          -0.008847594305346335,
          -0.00987647518866215,
          -0.00512159265763751,
          -0.005681942582650347,
          -0.008513814236486264,
          -0.009074008897971211,
          -0.0102353472715421,
          -0.008050680777422981,
          0.0006455607844463853,
          -0.008856292075511495,
          -0.009935267462572724,
          -0.0011310030333608837,
          -0.007827799352686265,
          -0.008577623551433771,
          -0.006563858202840078,
          0.0008659257287958768,
          -0.008424566668746346,
          0.0005641301173931502,
          0.01303303286775849,
          -0.009376100253498528,
          -0.0019320103261415353,
          -0.004351801783259692,
          0.01454255456333426,
          -0.001835833846624035,
          -0.009212160368829166,
          -0.008420865770721875,
          -0.007970364425770987,
          -0.009104695596245528,
          -0.0031090800035286827,
          -0.0006893456821048666,
          -0.005192296871696166,
          -0.007137777666316701,
          -0.008421181647469899,
          -0.009198168382502245,
          -0.009551733552166632,
          -0.007589557437066194,
          -0.01042078626671647,
          -0.007626985513089671,
          -0.007649225613008881,
          -0.00900991604628008,
          -0.007111191517574016,
          -0.007794755165078318,
          -0.003547614398006447,
          -0.008408274687996403,
          -0.007085871797854831,
          -0.008721137683109594,
          -0.009078402284175334,
          -0.0090604246129544,
          -0.008114004522599555,
          -0.004690181385728761,
          -0.007421465160039265,
          -0.010300396892311624,
          -0.010662445306224271,
          -0.008578926867911065,
          -0.007816137702107385,
          -0.008258106259635356,
          0.0009421703626611138
         ],
         "xaxis": "x",
         "y": [
          -0.004369161678518168,
          -0.0068089365174438705,
          -0.008225315193089971,
          -0.009517065334583845,
          -0.005135847362952167,
          -0.005445259929899618,
          -0.004269300541686706,
          -0.00560190285260547,
          -0.005424586305522292,
          -0.004913215955522866,
          -0.004496701961629115,
          -0.004844339775725735,
          -0.005020012737429927,
          -0.0028647198588958632,
          -0.0059306087264895365,
          -0.005263276294167624,
          -0.00493477655198549,
          -0.005320385694323845,
          -0.0055730675793534915,
          -0.004671300817977198,
          -0.004416730464718452,
          -0.004694649479779493,
          -0.006113503411034392,
          -0.005520008432743501,
          -0.0045044851239783275,
          -0.0008578237333026068,
          -0.005025020970814276,
          -0.005520050166305426,
          -0.0058615112602819,
          -0.004591785883392748,
          0.0015006115087040665,
          -0.005238797935368657,
          -0.005456823595897178,
          -0.0010271006483876018,
          -0.005891205828319575,
          -0.005378142179252303,
          -0.004750881234927253,
          -0.005170272272621671,
          -0.005332727300975237,
          0.0004478001890577,
          0.0062717752637967625,
          -0.005207574108392302,
          -0.002700141929954415,
          0.0012833132413127694,
          -0.002065634269092129,
          -0.0005993424113367547,
          -0.006249282783436695,
          -0.005282856499086557,
          -0.005665753578789029,
          -0.004752225186115528,
          -0.0016843651223500122,
          -0.0004357466940344279,
          -0.005605438014081629,
          -0.004921044420659215,
          -0.005016401661813552,
          -0.005560451111444334,
          -0.004845088357282895,
          -0.004436515648331722,
          -0.006028431271596479,
          -0.006884291266654082,
          -0.0069520055538617315,
          -0.004424958294187226,
          -0.004529268661920884,
          -0.004637092153506092,
          -0.004534484270764721,
          -0.0043127546642835884,
          -0.004980610931704695,
          -0.0055093103613574335,
          -0.006320923140944394,
          -0.005285772652363999,
          -0.005174545820002357,
          -0.0048577835179650225,
          -0.00374544667876518,
          -0.00512790529080576,
          -0.004938129593612358,
          -0.005132178275737868,
          -0.0045104743656016084,
          -0.003917878315672434,
          -0.009606728952140979
         ],
         "yaxis": "y"
        },
        {
         "hovertemplate": "color=6<br>x=%{x}<br>y=%{y}<extra></extra>",
         "legendgroup": "6",
         "marker": {
          "color": "#EF553B",
          "symbol": "circle"
         },
         "mode": "markers",
         "name": "6",
         "orientation": "v",
         "showlegend": true,
         "type": "scatter",
         "x": [
          -0.04147257864825371,
          -0.049798874092310846,
          -0.05580796201396254,
          -0.05007463669648853,
          -0.04145814229400128,
          -0.05737293296370397,
          -0.051927461799647426,
          -0.04365807414726232,
          -0.051697547223433934,
          -0.052877127300910806,
          -0.04887831731993148,
          -0.05647703051783091,
          -0.05043270623767235,
          -0.05379635681489724,
          -0.04424148407920583,
          -0.05328926961566808,
          -0.035376628047953836,
          -0.06168162558630143,
          -0.050367111240183476,
          -0.059976513923171604
         ],
         "xaxis": "x",
         "y": [
          -0.034939869696733454,
          -0.04241656868908966,
          -0.04792452476203295,
          -0.0418238076774115,
          -0.03422210106115813,
          -0.049656058529375866,
          -0.04324180884323833,
          -0.03736520881249217,
          -0.04435358036071593,
          -0.0454197034778048,
          -0.04162508190295095,
          -0.04837128206170715,
          -0.04384272672730599,
          -0.04600121921385967,
          -0.03672609636797866,
          -0.04576693740299432,
          -0.030118462249603163,
          -0.053559955947767524,
          -0.04321068693228275,
          -0.05206770627756316
         ],
         "yaxis": "y"
        },
        {
         "hovertemplate": "color=3<br>x=%{x}<br>y=%{y}<extra></extra>",
         "legendgroup": "3",
         "marker": {
          "color": "#00cc96",
          "symbol": "circle"
         },
         "mode": "markers",
         "name": "3",
         "orientation": "v",
         "showlegend": true,
         "type": "scatter",
         "x": [
          -0.03469627427893565,
          -0.035712959208890754,
          -0.036416367725727344,
          -0.03711100661958203,
          -0.03539033844227786,
          -0.03618773595671862,
          -0.035649336799386644,
          -0.036035831728965795,
          -0.03482811780350284,
          -0.035986857573831604,
          -0.03601682665313667,
          -0.03383654984306096,
          -0.038665931920266586,
          -0.034721067598164776,
          -0.03707692999048115,
          -0.036177109521451936,
          -0.0360272187659741,
          -0.03754247197237323,
          -0.027074813149867708,
          -0.035056271175841515,
          -0.023923815123969606,
          -0.036837348534696286,
          -0.03432667718554255,
          -0.03480994557285087,
          -0.033766155340326315,
          -0.03364964729909367,
          -0.037083733388835964,
          -0.031823176743110686,
          -0.0351198756634568,
          -0.03496018731756986,
          -0.034990328289164686,
          -0.029397687266165227,
          -0.036061842677662125,
          -0.03657583448691998,
          -0.038272424256906475,
          -0.03429512300248746,
          -0.036330743617394155,
          -0.033105479448703824,
          -0.03753466717394412,
          -0.030172037483845074,
          -0.03657419398101367,
          -0.030724421820560077,
          -0.03489036312649611,
          -0.035379934609573414,
          -0.031003681849593612,
          -0.03557791842714212,
          -0.03598768835132243,
          -0.035656880808946134,
          -0.03745839718967272,
          -0.03460275947479058,
          -0.03572573729874882,
          -0.03137564351299883,
          -0.032708730740976036,
          -0.03391458968505293,
          -0.03316769954275467,
          -0.04252070651824447,
          -0.03785182913861995,
          -0.015049051500913731,
          -0.036214112588083935,
          -0.03627978173062961,
          -0.03582893974608797,
          -0.036701797187318,
          -0.03655686292502372,
          -0.03459292622686785,
          -0.035682091160919055,
          -0.03563025943875246,
          -0.03623037157300291,
          -0.03793959524617936,
          -0.03526068783937346,
          -0.03732908745701852,
          -0.033664899899712546,
          -0.03586065812606061,
          -0.03732441829106087,
          -0.03745868704897563,
          -0.03578886472554864,
          -0.032235715028579484,
          -0.03534625439609389,
          -0.025020762568369215,
          -0.0370899637105162,
          -0.03170249499460719,
          -0.032518683279946836,
          -0.03412498085766489,
          -0.03644622504399022,
          -0.01256106744495715,
          -0.03621047983114238,
          -0.03538688123424546,
          -0.03596889769179383,
          -0.03480314135105911,
          -0.025460784119908993,
          -0.031827073224575876,
          -0.03616765496373612,
          -0.03157668856267332,
          -0.03633343915782129,
          -0.03642914887958063,
          -0.03533623889426747,
          -0.03678369213422726,
          -0.03605255797813339,
          -0.035548016524550426,
          -0.033838141838760195,
          -0.03618785160113193,
          -0.03226268233535763,
          -0.03389355956416084,
          -0.034429447710786695,
          -0.03541796130547227,
          -0.034231799331492535,
          -0.036105345409244774,
          -0.032467171923881544,
          -0.026434806786074422,
          -0.03698086432898336,
          -0.032743088613765445,
          -0.03630453199967089,
          -0.03684807024471541,
          -0.018974744987371193,
          -0.035755912580540686,
          -0.03788789824260122,
          -0.03550669388851622,
          -0.02859487788649889,
          -0.03903582945753178,
          -0.012028884766665911,
          -0.031950701073092884,
          -0.0343398810576057,
          -0.03311794312482645,
          -0.04373806011980007,
          -0.037214991750836264,
          -0.036590871172516616,
          -0.034046346203088045,
          -0.035551227860136064,
          -0.035471675304024994,
          -0.04395336576818354,
          -0.02568773408308632,
          -0.0358616251231729,
          -0.03244069599054973,
          -0.03652341956670994
         ],
         "xaxis": "x",
         "y": [
          -0.025002268221980067,
          -0.024332828143994508,
          -0.025937104879942233,
          -0.026811228960393663,
          -0.02468178422107488,
          -0.02618991643617316,
          -0.026426637802624123,
          -0.024835675796954934,
          -0.02371318475590289,
          -0.025946235825805894,
          -0.02583517021625295,
          -0.021710941676334732,
          -0.0274720895339959,
          -0.0244784109045545,
          -0.02667213798491299,
          -0.02572488112649003,
          -0.0241668347129478,
          -0.027302276004431247,
          -0.017514159661022884,
          -0.024744072649888087,
          -0.01945635845753268,
          -0.026492885056349665,
          -0.02433895086447098,
          -0.02448840703943196,
          -0.02436996174342526,
          -0.02526429667146007,
          -0.026824337127401676,
          -0.02252574810183334,
          -0.02470549392915373,
          -0.025583594504803596,
          -0.02497072622635643,
          -0.020220129652276812,
          -0.025848049158035905,
          -0.02619788324643206,
          -0.02828251861714912,
          -0.02478446461135175,
          -0.025855955240709504,
          -0.024061664734895315,
          -0.02723377124429645,
          -0.019665275455532732,
          -0.026237208384666803,
          -0.018655021498123633,
          -0.024375885339403998,
          -0.025417817624040627,
          -0.021195401661269618,
          -0.025039661018038232,
          -0.02556026546997374,
          -0.025480611758451968,
          -0.02688479229723253,
          -0.02542331953113773,
          -0.0251123453255252,
          -0.02445076593946146,
          -0.02345683509254518,
          -0.025076571562905867,
          -0.013394730392936965,
          -0.031790796466998346,
          -0.02722044562776209,
          -0.004299386352420743,
          -0.0258222313229335,
          -0.02776259109344101,
          -0.026289965431368172,
          -0.026764074140579085,
          -0.026062972273873605,
          -0.02393559305622883,
          -0.026076628966103264,
          -0.02498972504469501,
          -0.02591889295009119,
          -0.027305119284268178,
          -0.025229125435774165,
          -0.02687055910941641,
          -0.023959339487937603,
          -0.024957193388950312,
          -0.026923827000081786,
          -0.02702877013518805,
          -0.02548419588947582,
          -0.023377955704455188,
          -0.025201278630713284,
          -0.015564974350428404,
          -0.026602879256926712,
          -0.023851472072907675,
          -0.023858224092756196,
          -0.02388462413463565,
          -0.026292113388842454,
          -0.002551322257572132,
          -0.025889780792204997,
          -0.025321912143554406,
          -0.026136794793185727,
          -0.024516423774059284,
          -0.014892222280117226,
          -0.02261533476815339,
          -0.026113352230254114,
          -0.021501797683676042,
          -0.02601206505418329,
          -0.026481018707752962,
          -0.025141929434238926,
          -0.02645076142611405,
          -0.02502778385023731,
          -0.025289002497297507,
          -0.023007638966612995,
          -0.027713747198463375,
          -0.023679372445286544,
          -0.023026564648934093,
          -0.02473449405253262,
          -0.025580152268930442,
          -0.02505972873589427,
          -0.02606711977928986,
          -0.02335077313624584,
          -0.01768720774914046,
          -0.026543662860862648,
          -0.023437461328866656,
          -0.025985478518449113,
          -0.02602657688322926,
          -0.011211637996658,
          -0.02586582843898994,
          -0.027443916586952593,
          -0.024876155241111912,
          -0.020310811320253367,
          -0.02810426087072934,
          -0.007152043734668677,
          -0.02405014075485037,
          -0.025078507925227443,
          -0.023193169113624484,
          -0.03289288154660377,
          -0.02677161688023794,
          -0.026377614293095316,
          -0.024631700237103107,
          -0.025695708464365336,
          -0.02496152183732893,
          -0.03248053618726091,
          -0.016487448264629837,
          -0.025850833385585102,
          -0.02391817361048608,
          -0.02674380503596853
         ],
         "yaxis": "y"
        },
        {
         "hovertemplate": "color=4<br>x=%{x}<br>y=%{y}<extra></extra>",
         "legendgroup": "4",
         "marker": {
          "color": "#ab63fa",
          "symbol": "circle"
         },
         "mode": "markers",
         "name": "4",
         "orientation": "v",
         "showlegend": true,
         "type": "scatter",
         "x": [
          -0.00609760984226751,
          -0.005798020574217452,
          -0.0019697119639013327,
          -0.003658302205556843,
          -0.002619269505908302,
          -0.0025099425995817673,
          -0.002246471345101156,
          0.004150111260301629,
          0.0039764993831461586,
          -0.0053451272232790635,
          -0.00426932236670736,
          -0.00372399530736295,
          -0.0028638482165437903,
          -0.005267999386653817,
          -0.0017959235042787538,
          -0.004967589140239946,
          -0.005301924193704857,
          -0.004175812380360001,
          -0.0015688001281713541,
          -0.0038410320730102344,
          -0.0043602053212171525,
          -0.0035917757768319705,
          -0.003904071348093875,
          -0.005273980305585187,
          -0.0058873436788286545,
          -0.003266440805692026,
          -0.004581860578931653,
          -0.004412915213727969,
          -0.003085935559582108,
          0.002569194574641222,
          -0.00523720335419927,
          -0.00484278199940897,
          -0.00450731491878445,
          -0.004983114409428644,
          -0.003183252547474702,
          -0.004896247945455318,
          -0.001072679099481097,
          -0.0037944914053332883,
          -0.004348086504890925,
          -0.00300547135319389,
          -0.002331125405753445,
          -0.004297799225318961,
          -0.000026570763717757503,
          -0.0033726793894954636,
          -0.00367005960121391,
          -0.004578960875579328,
          -0.0049876263189166485,
          -0.003915262864678295,
          -0.0051108072659492715,
          -0.001738745509216915,
          -0.006154218865906878,
          -0.002245254649356501,
          -0.004339023344594422,
          -0.005697485853204008,
          -0.0025978777900778037,
          -0.0053409896505466,
          -0.004838923186122272
         ],
         "xaxis": "x",
         "y": [
          0.009383995344617218,
          0.03066977143815202,
          0.02013319637304227,
          0.029600314605828345,
          0.019726452485109576,
          0.0033668850676507964,
          0.019832596367015013,
          0.02276355771419189,
          0.009013955945413958,
          0.021138750340405237,
          0.012335072680336935,
          0.035743851044647154,
          0.03029929439703452,
          0.02080883569692173,
          0.0017709176396476772,
          0.0036383935057683545,
          0.004021204885516626,
          0.022072790488076293,
          0.03244127426298867,
          0.028048414878589934,
          0.012640004057589364,
          0.025651066112965464,
          0.021383857339635933,
          -0.0015579691924794154,
          -0.008066575488253732,
          0.018229969273025115,
          0.02429661183254394,
          0.025728431112160274,
          0.023394214160134742,
          0.01679537038660848,
          0.00953511956237614,
          0.0017234064184203455,
          0.004464524435475967,
          0.01952000170873507,
          0.03130227908381843,
          -0.001011827383515752,
          0.020821294693855522,
          0.029556307759919215,
          0.020423008850194144,
          0.02358097680179807,
          0.006061730349622714,
          0.011335609189601116,
          0.02099077606284713,
          0.026988220833731705,
          0.027045388007145184,
          0.0069526199933463255,
          0.01596278724936449,
          0.019809224340510915,
          0.010194611552351537,
          0.014142418906834328,
          0.004765100349056198,
          0.035145357246661894,
          0.016304832009176318,
          0.019477460200249565,
          0.020636754516157013,
          -0.0008024630964655853,
          0.01626542176703328
         ],
         "yaxis": "y"
        },
        {
         "hovertemplate": "color=0<br>x=%{x}<br>y=%{y}<extra></extra>",
         "legendgroup": "0",
         "marker": {
          "color": "#FFA15A",
          "symbol": "circle"
         },
         "mode": "markers",
         "name": "0",
         "orientation": "v",
         "showlegend": true,
         "type": "scatter",
         "x": [
          -0.006649344771819044,
          -0.011032557116078087,
          -0.007090629580806973,
          -0.01137287475297677,
          -0.01137481491130567,
          -0.011086484802750237,
          -0.009407446095251472,
          -0.013193910540720277,
          -0.012283265131044854,
          -0.010939985370387097,
          -0.010108774365175613,
          -0.009498140856663805,
          -0.010610285565777294,
          -0.01140011646348825,
          -0.01113595353870015,
          -0.012796929955498568,
          -0.006764743899128355,
          -0.010869598910578213,
          -0.00963940313634335,
          -0.01097686591930759,
          -0.011203099580700277,
          -0.00960394980097462,
          -0.01041379110631506,
          -0.011882617274670498,
          -0.011927567230730745
         ],
         "xaxis": "x",
         "y": [
          -0.0027869585653920986,
          -0.007156529506075285,
          -0.004082111287247801,
          -0.007336881961311992,
          -0.008541587714719932,
          -0.007320701527351663,
          -0.007519523772348227,
          -0.006587193312257197,
          -0.0067080847782933755,
          -0.008841351179161594,
          -0.00898976593900842,
          -0.008114015126858842,
          -0.008203738374454574,
          -0.007936238647548312,
          -0.008430922292649303,
          -0.005556828656860671,
          -0.005761687607891164,
          -0.00704123048077384,
          -0.007317413083446122,
          -0.007700224402153178,
          -0.004555564469021213,
          -0.004745972894113992,
          -0.007618771907095102,
          -0.008476312466170106,
          -0.006770897462803926
         ],
         "yaxis": "y"
        },
        {
         "hovertemplate": "color=9<br>x=%{x}<br>y=%{y}<extra></extra>",
         "legendgroup": "9",
         "marker": {
          "color": "#19d3f3",
          "symbol": "circle"
         },
         "mode": "markers",
         "name": "9",
         "orientation": "v",
         "showlegend": true,
         "type": "scatter",
         "x": [
          -0.012776573620324095,
          -0.014925576323258388,
          -0.013971961911978026,
          -0.016707795880920646,
          -0.016820819337278345,
          -0.01406901151597334,
          -0.011578514643572763,
          -0.013922978610040555,
          -0.013013519366469505,
          -0.016093345906271855,
          -0.013692586260936689,
          -0.015090327814352763,
          -0.013385423819644693,
          -0.01621314268482551,
          -0.010978757814363013,
          -0.01370336304790222,
          -0.016375945294047702,
          -0.014117280077430908,
          -0.013948038975116088,
          -0.016815845779814247,
          -0.019274004448441455,
          -0.012710842181353776,
          -0.01585320684518514,
          -0.015620225953201474,
          -0.012759031516456597,
          -0.014272150653212468,
          -0.01450405585470001,
          -0.01316140656758653,
          -0.014989960608404344,
          -0.01357921728442145,
          -0.013686289351493595,
          -0.013839683829708575,
          -0.013151754635152602,
          -0.014601354043587846,
          -0.013443001990443484,
          -0.014367495923346584,
          -0.002811797123834267,
          -0.012105868001745096,
          -0.014189321340810801,
          -0.014924426156914018,
          -0.016066328044293483,
          -0.014953165002943549,
          -0.015137397012968713,
          -0.014219549946107458,
          -0.013797222192967196,
          -0.015119733922116796,
          -0.016311727682277895,
          -0.014466753642939308,
          -0.013711837868247149,
          -0.013074661468428932,
          -0.013775590606359158,
          -0.014685651580331312,
          -0.014562653535463155,
          -0.014027763194715454,
          -0.012298601059556324,
          -0.014238921220539144,
          -0.007350033427244156,
          -0.014096332534379561,
          -0.016143474542549486,
          -0.014240573278925986,
          -0.014274706915683926,
          -0.015088291327819272
         ],
         "xaxis": "x",
         "y": [
          -0.007458768960982565,
          -0.010171073806242131,
          -0.009745080501794554,
          -0.009401728481085819,
          -0.012549119015444657,
          -0.011065865173692516,
          -0.007435089967941644,
          -0.009192432028288717,
          -0.011668961659039724,
          -0.011119323938146644,
          -0.011309480153092901,
          -0.005161692760600587,
          -0.009321294096171768,
          -0.012642443022228507,
          -0.004904767044144946,
          -0.01268012513835423,
          -0.01095520958095316,
          -0.009139240533766853,
          -0.009541620735660929,
          -0.01132184707726519,
          -0.014610106616894977,
          -0.011330154952581233,
          -0.007674047300717067,
          -0.01167887813063904,
          -0.009133608142323996,
          -0.009047030850152408,
          -0.010961894150731614,
          -0.010112020103945987,
          -0.010818043879925235,
          -0.010989449758737738,
          -0.010883643729812487,
          -0.009205735768457842,
          -0.010502115488167514,
          -0.0131410124452129,
          -0.008935060617685293,
          -0.01218345515404378,
          0.0042895356061473456,
          -0.0076502712303235685,
          -0.012874302330795543,
          -0.011711082474426631,
          -0.012704384854975798,
          -0.01218992906526407,
          -0.011176633636569185,
          -0.00913623157504518,
          -0.009684079464616642,
          -0.012268521881674679,
          -0.010495681435436421,
          -0.010356403571448783,
          -0.010629669380229355,
          -0.006047345253384804,
          -0.009425041536840498,
          -0.010905225669553384,
          -0.01110817569997187,
          -0.009506821784266426,
          -0.0069832175399904646,
          -0.011458088196986916,
          -0.007991620007531987,
          -0.009931224700546675,
          -0.013337332645209839,
          -0.01208532851931771,
          -0.010177970315004748,
          -0.009379751403218452
         ],
         "yaxis": "y"
        },
        {
         "hovertemplate": "color=7<br>x=%{x}<br>y=%{y}<extra></extra>",
         "legendgroup": "7",
         "marker": {
          "color": "#FF6692",
          "symbol": "circle"
         },
         "mode": "markers",
         "name": "7",
         "orientation": "v",
         "showlegend": true,
         "type": "scatter",
         "x": [
          0.11763542082939593,
          0.12102510796295553,
          0.1261753792233109,
          0.1012465965087741,
          0.10643581957102469,
          0.11748076922427127,
          0.10836233342163483,
          0.11387902567489075,
          0.11677577273255038,
          0.12688393369823858,
          0.1343662794527571,
          0.13210678678617482,
          0.07665018051476369,
          0.11909939961159005,
          0.10280658497030945,
          0.09927623634625558,
          0.1068048275415835,
          0.11875763551163206,
          0.1047685753852933,
          0.1322304040294367,
          0.0834413263406917,
          0.12156276871592125,
          0.09535629461852427,
          0.08332031695576533,
          0.12370224673355643,
          0.1297681821823706,
          0.1056613912913871,
          0.1278891470218206,
          0.11367306942335662,
          0.1154312076381045,
          0.09890985501712886,
          0.12264474829367793,
          0.1006223936990637,
          0.10138622262631443,
          0.1270141678727642,
          0.0851923363451669,
          0.11830513475127252,
          0.12387204855634834,
          0.12424799051609973,
          0.085883583704372,
          0.12319282084680987,
          0.10305679585402305,
          0.10814045137612383,
          0.11393759533451808,
          0.06572370351698477,
          0.10163745503495211,
          0.11385600375958438,
          0.051833079021580936,
          0.12935275072110777,
          0.10070106229055051,
          0.1061865873525847,
          0.09326834818429147,
          0.12687194726402481,
          0.11558010763375356
         ],
         "xaxis": "x",
         "y": [
          -0.03258795237962611,
          -0.034293642283827364,
          -0.03712041106337165,
          -0.026365784060904868,
          -0.028683734989466216,
          -0.03225258363490974,
          -0.02989318720338429,
          -0.031603656029378174,
          -0.0324372750985215,
          -0.036318694710142964,
          -0.039779672701807434,
          -0.03892225651103509,
          -0.017678595205639545,
          -0.033107585625250256,
          -0.028446542014685626,
          -0.02415684870844622,
          -0.029694415104139803,
          -0.0345367405211836,
          -0.029223882958208686,
          -0.03877495398639477,
          -0.017934124288544507,
          -0.03437459937879024,
          -0.025276431604198145,
          -0.019716291019972073,
          -0.03513676154015441,
          -0.037737091473916906,
          -0.02872609734127637,
          -0.03717146281557379,
          -0.030390559321923857,
          -0.03214111087375017,
          -0.0266049334749425,
          -0.035007168317694265,
          -0.02867310878750052,
          -0.02642063870074838,
          -0.03726291866650008,
          -0.020291513401727152,
          -0.03295064065394372,
          -0.03518748335843747,
          -0.035727232235070176,
          -0.023115252960475695,
          -0.034889350085058064,
          -0.02650905679725961,
          -0.029259562844642997,
          -0.031003191071273275,
          -0.016926997410780242,
          -0.026251424349949353,
          -0.031251377216452325,
          -0.012620872375366193,
          -0.03767740296451445,
          -0.027163956018176644,
          -0.028176836367712888,
          -0.02175912430374683,
          -0.03655577520323949,
          -0.030841192697694166
         ],
         "yaxis": "y"
        },
        {
         "hovertemplate": "color=8<br>x=%{x}<br>y=%{y}<extra></extra>",
         "legendgroup": "8",
         "marker": {
          "color": "#B6E880",
          "symbol": "circle"
         },
         "mode": "markers",
         "name": "8",
         "orientation": "v",
         "showlegend": true,
         "type": "scatter",
         "x": [
          0.0057801109570244785,
          0.004943214039030752,
          0.004517482076347251,
          0.003460204383893724,
          0.003138298786730307,
          0.004302338208288993,
          0.007068760041736826,
          0.0027473664887612513,
          0.0054715077803586185,
          0.0056636671918914375,
          0.007065938797039664,
          0.003160095987614301,
          0.004629484777514542,
          0.0030606478442024784,
          0.0059271317293957924,
          0.005678918242445909,
          0.006184421399417883,
          0.0060095132248076145,
          0.005289859109685345,
          0.004992715357738382,
          0.005084787612403836,
          0.005765021206515262,
          0.00516398794139368,
          0.0052072654687220915,
          0.005046657871265424,
          0.005547314270288491,
          0.005459825964282558,
          0.0038388082277564482,
          0.0052624148147357094,
          0.005507176801535566,
          0.005461430933033133,
          0.004748717516391415,
          0.006242900241708434,
          0.005547685876798651,
          0.004874873363469465,
          0.005441336378442331,
          0.005933718507031765,
          0.0055156507396092735,
          0.006130081330761546,
          0.004934265522973796,
          0.00583942142884121,
          0.004175460723698853,
          0.005207484234497378,
          0.005266371723386752,
          0.005444562558155605,
          0.005472821408545013,
          0.005633519925348742,
          0.005118952286106759,
          0.005489866181460565
         ],
         "xaxis": "x",
         "y": [
          0.12359741237955946,
          0.1297911569019511,
          0.12443617095728073,
          0.05051765095065499,
          0.07695238680022368,
          0.13487946894266825,
          0.10552766680758242,
          0.10629772421235302,
          0.1384926224808284,
          0.13167660433608683,
          0.12238556802018521,
          0.040254955044259896,
          0.13409942600664962,
          0.1425437300733961,
          0.1312711813128122,
          0.13324176832398374,
          0.1489426627844158,
          0.12960156437142026,
          0.13497749816520827,
          0.13758858257392292,
          0.13363433642336278,
          0.11763895366447671,
          0.12957064480881295,
          0.13472997050048452,
          0.13537289545954428,
          0.12904673561475039,
          0.12565260296042904,
          0.12238404041378538,
          0.13145876737480447,
          0.11598020841553122,
          0.1406054377207701,
          0.13561775762514017,
          0.13663166131637686,
          0.13442654603933138,
          0.12787953150878414,
          0.12563634342951915,
          0.14516400348056277,
          0.1363853351532041,
          0.1449858094277369,
          0.12882620615856455,
          0.09477893718281737,
          0.12453978227908423,
          0.13609593286013155,
          0.1211259461210041,
          0.1342312654885825,
          0.13738622836963982,
          0.13240163619901266,
          0.1372006132775848,
          0.1262720473057127
         ],
         "yaxis": "y"
        },
        {
         "hovertemplate": "color=2<br>x=%{x}<br>y=%{y}<extra></extra>",
         "legendgroup": "2",
         "marker": {
          "color": "#FF97FF",
          "symbol": "circle"
         },
         "mode": "markers",
         "name": "2",
         "orientation": "v",
         "showlegend": true,
         "type": "scatter",
         "x": [
          0.09919628722674745,
          0.10913689620200613,
          0.09135192469464766,
          0.08193096919611688,
          0.050855647858215364,
          0.08931475822557772,
          0.06618862237063498,
          0.05606964590257421,
          0.06092164555566422,
          0.0671024924734149,
          0.04782772947224059,
          0.05073951725889485,
          0.09176164431140636,
          0.05455314056085732,
          0.07756483336943412,
          0.09239736027129847,
          0.06987686309318608
         ],
         "xaxis": "x",
         "y": [
          -0.021763319853964763,
          -0.028779540349338238,
          -0.0201671785384437,
          -0.013018359758395992,
          -0.004202745298008742,
          -0.01856212185953116,
          -0.00791372059249874,
          -0.0029470653229574616,
          -0.001883754486969961,
          -0.010758917876299338,
          0.00006672443381989688,
          -0.0007451350912226554,
          -0.0174073166219837,
          -0.00011921970658040296,
          -0.008708139618670695,
          -0.020652950438631516,
          -0.008857707521576942
         ],
         "yaxis": "y"
        },
        {
         "hovertemplate": "color=1<br>x=%{x}<br>y=%{y}<extra></extra>",
         "legendgroup": "1",
         "marker": {
          "color": "#FECB52",
          "symbol": "circle"
         },
         "mode": "markers",
         "name": "1",
         "orientation": "v",
         "showlegend": true,
         "type": "scatter",
         "x": [
          -0.00662217782583252,
          -0.013693434565067998,
          0.032974332220365415,
          -0.0011949552101699987
         ],
         "xaxis": "x",
         "y": [
          -0.012968496942118348,
          -0.0141740664353548,
          -0.01126952158372523,
          -0.017507874880613086
         ],
         "yaxis": "y"
        }
       ],
       "layout": {
        "height": 400,
        "legend": {
         "title": {
          "text": "color"
         },
         "tracegroupgap": 0
        },
        "template": {
         "data": {
          "bar": [
           {
            "error_x": {
             "color": "#2a3f5f"
            },
            "error_y": {
             "color": "#2a3f5f"
            },
            "marker": {
             "line": {
              "color": "#E5ECF6",
              "width": 0.5
             },
             "pattern": {
              "fillmode": "overlay",
              "size": 10,
              "solidity": 0.2
             }
            },
            "type": "bar"
           }
          ],
          "barpolar": [
           {
            "marker": {
             "line": {
              "color": "#E5ECF6",
              "width": 0.5
             },
             "pattern": {
              "fillmode": "overlay",
              "size": 10,
              "solidity": 0.2
             }
            },
            "type": "barpolar"
           }
          ],
          "carpet": [
           {
            "aaxis": {
             "endlinecolor": "#2a3f5f",
             "gridcolor": "white",
             "linecolor": "white",
             "minorgridcolor": "white",
             "startlinecolor": "#2a3f5f"
            },
            "baxis": {
             "endlinecolor": "#2a3f5f",
             "gridcolor": "white",
             "linecolor": "white",
             "minorgridcolor": "white",
             "startlinecolor": "#2a3f5f"
            },
            "type": "carpet"
           }
          ],
          "choropleth": [
           {
            "colorbar": {
             "outlinewidth": 0,
             "ticks": ""
            },
            "type": "choropleth"
           }
          ],
          "contour": [
           {
            "colorbar": {
             "outlinewidth": 0,
             "ticks": ""
            },
            "colorscale": [
             [
              0,
              "#0d0887"
             ],
             [
              0.1111111111111111,
              "#46039f"
             ],
             [
              0.2222222222222222,
              "#7201a8"
             ],
             [
              0.3333333333333333,
              "#9c179e"
             ],
             [
              0.4444444444444444,
              "#bd3786"
             ],
             [
              0.5555555555555556,
              "#d8576b"
             ],
             [
              0.6666666666666666,
              "#ed7953"
             ],
             [
              0.7777777777777778,
              "#fb9f3a"
             ],
             [
              0.8888888888888888,
              "#fdca26"
             ],
             [
              1,
              "#f0f921"
             ]
            ],
            "type": "contour"
           }
          ],
          "contourcarpet": [
           {
            "colorbar": {
             "outlinewidth": 0,
             "ticks": ""
            },
            "type": "contourcarpet"
           }
          ],
          "heatmap": [
           {
            "colorbar": {
             "outlinewidth": 0,
             "ticks": ""
            },
            "colorscale": [
             [
              0,
              "#0d0887"
             ],
             [
              0.1111111111111111,
              "#46039f"
             ],
             [
              0.2222222222222222,
              "#7201a8"
             ],
             [
              0.3333333333333333,
              "#9c179e"
             ],
             [
              0.4444444444444444,
              "#bd3786"
             ],
             [
              0.5555555555555556,
              "#d8576b"
             ],
             [
              0.6666666666666666,
              "#ed7953"
             ],
             [
              0.7777777777777778,
              "#fb9f3a"
             ],
             [
              0.8888888888888888,
              "#fdca26"
             ],
             [
              1,
              "#f0f921"
             ]
            ],
            "type": "heatmap"
           }
          ],
          "heatmapgl": [
           {
            "colorbar": {
             "outlinewidth": 0,
             "ticks": ""
            },
            "colorscale": [
             [
              0,
              "#0d0887"
             ],
             [
              0.1111111111111111,
              "#46039f"
             ],
             [
              0.2222222222222222,
              "#7201a8"
             ],
             [
              0.3333333333333333,
              "#9c179e"
             ],
             [
              0.4444444444444444,
              "#bd3786"
             ],
             [
              0.5555555555555556,
              "#d8576b"
             ],
             [
              0.6666666666666666,
              "#ed7953"
             ],
             [
              0.7777777777777778,
              "#fb9f3a"
             ],
             [
              0.8888888888888888,
              "#fdca26"
             ],
             [
              1,
              "#f0f921"
             ]
            ],
            "type": "heatmapgl"
           }
          ],
          "histogram": [
           {
            "marker": {
             "pattern": {
              "fillmode": "overlay",
              "size": 10,
              "solidity": 0.2
             }
            },
            "type": "histogram"
           }
          ],
          "histogram2d": [
           {
            "colorbar": {
             "outlinewidth": 0,
             "ticks": ""
            },
            "colorscale": [
             [
              0,
              "#0d0887"
             ],
             [
              0.1111111111111111,
              "#46039f"
             ],
             [
              0.2222222222222222,
              "#7201a8"
             ],
             [
              0.3333333333333333,
              "#9c179e"
             ],
             [
              0.4444444444444444,
              "#bd3786"
             ],
             [
              0.5555555555555556,
              "#d8576b"
             ],
             [
              0.6666666666666666,
              "#ed7953"
             ],
             [
              0.7777777777777778,
              "#fb9f3a"
             ],
             [
              0.8888888888888888,
              "#fdca26"
             ],
             [
              1,
              "#f0f921"
             ]
            ],
            "type": "histogram2d"
           }
          ],
          "histogram2dcontour": [
           {
            "colorbar": {
             "outlinewidth": 0,
             "ticks": ""
            },
            "colorscale": [
             [
              0,
              "#0d0887"
             ],
             [
              0.1111111111111111,
              "#46039f"
             ],
             [
              0.2222222222222222,
              "#7201a8"
             ],
             [
              0.3333333333333333,
              "#9c179e"
             ],
             [
              0.4444444444444444,
              "#bd3786"
             ],
             [
              0.5555555555555556,
              "#d8576b"
             ],
             [
              0.6666666666666666,
              "#ed7953"
             ],
             [
              0.7777777777777778,
              "#fb9f3a"
             ],
             [
              0.8888888888888888,
              "#fdca26"
             ],
             [
              1,
              "#f0f921"
             ]
            ],
            "type": "histogram2dcontour"
           }
          ],
          "mesh3d": [
           {
            "colorbar": {
             "outlinewidth": 0,
             "ticks": ""
            },
            "type": "mesh3d"
           }
          ],
          "parcoords": [
           {
            "line": {
             "colorbar": {
              "outlinewidth": 0,
              "ticks": ""
             }
            },
            "type": "parcoords"
           }
          ],
          "pie": [
           {
            "automargin": true,
            "type": "pie"
           }
          ],
          "scatter": [
           {
            "fillpattern": {
             "fillmode": "overlay",
             "size": 10,
             "solidity": 0.2
            },
            "type": "scatter"
           }
          ],
          "scatter3d": [
           {
            "line": {
             "colorbar": {
              "outlinewidth": 0,
              "ticks": ""
             }
            },
            "marker": {
             "colorbar": {
              "outlinewidth": 0,
              "ticks": ""
             }
            },
            "type": "scatter3d"
           }
          ],
          "scattercarpet": [
           {
            "marker": {
             "colorbar": {
              "outlinewidth": 0,
              "ticks": ""
             }
            },
            "type": "scattercarpet"
           }
          ],
          "scattergeo": [
           {
            "marker": {
             "colorbar": {
              "outlinewidth": 0,
              "ticks": ""
             }
            },
            "type": "scattergeo"
           }
          ],
          "scattergl": [
           {
            "marker": {
             "colorbar": {
              "outlinewidth": 0,
              "ticks": ""
             }
            },
            "type": "scattergl"
           }
          ],
          "scattermapbox": [
           {
            "marker": {
             "colorbar": {
              "outlinewidth": 0,
              "ticks": ""
             }
            },
            "type": "scattermapbox"
           }
          ],
          "scatterpolar": [
           {
            "marker": {
             "colorbar": {
              "outlinewidth": 0,
              "ticks": ""
             }
            },
            "type": "scatterpolar"
           }
          ],
          "scatterpolargl": [
           {
            "marker": {
             "colorbar": {
              "outlinewidth": 0,
              "ticks": ""
             }
            },
            "type": "scatterpolargl"
           }
          ],
          "scatterternary": [
           {
            "marker": {
             "colorbar": {
              "outlinewidth": 0,
              "ticks": ""
             }
            },
            "type": "scatterternary"
           }
          ],
          "surface": [
           {
            "colorbar": {
             "outlinewidth": 0,
             "ticks": ""
            },
            "colorscale": [
             [
              0,
              "#0d0887"
             ],
             [
              0.1111111111111111,
              "#46039f"
             ],
             [
              0.2222222222222222,
              "#7201a8"
             ],
             [
              0.3333333333333333,
              "#9c179e"
             ],
             [
              0.4444444444444444,
              "#bd3786"
             ],
             [
              0.5555555555555556,
              "#d8576b"
             ],
             [
              0.6666666666666666,
              "#ed7953"
             ],
             [
              0.7777777777777778,
              "#fb9f3a"
             ],
             [
              0.8888888888888888,
              "#fdca26"
             ],
             [
              1,
              "#f0f921"
             ]
            ],
            "type": "surface"
           }
          ],
          "table": [
           {
            "cells": {
             "fill": {
              "color": "#EBF0F8"
             },
             "line": {
              "color": "white"
             }
            },
            "header": {
             "fill": {
              "color": "#C8D4E3"
             },
             "line": {
              "color": "white"
             }
            },
            "type": "table"
           }
          ]
         },
         "layout": {
          "annotationdefaults": {
           "arrowcolor": "#2a3f5f",
           "arrowhead": 0,
           "arrowwidth": 1
          },
          "autotypenumbers": "strict",
          "coloraxis": {
           "colorbar": {
            "outlinewidth": 0,
            "ticks": ""
           }
          },
          "colorscale": {
           "diverging": [
            [
             0,
             "#8e0152"
            ],
            [
             0.1,
             "#c51b7d"
            ],
            [
             0.2,
             "#de77ae"
            ],
            [
             0.3,
             "#f1b6da"
            ],
            [
             0.4,
             "#fde0ef"
            ],
            [
             0.5,
             "#f7f7f7"
            ],
            [
             0.6,
             "#e6f5d0"
            ],
            [
             0.7,
             "#b8e186"
            ],
            [
             0.8,
             "#7fbc41"
            ],
            [
             0.9,
             "#4d9221"
            ],
            [
             1,
             "#276419"
            ]
           ],
           "sequential": [
            [
             0,
             "#0d0887"
            ],
            [
             0.1111111111111111,
             "#46039f"
            ],
            [
             0.2222222222222222,
             "#7201a8"
            ],
            [
             0.3333333333333333,
             "#9c179e"
            ],
            [
             0.4444444444444444,
             "#bd3786"
            ],
            [
             0.5555555555555556,
             "#d8576b"
            ],
            [
             0.6666666666666666,
             "#ed7953"
            ],
            [
             0.7777777777777778,
             "#fb9f3a"
            ],
            [
             0.8888888888888888,
             "#fdca26"
            ],
            [
             1,
             "#f0f921"
            ]
           ],
           "sequentialminus": [
            [
             0,
             "#0d0887"
            ],
            [
             0.1111111111111111,
             "#46039f"
            ],
            [
             0.2222222222222222,
             "#7201a8"
            ],
            [
             0.3333333333333333,
             "#9c179e"
            ],
            [
             0.4444444444444444,
             "#bd3786"
            ],
            [
             0.5555555555555556,
             "#d8576b"
            ],
            [
             0.6666666666666666,
             "#ed7953"
            ],
            [
             0.7777777777777778,
             "#fb9f3a"
            ],
            [
             0.8888888888888888,
             "#fdca26"
            ],
            [
             1,
             "#f0f921"
            ]
           ]
          },
          "colorway": [
           "#636efa",
           "#EF553B",
           "#00cc96",
           "#ab63fa",
           "#FFA15A",
           "#19d3f3",
           "#FF6692",
           "#B6E880",
           "#FF97FF",
           "#FECB52"
          ],
          "font": {
           "color": "#2a3f5f"
          },
          "geo": {
           "bgcolor": "white",
           "lakecolor": "white",
           "landcolor": "#E5ECF6",
           "showlakes": true,
           "showland": true,
           "subunitcolor": "white"
          },
          "hoverlabel": {
           "align": "left"
          },
          "hovermode": "closest",
          "mapbox": {
           "style": "light"
          },
          "paper_bgcolor": "white",
          "plot_bgcolor": "#E5ECF6",
          "polar": {
           "angularaxis": {
            "gridcolor": "white",
            "linecolor": "white",
            "ticks": ""
           },
           "bgcolor": "#E5ECF6",
           "radialaxis": {
            "gridcolor": "white",
            "linecolor": "white",
            "ticks": ""
           }
          },
          "scene": {
           "xaxis": {
            "backgroundcolor": "#E5ECF6",
            "gridcolor": "white",
            "gridwidth": 2,
            "linecolor": "white",
            "showbackground": true,
            "ticks": "",
            "zerolinecolor": "white"
           },
           "yaxis": {
            "backgroundcolor": "#E5ECF6",
            "gridcolor": "white",
            "gridwidth": 2,
            "linecolor": "white",
            "showbackground": true,
            "ticks": "",
            "zerolinecolor": "white"
           },
           "zaxis": {
            "backgroundcolor": "#E5ECF6",
            "gridcolor": "white",
            "gridwidth": 2,
            "linecolor": "white",
            "showbackground": true,
            "ticks": "",
            "zerolinecolor": "white"
           }
          },
          "shapedefaults": {
           "line": {
            "color": "#2a3f5f"
           }
          },
          "ternary": {
           "aaxis": {
            "gridcolor": "white",
            "linecolor": "white",
            "ticks": ""
           },
           "baxis": {
            "gridcolor": "white",
            "linecolor": "white",
            "ticks": ""
           },
           "bgcolor": "#E5ECF6",
           "caxis": {
            "gridcolor": "white",
            "linecolor": "white",
            "ticks": ""
           }
          },
          "title": {
           "x": 0.05
          },
          "xaxis": {
           "automargin": true,
           "gridcolor": "white",
           "linecolor": "white",
           "ticks": "",
           "title": {
            "standoff": 15
           },
           "zerolinecolor": "white",
           "zerolinewidth": 2
          },
          "yaxis": {
           "automargin": true,
           "gridcolor": "white",
           "linecolor": "white",
           "ticks": "",
           "title": {
            "standoff": 15
           },
           "zerolinecolor": "white",
           "zerolinewidth": 2
          }
         }
        },
        "title": {
         "text": "HessianLLE_2_comp - 0.208 sec."
        },
        "width": 500,
        "xaxis": {
         "anchor": "y",
         "domain": [
          0,
          1
         ],
         "title": {
          "text": "c_1"
         }
        },
        "yaxis": {
         "anchor": "x",
         "domain": [
          0,
          1
         ],
         "title": {
          "text": "c_2"
         }
        }
       }
      }
     },
     "metadata": {},
     "output_type": "display_data"
    },
    {
     "data": {
      "application/vnd.plotly.v1+json": {
       "config": {
        "plotlyServerURL": "https://plot.ly"
       },
       "data": [
        {
         "hovertemplate": "color=5<br>x=%{x}<br>y=%{y}<extra></extra>",
         "legendgroup": "5",
         "marker": {
          "color": "#636efa",
          "symbol": "circle"
         },
         "mode": "markers",
         "name": "5",
         "orientation": "v",
         "showlegend": true,
         "type": "scatter",
         "x": [
          7.662801742553711,
          8.365673065185547,
          8.519858360290527,
          7.7642927169799805,
          7.721489429473877,
          8.193215370178223,
          8.188294410705566,
          7.706379413604736,
          7.643946647644043,
          8.35900592803955,
          8.586954116821289,
          8.251931190490723,
          7.67218017578125,
          7.804218292236328,
          8.658337593078613,
          8.407917976379395,
          7.640517234802246,
          8.642194747924805,
          7.917521953582764,
          7.968815803527832,
          7.575235843658447,
          7.3435564041137695,
          8.465778350830078,
          8.132608413696289,
          8.028165817260742,
          8.170373916625977,
          7.898470401763916,
          8.031867027282715,
          7.9888224601745605,
          8.695375442504883,
          6.9004340171813965,
          7.897747993469238,
          7.890124320983887,
          8.552035331726074,
          7.898918628692627,
          8.300687789916992,
          8.231066703796387,
          7.9720916748046875,
          7.976028919219971,
          7.139950275421143,
          7.734205722808838,
          8.145495414733887,
          8.040973663330078,
          8.583460807800293,
          7.638903617858887,
          8.532761573791504,
          7.844756603240967,
          8.219335556030273,
          7.50862455368042,
          7.863948822021484,
          7.923581600189209,
          8.641029357910156,
          7.8230743408203125,
          7.6724724769592285,
          7.714548587799072,
          8.394735336303711,
          7.513545513153076,
          8.238585472106934,
          7.671282768249512,
          7.452215671539307,
          8.11197280883789,
          8.278559684753418,
          7.636356830596924,
          8.08863639831543,
          7.519380569458008,
          8.117095947265625,
          7.969209671020508,
          8.329748153686523,
          8.63917064666748,
          7.639425277709961,
          8.023926734924316,
          7.516386985778809,
          7.739917755126953,
          7.801243782043457,
          7.771650314331055,
          7.915746212005615,
          8.039715766906738,
          8.502873420715332,
          8.344120025634766
         ],
         "xaxis": "x",
         "y": [
          1.069474458694458,
          1.3864060640335083,
          1.2171803712844849,
          1.9282904863357544,
          1.243033766746521,
          0.7999288439750671,
          1.707863688468933,
          1.6980235576629639,
          1.1371569633483887,
          1.6862754821777344,
          1.1202809810638428,
          1.238546371459961,
          1.1695343255996704,
          1.6033800840377808,
          1.309576392173767,
          1.4002432823181152,
          1.0644091367721558,
          1.5366487503051758,
          1.2256054878234863,
          2.0011885166168213,
          1.2215529680252075,
          1.3658769130706787,
          1.2792912721633911,
          1.2143537998199463,
          1.9235750436782837,
          1.1136226654052734,
          1.7287847995758057,
          0.9288887977600098,
          1.1511640548706055,
          1.6087391376495361,
          2.0367724895477295,
          1.631789207458496,
          1.0094633102416992,
          2.088315486907959,
          1.7179867029190063,
          1.3869901895523071,
          1.7626922130584717,
          1.079628825187683,
          0.909690797328949,
          1.9563833475112915,
          2.4992990493774414,
          1.02977454662323,
          2.1628525257110596,
          1.9621461629867554,
          2.611145257949829,
          2.1192874908447266,
          1.3434590101242065,
          1.5525822639465332,
          0.9676066637039185,
          0.9573929905891418,
          2.1515417098999023,
          2.0907557010650635,
          1.9188989400863647,
          1.3741217851638794,
          1.435807228088379,
          1.470221996307373,
          1.5025666952133179,
          1.7792868614196777,
          0.9697999358177185,
          1.7233604192733765,
          1.292001485824585,
          1.1711739301681519,
          1.7124006748199463,
          1.5391310453414917,
          1.6971515417099,
          1.4178352355957031,
          1.5829222202301025,
          1.4152145385742188,
          1.365647315979004,
          1.3924022912979126,
          1.0181430578231812,
          1.7046104669570923,
          1.367850661277771,
          1.2990301847457886,
          1.3665813207626343,
          1.5081168413162231,
          1.4153424501419067,
          1.661001443862915,
          0.8188235759735107
         ],
         "yaxis": "y"
        },
        {
         "hovertemplate": "color=6<br>x=%{x}<br>y=%{y}<extra></extra>",
         "legendgroup": "6",
         "marker": {
          "color": "#EF553B",
          "symbol": "circle"
         },
         "mode": "markers",
         "name": "6",
         "orientation": "v",
         "showlegend": true,
         "type": "scatter",
         "x": [
          10.417299270629883,
          10.500786781311035,
          10.460988998413086,
          10.475308418273926,
          10.490900993347168,
          10.607170104980469,
          10.468453407287598,
          10.573822975158691,
          10.596368789672852,
          10.539868354797363,
          10.513667106628418,
          10.558006286621094,
          10.710895538330078,
          10.558225631713867,
          10.61649227142334,
          10.423849105834961,
          10.461307525634766,
          10.577249526977539,
          10.542835235595703,
          10.604601860046387
         ],
         "xaxis": "x",
         "y": [
          -6.110929012298584,
          -6.218848705291748,
          -6.139855861663818,
          -6.1931071281433105,
          -6.155337810516357,
          -6.279361724853516,
          -6.195093631744385,
          -6.156060695648193,
          -6.327298641204834,
          -6.354556083679199,
          -6.18093729019165,
          -6.23798942565918,
          -6.018335819244385,
          -6.241357326507568,
          -6.282764911651611,
          -6.121665000915527,
          -6.095345973968506,
          -6.298984527587891,
          -6.231873989105225,
          -6.285583972930908
         ],
         "yaxis": "y"
        },
        {
         "hovertemplate": "color=3<br>x=%{x}<br>y=%{y}<extra></extra>",
         "legendgroup": "3",
         "marker": {
          "color": "#00cc96",
          "symbol": "circle"
         },
         "mode": "markers",
         "name": "3",
         "orientation": "v",
         "showlegend": true,
         "type": "scatter",
         "x": [
          -0.26393476128578186,
          0.03402964025735855,
          -0.6679288148880005,
          -0.9489889144897461,
          -0.11402510106563568,
          -0.3036347031593323,
          -1.1297471523284912,
          0.15510965883731842,
          -0.982693076133728,
          -0.0627402663230896,
          -0.4349660277366638,
          -0.04634619876742363,
          -0.43544936180114746,
          0.18756113946437836,
          -0.6218307614326477,
          0.2086152583360672,
          -0.4120171368122101,
          -0.5391507744789124,
          0.5460995435714722,
          0.04551151394844055,
          0.33944788575172424,
          -0.10026859492063522,
          -0.3879954218864441,
          -0.5755528211593628,
          0.32705846428871155,
          -0.19525693356990814,
          -0.25999096035957336,
          -0.05482449010014534,
          0.2552807331085205,
          -0.008367056027054787,
          -0.34143438935279846,
          0.12978436052799225,
          0.14084286987781525,
          -0.5372606515884399,
          0.53462153673172,
          -0.037502434104681015,
          -0.9457806944847107,
          0.36448147892951965,
          -0.13832297921180725,
          0.1666083186864853,
          -0.519557535648346,
          0.28676173090934753,
          -0.04834451898932457,
          -0.5730499625205994,
          0.5767894387245178,
          0.2980121672153473,
          -0.8101224899291992,
          -0.10035107284784317,
          -0.8136956095695496,
          -0.6245002746582031,
          -0.4996426999568939,
          -0.39220333099365234,
          0.32627394795417786,
          0.13902932405471802,
          0.3886239528656006,
          -0.8828730583190918,
          -0.5257934927940369,
          0.7887807488441467,
          0.1035250723361969,
          -0.9286210536956787,
          -0.45445549488067627,
          -0.44412389397621155,
          -0.10687001049518585,
          -0.6956468820571899,
          -0.6625934839248657,
          -0.7000735402107239,
          -0.08932992815971375,
          -0.9370903968811035,
          -0.5134830474853516,
          -0.8577333688735962,
          0.34847140312194824,
          -0.977399468421936,
          -0.9551063179969788,
          -1.1074992418289185,
          -0.298644483089447,
          -0.7632498741149902,
          -0.7024534344673157,
          -0.19126388430595398,
          -0.860459566116333,
          0.10077283531427383,
          0.6600553393363953,
          -0.2830028831958771,
          -0.34515997767448425,
          0.667049765586853,
          0.18298447132110596,
          -0.6104930639266968,
          0.23792919516563416,
          -0.6035780906677246,
          -0.18563255667686462,
          0.45384207367897034,
          -0.036474354565143585,
          0.011568678542971611,
          0.015405131503939629,
          -0.9560860991477966,
          0.00022745190653949976,
          -0.9963258504867554,
          -0.9177096486091614,
          -1.112701654434204,
          0.10082220286130905,
          -0.4222663342952728,
          -0.591106116771698,
          -0.33225396275520325,
          -0.48128625750541687,
          -0.7799091935157776,
          0.02490904927253723,
          -0.363951176404953,
          0.3431349992752075,
          -0.11104226857423782,
          -0.7578120231628418,
          -0.8507622480392456,
          -0.9085755348205566,
          0.09316502511501312,
          0.6905866265296936,
          -0.36992689967155457,
          -0.3760267198085785,
          0.28321918845176697,
          -0.009145374409854412,
          -0.4752734899520874,
          0.581113338470459,
          -0.02767818421125412,
          -0.7788577675819397,
          0.11967220902442932,
          -0.8784871697425842,
          -0.4249432682991028,
          -0.23329153656959534,
          0.37170374393463135,
          0.26535549759864807,
          -0.2168000042438507,
          -0.8292068243026733,
          0.06427735835313797,
          -1.1104975938796997,
          -0.36375051736831665,
          -1.1240235567092896
         ],
         "xaxis": "x",
         "y": [
          4.009527683258057,
          3.6865439414978027,
          3.150890827178955,
          3.0609490871429443,
          3.161625623703003,
          3.421191692352295,
          3.2538342475891113,
          2.930438756942749,
          3.3306713104248047,
          3.538626194000244,
          3.1987321376800537,
          2.6585006713867188,
          2.766869306564331,
          2.9629666805267334,
          2.9424970149993896,
          3.0343017578125,
          3.509709119796753,
          3.616429567337036,
          2.572930097579956,
          2.792297601699829,
          4.142678737640381,
          3.0981929302215576,
          3.8820838928222656,
          2.771817445755005,
          3.901352643966675,
          2.6698596477508545,
          3.8129994869232178,
          4.166497707366943,
          3.3745243549346924,
          4.124475002288818,
          3.243595838546753,
          2.687992811203003,
          3.332411527633667,
          3.6204118728637695,
          3.6481575965881348,
          4.051805019378662,
          3.0564968585968018,
          3.7847204208374023,
          2.9321413040161133,
          3.4647905826568604,
          3.403136730194092,
          3.5597548484802246,
          3.4923107624053955,
          3.7659616470336914,
          3.673638105392456,
          3.3936407566070557,
          3.2349069118499756,
          3.010021686553955,
          3.4270310401916504,
          3.290875196456909,
          3.9496395587921143,
          4.148415565490723,
          4.0379133224487305,
          4.010354995727539,
          3.5864529609680176,
          4.000763416290283,
          3.64424729347229,
          2.3521811962127686,
          3.214533567428589,
          3.1337759494781494,
          3.732766628265381,
          4.016595840454102,
          2.7519004344940186,
          3.8002536296844482,
          3.4426050186157227,
          3.769411087036133,
          3.4186017513275146,
          3.320242404937744,
          3.294031858444214,
          3.5983214378356934,
          3.824098825454712,
          3.091723918914795,
          3.622307300567627,
          3.348477363586426,
          2.7609238624572754,
          2.6735892295837402,
          3.2050182819366455,
          3.2931787967681885,
          2.930574893951416,
          3.968449354171753,
          3.676236391067505,
          3.111807346343994,
          4.1327385902404785,
          2.4388017654418945,
          3.053561210632324,
          3.742630958557129,
          3.692105293273926,
          2.962592840194702,
          4.113491535186768,
          4.102386474609375,
          3.944302797317505,
          2.497805118560791,
          3.6441421508789062,
          3.20469069480896,
          2.7956125736236572,
          2.956697940826416,
          3.234067678451538,
          3.380601644515991,
          3.6446115970611572,
          3.916276216506958,
          2.594010591506958,
          3.8945846557617188,
          4.080536842346191,
          3.8933932781219482,
          3.1451804637908936,
          2.6476261615753174,
          2.545285224914551,
          3.873009443283081,
          3.653125762939453,
          3.919750928878784,
          3.2943291664123535,
          2.9846887588500977,
          2.5082030296325684,
          2.9810595512390137,
          3.450974225997925,
          3.427516460418701,
          4.186302185058594,
          2.8386688232421875,
          2.477992296218872,
          4.285122394561768,
          3.377889394760132,
          2.7212040424346924,
          4.000711441040039,
          3.3137645721435547,
          2.7296090126037598,
          4.107908725738525,
          4.097850799560547,
          3.1183762550354004,
          3.121677875518799,
          2.8847274780273438,
          3.505969762802124,
          4.270133018493652,
          3.64109468460083
         ],
         "yaxis": "y"
        },
        {
         "hovertemplate": "color=4<br>x=%{x}<br>y=%{y}<extra></extra>",
         "legendgroup": "4",
         "marker": {
          "color": "#ab63fa",
          "symbol": "circle"
         },
         "mode": "markers",
         "name": "4",
         "orientation": "v",
         "showlegend": true,
         "type": "scatter",
         "x": [
          6.089450359344482,
          6.63669490814209,
          6.024056434631348,
          6.587848663330078,
          6.449041366577148,
          5.633509159088135,
          6.296165466308594,
          7.243536949157715,
          6.06805944442749,
          6.335855484008789,
          6.144195556640625,
          6.511458396911621,
          6.410362720489502,
          6.118147373199463,
          5.75147819519043,
          5.7741193771362305,
          5.886958599090576,
          6.241500377655029,
          6.633326053619385,
          5.975200653076172,
          6.17199182510376,
          6.289261817932129,
          6.414170742034912,
          5.79562520980835,
          5.688714504241943,
          6.42432165145874,
          6.3049468994140625,
          6.3199334144592285,
          6.421197891235352,
          6.5080485343933105,
          6.036241054534912,
          5.821725368499756,
          5.8971943855285645,
          5.900299549102783,
          6.248318195343018,
          5.715698719024658,
          6.487655162811279,
          6.583926200866699,
          6.076273441314697,
          6.3614020347595215,
          5.8914794921875,
          5.885259628295898,
          6.351609706878662,
          6.068638324737549,
          6.511713027954102,
          5.747498989105225,
          5.852622985839844,
          6.5046305656433105,
          5.760220527648926,
          6.350171089172363,
          5.639922618865967,
          6.502721786499023,
          6.019181251525879,
          6.379261016845703,
          6.320577144622803,
          5.787686824798584,
          6.13843297958374
         ],
         "xaxis": "x",
         "y": [
          4.184713840484619,
          4.019145488739014,
          4.326612949371338,
          4.430746078491211,
          4.390223979949951,
          4.693557262420654,
          4.199380874633789,
          3.3765389919281006,
          4.431317329406738,
          4.146154403686523,
          4.879471302032471,
          4.868137359619141,
          4.4698662757873535,
          4.216084957122803,
          4.800478458404541,
          4.5319504737854,
          4.767301082611084,
          4.803162097930908,
          4.300346374511719,
          4.409845352172852,
          4.765095233917236,
          4.158150672912598,
          4.082019805908203,
          4.543978214263916,
          4.808257102966309,
          4.443970203399658,
          4.72391414642334,
          4.8538947105407715,
          4.199256896972656,
          4.461425304412842,
          4.650676727294922,
          4.345422744750977,
          4.753389358520508,
          4.422267436981201,
          4.41717529296875,
          4.6741766929626465,
          4.23618745803833,
          4.711038589477539,
          4.708103656768799,
          4.494665145874023,
          4.704957008361816,
          4.7647013664245605,
          4.285116672515869,
          4.30802583694458,
          4.400698661804199,
          4.6406402587890625,
          4.3361287117004395,
          4.578700542449951,
          4.868374824523926,
          4.58607816696167,
          4.532557487487793,
          4.671602725982666,
          3.962587356567383,
          4.719443321228027,
          4.758861064910889,
          4.845556259155273,
          4.842504501342773
         ],
         "yaxis": "y"
        },
        {
         "hovertemplate": "color=0<br>x=%{x}<br>y=%{y}<extra></extra>",
         "legendgroup": "0",
         "marker": {
          "color": "#FFA15A",
          "symbol": "circle"
         },
         "mode": "markers",
         "name": "0",
         "orientation": "v",
         "showlegend": true,
         "type": "scatter",
         "x": [
          9.28479290008545,
          9.391554832458496,
          9.339278221130371,
          9.471739768981934,
          9.498175621032715,
          9.423233032226562,
          9.228239059448242,
          9.579425811767578,
          9.457136154174805,
          9.553813934326172,
          9.195507049560547,
          9.108176231384277,
          9.409187316894531,
          9.49986743927002,
          9.314909934997559,
          9.622150421142578,
          9.340422630310059,
          9.316229820251465,
          9.063851356506348,
          9.320552825927734,
          9.426758766174316,
          9.54615306854248,
          9.140793800354004,
          9.387293815612793,
          9.572406768798828
         ],
         "xaxis": "x",
         "y": [
          1.6841614246368408,
          1.3341941833496094,
          1.5666593313217163,
          1.4449522495269775,
          1.0630367994308472,
          1.5009336471557617,
          1.3245513439178467,
          1.4218096733093262,
          1.4807066917419434,
          1.1977348327636719,
          1.1121652126312256,
          1.1502355337142944,
          1.2508479356765747,
          1.2221081256866455,
          1.2621996402740479,
          1.5807462930679321,
          1.4293582439422607,
          1.3386026620864868,
          1.2902039289474487,
          1.291439414024353,
          1.2120708227157593,
          1.520246982574463,
          1.3640886545181274,
          1.1366913318634033,
          1.3416664600372314
         ],
         "yaxis": "y"
        },
        {
         "hovertemplate": "color=9<br>x=%{x}<br>y=%{y}<extra></extra>",
         "legendgroup": "9",
         "marker": {
          "color": "#19d3f3",
          "symbol": "circle"
         },
         "mode": "markers",
         "name": "9",
         "orientation": "v",
         "showlegend": true,
         "type": "scatter",
         "x": [
          10.478601455688477,
          10.563057899475098,
          10.476786613464355,
          10.575034141540527,
          10.308469772338867,
          10.052823066711426,
          10.18750286102295,
          10.335498809814453,
          10.735320091247559,
          10.659052848815918,
          10.798250198364258,
          10.515205383300781,
          10.599204063415527,
          10.92111873626709,
          10.858338356018066,
          10.609991073608398,
          10.543715476989746,
          10.677934646606445,
          10.126498222351074,
          10.52208137512207,
          10.032051086425781,
          10.817208290100098,
          9.965509414672852,
          10.13853931427002,
          10.305224418640137,
          10.397560119628906,
          10.712265014648438,
          10.641274452209473,
          10.027352333068848,
          10.629111289978027,
          10.379130363464355,
          10.1445894241333,
          10.727437019348145,
          10.763758659362793,
          10.51230525970459,
          10.695361137390137,
          11.016282081604004,
          10.312859535217285,
          10.87380599975586,
          10.829290390014648,
          10.626657485961914,
          10.36906909942627,
          10.508289337158203,
          10.882010459899902,
          10.120291709899902,
          10.147677421569824,
          10.626585006713867,
          10.19802188873291,
          10.090385437011719,
          10.728463172912598,
          10.628241539001465,
          10.541348457336426,
          10.31911563873291,
          10.149832725524902,
          10.16574764251709,
          10.727210998535156,
          9.890382766723633,
          10.326387405395508,
          10.640176773071289,
          10.370882034301758,
          10.165529251098633,
          10.71615982055664
         ],
         "xaxis": "x",
         "y": [
          -2.8676600456237793,
          -2.8770294189453125,
          -3.2679126262664795,
          -2.686652183532715,
          -3.1008658409118652,
          -3.004240036010742,
          -2.678317070007324,
          -3.4274299144744873,
          -3.4562418460845947,
          -2.478726863861084,
          -3.1825411319732666,
          -3.4631454944610596,
          -3.4200212955474854,
          -3.1574409008026123,
          -3.1175169944763184,
          -3.1421234607696533,
          -2.628286123275757,
          -3.330604076385498,
          -2.8111958503723145,
          -2.585160970687866,
          -2.9042787551879883,
          -3.3209989070892334,
          -3.304717540740967,
          -3.3273839950561523,
          -3.228590726852417,
          -3.043975591659546,
          -3.2943549156188965,
          -3.4374682903289795,
          -3.0992038249969482,
          -3.5242414474487305,
          -3.1471564769744873,
          -3.177745819091797,
          -3.408235788345337,
          -3.229962110519409,
          -2.96675968170166,
          -3.529245376586914,
          -2.987380027770996,
          -2.7465267181396484,
          -3.0930535793304443,
          -3.248072862625122,
          -3.0309932231903076,
          -2.9357008934020996,
          -2.5127618312835693,
          -3.2815210819244385,
          -3.1949448585510254,
          -3.4372763633728027,
          -2.727445125579834,
          -3.120450258255005,
          -3.117753505706787,
          -2.947126626968384,
          -3.127556800842285,
          -3.512134075164795,
          -3.4134342670440674,
          -2.94748854637146,
          -3.5348923206329346,
          -3.2762277126312256,
          -3.065737247467041,
          -3.3046884536743164,
          -3.3464195728302,
          -3.1326544284820557,
          -2.8034725189208984,
          -2.702780246734619
         ],
         "yaxis": "y"
        },
        {
         "hovertemplate": "color=7<br>x=%{x}<br>y=%{y}<extra></extra>",
         "legendgroup": "7",
         "marker": {
          "color": "#FF6692",
          "symbol": "circle"
         },
         "mode": "markers",
         "name": "7",
         "orientation": "v",
         "showlegend": true,
         "type": "scatter",
         "x": [
          9.750667572021484,
          9.995522499084473,
          9.675325393676758,
          10.03851318359375,
          9.512144088745117,
          9.841536521911621,
          9.641622543334961,
          9.4564208984375,
          9.597018241882324,
          9.960314750671387,
          9.747424125671387,
          9.665047645568848,
          9.261231422424316,
          9.740496635437012,
          9.716874122619629,
          10.295604705810547,
          9.845087051391602,
          9.90377140045166,
          10.1221342086792,
          9.80015754699707,
          9.4544677734375,
          10.142983436584473,
          9.325521469116211,
          10.2125244140625,
          9.6900634765625,
          9.865368843078613,
          10.038459777832031,
          9.736641883850098,
          9.837019920349121,
          9.936213493347168,
          9.943784713745117,
          9.64014720916748,
          9.518939018249512,
          10.103178977966309,
          9.5108642578125,
          10.147909164428711,
          9.861047744750977,
          9.532297134399414,
          9.752433776855469,
          9.73315715789795,
          9.707900047302246,
          10.331245422363281,
          9.844154357910156,
          9.897028923034668,
          9.816781997680664,
          10.1233549118042,
          9.56934642791748,
          9.357921600341797,
          9.738773345947266,
          9.789233207702637,
          9.811491966247559,
          9.952008247375488,
          9.796125411987305,
          9.630133628845215
         ],
         "xaxis": "x",
         "y": [
          16.690868377685547,
          16.60281753540039,
          16.728551864624023,
          16.99091911315918,
          16.74155044555664,
          16.535367965698242,
          16.32634925842285,
          16.740219116210938,
          16.62222671508789,
          16.642074584960938,
          16.527570724487305,
          16.41581153869629,
          16.703094482421875,
          16.750865936279297,
          16.329994201660156,
          16.797765731811523,
          16.197162628173828,
          16.841461181640625,
          16.426979064941406,
          16.431377410888672,
          16.833236694335938,
          16.659282684326172,
          16.480056762695312,
          16.88106918334961,
          16.40064239501953,
          16.52103614807129,
          16.714792251586914,
          16.88632583618164,
          16.444503784179688,
          16.2529354095459,
          16.84101104736328,
          16.56818199157715,
          16.280702590942383,
          16.41063117980957,
          16.81010627746582,
          16.847732543945312,
          16.73298454284668,
          16.947322845458984,
          16.611560821533203,
          16.587547302246094,
          16.3363094329834,
          16.573698043823242,
          16.886314392089844,
          16.75350570678711,
          17.035545349121094,
          16.342737197875977,
          16.522512435913086,
          16.640438079833984,
          16.67700958251953,
          16.17997932434082,
          16.900545120239258,
          16.983936309814453,
          16.555526733398438,
          16.813549041748047
         ],
         "yaxis": "y"
        },
        {
         "hovertemplate": "color=8<br>x=%{x}<br>y=%{y}<extra></extra>",
         "legendgroup": "8",
         "marker": {
          "color": "#B6E880",
          "symbol": "circle"
         },
         "mode": "markers",
         "name": "8",
         "orientation": "v",
         "showlegend": true,
         "type": "scatter",
         "x": [
          9.594462394714355,
          10.03823471069336,
          9.723392486572266,
          9.562043190002441,
          9.1100492477417,
          9.785019874572754,
          9.623225212097168,
          9.810040473937988,
          9.907796859741211,
          9.86240005493164,
          9.918134689331055,
          9.535704612731934,
          9.798678398132324,
          9.808089256286621,
          10.039018630981445,
          9.65256118774414,
          9.936535835266113,
          10.04150104522705,
          9.618856430053711,
          9.808324813842773,
          9.924107551574707,
          9.872038841247559,
          9.872296333312988,
          9.977212905883789,
          9.887072563171387,
          10.224533081054688,
          9.615246772766113,
          9.598383903503418,
          9.641043663024902,
          9.461522102355957,
          9.651527404785156,
          9.873905181884766,
          10.1238431930542,
          9.812942504882812,
          9.792510986328125,
          9.997842788696289,
          10.1016845703125,
          10.095733642578125,
          10.0111083984375,
          9.8267240524292,
          9.692819595336914,
          9.699387550354004,
          9.984210014343262,
          9.944613456726074,
          9.505813598632812,
          9.714436531066895,
          10.008508682250977,
          10.149325370788574,
          9.7160005569458
         ],
         "xaxis": "x",
         "y": [
          5.2984771728515625,
          5.574716567993164,
          5.258200645446777,
          4.42508602142334,
          5.111299991607666,
          5.484629154205322,
          5.1641082763671875,
          5.598099708557129,
          5.001010417938232,
          5.20849609375,
          5.356869697570801,
          4.342552661895752,
          5.095621109008789,
          5.482117176055908,
          5.1073317527771,
          5.390398025512695,
          5.266237735748291,
          5.020513534545898,
          5.422253131866455,
          5.587801933288574,
          5.553079605102539,
          5.071362018585205,
          5.37697696685791,
          5.667693138122559,
          5.562819480895996,
          5.272427558898926,
          5.425000190734863,
          5.3255696296691895,
          5.184873580932617,
          5.383827209472656,
          5.498279094696045,
          5.347498416900635,
          5.231931686401367,
          5.42906379699707,
          5.2715864181518555,
          5.6541008949279785,
          5.17938756942749,
          5.344204902648926,
          5.2458367347717285,
          5.635740756988525,
          4.802718162536621,
          5.370342254638672,
          5.387354373931885,
          5.277947425842285,
          5.277495861053467,
          5.597520351409912,
          5.178231716156006,
          5.268682956695557,
          4.9697723388671875
         ],
         "yaxis": "y"
        },
        {
         "hovertemplate": "color=2<br>x=%{x}<br>y=%{y}<extra></extra>",
         "legendgroup": "2",
         "marker": {
          "color": "#FF97FF",
          "symbol": "circle"
         },
         "mode": "markers",
         "name": "2",
         "orientation": "v",
         "showlegend": true,
         "type": "scatter",
         "x": [
          10.54544448852539,
          10.341588020324707,
          10.614363670349121,
          10.8300142288208,
          10.801002502441406,
          10.514272689819336,
          10.824786186218262,
          10.838420867919922,
          10.763568878173828,
          10.78060245513916,
          10.595758438110352,
          10.855518341064453,
          10.660606384277344,
          10.721245765686035,
          10.786653518676758,
          10.844465255737305,
          10.88884162902832
         ],
         "xaxis": "x",
         "y": [
          16.55314064025879,
          16.534915924072266,
          16.79007339477539,
          16.66886329650879,
          16.755096435546875,
          16.647449493408203,
          16.684690475463867,
          16.709501266479492,
          16.789609909057617,
          16.549560546875,
          16.95287322998047,
          16.77275276184082,
          16.653610229492188,
          16.87563705444336,
          16.70400047302246,
          16.564029693603516,
          16.71973991394043
         ],
         "yaxis": "y"
        },
        {
         "hovertemplate": "color=1<br>x=%{x}<br>y=%{y}<extra></extra>",
         "legendgroup": "1",
         "marker": {
          "color": "#FECB52",
          "symbol": "circle"
         },
         "mode": "markers",
         "name": "1",
         "orientation": "v",
         "showlegend": true,
         "type": "scatter",
         "x": [
          9.198402404785156,
          8.995721817016602,
          10.303621292114258,
          9.16268539428711
         ],
         "xaxis": "x",
         "y": [
          0.2798776924610138,
          0.11207610368728638,
          16.054330825805664,
          0.2092529833316803
         ],
         "yaxis": "y"
        }
       ],
       "layout": {
        "height": 400,
        "legend": {
         "title": {
          "text": "color"
         },
         "tracegroupgap": 0
        },
        "template": {
         "data": {
          "bar": [
           {
            "error_x": {
             "color": "#2a3f5f"
            },
            "error_y": {
             "color": "#2a3f5f"
            },
            "marker": {
             "line": {
              "color": "#E5ECF6",
              "width": 0.5
             },
             "pattern": {
              "fillmode": "overlay",
              "size": 10,
              "solidity": 0.2
             }
            },
            "type": "bar"
           }
          ],
          "barpolar": [
           {
            "marker": {
             "line": {
              "color": "#E5ECF6",
              "width": 0.5
             },
             "pattern": {
              "fillmode": "overlay",
              "size": 10,
              "solidity": 0.2
             }
            },
            "type": "barpolar"
           }
          ],
          "carpet": [
           {
            "aaxis": {
             "endlinecolor": "#2a3f5f",
             "gridcolor": "white",
             "linecolor": "white",
             "minorgridcolor": "white",
             "startlinecolor": "#2a3f5f"
            },
            "baxis": {
             "endlinecolor": "#2a3f5f",
             "gridcolor": "white",
             "linecolor": "white",
             "minorgridcolor": "white",
             "startlinecolor": "#2a3f5f"
            },
            "type": "carpet"
           }
          ],
          "choropleth": [
           {
            "colorbar": {
             "outlinewidth": 0,
             "ticks": ""
            },
            "type": "choropleth"
           }
          ],
          "contour": [
           {
            "colorbar": {
             "outlinewidth": 0,
             "ticks": ""
            },
            "colorscale": [
             [
              0,
              "#0d0887"
             ],
             [
              0.1111111111111111,
              "#46039f"
             ],
             [
              0.2222222222222222,
              "#7201a8"
             ],
             [
              0.3333333333333333,
              "#9c179e"
             ],
             [
              0.4444444444444444,
              "#bd3786"
             ],
             [
              0.5555555555555556,
              "#d8576b"
             ],
             [
              0.6666666666666666,
              "#ed7953"
             ],
             [
              0.7777777777777778,
              "#fb9f3a"
             ],
             [
              0.8888888888888888,
              "#fdca26"
             ],
             [
              1,
              "#f0f921"
             ]
            ],
            "type": "contour"
           }
          ],
          "contourcarpet": [
           {
            "colorbar": {
             "outlinewidth": 0,
             "ticks": ""
            },
            "type": "contourcarpet"
           }
          ],
          "heatmap": [
           {
            "colorbar": {
             "outlinewidth": 0,
             "ticks": ""
            },
            "colorscale": [
             [
              0,
              "#0d0887"
             ],
             [
              0.1111111111111111,
              "#46039f"
             ],
             [
              0.2222222222222222,
              "#7201a8"
             ],
             [
              0.3333333333333333,
              "#9c179e"
             ],
             [
              0.4444444444444444,
              "#bd3786"
             ],
             [
              0.5555555555555556,
              "#d8576b"
             ],
             [
              0.6666666666666666,
              "#ed7953"
             ],
             [
              0.7777777777777778,
              "#fb9f3a"
             ],
             [
              0.8888888888888888,
              "#fdca26"
             ],
             [
              1,
              "#f0f921"
             ]
            ],
            "type": "heatmap"
           }
          ],
          "heatmapgl": [
           {
            "colorbar": {
             "outlinewidth": 0,
             "ticks": ""
            },
            "colorscale": [
             [
              0,
              "#0d0887"
             ],
             [
              0.1111111111111111,
              "#46039f"
             ],
             [
              0.2222222222222222,
              "#7201a8"
             ],
             [
              0.3333333333333333,
              "#9c179e"
             ],
             [
              0.4444444444444444,
              "#bd3786"
             ],
             [
              0.5555555555555556,
              "#d8576b"
             ],
             [
              0.6666666666666666,
              "#ed7953"
             ],
             [
              0.7777777777777778,
              "#fb9f3a"
             ],
             [
              0.8888888888888888,
              "#fdca26"
             ],
             [
              1,
              "#f0f921"
             ]
            ],
            "type": "heatmapgl"
           }
          ],
          "histogram": [
           {
            "marker": {
             "pattern": {
              "fillmode": "overlay",
              "size": 10,
              "solidity": 0.2
             }
            },
            "type": "histogram"
           }
          ],
          "histogram2d": [
           {
            "colorbar": {
             "outlinewidth": 0,
             "ticks": ""
            },
            "colorscale": [
             [
              0,
              "#0d0887"
             ],
             [
              0.1111111111111111,
              "#46039f"
             ],
             [
              0.2222222222222222,
              "#7201a8"
             ],
             [
              0.3333333333333333,
              "#9c179e"
             ],
             [
              0.4444444444444444,
              "#bd3786"
             ],
             [
              0.5555555555555556,
              "#d8576b"
             ],
             [
              0.6666666666666666,
              "#ed7953"
             ],
             [
              0.7777777777777778,
              "#fb9f3a"
             ],
             [
              0.8888888888888888,
              "#fdca26"
             ],
             [
              1,
              "#f0f921"
             ]
            ],
            "type": "histogram2d"
           }
          ],
          "histogram2dcontour": [
           {
            "colorbar": {
             "outlinewidth": 0,
             "ticks": ""
            },
            "colorscale": [
             [
              0,
              "#0d0887"
             ],
             [
              0.1111111111111111,
              "#46039f"
             ],
             [
              0.2222222222222222,
              "#7201a8"
             ],
             [
              0.3333333333333333,
              "#9c179e"
             ],
             [
              0.4444444444444444,
              "#bd3786"
             ],
             [
              0.5555555555555556,
              "#d8576b"
             ],
             [
              0.6666666666666666,
              "#ed7953"
             ],
             [
              0.7777777777777778,
              "#fb9f3a"
             ],
             [
              0.8888888888888888,
              "#fdca26"
             ],
             [
              1,
              "#f0f921"
             ]
            ],
            "type": "histogram2dcontour"
           }
          ],
          "mesh3d": [
           {
            "colorbar": {
             "outlinewidth": 0,
             "ticks": ""
            },
            "type": "mesh3d"
           }
          ],
          "parcoords": [
           {
            "line": {
             "colorbar": {
              "outlinewidth": 0,
              "ticks": ""
             }
            },
            "type": "parcoords"
           }
          ],
          "pie": [
           {
            "automargin": true,
            "type": "pie"
           }
          ],
          "scatter": [
           {
            "fillpattern": {
             "fillmode": "overlay",
             "size": 10,
             "solidity": 0.2
            },
            "type": "scatter"
           }
          ],
          "scatter3d": [
           {
            "line": {
             "colorbar": {
              "outlinewidth": 0,
              "ticks": ""
             }
            },
            "marker": {
             "colorbar": {
              "outlinewidth": 0,
              "ticks": ""
             }
            },
            "type": "scatter3d"
           }
          ],
          "scattercarpet": [
           {
            "marker": {
             "colorbar": {
              "outlinewidth": 0,
              "ticks": ""
             }
            },
            "type": "scattercarpet"
           }
          ],
          "scattergeo": [
           {
            "marker": {
             "colorbar": {
              "outlinewidth": 0,
              "ticks": ""
             }
            },
            "type": "scattergeo"
           }
          ],
          "scattergl": [
           {
            "marker": {
             "colorbar": {
              "outlinewidth": 0,
              "ticks": ""
             }
            },
            "type": "scattergl"
           }
          ],
          "scattermapbox": [
           {
            "marker": {
             "colorbar": {
              "outlinewidth": 0,
              "ticks": ""
             }
            },
            "type": "scattermapbox"
           }
          ],
          "scatterpolar": [
           {
            "marker": {
             "colorbar": {
              "outlinewidth": 0,
              "ticks": ""
             }
            },
            "type": "scatterpolar"
           }
          ],
          "scatterpolargl": [
           {
            "marker": {
             "colorbar": {
              "outlinewidth": 0,
              "ticks": ""
             }
            },
            "type": "scatterpolargl"
           }
          ],
          "scatterternary": [
           {
            "marker": {
             "colorbar": {
              "outlinewidth": 0,
              "ticks": ""
             }
            },
            "type": "scatterternary"
           }
          ],
          "surface": [
           {
            "colorbar": {
             "outlinewidth": 0,
             "ticks": ""
            },
            "colorscale": [
             [
              0,
              "#0d0887"
             ],
             [
              0.1111111111111111,
              "#46039f"
             ],
             [
              0.2222222222222222,
              "#7201a8"
             ],
             [
              0.3333333333333333,
              "#9c179e"
             ],
             [
              0.4444444444444444,
              "#bd3786"
             ],
             [
              0.5555555555555556,
              "#d8576b"
             ],
             [
              0.6666666666666666,
              "#ed7953"
             ],
             [
              0.7777777777777778,
              "#fb9f3a"
             ],
             [
              0.8888888888888888,
              "#fdca26"
             ],
             [
              1,
              "#f0f921"
             ]
            ],
            "type": "surface"
           }
          ],
          "table": [
           {
            "cells": {
             "fill": {
              "color": "#EBF0F8"
             },
             "line": {
              "color": "white"
             }
            },
            "header": {
             "fill": {
              "color": "#C8D4E3"
             },
             "line": {
              "color": "white"
             }
            },
            "type": "table"
           }
          ]
         },
         "layout": {
          "annotationdefaults": {
           "arrowcolor": "#2a3f5f",
           "arrowhead": 0,
           "arrowwidth": 1
          },
          "autotypenumbers": "strict",
          "coloraxis": {
           "colorbar": {
            "outlinewidth": 0,
            "ticks": ""
           }
          },
          "colorscale": {
           "diverging": [
            [
             0,
             "#8e0152"
            ],
            [
             0.1,
             "#c51b7d"
            ],
            [
             0.2,
             "#de77ae"
            ],
            [
             0.3,
             "#f1b6da"
            ],
            [
             0.4,
             "#fde0ef"
            ],
            [
             0.5,
             "#f7f7f7"
            ],
            [
             0.6,
             "#e6f5d0"
            ],
            [
             0.7,
             "#b8e186"
            ],
            [
             0.8,
             "#7fbc41"
            ],
            [
             0.9,
             "#4d9221"
            ],
            [
             1,
             "#276419"
            ]
           ],
           "sequential": [
            [
             0,
             "#0d0887"
            ],
            [
             0.1111111111111111,
             "#46039f"
            ],
            [
             0.2222222222222222,
             "#7201a8"
            ],
            [
             0.3333333333333333,
             "#9c179e"
            ],
            [
             0.4444444444444444,
             "#bd3786"
            ],
            [
             0.5555555555555556,
             "#d8576b"
            ],
            [
             0.6666666666666666,
             "#ed7953"
            ],
            [
             0.7777777777777778,
             "#fb9f3a"
            ],
            [
             0.8888888888888888,
             "#fdca26"
            ],
            [
             1,
             "#f0f921"
            ]
           ],
           "sequentialminus": [
            [
             0,
             "#0d0887"
            ],
            [
             0.1111111111111111,
             "#46039f"
            ],
            [
             0.2222222222222222,
             "#7201a8"
            ],
            [
             0.3333333333333333,
             "#9c179e"
            ],
            [
             0.4444444444444444,
             "#bd3786"
            ],
            [
             0.5555555555555556,
             "#d8576b"
            ],
            [
             0.6666666666666666,
             "#ed7953"
            ],
            [
             0.7777777777777778,
             "#fb9f3a"
            ],
            [
             0.8888888888888888,
             "#fdca26"
            ],
            [
             1,
             "#f0f921"
            ]
           ]
          },
          "colorway": [
           "#636efa",
           "#EF553B",
           "#00cc96",
           "#ab63fa",
           "#FFA15A",
           "#19d3f3",
           "#FF6692",
           "#B6E880",
           "#FF97FF",
           "#FECB52"
          ],
          "font": {
           "color": "#2a3f5f"
          },
          "geo": {
           "bgcolor": "white",
           "lakecolor": "white",
           "landcolor": "#E5ECF6",
           "showlakes": true,
           "showland": true,
           "subunitcolor": "white"
          },
          "hoverlabel": {
           "align": "left"
          },
          "hovermode": "closest",
          "mapbox": {
           "style": "light"
          },
          "paper_bgcolor": "white",
          "plot_bgcolor": "#E5ECF6",
          "polar": {
           "angularaxis": {
            "gridcolor": "white",
            "linecolor": "white",
            "ticks": ""
           },
           "bgcolor": "#E5ECF6",
           "radialaxis": {
            "gridcolor": "white",
            "linecolor": "white",
            "ticks": ""
           }
          },
          "scene": {
           "xaxis": {
            "backgroundcolor": "#E5ECF6",
            "gridcolor": "white",
            "gridwidth": 2,
            "linecolor": "white",
            "showbackground": true,
            "ticks": "",
            "zerolinecolor": "white"
           },
           "yaxis": {
            "backgroundcolor": "#E5ECF6",
            "gridcolor": "white",
            "gridwidth": 2,
            "linecolor": "white",
            "showbackground": true,
            "ticks": "",
            "zerolinecolor": "white"
           },
           "zaxis": {
            "backgroundcolor": "#E5ECF6",
            "gridcolor": "white",
            "gridwidth": 2,
            "linecolor": "white",
            "showbackground": true,
            "ticks": "",
            "zerolinecolor": "white"
           }
          },
          "shapedefaults": {
           "line": {
            "color": "#2a3f5f"
           }
          },
          "ternary": {
           "aaxis": {
            "gridcolor": "white",
            "linecolor": "white",
            "ticks": ""
           },
           "baxis": {
            "gridcolor": "white",
            "linecolor": "white",
            "ticks": ""
           },
           "bgcolor": "#E5ECF6",
           "caxis": {
            "gridcolor": "white",
            "linecolor": "white",
            "ticks": ""
           }
          },
          "title": {
           "x": 0.05
          },
          "xaxis": {
           "automargin": true,
           "gridcolor": "white",
           "linecolor": "white",
           "ticks": "",
           "title": {
            "standoff": 15
           },
           "zerolinecolor": "white",
           "zerolinewidth": 2
          },
          "yaxis": {
           "automargin": true,
           "gridcolor": "white",
           "linecolor": "white",
           "ticks": "",
           "title": {
            "standoff": 15
           },
           "zerolinecolor": "white",
           "zerolinewidth": 2
          }
         }
        },
        "title": {
         "text": "UMAP_2_comp - 1.491 sec."
        },
        "width": 500,
        "xaxis": {
         "anchor": "y",
         "domain": [
          0,
          1
         ],
         "title": {
          "text": "c_1"
         }
        },
        "yaxis": {
         "anchor": "x",
         "domain": [
          0,
          1
         ],
         "title": {
          "text": "c_2"
         }
        }
       }
      }
     },
     "metadata": {},
     "output_type": "display_data"
    },
    {
     "data": {
      "application/vnd.plotly.v1+json": {
       "config": {
        "plotlyServerURL": "https://plot.ly"
       },
       "data": [
        {
         "hovertemplate": "color=5<br>x=%{x}<br>y=%{y}<br>z=%{z}<extra></extra>",
         "legendgroup": "5",
         "marker": {
          "color": "#636efa",
          "symbol": "circle"
         },
         "mode": "markers",
         "name": "5",
         "scene": "scene",
         "showlegend": true,
         "type": "scatter3d",
         "x": [
          -0.06248405497384845,
          -0.04780307702842179,
          -0.08292900681548347,
          -0.06068368762415186,
          -0.10247453001574804,
          -0.12738635492475778,
          -0.1424383565215596,
          -0.07093887334578146,
          -0.11526848781612632,
          -0.15427155770065712,
          -0.05903922212855187,
          -0.10631839291798018,
          -0.08135828043241321,
          -0.07633516201422277,
          -0.08043944625393765,
          -0.09012669990230177,
          -0.09390513139067272,
          -0.1489099547153842,
          -0.07478785005611258,
          -0.10714527407662815,
          -0.1124359423592335,
          -0.027010204664293276,
          -0.06855320919640609,
          -0.07809482658459058,
          -0.07236449701618217,
          -0.05583730120514571,
          -0.08924862574349883,
          -0.14828954945439218,
          -0.04482501875521625,
          -0.11150429762896126,
          -0.007070357845577216,
          -0.07994657648305757,
          -0.1431486826346407,
          -0.14354845664203883,
          -0.07272408386878691,
          -0.12012510892206503,
          -0.12296421509164765,
          -0.13840880225837116,
          -0.11549895142407733,
          -0.06891103520131259,
          -0.06708610368717773,
          -0.12916910822924707,
          -0.11247878907903029,
          -0.1347581136468843,
          -0.05493730578091471,
          -0.12097231738448495,
          -0.046304414726235456,
          -0.1042562079976206,
          -0.08353154690580135,
          -0.08675506543877531,
          -0.11343021908972903,
          -0.07998555166852783,
          -0.0954854193022575,
          -0.1387050897701244,
          -0.13203511249725383,
          -0.09817684533164435,
          -0.08889794925620154,
          -0.09240154387750597,
          -0.10595843867390728,
          -0.10044243275079329,
          -0.11251817288919787,
          -0.13966184156657693,
          -0.1286142066788139,
          -0.11259984174741104,
          -0.11117895587470887,
          -0.09064016439087819,
          -0.06970118252481296,
          -0.12032722838619793,
          -0.10758230352565612,
          -0.07004283736278234,
          -0.12369246938505084,
          -0.09494509503792868,
          -0.13136139910433645,
          -0.04196290244377836,
          -0.05739985083089683,
          -0.10894981765850482,
          -0.14481700600930747,
          -0.06808570411298043,
          -0.07153021061500069
         ],
         "y": [
          -0.13510172182441713,
          -0.12131565012976984,
          -0.1213252067069812,
          -0.17246895309782004,
          -0.1441591932202769,
          -0.1561944527362956,
          -0.17403558055012652,
          -0.12973112409155216,
          -0.08519773609563124,
          -0.17524566014712178,
          -0.11297492010679486,
          -0.14084508430132986,
          -0.12164816797358985,
          -0.07421854362002524,
          -0.18661503299878668,
          -0.122331138546371,
          -0.13617928855556533,
          -0.1739257125268933,
          -0.06798980292126029,
          -0.16012883881362133,
          -0.13032526467150407,
          -0.08916493724769016,
          -0.15191462112879564,
          -0.15502151599431488,
          -0.12715119031040253,
          -0.06259515827417991,
          -0.151531294305506,
          -0.15694736872517331,
          -0.12218002328696706,
          -0.11786903221612938,
          -0.06755294771966727,
          -0.16871280348392367,
          -0.15865181070478107,
          -0.09456772346409557,
          -0.11856819617047719,
          -0.1745454690302995,
          -0.12060077271566862,
          -0.10154854533396265,
          -0.15132293806443795,
          -0.06396847223442152,
          -0.07677227350154546,
          -0.1395473892409921,
          -0.1133085900098325,
          -0.0506091209869532,
          -0.06562257385993846,
          -0.13431514410793094,
          -0.13615075532818074,
          -0.13086948821718553,
          -0.150934725332879,
          -0.05177331263930763,
          -0.09340783800839718,
          -0.08480165885439175,
          -0.10683165033483359,
          -0.1841668355751374,
          -0.14454413582564074,
          -0.11318687252366005,
          -0.12704431008037925,
          -0.13362030842760575,
          -0.10335496795683904,
          -0.09871220155718431,
          -0.11502036162145933,
          -0.09796765781363458,
          -0.13361138599042832,
          -0.1738282330537853,
          -0.13749040936048132,
          -0.12482885899641291,
          -0.1865526733990772,
          -0.1228513742206932,
          -0.19708568266359958,
          -0.03845100489540066,
          -0.15855978270923143,
          -0.05837775741519101,
          -0.10969326496797796,
          -0.13360832571201262,
          -0.11167785579699652,
          -0.18432198566783525,
          -0.052781951071896066,
          -0.13126636647900808,
          -0.10391889828592835
         ],
         "z": [
          -0.1923494711854449,
          -0.1617182436713172,
          -0.14216887423329522,
          -0.07794829771882536,
          -0.1830177258698753,
          -0.22288547054029653,
          -0.1848637023054595,
          -0.18721521396780516,
          -0.1820997070847283,
          -0.11673579829677576,
          -0.11689796966738136,
          -0.13032918481721562,
          -0.19720460134487353,
          -0.18011094417145074,
          -0.1421379077245436,
          -0.1563985110539245,
          -0.13594234180923762,
          -0.17644015711444047,
          -0.1312780696634049,
          -0.0354738235400703,
          -0.1556439416650434,
          -0.11699080315222739,
          -0.15859594778157596,
          -0.22941704352539136,
          -0.11925163361887196,
          -0.115115957423891,
          -0.1869870913872953,
          -0.20054945214755776,
          -0.14334170191860726,
          -0.1588614180578556,
          -0.09783941060317215,
          -0.25167257537234283,
          -0.18388546067261888,
          -0.16514124037980157,
          -0.15232201937257153,
          -0.22658223013595483,
          -0.18321428873976434,
          -0.08882077506146374,
          -0.15585426389378773,
          -0.04229743569078095,
          -0.14129855891721557,
          -0.17191836885697606,
          -0.15724687458381578,
          -0.1764692665049171,
          -0.05919112934290293,
          -0.15097066450901458,
          -0.0882216199192142,
          -0.2258457336115324,
          -0.09245034126967891,
          -0.17332924598979543,
          -0.16898439311678232,
          -0.12420544262673384,
          -0.11803450665903885,
          -0.14721632817374822,
          -0.1402768398299338,
          -0.21928249941906916,
          -0.10687845444265512,
          -0.1948215134429522,
          -0.1795552056651744,
          -0.14489989517456567,
          -0.08414269719477037,
          -0.22197662376719707,
          -0.11632829185242528,
          -0.2068687827107447,
          -0.10370253957663138,
          -0.04873553968685114,
          -0.15354819785145793,
          -0.23560365626392513,
          -0.16063615921054017,
          -0.14592884001710782,
          -0.17132076794565457,
          -0.12740628567790413,
          -0.1692550537707781,
          -0.0927364508495831,
          -0.16568787036848023,
          -0.22900891883199226,
          -0.16326362314203355,
          -0.17247188738926847,
          -0.06488485799467333
         ]
        },
        {
         "hovertemplate": "color=6<br>x=%{x}<br>y=%{y}<br>z=%{z}<extra></extra>",
         "legendgroup": "6",
         "marker": {
          "color": "#EF553B",
          "symbol": "circle"
         },
         "mode": "markers",
         "name": "6",
         "scene": "scene",
         "showlegend": true,
         "type": "scatter3d",
         "x": [
          -0.04418106569486533,
          -0.015414671107651079,
          0.016621122521168936,
          -0.005957008433441594,
          0.02469376362691031,
          -0.00497679165569278,
          -0.009573821231649937,
          0.027690830912644984,
          -0.027417959994554448,
          -0.0031338336063838133,
          0.006899701227304736,
          -0.010747340739572587,
          0.05097650010371899,
          -0.01476422690851742,
          0.005943179297756296,
          -0.03770983209052447,
          -0.057776167532030596,
          0.002777834810722151,
          -0.029676003292822224,
          -0.024420136240921
         ],
         "y": [
          -0.04041779622278742,
          -0.040634402397578345,
          -0.0428884802490035,
          -0.028453810220291358,
          -0.050997858484911576,
          -0.05753945529105514,
          -0.025199524169334464,
          -0.03269778435270957,
          -0.04408844922285114,
          -0.05523063077724867,
          -0.07688557713821186,
          -0.026316376981093025,
          -0.0528061174837701,
          -0.030972713330622386,
          -0.027581323216420837,
          -0.0396244906914841,
          -0.04726941785286681,
          -0.021807518451241698,
          -0.024972876259505627,
          -0.001815905389131877
         ],
         "z": [
          -0.17427518047415838,
          -0.17721073505622217,
          -0.15086655956480619,
          -0.2185727450329976,
          -0.16598107210033997,
          -0.17414593970378456,
          -0.17727929057623792,
          -0.1669766545064297,
          -0.23761055416668558,
          -0.1705885638818183,
          -0.20745288486933727,
          -0.22402106106771408,
          -0.18935575542936064,
          -0.16977286090489574,
          -0.19552630362208287,
          -0.1578175022423753,
          -0.19065108923883223,
          -0.2042605421645854,
          -0.19586237014878144,
          -0.19909870000630234
         ]
        },
        {
         "hovertemplate": "color=3<br>x=%{x}<br>y=%{y}<br>z=%{z}<extra></extra>",
         "legendgroup": "3",
         "marker": {
          "color": "#00cc96",
          "symbol": "circle"
         },
         "mode": "markers",
         "name": "3",
         "scene": "scene",
         "showlegend": true,
         "type": "scatter3d",
         "x": [
          0.31312574038566626,
          0.22457174256539827,
          0.3175299727824599,
          0.3872072228305191,
          0.2808260459201111,
          0.3229898325948249,
          0.36156488388724944,
          0.2825098822304374,
          0.33717993774887545,
          0.39042857488153476,
          0.3785363669286354,
          0.321060320440253,
          0.24282060120323976,
          0.456175055130826,
          0.2919661198312842,
          0.31008429099848667,
          0.28607087632598815,
          0.3323017411991257,
          0.23918915996798182,
          0.328982898174543,
          0.22993024404544643,
          0.31786323756584217,
          0.35142507483993773,
          0.3696620646383235,
          0.3462099378232368,
          0.3057244539653254,
          0.2943062108352197,
          0.19028410816132157,
          0.3274051112168289,
          0.3064131977855726,
          0.33267768913685475,
          0.30730492925752484,
          0.4261278139539914,
          0.375293302962337,
          0.26078264617954466,
          0.3326199504667858,
          0.2590984780508724,
          0.2997623555059516,
          0.3264746693425905,
          0.2874256033113122,
          0.3639672231987574,
          0.21858759570608588,
          0.32527128309392067,
          0.49150483753228524,
          0.26546480587953847,
          0.3234191606654947,
          0.41413561313838254,
          0.26956082254595737,
          0.31942614022428806,
          0.34643015954397705,
          0.4145976919106796,
          0.21376144676036876,
          0.2503131830014701,
          0.28579125547726386,
          0.24135824329181957,
          0.2554247747660863,
          0.3245053278909425,
          0.24074139365858266,
          0.3797433348353486,
          0.3035562755915472,
          0.3399685052242722,
          0.28105307835151233,
          0.34022761697192916,
          0.2967847537866323,
          0.314876098981872,
          0.3718771593894307,
          0.3883992758478134,
          0.3123980296623766,
          0.3238819111856013,
          0.42620120293640384,
          0.27992449775167527,
          0.3695106468747318,
          0.40819300524989055,
          0.3615648838872494,
          0.36620857506816074,
          0.2769144459043948,
          0.3345929800775167,
          0.188618153529537,
          0.3850860203149328,
          0.2565581230233784,
          0.26950613477690294,
          0.3201554590006905,
          0.3261815792883006,
          0.21515869118874542,
          0.43015718473397785,
          0.3494925975301482,
          0.23895265223735684,
          0.24110730576336403,
          0.24611701394093002,
          0.2808158327179389,
          0.2952602255556245,
          0.36270913347528777,
          0.4291449629298533,
          0.2929965465796122,
          0.23719911173047228,
          0.3517421264523294,
          0.30709035579728255,
          0.34850730017637277,
          0.2587582849735381,
          0.23670512470730343,
          0.245357565068985,
          0.27336731689582033,
          0.3852013690413767,
          0.40446566424791525,
          0.32329728786334233,
          0.28426091228463773,
          0.3180141685508949,
          0.2848852409326362,
          0.3499510647141753,
          0.3619733398686822,
          0.35201614693890054,
          0.37554704747407325,
          0.21953025985740604,
          0.2891934082382833,
          0.32102702971097613,
          0.35153160756535023,
          0.24205238909878402,
          0.2985851373610133,
          0.18769730102398,
          0.3380873096913045,
          0.3499185957025675,
          0.36707580487717345,
          0.2554247747660863,
          0.3163729190090364,
          0.28280111702668054,
          0.3259896287464878,
          0.2428281243953328,
          0.36710921643914085,
          0.2115860708218754,
          0.20969895154510132,
          0.3948535670482164,
          0.31114940132707647,
          0.3985416272888704
         ],
         "y": [
          0.006473006190835388,
          0.0008579435529135558,
          0.0017454435442001608,
          0.009139756536185,
          -0.02874516456398716,
          0.03556946988503625,
          0.018043794262323755,
          0.08506813057017108,
          0.05022863934495483,
          0.019460672637353797,
          0.059543519151327065,
          0.04736316131313578,
          0.05046047092099773,
          0.02910697757975519,
          0.03688605588867819,
          0.02038207525509076,
          -0.010722504022399588,
          0.006316309964261707,
          0.031195321968074757,
          0.03508921031418993,
          -0.05721548193088085,
          -0.00017662329169097456,
          -0.009390697208395207,
          0.011232217931457877,
          -0.02636777403198654,
          -0.007624495976169752,
          0.0536123251273601,
          -0.055221842812952705,
          0.044538509697488314,
          -0.00394381186807257,
          0.07366977137741891,
          0.006082507953742743,
          -0.0022231942717048534,
          -0.02955450819064712,
          0.02256407166697381,
          0.002594526645538549,
          0.017740992443109536,
          -0.02700977468993341,
          0.0008765481709158569,
          0.06658273600831469,
          0.04377836719108468,
          -0.014878185808496088,
          0.0423237747661757,
          -0.00046841330981253033,
          -0.03591742781267491,
          0.02746978990686648,
          0.055479171638498595,
          0.015187575410930909,
          0.013460907026837584,
          -0.004507128021200202,
          0.06469830648911916,
          -0.01699389531271754,
          0.024153380573965218,
          -0.0061883999135327085,
          0.01578387695744246,
          0.12084489622695853,
          -0.003669597736773956,
          0.020187236108927985,
          0.09259462496638006,
          0.00993337587055091,
          0.0005404179335224258,
          -0.06374608973601006,
          -0.003717864614728141,
          0.09198128860411144,
          -0.012245674353620678,
          0.02847515277509135,
          0.026219888515605805,
          0.01828097840224135,
          -0.01743967303090697,
          0.07816781667945669,
          -0.03226405524807653,
          0.051350531778744615,
          0.031596155565237594,
          0.01804379426232376,
          0.02938185687645875,
          0.08858309972075444,
          -0.006505595970049067,
          -0.012238023892017398,
          0.05528448923543792,
          0.017223710364133987,
          -0.019957965593194904,
          0.03505113290117553,
          -0.013201693922110997,
          -0.007672726955652319,
          0.024600657665686518,
          0.05403824150168732,
          0.021182740689068825,
          -0.03088169440272579,
          -0.02523338282488376,
          0.05596100975312297,
          -0.005647340873918418,
          0.007734368258826477,
          0.04732579364229036,
          0.02631886434089486,
          -0.0065550970964271945,
          0.001325916413880316,
          -0.03552339884311153,
          0.09978549101874017,
          0.0025347557154457106,
          0.033259273269239616,
          -0.02383246361720372,
          0.028546256667980646,
          -0.009645513996755858,
          0.05685486729973678,
          0.00849270530828728,
          0.024224182038530127,
          0.03722857442539028,
          -0.0008537595482431655,
          0.00022368996910598454,
          0.07554558924068648,
          0.049703932339755515,
          0.013984522160128706,
          -0.009800596356056778,
          0.01841539648583609,
          0.04569315543671364,
          -0.004060542901135434,
          0.021026705869786715,
          -0.008379110161996842,
          -0.00719403914532828,
          0.045899323717392575,
          0.003052248343863352,
          0.008290213474971617,
          0.12084489622695853,
          0.003504157764961816,
          0.01572029939755341,
          -0.014614765007982101,
          -0.006899972493543094,
          0.007079149016353977,
          0.05567029176814138,
          -0.019439379776118988,
          0.02847766315719275,
          0.04598060037601515,
          0.03510160638458133
         ],
         "z": [
          0.0412295386530545,
          0.017138308149078792,
          0.047772394616759806,
          0.06965126710090068,
          0.07138088402958642,
          0.047488805316009464,
          0.05841980053257492,
          0.08650210249302967,
          0.1094996574257838,
          0.05630094526223325,
          0.08072636628395184,
          0.05620702053346422,
          0.0271850505752106,
          0.11592279684334197,
          0.0895577730860854,
          0.02574064829037034,
          -0.013676018088190677,
          0.056282797638635244,
          0.0338157595824872,
          0.08198289367676113,
          0.0692397380222472,
          0.0621337610766888,
          0.055329672165773974,
          0.07496696497146733,
          0.04597470170977491,
          0.09026538107584993,
          0.07477305450553641,
          -0.0062860414650828264,
          0.09230244428573642,
          0.07062737079565073,
          0.08453893848678593,
          0.07414275175780476,
          0.09869968161375897,
          0.04020611620169893,
          0.06174373554832782,
          0.06682085872427344,
          0.04813618816590064,
          0.009338124219559468,
          0.013677625381571502,
          0.059209243546703,
          0.11912445434202107,
          -0.05062378794363247,
          0.0695790626446698,
          0.07637035005983667,
          0.0269993125217635,
          0.059972515292342654,
          0.1589514796121752,
          0.07245749313444794,
          0.08325915888713625,
          0.08063963901502469,
          0.1337418842970809,
          0.08668043868611329,
          0.0319640514818973,
          0.053891813063875756,
          0.0549786372097552,
          0.075625450810768,
          0.09119486379306525,
          0.04482841718463857,
          0.14522560476946816,
          0.06122252059640047,
          0.10070156365654355,
          0.04638991511592154,
          0.017752944452663007,
          0.08347757195481986,
          0.0686758703369224,
          0.06856086646111094,
          0.11604029891574306,
          0.05438103889449843,
          0.07305384865692485,
          0.08836884814825295,
          0.03611529893722702,
          0.13040579434020616,
          0.10774902518103378,
          0.058419800532574916,
          0.12086104410055434,
          0.1100302662770573,
          0.13976167867716757,
          -0.03245256350193016,
          0.08132331481510324,
          0.03009240754554062,
          0.019244612466853477,
          0.0858893115823338,
          0.10764161246078909,
          0.013074339198127363,
          0.09833716955537057,
          0.07306883640002702,
          0.0625471438264731,
          0.08064871239262032,
          0.010873432494382744,
          0.026594031458345106,
          0.005350933039054095,
          0.04928167151652189,
          0.0949276946606239,
          0.0759159046547086,
          0.019187181457593967,
          0.08228413010513923,
          0.07423079012358903,
          0.11166804383065737,
          0.04764720757889106,
          0.02558649119321524,
          0.058254292523370776,
          0.0751934361186919,
          0.03751466839761019,
          0.11095871193645981,
          0.04951396550829598,
          0.046318042159084846,
          0.08959852607449718,
          0.10087185950208563,
          0.09419838039726425,
          0.08453122855772387,
          0.1365591916483039,
          0.06905934246871515,
          -0.005863090952778341,
          0.07936308762978637,
          0.05432415327749057,
          0.11625005719232227,
          0.05461549746330067,
          0.004145843059568126,
          0.017073377291410008,
          0.0972886108547391,
          0.0743609922030344,
          0.09658278388867456,
          0.075625450810768,
          0.07038204206357086,
          0.048273466072359765,
          0.023066612206051378,
          0.038226562627188994,
          0.07999644761290899,
          0.13069080786571646,
          -0.013509050245877518,
          0.1292249984522273,
          0.0992089400338701,
          0.06756170678927087
         ]
        },
        {
         "hovertemplate": "color=4<br>x=%{x}<br>y=%{y}<br>z=%{z}<extra></extra>",
         "legendgroup": "4",
         "marker": {
          "color": "#ab63fa",
          "symbol": "circle"
         },
         "mode": "markers",
         "name": "4",
         "scene": "scene",
         "showlegend": true,
         "type": "scatter3d",
         "x": [
          -0.07532990940019034,
          -0.11888249440694755,
          -0.09339926156041947,
          -0.14268928156251764,
          -0.13380287389294265,
          -0.08027293663770975,
          -0.1686767809146675,
          -0.15506055923973638,
          -0.11525828448960844,
          -0.14164299815532286,
          -0.14883194936659552,
          -0.11865572294062261,
          -0.12023150708791218,
          -0.11944647115662295,
          -0.11951250127393348,
          -0.13946312169260913,
          -0.15255478356756308,
          -0.13766402244604634,
          -0.2144313208499269,
          -0.13001653816019768,
          -0.18741134832941023,
          -0.12822587037901695,
          -0.06187634265832028,
          -0.11786700723212355,
          -0.10780523636747061,
          -0.16244656188068662,
          -0.12988613802306959,
          -0.16397281014640117,
          -0.17541245143584988,
          -0.20073565376242108,
          -0.08119572019814048,
          -0.09972111335369091,
          -0.13141035040773055,
          -0.11271863634222931,
          -0.15415640707237882,
          -0.1088663784451231,
          -0.11860735836815801,
          -0.1422847879121366,
          -0.11234668331229138,
          -0.12748164581329535,
          -0.07841042947183861,
          -0.12543519625153832,
          -0.1544748416624535,
          -0.15636234297648152,
          -0.11263627316691761,
          -0.15205769920138362,
          -0.10240904984618235,
          -0.12594172468568346,
          -0.0844218289664484,
          -0.08452941263767075,
          -0.08823442782691966,
          -0.1650880427883577,
          -0.0472671281014999,
          -0.12443555239788981,
          -0.061644931959958814,
          -0.06909390306544311,
          -0.1299609562525362
         ],
         "y": [
          0.07285698140340258,
          0.12680109979301787,
          0.14731727896336722,
          0.17473510811239043,
          0.10650682616334022,
          0.08723208552235993,
          0.18345244519389317,
          0.109183672020348,
          -0.0004414184010873408,
          0.1596437574530024,
          0.15473131484358746,
          0.16223953417474288,
          0.1982044990717899,
          0.14841486174908408,
          0.15890085471964965,
          0.08178265734412912,
          0.12476547678255615,
          0.1969409235246368,
          0.15440231886543013,
          0.20392793364370515,
          0.16276487298901762,
          0.12018767553137776,
          0.08582354519291838,
          0.07344797012129446,
          0.05941294250489488,
          0.15239384554353225,
          0.1065202242336125,
          0.2039443925627238,
          0.18263594647513479,
          0.047252089379816946,
          0.05055492344882145,
          0.0888527439838253,
          0.16992350346379617,
          0.1552459905787859,
          0.21544478692113653,
          0.0624059601343192,
          0.14157680321296565,
          0.22157544757177128,
          0.13604099329896624,
          0.15003459815097922,
          0.06277511462180291,
          0.1632927930583494,
          0.07667533254174215,
          0.20967401751196543,
          0.1900179342554275,
          0.12688682168493784,
          0.1418472281201252,
          0.10194861011452135,
          0.15327151237533027,
          0.08390179955600367,
          0.06790830605145426,
          0.2745144891837233,
          0.0654035014833174,
          0.15322415282302942,
          0.12807646968920514,
          0.09417771878442759,
          0.151893528091916
         ],
         "z": [
          -0.08591717405167043,
          -0.09766074782405279,
          -0.05388396103000997,
          -0.032197833052245196,
          -0.05776513062033659,
          -0.06780443730729,
          -0.05822664774914381,
          -0.03777920666784159,
          -0.09038706027576861,
          -0.051201483978076154,
          -0.01961132886365922,
          -0.02205570747775207,
          0.00824454173237154,
          -0.07325432020349214,
          -0.03019322393859608,
          -0.10438364190065529,
          -0.005139848633549143,
          -0.010967383522000402,
          -0.010716940615369925,
          -0.023626850440437573,
          -0.01835892190203452,
          -0.004382621627419479,
          -0.04048794445240979,
          -0.12151971364087912,
          -0.10041248890001815,
          -0.06414695745407095,
          -0.04414050124204761,
          -0.0296840053173077,
          -0.016299443389779216,
          -0.014847053131432942,
          -0.12641219871374065,
          -0.08738243314459677,
          -0.06333959964181742,
          -0.07798654340369872,
          0.006683964168450463,
          -0.11351030141687611,
          0.045360295571518286,
          -0.02339649906913261,
          -0.06707876715036626,
          -0.054455123155024855,
          -0.08061640009449571,
          -0.07329471361572253,
          -0.0077096562227519875,
          -0.05118743424830491,
          -0.07728062956209875,
          -0.05952587805116028,
          -0.10789886482225934,
          -0.03608039434861604,
          -0.026366269860443433,
          -0.017758568640767212,
          -0.0960326247403296,
          -0.03082945015121276,
          -0.12596176381145704,
          -0.0484038607528392,
          -0.0598420177408633,
          -0.0584562758015481,
          -0.05979370779592054
         ]
        },
        {
         "hovertemplate": "color=0<br>x=%{x}<br>y=%{y}<br>z=%{z}<extra></extra>",
         "legendgroup": "0",
         "marker": {
          "color": "#FFA15A",
          "symbol": "circle"
         },
         "mode": "markers",
         "name": "0",
         "scene": "scene",
         "showlegend": true,
         "type": "scatter3d",
         "x": [
          -0.08137282645764865,
          -0.11536831172253564,
          -0.07164243319587267,
          -0.0795941567446415,
          -0.07150099482951541,
          -0.04758910422088703,
          -0.06316328979126443,
          -0.06900890684180429,
          -0.06378574701296645,
          -0.07970237198652609,
          -0.04163489955990877,
          -0.046731678007016296,
          -0.0917316594177258,
          -0.0643547718809287,
          -0.10486189266897257,
          -0.03569935963999208,
          -0.07172738551783424,
          -0.06458917482728031,
          -0.06489485701548567,
          -0.06817560177621373,
          -0.06579468969728812,
          -0.07331090560260911,
          -0.051580073642829516,
          -0.06721379601971672,
          -0.053474902086661516
         ],
         "y": [
          -0.052117912586952954,
          -0.06911434998422578,
          -0.09020283491441106,
          -0.06599199862935685,
          -0.05042237532996172,
          -0.09095581043857212,
          -0.1461575474556435,
          -0.029110459468126976,
          0.027041300352311136,
          -0.10316460514465442,
          -0.11827111419318355,
          -0.08537472149318888,
          -0.12170500681566579,
          -0.004979257105621896,
          -0.11317902956737147,
          -0.030850506933478256,
          -0.05733114363388758,
          -0.06545162383876194,
          -0.15249004696905882,
          -0.08195711607008616,
          -0.02800050622351456,
          -0.01884330432244729,
          -0.07199030086266174,
          -0.04099046862015641,
          -0.08136519717553985
         ],
         "z": [
          -0.18245280152337806,
          -0.201232648382132,
          -0.16802723417553195,
          -0.16975750417961058,
          -0.09744134855488458,
          -0.16489080133783304,
          -0.16126570298589998,
          -0.12293277978001133,
          -0.10830299787965816,
          -0.15799106703154753,
          -0.13188763922285154,
          -0.10481544069021839,
          -0.14885478943532512,
          -0.15099547078692468,
          -0.1780739584517079,
          -0.10751942754550944,
          -0.1640218505480307,
          -0.1841592251009388,
          -0.21237146731581066,
          -0.1769647818241528,
          -0.14855024775611267,
          -0.1297776293773783,
          -0.12913401463453875,
          -0.10038943839616538,
          -0.16023257542775388
         ]
        },
        {
         "hovertemplate": "color=9<br>x=%{x}<br>y=%{y}<br>z=%{z}<extra></extra>",
         "legendgroup": "9",
         "marker": {
          "color": "#19d3f3",
          "symbol": "circle"
         },
         "mode": "markers",
         "name": "9",
         "scene": "scene",
         "showlegend": true,
         "type": "scatter3d",
         "x": [
          -0.02059018295209373,
          -0.038450301571160805,
          -0.0040497809786207,
          -0.042041611389406805,
          -0.008966553715176673,
          -0.05246954953171422,
          -0.017080392155552123,
          -0.04333741611298774,
          -0.07303685450131385,
          -0.05887069395863385,
          -0.09985161195050535,
          -0.05023550802353867,
          -0.022358340737033643,
          -0.031235605325768967,
          -0.06318832532118035,
          -0.039722992004951274,
          -0.02384576136639657,
          -0.030872267307038136,
          -0.03737360835610548,
          -0.0026834549101628635,
          -0.026947695121200713,
          -0.024150942458959476,
          -0.030284682421942533,
          -0.004609617537589836,
          -0.05335711247277101,
          -0.008258387317592212,
          -0.029093855117798457,
          -0.09416632581215988,
          -0.050577716140255184,
          -0.08165672251766712,
          -0.06479090430669665,
          -0.0207540581803482,
          -0.05260298921065248,
          -0.02765626726788822,
          -0.04077632479120639,
          -0.047195673102947575,
          -0.056114806472077165,
          -0.043329134858545865,
          -0.00376962233153541,
          -0.0215717000757228,
          -0.024703209837839253,
          -0.028520127115606895,
          -0.05720234956447232,
          -0.03810440577645956,
          -0.06379948688991428,
          -0.00599150162532145,
          -0.032691547838096274,
          -0.06075830882040421,
          -0.05584597850717563,
          -0.03767473252479274,
          -0.0023847533565583257,
          -0.024676727035782765,
          -0.024782464925504982,
          -0.08308545654932252,
          -0.03626621738499291,
          -0.051595820130771575,
          -0.10284131010948787,
          -0.0889476180925576,
          -0.005281715348898489,
          -0.0247908326233398,
          -0.04707851980672985,
          -0.036895021542623814
         ],
         "y": [
          -0.022769494701616322,
          -0.022554647839314667,
          -0.04246100762062882,
          0.009342736435274562,
          -0.06166658671675912,
          -0.04107355407122883,
          -0.06354860671480793,
          0.023861063089864076,
          -0.09907958337366614,
          0.00432863782979527,
          -0.05200296212227443,
          -0.0055654562969615915,
          -0.06125923098541427,
          -0.011787449515332551,
          0.010659819232104139,
          -0.05851931009999793,
          -0.030802742450154724,
          -0.007666486006976142,
          -0.004603697923380973,
          0.0174218114730273,
          -0.016648866820693813,
          -0.02768779342388903,
          0.0315375362354155,
          -0.015001980968786726,
          -0.0453150421599518,
          -0.026696261119849643,
          -0.03822937661892623,
          -0.12301797743060695,
          -0.041257564491154246,
          -0.09074362434203981,
          -0.05403315470749961,
          -0.012100214776974538,
          -0.0035147826763936955,
          -0.06605932862399629,
          -0.00466679712000713,
          -0.07220873313613366,
          -0.06930717780912814,
          -0.05421763750911963,
          -0.08737364470924368,
          -0.03449146940685356,
          -0.06911241121026086,
          -0.0812048785736236,
          -0.04981612205712233,
          -0.03968794464190137,
          -0.005514681591194611,
          -0.057319215531017945,
          -0.0015197370315450313,
          -0.017602776985124455,
          -0.013448955551172068,
          0.010629693976871517,
          -0.008517516011173518,
          -0.0005425334659329853,
          -0.03639320617621374,
          0.036789556587674424,
          -0.021838514709677792,
          -0.09480699266822731,
          -0.05552160640468683,
          -0.0007987472700852312,
          -0.033966109372735497,
          -0.0656928459876153,
          0.02239231266327666,
          0.015593684330141274
         ],
         "z": [
          -0.2347810523441608,
          -0.13818083365784242,
          -0.22336754039644077,
          -0.1747424341569928,
          -0.22416120960532343,
          -0.16421193147083804,
          -0.19164248936978048,
          -0.21752813871154802,
          -0.23754063380590068,
          -0.15942151838701485,
          -0.18399651875477435,
          -0.1183155629036496,
          -0.23332777773209717,
          -0.12152777171325455,
          -0.26820491013639575,
          -0.16795939545004107,
          -0.1942860333767171,
          -0.25283480087738525,
          -0.15788233828953696,
          -0.16928643651478176,
          -0.14210435534599877,
          -0.18434177257748113,
          -0.14971715348859116,
          -0.26199383560405837,
          -0.28938009901925643,
          -0.23937243662820348,
          -0.2994956773913671,
          -0.17545959834286654,
          -0.2442432489393074,
          -0.2531337625878227,
          -0.14602077875699923,
          -0.30198436957066865,
          -0.18442825914094377,
          -0.24738410869618035,
          -0.25711773165012103,
          -0.2407445659701638,
          -0.11909521652628409,
          -0.17133337987903083,
          -0.1547078724740622,
          -0.24791448693449278,
          -0.22662311875686605,
          -0.2959215887319314,
          -0.18058267208975484,
          -0.2079841375633376,
          -0.20872964979712758,
          -0.24868333344917556,
          -0.18020477932895637,
          -0.22171429507790652,
          -0.19066191020263107,
          -0.24670664099819617,
          -0.23040688785763602,
          -0.15261977182467487,
          -0.2721421141776575,
          -0.20893184509122353,
          -0.1888844324804712,
          -0.28870039346134135,
          -0.20309885441902303,
          -0.2052677476788233,
          -0.20962768598008633,
          -0.2771818420197668,
          -0.20359962763860068,
          -0.23397518085862742
         ]
        },
        {
         "hovertemplate": "color=7<br>x=%{x}<br>y=%{y}<br>z=%{z}<extra></extra>",
         "legendgroup": "7",
         "marker": {
          "color": "#FF6692",
          "symbol": "circle"
         },
         "mode": "markers",
         "name": "7",
         "scene": "scene",
         "showlegend": true,
         "type": "scatter3d",
         "x": [
          -0.17578409326126732,
          -0.22776554620814746,
          -0.21267302373640984,
          -0.15330283541637021,
          -0.15762283779711628,
          -0.2055267246899414,
          -0.14881030297695463,
          -0.14045529819643304,
          -0.21738815505089368,
          -0.19197648012414,
          -0.2306980672205695,
          -0.23079115881218407,
          -0.1783049693949431,
          -0.21292562076428095,
          -0.1705555937505728,
          -0.21007804405231995,
          -0.21540323925894714,
          -0.23389963658087987,
          -0.17180435156407778,
          -0.232877363734383,
          -0.1504437638268969,
          -0.2806823210789406,
          -0.14198933143093476,
          -0.12671204563022995,
          -0.2630717417867041,
          -0.22356571493736205,
          -0.17665254303267575,
          -0.22304282161800162,
          -0.07806858944648527,
          -0.16827408193810572,
          -0.13312983698404673,
          -0.23627448500058687,
          -0.12620104335868676,
          -0.13620258142571398,
          -0.2418463965980388,
          -0.14909332028510497,
          -0.16496027122065252,
          -0.14445243866551188,
          -0.2108313177806703,
          -0.15696977059269157,
          -0.23656498783370486,
          -0.1800306723152302,
          -0.21850083367476666,
          -0.27367130042860055,
          -0.13244174288460558,
          -0.1823877547146676,
          -0.18310212508424611,
          -0.13973148212903944,
          -0.1843111240703903,
          -0.1617958243415012,
          -0.2125466156099274,
          -0.17560064710781298,
          -0.2490069583492559,
          -0.1674245604475343
         ],
         "y": [
          -0.2135850367380019,
          -0.2518201347793846,
          -0.30789924163724935,
          -0.19061024757987804,
          -0.23689428122185854,
          -0.1995187095690977,
          -0.23350610975994804,
          -0.1359192616497346,
          -0.27440917274322263,
          -0.22150862204452915,
          -0.311930601324559,
          -0.2622353605371461,
          -0.202294937858966,
          -0.24057672531826527,
          -0.2726576053509005,
          -0.2439110475146636,
          -0.29663517299131803,
          -0.31801828863003334,
          -0.25852211352157817,
          -0.3256324901508565,
          -0.13150134636344216,
          -0.33723940389814056,
          -0.22015132925818265,
          -0.1684640314716398,
          -0.2366137937379456,
          -0.3308577083187589,
          -0.27899437062598736,
          -0.2998266704377151,
          -0.11053497574580204,
          -0.308906870708375,
          -0.24823027550905008,
          -0.2991381195842487,
          -0.2068100256277813,
          -0.21762663621281994,
          -0.3556777429262207,
          -0.23020447368853006,
          -0.22459650270968692,
          -0.19065147716208292,
          -0.3114017260039111,
          -0.18418764787725805,
          -0.3098793606671687,
          -0.26607978191086396,
          -0.2513475835033607,
          -0.22329329619183344,
          -0.18089555193061269,
          -0.2644462147288244,
          -0.21548078758765132,
          -0.15300722900221425,
          -0.2585885935603512,
          -0.21594381021675607,
          -0.2325618718871378,
          -0.16359767750084886,
          -0.3382634263839178,
          -0.17551433264175287
         ],
         "z": [
          0.32700726632067345,
          0.39284727530744157,
          0.43665775047719907,
          0.2331401572559829,
          0.3113805498761727,
          0.33310651148230574,
          0.2622548416662525,
          0.22313723414688288,
          0.34975001577367487,
          0.35188426538002615,
          0.4652530475656776,
          0.3758014445886746,
          0.27926626358287043,
          0.3304180858980025,
          0.32863749716430446,
          0.3263230885915927,
          0.3112173581598405,
          0.37586091332117405,
          0.22792650015634786,
          0.41370976601683546,
          0.24805125475718595,
          0.40975783570143287,
          0.2368696603726173,
          0.23637589346026183,
          0.41605880254129124,
          0.46767165130463745,
          0.3489685011632504,
          0.45179919632875776,
          0.16191287537295898,
          0.31165814677406517,
          0.247063099839801,
          0.41615022082768727,
          0.26187050209451224,
          0.21356012931849042,
          0.4818636057884522,
          0.21652168424787632,
          0.31550543221068544,
          0.2851149866262682,
          0.45314442058180493,
          0.1865905423644583,
          0.36130417039566426,
          0.2996174753684163,
          0.30340044117901654,
          0.3610661399735417,
          0.23832850543451398,
          0.263415194345387,
          0.31196376614570626,
          0.1618986647244602,
          0.38964885159510904,
          0.2109090206253035,
          0.3702580745857602,
          0.1961502577622857,
          0.4692581371500721,
          0.22200485032764644
         ]
        },
        {
         "hovertemplate": "color=8<br>x=%{x}<br>y=%{y}<br>z=%{z}<extra></extra>",
         "legendgroup": "8",
         "marker": {
          "color": "#B6E880",
          "symbol": "circle"
         },
         "mode": "markers",
         "name": "8",
         "scene": "scene",
         "showlegend": true,
         "type": "scatter3d",
         "x": [
          -0.22636383848390598,
          -0.18989103541043686,
          -0.19555077235814963,
          -0.20162039633490736,
          -0.12581243104937914,
          -0.21021381166694422,
          -0.2043299491970991,
          -0.19775330478917097,
          -0.21913942432059996,
          -0.18102410078967482,
          -0.23563827148575817,
          -0.19049377610342366,
          -0.20199478196346612,
          -0.1436274814300999,
          -0.23103544699415002,
          -0.15702836049184238,
          -0.15540539796011996,
          -0.18519614128242912,
          -0.18777181486908245,
          -0.16029528219386777,
          -0.24083885486237128,
          -0.1811821551540604,
          -0.2448128945603905,
          -0.19737595358575757,
          -0.19626398791062313,
          -0.21088949300392268,
          -0.16115781611858523,
          -0.15345634556249735,
          -0.1856698626362304,
          -0.2184028490971097,
          -0.2024172315343363,
          -0.2363720730337009,
          -0.21245347816466736,
          -0.24586599252104113,
          -0.19294832627544262,
          -0.17597999649322116,
          -0.15445803691346993,
          -0.1719629788798809,
          -0.1627127299274212,
          -0.1817225636464843,
          -0.19725651505936942,
          -0.2181969376926044,
          -0.24429253692232994,
          -0.19521924235775434,
          -0.22629988578423593,
          -0.19375101862768626,
          -0.20707353967197645,
          -0.16520622003393454,
          -0.18440086986652518
         ],
         "y": [
          0.39638637433524526,
          0.5168714085002549,
          0.4588395885648993,
          0.3359231314417136,
          0.2997460693732968,
          0.4633501068024074,
          0.36525605139791834,
          0.3691783763011043,
          0.497127498861601,
          0.3152562343653995,
          0.4810671620595993,
          0.28782486789600864,
          0.5065842984842988,
          0.2038638398732245,
          0.3903051628932868,
          0.4670226335516093,
          0.3575986844084193,
          0.3201079122026728,
          0.49241669533779847,
          0.38976991139635897,
          0.567891538719784,
          0.41592065306967596,
          0.5219606240593818,
          0.4468436129109127,
          0.49100238692917775,
          0.5071704669323145,
          0.3125683572274031,
          0.36565725341331157,
          0.4425224715210228,
          0.38958278021760306,
          0.34493896474787733,
          0.4612991821565563,
          0.3687052187909037,
          0.48831349706219723,
          0.36992267323523553,
          0.3122910385659371,
          0.3684450170757872,
          0.44824690004617274,
          0.36389728837734747,
          0.40590246146473824,
          0.33039986226127405,
          0.5276886975310098,
          0.5575907665050351,
          0.3964210513621308,
          0.4964455801771716,
          0.4751209685546079,
          0.39305440410616543,
          0.30928784245865065,
          0.41370538751048397
         ],
         "z": [
          0.14391135224502175,
          0.18817253813779444,
          0.15553626142178004,
          0.06988492790063401,
          0.13364526808428048,
          0.14112434925843753,
          0.11422256294201748,
          0.14079490190157015,
          0.1540115773017176,
          0.09542613342472471,
          0.16536693474709432,
          0.058161636727705454,
          0.15768375549028638,
          0.004176063529229586,
          0.17039871274454055,
          0.14135893057563534,
          0.06914781313876504,
          0.2155097841151923,
          0.15674028206422755,
          0.08764006620152132,
          0.16209188725690046,
          0.1479289750309082,
          0.1444519858153268,
          0.12698500437501214,
          0.15957801268569902,
          0.16074999288021227,
          0.0898956811714899,
          0.03619562572674745,
          0.11304938152667565,
          0.11042459631343131,
          0.12649389255202842,
          0.13437328814798766,
          0.12500539248749942,
          0.1204972341281747,
          0.11857146658505069,
          0.11106089678611815,
          0.11565702442754196,
          0.10185037899051748,
          0.12297036246410328,
          0.1829540903981386,
          0.06554597843967082,
          0.18008957106006543,
          0.18547889318668373,
          0.10194349164952501,
          0.16416250989070405,
          0.1634699469511103,
          0.09291972912877733,
          0.08466073072416619,
          0.079732677114648
         ]
        },
        {
         "hovertemplate": "color=2<br>x=%{x}<br>y=%{y}<br>z=%{z}<extra></extra>",
         "legendgroup": "2",
         "marker": {
          "color": "#FF97FF",
          "symbol": "circle"
         },
         "mode": "markers",
         "name": "2",
         "scene": "scene",
         "showlegend": true,
         "type": "scatter3d",
         "x": [
          -0.13496492874678645,
          -0.23114262024958437,
          -0.188445356564783,
          -0.22121953031631986,
          -0.16107243973995242,
          -0.19286321624230943,
          -0.09559431005323427,
          -0.11669601416186633,
          -0.12390351325535501,
          -0.17018599951516525,
          -0.13591675845882345,
          -0.19693927629805885,
          -0.24339526026986288,
          -0.15460311527294582,
          -0.15987590398677548,
          -0.268522773966053,
          -0.13633901046349242
         ],
         "y": [
          -0.2009378279397782,
          -0.3031177481580668,
          -0.23076232071525807,
          -0.15870358009204039,
          -0.06578140431030662,
          -0.17933030409160242,
          -0.12613464786629078,
          0.010672188386029721,
          -0.08588618492882237,
          -0.20723736701850695,
          -0.09762378659090239,
          -0.09161408381276001,
          -0.1912629622572493,
          -0.05660653179346905,
          -0.10215120616239474,
          -0.20173617002932898,
          -0.09508475756266281
         ],
         "z": [
          0.23757161753786854,
          0.32195108326547534,
          0.2693222184266429,
          0.28322702927931903,
          0.1872333573422573,
          0.2517226397794495,
          0.12447794565830071,
          0.13733925128666072,
          0.11570875768520865,
          0.15629076954340218,
          0.03412977193512136,
          0.19764220969210636,
          0.25918021271016745,
          0.17691502013785718,
          0.24785755597430753,
          0.257108863690903,
          0.19259922495675866
         ]
        },
        {
         "hovertemplate": "color=1<br>x=%{x}<br>y=%{y}<br>z=%{z}<extra></extra>",
         "legendgroup": "1",
         "marker": {
          "color": "#FECB52",
          "symbol": "circle"
         },
         "mode": "markers",
         "name": "1",
         "scene": "scene",
         "showlegend": true,
         "type": "scatter3d",
         "x": [
          -0.03835213226121302,
          -0.0222025979128557,
          -0.006038055885969484,
          -0.05005681821037121
         ],
         "y": [
          -0.01811135002368648,
          -0.14873305783908455,
          -0.07446568091334768,
          -0.1132722118400746
         ],
         "z": [
          -0.048196699900774555,
          -0.08108227538210522,
          0.05978712362392434,
          -0.03566339834664472
         ]
        }
       ],
       "layout": {
        "height": 400,
        "legend": {
         "title": {
          "text": "color"
         },
         "tracegroupgap": 0
        },
        "scene": {
         "domain": {
          "x": [
           0,
           1
          ],
          "y": [
           0,
           1
          ]
         },
         "xaxis": {
          "title": {
           "text": "c_1"
          }
         },
         "yaxis": {
          "title": {
           "text": "c_2"
          }
         },
         "zaxis": {
          "title": {
           "text": "c_3"
          }
         }
        },
        "template": {
         "data": {
          "bar": [
           {
            "error_x": {
             "color": "#2a3f5f"
            },
            "error_y": {
             "color": "#2a3f5f"
            },
            "marker": {
             "line": {
              "color": "#E5ECF6",
              "width": 0.5
             },
             "pattern": {
              "fillmode": "overlay",
              "size": 10,
              "solidity": 0.2
             }
            },
            "type": "bar"
           }
          ],
          "barpolar": [
           {
            "marker": {
             "line": {
              "color": "#E5ECF6",
              "width": 0.5
             },
             "pattern": {
              "fillmode": "overlay",
              "size": 10,
              "solidity": 0.2
             }
            },
            "type": "barpolar"
           }
          ],
          "carpet": [
           {
            "aaxis": {
             "endlinecolor": "#2a3f5f",
             "gridcolor": "white",
             "linecolor": "white",
             "minorgridcolor": "white",
             "startlinecolor": "#2a3f5f"
            },
            "baxis": {
             "endlinecolor": "#2a3f5f",
             "gridcolor": "white",
             "linecolor": "white",
             "minorgridcolor": "white",
             "startlinecolor": "#2a3f5f"
            },
            "type": "carpet"
           }
          ],
          "choropleth": [
           {
            "colorbar": {
             "outlinewidth": 0,
             "ticks": ""
            },
            "type": "choropleth"
           }
          ],
          "contour": [
           {
            "colorbar": {
             "outlinewidth": 0,
             "ticks": ""
            },
            "colorscale": [
             [
              0,
              "#0d0887"
             ],
             [
              0.1111111111111111,
              "#46039f"
             ],
             [
              0.2222222222222222,
              "#7201a8"
             ],
             [
              0.3333333333333333,
              "#9c179e"
             ],
             [
              0.4444444444444444,
              "#bd3786"
             ],
             [
              0.5555555555555556,
              "#d8576b"
             ],
             [
              0.6666666666666666,
              "#ed7953"
             ],
             [
              0.7777777777777778,
              "#fb9f3a"
             ],
             [
              0.8888888888888888,
              "#fdca26"
             ],
             [
              1,
              "#f0f921"
             ]
            ],
            "type": "contour"
           }
          ],
          "contourcarpet": [
           {
            "colorbar": {
             "outlinewidth": 0,
             "ticks": ""
            },
            "type": "contourcarpet"
           }
          ],
          "heatmap": [
           {
            "colorbar": {
             "outlinewidth": 0,
             "ticks": ""
            },
            "colorscale": [
             [
              0,
              "#0d0887"
             ],
             [
              0.1111111111111111,
              "#46039f"
             ],
             [
              0.2222222222222222,
              "#7201a8"
             ],
             [
              0.3333333333333333,
              "#9c179e"
             ],
             [
              0.4444444444444444,
              "#bd3786"
             ],
             [
              0.5555555555555556,
              "#d8576b"
             ],
             [
              0.6666666666666666,
              "#ed7953"
             ],
             [
              0.7777777777777778,
              "#fb9f3a"
             ],
             [
              0.8888888888888888,
              "#fdca26"
             ],
             [
              1,
              "#f0f921"
             ]
            ],
            "type": "heatmap"
           }
          ],
          "heatmapgl": [
           {
            "colorbar": {
             "outlinewidth": 0,
             "ticks": ""
            },
            "colorscale": [
             [
              0,
              "#0d0887"
             ],
             [
              0.1111111111111111,
              "#46039f"
             ],
             [
              0.2222222222222222,
              "#7201a8"
             ],
             [
              0.3333333333333333,
              "#9c179e"
             ],
             [
              0.4444444444444444,
              "#bd3786"
             ],
             [
              0.5555555555555556,
              "#d8576b"
             ],
             [
              0.6666666666666666,
              "#ed7953"
             ],
             [
              0.7777777777777778,
              "#fb9f3a"
             ],
             [
              0.8888888888888888,
              "#fdca26"
             ],
             [
              1,
              "#f0f921"
             ]
            ],
            "type": "heatmapgl"
           }
          ],
          "histogram": [
           {
            "marker": {
             "pattern": {
              "fillmode": "overlay",
              "size": 10,
              "solidity": 0.2
             }
            },
            "type": "histogram"
           }
          ],
          "histogram2d": [
           {
            "colorbar": {
             "outlinewidth": 0,
             "ticks": ""
            },
            "colorscale": [
             [
              0,
              "#0d0887"
             ],
             [
              0.1111111111111111,
              "#46039f"
             ],
             [
              0.2222222222222222,
              "#7201a8"
             ],
             [
              0.3333333333333333,
              "#9c179e"
             ],
             [
              0.4444444444444444,
              "#bd3786"
             ],
             [
              0.5555555555555556,
              "#d8576b"
             ],
             [
              0.6666666666666666,
              "#ed7953"
             ],
             [
              0.7777777777777778,
              "#fb9f3a"
             ],
             [
              0.8888888888888888,
              "#fdca26"
             ],
             [
              1,
              "#f0f921"
             ]
            ],
            "type": "histogram2d"
           }
          ],
          "histogram2dcontour": [
           {
            "colorbar": {
             "outlinewidth": 0,
             "ticks": ""
            },
            "colorscale": [
             [
              0,
              "#0d0887"
             ],
             [
              0.1111111111111111,
              "#46039f"
             ],
             [
              0.2222222222222222,
              "#7201a8"
             ],
             [
              0.3333333333333333,
              "#9c179e"
             ],
             [
              0.4444444444444444,
              "#bd3786"
             ],
             [
              0.5555555555555556,
              "#d8576b"
             ],
             [
              0.6666666666666666,
              "#ed7953"
             ],
             [
              0.7777777777777778,
              "#fb9f3a"
             ],
             [
              0.8888888888888888,
              "#fdca26"
             ],
             [
              1,
              "#f0f921"
             ]
            ],
            "type": "histogram2dcontour"
           }
          ],
          "mesh3d": [
           {
            "colorbar": {
             "outlinewidth": 0,
             "ticks": ""
            },
            "type": "mesh3d"
           }
          ],
          "parcoords": [
           {
            "line": {
             "colorbar": {
              "outlinewidth": 0,
              "ticks": ""
             }
            },
            "type": "parcoords"
           }
          ],
          "pie": [
           {
            "automargin": true,
            "type": "pie"
           }
          ],
          "scatter": [
           {
            "fillpattern": {
             "fillmode": "overlay",
             "size": 10,
             "solidity": 0.2
            },
            "type": "scatter"
           }
          ],
          "scatter3d": [
           {
            "line": {
             "colorbar": {
              "outlinewidth": 0,
              "ticks": ""
             }
            },
            "marker": {
             "colorbar": {
              "outlinewidth": 0,
              "ticks": ""
             }
            },
            "type": "scatter3d"
           }
          ],
          "scattercarpet": [
           {
            "marker": {
             "colorbar": {
              "outlinewidth": 0,
              "ticks": ""
             }
            },
            "type": "scattercarpet"
           }
          ],
          "scattergeo": [
           {
            "marker": {
             "colorbar": {
              "outlinewidth": 0,
              "ticks": ""
             }
            },
            "type": "scattergeo"
           }
          ],
          "scattergl": [
           {
            "marker": {
             "colorbar": {
              "outlinewidth": 0,
              "ticks": ""
             }
            },
            "type": "scattergl"
           }
          ],
          "scattermapbox": [
           {
            "marker": {
             "colorbar": {
              "outlinewidth": 0,
              "ticks": ""
             }
            },
            "type": "scattermapbox"
           }
          ],
          "scatterpolar": [
           {
            "marker": {
             "colorbar": {
              "outlinewidth": 0,
              "ticks": ""
             }
            },
            "type": "scatterpolar"
           }
          ],
          "scatterpolargl": [
           {
            "marker": {
             "colorbar": {
              "outlinewidth": 0,
              "ticks": ""
             }
            },
            "type": "scatterpolargl"
           }
          ],
          "scatterternary": [
           {
            "marker": {
             "colorbar": {
              "outlinewidth": 0,
              "ticks": ""
             }
            },
            "type": "scatterternary"
           }
          ],
          "surface": [
           {
            "colorbar": {
             "outlinewidth": 0,
             "ticks": ""
            },
            "colorscale": [
             [
              0,
              "#0d0887"
             ],
             [
              0.1111111111111111,
              "#46039f"
             ],
             [
              0.2222222222222222,
              "#7201a8"
             ],
             [
              0.3333333333333333,
              "#9c179e"
             ],
             [
              0.4444444444444444,
              "#bd3786"
             ],
             [
              0.5555555555555556,
              "#d8576b"
             ],
             [
              0.6666666666666666,
              "#ed7953"
             ],
             [
              0.7777777777777778,
              "#fb9f3a"
             ],
             [
              0.8888888888888888,
              "#fdca26"
             ],
             [
              1,
              "#f0f921"
             ]
            ],
            "type": "surface"
           }
          ],
          "table": [
           {
            "cells": {
             "fill": {
              "color": "#EBF0F8"
             },
             "line": {
              "color": "white"
             }
            },
            "header": {
             "fill": {
              "color": "#C8D4E3"
             },
             "line": {
              "color": "white"
             }
            },
            "type": "table"
           }
          ]
         },
         "layout": {
          "annotationdefaults": {
           "arrowcolor": "#2a3f5f",
           "arrowhead": 0,
           "arrowwidth": 1
          },
          "autotypenumbers": "strict",
          "coloraxis": {
           "colorbar": {
            "outlinewidth": 0,
            "ticks": ""
           }
          },
          "colorscale": {
           "diverging": [
            [
             0,
             "#8e0152"
            ],
            [
             0.1,
             "#c51b7d"
            ],
            [
             0.2,
             "#de77ae"
            ],
            [
             0.3,
             "#f1b6da"
            ],
            [
             0.4,
             "#fde0ef"
            ],
            [
             0.5,
             "#f7f7f7"
            ],
            [
             0.6,
             "#e6f5d0"
            ],
            [
             0.7,
             "#b8e186"
            ],
            [
             0.8,
             "#7fbc41"
            ],
            [
             0.9,
             "#4d9221"
            ],
            [
             1,
             "#276419"
            ]
           ],
           "sequential": [
            [
             0,
             "#0d0887"
            ],
            [
             0.1111111111111111,
             "#46039f"
            ],
            [
             0.2222222222222222,
             "#7201a8"
            ],
            [
             0.3333333333333333,
             "#9c179e"
            ],
            [
             0.4444444444444444,
             "#bd3786"
            ],
            [
             0.5555555555555556,
             "#d8576b"
            ],
            [
             0.6666666666666666,
             "#ed7953"
            ],
            [
             0.7777777777777778,
             "#fb9f3a"
            ],
            [
             0.8888888888888888,
             "#fdca26"
            ],
            [
             1,
             "#f0f921"
            ]
           ],
           "sequentialminus": [
            [
             0,
             "#0d0887"
            ],
            [
             0.1111111111111111,
             "#46039f"
            ],
            [
             0.2222222222222222,
             "#7201a8"
            ],
            [
             0.3333333333333333,
             "#9c179e"
            ],
            [
             0.4444444444444444,
             "#bd3786"
            ],
            [
             0.5555555555555556,
             "#d8576b"
            ],
            [
             0.6666666666666666,
             "#ed7953"
            ],
            [
             0.7777777777777778,
             "#fb9f3a"
            ],
            [
             0.8888888888888888,
             "#fdca26"
            ],
            [
             1,
             "#f0f921"
            ]
           ]
          },
          "colorway": [
           "#636efa",
           "#EF553B",
           "#00cc96",
           "#ab63fa",
           "#FFA15A",
           "#19d3f3",
           "#FF6692",
           "#B6E880",
           "#FF97FF",
           "#FECB52"
          ],
          "font": {
           "color": "#2a3f5f"
          },
          "geo": {
           "bgcolor": "white",
           "lakecolor": "white",
           "landcolor": "#E5ECF6",
           "showlakes": true,
           "showland": true,
           "subunitcolor": "white"
          },
          "hoverlabel": {
           "align": "left"
          },
          "hovermode": "closest",
          "mapbox": {
           "style": "light"
          },
          "paper_bgcolor": "white",
          "plot_bgcolor": "#E5ECF6",
          "polar": {
           "angularaxis": {
            "gridcolor": "white",
            "linecolor": "white",
            "ticks": ""
           },
           "bgcolor": "#E5ECF6",
           "radialaxis": {
            "gridcolor": "white",
            "linecolor": "white",
            "ticks": ""
           }
          },
          "scene": {
           "xaxis": {
            "backgroundcolor": "#E5ECF6",
            "gridcolor": "white",
            "gridwidth": 2,
            "linecolor": "white",
            "showbackground": true,
            "ticks": "",
            "zerolinecolor": "white"
           },
           "yaxis": {
            "backgroundcolor": "#E5ECF6",
            "gridcolor": "white",
            "gridwidth": 2,
            "linecolor": "white",
            "showbackground": true,
            "ticks": "",
            "zerolinecolor": "white"
           },
           "zaxis": {
            "backgroundcolor": "#E5ECF6",
            "gridcolor": "white",
            "gridwidth": 2,
            "linecolor": "white",
            "showbackground": true,
            "ticks": "",
            "zerolinecolor": "white"
           }
          },
          "shapedefaults": {
           "line": {
            "color": "#2a3f5f"
           }
          },
          "ternary": {
           "aaxis": {
            "gridcolor": "white",
            "linecolor": "white",
            "ticks": ""
           },
           "baxis": {
            "gridcolor": "white",
            "linecolor": "white",
            "ticks": ""
           },
           "bgcolor": "#E5ECF6",
           "caxis": {
            "gridcolor": "white",
            "linecolor": "white",
            "ticks": ""
           }
          },
          "title": {
           "x": 0.05
          },
          "xaxis": {
           "automargin": true,
           "gridcolor": "white",
           "linecolor": "white",
           "ticks": "",
           "title": {
            "standoff": 15
           },
           "zerolinecolor": "white",
           "zerolinewidth": 2
          },
          "yaxis": {
           "automargin": true,
           "gridcolor": "white",
           "linecolor": "white",
           "ticks": "",
           "title": {
            "standoff": 15
           },
           "zerolinecolor": "white",
           "zerolinewidth": 2
          }
         }
        },
        "title": {
         "text": "PCA_3_comp - 0.087 sec."
        },
        "width": 500
       }
      }
     },
     "metadata": {},
     "output_type": "display_data"
    },
    {
     "data": {
      "application/vnd.plotly.v1+json": {
       "config": {
        "plotlyServerURL": "https://plot.ly"
       },
       "data": [
        {
         "hovertemplate": "color=5<br>x=%{x}<br>y=%{y}<br>z=%{z}<extra></extra>",
         "legendgroup": "5",
         "marker": {
          "color": "#636efa",
          "symbol": "circle"
         },
         "mode": "markers",
         "name": "5",
         "scene": "scene",
         "showlegend": true,
         "type": "scatter3d",
         "x": [
          -2.1763081550598145,
          -0.6110128164291382,
          3.907951593399048,
          3.447758674621582,
          -3.6237404346466064,
          -1.4911359548568726,
          -3.1525957584381104,
          4.543063163757324,
          -4.811989784240723,
          1.8589147329330444,
          2.684117317199707,
          -4.948740005493164,
          1.4824740886688232,
          3.3062987327575684,
          1.8139927387237549,
          -2.484354019165039,
          -2.9135875701904297,
          -1.1790632009506226,
          -1.9449392557144165,
          -6.806625843048096,
          -2.1276988983154297,
          0.11387647688388824,
          -0.4569415748119354,
          -1.280234456062317,
          -5.2041544914245605,
          -4.74718713760376,
          3.272535562515259,
          -3.186089277267456,
          -3.6082706451416016,
          3.580470323562622,
          6.759469509124756,
          1.7513076066970825,
          -1.1291061639785767,
          -2.5939300060272217,
          3.849181652069092,
          0.29705289006233215,
          3.7401206493377686,
          -5.864724159240723,
          -0.6414709091186523,
          1.0932778120040894,
          -6.827314376831055,
          0.5636647939682007,
          -6.270864009857178,
          -0.4784380793571472,
          -7.5584492683410645,
          -1.8072230815887451,
          -4.459347724914551,
          2.8560335636138916,
          -1.629502534866333,
          -5.418729782104492,
          -6.2396345138549805,
          -1.1106191873550415,
          -5.228318691253662,
          2.3419079780578613,
          -5.15549373626709,
          -1.5612571239471436,
          0.3725723922252655,
          1.4798483848571777,
          0.5503891706466675,
          2.651007652282715,
          0.722515881061554,
          -1.3957654237747192,
          -5.760362148284912,
          -1.6573835611343384,
          2.91780686378479,
          -3.2909255027770996,
          1.3675179481506348,
          0.5407907366752625,
          -0.28662991523742676,
          -5.519739151000977,
          -4.030178546905518,
          3.2577016353607178,
          0.40648362040519714,
          -0.7654446363449097,
          -0.6726679801940918,
          0.8858184814453125,
          -2.3647971153259277,
          -2.8635687828063965,
          2.1636478900909424
         ],
         "y": [
          0.7541709542274475,
          -1.364567756652832,
          -1.3204303979873657,
          -3.5449235439300537,
          -3.1119935512542725,
          1.451282024383545,
          -0.38032135367393494,
          -1.4930802583694458,
          -2.035094976425171,
          6.646161079406738,
          0.7742341160774231,
          3.1629116535186768,
          0.5081250667572021,
          -7.234359264373779,
          3.5237042903900146,
          3.5154802799224854,
          -1.560953974723816,
          2.395435094833374,
          -3.445131778717041,
          1.2337626218795776,
          -2.586366891860962,
          -4.83927059173584,
          3.438607692718506,
          -2.018632650375366,
          0.7734231352806091,
          3.0217695236206055,
          -0.36154821515083313,
          0.8750177025794983,
          4.64477014541626,
          4.501467227935791,
          -7.114385604858398,
          -2.407457113265991,
          -1.3532341718673706,
          7.204982280731201,
          -2.7173850536346436,
          -0.9997289776802063,
          0.08090414851903915,
          3.235048770904541,
          0.18379896879196167,
          -7.026186466217041,
          -4.430326461791992,
          -0.46942487359046936,
          -3.4923324584960938,
          8.753986358642578,
          -5.099411487579346,
          7.1935014724731445,
          -1.9338860511779785,
          0.17012126743793488,
          0.6325585246086121,
          -0.29987356066703796,
          -3.142652750015259,
          8.515558242797852,
          -4.708645820617676,
          -0.5978865623474121,
          -1.0630439519882202,
          -1.1415637731552124,
          -6.631890296936035,
          3.187018632888794,
          2.791463851928711,
          -5.75754976272583,
          -2.9802534580230713,
          3.6138625144958496,
          -0.28263458609580994,
          0.8007970452308655,
          -3.673142910003662,
          -5.476956367492676,
          -3.0751466751098633,
          2.69003963470459,
          1.9825981855392456,
          -4.278722286224365,
          1.9659812450408936,
          -6.099129676818848,
          -4.449161529541016,
          -3.455688238143921,
          -4.8781304359436035,
          -2.3864471912384033,
          -3.6157596111297607,
          -0.2564782202243805,
          -1.2434569597244263
         ],
         "z": [
          -1.5161584615707397,
          9.349750518798828,
          -4.763994216918945,
          7.023626804351807,
          0.9559995532035828,
          0.05094137787818909,
          5.577847003936768,
          1.665462613105774,
          2.190568685531616,
          3.1407060623168945,
          11.924558639526367,
          4.751073360443115,
          -1.4861537218093872,
          2.2531023025512695,
          7.424655914306641,
          7.448611736297607,
          -1.7825937271118164,
          7.557432174682617,
          7.813137531280518,
          7.7593231201171875,
          -0.22136415541172028,
          -1.4664673805236816,
          4.781670093536377,
          3.0737462043762207,
          7.317209720611572,
          -1.6035202741622925,
          2.003772735595703,
          1.5714329481124878,
          7.884311199188232,
          4.331404209136963,
          0.10466386377811432,
          6.339229106903076,
          0.9136192202568054,
          4.236526012420654,
          -2.0025994777679443,
          6.311878204345703,
          4.932995319366455,
          2.9860901832580566,
          1.2943720817565918,
          -1.778964877128601,
          9.590343475341797,
          4.613815784454346,
          10.847443580627441,
          2.7285077571868896,
          10.18566608428955,
          2.848395824432373,
          -2.731563091278076,
          3.434734344482422,
          -3.7727737426757812,
          0.4084232747554779,
          7.975162982940674,
          5.042803764343262,
          -5.88712215423584,
          -0.06630591303110123,
          3.439101457595825,
          8.397980690002441,
          5.586090564727783,
          2.591151475906372,
          -1.0313576459884644,
          5.017475128173828,
          -4.670236110687256,
          1.0124399662017822,
          5.446250915527344,
          4.704117774963379,
          2.1254634857177734,
          4.458745956420898,
          -2.417597770690918,
          3.361795425415039,
          8.584986686706543,
          2.8238158226013184,
          1.5124294757843018,
          2.8813347816467285,
          1.5327121019363403,
          -5.062948226928711,
          5.959593772888184,
          1.3033679723739624,
          4.054028034210205,
          8.428136825561523,
          -6.00483512878418
         ]
        },
        {
         "hovertemplate": "color=6<br>x=%{x}<br>y=%{y}<br>z=%{z}<extra></extra>",
         "legendgroup": "6",
         "marker": {
          "color": "#EF553B",
          "symbol": "circle"
         },
         "mode": "markers",
         "name": "6",
         "scene": "scene",
         "showlegend": true,
         "type": "scatter3d",
         "x": [
          5.906730651855469,
          6.805831432342529,
          7.429043769836426,
          7.836421489715576,
          7.6636552810668945,
          5.894839286804199,
          8.209811210632324,
          8.2362699508667,
          5.099794864654541,
          4.182219982147217,
          8.403833389282227,
          5.10720682144165,
          5.217255115509033,
          3.8703317642211914,
          5.301206111907959,
          5.033004283905029,
          5.59893274307251,
          4.806734561920166,
          6.498488426208496,
          6.581803798675537
         ],
         "y": [
          -19.120628356933594,
          -18.912433624267578,
          -15.579237937927246,
          -18.23392677307129,
          -14.404559135437012,
          -16.400653839111328,
          -17.101154327392578,
          -15.737725257873535,
          -18.416175842285156,
          -17.646242141723633,
          -14.910321235656738,
          -14.043123245239258,
          -14.385016441345215,
          -16.92200469970703,
          -14.089354515075684,
          -17.069833755493164,
          -13.986189842224121,
          -17.429243087768555,
          -19.53200912475586,
          -16.8002872467041
         ],
         "z": [
          -2.134669542312622,
          3.5641543865203857,
          -0.8342669606208801,
          -0.3040764033794403,
          -2.3113973140716553,
          -0.2899269759654999,
          1.0294376611709595,
          3.204612970352173,
          0.3789753019809723,
          3.4447739124298096,
          0.9099354147911072,
          0.9821354150772095,
          1.9815263748168945,
          0.9636327624320984,
          -1.1001471281051636,
          -2.038863182067871,
          -3.017202854156494,
          2.1776020526885986,
          1.1735442876815796,
          2.246288537979126
         ]
        },
        {
         "hovertemplate": "color=3<br>x=%{x}<br>y=%{y}<br>z=%{z}<extra></extra>",
         "legendgroup": "3",
         "marker": {
          "color": "#00cc96",
          "symbol": "circle"
         },
         "mode": "markers",
         "name": "3",
         "scene": "scene",
         "showlegend": true,
         "type": "scatter3d",
         "x": [
          11.937313079833984,
          8.924612998962402,
          19.30744171142578,
          19.50411033630371,
          20.518503189086914,
          10.888973236083984,
          15.17138957977295,
          16.78124237060547,
          17.01824188232422,
          18.907329559326172,
          14.490293502807617,
          12.193770408630371,
          23.19534683227539,
          17.693805694580078,
          11.693557739257812,
          22.46196174621582,
          21.545095443725586,
          20.57278060913086,
          11.35410213470459,
          14.594990730285645,
          8.449294090270996,
          10.397139549255371,
          15.403860092163086,
          22.052467346191406,
          14.966075897216797,
          16.68958854675293,
          21.788267135620117,
          9.444801330566406,
          14.975518226623535,
          10.845114707946777,
          12.284954071044922,
          13.152069091796875,
          18.367273330688477,
          15.255525588989258,
          19.179716110229492,
          8.949068069458008,
          20.458049774169922,
          11.96243953704834,
          22.6873836517334,
          21.92898941040039,
          15.118266105651855,
          14.913296699523926,
          9.9876708984375,
          15.272748947143555,
          10.515257835388184,
          17.181570053100586,
          16.038898468017578,
          18.735898971557617,
          21.482580184936523,
          21.346166610717773,
          18.080411911010742,
          14.720450401306152,
          14.951434135437012,
          10.232329368591309,
          17.33681297302246,
          8.805234909057617,
          24.10956382751465,
          8.32554817199707,
          12.784425735473633,
          18.69988441467285,
          12.64852523803711,
          7.86581563949585,
          19.76874351501465,
          18.347997665405273,
          20.195964813232422,
          19.64804458618164,
          17.48248863220215,
          18.9594669342041,
          19.914846420288086,
          18.63932228088379,
          17.025346755981445,
          18.532758712768555,
          15.809447288513184,
          15.17138957977295,
          16.908567428588867,
          12.658760070800781,
          10.660627365112305,
          10.271063804626465,
          20.90937614440918,
          11.590531349182129,
          11.145557403564453,
          18.90926742553711,
          13.298664093017578,
          8.882448196411133,
          10.510281562805176,
          15.378016471862793,
          13.436418533325195,
          17.474393844604492,
          12.82806396484375,
          12.311147689819336,
          14.953929901123047,
          11.672980308532715,
          16.14734649658203,
          15.416742324829102,
          21.814943313598633,
          20.47579574584961,
          17.667591094970703,
          13.777734756469727,
          15.92841625213623,
          15.4241361618042,
          11.08255672454834,
          11.059941291809082,
          15.677337646484375,
          15.78889274597168,
          19.13309097290039,
          21.429418563842773,
          16.380577087402344,
          9.923521995544434,
          17.867568969726562,
          18.726055145263672,
          18.121511459350586,
          19.5769100189209,
          9.127241134643555,
          15.185107231140137,
          15.775073051452637,
          19.550960540771484,
          12.11941146850586,
          21.406757354736328,
          10.513845443725586,
          11.725838661193848,
          12.266334533691406,
          16.247629165649414,
          8.805234909057617,
          22.737943649291992,
          20.20139503479004,
          10.013480186462402,
          14.639458656311035,
          20.313030242919922,
          19.339616775512695,
          14.627974510192871,
          12.063623428344727,
          11.901382446289062,
          13.394378662109375
         ],
         "y": [
          7.84282112121582,
          5.336573600769043,
          8.285627365112305,
          0.27530157566070557,
          5.573705196380615,
          0.42480310797691345,
          -6.114505767822266,
          -2.261023759841919,
          -4.852042198181152,
          0.7544596195220947,
          -0.27727335691452026,
          -4.2044172286987305,
          2.6982834339141846,
          -4.996847629547119,
          -4.3749098777771,
          -3.074444532394409,
          3.5320539474487305,
          3.8811991214752197,
          -7.653002738952637,
          -2.0099387168884277,
          -0.7082965970039368,
          -0.46210214495658875,
          5.6653828620910645,
          0.7390652894973755,
          2.1683638095855713,
          -5.675290107727051,
          2.747527837753296,
          5.943464279174805,
          0.4998449683189392,
          2.8663580417633057,
          -0.9329038858413696,
          -7.917280197143555,
          -6.284969329833984,
          -2.551710844039917,
          3.492908477783203,
          1.9217615127563477,
          -4.78305721282959,
          0.7129302024841309,
          -3.3079636096954346,
          2.2296454906463623,
          0.9495748281478882,
          -2.3184611797332764,
          6.245352268218994,
          2.320793628692627,
          0.48268547654151917,
          -1.118431806564331,
          0.0019280067645013332,
          1.7309578657150269,
          -2.5592517852783203,
          -5.382278919219971,
          4.604942798614502,
          6.343719482421875,
          3.8109958171844482,
          0.1925533413887024,
          -0.3081943690776825,
          -5.3724260330200195,
          0.11217830330133438,
          -7.511381149291992,
          -2.923448324203491,
          -5.594480037689209,
          3.8799524307250977,
          4.124327659606934,
          -3.701634168624878,
          5.756132125854492,
          8.38986587524414,
          6.904599666595459,
          0.9019649028778076,
          3.230236291885376,
          -0.7659392952919006,
          2.8454105854034424,
          1.6875377893447876,
          -0.9791604280471802,
          1.343891978263855,
          -6.114505767822266,
          -3.400023937225342,
          -3.2736587524414062,
          -0.8354331254959106,
          6.664244651794434,
          1.3719998598098755,
          5.183652400970459,
          1.0284318923950195,
          -1.228033423423767,
          7.910070419311523,
          -7.158020973205566,
          -1.2863245010375977,
          4.7798261642456055,
          -3.9307785034179688,
          9.75783920288086,
          1.6181156635284424,
          1.7008049488067627,
          8.818090438842773,
          -5.175280570983887,
          -1.5951107740402222,
          -6.723095893859863,
          -1.0262387990951538,
          -1.8666980266571045,
          8.082179069519043,
          -0.7316212058067322,
          8.954655647277832,
          5.549924850463867,
          -4.869019508361816,
          7.3432297706604,
          4.437628746032715,
          3.86651349067688,
          -2.1328091621398926,
          -3.034106492996216,
          -5.085716724395752,
          3.9964897632598877,
          2.591386079788208,
          4.648605823516846,
          0.06481708586215973,
          -6.071367263793945,
          -8.153813362121582,
          0.7463383674621582,
          -2.4621503353118896,
          2.6819000244140625,
          3.0714900493621826,
          -1.445152759552002,
          -9.051942825317383,
          5.150849342346191,
          -1.862945795059204,
          -4.070784091949463,
          -5.3724260330200195,
          7.140408039093018,
          -4.123310565948486,
          0.5127934813499451,
          4.317929267883301,
          2.9245738983154297,
          -4.527064800262451,
          9.457735061645508,
          -0.7042601704597473,
          4.716802597045898,
          1.6380846500396729
         ],
         "z": [
          -1.8252981901168823,
          1.223067283630371,
          -4.335733890533447,
          0.9349590539932251,
          -6.55589485168457,
          5.6739349365234375,
          -5.634645938873291,
          6.64738130569458,
          -3.862135410308838,
          -4.56097936630249,
          5.362074375152588,
          4.5293378829956055,
          -1.7480592727661133,
          0.9132105708122253,
          1.2754275798797607,
          3.5175559520721436,
          -4.303051948547363,
          -2.7511208057403564,
          4.707427501678467,
          2.1815974712371826,
          -4.288132190704346,
          7.630896091461182,
          -0.714197039604187,
          -0.6538934707641602,
          -5.108855724334717,
          5.264885425567627,
          2.042664051055908,
          -5.723830223083496,
          -4.914133071899414,
          -1.2665761709213257,
          4.829745292663574,
          0.4866614043712616,
          0.43828871846199036,
          -5.596707820892334,
          -9.336313247680664,
          -5.115596294403076,
          -7.360374450683594,
          -6.2531609535217285,
          4.969940185546875,
          -7.711589336395264,
          6.0048136711120605,
          -9.344752311706543,
          1.992899775505066,
          -1.2477500438690186,
          -10.194993019104004,
          -8.42751693725586,
          1.429162621498108,
          6.8401780128479,
          -6.074748516082764,
          -2.564512252807617,
          -3.427579641342163,
          -5.096735954284668,
          -7.517151355743408,
          -1.9501845836639404,
          -10.899057388305664,
          -8.23529052734375,
          0.07922956347465515,
          1.1433618068695068,
          5.319705486297607,
          -4.032517433166504,
          -0.849220871925354,
          -4.944980144500732,
          6.528580188751221,
          -1.567395806312561,
          0.21145400404930115,
          1.8131364583969116,
          -2.5450074672698975,
          4.2262420654296875,
          -4.771043300628662,
          1.7192069292068481,
          -8.01518440246582,
          2.7770888805389404,
          3.221163511276245,
          -5.634645938873291,
          0.3388024568557739,
          -2.7774477005004883,
          2.56201171875,
          4.201923370361328,
          0.8481879830360413,
          -7.084291458129883,
          -9.631124496459961,
          -7.269657611846924,
          -2.7939252853393555,
          1.7884752750396729,
          8.249983787536621,
          2.5151174068450928,
          7.866575717926025,
          -2.235351324081421,
          -2.438685655593872,
          -7.019550800323486,
          1.7270203828811646,
          2.9276349544525146,
          -7.500461578369141,
          -2.0890603065490723,
          6.619762420654297,
          3.0276260375976562,
          -4.430756568908691,
          1.7136626243591309,
          -0.20670071244239807,
          4.028046131134033,
          -2.4414432048797607,
          -0.0897880494594574,
          -4.807587623596191,
          -0.09605930745601654,
          6.3461384773254395,
          -1.736340880393982,
          2.334047317504883,
          -0.682253897190094,
          -0.781212329864502,
          1.38406503200531,
          3.087984561920166,
          4.64610481262207,
          2.971944570541382,
          -0.608904242515564,
          -1.6783169507980347,
          -7.122702121734619,
          3.273169994354248,
          -2.1240196228027344,
          3.234821081161499,
          -5.933241844177246,
          -0.8803015947341919,
          3.8746776580810547,
          -8.23529052734375,
          -0.9335546493530273,
          0.1328555792570114,
          -4.161223411560059,
          -8.783923149108887,
          -5.5955328941345215,
          -8.633774757385254,
          2.6358587741851807,
          0.32942667603492737,
          -3.771131753921509,
          2.6902015209198
         ]
        },
        {
         "hovertemplate": "color=4<br>x=%{x}<br>y=%{y}<br>z=%{z}<extra></extra>",
         "legendgroup": "4",
         "marker": {
          "color": "#ab63fa",
          "symbol": "circle"
         },
         "mode": "markers",
         "name": "4",
         "scene": "scene",
         "showlegend": true,
         "type": "scatter3d",
         "x": [
          -13.02540397644043,
          -7.767070293426514,
          -8.844016075134277,
          -5.397509574890137,
          -8.617471694946289,
          -3.1740427017211914,
          -6.3685526847839355,
          -7.267566204071045,
          -7.895704746246338,
          -11.026193618774414,
          -6.297298431396484,
          -10.63655948638916,
          -11.277220726013184,
          -9.483177185058594,
          -3.6370553970336914,
          -5.5876145362854,
          -5.981122970581055,
          -9.23049259185791,
          -6.520533561706543,
          -12.593798637390137,
          -4.9499006271362305,
          -8.223494529724121,
          -10.71719741821289,
          -3.2546815872192383,
          -4.478087902069092,
          -8.207916259765625,
          -12.041955947875977,
          -8.605563163757324,
          -7.294373035430908,
          -6.664624214172363,
          -2.4192821979522705,
          -6.168075084686279,
          -4.290942192077637,
          -10.41028118133545,
          -11.131708145141602,
          -4.440601348876953,
          -6.196859359741211,
          -10.36579704284668,
          -3.9231085777282715,
          -4.992624282836914,
          -4.39838171005249,
          -2.239345073699951,
          -9.60349178314209,
          -9.042807579040527,
          -9.497912406921387,
          -6.213350296020508,
          -9.497395515441895,
          -5.97321891784668,
          -4.152472019195557,
          -9.278751373291016,
          -1.9078701734542847,
          -9.227584838867188,
          -9.697853088378906,
          -4.08428430557251,
          -7.45450496673584,
          -5.996089935302734,
          -5.433050632476807
         ],
         "y": [
          -11.845904350280762,
          -5.726770401000977,
          -7.647190570831299,
          -8.779584884643555,
          -12.772955894470215,
          -14.867423057556152,
          -9.138370513916016,
          -6.204630374908447,
          -12.28775405883789,
          -12.026477813720703,
          -15.179743766784668,
          -15.224607467651367,
          -8.502649307250977,
          -12.423676490783691,
          -13.728797912597656,
          -13.089555740356445,
          -14.634406089782715,
          -14.815286636352539,
          -10.730795860290527,
          -14.179886817932129,
          -10.816756248474121,
          -10.706574440002441,
          -11.092449188232422,
          -16.24707794189453,
          -15.697038650512695,
          -8.59915542602539,
          -9.355199813842773,
          -15.656495094299316,
          -9.548115730285645,
          -14.254878044128418,
          -13.611515045166016,
          -10.25776195526123,
          -13.132695198059082,
          -16.87113380432129,
          -9.88654899597168,
          -16.89889144897461,
          -7.686977863311768,
          -12.828923225402832,
          -9.544544219970703,
          -9.592296600341797,
          -16.622886657714844,
          -13.175305366516113,
          -12.379684448242188,
          -11.881233215332031,
          -7.935724258422852,
          -13.355324745178223,
          -18.404571533203125,
          -11.868423461914062,
          -18.706029891967773,
          -16.260202407836914,
          -12.430068016052246,
          -12.407962799072266,
          -18.27857208251953,
          -11.934354782104492,
          -15.886470794677734,
          -16.314504623413086,
          -18.620691299438477
         ],
         "z": [
          -0.6770660281181335,
          -2.0969784259796143,
          -3.833738088607788,
          -2.832045078277588,
          4.675015449523926,
          -5.251838684082031,
          -5.918383598327637,
          9.142562866210938,
          6.58477258682251,
          -3.3737099170684814,
          1.3486618995666504,
          -4.99031925201416,
          -1.517320156097412,
          0.6878799200057983,
          -3.4761319160461426,
          -1.2902014255523682,
          -2.690174102783203,
          0.5725624561309814,
          2.4451444149017334,
          -0.044451501220464706,
          -0.38839295506477356,
          -2.6794917583465576,
          3.487441062927246,
          -2.4764091968536377,
          -3.5972156524658203,
          0.21588020026683807,
          -5.729076385498047,
          1.5367814302444458,
          -1.6764106750488281,
          4.28568696975708,
          0.9965111613273621,
          -6.324028015136719,
          -1.3187315464019775,
          -2.9398200511932373,
          -2.6984190940856934,
          -1.6885892152786255,
          -6.4977898597717285,
          -3.9927144050598145,
          -2.118299961090088,
          0.6025631427764893,
          0.696232795715332,
          -0.327822744846344,
          3.4450290203094482,
          -0.5869381427764893,
          -0.8611193299293518,
          -4.496520042419434,
          -0.8618392944335938,
          2.434818744659424,
          -3.6300458908081055,
          -4.754004001617432,
          -4.624514579772949,
          -5.828088283538818,
          1.302545189857483,
          3.306898593902588,
          -1.8659495115280151,
          -4.8686113357543945,
          -1.709426760673523
         ]
        },
        {
         "hovertemplate": "color=0<br>x=%{x}<br>y=%{y}<br>z=%{z}<extra></extra>",
         "legendgroup": "0",
         "marker": {
          "color": "#FFA15A",
          "symbol": "circle"
         },
         "mode": "markers",
         "name": "0",
         "scene": "scene",
         "showlegend": true,
         "type": "scatter3d",
         "x": [
          1.7927441596984863,
          1.9621723890304565,
          4.866385459899902,
          3.6245169639587402,
          6.178944110870361,
          2.541656017303467,
          3.0017969608306885,
          2.7860307693481445,
          6.844430446624756,
          5.740422248840332,
          2.801114797592163,
          0.1680048555135727,
          5.45943021774292,
          5.2671027183532715,
          4.641179084777832,
          1.4420181512832642,
          3.6538593769073486,
          -0.22122648358345032,
          2.5648863315582275,
          2.1030776500701904,
          2.877415418624878,
          5.732893943786621,
          -0.9238818287849426,
          4.84528112411499,
          4.562530040740967
         ],
         "y": [
          6.762221813201904,
          5.4950480461120605,
          9.05237102508545,
          6.939165115356445,
          3.803112506866455,
          7.340721130371094,
          4.409060001373291,
          5.658144950866699,
          8.164922714233398,
          5.010275840759277,
          2.306532859802246,
          3.2826273441314697,
          6.345949172973633,
          6.526925563812256,
          5.831705570220947,
          6.882920742034912,
          9.133027076721191,
          6.429221153259277,
          5.096625328063965,
          7.207923889160156,
          3.16007399559021,
          6.592345714569092,
          5.649760723114014,
          3.4815428256988525,
          3.8093838691711426
         ],
         "z": [
          7.824145317077637,
          14.779237747192383,
          13.111644744873047,
          14.182912826538086,
          9.559433937072754,
          13.797224998474121,
          10.626177787780762,
          15.766446113586426,
          11.173391342163086,
          13.115686416625977,
          12.067397117614746,
          12.011137008666992,
          11.218542098999023,
          9.08079719543457,
          9.630967140197754,
          16.551021575927734,
          11.265763282775879,
          12.256037712097168,
          8.843615531921387,
          10.47605037689209,
          14.102385520935059,
          15.292325019836426,
          13.21121597290039,
          11.484335899353027,
          15.209526062011719
         ]
        },
        {
         "hovertemplate": "color=9<br>x=%{x}<br>y=%{y}<br>z=%{z}<extra></extra>",
         "legendgroup": "9",
         "marker": {
          "color": "#19d3f3",
          "symbol": "circle"
         },
         "mode": "markers",
         "name": "9",
         "scene": "scene",
         "showlegend": true,
         "type": "scatter3d",
         "x": [
          3.402129650115967,
          7.212794303894043,
          -0.052409686148166656,
          3.7582619190216064,
          -4.462925910949707,
          5.300832271575928,
          4.811384677886963,
          0.10017839074134827,
          1.7936699390411377,
          3.0408365726470947,
          -0.8667185306549072,
          -0.814128041267395,
          2.4462172985076904,
          -2.932257652282715,
          1.7151634693145752,
          -0.7993430495262146,
          4.517845630645752,
          4.22053861618042,
          6.336902141571045,
          2.4415507316589355,
          3.3808658123016357,
          -0.9442611932754517,
          3.4931557178497314,
          2.687837600708008,
          -0.6033677458763123,
          4.394580364227295,
          1.889320969581604,
          -1.0948841571807861,
          4.083065986633301,
          0.7479133605957031,
          2.618802309036255,
          0.5755338668823242,
          2.4103055000305176,
          -1.6803618669509888,
          2.4941723346710205,
          -1.3890756368637085,
          0.7733341455459595,
          3.1027371883392334,
          -1.7505897283554077,
          2.2404873371124268,
          -2.3932197093963623,
          -3.4521405696868896,
          6.069244861602783,
          0.4137715995311737,
          -0.5050073862075806,
          1.3396576642990112,
          1.2261375188827515,
          2.318002939224243,
          5.379610061645508,
          2.903712749481201,
          5.168914318084717,
          -0.8008202314376831,
          -1.4842857122421265,
          2.2947559356689453,
          -0.492731511592865,
          -0.45421910285949707,
          -4.504735469818115,
          -1.4397213459014893,
          -2.5886807441711426,
          -3.7587671279907227,
          6.407789707183838,
          2.9774277210235596
         ],
         "y": [
          5.881216049194336,
          8.160768508911133,
          5.59939432144165,
          14.825900077819824,
          5.709904193878174,
          11.0991849899292,
          6.503656387329102,
          4.361424922943115,
          6.942111968994141,
          12.038049697875977,
          4.684917449951172,
          14.31210708618164,
          6.173736572265625,
          13.489628791809082,
          9.320974349975586,
          13.263813972473145,
          12.963589668273926,
          9.133853912353516,
          6.070764541625977,
          13.311030387878418,
          14.923656463623047,
          13.13352108001709,
          6.812389850616455,
          12.735836029052734,
          8.293575286865234,
          10.294371604919434,
          12.216694831848145,
          7.192211627960205,
          12.022709846496582,
          4.716268062591553,
          8.996869087219238,
          10.359868049621582,
          5.440479278564453,
          9.305702209472656,
          7.875473499298096,
          5.146216869354248,
          9.674327850341797,
          5.921655654907227,
          9.202095031738281,
          12.686053276062012,
          11.994081497192383,
          8.391266822814941,
          11.740678787231445,
          11.206286430358887,
          9.587916374206543,
          11.640497207641602,
          13.874690055847168,
          9.405805587768555,
          11.901717185974121,
          8.88081169128418,
          7.594592571258545,
          3.043407678604126,
          11.567813873291016,
          3.0676913261413574,
          5.34489107131958,
          8.195442199707031,
          9.099472045898438,
          6.766982078552246,
          11.138349533081055,
          6.991791725158691,
          8.199061393737793,
          13.909890174865723
         ],
         "z": [
          -15.792694091796875,
          -11.980758666992188,
          -13.490243911743164,
          -4.913517951965332,
          -10.99620246887207,
          -15.474889755249023,
          -14.754941940307617,
          -17.000022888183594,
          -10.531237602233887,
          -2.901465892791748,
          -9.669889450073242,
          -13.82030963897705,
          -11.748188018798828,
          -9.777849197387695,
          -7.997453212738037,
          -7.056988716125488,
          -6.796687602996826,
          -9.321633338928223,
          -15.618387222290039,
          -4.517269611358643,
          -13.469023704528809,
          -10.75808334350586,
          -4.169045925140381,
          -13.093822479248047,
          -13.83256721496582,
          -8.565471649169922,
          -11.158065795898438,
          -7.8208112716674805,
          -14.395737648010254,
          -9.870765686035156,
          -11.95213508605957,
          -14.459155082702637,
          -8.641608238220215,
          -10.774072647094727,
          -15.256036758422852,
          -7.875856399536133,
          -6.936079978942871,
          -13.106840133666992,
          -7.836134910583496,
          -9.920805931091309,
          -6.20899772644043,
          -12.288942337036133,
          -4.777472496032715,
          -9.90749740600586,
          -15.70494556427002,
          -14.536513328552246,
          -5.588583946228027,
          -14.030633926391602,
          -12.076911926269531,
          -6.558033466339111,
          -10.241015434265137,
          -15.531543731689453,
          -13.408637046813965,
          -11.526141166687012,
          -16.865528106689453,
          -11.875154495239258,
          -13.132014274597168,
          -15.472953796386719,
          -10.112342834472656,
          -11.365955352783203,
          -13.295611381530762,
          -5.593080520629883
         ]
        },
        {
         "hovertemplate": "color=7<br>x=%{x}<br>y=%{y}<br>z=%{z}<extra></extra>",
         "legendgroup": "7",
         "marker": {
          "color": "#FF6692",
          "symbol": "circle"
         },
         "mode": "markers",
         "name": "7",
         "scene": "scene",
         "showlegend": true,
         "type": "scatter3d",
         "x": [
          -14.219952583312988,
          -20.891523361206055,
          -21.205768585205078,
          -17.690650939941406,
          -22.59345054626465,
          -22.93039894104004,
          -18.235401153564453,
          -23.583641052246094,
          -22.98516082763672,
          -22.209394454956055,
          -19.809560775756836,
          -19.93299674987793,
          -22.595176696777344,
          -15.454414367675781,
          -23.544139862060547,
          -15.427616119384766,
          -24.628507614135742,
          -18.178743362426758,
          -16.761137008666992,
          -19.348188400268555,
          -21.199546813964844,
          -19.30950927734375,
          -23.408056259155273,
          -15.367380142211914,
          -16.34237289428711,
          -19.15663719177246,
          -21.5247859954834,
          -21.774627685546875,
          -18.588014602661133,
          -19.457494735717773,
          -13.606069564819336,
          -20.78828239440918,
          -25.875268936157227,
          -22.553071975708008,
          -19.99737548828125,
          -16.035104751586914,
          -19.541061401367188,
          -24.18048667907715,
          -21.842573165893555,
          -16.362728118896484,
          -17.184070587158203,
          -19.794349670410156,
          -16.064319610595703,
          -14.872138023376465,
          -14.062918663024902,
          -19.317245483398438,
          -18.341211318969727,
          -22.600191116333008,
          -20.35916519165039,
          -25.17634391784668,
          -17.385744094848633,
          -16.077301025390625,
          -17.781497955322266,
          -22.270994186401367
         ],
         "y": [
          0.3167864978313446,
          -4.096102237701416,
          -1.095742106437683,
          -3.6160852909088135,
          3.088712692260742,
          -3.8276448249816895,
          2.9550440311431885,
          1.8944611549377441,
          1.2505306005477905,
          -4.152420520782471,
          -0.37180042266845703,
          1.3802909851074219,
          0.7111418843269348,
          1.1434520483016968,
          1.1849524974822998,
          -3.5825159549713135,
          -0.9315187335014343,
          -3.272573232650757,
          -0.003772892290726304,
          -1.4837870597839355,
          0.9732349514961243,
          -4.303868770599365,
          1.1830623149871826,
          -5.303594589233398,
          -1.8091691732406616,
          1.2142832279205322,
          -4.0850982666015625,
          -2.614882230758667,
          0.6084949374198914,
          -0.3006553053855896,
          -1.4989386796951294,
          1.764447569847107,
          1.3404754400253296,
          -1.4305704832077026,
          -2.148118257522583,
          -6.284353733062744,
          -4.091263771057129,
          -1.2788575887680054,
          -1.4664870500564575,
          2.5603833198547363,
          -0.2515498399734497,
          -6.806785583496094,
          1.8533835411071777,
          -1.208999752998352,
          -2.0960299968719482,
          1.7677725553512573,
          0.042768001556396484,
          -3.407057523727417,
          2.4230446815490723,
          -2.882206439971924,
          1.2774958610534668,
          -3.491492986679077,
          -1.29535973072052,
          -1.0519847869873047
         ],
         "z": [
          1.8393073081970215,
          3.9972808361053467,
          -0.3008880019187927,
          -3.5941855907440186,
          5.7322282791137695,
          3.2689685821533203,
          3.7633399963378906,
          -0.1396656036376953,
          1.6686445474624634,
          -0.39791983366012573,
          1.508420705795288,
          -0.010297124274075031,
          8.372358322143555,
          6.300580024719238,
          3.5619547367095947,
          -0.8152730464935303,
          5.022632122039795,
          2.0482754707336426,
          8.409762382507324,
          3.6016345024108887,
          9.884895324707031,
          4.040189743041992,
          7.080929279327393,
          -0.08804523199796677,
          0.7642855644226074,
          3.2639448642730713,
          6.486073970794678,
          1.0687350034713745,
          -3.868067979812622,
          5.685304164886475,
          3.296823024749756,
          3.178779125213623,
          3.6678783893585205,
          5.166715145111084,
          1.070291519165039,
          1.1435285806655884,
          -0.27160048484802246,
          0.6024987101554871,
          3.075617790222168,
          -0.7310150265693665,
          3.9689273834228516,
          2.564560651779175,
          7.180680274963379,
          1.3523095846176147,
          -1.5668479204177856,
          6.188756942749023,
          -2.0212929248809814,
          7.917816162109375,
          0.9615261554718018,
          4.135282516479492,
          1.2642656564712524,
          -3.4525437355041504,
          2.3995959758758545,
          -2.084261655807495
         ]
        },
        {
         "hovertemplate": "color=8<br>x=%{x}<br>y=%{y}<br>z=%{z}<extra></extra>",
         "legendgroup": "8",
         "marker": {
          "color": "#B6E880",
          "symbol": "circle"
         },
         "mode": "markers",
         "name": "8",
         "scene": "scene",
         "showlegend": true,
         "type": "scatter3d",
         "x": [
          -12.391879081726074,
          -8.614809036254883,
          -9.073097229003906,
          -2.2155587673187256,
          -11.877592086791992,
          -12.478775024414062,
          -7.878383159637451,
          -15.821378707885742,
          -11.224874496459961,
          -15.066099166870117,
          -8.3652925491333,
          -2.416649580001831,
          -8.83735466003418,
          -12.63960075378418,
          -6.984269142150879,
          -10.43598461151123,
          -9.712111473083496,
          -6.322970390319824,
          -10.918341636657715,
          -13.863814353942871,
          -10.383186340332031,
          -6.904143810272217,
          -9.02265453338623,
          -12.906510353088379,
          -13.357823371887207,
          -7.770317554473877,
          -11.98298168182373,
          -10.5352201461792,
          -13.140633583068848,
          -10.394145965576172,
          -14.311278343200684,
          -13.471053123474121,
          -9.94573974609375,
          -13.468493461608887,
          -10.010880470275879,
          -7.360563278198242,
          -10.496432304382324,
          -11.271590232849121,
          -8.124436378479004,
          -14.244401931762695,
          -2.92012619972229,
          -10.720502853393555,
          -11.711127281188965,
          -7.535370826721191,
          -11.406628608703613,
          -10.9537935256958,
          -6.165088176727295,
          -8.628304481506348,
          -9.869399070739746
         ],
         "y": [
          14.059426307678223,
          10.185181617736816,
          14.219687461853027,
          9.927674293518066,
          7.074956893920898,
          9.821823120117188,
          7.343458652496338,
          9.476442337036133,
          12.168563842773438,
          12.37340259552002,
          10.249088287353516,
          9.2312593460083,
          10.129114151000977,
          11.858492851257324,
          15.535606384277344,
          9.644837379455566,
          10.656452178955078,
          14.58188247680664,
          8.002584457397461,
          10.737135887145996,
          12.645934104919434,
          11.399776458740234,
          12.269808769226074,
          8.840600967407227,
          10.883234977722168,
          12.29885196685791,
          6.619887351989746,
          6.584519863128662,
          10.109231948852539,
          7.001255989074707,
          14.303570747375488,
          13.298918724060059,
          14.828166007995605,
          13.235995292663574,
          11.947446823120117,
          8.409499168395996,
          16.893308639526367,
          15.52824878692627,
          13.837027549743652,
          8.264567375183105,
          11.688755989074707,
          10.798830032348633,
          11.151019096374512,
          9.208173751831055,
          13.029417037963867,
          13.573080062866211,
          15.729156494140625,
          16.841352462768555,
          8.863150596618652
         ],
         "z": [
          2.8387930393218994,
          0.09362782537937164,
          1.4472613334655762,
          1.2949072122573853,
          4.286129474639893,
          1.939811110496521,
          -3.644179582595825,
          0.049832552671432495,
          -4.023758888244629,
          -3.585711717605591,
          -2.6981260776519775,
          0.7502776384353638,
          2.7232062816619873,
          4.863849639892578,
          -0.42540380358695984,
          -2.5371158123016357,
          -5.670970439910889,
          -1.5231883525848389,
          -0.3485502302646637,
          2.4290659427642822,
          -0.9959161281585693,
          1.0414739847183228,
          0.083483025431633,
          -1.2387244701385498,
          -0.2958010137081146,
          -2.2939727306365967,
          -4.269049644470215,
          0.24112513661384583,
          -3.8262908458709717,
          -3.9270517826080322,
          1.9085818529129028,
          -0.7316933274269104,
          -3.7366127967834473,
          -2.767380714416504,
          4.097783088684082,
          0.09357147663831711,
          -2.120304822921753,
          -0.6869312524795532,
          -4.29319429397583,
          0.7418970465660095,
          1.4351242780685425,
          1.108311414718628,
          -1.0857532024383545,
          -3.1961629390716553,
          1.277313232421875,
          -2.852524757385254,
          0.6796623468399048,
          -0.8767073154449463,
          2.718456745147705
         ]
        },
        {
         "hovertemplate": "color=2<br>x=%{x}<br>y=%{y}<br>z=%{z}<extra></extra>",
         "legendgroup": "2",
         "marker": {
          "color": "#FF97FF",
          "symbol": "circle"
         },
         "mode": "markers",
         "name": "2",
         "scene": "scene",
         "showlegend": true,
         "type": "scatter3d",
         "x": [
          -15.52140998840332,
          -17.186067581176758,
          -16.97941780090332,
          -17.19784927368164,
          -16.19406509399414,
          -19.506731033325195,
          -13.683066368103027,
          -16.410078048706055,
          -14.351587295532227,
          -14.631502151489258,
          -12.34945011138916,
          -15.2311372756958,
          -15.568059921264648,
          -17.51125717163086,
          -18.505830764770508,
          -17.300418853759766,
          -13.901273727416992
         ],
         "y": [
          -4.859104156494141,
          -4.422355651855469,
          -6.962863922119141,
          -6.499970436096191,
          -8.538716316223145,
          -6.803109645843506,
          -6.729486465454102,
          -10.005877494812012,
          -7.863559722900391,
          -4.5749406814575195,
          -2.3507070541381836,
          -6.074746608734131,
          -4.8838090896606445,
          -7.2987871170043945,
          -6.323713302612305,
          -4.260015964508057,
          -7.1686577796936035
         ],
         "z": [
          4.831827640533447,
          5.6343488693237305,
          5.423003196716309,
          7.941351890563965,
          6.419464588165283,
          4.533528804779053,
          11.527420043945312,
          6.055660724639893,
          8.346853256225586,
          6.770644664764404,
          4.331111907958984,
          9.790637016296387,
          8.772059440612793,
          10.385965347290039,
          9.548726081848145,
          8.137838363647461,
          9.882430076599121
         ]
        },
        {
         "hovertemplate": "color=1<br>x=%{x}<br>y=%{y}<br>z=%{z}<extra></extra>",
         "legendgroup": "1",
         "marker": {
          "color": "#FECB52",
          "symbol": "circle"
         },
         "mode": "markers",
         "name": "1",
         "scene": "scene",
         "showlegend": true,
         "type": "scatter3d",
         "x": [
          3.2853455543518066,
          -1.557054042816162,
          2.6840708255767822,
          3.075885534286499
         ],
         "y": [
          -5.312084674835205,
          3.735661029815674,
          -8.033408164978027,
          -6.157428741455078
         ],
         "z": [
          13.216728210449219,
          -6.565701007843018,
          12.099193572998047,
          12.908862113952637
         ]
        }
       ],
       "layout": {
        "height": 400,
        "legend": {
         "title": {
          "text": "color"
         },
         "tracegroupgap": 0
        },
        "scene": {
         "domain": {
          "x": [
           0,
           1
          ],
          "y": [
           0,
           1
          ]
         },
         "xaxis": {
          "title": {
           "text": "c_1"
          }
         },
         "yaxis": {
          "title": {
           "text": "c_2"
          }
         },
         "zaxis": {
          "title": {
           "text": "c_3"
          }
         }
        },
        "template": {
         "data": {
          "bar": [
           {
            "error_x": {
             "color": "#2a3f5f"
            },
            "error_y": {
             "color": "#2a3f5f"
            },
            "marker": {
             "line": {
              "color": "#E5ECF6",
              "width": 0.5
             },
             "pattern": {
              "fillmode": "overlay",
              "size": 10,
              "solidity": 0.2
             }
            },
            "type": "bar"
           }
          ],
          "barpolar": [
           {
            "marker": {
             "line": {
              "color": "#E5ECF6",
              "width": 0.5
             },
             "pattern": {
              "fillmode": "overlay",
              "size": 10,
              "solidity": 0.2
             }
            },
            "type": "barpolar"
           }
          ],
          "carpet": [
           {
            "aaxis": {
             "endlinecolor": "#2a3f5f",
             "gridcolor": "white",
             "linecolor": "white",
             "minorgridcolor": "white",
             "startlinecolor": "#2a3f5f"
            },
            "baxis": {
             "endlinecolor": "#2a3f5f",
             "gridcolor": "white",
             "linecolor": "white",
             "minorgridcolor": "white",
             "startlinecolor": "#2a3f5f"
            },
            "type": "carpet"
           }
          ],
          "choropleth": [
           {
            "colorbar": {
             "outlinewidth": 0,
             "ticks": ""
            },
            "type": "choropleth"
           }
          ],
          "contour": [
           {
            "colorbar": {
             "outlinewidth": 0,
             "ticks": ""
            },
            "colorscale": [
             [
              0,
              "#0d0887"
             ],
             [
              0.1111111111111111,
              "#46039f"
             ],
             [
              0.2222222222222222,
              "#7201a8"
             ],
             [
              0.3333333333333333,
              "#9c179e"
             ],
             [
              0.4444444444444444,
              "#bd3786"
             ],
             [
              0.5555555555555556,
              "#d8576b"
             ],
             [
              0.6666666666666666,
              "#ed7953"
             ],
             [
              0.7777777777777778,
              "#fb9f3a"
             ],
             [
              0.8888888888888888,
              "#fdca26"
             ],
             [
              1,
              "#f0f921"
             ]
            ],
            "type": "contour"
           }
          ],
          "contourcarpet": [
           {
            "colorbar": {
             "outlinewidth": 0,
             "ticks": ""
            },
            "type": "contourcarpet"
           }
          ],
          "heatmap": [
           {
            "colorbar": {
             "outlinewidth": 0,
             "ticks": ""
            },
            "colorscale": [
             [
              0,
              "#0d0887"
             ],
             [
              0.1111111111111111,
              "#46039f"
             ],
             [
              0.2222222222222222,
              "#7201a8"
             ],
             [
              0.3333333333333333,
              "#9c179e"
             ],
             [
              0.4444444444444444,
              "#bd3786"
             ],
             [
              0.5555555555555556,
              "#d8576b"
             ],
             [
              0.6666666666666666,
              "#ed7953"
             ],
             [
              0.7777777777777778,
              "#fb9f3a"
             ],
             [
              0.8888888888888888,
              "#fdca26"
             ],
             [
              1,
              "#f0f921"
             ]
            ],
            "type": "heatmap"
           }
          ],
          "heatmapgl": [
           {
            "colorbar": {
             "outlinewidth": 0,
             "ticks": ""
            },
            "colorscale": [
             [
              0,
              "#0d0887"
             ],
             [
              0.1111111111111111,
              "#46039f"
             ],
             [
              0.2222222222222222,
              "#7201a8"
             ],
             [
              0.3333333333333333,
              "#9c179e"
             ],
             [
              0.4444444444444444,
              "#bd3786"
             ],
             [
              0.5555555555555556,
              "#d8576b"
             ],
             [
              0.6666666666666666,
              "#ed7953"
             ],
             [
              0.7777777777777778,
              "#fb9f3a"
             ],
             [
              0.8888888888888888,
              "#fdca26"
             ],
             [
              1,
              "#f0f921"
             ]
            ],
            "type": "heatmapgl"
           }
          ],
          "histogram": [
           {
            "marker": {
             "pattern": {
              "fillmode": "overlay",
              "size": 10,
              "solidity": 0.2
             }
            },
            "type": "histogram"
           }
          ],
          "histogram2d": [
           {
            "colorbar": {
             "outlinewidth": 0,
             "ticks": ""
            },
            "colorscale": [
             [
              0,
              "#0d0887"
             ],
             [
              0.1111111111111111,
              "#46039f"
             ],
             [
              0.2222222222222222,
              "#7201a8"
             ],
             [
              0.3333333333333333,
              "#9c179e"
             ],
             [
              0.4444444444444444,
              "#bd3786"
             ],
             [
              0.5555555555555556,
              "#d8576b"
             ],
             [
              0.6666666666666666,
              "#ed7953"
             ],
             [
              0.7777777777777778,
              "#fb9f3a"
             ],
             [
              0.8888888888888888,
              "#fdca26"
             ],
             [
              1,
              "#f0f921"
             ]
            ],
            "type": "histogram2d"
           }
          ],
          "histogram2dcontour": [
           {
            "colorbar": {
             "outlinewidth": 0,
             "ticks": ""
            },
            "colorscale": [
             [
              0,
              "#0d0887"
             ],
             [
              0.1111111111111111,
              "#46039f"
             ],
             [
              0.2222222222222222,
              "#7201a8"
             ],
             [
              0.3333333333333333,
              "#9c179e"
             ],
             [
              0.4444444444444444,
              "#bd3786"
             ],
             [
              0.5555555555555556,
              "#d8576b"
             ],
             [
              0.6666666666666666,
              "#ed7953"
             ],
             [
              0.7777777777777778,
              "#fb9f3a"
             ],
             [
              0.8888888888888888,
              "#fdca26"
             ],
             [
              1,
              "#f0f921"
             ]
            ],
            "type": "histogram2dcontour"
           }
          ],
          "mesh3d": [
           {
            "colorbar": {
             "outlinewidth": 0,
             "ticks": ""
            },
            "type": "mesh3d"
           }
          ],
          "parcoords": [
           {
            "line": {
             "colorbar": {
              "outlinewidth": 0,
              "ticks": ""
             }
            },
            "type": "parcoords"
           }
          ],
          "pie": [
           {
            "automargin": true,
            "type": "pie"
           }
          ],
          "scatter": [
           {
            "fillpattern": {
             "fillmode": "overlay",
             "size": 10,
             "solidity": 0.2
            },
            "type": "scatter"
           }
          ],
          "scatter3d": [
           {
            "line": {
             "colorbar": {
              "outlinewidth": 0,
              "ticks": ""
             }
            },
            "marker": {
             "colorbar": {
              "outlinewidth": 0,
              "ticks": ""
             }
            },
            "type": "scatter3d"
           }
          ],
          "scattercarpet": [
           {
            "marker": {
             "colorbar": {
              "outlinewidth": 0,
              "ticks": ""
             }
            },
            "type": "scattercarpet"
           }
          ],
          "scattergeo": [
           {
            "marker": {
             "colorbar": {
              "outlinewidth": 0,
              "ticks": ""
             }
            },
            "type": "scattergeo"
           }
          ],
          "scattergl": [
           {
            "marker": {
             "colorbar": {
              "outlinewidth": 0,
              "ticks": ""
             }
            },
            "type": "scattergl"
           }
          ],
          "scattermapbox": [
           {
            "marker": {
             "colorbar": {
              "outlinewidth": 0,
              "ticks": ""
             }
            },
            "type": "scattermapbox"
           }
          ],
          "scatterpolar": [
           {
            "marker": {
             "colorbar": {
              "outlinewidth": 0,
              "ticks": ""
             }
            },
            "type": "scatterpolar"
           }
          ],
          "scatterpolargl": [
           {
            "marker": {
             "colorbar": {
              "outlinewidth": 0,
              "ticks": ""
             }
            },
            "type": "scatterpolargl"
           }
          ],
          "scatterternary": [
           {
            "marker": {
             "colorbar": {
              "outlinewidth": 0,
              "ticks": ""
             }
            },
            "type": "scatterternary"
           }
          ],
          "surface": [
           {
            "colorbar": {
             "outlinewidth": 0,
             "ticks": ""
            },
            "colorscale": [
             [
              0,
              "#0d0887"
             ],
             [
              0.1111111111111111,
              "#46039f"
             ],
             [
              0.2222222222222222,
              "#7201a8"
             ],
             [
              0.3333333333333333,
              "#9c179e"
             ],
             [
              0.4444444444444444,
              "#bd3786"
             ],
             [
              0.5555555555555556,
              "#d8576b"
             ],
             [
              0.6666666666666666,
              "#ed7953"
             ],
             [
              0.7777777777777778,
              "#fb9f3a"
             ],
             [
              0.8888888888888888,
              "#fdca26"
             ],
             [
              1,
              "#f0f921"
             ]
            ],
            "type": "surface"
           }
          ],
          "table": [
           {
            "cells": {
             "fill": {
              "color": "#EBF0F8"
             },
             "line": {
              "color": "white"
             }
            },
            "header": {
             "fill": {
              "color": "#C8D4E3"
             },
             "line": {
              "color": "white"
             }
            },
            "type": "table"
           }
          ]
         },
         "layout": {
          "annotationdefaults": {
           "arrowcolor": "#2a3f5f",
           "arrowhead": 0,
           "arrowwidth": 1
          },
          "autotypenumbers": "strict",
          "coloraxis": {
           "colorbar": {
            "outlinewidth": 0,
            "ticks": ""
           }
          },
          "colorscale": {
           "diverging": [
            [
             0,
             "#8e0152"
            ],
            [
             0.1,
             "#c51b7d"
            ],
            [
             0.2,
             "#de77ae"
            ],
            [
             0.3,
             "#f1b6da"
            ],
            [
             0.4,
             "#fde0ef"
            ],
            [
             0.5,
             "#f7f7f7"
            ],
            [
             0.6,
             "#e6f5d0"
            ],
            [
             0.7,
             "#b8e186"
            ],
            [
             0.8,
             "#7fbc41"
            ],
            [
             0.9,
             "#4d9221"
            ],
            [
             1,
             "#276419"
            ]
           ],
           "sequential": [
            [
             0,
             "#0d0887"
            ],
            [
             0.1111111111111111,
             "#46039f"
            ],
            [
             0.2222222222222222,
             "#7201a8"
            ],
            [
             0.3333333333333333,
             "#9c179e"
            ],
            [
             0.4444444444444444,
             "#bd3786"
            ],
            [
             0.5555555555555556,
             "#d8576b"
            ],
            [
             0.6666666666666666,
             "#ed7953"
            ],
            [
             0.7777777777777778,
             "#fb9f3a"
            ],
            [
             0.8888888888888888,
             "#fdca26"
            ],
            [
             1,
             "#f0f921"
            ]
           ],
           "sequentialminus": [
            [
             0,
             "#0d0887"
            ],
            [
             0.1111111111111111,
             "#46039f"
            ],
            [
             0.2222222222222222,
             "#7201a8"
            ],
            [
             0.3333333333333333,
             "#9c179e"
            ],
            [
             0.4444444444444444,
             "#bd3786"
            ],
            [
             0.5555555555555556,
             "#d8576b"
            ],
            [
             0.6666666666666666,
             "#ed7953"
            ],
            [
             0.7777777777777778,
             "#fb9f3a"
            ],
            [
             0.8888888888888888,
             "#fdca26"
            ],
            [
             1,
             "#f0f921"
            ]
           ]
          },
          "colorway": [
           "#636efa",
           "#EF553B",
           "#00cc96",
           "#ab63fa",
           "#FFA15A",
           "#19d3f3",
           "#FF6692",
           "#B6E880",
           "#FF97FF",
           "#FECB52"
          ],
          "font": {
           "color": "#2a3f5f"
          },
          "geo": {
           "bgcolor": "white",
           "lakecolor": "white",
           "landcolor": "#E5ECF6",
           "showlakes": true,
           "showland": true,
           "subunitcolor": "white"
          },
          "hoverlabel": {
           "align": "left"
          },
          "hovermode": "closest",
          "mapbox": {
           "style": "light"
          },
          "paper_bgcolor": "white",
          "plot_bgcolor": "#E5ECF6",
          "polar": {
           "angularaxis": {
            "gridcolor": "white",
            "linecolor": "white",
            "ticks": ""
           },
           "bgcolor": "#E5ECF6",
           "radialaxis": {
            "gridcolor": "white",
            "linecolor": "white",
            "ticks": ""
           }
          },
          "scene": {
           "xaxis": {
            "backgroundcolor": "#E5ECF6",
            "gridcolor": "white",
            "gridwidth": 2,
            "linecolor": "white",
            "showbackground": true,
            "ticks": "",
            "zerolinecolor": "white"
           },
           "yaxis": {
            "backgroundcolor": "#E5ECF6",
            "gridcolor": "white",
            "gridwidth": 2,
            "linecolor": "white",
            "showbackground": true,
            "ticks": "",
            "zerolinecolor": "white"
           },
           "zaxis": {
            "backgroundcolor": "#E5ECF6",
            "gridcolor": "white",
            "gridwidth": 2,
            "linecolor": "white",
            "showbackground": true,
            "ticks": "",
            "zerolinecolor": "white"
           }
          },
          "shapedefaults": {
           "line": {
            "color": "#2a3f5f"
           }
          },
          "ternary": {
           "aaxis": {
            "gridcolor": "white",
            "linecolor": "white",
            "ticks": ""
           },
           "baxis": {
            "gridcolor": "white",
            "linecolor": "white",
            "ticks": ""
           },
           "bgcolor": "#E5ECF6",
           "caxis": {
            "gridcolor": "white",
            "linecolor": "white",
            "ticks": ""
           }
          },
          "title": {
           "x": 0.05
          },
          "xaxis": {
           "automargin": true,
           "gridcolor": "white",
           "linecolor": "white",
           "ticks": "",
           "title": {
            "standoff": 15
           },
           "zerolinecolor": "white",
           "zerolinewidth": 2
          },
          "yaxis": {
           "automargin": true,
           "gridcolor": "white",
           "linecolor": "white",
           "ticks": "",
           "title": {
            "standoff": 15
           },
           "zerolinecolor": "white",
           "zerolinewidth": 2
          }
         }
        },
        "title": {
         "text": "t-SNE_3_comp - 3.769 sec."
        },
        "width": 500
       }
      }
     },
     "metadata": {},
     "output_type": "display_data"
    },
    {
     "data": {
      "application/vnd.plotly.v1+json": {
       "config": {
        "plotlyServerURL": "https://plot.ly"
       },
       "data": [
        {
         "hovertemplate": "color=5<br>x=%{x}<br>y=%{y}<br>z=%{z}<extra></extra>",
         "legendgroup": "5",
         "marker": {
          "color": "#636efa",
          "symbol": "circle"
         },
         "mode": "markers",
         "name": "5",
         "scene": "scene",
         "showlegend": true,
         "type": "scatter3d",
         "x": [
          -0.3948718289790453,
          -0.43933032639376485,
          -0.28020491915073387,
          0.08629025032579186,
          -0.25166832667658945,
          -0.4668257062868231,
          -0.5307596095114563,
          -0.2525841930976427,
          -0.6767866123499698,
          -0.41093133793831893,
          -0.14096376709639175,
          -0.7114795048411965,
          -0.45390460628322526,
          -0.0192991376274466,
          -0.42873548547505314,
          -0.42445023124888154,
          -0.17149368849739824,
          -0.6356141965359138,
          -0.09035380143747844,
          -0.19736532695618872,
          -0.32508487756329474,
          -0.45228445897017006,
          -0.406227439596886,
          -0.4656975893988112,
          -0.5375926847785812,
          0.019992394231703858,
          -0.3724086143753698,
          -0.6701647121405666,
          -0.528965735934495,
          -0.464327363127649,
          -0.3023173770426378,
          -0.4935380987433787,
          -0.522565518831247,
          -1.0792693844920864,
          -0.3410476379610072,
          -0.37527349252449055,
          -0.5907026157127798,
          -0.6117598066949401,
          -0.40154884947186475,
          -0.5630290713669237,
          -0.36206537369146286,
          -0.614243881195132,
          -0.6017551958723248,
          -0.8779097213511892,
          -0.3683836246801123,
          -1.0533704289234695,
          -0.9137015265629308,
          -0.5060784545073661,
          0.3500101948230691,
          -0.6185030586704588,
          -0.5479498013841082,
          -0.3322852024082472,
          -0.7820503868007452,
          -0.335172115154809,
          -0.5284123441033209,
          -0.46373635792374196,
          0.20015487492927042,
          -0.6114214127681792,
          -0.7357678801841009,
          -0.027887714198763243,
          -0.23262771535923846,
          -0.7530096197254764,
          -0.5710646024362823,
          -0.7050876699143019,
          -0.813637588646699,
          -0.7891104621633632,
          -0.48579471355445136,
          -0.508465217932832,
          -0.4850906068599011,
          -0.5195272791494401,
          -0.5316609400433064,
          -0.26703697024015666,
          -0.6411790314035547,
          -0.14420384147610102,
          -0.17910470462097425,
          -0.537471582633696,
          -0.5297435844302036,
          -0.783594084049689,
          -0.19128740578272424
         ],
         "y": [
          -0.9147470768421084,
          -1.1860442353658533,
          -0.9467556570313648,
          -0.976366148427279,
          -1.4474519452819616,
          -1.0378556899616935,
          -1.088382780359986,
          -1.0550441657124845,
          -0.6645786920926159,
          -1.1292781402266159,
          -1.056562162802988,
          -0.6885420929503503,
          -0.9692348081472044,
          -0.5785769101301383,
          -0.9092842586319021,
          -0.9133076426868567,
          -0.9640020916160879,
          -0.9679809496904898,
          -0.9052282502555387,
          -1.0639486110365184,
          -0.6400479388275142,
          -0.6717603995341032,
          -1.3300740737652472,
          -1.0116842203385579,
          -0.8620910799194678,
          0.010516588422561484,
          -0.8039199211578517,
          -1.0621864490812065,
          -0.7065050551968882,
          -0.6239364276766978,
          -0.08562836052402865,
          -0.9601460362465841,
          -1.1212084189875462,
          -0.6278996835473009,
          -1.053156616107047,
          -1.548509970755133,
          -0.8586837270551958,
          -0.7355219687123364,
          -1.352091241573106,
          0.06355438265448207,
          -0.47109205567395546,
          -1.5554704401036963,
          -0.7840134078044075,
          -0.4091512454119216,
          -0.12197060809778665,
          -0.5220525214710047,
          -0.9011861548749815,
          -0.854731610806589,
          -0.7789361999077543,
          -1.1100291509872129,
          -0.7148633633627786,
          -0.4489789328339773,
          -0.6799240359450636,
          -1.2280268963750183,
          -0.9377814926127714,
          -0.9352837881410444,
          -0.6596532034247181,
          -0.6791752182093574,
          -0.6839869041900944,
          -0.9309218094681767,
          -0.8452850894102949,
          -0.4757111774267669,
          -0.9024601887459105,
          -0.8466426625281152,
          -0.18315075004066145,
          -1.5808296503827044,
          -0.8962811434034138,
          -1.0409610619931096,
          -1.0241799056229879,
          -0.8740016487086967,
          -0.8464771698646385,
          -0.11929934652282377,
          -0.5335722338289226,
          -0.7094412745821658,
          -0.6100067553166933,
          -0.9557252880535007,
          -1.1456063561864605,
          -1.0676104441109533,
          -0.9197717471438658
         ],
         "z": [
          -0.22662919593839373,
          -0.27093171941974376,
          -1.080614332915343,
          0.7942655988595574,
          -0.09575024315777728,
          -0.15581668954777278,
          -0.16856894645292622,
          -0.32169069835273356,
          -0.31176317963924033,
          -0.3117467026182205,
          -0.9490429569829342,
          -0.16485993650916117,
          -0.2880654332811612,
          -0.6415060668458071,
          -0.6119901129379917,
          -0.3693073583660704,
          0.014380944064301134,
          -0.1297834481739673,
          -0.03584920687932516,
          0.6000074488673112,
          -0.07519984973671355,
          0.18688649771675625,
          -0.45505175068254644,
          -0.1910817782401085,
          -0.1512961806774032,
          -0.06286393855470196,
          -0.4398710603228623,
          -0.3511650924912065,
          -0.542069385277791,
          -0.43175030585696855,
          0.23410315910585136,
          -0.1654019235566726,
          -0.15489164731477742,
          -0.06554568018459078,
          -0.3115276543387266,
          0.04817160924820627,
          -0.17209512515592926,
          -0.11136404401625039,
          -0.35402699899752055,
          0.6037715770824927,
          0.09102442779727195,
          0.15648758173269203,
          -0.4630382267234061,
          -0.7857141386840643,
          0.3133104776969038,
          -0.26915094893409847,
          0.4143182102942328,
          -0.31279234208783285,
          0.11008149239688429,
          -0.3536157277701564,
          0.5858638948708724,
          -0.10163068315276166,
          0.01444018410714668,
          -0.11278254743657548,
          -0.168870700829227,
          -0.31089147268234596,
          0.5425644888924931,
          -0.38158421192222297,
          -0.40140711601015744,
          -0.5217527341074649,
          -0.5467800625977696,
          -0.9685927515486537,
          -0.025494324318347583,
          -0.07294210475734585,
          0.5025002277866953,
          0.18211393196754874,
          0.06048929472955163,
          -0.47848913608171784,
          -0.3263181248599388,
          -0.1171805594062866,
          -0.10294337187089761,
          0.12427004176708455,
          -0.30734595483966287,
          -0.046081501691498626,
          -0.0071371964415469,
          -0.22701681943320906,
          -0.03741256681728416,
          -0.4273631524858575,
          -0.03461221119440235
         ]
        },
        {
         "hovertemplate": "color=6<br>x=%{x}<br>y=%{y}<br>z=%{z}<extra></extra>",
         "legendgroup": "6",
         "marker": {
          "color": "#EF553B",
          "symbol": "circle"
         },
         "mode": "markers",
         "name": "6",
         "scene": "scene",
         "showlegend": true,
         "type": "scatter3d",
         "x": [
          -0.011805791215361742,
          0.3149128841935771,
          0.7941986697454864,
          0.19842170091947217,
          1.018736934211703,
          0.2891954089280072,
          0.387281173725902,
          0.5356472125405505,
          0.475692962269462,
          0.8648414637874966,
          0.7957746954769339,
          0.658529850258511,
          0.7637294949212667,
          0.546360594260537,
          0.7613342783338357,
          0.40718437056815093,
          0.142433324915177,
          0.8690671468817456,
          0.2483700823062988,
          0.5232672346097251
         ],
         "y": [
          -0.6677865641161732,
          -0.6415180915937588,
          -1.0705754189920058,
          -0.45506686093676907,
          -0.6973994337592193,
          -0.6796377480453436,
          -0.44282744882587277,
          -0.738140951052252,
          -0.870715071185859,
          -0.5139733740486994,
          -1.2301861489570747,
          -0.5818122164066231,
          -0.4457173630956247,
          -1.1249143387321936,
          -0.3627337059528827,
          -0.49156151726500236,
          -0.7574659024849272,
          -0.30325773760092384,
          -0.5229513563619009,
          -0.701269693545451
         ],
         "z": [
          -1.2939641298147924,
          -1.2118599793153426,
          0.25808350460685564,
          -1.08935961701615,
          -0.5803788457727198,
          -0.9699311338923053,
          -1.1284473470407128,
          -1.0012235392308322,
          -1.2162577851140945,
          -0.986072158830838,
          -0.9031664831028612,
          -1.0342713818809262,
          -0.8170429414551063,
          -1.1140145847708671,
          -0.9291362976174559,
          -1.1735381232725974,
          -1.0970103824052484,
          -0.7926482453744493,
          -1.1417920890229616,
          -1.067184111890707
         ]
        },
        {
         "hovertemplate": "color=3<br>x=%{x}<br>y=%{y}<br>z=%{z}<extra></extra>",
         "legendgroup": "3",
         "marker": {
          "color": "#00cc96",
          "symbol": "circle"
         },
         "mode": "markers",
         "name": "3",
         "scene": "scene",
         "showlegend": true,
         "type": "scatter3d",
         "x": [
          1.9012676221790683,
          1.6996320546569368,
          1.8285118577858122,
          1.8051578430295485,
          1.3407380778512035,
          1.8836292565141615,
          1.3206306275755535,
          1.636024152388352,
          1.3536573660481472,
          1.8413867059636941,
          1.504944479607605,
          1.521913551783791,
          2.198306158769851,
          1.3374583088727272,
          1.557857179551429,
          1.7725922270751613,
          1.5029389930657786,
          1.9277409508953045,
          1.180430968930002,
          1.3462429305507229,
          1.1608677517418675,
          2.0708129319953565,
          1.9849740141568155,
          1.395380870069004,
          1.9093943235109523,
          1.131082317875186,
          1.479346670805164,
          1.2866064618404367,
          1.3264842439327218,
          1.7046173709922825,
          1.43684703655979,
          1.011272513519606,
          1.9314119397558784,
          1.9804583590445772,
          1.8846080236551503,
          1.90739271578655,
          1.4735348878661951,
          1.6502434185431674,
          1.8878560352828058,
          1.0477950589740626,
          1.7653188143685798,
          0.9908565737441772,
          1.7288404625018512,
          1.7418194563480847,
          1.1384582132552699,
          1.6378141157638137,
          1.6198063012948996,
          1.8577009318235156,
          1.8439327997621329,
          1.5041770352372528,
          1.636913164219906,
          1.5856360411804318,
          1.7732256236837678,
          1.6777235878777745,
          1.4791024122633958,
          1.9943544744673052,
          2.007098834632016,
          0.13625297977980386,
          2.037692869248183,
          1.6045866417862948,
          1.7263634294688812,
          2.037197233752621,
          2.003501414843832,
          1.7670897261547536,
          1.6560725948160977,
          1.887479033334624,
          1.8434916467258085,
          2.2049715318051626,
          1.4508476939556751,
          1.621718460510137,
          1.459769092292301,
          1.4281607643551586,
          2.0753183289426995,
          1.3206306451787588,
          1.9457574617040907,
          1.1051812116628208,
          1.678377050877481,
          1.1294766533173064,
          1.6834248121651136,
          1.6799044523440108,
          1.5740977573937498,
          1.4225815475818466,
          1.920141250899835,
          0.2237462477639422,
          1.7895636683381588,
          1.7535039520138265,
          2.099085449779831,
          1.3584020597360826,
          1.1954811937921497,
          1.291260287850427,
          1.9881535726041444,
          1.2183307865837585,
          2.011709688592677,
          1.3339158880848172,
          1.883001382809215,
          1.6537940473253623,
          1.9235428759183626,
          1.3704546391748809,
          1.7072272491837588,
          1.9287633528442003,
          1.3618183474896235,
          1.7304782114661938,
          1.2547272409555816,
          1.6209707087020158,
          1.4317357990004267,
          1.6513563778515827,
          1.3368918104342515,
          0.9737649684619363,
          1.990536174597531,
          1.4645104796888038,
          1.4864874953772382,
          1.5885725623315092,
          0.5462316569544678,
          1.9464897888813346,
          1.8833126632645536,
          1.3276316991552521,
          1.322148692779208,
          1.8833505084967677,
          0.42298495359444793,
          1.1352082011778708,
          1.5018385085491643,
          1.2477146658874894,
          1.9943544744673052,
          1.844991217495573,
          2.1678865474579934,
          1.9571876009487166,
          2.048050020485264,
          1.3563596627534964,
          1.9880227908517552,
          1.0870560464950927,
          1.7227551339200617,
          1.342316322449296,
          1.7715617550710163
         ],
         "y": [
          -0.030934541023288225,
          0.2618032533550887,
          0.44996517846921064,
          0.6922123056341783,
          0.6129580939662345,
          0.179309257485321,
          0.7535229776388161,
          0.8594771310688701,
          0.8320925537648065,
          0.25995641253688995,
          0.44261456989866527,
          0.8044043676927927,
          0.2476200051173826,
          0.5152597504764341,
          0.5076354910453552,
          0.426559327864146,
          1.0157016546650233,
          0.556279830107338,
          0.2634555039103126,
          0.6482907826874398,
          0.1674519344834432,
          0.10023208429421007,
          -0.25861741853179926,
          0.6822841458075614,
          -0.3702215157013124,
          0.5209494514319429,
          0.4070411919018897,
          -0.03736597877923902,
          -0.0793820057484801,
          0.25161982260653776,
          0.4374176022970102,
          0.060109639645457666,
          0.0881637264421877,
          0.18181581788883291,
          0.29073156173613773,
          -0.20101448740589936,
          0.20812268572844264,
          -0.0837148811930206,
          0.23491652097219967,
          0.9172854222425623,
          0.36617199867665323,
          -0.05869039500552884,
          0.25743278582956974,
          0.10499470172800462,
          0.30732013123074875,
          0.3384737770777291,
          0.913260695084256,
          0.01170742357948398,
          0.5827331720035162,
          0.12902862527137635,
          0.8466451519583901,
          -0.3215455031924246,
          -0.4418620709005881,
          -0.639362036564746,
          0.9884525844584685,
          -0.04628605383421706,
          0.4364065860432314,
          0.5397563058132799,
          0.0347147918984657,
          0.264594660022809,
          0.18068125574881622,
          0.045897493052724433,
          -0.04048265877207003,
          -0.2243236394784832,
          0.25251887094855613,
          0.591786420955004,
          0.38997708023515354,
          0.4826215355878004,
          0.3196815159182538,
          0.5539454232494319,
          0.3049873958163679,
          0.8942348648152767,
          0.22438578348088367,
          0.7535229702865325,
          0.18248050040198718,
          0.21827636647746929,
          0.3398190131786302,
          0.4017103367145654,
          0.6379221247905319,
          -0.4681536142309603,
          -0.7365289323811284,
          0.291695784084785,
          0.4632485070840806,
          0.3184117979966068,
          0.3908525833746198,
          0.5591081696909229,
          -0.061340068916763385,
          0.5574995721305362,
          0.56211819385726,
          -0.004205964361623828,
          0.11499653886005543,
          0.48947830523294833,
          0.1011007257498616,
          0.6579548518004757,
          -0.051307321740778886,
          0.40759078374047664,
          0.3935623205962404,
          0.6841516871600091,
          0.5551256716013103,
          -0.2321091302368533,
          -0.09863038032145727,
          0.30535324651729057,
          0.5010533856049714,
          0.3281242857680699,
          -0.05812518618135992,
          0.10803649783768382,
          0.4670249646207617,
          0.5716078597222013,
          0.31814357214391353,
          0.6741034094739754,
          0.7225546381733706,
          1.0684482599413971,
          0.21681497315181453,
          0.07524559753020632,
          0.5077118436562228,
          0.19111299396592862,
          -0.2975806216697992,
          0.24778532460573197,
          0.47188069698463947,
          0.05433886885384156,
          0.27805990978333023,
          0.7726163609259655,
          -0.04628605383421679,
          0.49683601627988094,
          0.17808576914836985,
          -0.33014689707203426,
          -0.1444191150018582,
          0.4292238161212925,
          0.27868525163663926,
          0.3628432687744564,
          0.2822649142312694,
          0.005472052916863902,
          0.16108541137403548
         ],
         "z": [
          0.40221755829865996,
          0.25377347292946206,
          0.1601407115649161,
          0.10669420205198289,
          0.7098146630144206,
          -0.03146048805971775,
          0.44087797963909336,
          -0.08004138319194579,
          0.23033326217575237,
          0.3988010430080797,
          0.11830466107899466,
          -0.028500887787086045,
          0.11067499377230067,
          0.7833236102854096,
          0.8313146775945806,
          0.29768535748834235,
          -0.022586003949150425,
          0.4110283352348028,
          0.36319042735859297,
          0.6377955628667905,
          0.13778580819391217,
          0.20458375933699033,
          -0.011716542068665296,
          0.7097597404700382,
          0.023404876014835537,
          1.1578928860432651,
          0.6407923327391509,
          0.41131286460745986,
          1.042391237312744,
          0.32553063856337866,
          0.395799293994762,
          0.4681728626259739,
          0.46888035539856376,
          0.26524144242162606,
          0.3418479956961877,
          0.33514507840778124,
          0.9422991398102902,
          -0.1576180216907864,
          0.14907159724854338,
          0.5169893161393774,
          0.657767701335196,
          0.17120006680562036,
          0.39766809801397524,
          0.48867605929245445,
          0.3416767703412429,
          0.521458909385526,
          0.40612829678825413,
          0.3654524804290927,
          0.4028637524967684,
          0.37157272152685267,
          0.1758938648690865,
          0.684245870984639,
          0.2666852918461949,
          0.36739483679592966,
          0.08582887120841388,
          0.5941904164847602,
          0.6651371576112618,
          0.4532577682849621,
          0.5784698546444216,
          0.05548250902549845,
          0.3449406140376871,
          0.419465126033608,
          0.3678220605662904,
          0.36591615927400395,
          -0.04870766980290533,
          0.28053895546747,
          0.47878386220118263,
          0.2598719863896346,
          0.5612034083338271,
          0.6859840620910783,
          0.6544542657382717,
          0.42828808771718707,
          0.7822301097047025,
          0.4408779776925677,
          0.5117021716624681,
          0.5556009707585712,
          0.5401268130485336,
          -0.06821738562977421,
          0.4620370892232014,
          0.724165005447165,
          -0.048219204346971474,
          0.3764975349476332,
          0.4043104535653171,
          0.5175371358353381,
          0.3333507335123649,
          0.20578218640757903,
          0.3918201425453116,
          0.5367796801336545,
          0.3321370674145276,
          0.21230966871297202,
          0.20496140844994037,
          0.6097101911851763,
          0.38913692235962133,
          0.5753549546580288,
          0.13814378656300255,
          0.5565981275603027,
          -0.2639044959181535,
          0.6737697482968452,
          0.0689275760307888,
          0.4435019238991761,
          0.7840186575304268,
          0.10661761898119529,
          0.4144894509885867,
          0.2728250906137483,
          0.3231390399125625,
          0.07155093274052456,
          0.5115560850570928,
          0.2319893974842298,
          0.5734365817888923,
          0.25930419387257214,
          0.6778525059516459,
          0.4122007892393942,
          0.008395351058771388,
          0.3596880554523636,
          0.3224317855442878,
          1.2329713080342406,
          -0.11478565943304878,
          0.5311889019777322,
          0.6199577627622568,
          0.8486254816304342,
          0.4541204941664806,
          0.4913462596020841,
          0.5941904164847605,
          0.32130216183656013,
          -0.0778318999997921,
          0.09917720772643579,
          0.4875150996094941,
          0.8004384767972058,
          0.573771625710094,
          0.28843105151933357,
          0.6146058338224049,
          0.9340006871227331,
          0.40070040632805376
         ]
        },
        {
         "hovertemplate": "color=4<br>x=%{x}<br>y=%{y}<br>z=%{z}<extra></extra>",
         "legendgroup": "4",
         "marker": {
          "color": "#ab63fa",
          "symbol": "circle"
         },
         "mode": "markers",
         "name": "4",
         "scene": "scene",
         "showlegend": true,
         "type": "scatter3d",
         "x": [
          0.3166615319353403,
          -0.17455519162533495,
          -0.5068440590966058,
          -0.34160168725902285,
          -0.7391012998215084,
          -0.44490395002469785,
          -0.7454763272925258,
          -0.9248388996293606,
          -0.9087832398729537,
          -0.6062735016735334,
          -0.6032298437767734,
          -0.7657941447068707,
          0.19516747653254263,
          -0.48060346656210634,
          -0.366260081801959,
          -0.659320024565637,
          -0.5778823689462266,
          -0.6199328219553989,
          -0.7884122605924179,
          -0.7377740087917208,
          -0.6963879350629681,
          -0.38639926653091794,
          0.20690728782683349,
          -0.4372716515219584,
          -0.4669702397866347,
          -0.5161244876965646,
          -0.7394924784701238,
          -0.6995677142259146,
          -0.6894324274235818,
          -1.0697732452061381,
          -0.5077344415810083,
          -0.46098814144088035,
          -0.5245802974565943,
          -0.5165329273193827,
          -0.6312532809986173,
          -0.5159234036810814,
          -0.325790346285983,
          -0.7821694223036421,
          -0.35614093316231943,
          -0.8055583824841784,
          -0.5092238639518752,
          -0.4955131987164256,
          -0.74303889844389,
          -0.6250102410123305,
          0.08002911696016277,
          -0.6788018911069186,
          -0.7432031494649741,
          -0.7815357384018591,
          -0.6668197329904563,
          -0.8324230099619193,
          -0.6665168929768408,
          -0.7650539251721815,
          0.003533002584332622,
          -0.18674866046063002,
          0.0659055935388765,
          -0.4607681484313271,
          -0.7585668075506429
         ],
         "y": [
          0.5061928770786137,
          0.7375373332118644,
          0.9854602863328508,
          1.1073566927719443,
          0.5278979319255656,
          1.0993796851697246,
          0.5186180454212542,
          0.37455633814680644,
          -0.16335716181081056,
          0.5242561882150321,
          0.8611509805280273,
          1.5267319310374026,
          1.5803945455086694,
          1.0643607073923698,
          1.0248040715586237,
          0.7557203571494071,
          0.9195165763266644,
          1.1703016042027383,
          1.2254970632488256,
          1.2072886109374437,
          1.0626882657147316,
          1.0412578787994362,
          0.6535381157574462,
          0.728692590242108,
          0.9450818697518,
          1.00047515341471,
          1.1765915319685956,
          1.278864176815624,
          1.3193667793293395,
          0.124366568740639,
          0.8358505033074547,
          0.3809088792660454,
          1.0011962621177595,
          1.415958251520394,
          1.3111358315205874,
          0.8520098853217946,
          0.951804557347647,
          1.2830391822089435,
          0.9109149791534078,
          1.0553012154985293,
          0.4813279269372798,
          1.0738083147988635,
          0.4579432984687408,
          1.4211072670903746,
          1.4524062593581821,
          0.6859433658906575,
          0.9197615652210915,
          0.5338373371247928,
          0.9534060157270118,
          0.524112946608278,
          0.015265461224477883,
          1.1986917244886606,
          0.6176534843145307,
          1.4308214037434344,
          1.6543286080303914,
          0.9781572869882084,
          0.92690754236034
         ],
         "z": [
          -0.2523352862522525,
          -0.9258957226549724,
          -0.305676392892927,
          -0.42923903638750255,
          -0.4136920045274946,
          -0.4329766131957855,
          -0.3045840540691067,
          -0.016481348779573336,
          -0.003817964411475551,
          -0.9043668699784001,
          -0.5253304677567517,
          -0.4777610303803737,
          -0.20227176461322138,
          -0.24218883310300837,
          -0.2398446452081588,
          -0.584074134143898,
          -0.45303622739497895,
          -0.374519285854223,
          -0.5313188490807272,
          -0.5721032302558499,
          -0.7736850176638309,
          -0.5140788845022333,
          -0.7716497111166547,
          -0.5423740085103607,
          -0.3888370685767017,
          -0.4212065338656287,
          -0.15723056791039033,
          -0.49787333996758204,
          -0.5583194008145109,
          0.07114450432411906,
          -0.6908623240910815,
          0.22225472545465774,
          -0.5780530382910262,
          -0.4482252015199154,
          -0.664926463082759,
          -0.4370278628679602,
          0.07905243370337034,
          -0.8463521178473755,
          -0.9101086753101539,
          -0.9434460129005909,
          -0.325438734519857,
          -0.5061109622427182,
          -0.18902073247346698,
          -0.5246164836486064,
          -0.37881937718007247,
          -0.6348653895958096,
          -0.6924781704097879,
          -0.21666350112188662,
          0.3875626949575539,
          -0.2576271756281897,
          -0.16455178299298087,
          -0.8863364005153367,
          -0.5148091294532217,
          -0.4305212450803721,
          -0.07673541583172357,
          -0.4392205890015401,
          -0.41718835093537043
         ]
        },
        {
         "hovertemplate": "color=0<br>x=%{x}<br>y=%{y}<br>z=%{z}<extra></extra>",
         "legendgroup": "0",
         "marker": {
          "color": "#FFA15A",
          "symbol": "circle"
         },
         "mode": "markers",
         "name": "0",
         "scene": "scene",
         "showlegend": true,
         "type": "scatter3d",
         "x": [
          -1.0846750601696107,
          -0.32658519764436206,
          -0.6578059820868197,
          -0.35907054179562425,
          0.18308287984278684,
          -0.4573157354826692,
          -0.5101149960368392,
          -0.5771418037462949,
          -0.06077271349972713,
          -0.08985875957474557,
          -0.4532430928909417,
          -0.024227643145347613,
          -0.46865340804799405,
          -0.46354254757301333,
          -0.3928072251965834,
          0.24419654270671495,
          -0.1728159066436702,
          -0.31111506908426784,
          -0.44551947989903784,
          -0.38746104125170855,
          -0.550529969303742,
          -0.017511351643190596,
          -0.8720674796293721,
          -0.7044594569802166,
          0.23052620525047812
         ],
         "y": [
          -0.5218761446104231,
          -0.9844369600063221,
          -0.5522771328796373,
          -0.9820764736678688,
          -0.21844056129099387,
          -0.9732147548593701,
          -0.7956343828247194,
          -0.45188518478516465,
          -0.29885405553934513,
          -0.8195129636615546,
          -0.8343069120631764,
          -0.6973972385440598,
          -0.9258426578991955,
          -0.9579103958661092,
          -0.9719097406889392,
          -0.42472807999253476,
          -0.9537029410427853,
          -1.0676274905011727,
          -1.104680972319528,
          -1.1265112076307109,
          -0.5800503553255473,
          -0.6280788701871313,
          -1.2448279322210838,
          -0.8563469129610821,
          -0.7708019907165594
         ],
         "z": [
          -0.3752444706700093,
          -0.6948325394928744,
          -1.030237857797632,
          -0.7307030948859408,
          -0.36158816205238153,
          -0.5842605301237245,
          -0.45480574178041905,
          -0.9591363630285371,
          -0.4706906743024129,
          -0.5478162453510593,
          -0.7655973609931189,
          -0.38195512324735126,
          -0.5474902177359805,
          -0.5118248465312812,
          -0.5804405474323023,
          -0.4402429141777541,
          -0.8795609225971787,
          -0.8179125416972621,
          -0.507213487493673,
          -0.9112451575713791,
          -1.0742227336548216,
          -0.2917803095691557,
          -0.7273502335937281,
          0.05600472030057045,
          -0.40876782102031145
         ]
        },
        {
         "hovertemplate": "color=9<br>x=%{x}<br>y=%{y}<br>z=%{z}<extra></extra>",
         "legendgroup": "9",
         "marker": {
          "color": "#19d3f3",
          "symbol": "circle"
         },
         "mode": "markers",
         "name": "9",
         "scene": "scene",
         "showlegend": true,
         "type": "scatter3d",
         "x": [
          -0.0021892753737453577,
          -0.006657963493699717,
          -0.19112878355429377,
          0.00917498421463502,
          -0.29977700626204196,
          0.1167136164604407,
          -0.17660717287541372,
          -0.05361148840907552,
          0.034216797683439805,
          0.271145962017467,
          -0.112376610232139,
          0.16575902977442572,
          -0.03035057172939878,
          0.4787389179962467,
          -0.6184165014158601,
          0.15967399528366039,
          0.38306033924448024,
          -0.2368283310576734,
          0.43298765685902213,
          0.10083500680547673,
          0.496122015269393,
          -0.35626293263519254,
          -0.05340735652066122,
          0.3349253582403977,
          -0.2680785048750682,
          -0.14016461271900227,
          -0.001288844044367746,
          -0.1460862234837782,
          0.014552547360875166,
          -0.04748273943412704,
          -0.09355010965640019,
          -0.12185779878649951,
          -0.0766511151779265,
          -0.0852343542752728,
          0.18811879396247222,
          0.2567640581229975,
          -0.79252254688161,
          0.05630534780171953,
          0.1549307220078881,
          -0.19961247374199162,
          -0.0291920688748324,
          -0.13159883343664047,
          0.019862602067636775,
          -0.46862627348013547,
          0.09650686079748735,
          -0.0688245052875526,
          0.055028295115580425,
          0.2504616780148085,
          -0.13660250992816345,
          -0.3940932023340681,
          0.06242365969472572,
          -0.009294429448287903,
          -0.06816269077062763,
          -0.1636686020850721,
          -0.37143437461504364,
          -0.05558464270474285,
          -0.5826417106390819,
          0.01323902438720964,
          0.19650135864817808,
          0.0233535371814362,
          0.06897048980490497,
          -0.19606120691947548
         ],
         "y": [
          -0.31630391725655443,
          -0.5765387405170512,
          -0.9774498375144057,
          -0.35865475722015233,
          -0.9257914685430124,
          -1.3353017535511449,
          -0.8361215044914082,
          -0.6057880465793257,
          -0.8359772077513268,
          0.21312018239332706,
          -0.6775572321460817,
          0.2684207194472258,
          -0.8803009066712004,
          -0.4723390998676371,
          -0.5090679686472003,
          -0.5835574400200012,
          -0.6430913680263924,
          -0.5658441477686467,
          -0.03583951714906559,
          -0.7014453886664794,
          -0.6735089023429957,
          -0.48766403466712666,
          0.00636986140736122,
          -0.6618701094935326,
          -0.4400797467834557,
          -0.747380717120914,
          -0.8567527153098068,
          -0.6294220564652864,
          -0.5458384223446329,
          -0.9050574856638942,
          -0.5815237432683033,
          -0.4642893283108055,
          -1.1665814749794945,
          -1.0692444596166524,
          -0.6290681570229225,
          -0.9783029451738768,
          -0.23811840634530376,
          -0.2871943189164536,
          -0.5141829174560512,
          -0.6283502036866548,
          -0.7644518056478437,
          -0.7827965211287601,
          -0.6587946492835253,
          -0.3090611367175129,
          -1.0035012209102216,
          -0.6262027617374771,
          -0.8777768891286136,
          -0.42583248336351887,
          -0.6563167852982391,
          -0.5523780032588962,
          -0.9186683608140895,
          -1.14201105951974,
          -1.030419957287087,
          -0.6995218118563851,
          -0.7764468342957189,
          -0.9570047725407353,
          -0.7198188028238619,
          -0.7055766916859971,
          -0.700954097673426,
          -0.8962860589898978,
          -0.8372886934030007,
          -0.8323737748322071
         ],
         "z": [
          -0.8985188254642442,
          -1.236900709783059,
          -0.6828050913414596,
          -1.4325382172136172,
          -0.4825266933845439,
          -1.1802614331222119,
          -0.9509732676389631,
          -1.4095505466844809,
          -0.9196418685709815,
          -1.3214268760815269,
          -0.9607204076530348,
          -1.575587280417172,
          -1.0100384456135625,
          -0.24914837559769057,
          -1.0025750060086502,
          -0.4726837453316136,
          -1.2289621427846724,
          -1.2864850422148144,
          -1.040470365947322,
          -1.377729529628576,
          -0.913118762385784,
          -0.9452911476340289,
          -0.6546747248868119,
          -0.9819217807979281,
          -1.374957285170906,
          -1.1504285720818666,
          -1.1870224643811302,
          -1.2006304530522536,
          -1.3996169349546779,
          -1.2966553764218263,
          -1.0671441077646255,
          -1.3617132845291213,
          -0.892651439737487,
          -1.2923753752295601,
          -1.0528757069354533,
          -0.9644687968449573,
          -0.4063753504741484,
          -0.5724246265695714,
          -0.8631636673582433,
          -0.9680961007879427,
          -1.12463611204119,
          -1.3415700444649972,
          -1.2157459159012085,
          -1.1300449724861388,
          -1.2972291449754414,
          -1.2014095706525396,
          -1.8348558359840375,
          -1.1649536106402332,
          -1.0571229431058804,
          -1.163862988291085,
          -1.295150009481507,
          -1.1948972820002082,
          -1.3836586213319229,
          -1.0944503146890636,
          -1.3025309580438529,
          -1.2673632841234215,
          -0.7008432140988433,
          -1.559521509746408,
          -0.9712622534274922,
          -1.0396276941385547,
          -1.1375907177490594,
          -1.2632199219181937
         ]
        },
        {
         "hovertemplate": "color=7<br>x=%{x}<br>y=%{y}<br>z=%{z}<extra></extra>",
         "legendgroup": "7",
         "marker": {
          "color": "#FF6692",
          "symbol": "circle"
         },
         "mode": "markers",
         "name": "7",
         "scene": "scene",
         "showlegend": true,
         "type": "scatter3d",
         "x": [
          -1.3328322422897056,
          -1.1102784989214458,
          -1.2384494518012545,
          -1.7429684547401079,
          -1.655201401502018,
          -1.2185355164658915,
          -0.7363691375856852,
          -1.4961248617705545,
          -1.081573286513919,
          -1.8518725893682455,
          -0.9962649964413656,
          -1.2482864675082723,
          -0.785932675690894,
          -1.495871567540242,
          -0.9330942350484674,
          -0.9093092066628212,
          -1.019775128485998,
          -1.1869210441811215,
          -0.858113093213813,
          -1.2002757925085492,
          -1.100480659008001,
          -1.3530284384899807,
          -0.9116768843048785,
          -0.8225325680573312,
          -1.3876508417348634,
          -1.0151565967405207,
          -1.4490952010464684,
          -1.2072455961952646,
          -0.5453616179406859,
          -1.495412363306494,
          -0.8710098082256431,
          -1.0428945099027331,
          -1.4541576065178985,
          -1.0459323853980869,
          -1.203076078701421,
          -1.0331165295516074,
          -1.8195567872781533,
          -1.6883770253286676,
          -1.1813243740886155,
          -0.990390772889063,
          -0.9197475240028172,
          -0.9325960392140086,
          -1.7490470737483963,
          -1.1197384629956573,
          -1.2157314304141675,
          -1.7565168140365401,
          -1.2301438564281697,
          -0.5303659365495005,
          -1.6401778709986017,
          -1.3819072766580562,
          -1.3781222012140775,
          -1.425244764450152,
          -1.0058021951726277,
          -1.8170993104744284
         ],
         "y": [
          -0.5680344802104604,
          -0.7160101257051528,
          -0.7456761203426527,
          -0.7351908313365537,
          -0.453276526543078,
          -0.6146165393499241,
          -0.5201038471992522,
          -0.7292813000017248,
          -0.13672746217899484,
          -0.9831430570151032,
          -0.6516832255381346,
          -0.3383850257479229,
          0.11086658500143577,
          -0.7797365145141274,
          -0.615086341755618,
          -0.30536776044282143,
          -0.2839416038740426,
          -0.4026102419491687,
          -0.570375729452657,
          -0.7435372588763567,
          -0.10794996671636985,
          -0.6708980060511707,
          -0.15212579364660475,
          0.09561822672590185,
          -0.4617967480031164,
          -0.6037781989109914,
          -0.17229020272217244,
          -0.684599983172918,
          0.518846393714542,
          -0.655265465560885,
          -0.7320883213792537,
          -0.587801961344614,
          -0.33424702456043043,
          -0.46164818264337854,
          -0.39969585238996025,
          -0.07084130638537456,
          -1.0538250441435528,
          -0.6651740361522128,
          -0.7850795012471747,
          -1.1582162660208073,
          -0.5738535403383102,
          -0.4435660592678176,
          -0.588911915571617,
          -0.4198181235116321,
          -0.3312378554452172,
          -0.5780377067100892,
          -0.4322422522792595,
          -0.17754366262422372,
          -0.7181791028385028,
          -0.9547848460907558,
          -0.5538221116195602,
          -0.33700587294853696,
          -0.4965792770398886,
          -0.4761970075300172
         ],
         "z": [
          1.6636598330770753,
          1.5975775346166212,
          1.5181626063764653,
          1.2876078343988018,
          1.4641385784597123,
          1.617445289764364,
          1.7613547250919115,
          1.5933513692737458,
          1.4357749723643196,
          1.696494967092108,
          1.6124130180002731,
          1.8233883261417592,
          1.1184247637845217,
          1.5164591927889381,
          1.3530050828466604,
          1.688142033191603,
          1.4182221397529204,
          1.3196291502123656,
          1.1338993560990296,
          1.6293493526420948,
          1.3847976801322723,
          1.422918612912544,
          1.6440255474782879,
          1.530327369672809,
          1.7576789517021074,
          1.6115229288457809,
          1.418327916057316,
          1.7970854419465048,
          1.5920811819236407,
          1.596852576093379,
          1.3112881795083031,
          1.658228716959038,
          0.9264159033623568,
          1.8449375544780828,
          1.732269945359979,
          1.5164215070638458,
          1.4245865294842563,
          1.6691614485659618,
          1.6533678286115552,
          0.7238273092102623,
          1.7172400082857444,
          1.706477735540237,
          1.3187174404485154,
          1.622778721753451,
          1.0272592605783146,
          1.3582188716127723,
          1.7065822719887376,
          1.0319030692193638,
          1.5275542884307836,
          1.6815445512521343,
          0.9423824307234795,
          1.4599066982703424,
          1.7066866109374261,
          1.479688738635402
         ]
        },
        {
         "hovertemplate": "color=8<br>x=%{x}<br>y=%{y}<br>z=%{z}<extra></extra>",
         "legendgroup": "8",
         "marker": {
          "color": "#B6E880",
          "symbol": "circle"
         },
         "mode": "markers",
         "name": "8",
         "scene": "scene",
         "showlegend": true,
         "type": "scatter3d",
         "x": [
          -1.6862943016796061,
          -1.0516274617432577,
          -1.0848716479210052,
          -0.8697060362453777,
          -0.6617843627240007,
          -0.895014270968336,
          -1.152158564337282,
          -1.2228655707506564,
          -1.372615970857387,
          -1.52830194746452,
          -1.1342137042101998,
          -0.8499681119666586,
          -0.9995375425160614,
          -1.657494236643591,
          -1.3909068772987119,
          -1.555031482059276,
          -1.5623375605921925,
          -1.4342060998952304,
          -1.4329094427508067,
          -1.3286720670099852,
          -1.2661210875990692,
          -1.3449768038016507,
          -1.2901201781748237,
          -1.5680163577458615,
          -1.1222815717222725,
          -1.0676366953036198,
          -1.3143316805602665,
          -1.2408353807877028,
          -1.1730278874379616,
          -0.9875900329133406,
          -1.551780321504249,
          -1.3399643598214754,
          -1.4591501593254355,
          -1.4145165817506467,
          -1.362750818860417,
          -0.9153900189320311,
          -1.4104066940424118,
          -1.4049019368164855,
          -1.3876613691279664,
          -1.3999716863331866,
          -1.4615481115530993,
          -0.6768317203382171,
          -1.2794387996658578,
          -0.8041466120706188,
          -1.246089015398795,
          -1.3404067855412276,
          -1.572698920451557,
          -1.092328516900728,
          -1.0644827998903788
         ],
         "y": [
          1.651657512908395,
          1.591900097962011,
          1.5944187654633468,
          0.3763687687858809,
          1.200066469651378,
          1.877363350799469,
          1.1885669242852774,
          1.168404172747418,
          2.070655217862212,
          2.2834177078878053,
          1.4393214796202145,
          0.26694066458518056,
          1.6840782979294138,
          1.6136630603984807,
          1.6696711198364622,
          1.8759115444004997,
          1.8885108661334569,
          1.7133459131100823,
          1.9453119892471233,
          1.9772923674131715,
          1.7675926693141117,
          1.3197235527425377,
          1.659185162909436,
          2.0500460106807115,
          1.9438680279107463,
          1.5634910941684448,
          1.8924683705646368,
          1.65785597866664,
          1.689742328827994,
          1.5854934531335905,
          1.8646235958487634,
          1.6103427403397852,
          1.517524415795487,
          1.7579278229958653,
          1.5729299526803415,
          1.5756868161293378,
          2.245981023565983,
          1.8837518522793841,
          2.281342494098405,
          1.8029293927027323,
          0.7430122640890472,
          1.8242000173721291,
          1.6836010054981643,
          1.57937579540621,
          1.7009428393856738,
          1.9287060947477117,
          1.8573441239505812,
          2.243327642016718,
          1.2640643126925033
         ],
         "z": [
          0.34805344265740906,
          -0.20142963521846893,
          -0.38805990332229723,
          -0.22745762437414832,
          0.5782539031296416,
          -0.41799069658994326,
          -0.05141115960051072,
          -0.24807450679947482,
          -0.1764948598116024,
          -0.5957440395216848,
          -0.07239891756886685,
          -0.19642948836531485,
          -0.35466336765925227,
          -0.6126927157854982,
          -0.6002598997903421,
          -0.45333967679090237,
          -0.4868222102652822,
          -0.5841777042282054,
          -0.3888523388270747,
          -0.17197414048791337,
          -0.43853586813091805,
          -0.11513745098260827,
          -0.45891788814794154,
          -0.5753589552279115,
          -0.29155076213541165,
          -0.2151550858076655,
          0.11101632698040284,
          -0.47923024298724953,
          -0.4560501982599489,
          -0.5523812815433652,
          -0.4310786373791619,
          -0.1385057018591544,
          -0.5316254685861647,
          -0.40061145118500846,
          -0.5345230462168956,
          -0.4309831906085832,
          -0.5415966111058617,
          -0.2680595046603898,
          -0.4271113646685932,
          -0.02969354787804433,
          -0.48341358699500475,
          -0.20475731199206948,
          -0.4142990311820579,
          -0.31422139673715427,
          -0.38110217338304303,
          -0.31575081301544744,
          -0.5212788342786744,
          -0.571064744204523,
          -0.5420480313508816
         ]
        },
        {
         "hovertemplate": "color=2<br>x=%{x}<br>y=%{y}<br>z=%{z}<extra></extra>",
         "legendgroup": "2",
         "marker": {
          "color": "#FF97FF",
          "symbol": "circle"
         },
         "mode": "markers",
         "name": "2",
         "scene": "scene",
         "showlegend": true,
         "type": "scatter3d",
         "x": [
          -1.2922428499340692,
          -1.149454620706766,
          -1.2637264342678032,
          -1.1835212725924111,
          -0.8333030436092241,
          -1.3123870798375112,
          -0.9563494155751635,
          -0.9885301373355666,
          -0.8951366728385878,
          -0.9744978073305117,
          -1.2050569306485166,
          -1.398238383353697,
          -1.1985806440642168,
          -1.257695104266354,
          -0.3516387925307591,
          -1.0189438845603613,
          -1.0843975405624
         ],
         "y": [
          -0.29466005746419566,
          -0.7422817162943767,
          -0.25746311531465815,
          -0.2985309208991696,
          0.3503269161180263,
          0.006029003084144524,
          -0.7019353701793137,
          0.7439692743448177,
          -0.10690034134006138,
          -0.20960270830859587,
          -0.6156064345944768,
          -0.3472754709179148,
          -0.46854880681904904,
          -0.08381845479428744,
          -0.053169941050261654,
          -0.19449777741636337,
          -0.4178806278288899
         ],
         "z": [
          1.836773426081754,
          1.520461320962761,
          1.517427478568253,
          1.4379267325051646,
          1.1951772860418322,
          1.3913592703755249,
          1.2984295742977667,
          1.3528364648752114,
          0.9052046980362932,
          1.2805395343717345,
          0.4678407015585329,
          0.4252343373348991,
          1.1669139779459294,
          1.0037274000351475,
          1.766193359519672,
          1.2705279401910967,
          0.9563906515318891
         ]
        },
        {
         "hovertemplate": "color=1<br>x=%{x}<br>y=%{y}<br>z=%{z}<extra></extra>",
         "legendgroup": "1",
         "marker": {
          "color": "#FECB52",
          "symbol": "circle"
         },
         "mode": "markers",
         "name": "1",
         "scene": "scene",
         "showlegend": true,
         "type": "scatter3d",
         "x": [
          -0.11082471393677946,
          0.0025114482546559924,
          0.3163661403831858,
          0.21012366214056113
         ],
         "y": [
          0.10974500926918346,
          -0.29688865002844617,
          -0.487437191959777,
          -0.8135153639340474
         ],
         "z": [
          -0.12099012542496725,
          0.028437328116751384,
          1.0391898187329058,
          0.4416110971604461
         ]
        }
       ],
       "layout": {
        "height": 400,
        "legend": {
         "title": {
          "text": "color"
         },
         "tracegroupgap": 0
        },
        "scene": {
         "domain": {
          "x": [
           0,
           1
          ],
          "y": [
           0,
           1
          ]
         },
         "xaxis": {
          "title": {
           "text": "c_1"
          }
         },
         "yaxis": {
          "title": {
           "text": "c_2"
          }
         },
         "zaxis": {
          "title": {
           "text": "c_3"
          }
         }
        },
        "template": {
         "data": {
          "bar": [
           {
            "error_x": {
             "color": "#2a3f5f"
            },
            "error_y": {
             "color": "#2a3f5f"
            },
            "marker": {
             "line": {
              "color": "#E5ECF6",
              "width": 0.5
             },
             "pattern": {
              "fillmode": "overlay",
              "size": 10,
              "solidity": 0.2
             }
            },
            "type": "bar"
           }
          ],
          "barpolar": [
           {
            "marker": {
             "line": {
              "color": "#E5ECF6",
              "width": 0.5
             },
             "pattern": {
              "fillmode": "overlay",
              "size": 10,
              "solidity": 0.2
             }
            },
            "type": "barpolar"
           }
          ],
          "carpet": [
           {
            "aaxis": {
             "endlinecolor": "#2a3f5f",
             "gridcolor": "white",
             "linecolor": "white",
             "minorgridcolor": "white",
             "startlinecolor": "#2a3f5f"
            },
            "baxis": {
             "endlinecolor": "#2a3f5f",
             "gridcolor": "white",
             "linecolor": "white",
             "minorgridcolor": "white",
             "startlinecolor": "#2a3f5f"
            },
            "type": "carpet"
           }
          ],
          "choropleth": [
           {
            "colorbar": {
             "outlinewidth": 0,
             "ticks": ""
            },
            "type": "choropleth"
           }
          ],
          "contour": [
           {
            "colorbar": {
             "outlinewidth": 0,
             "ticks": ""
            },
            "colorscale": [
             [
              0,
              "#0d0887"
             ],
             [
              0.1111111111111111,
              "#46039f"
             ],
             [
              0.2222222222222222,
              "#7201a8"
             ],
             [
              0.3333333333333333,
              "#9c179e"
             ],
             [
              0.4444444444444444,
              "#bd3786"
             ],
             [
              0.5555555555555556,
              "#d8576b"
             ],
             [
              0.6666666666666666,
              "#ed7953"
             ],
             [
              0.7777777777777778,
              "#fb9f3a"
             ],
             [
              0.8888888888888888,
              "#fdca26"
             ],
             [
              1,
              "#f0f921"
             ]
            ],
            "type": "contour"
           }
          ],
          "contourcarpet": [
           {
            "colorbar": {
             "outlinewidth": 0,
             "ticks": ""
            },
            "type": "contourcarpet"
           }
          ],
          "heatmap": [
           {
            "colorbar": {
             "outlinewidth": 0,
             "ticks": ""
            },
            "colorscale": [
             [
              0,
              "#0d0887"
             ],
             [
              0.1111111111111111,
              "#46039f"
             ],
             [
              0.2222222222222222,
              "#7201a8"
             ],
             [
              0.3333333333333333,
              "#9c179e"
             ],
             [
              0.4444444444444444,
              "#bd3786"
             ],
             [
              0.5555555555555556,
              "#d8576b"
             ],
             [
              0.6666666666666666,
              "#ed7953"
             ],
             [
              0.7777777777777778,
              "#fb9f3a"
             ],
             [
              0.8888888888888888,
              "#fdca26"
             ],
             [
              1,
              "#f0f921"
             ]
            ],
            "type": "heatmap"
           }
          ],
          "heatmapgl": [
           {
            "colorbar": {
             "outlinewidth": 0,
             "ticks": ""
            },
            "colorscale": [
             [
              0,
              "#0d0887"
             ],
             [
              0.1111111111111111,
              "#46039f"
             ],
             [
              0.2222222222222222,
              "#7201a8"
             ],
             [
              0.3333333333333333,
              "#9c179e"
             ],
             [
              0.4444444444444444,
              "#bd3786"
             ],
             [
              0.5555555555555556,
              "#d8576b"
             ],
             [
              0.6666666666666666,
              "#ed7953"
             ],
             [
              0.7777777777777778,
              "#fb9f3a"
             ],
             [
              0.8888888888888888,
              "#fdca26"
             ],
             [
              1,
              "#f0f921"
             ]
            ],
            "type": "heatmapgl"
           }
          ],
          "histogram": [
           {
            "marker": {
             "pattern": {
              "fillmode": "overlay",
              "size": 10,
              "solidity": 0.2
             }
            },
            "type": "histogram"
           }
          ],
          "histogram2d": [
           {
            "colorbar": {
             "outlinewidth": 0,
             "ticks": ""
            },
            "colorscale": [
             [
              0,
              "#0d0887"
             ],
             [
              0.1111111111111111,
              "#46039f"
             ],
             [
              0.2222222222222222,
              "#7201a8"
             ],
             [
              0.3333333333333333,
              "#9c179e"
             ],
             [
              0.4444444444444444,
              "#bd3786"
             ],
             [
              0.5555555555555556,
              "#d8576b"
             ],
             [
              0.6666666666666666,
              "#ed7953"
             ],
             [
              0.7777777777777778,
              "#fb9f3a"
             ],
             [
              0.8888888888888888,
              "#fdca26"
             ],
             [
              1,
              "#f0f921"
             ]
            ],
            "type": "histogram2d"
           }
          ],
          "histogram2dcontour": [
           {
            "colorbar": {
             "outlinewidth": 0,
             "ticks": ""
            },
            "colorscale": [
             [
              0,
              "#0d0887"
             ],
             [
              0.1111111111111111,
              "#46039f"
             ],
             [
              0.2222222222222222,
              "#7201a8"
             ],
             [
              0.3333333333333333,
              "#9c179e"
             ],
             [
              0.4444444444444444,
              "#bd3786"
             ],
             [
              0.5555555555555556,
              "#d8576b"
             ],
             [
              0.6666666666666666,
              "#ed7953"
             ],
             [
              0.7777777777777778,
              "#fb9f3a"
             ],
             [
              0.8888888888888888,
              "#fdca26"
             ],
             [
              1,
              "#f0f921"
             ]
            ],
            "type": "histogram2dcontour"
           }
          ],
          "mesh3d": [
           {
            "colorbar": {
             "outlinewidth": 0,
             "ticks": ""
            },
            "type": "mesh3d"
           }
          ],
          "parcoords": [
           {
            "line": {
             "colorbar": {
              "outlinewidth": 0,
              "ticks": ""
             }
            },
            "type": "parcoords"
           }
          ],
          "pie": [
           {
            "automargin": true,
            "type": "pie"
           }
          ],
          "scatter": [
           {
            "fillpattern": {
             "fillmode": "overlay",
             "size": 10,
             "solidity": 0.2
            },
            "type": "scatter"
           }
          ],
          "scatter3d": [
           {
            "line": {
             "colorbar": {
              "outlinewidth": 0,
              "ticks": ""
             }
            },
            "marker": {
             "colorbar": {
              "outlinewidth": 0,
              "ticks": ""
             }
            },
            "type": "scatter3d"
           }
          ],
          "scattercarpet": [
           {
            "marker": {
             "colorbar": {
              "outlinewidth": 0,
              "ticks": ""
             }
            },
            "type": "scattercarpet"
           }
          ],
          "scattergeo": [
           {
            "marker": {
             "colorbar": {
              "outlinewidth": 0,
              "ticks": ""
             }
            },
            "type": "scattergeo"
           }
          ],
          "scattergl": [
           {
            "marker": {
             "colorbar": {
              "outlinewidth": 0,
              "ticks": ""
             }
            },
            "type": "scattergl"
           }
          ],
          "scattermapbox": [
           {
            "marker": {
             "colorbar": {
              "outlinewidth": 0,
              "ticks": ""
             }
            },
            "type": "scattermapbox"
           }
          ],
          "scatterpolar": [
           {
            "marker": {
             "colorbar": {
              "outlinewidth": 0,
              "ticks": ""
             }
            },
            "type": "scatterpolar"
           }
          ],
          "scatterpolargl": [
           {
            "marker": {
             "colorbar": {
              "outlinewidth": 0,
              "ticks": ""
             }
            },
            "type": "scatterpolargl"
           }
          ],
          "scatterternary": [
           {
            "marker": {
             "colorbar": {
              "outlinewidth": 0,
              "ticks": ""
             }
            },
            "type": "scatterternary"
           }
          ],
          "surface": [
           {
            "colorbar": {
             "outlinewidth": 0,
             "ticks": ""
            },
            "colorscale": [
             [
              0,
              "#0d0887"
             ],
             [
              0.1111111111111111,
              "#46039f"
             ],
             [
              0.2222222222222222,
              "#7201a8"
             ],
             [
              0.3333333333333333,
              "#9c179e"
             ],
             [
              0.4444444444444444,
              "#bd3786"
             ],
             [
              0.5555555555555556,
              "#d8576b"
             ],
             [
              0.6666666666666666,
              "#ed7953"
             ],
             [
              0.7777777777777778,
              "#fb9f3a"
             ],
             [
              0.8888888888888888,
              "#fdca26"
             ],
             [
              1,
              "#f0f921"
             ]
            ],
            "type": "surface"
           }
          ],
          "table": [
           {
            "cells": {
             "fill": {
              "color": "#EBF0F8"
             },
             "line": {
              "color": "white"
             }
            },
            "header": {
             "fill": {
              "color": "#C8D4E3"
             },
             "line": {
              "color": "white"
             }
            },
            "type": "table"
           }
          ]
         },
         "layout": {
          "annotationdefaults": {
           "arrowcolor": "#2a3f5f",
           "arrowhead": 0,
           "arrowwidth": 1
          },
          "autotypenumbers": "strict",
          "coloraxis": {
           "colorbar": {
            "outlinewidth": 0,
            "ticks": ""
           }
          },
          "colorscale": {
           "diverging": [
            [
             0,
             "#8e0152"
            ],
            [
             0.1,
             "#c51b7d"
            ],
            [
             0.2,
             "#de77ae"
            ],
            [
             0.3,
             "#f1b6da"
            ],
            [
             0.4,
             "#fde0ef"
            ],
            [
             0.5,
             "#f7f7f7"
            ],
            [
             0.6,
             "#e6f5d0"
            ],
            [
             0.7,
             "#b8e186"
            ],
            [
             0.8,
             "#7fbc41"
            ],
            [
             0.9,
             "#4d9221"
            ],
            [
             1,
             "#276419"
            ]
           ],
           "sequential": [
            [
             0,
             "#0d0887"
            ],
            [
             0.1111111111111111,
             "#46039f"
            ],
            [
             0.2222222222222222,
             "#7201a8"
            ],
            [
             0.3333333333333333,
             "#9c179e"
            ],
            [
             0.4444444444444444,
             "#bd3786"
            ],
            [
             0.5555555555555556,
             "#d8576b"
            ],
            [
             0.6666666666666666,
             "#ed7953"
            ],
            [
             0.7777777777777778,
             "#fb9f3a"
            ],
            [
             0.8888888888888888,
             "#fdca26"
            ],
            [
             1,
             "#f0f921"
            ]
           ],
           "sequentialminus": [
            [
             0,
             "#0d0887"
            ],
            [
             0.1111111111111111,
             "#46039f"
            ],
            [
             0.2222222222222222,
             "#7201a8"
            ],
            [
             0.3333333333333333,
             "#9c179e"
            ],
            [
             0.4444444444444444,
             "#bd3786"
            ],
            [
             0.5555555555555556,
             "#d8576b"
            ],
            [
             0.6666666666666666,
             "#ed7953"
            ],
            [
             0.7777777777777778,
             "#fb9f3a"
            ],
            [
             0.8888888888888888,
             "#fdca26"
            ],
            [
             1,
             "#f0f921"
            ]
           ]
          },
          "colorway": [
           "#636efa",
           "#EF553B",
           "#00cc96",
           "#ab63fa",
           "#FFA15A",
           "#19d3f3",
           "#FF6692",
           "#B6E880",
           "#FF97FF",
           "#FECB52"
          ],
          "font": {
           "color": "#2a3f5f"
          },
          "geo": {
           "bgcolor": "white",
           "lakecolor": "white",
           "landcolor": "#E5ECF6",
           "showlakes": true,
           "showland": true,
           "subunitcolor": "white"
          },
          "hoverlabel": {
           "align": "left"
          },
          "hovermode": "closest",
          "mapbox": {
           "style": "light"
          },
          "paper_bgcolor": "white",
          "plot_bgcolor": "#E5ECF6",
          "polar": {
           "angularaxis": {
            "gridcolor": "white",
            "linecolor": "white",
            "ticks": ""
           },
           "bgcolor": "#E5ECF6",
           "radialaxis": {
            "gridcolor": "white",
            "linecolor": "white",
            "ticks": ""
           }
          },
          "scene": {
           "xaxis": {
            "backgroundcolor": "#E5ECF6",
            "gridcolor": "white",
            "gridwidth": 2,
            "linecolor": "white",
            "showbackground": true,
            "ticks": "",
            "zerolinecolor": "white"
           },
           "yaxis": {
            "backgroundcolor": "#E5ECF6",
            "gridcolor": "white",
            "gridwidth": 2,
            "linecolor": "white",
            "showbackground": true,
            "ticks": "",
            "zerolinecolor": "white"
           },
           "zaxis": {
            "backgroundcolor": "#E5ECF6",
            "gridcolor": "white",
            "gridwidth": 2,
            "linecolor": "white",
            "showbackground": true,
            "ticks": "",
            "zerolinecolor": "white"
           }
          },
          "shapedefaults": {
           "line": {
            "color": "#2a3f5f"
           }
          },
          "ternary": {
           "aaxis": {
            "gridcolor": "white",
            "linecolor": "white",
            "ticks": ""
           },
           "baxis": {
            "gridcolor": "white",
            "linecolor": "white",
            "ticks": ""
           },
           "bgcolor": "#E5ECF6",
           "caxis": {
            "gridcolor": "white",
            "linecolor": "white",
            "ticks": ""
           }
          },
          "title": {
           "x": 0.05
          },
          "xaxis": {
           "automargin": true,
           "gridcolor": "white",
           "linecolor": "white",
           "ticks": "",
           "title": {
            "standoff": 15
           },
           "zerolinecolor": "white",
           "zerolinewidth": 2
          },
          "yaxis": {
           "automargin": true,
           "gridcolor": "white",
           "linecolor": "white",
           "ticks": "",
           "title": {
            "standoff": 15
           },
           "zerolinecolor": "white",
           "zerolinewidth": 2
          }
         }
        },
        "title": {
         "text": "Isomap_3_comp - 0.145 sec."
        },
        "width": 500
       }
      }
     },
     "metadata": {},
     "output_type": "display_data"
    },
    {
     "data": {
      "application/vnd.plotly.v1+json": {
       "config": {
        "plotlyServerURL": "https://plot.ly"
       },
       "data": [
        {
         "hovertemplate": "color=5<br>x=%{x}<br>y=%{y}<br>z=%{z}<extra></extra>",
         "legendgroup": "5",
         "marker": {
          "color": "#636efa",
          "symbol": "circle"
         },
         "mode": "markers",
         "name": "5",
         "scene": "scene",
         "showlegend": true,
         "type": "scatter3d",
         "x": [
          -0.005616795293759424,
          -0.006753003796292227,
          -0.0052818123022821545,
          0.007564414003584173,
          -0.004305856887178605,
          -0.008137388288305035,
          -0.005948017759434151,
          -0.0029286200328311907,
          -0.010155713833679365,
          -0.00945115075441208,
          -0.003756799406226169,
          -0.010339771720878535,
          -0.007558065142552689,
          0.001537149184326187,
          -0.008664312867609276,
          -0.007327896749814551,
          -0.006371794005623828,
          -0.009206813211944637,
          -0.003111421818577098,
          -0.009839165654576473,
          -0.004213164391629602,
          -0.00740543002936378,
          -0.008214796517906839,
          -0.0061485517239837015,
          -0.009465725582184028,
          0.0033789340812735574,
          -0.0063745556413711615,
          -0.010934215920865627,
          -0.009438385981182892,
          -0.009332905984275084,
          -0.007077360010716301,
          -0.0049447958956041205,
          -0.008223426842436383,
          -0.02045666476866808,
          -0.0060658188440475755,
          -0.007495008830366259,
          -0.007068252944701751,
          -0.008139065468276052,
          -0.008007072077590606,
          -0.010171680944952584,
          -0.005835000404106306,
          -0.007251517453871427,
          -0.008165495801344201,
          -0.025105453646997747,
          0.0015853766716687585,
          -0.02311515329677598,
          -0.009681906899634274,
          -0.005489194447728246,
          0.0019260343246133294,
          -0.009385279030675459,
          -0.004805830097254535,
          -0.009034070474731343,
          -0.01088873255361443,
          -0.007744295701433087,
          -0.006983644541750794,
          -0.007578893252426597,
          0.007968499427927905,
          -0.011304228267381254,
          -0.008742552608955782,
          0.005590280484807947,
          0.0005839578328931672,
          -0.01252025669032205,
          -0.007846846258203671,
          -0.0065280584757386705,
          -0.010987460735228258,
          -0.008261487871713647,
          -0.0035972071659540125,
          -0.007904327169319499,
          -0.009110560447796706,
          -0.007577072893706696,
          -0.006685717802755776,
          0.0007270499159550553,
          -0.00855564292065241,
          -0.0026662074010376314,
          -0.00045818521101229776,
          -0.008600621017938605,
          -0.0071015642904740245,
          -0.009759952239621825,
          -0.001177858202952554
         ],
         "y": [
          0.0024154350724716837,
          -0.001828792948187087,
          -0.0033314909045726385,
          -0.002842636795507142,
          -0.001486869917355145,
          -0.0009252815665976438,
          -0.0015314031453311488,
          -0.001797589073239789,
          -0.0020144026323693984,
          -0.0014612475372283301,
          -0.002405093919454336,
          0.0016804999081820801,
          -0.0019545239756718034,
          -0.002402513617989159,
          -0.0008012255293646381,
          -0.0008650339399901563,
          -0.0021722948447984412,
          -0.001346007436388942,
          -0.0021783052954303384,
          -0.002184151382103386,
          -0.00224899923250671,
          -0.0028549093206362425,
          -0.0015738222656589695,
          -0.0021839922347085365,
          -0.0016971259843072614,
          0.05729216951445691,
          -0.0013049314311470613,
          0.00022967459491270853,
          -0.0000748212349259425,
          -0.0010224911597177602,
          -0.00524259597418425,
          -0.0017537027795378034,
          -0.0014988186618611257,
          -0.0003949643257147341,
          -0.002746962164353224,
          -0.0017823611190535722,
          -0.0012510515125925513,
          -0.0009467610807970574,
          -0.0015587346993145184,
          -0.0009784064310380675,
          -0.003628998525068046,
          -0.0016277700993888884,
          -0.002037600846928868,
          0.0011118461186658507,
          -0.004225040408801157,
          -0.00001561736683184517,
          -0.0021045235591656344,
          -0.0021668379760247138,
          -0.0033473185823296933,
          -0.0018293998669458855,
          -0.0036871199474808533,
          -0.0011307353605505706,
          -0.0018673826434445961,
          -0.0010656651855487334,
          -0.002059314480456445,
          -0.002653542706915424,
          -0.0019271757677782608,
          -0.0024922124497246158,
          -0.0019012087114276127,
          -0.004089806429882957,
          -0.0010191328858538476,
          -0.00025540369189861953,
          -0.0017550567084884641,
          0.003930261993025562,
          -0.0015082140318072937,
          -0.0022038054869788926,
          -0.003807595740538308,
          -0.0017911486158137327,
          -0.002397632066677202,
          -0.0028781833055831693,
          0.0044192128265974386,
          -0.0038728414347839538,
          0.00005691176442357282,
          -0.0028389419022485313,
          -0.0012410470264834841,
          -0.00014326669253483804,
          -0.001703711098809943,
          -0.0017625918384053252,
          -0.0037704682035159132
         ],
         "z": [
          0.012745857955459919,
          0.016523382044790993,
          0.013984420797574724,
          0.015157969722960019,
          0.01771513162021253,
          0.015175693424296616,
          0.01940253528542321,
          0.01633623532651419,
          0.01606636650799037,
          0.011814949796280103,
          0.009949369794917205,
          0.017314388909874953,
          0.015916963012834677,
          0.01453054362134087,
          0.014573122632168013,
          0.017133990870045128,
          0.01893664190016217,
          0.012990583706177602,
          0.014347075490816229,
          0.02135636912274726,
          0.01734322550514371,
          0.017923864471042057,
          0.015473000974283734,
          0.016412721784574952,
          0.017399717702808713,
          0.004826438864405455,
          0.016808262950419456,
          0.010944549208546166,
          0.013828485361763829,
          0.011140216177956293,
          0.012664509988424534,
          0.014826366153950131,
          0.018253145147978656,
          -0.0003987282125033319,
          0.01753626965959816,
          0.018330273001350435,
          0.0182621605944209,
          0.017125359476268913,
          0.01694105448325329,
          0.0064486444159443,
          0.011340258496316232,
          0.019505868782835112,
          0.013157805676768379,
          -0.0060436284799202135,
          0.015795812061652703,
          -0.0038650182014276467,
          0.023968546620504808,
          0.017338091952032494,
          0.012467932195490472,
          0.015454055524660296,
          0.017895350886477437,
          0.005271105733510421,
          0.01654718972499578,
          0.018109389557396313,
          0.015718033503246825,
          0.015446515813299186,
          0.01333336507389584,
          0.01375429523145737,
          0.016656366173787893,
          0.015229741467279526,
          0.015670241665579916,
          0.008274989657696822,
          0.0170876078169227,
          0.014493067890317807,
          0.011389909413270422,
          0.022175547681396096,
          0.020019516189824296,
          0.016716718856680225,
          0.014072939788971929,
          0.015510111326935411,
          0.014186327925023393,
          0.010660399718798896,
          0.010809103430385616,
          0.014715010093231902,
          0.014979371988240744,
          0.014684792504471002,
          0.015988152599887152,
          0.013943448128535353,
          0.014819864832394569
         ]
        },
        {
         "hovertemplate": "color=6<br>x=%{x}<br>y=%{y}<br>z=%{z}<extra></extra>",
         "legendgroup": "6",
         "marker": {
          "color": "#EF553B",
          "symbol": "circle"
         },
         "mode": "markers",
         "name": "6",
         "scene": "scene",
         "showlegend": true,
         "type": "scatter3d",
         "x": [
          -0.0023996117015718937,
          0.0030814845880663775,
          0.015181789257697302,
          0.0032825578981282855,
          0.01450799960152288,
          0.008154012839340967,
          0.006145186095126508,
          0.007427570104066097,
          0.004038507902623809,
          0.007640599242934011,
          0.009874521294150174,
          0.006250373695420955,
          0.0074553583521618574,
          0.00753919175427456,
          0.0025839866084838847,
          -0.00013014687446471357,
          0.0023234855553942446,
          0.010806362483982777,
          0.0031624356706213934,
          0.0049512416198814815
         ],
         "y": [
          -0.0038759269631274476,
          -0.003522605277989261,
          -0.007000421346038434,
          -0.004205394897869252,
          -0.0035143845052369865,
          -0.005778891149003604,
          -0.0010422890986974097,
          -0.004962143459950115,
          -0.004684902831132792,
          -0.004582992324338484,
          -0.005031557231920447,
          -0.004565181761584505,
          -0.005058724754554184,
          -0.005335693892797762,
          -0.004003857234784705,
          -0.0038410683274469754,
          -0.004535401109131212,
          -0.005297008642340527,
          -0.0041032449594008945,
          -0.002160012305317792
         ],
         "z": [
          0.007469104675647799,
          0.008014250381852517,
          0.011113244863537972,
          0.00799281105174763,
          0.009097725540585945,
          0.011545888358386703,
          0.008619951237678562,
          0.008986402686953339,
          0.009725908576199795,
          0.003175495863679413,
          0.010791953720199088,
          0.009576700045939125,
          0.01010028427486865,
          0.00951054296523731,
          0.009110337657151052,
          0.008515186824366007,
          0.009810997234617952,
          0.0070245325203845445,
          0.00746864370626087,
          0.009303426567644183
         ]
        },
        {
         "hovertemplate": "color=3<br>x=%{x}<br>y=%{y}<br>z=%{z}<extra></extra>",
         "legendgroup": "3",
         "marker": {
          "color": "#00cc96",
          "symbol": "circle"
         },
         "mode": "markers",
         "name": "3",
         "scene": "scene",
         "showlegend": true,
         "type": "scatter3d",
         "x": [
          0.05233983251483319,
          0.0420645562875509,
          0.04815547209930373,
          0.05680393380790813,
          0.04069211275953093,
          0.04607638957341581,
          0.1105191232533709,
          0.0502193555413087,
          0.06493724363045245,
          0.09070249974877216,
          0.09767983377015937,
          0.05393554172342262,
          0.047299184759382176,
          0.04373917566836266,
          0.05325857720863782,
          0.05657700020984467,
          0.044222851139228164,
          0.05036715951387202,
          0.03600180459391092,
          0.0478197123594208,
          0.03824575485647,
          0.04666684963035639,
          0.06098869753794425,
          0.044659021014622366,
          0.05497221641635358,
          0.04715065662868182,
          0.05218097611498598,
          0.035533750622212666,
          0.05213648468258259,
          0.06008741699366614,
          0.05551703079145892,
          0.03897154484619968,
          0.04836129212806413,
          0.05796463186809104,
          0.048794986719178396,
          0.05525630563981186,
          0.05048485719422333,
          0.04649180649631027,
          0.05230448904896862,
          0.022938725328822563,
          0.06355870686468718,
          0.030387216222274596,
          0.048659457529338764,
          0.05185572196279281,
          0.0326933660572571,
          0.049711176398404305,
          0.05370434613251029,
          0.053303978569472915,
          0.049455804258486696,
          0.04751439627432036,
          0.05319491949574157,
          0.05141588400252533,
          0.05278865692788133,
          0.05772207035603187,
          0.03240930810949578,
          0.3624756338629283,
          0.052076462963128144,
          0.010917662143753159,
          0.057173437890869684,
          0.05238479283236156,
          0.04988907806770763,
          0.04748852700820583,
          0.04999501289697552,
          0.052100387232743406,
          0.04453426056198097,
          0.04906846110567836,
          0.053891193110747776,
          0.05081431357859145,
          0.05261519025898355,
          0.06188131104023931,
          0.05651437622112362,
          0.05438091897222308,
          0.09330877487870678,
          0.10780640265040345,
          0.04794212011321621,
          0.038337297839725754,
          0.05187100063185656,
          0.03713360010245763,
          0.05665502756160815,
          0.0357149105239983,
          0.031529354660974396,
          0.05407090930824389,
          0.0526344153167512,
          0.007163737696733882,
          0.04768289640494431,
          0.05902393694898555,
          0.059645691205494435,
          0.047067092106556505,
          0.044966005888388866,
          0.05756301798413682,
          0.046375222012129555,
          0.0417063363736362,
          0.05511766573746583,
          0.05087287174336765,
          0.04623175115679028,
          0.05845819635970223,
          0.05220453991452667,
          0.07131240625977806,
          0.05353492234507475,
          0.05173082231654165,
          0.04758160071569552,
          0.05258444302595319,
          0.06282492255547587,
          0.10199283671566393,
          0.0638211454544707,
          0.04292634172839585,
          0.05051712158004358,
          0.0314281659452024,
          0.0572892768645867,
          0.05186230237601368,
          0.06500396420425489,
          0.050779117536352975,
          0.020974720007324713,
          0.05139214497859624,
          0.0517883109542971,
          0.06756379726242838,
          0.040837555916983403,
          0.04614627424827754,
          0.02243061047743261,
          0.04495996588501926,
          0.052846999109844,
          0.05194719196814973,
          0.34638297572157123,
          0.04442409012654098,
          0.05100502015225479,
          0.0500444943039014,
          0.041182480364180166,
          0.05497736767267253,
          0.08348286947913988,
          0.03254913829190779,
          0.0672051386366173,
          0.04007417299040774,
          0.06861481138246073
         ],
         "y": [
          -0.015252521162755453,
          -0.010072653279446585,
          -0.017029187622872498,
          -0.029381096779798617,
          -0.009208911275777762,
          -0.013069133175960188,
          0.6925169895864549,
          -0.013434916936669122,
          0.08360167521692222,
          -0.027997255179970898,
          -0.006805440067332233,
          0.06139606565137422,
          -0.021053868240644653,
          -0.02354961450005974,
          -0.005252302016949491,
          0.003471433704047233,
          0.00003389770595324526,
          0.001472215972569621,
          -0.0033210677791688514,
          0.0027910478510119463,
          -0.0115247628060022,
          -0.005767948503198478,
          -0.009570737920634911,
          -0.009382263803159166,
          -0.00985042395797277,
          0.0068763120775248085,
          -0.004847997727583243,
          -0.011691179917283953,
          -0.014031662779919955,
          -0.012830136943599172,
          -0.016128510652209688,
          -0.013145240821016077,
          -0.01854022579660812,
          0.04390412676638339,
          -0.009591906961405001,
          -0.012934349664105501,
          -0.05822159674901204,
          -0.024117952042483327,
          -0.003740842656658437,
          -0.005157166733893298,
          -0.017258634084049304,
          -0.03882568169764784,
          0.00489918188360982,
          -0.008323560958853763,
          -0.00950557934480118,
          -0.0027530154362792603,
          -0.015953531815266,
          -0.020175542019109115,
          -0.03720633220001483,
          -0.014588214494666504,
          -0.0034927716077930663,
          -0.027722206835174318,
          -0.016419225220134094,
          -0.0021648990935094134,
          -0.005703165128317263,
          -0.10241058307267759,
          -0.0030892579066187503,
          -0.004588798272212851,
          0.014180632284380795,
          -0.007934790469248616,
          -0.00916259413717081,
          -0.014618210985782101,
          -0.005983599381622871,
          0.008920913360669892,
          -0.04332106348879404,
          0.015690218158544867,
          -0.002630403541014896,
          -0.04805977774890177,
          -0.04761645850489082,
          -0.013742055332417805,
          -0.01235849943216313,
          -0.0482188909339483,
          0.020289649396920822,
          0.6536885303470369,
          -0.01643118684359702,
          0.004552764126084675,
          -0.022427693250034037,
          -0.0036708331681191697,
          0.013830714882859207,
          -0.009087523865307923,
          -0.01123838222149675,
          -0.007769130654025083,
          -0.013865648178383858,
          -0.0004995904086132555,
          0.00378322800414143,
          -0.0035701501850824054,
          -0.006937177422891214,
          -0.039137293937861695,
          -0.010854579255625656,
          -0.01832080259753953,
          -0.01380613567713078,
          0.013868752556718114,
          0.008607849080207272,
          0.02789628870117207,
          -0.0027174472405801786,
          0.04840514715663986,
          -0.0024185998733366187,
          0.011735495495652223,
          -0.016689339028851495,
          0.02779951241969031,
          -0.0018913275210203223,
          -0.007281972424880559,
          -0.011538619051367043,
          -0.01091824958843482,
          -0.016759604571740874,
          -0.029458975597367765,
          -0.006562868628527669,
          -0.0059808157468182604,
          -0.01000337035233766,
          -0.01889472400002013,
          -0.011289344492025913,
          -0.0014241898358414162,
          -0.005148113967681075,
          -0.0061745338260645495,
          -0.0025479730671418843,
          -0.01329761023515573,
          -0.01977847599362067,
          -0.05558624022168115,
          0.0032584380940081994,
          -0.016492248019515238,
          -0.000278269350608297,
          -0.0026768890047024815,
          -0.09709289941493833,
          -0.016750835828358485,
          -0.012448307881965694,
          -0.006358739571665599,
          -0.011031457379882335,
          -0.008370331512571237,
          0.01993124883342548,
          -0.0063399719628385275,
          0.05915707264949667,
          -0.01312447291625974,
          -0.04785269168130124
         ],
         "z": [
          0.004635209217459731,
          0.006331627591795161,
          0.009719782640969728,
          0.0012969007325638465,
          0.01049556569788384,
          0.01343912071441955,
          -0.01601585730970102,
          0.007262193772200443,
          -0.0039327642214570715,
          -0.05022036930774326,
          -0.05213964854427247,
          0.007490382136076307,
          0.00925349518617816,
          0.012348928202529363,
          0.005781377144748814,
          0.0018664420403915194,
          0.00013695588770272493,
          0.00862866261122383,
          0.007416468644042509,
          0.003849981231206112,
          0.004057806702712486,
          0.01292008256310409,
          -0.004884177487039676,
          0.00777712093080124,
          0.0008082181527201242,
          0.007122012665025379,
          0.010554937555689536,
          0.008846564094646632,
          0.004574762527131404,
          -0.011308299381676962,
          -0.0011400153523482282,
          0.006637867698060157,
          0.01127946062945892,
          0.005007715853014044,
          0.005988058238051028,
          0.0009174558250765585,
          0.0023002266829251945,
          0.010505545640709262,
          0.0015556649777887926,
          -0.006442811948027937,
          -0.010160176509191106,
          0.011553127917928799,
          0.007691432781799283,
          -0.007660857267043804,
          0.008936996437553468,
          0.007479192535731861,
          0.000017967474888691548,
          0.003252092172400179,
          0.007290913460635866,
          0.005156720002002735,
          0.0056144942458144255,
          0.003555679977424772,
          0.00646406391420163,
          -0.013804668031462006,
          0.004718045617547621,
          -0.4026532171439556,
          0.004263055924114162,
          0.010744680516040392,
          0.0028713459522563753,
          0.004840332998284132,
          0.007881003163888558,
          0.00836915319567387,
          0.010048051161858508,
          0.00855946937848541,
          0.011996509948103203,
          0.004777947699487216,
          -0.005018294287938169,
          0.010610626145589427,
          0.0014896164413639498,
          -0.0010213560549685655,
          0.0015301106434993622,
          0.003223428153718365,
          -0.04278787181896261,
          -0.015198105927030654,
          0.010639624559973505,
          0.006678331791216199,
          0.006066028353898568,
          0.0006618100048946668,
          0.005975113999329575,
          0.01791541950128675,
          0.013225030043492632,
          0.003574520651373654,
          0.007612053412244829,
          0.010652127537882812,
          0.006473316581058158,
          -0.0025616446075847604,
          -0.003250725718370975,
          0.011322590111143123,
          0.003199087831689082,
          -0.0026891554989498523,
          0.006784677732638529,
          0.0072546579403477,
          0.006536706960890846,
          0.0041270243610228435,
          0.004482585875934544,
          0.0014109007636364766,
          0.011466728547274575,
          -0.01968180137885526,
          0.002016350520775166,
          0.006359523758838058,
          0.004225416984570213,
          0.0016682252267780084,
          -0.010705076946870565,
          -0.0629726964375518,
          -0.00896767875698283,
          0.015158800558292398,
          -0.001008885287927178,
          -0.0067938633181355845,
          0.00028781858837978805,
          0.010323575338733387,
          -0.010639764537769898,
          0.007291876227408484,
          0.01444824475273083,
          0.0007986093830393351,
          0.005872832183564991,
          -0.02178077489254809,
          0.00920951695827725,
          0.013283049457585506,
          0.0030276278754416547,
          0.006616403557544427,
          0.0028068443722803708,
          -0.00005160330549875379,
          -0.38148387759810265,
          0.012040496080745769,
          0.0066432978344673835,
          0.009194533270752592,
          0.016763674821052975,
          -0.0079861852820593,
          -0.03172538820471603,
          0.006880779662590399,
          -0.010500529139109968,
          0.011477316798752699,
          -0.016156958519497597
         ]
        },
        {
         "hovertemplate": "color=4<br>x=%{x}<br>y=%{y}<br>z=%{z}<extra></extra>",
         "legendgroup": "4",
         "marker": {
          "color": "#ab63fa",
          "symbol": "circle"
         },
         "mode": "markers",
         "name": "4",
         "scene": "scene",
         "showlegend": true,
         "type": "scatter3d",
         "x": [
          -0.00536038508662022,
          -0.0116091928543497,
          -0.013339095126961999,
          -0.02439574802853312,
          -0.01931802961418743,
          -0.014695992710192188,
          -0.018586438797244025,
          -0.018433995609508848,
          -0.01763881035986431,
          -0.02114596959076151,
          -0.023005729327909202,
          -0.03223016567167373,
          -0.01897005042548782,
          -0.023584950394995422,
          -0.02111300569480771,
          -0.021813910960347394,
          -0.024220420112061256,
          -0.025745038628698168,
          -0.032848839870573875,
          -0.03189574798473467,
          -0.028533734325076728,
          -0.02262731976154815,
          -0.0046884563165253,
          -0.022988570267882473,
          -0.023622258366111037,
          -0.021892388621046012,
          -0.023825202446502262,
          -0.029655500080961704,
          -0.02675165684341238,
          -0.02092191799237012,
          -0.02467386957459653,
          -0.018322852286609154,
          -0.0246828392634656,
          -0.027279820003996,
          -0.02465775727288369,
          -0.022970430205312992,
          -0.017314884054631767,
          -0.03466838830785869,
          -0.02048704548623151,
          -0.03272691867154982,
          -0.018634166157958272,
          -0.025318103467493233,
          -0.018052581632167157,
          -0.03178473148154456,
          -0.018400658966872777,
          -0.021379858544536584,
          -0.03609180759447261,
          -0.026749252492784367,
          -0.02428781123126946,
          -0.02156104708239404,
          -0.015610416275964148,
          -0.032379564978318856,
          -0.008428170946544265,
          -0.02188184045841006,
          -0.013559863721334595,
          -0.02219724446166758,
          -0.021700886508675105
         ],
         "y": [
          0.0007097119004316928,
          -0.0018431370907031688,
          -0.00046253179303538255,
          0.01067610208139239,
          0.010799222007213699,
          -0.001760653943118369,
          -0.00013667605980301895,
          0.00023681722270243316,
          0.0019138181125905838,
          0.0013413043282955658,
          -0.002208358479057204,
          -0.002270212967262014,
          0.000462305267220372,
          0.013437386082688515,
          -0.000865792546123869,
          0.0010921988906334446,
          -0.0027127939742316864,
          0.002360087899491513,
          0.00591181269095133,
          0.0028360497844203553,
          0.0024471876549847643,
          0.005485202082659096,
          0.00457967428851562,
          0.0006280470219228868,
          -0.002428821991856192,
          0.0021282289531766585,
          -0.0010179566321690606,
          0.0021086545382981055,
          0.0031478189139405865,
          -0.0013140499028511457,
          0.0015719375729851756,
          -0.0020058415111301464,
          0.0010242667970492905,
          0.000655741385364565,
          0.0011745925760506294,
          -0.0004080986818421478,
          -0.0003794838515459673,
          -0.00020113592815921774,
          0.002592269714904713,
          0.0018592160459148313,
          -0.002826602720327205,
          0.0018702763722416652,
          0.044813961376695605,
          0.0054468834145340456,
          0.0010818102573539462,
          0.0019118446124389565,
          0.0015854966046378524,
          0.0032981265989043274,
          -0.002526387238506022,
          0.0030961074913921404,
          -0.0013561082350174447,
          0.0015547050023528002,
          0.003184421161789878,
          0.0016955357663122478,
          -0.027653603664381632,
          0.00106862922019275,
          0.00028352573876486153
         ],
         "z": [
          -0.007479385079009446,
          -0.00679803423778589,
          -0.010606548610467906,
          -0.02475752785260628,
          -0.0021188716150699477,
          -0.00432302205526492,
          -0.007683462179604701,
          -0.0032885114740863544,
          0.006474543086956393,
          -0.013181155034803056,
          -0.015277431252801316,
          -0.02828404125358676,
          -0.034249663990279254,
          -0.023961519133982,
          -0.009589611898638101,
          -0.013164422928162202,
          -0.017514374531843076,
          -0.021418928933521975,
          -0.02464723211615044,
          -0.029832001682314584,
          -0.024103323636590117,
          -0.020061651319455528,
          -0.009318466175449597,
          -0.014823702507324482,
          -0.014848221987231534,
          -0.015476697005132017,
          -0.015505358830407517,
          -0.02318253510516921,
          -0.0226784493284063,
          0.005601415313624521,
          -0.01624034672542163,
          -0.0018254620480790407,
          -0.017899792571967273,
          -0.024191040495827452,
          -0.02403785868877728,
          -0.017330629128532074,
          -0.01134899783387518,
          -0.032410674187047336,
          -0.014465452971862039,
          -0.028916139911685807,
          -0.010716253619193929,
          -0.018685318423076143,
          -0.002201899075075315,
          -0.032921732924356004,
          -0.027077804332013747,
          -0.013226661306948738,
          -0.03142991400063961,
          -0.017044008233555022,
          -0.020551749591801498,
          -0.006556023202454325,
          0.0029685595932108268,
          -0.027299219024171928,
          -0.006108321837524019,
          -0.02491394895015429,
          -0.015427203265354829,
          -0.01549963232675191,
          -0.014854793357617205
         ]
        },
        {
         "hovertemplate": "color=0<br>x=%{x}<br>y=%{y}<br>z=%{z}<extra></extra>",
         "legendgroup": "0",
         "marker": {
          "color": "#FFA15A",
          "symbol": "circle"
         },
         "mode": "markers",
         "name": "0",
         "scene": "scene",
         "showlegend": true,
         "type": "scatter3d",
         "x": [
          -0.024530507738697773,
          -0.008548612828939088,
          -0.012092769381698766,
          -0.007734882483639056,
          0.001082497014832852,
          -0.010515424007205308,
          -0.007244411128029871,
          -0.010403937288813864,
          -0.003371354599463451,
          -0.00253068798669997,
          -0.007319792698743843,
          -0.0014765739869081473,
          -0.00789199462966024,
          -0.007543162410202976,
          -0.007225275332587072,
          -0.0033100754993648437,
          -0.0052636217940605495,
          -0.005231793123085457,
          -0.011443121739227846,
          -0.008248631862248897,
          -0.008092313200406265,
          -0.005568697579187071,
          -0.007715286027259571,
          -0.0069654113788461675,
          -0.0012142898636130078
         ],
         "y": [
          0.00037482613213375964,
          -0.0006963394745387874,
          -0.002265036640251919,
          -0.0014240320582861931,
          -0.004960893721259338,
          -0.0008396990911771138,
          -0.0028631868790930937,
          0.0019913780921235885,
          -0.00011275677113203875,
          -0.005163386117536272,
          -0.0025392947130425114,
          -0.002127724867314211,
          -0.0022044403450713,
          -0.0020799346944175706,
          -0.0032255120418930028,
          -0.0010641031002844772,
          -0.0032506870514951297,
          -0.0034926063314584255,
          -0.0016612860197381882,
          -0.0019250361281385785,
          -0.0013465681132602365,
          -0.002886987790205013,
          -0.0019771438386225193,
          -0.002738335963093367,
          -0.005216199216734101
         ],
         "z": [
          -0.006729350974113991,
          0.008986919526367383,
          0.0046225593828305225,
          0.011800621295970086,
          0.003766690259457847,
          0.008837443484683384,
          0.012849452679324386,
          0.004127954485012561,
          0.004497245073114657,
          0.009669463063742377,
          0.012066678433648193,
          0.007079327983375239,
          0.011647657102258402,
          0.012453483720707486,
          0.012510787680020244,
          0.006181794703869505,
          0.010647989788481048,
          0.010520907308224504,
          0.011071113869851788,
          0.009638193302746373,
          0.005770800194320047,
          0.00979838087545252,
          0.011697331703800898,
          0.010722235410343957,
          0.007562360367323898
         ]
        },
        {
         "hovertemplate": "color=9<br>x=%{x}<br>y=%{y}<br>z=%{z}<extra></extra>",
         "legendgroup": "9",
         "marker": {
          "color": "#19d3f3",
          "symbol": "circle"
         },
         "mode": "markers",
         "name": "9",
         "scene": "scene",
         "showlegend": true,
         "type": "scatter3d",
         "x": [
          -0.0015542165917457659,
          -0.006873593462169943,
          -0.004460464200732192,
          -0.0038107022384976513,
          -0.005645061569917444,
          -0.0034103408302886776,
          -0.004751275887494841,
          -0.007394102291363121,
          0.002588831998012922,
          -0.012600443488790022,
          -0.004356308323156904,
          -0.0078019114584745655,
          -0.0030732667935313932,
          0.0035306050660737012,
          -0.02276242443379975,
          0.00500984662695169,
          0.0024432406189396003,
          -0.007556119654965634,
          0.008453067414145352,
          -0.0037119006750756,
          0.0030652237051262046,
          -0.004810266171078572,
          -0.005212939254555577,
          -0.002641711843890813,
          -0.004969728768585771,
          -0.005082806522785227,
          -0.007153687002305897,
          -0.00613411928551634,
          -0.0016614021610605184,
          -0.004474926828442843,
          -0.0050465333603140275,
          -0.0062430944451758175,
          -0.006080851514970648,
          -0.005109470933483788,
          -0.0028736418449097634,
          0.002803162796238587,
          -0.02817614287683893,
          0.004620124128171404,
          -0.0008628162858309862,
          -0.007548232917113713,
          -0.004770227920995879,
          -0.006325545983271511,
          -0.0037565926820781435,
          -0.018142520506785883,
          -0.004699102461904844,
          -0.0037332766662082056,
          -0.005400512789782239,
          -0.000981631429832229,
          -0.006002688755269846,
          -0.014438199813145296,
          -0.005454927022933202,
          -0.003863308510332175,
          -0.004254435524780706,
          -0.005818551557978785,
          -0.008890653439689422,
          -0.004331675677560355,
          -0.009313187948889183,
          -0.00640336349629856,
          0.0006028649456358143,
          -0.004857868605478141,
          -0.005328848469699547,
          -0.006343024589347122
         ],
         "y": [
          -0.00485568122684917,
          -0.005107400680185728,
          -0.005514181619092076,
          -0.0056220483457772655,
          -0.004851997719492828,
          -0.005024716799410946,
          -0.004317403856371679,
          -0.0051735814035874135,
          -0.006386697686517964,
          -0.002591010750117833,
          -0.005313538669772751,
          -0.004406256179469555,
          -0.005484139231189389,
          -0.006955977646658125,
          -0.0021895258611390606,
          -0.007833493905008222,
          -0.007471896618641623,
          -0.004997388269313029,
          -0.0039833080541268745,
          -0.005404163849197712,
          -0.004704723715344259,
          -0.005470695484759171,
          -0.007835573555371882,
          -0.005539167984918223,
          -0.005092098977572582,
          -0.00531388811508008,
          -0.005323978956644786,
          -0.004870386612036037,
          -0.006399634195279051,
          -0.005132126752610246,
          -0.0051641116150489,
          -0.005415197206095457,
          -0.0049399250796755625,
          -0.005240017082221146,
          -0.0051070661681564405,
          -0.004787177984844168,
          -0.002598247243455365,
          -0.005559869497123188,
          -0.0058934241242690755,
          -0.00500927360866024,
          -0.005486804832823801,
          -0.004831205542987387,
          -0.004983563282400641,
          -0.0032392730566708303,
          -0.005521567281271095,
          -0.005735212084010379,
          -0.005274119724964908,
          -0.005490820268174212,
          -0.005295166316222372,
          -0.00360773636155654,
          -0.00522818368548824,
          -0.005006317462341134,
          -0.0050292897176886335,
          -0.004884003415207113,
          -0.00420417343100967,
          -0.005431005127880232,
          -0.0032827099621779883,
          -0.0050860952809972035,
          -0.007122596164646815,
          -0.005331114192576661,
          -0.005049935192556844,
          -0.0053068866742611576
         ],
         "z": [
          0.010599636673667796,
          0.008611353461712597,
          0.013422121575361656,
          0.01177203528014463,
          0.017567323720205655,
          0.014382370026150604,
          0.0100999574950571,
          0.009733417668673751,
          0.012243084988951214,
          -0.007975466867563735,
          0.013115029528820828,
          0.0007316061814237832,
          0.01439922224915121,
          0.01250955347445433,
          -0.006132873423371234,
          0.010776412663023309,
          0.013060791273915504,
          0.009689320837951959,
          0.006824768850338715,
          0.012519575039405699,
          0.00714811234281105,
          0.012149895334621852,
          0.0034217414073615757,
          0.012599790568956833,
          0.012041236471248093,
          0.008792775759355127,
          0.010406192854357399,
          0.010049139096867651,
          0.013958867973825229,
          0.010053699566672942,
          0.01411812593540045,
          0.01052690516506291,
          0.010339332367797022,
          0.013088115025766683,
          0.010870528342926553,
          0.012515987261008506,
          -0.011662607405569361,
          0.015280498819253323,
          0.009009748123355948,
          0.007137298250886236,
          0.011607307906409708,
          0.01266407295145594,
          0.009591328493483334,
          0.0005758440291827299,
          0.01279974370667114,
          0.009137554693639765,
          0.010280901100750606,
          0.014086679478450964,
          0.010388867117770848,
          0.0015647033669209803,
          0.011458237501635701,
          0.012494125246774034,
          0.009261811184844662,
          0.009812474627149445,
          0.0067119840675493835,
          0.013774506134559633,
          0.013089303581970326,
          0.01073664936141036,
          0.012542768415020882,
          0.014118632719065577,
          0.011064450340330295,
          0.01149775342290689
         ]
        },
        {
         "hovertemplate": "color=7<br>x=%{x}<br>y=%{y}<br>z=%{z}<extra></extra>",
         "legendgroup": "7",
         "marker": {
          "color": "#FF6692",
          "symbol": "circle"
         },
         "mode": "markers",
         "name": "7",
         "scene": "scene",
         "showlegend": true,
         "type": "scatter3d",
         "x": [
          -0.021193637737585425,
          -0.0215457555387183,
          -0.02049438198768469,
          -0.020241699267797765,
          -0.021090218601197544,
          -0.020985205553462304,
          -0.01697236470377033,
          -0.01752490130650794,
          -0.02064940159376967,
          -0.02124583640927795,
          -0.021478658022909138,
          -0.02221722515191342,
          -0.012614317942303818,
          -0.022465895956715234,
          -0.020713849737059704,
          -0.020504526990354446,
          -0.020728405136985126,
          -0.02244288827189215,
          -0.02207120174434308,
          -0.02229144705383418,
          -0.015798206997890987,
          -0.02252886224501091,
          -0.017380356821180394,
          -0.01768842188268259,
          -0.021009657405329892,
          -0.020515187914417365,
          -0.019096498277995325,
          -0.02092631794188106,
          -0.013650606995785956,
          -0.02164632483442182,
          -0.0224762722633573,
          -0.019884662803428398,
          -0.02065774067808583,
          -0.021334102235255524,
          -0.019834112044927438,
          -0.022380203781591994,
          -0.021992614754465754,
          -0.020408390302626103,
          -0.021178379665553842,
          -0.019159632394088025,
          -0.021550528422975196,
          -0.02167999950067362,
          -0.023180831918565382,
          -0.022693644682536904,
          -0.017647691603639513,
          -0.021519268289117308,
          -0.019664264863764144,
          -0.005106999776579635,
          -0.021312734603321906,
          -0.020919076304759303,
          -0.030211000510833905,
          -0.020021316512504966,
          -0.021383217764841193,
          -0.02095263077621474
         ],
         "y": [
          -0.0018558513740099744,
          -0.0019511288669915843,
          -0.0013529915929706461,
          -0.0020865918540845865,
          -0.0017156042690347015,
          -0.001737159362207509,
          -0.0033457790348443567,
          -0.00148445277952872,
          -0.0017817578970099057,
          -0.001720622533247956,
          -0.0017787785170191722,
          -0.001747540648080595,
          -0.0020894299469881297,
          -0.002118548623579651,
          -0.0012773624255980496,
          -0.0019438142591009433,
          -0.0015788011373122756,
          -0.0015537825936008985,
          -0.0018943679895020854,
          -0.0018374229147547216,
          -0.0022133771683739423,
          -0.0017720019724047215,
          -0.0014257194291584473,
          -0.002094561356367708,
          -0.0020041854734493963,
          -0.0020219119361554114,
          -0.0015424673845310724,
          -0.0015335196719719058,
          -0.002213612174355832,
          -0.0015138910680980722,
          -0.001372915221666375,
          -0.0017281974033379732,
          0.003695712611967515,
          -0.00197683035858872,
          -0.0016491521063231318,
          -0.0006453992371202241,
          -0.0012392009637491735,
          -0.0016660592734334505,
          -0.0017292948370236996,
          -0.001538070784228275,
          -0.001983803394991192,
          -0.001567074163100625,
          -0.0017653962255257671,
          -0.00167298293867605,
          -0.0014283443443349614,
          -0.0018570761445793477,
          -0.0016631403340451132,
          -0.0009336716798304945,
          -0.0014686587139905727,
          -0.0017622045518817797,
          0.0005568264573631802,
          -0.002125733584716953,
          -0.0017631346578463325,
          -0.001078014217988546
         ],
         "z": [
          0.0653786750655135,
          0.06259418341951598,
          0.05478068929570955,
          0.05924312791852576,
          0.06533801791853713,
          0.06290948333548868,
          0.05826948639424019,
          0.06732622268562549,
          0.06578816538209482,
          0.06265467891936523,
          0.06272050492105394,
          0.06406861948922715,
          0.04885118290742839,
          0.06930287584674859,
          0.06591429944548446,
          0.05219894332922117,
          0.06654127311740773,
          0.06102079144071302,
          0.06807904352130392,
          0.06087801426403899,
          0.0377136380828621,
          0.06283726821119806,
          0.05906898314501355,
          0.04104127682296882,
          0.06532570972236341,
          0.06026881132654999,
          0.05721959024659268,
          0.060242027851835536,
          0.022272462401400114,
          0.06337249927338173,
          0.057532325563914744,
          0.05756577316839744,
          0.05527445673372472,
          0.06454177238481774,
          0.058564647979429965,
          0.04784183143777525,
          0.06262394175696319,
          0.06006269570869935,
          0.05837492321620448,
          0.039226044981859096,
          0.06673106553893371,
          0.05707060077893475,
          0.06013263311178693,
          0.061839627948393025,
          0.03863879320185008,
          0.05421980747180509,
          0.049762817595658274,
          0.04441367439092451,
          0.06499793448185634,
          0.06637555173647114,
          0.03251996016769788,
          0.05102477930819377,
          0.06192983258077686,
          0.06421175395948393
         ]
        },
        {
         "hovertemplate": "color=8<br>x=%{x}<br>y=%{y}<br>z=%{z}<extra></extra>",
         "legendgroup": "8",
         "marker": {
          "color": "#B6E880",
          "symbol": "circle"
         },
         "mode": "markers",
         "name": "8",
         "scene": "scene",
         "showlegend": true,
         "type": "scatter3d",
         "x": [
          -0.07869664650233368,
          -0.08143896824268584,
          -0.0745878740307323,
          -0.06072615094949906,
          -0.03607265109253593,
          -0.08390317743394934,
          -0.06901233398662779,
          -0.08139096478946581,
          -0.07935581002222933,
          -0.07479590466774964,
          -0.062160233324963135,
          -0.05984198815455204,
          -0.0839660022184098,
          -0.06819737082713186,
          -0.083391055566884,
          -0.07643527619550176,
          -0.07806151283721863,
          -0.08235650961040382,
          -0.07818835473587732,
          -0.0804701472224823,
          -0.08032416549718514,
          -0.07846136225781229,
          -0.07943324301027929,
          -0.08310186955594212,
          -0.08336206322479063,
          -0.07939028542352324,
          -0.07531300277184311,
          -0.08151609510334752,
          -0.07404074616310172,
          -0.0702445861232433,
          -0.08146359482761109,
          -0.08068017275059886,
          -0.0855561620216812,
          -0.08311398622535451,
          -0.07937275472783396,
          -0.08425268644728875,
          -0.08622280413058038,
          -0.08135938053744468,
          -0.08409640310337987,
          -0.08054876119917895,
          -0.06607514557951946,
          -0.06933336797894388,
          -0.07931498221145547,
          -0.07467712325891397,
          -0.07362064957947927,
          -0.08042775873581393,
          -0.08638152908580049,
          -0.08419183135277708,
          -0.08149012790574228
         ],
         "y": [
          0.008527889168133539,
          0.008689250824417271,
          0.008150885124535386,
          0.007839436736441857,
          0.0035086963112210684,
          0.009130411398862578,
          0.006976728787648025,
          0.008559071161266023,
          0.008656105958518262,
          0.007603538938373983,
          0.006103045924653258,
          0.005617363487142252,
          0.00914138399904758,
          0.007232313791307385,
          0.00920385929595732,
          0.008258154236512015,
          0.008488602546576372,
          0.009292170822931212,
          0.00850528571307923,
          0.008647555340737426,
          0.00878115776098377,
          0.008878191088074243,
          0.008316147196196562,
          0.009042195517807244,
          0.008968864186319245,
          0.008380268752981791,
          0.008255155889017306,
          0.008845864789450764,
          0.008002114521714995,
          0.008366050440254028,
          0.008816784829600043,
          0.008698628104556974,
          0.009400954786353818,
          0.008828089480523042,
          0.00861005945221549,
          0.009065012749936398,
          0.009419689298637304,
          0.008934028144697915,
          0.009020177349452825,
          0.008725478971675995,
          0.006905116214764015,
          0.007203378330859257,
          0.008633122020536184,
          0.007700089934073312,
          0.007870874057547696,
          0.0086310980456199,
          0.009432309825948622,
          0.009305724675173259,
          0.009005174848436314
         ],
         "z": [
          -0.09297788781921554,
          -0.09654832924574397,
          -0.08333186827165058,
          -0.049537038215855214,
          -0.039334577846097354,
          -0.10206024322594567,
          -0.06866211268188575,
          -0.09776154517630103,
          -0.09634472887458402,
          -0.08745077583264385,
          -0.06742795036884489,
          -0.04847849851457197,
          -0.10117962598676353,
          -0.07876366223637582,
          -0.10162234561822062,
          -0.0899735685134993,
          -0.09250959407159806,
          -0.10208858891703879,
          -0.09299347185024727,
          -0.09816662588738553,
          -0.09672392985054984,
          -0.08784908944820227,
          -0.09018554341117968,
          -0.10164795862524126,
          -0.10228231435029202,
          -0.0944005182107577,
          -0.08954292895825061,
          -0.0971070741809579,
          -0.08550298490141464,
          -0.08090816412667401,
          -0.09763222415842265,
          -0.09679068050151911,
          -0.10413767470939517,
          -0.10060889004416959,
          -0.09255839063949062,
          -0.10128018568253455,
          -0.10561794479634856,
          -0.1005009488993105,
          -0.10251683772854182,
          -0.0964058259596699,
          -0.06924763528566502,
          -0.07833420794751951,
          -0.09472682723604275,
          -0.08531118062035077,
          -0.08688557014479588,
          -0.09827958945519738,
          -0.10564919278511442,
          -0.10329440563273745,
          -0.09732115505329443
         ]
        },
        {
         "hovertemplate": "color=2<br>x=%{x}<br>y=%{y}<br>z=%{z}<extra></extra>",
         "legendgroup": "2",
         "marker": {
          "color": "#FF97FF",
          "symbol": "circle"
         },
         "mode": "markers",
         "name": "2",
         "scene": "scene",
         "showlegend": true,
         "type": "scatter3d",
         "x": [
          -0.022195092047526253,
          -0.02273114981128388,
          -0.024643010259137944,
          -0.022961519146657845,
          -0.01832123201844929,
          -0.024737293487864083,
          -0.018247570568700567,
          -0.034793557254994514,
          -0.015393749236491491,
          -0.01989807507938856,
          -0.0170254776818431,
          -0.03047319937205925,
          -0.025513952019643734,
          -0.03413805650880538,
          -0.014913685450549913,
          -0.02170499251357223,
          -0.02110764244611294
         ],
         "y": [
          -0.001649882497929217,
          -0.0016110852077085153,
          -0.0010221336879235876,
          -0.0014823235508835617,
          -0.0012026568171276397,
          -0.0007716260688553911,
          -0.0022310218486392835,
          0.0013162216294689416,
          -0.0026151042312652674,
          -0.0022739057228730597,
          -0.0010685391209823147,
          0.0003036800617309404,
          -0.0008436778129866859,
          0.0006866871441237737,
          -0.0034687221091132606,
          -0.002107775210112718,
          -0.001008622081528035
         ],
         "z": [
          0.05364030649818328,
          0.05705687096915714,
          0.046113072789965216,
          0.04048449544583,
          0.020255283314175088,
          0.044060872028638065,
          0.034911677088333794,
          0.000388940543579519,
          0.027254543341962575,
          0.04274616486892534,
          0.031034883632238483,
          0.0215185309584384,
          0.04033945785779704,
          0.012345609191566569,
          0.03666882872321865,
          0.05258761367985371,
          0.03663688230571137
         ]
        },
        {
         "hovertemplate": "color=1<br>x=%{x}<br>y=%{y}<br>z=%{z}<extra></extra>",
         "legendgroup": "1",
         "marker": {
          "color": "#FECB52",
          "symbol": "circle"
         },
         "mode": "markers",
         "name": "1",
         "scene": "scene",
         "showlegend": true,
         "type": "scatter3d",
         "x": [
          -0.013619369879353629,
          -0.003442608375628625,
          0.00039744225638339153,
          -0.006914141415596712
         ],
         "y": [
          -0.003242360012816331,
          -0.005033112224958496,
          -0.010565721216505251,
          -0.0034392189219621706
         ],
         "z": [
          0.0000036947454368531363,
          0.011709054704883641,
          0.02570904143464975,
          0.020614025029420672
         ]
        }
       ],
       "layout": {
        "height": 400,
        "legend": {
         "title": {
          "text": "color"
         },
         "tracegroupgap": 0
        },
        "scene": {
         "domain": {
          "x": [
           0,
           1
          ],
          "y": [
           0,
           1
          ]
         },
         "xaxis": {
          "title": {
           "text": "c_1"
          }
         },
         "yaxis": {
          "title": {
           "text": "c_2"
          }
         },
         "zaxis": {
          "title": {
           "text": "c_3"
          }
         }
        },
        "template": {
         "data": {
          "bar": [
           {
            "error_x": {
             "color": "#2a3f5f"
            },
            "error_y": {
             "color": "#2a3f5f"
            },
            "marker": {
             "line": {
              "color": "#E5ECF6",
              "width": 0.5
             },
             "pattern": {
              "fillmode": "overlay",
              "size": 10,
              "solidity": 0.2
             }
            },
            "type": "bar"
           }
          ],
          "barpolar": [
           {
            "marker": {
             "line": {
              "color": "#E5ECF6",
              "width": 0.5
             },
             "pattern": {
              "fillmode": "overlay",
              "size": 10,
              "solidity": 0.2
             }
            },
            "type": "barpolar"
           }
          ],
          "carpet": [
           {
            "aaxis": {
             "endlinecolor": "#2a3f5f",
             "gridcolor": "white",
             "linecolor": "white",
             "minorgridcolor": "white",
             "startlinecolor": "#2a3f5f"
            },
            "baxis": {
             "endlinecolor": "#2a3f5f",
             "gridcolor": "white",
             "linecolor": "white",
             "minorgridcolor": "white",
             "startlinecolor": "#2a3f5f"
            },
            "type": "carpet"
           }
          ],
          "choropleth": [
           {
            "colorbar": {
             "outlinewidth": 0,
             "ticks": ""
            },
            "type": "choropleth"
           }
          ],
          "contour": [
           {
            "colorbar": {
             "outlinewidth": 0,
             "ticks": ""
            },
            "colorscale": [
             [
              0,
              "#0d0887"
             ],
             [
              0.1111111111111111,
              "#46039f"
             ],
             [
              0.2222222222222222,
              "#7201a8"
             ],
             [
              0.3333333333333333,
              "#9c179e"
             ],
             [
              0.4444444444444444,
              "#bd3786"
             ],
             [
              0.5555555555555556,
              "#d8576b"
             ],
             [
              0.6666666666666666,
              "#ed7953"
             ],
             [
              0.7777777777777778,
              "#fb9f3a"
             ],
             [
              0.8888888888888888,
              "#fdca26"
             ],
             [
              1,
              "#f0f921"
             ]
            ],
            "type": "contour"
           }
          ],
          "contourcarpet": [
           {
            "colorbar": {
             "outlinewidth": 0,
             "ticks": ""
            },
            "type": "contourcarpet"
           }
          ],
          "heatmap": [
           {
            "colorbar": {
             "outlinewidth": 0,
             "ticks": ""
            },
            "colorscale": [
             [
              0,
              "#0d0887"
             ],
             [
              0.1111111111111111,
              "#46039f"
             ],
             [
              0.2222222222222222,
              "#7201a8"
             ],
             [
              0.3333333333333333,
              "#9c179e"
             ],
             [
              0.4444444444444444,
              "#bd3786"
             ],
             [
              0.5555555555555556,
              "#d8576b"
             ],
             [
              0.6666666666666666,
              "#ed7953"
             ],
             [
              0.7777777777777778,
              "#fb9f3a"
             ],
             [
              0.8888888888888888,
              "#fdca26"
             ],
             [
              1,
              "#f0f921"
             ]
            ],
            "type": "heatmap"
           }
          ],
          "heatmapgl": [
           {
            "colorbar": {
             "outlinewidth": 0,
             "ticks": ""
            },
            "colorscale": [
             [
              0,
              "#0d0887"
             ],
             [
              0.1111111111111111,
              "#46039f"
             ],
             [
              0.2222222222222222,
              "#7201a8"
             ],
             [
              0.3333333333333333,
              "#9c179e"
             ],
             [
              0.4444444444444444,
              "#bd3786"
             ],
             [
              0.5555555555555556,
              "#d8576b"
             ],
             [
              0.6666666666666666,
              "#ed7953"
             ],
             [
              0.7777777777777778,
              "#fb9f3a"
             ],
             [
              0.8888888888888888,
              "#fdca26"
             ],
             [
              1,
              "#f0f921"
             ]
            ],
            "type": "heatmapgl"
           }
          ],
          "histogram": [
           {
            "marker": {
             "pattern": {
              "fillmode": "overlay",
              "size": 10,
              "solidity": 0.2
             }
            },
            "type": "histogram"
           }
          ],
          "histogram2d": [
           {
            "colorbar": {
             "outlinewidth": 0,
             "ticks": ""
            },
            "colorscale": [
             [
              0,
              "#0d0887"
             ],
             [
              0.1111111111111111,
              "#46039f"
             ],
             [
              0.2222222222222222,
              "#7201a8"
             ],
             [
              0.3333333333333333,
              "#9c179e"
             ],
             [
              0.4444444444444444,
              "#bd3786"
             ],
             [
              0.5555555555555556,
              "#d8576b"
             ],
             [
              0.6666666666666666,
              "#ed7953"
             ],
             [
              0.7777777777777778,
              "#fb9f3a"
             ],
             [
              0.8888888888888888,
              "#fdca26"
             ],
             [
              1,
              "#f0f921"
             ]
            ],
            "type": "histogram2d"
           }
          ],
          "histogram2dcontour": [
           {
            "colorbar": {
             "outlinewidth": 0,
             "ticks": ""
            },
            "colorscale": [
             [
              0,
              "#0d0887"
             ],
             [
              0.1111111111111111,
              "#46039f"
             ],
             [
              0.2222222222222222,
              "#7201a8"
             ],
             [
              0.3333333333333333,
              "#9c179e"
             ],
             [
              0.4444444444444444,
              "#bd3786"
             ],
             [
              0.5555555555555556,
              "#d8576b"
             ],
             [
              0.6666666666666666,
              "#ed7953"
             ],
             [
              0.7777777777777778,
              "#fb9f3a"
             ],
             [
              0.8888888888888888,
              "#fdca26"
             ],
             [
              1,
              "#f0f921"
             ]
            ],
            "type": "histogram2dcontour"
           }
          ],
          "mesh3d": [
           {
            "colorbar": {
             "outlinewidth": 0,
             "ticks": ""
            },
            "type": "mesh3d"
           }
          ],
          "parcoords": [
           {
            "line": {
             "colorbar": {
              "outlinewidth": 0,
              "ticks": ""
             }
            },
            "type": "parcoords"
           }
          ],
          "pie": [
           {
            "automargin": true,
            "type": "pie"
           }
          ],
          "scatter": [
           {
            "fillpattern": {
             "fillmode": "overlay",
             "size": 10,
             "solidity": 0.2
            },
            "type": "scatter"
           }
          ],
          "scatter3d": [
           {
            "line": {
             "colorbar": {
              "outlinewidth": 0,
              "ticks": ""
             }
            },
            "marker": {
             "colorbar": {
              "outlinewidth": 0,
              "ticks": ""
             }
            },
            "type": "scatter3d"
           }
          ],
          "scattercarpet": [
           {
            "marker": {
             "colorbar": {
              "outlinewidth": 0,
              "ticks": ""
             }
            },
            "type": "scattercarpet"
           }
          ],
          "scattergeo": [
           {
            "marker": {
             "colorbar": {
              "outlinewidth": 0,
              "ticks": ""
             }
            },
            "type": "scattergeo"
           }
          ],
          "scattergl": [
           {
            "marker": {
             "colorbar": {
              "outlinewidth": 0,
              "ticks": ""
             }
            },
            "type": "scattergl"
           }
          ],
          "scattermapbox": [
           {
            "marker": {
             "colorbar": {
              "outlinewidth": 0,
              "ticks": ""
             }
            },
            "type": "scattermapbox"
           }
          ],
          "scatterpolar": [
           {
            "marker": {
             "colorbar": {
              "outlinewidth": 0,
              "ticks": ""
             }
            },
            "type": "scatterpolar"
           }
          ],
          "scatterpolargl": [
           {
            "marker": {
             "colorbar": {
              "outlinewidth": 0,
              "ticks": ""
             }
            },
            "type": "scatterpolargl"
           }
          ],
          "scatterternary": [
           {
            "marker": {
             "colorbar": {
              "outlinewidth": 0,
              "ticks": ""
             }
            },
            "type": "scatterternary"
           }
          ],
          "surface": [
           {
            "colorbar": {
             "outlinewidth": 0,
             "ticks": ""
            },
            "colorscale": [
             [
              0,
              "#0d0887"
             ],
             [
              0.1111111111111111,
              "#46039f"
             ],
             [
              0.2222222222222222,
              "#7201a8"
             ],
             [
              0.3333333333333333,
              "#9c179e"
             ],
             [
              0.4444444444444444,
              "#bd3786"
             ],
             [
              0.5555555555555556,
              "#d8576b"
             ],
             [
              0.6666666666666666,
              "#ed7953"
             ],
             [
              0.7777777777777778,
              "#fb9f3a"
             ],
             [
              0.8888888888888888,
              "#fdca26"
             ],
             [
              1,
              "#f0f921"
             ]
            ],
            "type": "surface"
           }
          ],
          "table": [
           {
            "cells": {
             "fill": {
              "color": "#EBF0F8"
             },
             "line": {
              "color": "white"
             }
            },
            "header": {
             "fill": {
              "color": "#C8D4E3"
             },
             "line": {
              "color": "white"
             }
            },
            "type": "table"
           }
          ]
         },
         "layout": {
          "annotationdefaults": {
           "arrowcolor": "#2a3f5f",
           "arrowhead": 0,
           "arrowwidth": 1
          },
          "autotypenumbers": "strict",
          "coloraxis": {
           "colorbar": {
            "outlinewidth": 0,
            "ticks": ""
           }
          },
          "colorscale": {
           "diverging": [
            [
             0,
             "#8e0152"
            ],
            [
             0.1,
             "#c51b7d"
            ],
            [
             0.2,
             "#de77ae"
            ],
            [
             0.3,
             "#f1b6da"
            ],
            [
             0.4,
             "#fde0ef"
            ],
            [
             0.5,
             "#f7f7f7"
            ],
            [
             0.6,
             "#e6f5d0"
            ],
            [
             0.7,
             "#b8e186"
            ],
            [
             0.8,
             "#7fbc41"
            ],
            [
             0.9,
             "#4d9221"
            ],
            [
             1,
             "#276419"
            ]
           ],
           "sequential": [
            [
             0,
             "#0d0887"
            ],
            [
             0.1111111111111111,
             "#46039f"
            ],
            [
             0.2222222222222222,
             "#7201a8"
            ],
            [
             0.3333333333333333,
             "#9c179e"
            ],
            [
             0.4444444444444444,
             "#bd3786"
            ],
            [
             0.5555555555555556,
             "#d8576b"
            ],
            [
             0.6666666666666666,
             "#ed7953"
            ],
            [
             0.7777777777777778,
             "#fb9f3a"
            ],
            [
             0.8888888888888888,
             "#fdca26"
            ],
            [
             1,
             "#f0f921"
            ]
           ],
           "sequentialminus": [
            [
             0,
             "#0d0887"
            ],
            [
             0.1111111111111111,
             "#46039f"
            ],
            [
             0.2222222222222222,
             "#7201a8"
            ],
            [
             0.3333333333333333,
             "#9c179e"
            ],
            [
             0.4444444444444444,
             "#bd3786"
            ],
            [
             0.5555555555555556,
             "#d8576b"
            ],
            [
             0.6666666666666666,
             "#ed7953"
            ],
            [
             0.7777777777777778,
             "#fb9f3a"
            ],
            [
             0.8888888888888888,
             "#fdca26"
            ],
            [
             1,
             "#f0f921"
            ]
           ]
          },
          "colorway": [
           "#636efa",
           "#EF553B",
           "#00cc96",
           "#ab63fa",
           "#FFA15A",
           "#19d3f3",
           "#FF6692",
           "#B6E880",
           "#FF97FF",
           "#FECB52"
          ],
          "font": {
           "color": "#2a3f5f"
          },
          "geo": {
           "bgcolor": "white",
           "lakecolor": "white",
           "landcolor": "#E5ECF6",
           "showlakes": true,
           "showland": true,
           "subunitcolor": "white"
          },
          "hoverlabel": {
           "align": "left"
          },
          "hovermode": "closest",
          "mapbox": {
           "style": "light"
          },
          "paper_bgcolor": "white",
          "plot_bgcolor": "#E5ECF6",
          "polar": {
           "angularaxis": {
            "gridcolor": "white",
            "linecolor": "white",
            "ticks": ""
           },
           "bgcolor": "#E5ECF6",
           "radialaxis": {
            "gridcolor": "white",
            "linecolor": "white",
            "ticks": ""
           }
          },
          "scene": {
           "xaxis": {
            "backgroundcolor": "#E5ECF6",
            "gridcolor": "white",
            "gridwidth": 2,
            "linecolor": "white",
            "showbackground": true,
            "ticks": "",
            "zerolinecolor": "white"
           },
           "yaxis": {
            "backgroundcolor": "#E5ECF6",
            "gridcolor": "white",
            "gridwidth": 2,
            "linecolor": "white",
            "showbackground": true,
            "ticks": "",
            "zerolinecolor": "white"
           },
           "zaxis": {
            "backgroundcolor": "#E5ECF6",
            "gridcolor": "white",
            "gridwidth": 2,
            "linecolor": "white",
            "showbackground": true,
            "ticks": "",
            "zerolinecolor": "white"
           }
          },
          "shapedefaults": {
           "line": {
            "color": "#2a3f5f"
           }
          },
          "ternary": {
           "aaxis": {
            "gridcolor": "white",
            "linecolor": "white",
            "ticks": ""
           },
           "baxis": {
            "gridcolor": "white",
            "linecolor": "white",
            "ticks": ""
           },
           "bgcolor": "#E5ECF6",
           "caxis": {
            "gridcolor": "white",
            "linecolor": "white",
            "ticks": ""
           }
          },
          "title": {
           "x": 0.05
          },
          "xaxis": {
           "automargin": true,
           "gridcolor": "white",
           "linecolor": "white",
           "ticks": "",
           "title": {
            "standoff": 15
           },
           "zerolinecolor": "white",
           "zerolinewidth": 2
          },
          "yaxis": {
           "automargin": true,
           "gridcolor": "white",
           "linecolor": "white",
           "ticks": "",
           "title": {
            "standoff": 15
           },
           "zerolinecolor": "white",
           "zerolinewidth": 2
          }
         }
        },
        "title": {
         "text": "Stand-LLE_3_comp - 0.076 sec."
        },
        "width": 500
       }
      }
     },
     "metadata": {},
     "output_type": "display_data"
    },
    {
     "data": {
      "application/vnd.plotly.v1+json": {
       "config": {
        "plotlyServerURL": "https://plot.ly"
       },
       "data": [
        {
         "hovertemplate": "color=5<br>x=%{x}<br>y=%{y}<br>z=%{z}<extra></extra>",
         "legendgroup": "5",
         "marker": {
          "color": "#636efa",
          "symbol": "circle"
         },
         "mode": "markers",
         "name": "5",
         "scene": "scene",
         "showlegend": true,
         "type": "scatter3d",
         "x": [
          -0.001452523821063989,
          -0.0026775556818202408,
          -0.004958942491648528,
          -0.0031944552412068623,
          -0.0012752247314911525,
          0.0008683201979027954,
          0.001860487197479263,
          -0.0012628485745574518,
          -0.00017956913251223927,
          0.0009832095132480674,
          -0.006544979620715292,
          0.007331402430401691,
          -0.00040360230640502096,
          -0.005099899106586078,
          -0.000960601576032601,
          -0.0008983642024439412,
          -0.0010601430950469093,
          0.00033998040629193383,
          -0.004811051454843682,
          0.008139651783757213,
          -0.000774571779875198,
          0.004455948697900841,
          -0.00019326839979646277,
          -0.0010544889638681504,
          0.0024707129615247395,
          -0.004502623594799913,
          -0.0004978036519854167,
          0.0010583204536217116,
          -0.0005629052988103169,
          -0.000574702324561796,
          0.005668353394648308,
          0.00003086637461137029,
          0.0007732880249737449,
          0.00438942403997518,
          -0.0006218116968541914,
          0.0009423041005214533,
          0.001456429129149909,
          0.005670820858491777,
          0.0006999864940708454,
          0.005296831007762544,
          0.00404449239920629,
          0.0009520092695256307,
          0.0026703847131420906,
          0.00561753564370547,
          0.0006753292604036343,
          0.006163659669497512,
          0.007746727597325327,
          -0.00001999274603080697,
          -0.004442279672684997,
          0.0005626651457775988,
          0.007131219772000435,
          -0.0030558205255889355,
          0.007761213245570917,
          0.00135307434440444,
          0.000760619837261309,
          -0.0021733268621264984,
          -0.007380135008652779,
          0.0014907279429972472,
          0.0007875156115430341,
          -0.007348205748434464,
          -0.004080176454217064,
          0.0015109513282253332,
          0.0016063183244489126,
          0.001589187247277763,
          0.006670373990605157,
          0.007097693781753213,
          0.002101130698782595,
          -0.00006708284491672368,
          -0.0012162396455373944,
          -0.0016962854161407413,
          0.0007734565501975798,
          -0.004090445641252086,
          0.002154785068426321,
          0.007641068738526639,
          -0.005426566241497088,
          0.0008138151986994926,
          0.0000842188401908338,
          -0.0010711148143040517,
          -0.004439939978615107
         ],
         "y": [
          -0.0028324710505058218,
          -0.004171488449494734,
          -0.003539019981450179,
          -0.016655941410349772,
          -0.0039910882864449115,
          -0.005068782558752918,
          -0.0046479372470203065,
          -0.003922154097885064,
          -0.004462122280701349,
          -0.003796855647887344,
          0.0003364443265675956,
          -0.006100687707761774,
          -0.003657457488151079,
          -0.0026095513318365026,
          -0.0038411387409536717,
          -0.00490099630586977,
          -0.004537867897722847,
          -0.004978760301228009,
          -0.003994391001081945,
          -0.011495700732411771,
          -0.004218297272093034,
          -0.0068016581284893575,
          -0.005191474149841458,
          -0.003996856168322842,
          -0.005273199099726177,
          0.0009906875626928525,
          -0.003976279279233007,
          -0.002831715622802396,
          -0.00316367820494536,
          -0.002634725611227421,
          -0.0011751155722946793,
          -0.005064937870103976,
          -0.004385336204761123,
          0.0043921385085254035,
          -0.005360856414430194,
          -0.0056494632898414195,
          -0.004979290768284648,
          -0.004492408031131941,
          -0.00455751586320523,
          0.006054842014765825,
          0.007089707437853252,
          -0.005242061676275816,
          -0.002055783856742828,
          0.00814360976396138,
          -0.006599724960277029,
          0.004423533406159269,
          -0.012510721961282764,
          -0.004314841509908999,
          -0.004222152150773264,
          -0.0036180540426684208,
          -0.009842208101163544,
          -0.0025111856326608135,
          -0.009239532651394653,
          -0.0050289047631011325,
          -0.00510789701735987,
          -0.0037760014136226845,
          -0.006336491668464182,
          -0.0025397873808450677,
          -0.004848509436760613,
          -0.006201051127380396,
          -0.007114987759745372,
          0.0003081191375988445,
          -0.004475723417171724,
          -0.004738734312343622,
          -0.0010978293359883533,
          -0.01013310528275045,
          -0.0077543779601358526,
          -0.004551713155885694,
          -0.004473810183808852,
          -0.0035847480311652995,
          -0.0038123937182060457,
          -0.002555675583110696,
          -0.0017596986203393483,
          -0.012128934572520164,
          -0.004180939266516241,
          -0.0041862010680213,
          -0.00498519556777604,
          -0.002458893965726265,
          -0.005919578270827006
         ],
         "z": [
          0.03458692737309612,
          0.04504547471725165,
          0.04363202231475079,
          0.011802820693478634,
          0.04265112072893635,
          0.04433780380170461,
          0.042863131682627426,
          0.038404836849918605,
          0.04529402679212964,
          0.037141879532990245,
          0.0338866367184941,
          0.034452033894100384,
          0.04339808194553987,
          0.026637571106558473,
          0.04158185151766376,
          0.043756585733928086,
          0.040363066501513695,
          0.03963752865809669,
          0.0358724505508526,
          0.031716780095520675,
          0.037377378914482125,
          0.02887544647673874,
          0.042311556752967536,
          0.04133019683060493,
          0.040808619871021676,
          0.01718508806289346,
          0.040361948870036746,
          0.04129125260877254,
          0.042712829862043035,
          0.04067316835323496,
          0.006157181038338909,
          0.03853417487419272,
          0.046624867886668066,
          0.03552245706976893,
          0.038698816228630306,
          0.04176726954607468,
          0.04438910915369869,
          0.03530277858154976,
          0.046510480427103484,
          0.01578540604815589,
          0.03172289550453008,
          0.04502746800841023,
          0.03657606262276631,
          0.030981830894000407,
          0.013451188918549125,
          0.0298021221758996,
          0.03475187193284543,
          0.04191062051067887,
          0.032003469751330456,
          0.0423976400565777,
          0.02755601989807888,
          0.028927003061486895,
          0.03095264366784327,
          0.04112575443520315,
          0.04420672497917983,
          0.04234653134960914,
          0.025834166703880782,
          0.03772887563743363,
          0.04391741659661547,
          0.026126851444857643,
          0.027868647690868782,
          0.03977307745679905,
          0.03964688963896072,
          0.03787275964479751,
          0.023945298012195984,
          0.03253239171319895,
          0.028175348161554148,
          0.044135222951967694,
          0.03814839507546665,
          0.03762791621622283,
          0.041186559632365116,
          0.025832295245860216,
          0.03611535765596988,
          0.02935312612876985,
          0.03341432236597245,
          0.038932708843709966,
          0.03916254269443453,
          0.04437540500128781,
          0.025084971718143678
         ]
        },
        {
         "hovertemplate": "color=6<br>x=%{x}<br>y=%{y}<br>z=%{z}<extra></extra>",
         "legendgroup": "6",
         "marker": {
          "color": "#EF553B",
          "symbol": "circle"
         },
         "mode": "markers",
         "name": "6",
         "scene": "scene",
         "showlegend": true,
         "type": "scatter3d",
         "x": [
          -0.015582091609368538,
          -0.021270825681621384,
          -0.025522212372289396,
          -0.022606707881909795,
          -0.022067150031761233,
          -0.02858848218755529,
          -0.024887836243269304,
          -0.024000042592768923,
          -0.02568232159239672,
          -0.02699124330512408,
          -0.024082738543284087,
          -0.02796695249361918,
          -0.027197270716353267,
          -0.027776144573919408,
          -0.020471539587813583,
          -0.023142169725142075,
          -0.015104914198707657,
          -0.03273321604462621,
          -0.022679691642091267,
          -0.02731701766785138
         ],
         "y": [
          0.0009894305129947813,
          0.0005421577910763695,
          -0.003215526387244426,
          0.0018251883026114057,
          -0.0014122680148627967,
          0.0003826403981259744,
          0.0024168411221231613,
          -0.00022900055647349967,
          0.0023661270473006074,
          0.0015087409297426344,
          -0.0006336293547128169,
          0.001523453354521642,
          0.0001519645553783986,
          0.0007600536364016751,
          0.002383729875755033,
          0.0018882290037828906,
          -0.0003081920397200464,
          0.0013365439095069287,
          0.0017184205781930906,
          0.001766280120988688
         ],
         "z": [
          0.08159566054005211,
          0.09695902371559395,
          0.1089403758910449,
          0.10499708024754446,
          0.06482737051882535,
          0.13110165255661668,
          0.11811590408418823,
          0.08657949125013545,
          0.12555097763724427,
          0.10991306469593728,
          0.09303878397591342,
          0.12690529682174095,
          0.1174422627575508,
          0.12331948128502339,
          0.10500354367423145,
          0.11660242057690881,
          0.06651303989792189,
          0.14404403946952526,
          0.11883990777122368,
          0.1378172470038001
         ]
        },
        {
         "hovertemplate": "color=3<br>x=%{x}<br>y=%{y}<br>z=%{z}<extra></extra>",
         "legendgroup": "3",
         "marker": {
          "color": "#00cc96",
          "symbol": "circle"
         },
         "mode": "markers",
         "name": "3",
         "scene": "scene",
         "showlegend": true,
         "type": "scatter3d",
         "x": [
          -0.05675684553930073,
          -0.05454596967289239,
          -0.06001845937603322,
          -0.061866775708443074,
          -0.05419193564983397,
          -0.06013554370748477,
          -0.060023431758097934,
          -0.056098138981031005,
          -0.056945742855769754,
          -0.059612557372560285,
          -0.06009262458376151,
          -0.057295716934868034,
          -0.05972266625038997,
          -0.05524983194588146,
          -0.06196031283914041,
          -0.05964488975986237,
          -0.050188111509439845,
          -0.06250538267376442,
          -0.03834359014884841,
          -0.05422954678300586,
          -0.04120718914473762,
          -0.062188067012258035,
          -0.05736064946927728,
          -0.05603434043207364,
          -0.05549538749919601,
          -0.04645258969942053,
          -0.06166390968815755,
          -0.04429199227551653,
          -0.056646324804190504,
          -0.05781356658222779,
          -0.05588554393749317,
          -0.045849518407496126,
          -0.060080689272188015,
          -0.06209939314051725,
          -0.057018522814496375,
          -0.05657120247411682,
          -0.05993764367945108,
          -0.05484634686448452,
          -0.060845800288702685,
          -0.04140020450196718,
          -0.0584397872407127,
          -0.04445120865654612,
          -0.05673093002148001,
          -0.054395321988621036,
          -0.04382490098158594,
          -0.058238572543832044,
          -0.057863619976016155,
          -0.05811757653801699,
          -0.06077426276737252,
          -0.056166396420603754,
          -0.05853821728477521,
          -0.054507446205015825,
          -0.05717913908888238,
          -0.05072523480673409,
          -0.04169903521747655,
          -0.08193411241207485,
          -0.06104664552100253,
          -0.017384941172484052,
          -0.06022863517786792,
          -0.05878352447779123,
          -0.060912520646770704,
          -0.05766272174617321,
          -0.059501027990218905,
          -0.0577692739741765,
          -0.05824014163404309,
          -0.057844207760177645,
          -0.05736023403511195,
          -0.06335181305909639,
          -0.05876928484455139,
          -0.0620244068010308,
          -0.0584989153197068,
          -0.060497818623301364,
          -0.06295692369310082,
          -0.06112875943358723,
          -0.059377846295037284,
          -0.04857758916645645,
          -0.05833833775303379,
          -0.0355398768916662,
          -0.062345798448281316,
          -0.04903767487768475,
          -0.043168172901304966,
          -0.056911972712858555,
          -0.05923694506901463,
          -0.013688867981793697,
          -0.05937582579919971,
          -0.05783704868848085,
          -0.05935546154368794,
          -0.05748843803715014,
          -0.04625614566579153,
          -0.05262495052617279,
          -0.055617927737770315,
          -0.0478677482097124,
          -0.060924169249890164,
          -0.05434929596646166,
          -0.049325365647274584,
          -0.05992534233215458,
          -0.06107437957275228,
          -0.05950855741290859,
          -0.05629386185360641,
          -0.056497360205752294,
          -0.05393050966174207,
          -0.05620866755159312,
          -0.0559535751513765,
          -0.058226641941121475,
          -0.057031024887909565,
          -0.05877972401315949,
          -0.05210947453549971,
          -0.04278313273015446,
          -0.0615796171648995,
          -0.05776703615847161,
          -0.06016364829356591,
          -0.05998802681731486,
          -0.02678283877586583,
          -0.05682608955899737,
          -0.058659857459014,
          -0.05847833586786004,
          -0.04601043587545387,
          -0.06423173431806832,
          -0.020444187919040506,
          -0.05106740347054215,
          -0.057445984444956376,
          -0.053973776309932484,
          -0.08140872613693215,
          -0.060461111340412134,
          -0.059619633406899915,
          -0.056254873093268785,
          -0.0580645209411329,
          -0.057007934900151803,
          -0.06455088040176515,
          -0.04103216268536033,
          -0.058796836410629695,
          -0.05261422566275659,
          -0.0612195529684316
         ],
         "y": [
          -0.012283798252077083,
          -0.010332851461516386,
          -0.012432143425671584,
          -0.01406312689875953,
          -0.011094108581748094,
          -0.013018645141422367,
          -0.01363219090803361,
          -0.012616058406534911,
          -0.012000328717141824,
          -0.012875308148978491,
          -0.0137542600727754,
          -0.011283826335506656,
          -0.012269796227110833,
          -0.011504334403065716,
          -0.014266146130851916,
          -0.013107480450382111,
          -0.007204465317408823,
          -0.013800208084739064,
          -0.009014202328682566,
          -0.0114531967727729,
          -0.009508121665485286,
          -0.013576375857666004,
          -0.01205790241231878,
          -0.011801290602755185,
          -0.011909111657333831,
          -0.018554512529119563,
          -0.013606244131951727,
          -0.008935153934678473,
          -0.0137441940850116,
          -0.01339039943551201,
          -0.012081555867082917,
          -0.00955191853319889,
          -0.01338790323821132,
          -0.013463435495274486,
          -0.012620338764568523,
          -0.012744169735400324,
          -0.013276537903531354,
          -0.012213580619923205,
          -0.013686503183681172,
          0.0000993760869618861,
          -0.013067977587461598,
          -0.006292666594147246,
          -0.011842679529489648,
          -0.011952668864637138,
          -0.007948082311941456,
          -0.01160244275133817,
          -0.012560436502475998,
          -0.012386381390762377,
          -0.01380340690280343,
          -0.012823586695328727,
          -0.012380431889766223,
          -0.012413744575415168,
          -0.013492190076360456,
          -0.013322632214568492,
          -0.0036613469324358904,
          -0.01933029267414903,
          -0.013379295412238871,
          -0.0002267623722876718,
          -0.0126303720656675,
          -0.012915997393472049,
          -0.014292500995235536,
          -0.01307390215996137,
          -0.013908913067871445,
          -0.012903903091918282,
          -0.012237871552001232,
          -0.011448730033148214,
          -0.011938271966600097,
          -0.013258727283002437,
          -0.01318613645998886,
          -0.01305107611881215,
          -0.012933665813132354,
          -0.013021816407374024,
          -0.014054416240516236,
          -0.013349471396649404,
          -0.01254553574345053,
          -0.009298029231536666,
          -0.012987536301076963,
          -0.0053038974732054255,
          -0.013756739331626832,
          -0.012838267018868353,
          -0.009554763299532993,
          -0.011962038805345613,
          -0.01355271338751772,
          0.0040195475464021605,
          -0.012310217304594686,
          -0.012704392508874274,
          -0.013321221260399524,
          -0.013665829878665438,
          -0.00917081770940567,
          -0.011736312965326345,
          -0.01208303089387189,
          -0.008984046695941782,
          -0.012673365081450273,
          -0.011670744813113833,
          -0.012316692968984072,
          -0.013531943321576603,
          -0.013155244314607835,
          -0.013365890742020893,
          -0.01236085574786913,
          -0.013289132716733263,
          -0.011100470096232981,
          -0.01094822656529826,
          -0.011831718816913342,
          -0.011918186298550093,
          -0.013635126112670128,
          -0.012639096272023441,
          -0.010289962445267125,
          -0.005821429760171032,
          -0.013600891776184239,
          -0.012610127369227345,
          -0.013472579815968415,
          -0.013575769225397528,
          -0.005377146848097987,
          -0.01307684074636169,
          -0.013229140131422895,
          -0.013001554956185218,
          -0.008596643013148598,
          -0.01418783250443109,
          0.0009714349508366565,
          -0.012529363395362026,
          -0.013108957981616154,
          -0.011924914056948835,
          -0.019211082404570395,
          -0.01293916393379445,
          -0.013224658261792673,
          -0.013395438384108229,
          -0.013036392154760578,
          -0.012262553670448033,
          -0.015066400892258545,
          -0.006099305731294028,
          -0.012958424778790526,
          -0.011419731727975781,
          -0.013772471962262871
         ],
         "z": [
          -0.04379914660764313,
          -0.042778367663453755,
          -0.05130690046428385,
          -0.05245048201345932,
          -0.044870895758975786,
          -0.048960715384836324,
          -0.053352533302386644,
          -0.04495895440751761,
          -0.047835561493058745,
          -0.048465838676926,
          -0.050744806471330735,
          -0.045667360334468055,
          -0.04916385538925785,
          -0.045951278220625766,
          -0.05360692404170406,
          -0.0492679170918698,
          -0.0421213730663426,
          -0.05292787139233198,
          -0.026322203719072245,
          -0.0448878054285772,
          -0.030244739643858664,
          -0.05120695950780233,
          -0.04511340797487655,
          -0.04813858210376074,
          -0.0397560021369435,
          -0.04760183411729458,
          -0.049634314350550005,
          -0.024828200708250946,
          -0.04510676407469859,
          -0.045811050098802,
          -0.04752884598317967,
          -0.03271049229805394,
          -0.04863274639663813,
          -0.051521222265393296,
          -0.04428928732898777,
          -0.04346958659571195,
          -0.050415668494906155,
          -0.03811204286281958,
          -0.049551928190898674,
          -0.04135284461449118,
          -0.04879367235526544,
          -0.02826800912568539,
          -0.0450707131691467,
          -0.0434678847522714,
          -0.03029716715889382,
          -0.04731976462901855,
          -0.04864416756443507,
          -0.046595880882628365,
          -0.0520703688209306,
          -0.04479894948208759,
          -0.04887334685664949,
          -0.041431598847729054,
          -0.04325668216066641,
          -0.033599299002973024,
          -0.03411133844410048,
          -0.07985836684353094,
          -0.05098030992428659,
          -0.018871591375466606,
          -0.04947932647959425,
          -0.04630545956828551,
          -0.050794765151402285,
          -0.0447574250404172,
          -0.04990368159278339,
          -0.04826055090634303,
          -0.04590063074422491,
          -0.04922031529935548,
          -0.0475509556953436,
          -0.05340651860231578,
          -0.04927758617871615,
          -0.0531330136186639,
          -0.04618039278510575,
          -0.0524338434241293,
          -0.05512952475563497,
          -0.05420966835676682,
          -0.0502152128359645,
          -0.038698529688058175,
          -0.04906197004440042,
          -0.016877395521034205,
          -0.05305866535074644,
          -0.03601345794163236,
          -0.02163904199635783,
          -0.04718845598451505,
          -0.04939718517763035,
          -0.014841993750334273,
          -0.04963134277288651,
          -0.047372735356356714,
          -0.04676350751398848,
          -0.04855290381461983,
          -0.03512361184249738,
          -0.038129751874319696,
          -0.04301194603043232,
          -0.040323753932369144,
          -0.05009722184178028,
          -0.04480802419715433,
          -0.03334081183210594,
          -0.05036260320528834,
          -0.05087243014911296,
          -0.05211651370186868,
          -0.04459460211720406,
          -0.0456870090813873,
          -0.04474617821874905,
          -0.0461319958995552,
          -0.045484806026701824,
          -0.048192333965191896,
          -0.04662165096802304,
          -0.04499667931638582,
          -0.04437882385699415,
          -0.03543127828261427,
          -0.05200080004095102,
          -0.04815770277277521,
          -0.051683228823944584,
          -0.050135574510365384,
          -0.014996284064850492,
          -0.044696284129196885,
          -0.04825901001733528,
          -0.0492079526521026,
          -0.02111775447728949,
          -0.05369708400319134,
          -0.025246764400349418,
          -0.03858179337959947,
          -0.04622481505212091,
          -0.044933595185091574,
          -0.07910375103762692,
          -0.050491876829245094,
          -0.04655834461964179,
          -0.04116140167591777,
          -0.04510635969308117,
          -0.04824120431919955,
          -0.05655969873613492,
          -0.0313760904897416,
          -0.04844183032290977,
          -0.04154330752935371,
          -0.050238906384685984
         ]
        },
        {
         "hovertemplate": "color=4<br>x=%{x}<br>y=%{y}<br>z=%{z}<extra></extra>",
         "legendgroup": "4",
         "marker": {
          "color": "#ab63fa",
          "symbol": "circle"
         },
         "mode": "markers",
         "name": "4",
         "scene": "scene",
         "showlegend": true,
         "type": "scatter3d",
         "x": [
          -0.003537424658561583,
          0.0003439153610452467,
          0.006498499510183099,
          0.012840202985648972,
          0.012652426004467952,
          0.0019334673597951998,
          0.011595615335859634,
          0.01641955013237441,
          0.02100928090712827,
          0.009487391204561439,
          0.008715970188207186,
          0.0175372102776636,
          0.013269996915496508,
          0.007896218474368022,
          0.00831209106243278,
          0.004186237044800612,
          0.005755156190410298,
          0.012548454770232394,
          0.02073871076705597,
          0.014385232537296755,
          0.00968868248759988,
          0.010800070602516025,
          0.003050202462473574,
          0.0030156443721944177,
          0.0007068772132707029,
          0.011766371539457747,
          0.01425671956606851,
          0.015578421701946977,
          0.01375599918090159,
          0.018589395684753245,
          0.007656660892547706,
          0.00857384353908479,
          0.006673014995271859,
          0.011361300394128838,
          0.014602514622876313,
          0.0026643530635935353,
          0.013478533173571715,
          0.016091235682740793,
          0.005558481720550249,
          0.014409851556849193,
          0.002845888450303158,
          0.00854966303144201,
          0.01624705522431564,
          0.0156940250028056,
          0.009319557301534826,
          0.0051906250417013515,
          0.013289966514475164,
          0.011292467519023054,
          0.007259933136803985,
          0.013939085177531275,
          0.0102738936533699,
          0.015864690188376874,
          -0.0018917034160656583,
          0.002531423296898237,
          0.0011916942173828733,
          0.00515878657281021,
          0.006705059921212584
         ],
         "y": [
          0.014677251362786956,
          0.017644211960545674,
          0.019685984660587373,
          0.030522126005489873,
          0.01759837090607174,
          0.006996340584774958,
          0.02209640292030061,
          0.027590201765050917,
          -0.0021965756595226085,
          0.024104460607275734,
          0.01986612816862088,
          0.03751337265021279,
          0.03869136928910299,
          0.024247907996295635,
          0.008747666776610706,
          0.008842712322665558,
          0.013473624579893961,
          0.028672529385594857,
          0.0376560485739745,
          0.0342885455596616,
          0.021263243525685815,
          0.027792747445691348,
          0.01944524986467321,
          0.008026888227667879,
          0.00270649889373914,
          0.02429243993138271,
          0.01799976420658367,
          0.03369893606554218,
          0.027726015088851932,
          0.008352125202254371,
          0.0188067843173384,
          0.006522983918515067,
          0.013078673391075083,
          0.02834454039436789,
          0.03359801514689694,
          0.00841169397038108,
          0.022167341286813434,
          0.03537610006369869,
          0.018115666745294683,
          0.030388703999960246,
          0.007393718941285483,
          0.021057048011210746,
          0.015388467833582522,
          0.03455703140039991,
          0.03193833245132805,
          0.01231650285699925,
          0.03214473427653898,
          0.020785365789538053,
          0.01508355566539705,
          0.015073678350350188,
          0.0027538679948188043,
          0.034930735818785065,
          0.012746436906463402,
          0.023312842972547786,
          0.022482800760123538,
          0.011182526646020383,
          0.019592841946725274
         ],
         "z": [
          0.0032891506874299366,
          0.014707825107102095,
          0.002614781235390823,
          0.0058360964302491165,
          0.012773149840962682,
          0.01790589082402596,
          0.011737803681941375,
          0.01145216402413998,
          0.007226874174026616,
          0.013859460162911869,
          0.01342159402628871,
          0.0037662557929145756,
          -0.005126525535653289,
          0.00645924615013291,
          0.01640785198186073,
          0.021263062380543162,
          0.01798060145749474,
          0.0074637415464598,
          0.0069941120121857145,
          0.00606554000637409,
          0.01402556498403676,
          0.008826777867309513,
          0.004303411653042995,
          0.02434853210979717,
          0.029296892202630855,
          0.012503359759107434,
          0.007762119452340599,
          0.0084330883388655,
          0.010722345547612309,
          0.012317458686771749,
          0.017373962453901888,
          0.022769532755619756,
          0.01830716952556228,
          0.0065944574044856765,
          0.004605194520398891,
          0.022674878020738056,
          0.004957827881254985,
          0.004381209720602053,
          0.01592045884643917,
          0.01102407821260217,
          0.014309687075341422,
          0.017453032175763095,
          0.002585406818022787,
          0.0040911690480536,
          -0.0015885720976939865,
          0.022045860314288436,
          0.009524341887324145,
          0.015206242070435898,
          0.008440862856731877,
          0.01017307527631852,
          0.019184628739722032,
          0.00786064307772236,
          0.013932172946440953,
          -0.0022016105175097426,
          -0.000979866706959009,
          0.019632699786586546,
          0.015344291774946232
         ]
        },
        {
         "hovertemplate": "color=0<br>x=%{x}<br>y=%{y}<br>z=%{z}<extra></extra>",
         "legendgroup": "0",
         "marker": {
          "color": "#FFA15A",
          "symbol": "circle"
         },
         "mode": "markers",
         "name": "0",
         "scene": "scene",
         "showlegend": true,
         "type": "scatter3d",
         "x": [
          0.0026922867808757936,
          -0.003916965521151696,
          -0.003941284271713024,
          -0.005758648946883267,
          -0.010539999569530216,
          -0.00473968593265921,
          -0.003673287850800337,
          -0.0037691222518858496,
          -0.008017806154097126,
          -0.008500118202549771,
          -0.006095439714247922,
          -0.006610446103941026,
          -0.004569938356853949,
          -0.006411502700876069,
          -0.007681412056997101,
          -0.008386709247729555,
          -0.004406993639062118,
          -0.005331632998306553,
          -0.0031240941136302337,
          -0.0034927259739397157,
          -0.0037328706495090833,
          -0.0026921661735668694,
          -0.0032363913357906816,
          -0.0032381559505522445,
          -0.011525606284616366
         ],
         "y": [
          0.006070103591557502,
          0.00004326121967333611,
          0.0018706728333489281,
          0.00030347078984332656,
          0.0018676159760885726,
          0.00003448288454843338,
          -0.0034027070179184207,
          0.00476687561516966,
          0.0020055066895705697,
          -0.0008090133765876095,
          -0.003319318833446584,
          -0.002314213046183499,
          -0.001930645935431111,
          -0.0005328747379090726,
          -0.0007548115966028196,
          0.0029520091119347985,
          0.0005910980268009813,
          -0.0006033532518200195,
          -0.0036405715700324193,
          -0.000870555241934203,
          0.003746706879058481,
          0.001345341471237013,
          -0.0021516273105428563,
          -0.0018443381090007403,
          0.00027728394628109913
         ],
         "z": [
          0.033214058468113504,
          0.05446475233140086,
          0.0446560816442279,
          0.05819081038771119,
          0.03047238248502922,
          0.05612789555866944,
          0.0422947735209768,
          0.056762979904940794,
          0.036450461027664825,
          0.040982403904823196,
          0.043668265240599635,
          0.030581276179035013,
          0.04811223758956926,
          0.05442283811333464,
          0.055955754806063726,
          0.04485562111860286,
          0.04069646183258754,
          0.050922195320963835,
          0.04488175848496341,
          0.04626468504918276,
          0.043399250082755074,
          0.04187338592215694,
          0.049895678384795965,
          0.04334440760287208,
          0.03677861623978814
         ]
        },
        {
         "hovertemplate": "color=9<br>x=%{x}<br>y=%{y}<br>z=%{z}<extra></extra>",
         "legendgroup": "9",
         "marker": {
          "color": "#19d3f3",
          "symbol": "circle"
         },
         "mode": "markers",
         "name": "9",
         "scene": "scene",
         "showlegend": true,
         "type": "scatter3d",
         "x": [
          -0.008686285956577671,
          -0.00899025693997152,
          -0.008589817789840302,
          -0.010389449598472596,
          -0.0025645952830099313,
          -0.009232920898397392,
          -0.007145207943620227,
          -0.008032636875944927,
          -0.011361902833113542,
          -0.005532440745037859,
          -0.008570912413722386,
          -0.009666815045727363,
          -0.007447064981890124,
          -0.008311623140847258,
          -0.0012533643214942276,
          -0.013186760598749736,
          -0.015265404780743563,
          -0.008776826192481253,
          -0.01852482197783431,
          -0.011072507034871457,
          -0.015086252636935726,
          -0.007758080390500822,
          -0.0049627876828064015,
          -0.011129405340339245,
          -0.007663250167573514,
          -0.009566296936175984,
          -0.008838779240487631,
          -0.008036623370511453,
          -0.011056039373388745,
          -0.007311416498509606,
          -0.006786279758117932,
          -0.008833718512358346,
          -0.007349073359854044,
          -0.010200060180182175,
          -0.008846436181404072,
          -0.011611364537284733,
          0.005946944277347899,
          -0.011005908180769625,
          -0.01148769073713059,
          -0.00826335275907828,
          -0.009149956199001094,
          -0.009198991649247918,
          -0.011737006707305535,
          -0.003852660262960409,
          -0.007993676480090832,
          -0.010348346210154943,
          -0.009437464405452976,
          -0.010975416358644303,
          -0.008536938819632299,
          -0.005211912412436222,
          -0.009025453072942776,
          -0.008681307834719773,
          -0.010369416755001972,
          -0.008124126079856039,
          -0.00538396950968571,
          -0.009078969333484965,
          -0.0004396779815810044,
          -0.008779341405251044,
          -0.012850498344321634,
          -0.00917233343901219,
          -0.00954670217492205,
          -0.00878015356723883
         ],
         "y": [
          0.0027950611768867866,
          0.005968948078787862,
          0.0024931374727874493,
          0.006223874373020818,
          -0.00514709892485948,
          0.0015600307040157457,
          0.004270365106359927,
          0.0030929597036629492,
          0.0006485887773594335,
          0.01999520453786071,
          0.001712700462258679,
          0.005063076263165502,
          0.002790732714976284,
          -0.006036333743600592,
          0.008567017686767976,
          -0.0010791125995984244,
          0.0033978876625685188,
          0.004151282222035717,
          0.0015120365259540403,
          0.005969609730138976,
          0.001094755334472487,
          0.0001206080452072383,
          0.0056582283381699135,
          0.0011510406977452861,
          0.00277430185860834,
          0.0043832860448877785,
          0.0021874528314999833,
          0.002217756159706318,
          0.003219702316719525,
          0.0022527435138976334,
          0.0011343507131604475,
          0.0035930023092253984,
          0.0020532542012724874,
          0.00046486430283168085,
          0.0024912952193688483,
          -0.0002451362253263327,
          0.009208458379077111,
          0.0014473660957503279,
          0.00019997874778779335,
          0.0021095037265671324,
          0.00225810799087958,
          0.0013793980005402716,
          0.003945276483254118,
          0.00629095849844625,
          0.002730628471304164,
          0.0017403303860875497,
          0.003948418439127781,
          0.002291416912326953,
          0.0034379789759256107,
          0.008050298892198363,
          0.0035272168644502506,
          0.0007035356171097917,
          0.002601053974151841,
          0.004335795781720753,
          0.0062384972640839,
          0.0019879102733576836,
          0.003093910045107174,
          0.003641952703763975,
          -0.0010451960286882679,
          0.0004910644709341868,
          0.003840265265070625,
          0.004477084969749525
         ],
         "z": [
          0.04200258725074332,
          0.057659985161455846,
          0.052711344693945075,
          0.06299271730154483,
          0.046981719119390475,
          0.05616951177243826,
          0.0421110037120448,
          0.05101282790367642,
          0.043618720639222196,
          0.042504803484655566,
          0.05350954788484626,
          0.03639708950383826,
          0.05430635963884207,
          0.0370216596772013,
          0.0425581931599082,
          0.046137647323371285,
          0.05802725291814783,
          0.051926876094421606,
          0.030531527221237056,
          0.06662647427951744,
          0.0497384771471266,
          0.05087180413557826,
          0.03598499098153933,
          0.04950272506697725,
          0.04433893360402815,
          0.051396368821393305,
          0.05415429282965128,
          0.05124206929213788,
          0.05911318956926339,
          0.05282517967246346,
          0.05104413520874051,
          0.049691788348380096,
          0.0500026252044231,
          0.053911936926970494,
          0.04594939105353245,
          0.04600829650548105,
          0.030541572409970387,
          0.03825642388864314,
          0.04497190729502411,
          0.05479066671970815,
          0.051793503069664064,
          0.048584812677371955,
          0.06328756806265758,
          0.04977407609518258,
          0.052584341216412214,
          0.05498377431889119,
          0.06609851281148302,
          0.0482030604198975,
          0.057065539094470076,
          0.04685298531090654,
          0.05421531242034122,
          0.04942398320297662,
          0.055348935437064116,
          0.05477667950021964,
          0.04401617980958228,
          0.054503053194142566,
          0.038809248424088935,
          0.050143445275327526,
          0.0461129075038674,
          0.05593996291909604,
          0.05608636509446712,
          0.061947237293894564
         ]
        },
        {
         "hovertemplate": "color=7<br>x=%{x}<br>y=%{y}<br>z=%{z}<extra></extra>",
         "legendgroup": "7",
         "marker": {
          "color": "#FF6692",
          "symbol": "circle"
         },
         "mode": "markers",
         "name": "7",
         "scene": "scene",
         "showlegend": true,
         "type": "scatter3d",
         "x": [
          0.08716969723769995,
          0.08897643415147913,
          0.09025597736736164,
          0.08059651127743876,
          0.08426960767898414,
          0.0881452232088196,
          0.07925324267564357,
          0.08746299624737688,
          0.08701824051390795,
          0.09400283185048908,
          0.09929630922133845,
          0.09593968874022663,
          0.058601233981098476,
          0.09036049788006734,
          0.07918949591571398,
          0.07024942650919022,
          0.0803611556105484,
          0.08440151581324147,
          0.08221873679513268,
          0.0963294529845973,
          0.057244805518021684,
          0.08981790444625623,
          0.07143993966631516,
          0.05841429831646507,
          0.08726552859245668,
          0.09421528833668691,
          0.07614683317207219,
          0.09205167140532904,
          0.05542051324381682,
          0.08722988489641166,
          0.07615613386403021,
          0.08835852694868528,
          0.07611983005776876,
          0.0815593858468065,
          0.0892647484994326,
          0.06984364268957115,
          0.08666960016730951,
          0.08625549299721882,
          0.08938632955665468,
          0.059062148326933725,
          0.09281746342509689,
          0.07616326435276981,
          0.08453263563438031,
          0.08017067717324784,
          0.048961919391459434,
          0.07532374762274138,
          0.08299440846580486,
          0.043350764744944786,
          0.09637243325802006,
          0.08446751819209881,
          0.07456926467529204,
          0.06854606560266267,
          0.08832943844273893,
          0.09055407605634105
         ],
         "y": [
          -0.08153194351971432,
          -0.08346108025317005,
          -0.08568888749862025,
          -0.07385789460012983,
          -0.07925360941755583,
          -0.08173963382082991,
          -0.07513435734002749,
          -0.08450951872188406,
          -0.08108035495818831,
          -0.08885144807639388,
          -0.09652920853159212,
          -0.09132158181196395,
          -0.05289514980465239,
          -0.08408763133131743,
          -0.0746922490620905,
          -0.06224653939307196,
          -0.07400811765642809,
          -0.07993385427146697,
          -0.07783943148568866,
          -0.09124531518685002,
          -0.04625502123377321,
          -0.0838841854781427,
          -0.06536365546342646,
          -0.05105922224806323,
          -0.08162704310912208,
          -0.089533416776281,
          -0.07040091512209157,
          -0.08693964936370228,
          -0.04560801490637082,
          -0.08159362579471818,
          -0.06878262693231237,
          -0.08227677079104641,
          -0.06988074377571306,
          -0.07473580015451108,
          -0.0847567308335495,
          -0.06234196542388386,
          -0.0808919547141357,
          -0.07995004678368306,
          -0.08402455043725264,
          -0.05433471695341172,
          -0.08709095746450435,
          -0.0684932599694404,
          -0.07770922854614072,
          -0.07350149364344505,
          -0.04334958866548052,
          -0.06637334768061266,
          -0.07693629767460416,
          -0.049810121946901646,
          -0.09190406368735866,
          -0.07852191957771695,
          -0.06025961955937089,
          -0.0597062669634858,
          -0.0832334368763481,
          -0.08435570104226035
         ],
         "z": [
          -0.03254852720281473,
          -0.03370452525937795,
          -0.03433612033621943,
          -0.029182749847085205,
          -0.03253684835830698,
          -0.033819191182108646,
          -0.028583459652925084,
          -0.035540128598776255,
          -0.03392075436604449,
          -0.036484500482245476,
          -0.03930743718958555,
          -0.03696281796336312,
          -0.022020839919837994,
          -0.03436329325105864,
          -0.030186066842868474,
          -0.023613015718783836,
          -0.029508995818034605,
          -0.03127506459703069,
          -0.030254674914167105,
          -0.0370842842282062,
          -0.014338132430565264,
          -0.033120208160192774,
          -0.02736053438393104,
          -0.018856466722509374,
          -0.03284782201387975,
          -0.03646954877212617,
          -0.029883798723495034,
          -0.03565350718602554,
          -0.029303727855015803,
          -0.032936753832352964,
          -0.024934196032300345,
          -0.033524480620536534,
          -0.02720475017156707,
          -0.0308341561101121,
          -0.03424190221424799,
          -0.02603755364845332,
          -0.033522999732235347,
          -0.03306808303153825,
          -0.03392302991606557,
          -0.011514089342476013,
          -0.03528754642141649,
          -0.027612575876527955,
          -0.031216169758334637,
          -0.02837264061045228,
          -0.010559045777880773,
          -0.026408655228005447,
          -0.031737452858651996,
          -0.025870790321631316,
          -0.037626730002142596,
          -0.03231761355842708,
          -0.02612454054221417,
          -0.021532173267354973,
          -0.03343031022518207,
          -0.03483639873284984
         ]
        },
        {
         "hovertemplate": "color=8<br>x=%{x}<br>y=%{y}<br>z=%{z}<extra></extra>",
         "legendgroup": "8",
         "marker": {
          "color": "#B6E880",
          "symbol": "circle"
         },
         "mode": "markers",
         "name": "8",
         "scene": "scene",
         "showlegend": true,
         "type": "scatter3d",
         "x": [
          0.05362800016191761,
          0.052763374031990364,
          0.048298196046228335,
          0.028102503680544927,
          0.027430929715280796,
          0.05213464293006513,
          0.048149163573104455,
          0.048309714418701945,
          0.055858182865358416,
          0.04778842054193246,
          0.050244695666468976,
          0.02660141703170274,
          0.05283275744634523,
          0.040771199826989984,
          0.05620965111301862,
          0.05699129844660635,
          0.059386780412813596,
          0.05578291156253937,
          0.053404588721126744,
          0.052456518554453685,
          0.054332612681568915,
          0.05010484069512044,
          0.051314844127648696,
          0.05402213445876288,
          0.054049903574823234,
          0.05550536845509427,
          0.05151109094334652,
          0.04994443908405973,
          0.051425304724491465,
          0.049744154745198034,
          0.05501287404507883,
          0.05312788637725997,
          0.05926121877640616,
          0.05505754962743742,
          0.052125511226347725,
          0.053472863606602965,
          0.06192790289341256,
          0.05666019577183373,
          0.05991450117421133,
          0.05270914457006455,
          0.041737768869081406,
          0.04872507315003746,
          0.05409051238415876,
          0.05134705806483311,
          0.053560854542566136,
          0.05493468794062841,
          0.057064611116660634,
          0.05815648208383321,
          0.05067182788633212
         ],
         "y": [
          0.11242447908966273,
          0.11227784631364568,
          0.10221885236694336,
          0.047108666231448916,
          0.0646236693236876,
          0.11495514483270591,
          0.08663249477965414,
          0.10432378310938674,
          0.11959945418514871,
          0.10226372122178314,
          0.10355416135963331,
          0.04656467600163889,
          0.11526363259761536,
          0.0869992107259636,
          0.11781184023647623,
          0.1199396901388945,
          0.12532063429698595,
          0.11861965277634588,
          0.11443424897546495,
          0.11452910610764155,
          0.11601177268445967,
          0.10249559658392547,
          0.1075160081658439,
          0.116204619169288,
          0.11829331481894727,
          0.11687077456834209,
          0.10856369099255486,
          0.11001482167076566,
          0.10912726728932973,
          0.1024951475292161,
          0.11783508284091264,
          0.1159807622918606,
          0.12467375879515719,
          0.11777419055520118,
          0.11314337081037029,
          0.11479130783460133,
          0.13441308106803526,
          0.12175743862199294,
          0.12872850318099982,
          0.11247685078859462,
          0.08269773313209236,
          0.1046607795799962,
          0.11546719211881319,
          0.10913092236231471,
          0.11301548658413622,
          0.11852098008506783,
          0.12051207020454867,
          0.12538137908824443,
          0.11025001368495364
         ],
         "z": [
          -0.041841588339463685,
          -0.04304413536185771,
          -0.036753840271692914,
          -0.0035926939670428374,
          -0.02941573662428555,
          -0.04505142734862014,
          -0.030871999028399204,
          -0.03700659516846152,
          -0.04720498452980004,
          -0.035331922708349665,
          -0.03821840605179903,
          0.005037322645732722,
          -0.044312659929317655,
          -0.024306865375667504,
          -0.045479275048016916,
          -0.046962755062850484,
          -0.04885250291152989,
          -0.04464594396138592,
          -0.0444204184403506,
          -0.045086460412903054,
          -0.04410201585335046,
          -0.03684639614146913,
          -0.039576438315357995,
          -0.04486420433250489,
          -0.046289246988916476,
          -0.04476009445568072,
          -0.041411163331677665,
          -0.04118565992157033,
          -0.042060640403899896,
          -0.035811683749442894,
          -0.045165334418732994,
          -0.044493491209237755,
          -0.048313964994386484,
          -0.04596911960245568,
          -0.04173714915056327,
          -0.04315969800493297,
          -0.0534709715593299,
          -0.04795366948237631,
          -0.05057623250087592,
          -0.043088522237430406,
          -0.0229580544043089,
          -0.040394925329925786,
          -0.04486700292182307,
          -0.040851068957852794,
          -0.04404162981396696,
          -0.0464548776650144,
          -0.04661875809663101,
          -0.04849889782737165,
          -0.04148247176602384
         ]
        },
        {
         "hovertemplate": "color=2<br>x=%{x}<br>y=%{y}<br>z=%{z}<extra></extra>",
         "legendgroup": "2",
         "marker": {
          "color": "#FF97FF",
          "symbol": "circle"
         },
         "mode": "markers",
         "name": "2",
         "scene": "scene",
         "showlegend": true,
         "type": "scatter3d",
         "x": [
          0.07617939279295963,
          0.08147168673659967,
          0.06719109134748794,
          0.06399727883822659,
          0.03807421336485811,
          0.0681159106858927,
          0.039497088317819624,
          0.04419827219830504,
          0.046723725533302896,
          0.05867960644391385,
          0.042474501340525585,
          0.05289933287209537,
          0.07133859385249457,
          0.050301112128894786,
          0.05485742290013397,
          0.0766266829195289,
          0.05802259042785559
         ],
         "y": [
          -0.06670180536279928,
          -0.07345574801170537,
          -0.055625874000918556,
          -0.04698272953913388,
          -0.018538350407887212,
          -0.055790599618155766,
          -0.028757490578280802,
          -0.006408268652173524,
          -0.03521842799141489,
          -0.04845144163373181,
          -0.033445701406919215,
          -0.027810038461185963,
          -0.056686618509913134,
          -0.011810172808302516,
          -0.04395905656381495,
          -0.06531479268171884,
          -0.04355687110531733
         ],
         "z": [
          -0.02744494993648223,
          -0.029431003204356772,
          -0.023727243396573342,
          -0.022243630689041536,
          -0.013622555964992773,
          -0.02283235835636408,
          -0.004469450730357681,
          -0.020456218243564313,
          -0.014215536185646723,
          -0.01753082527833551,
          0.00016985626564735255,
          -0.014985278850466152,
          -0.024264662813759094,
          -0.019501891761730183,
          -0.02458709605913544,
          -0.027942845599938784,
          -0.01718764847679717
         ]
        },
        {
         "hovertemplate": "color=1<br>x=%{x}<br>y=%{y}<br>z=%{z}<extra></extra>",
         "legendgroup": "1",
         "marker": {
          "color": "#FECB52",
          "symbol": "circle"
         },
         "mode": "markers",
         "name": "1",
         "scene": "scene",
         "showlegend": true,
         "type": "scatter3d",
         "x": [
          0.016427657821765668,
          -0.004058191456740329,
          0.02278964115470565,
          0.018079062924754072
         ],
         "y": [
          0.0007965457982501748,
          -0.0009290780363628493,
          -0.028785303736340227,
          -0.019066528044155963
         ],
         "z": [
          0.022103252648595847,
          0.008588906104152472,
          -0.0037274577988874904,
          0.018516633711366203
         ]
        }
       ],
       "layout": {
        "height": 400,
        "legend": {
         "title": {
          "text": "color"
         },
         "tracegroupgap": 0
        },
        "scene": {
         "domain": {
          "x": [
           0,
           1
          ],
          "y": [
           0,
           1
          ]
         },
         "xaxis": {
          "title": {
           "text": "c_1"
          }
         },
         "yaxis": {
          "title": {
           "text": "c_2"
          }
         },
         "zaxis": {
          "title": {
           "text": "c_3"
          }
         }
        },
        "template": {
         "data": {
          "bar": [
           {
            "error_x": {
             "color": "#2a3f5f"
            },
            "error_y": {
             "color": "#2a3f5f"
            },
            "marker": {
             "line": {
              "color": "#E5ECF6",
              "width": 0.5
             },
             "pattern": {
              "fillmode": "overlay",
              "size": 10,
              "solidity": 0.2
             }
            },
            "type": "bar"
           }
          ],
          "barpolar": [
           {
            "marker": {
             "line": {
              "color": "#E5ECF6",
              "width": 0.5
             },
             "pattern": {
              "fillmode": "overlay",
              "size": 10,
              "solidity": 0.2
             }
            },
            "type": "barpolar"
           }
          ],
          "carpet": [
           {
            "aaxis": {
             "endlinecolor": "#2a3f5f",
             "gridcolor": "white",
             "linecolor": "white",
             "minorgridcolor": "white",
             "startlinecolor": "#2a3f5f"
            },
            "baxis": {
             "endlinecolor": "#2a3f5f",
             "gridcolor": "white",
             "linecolor": "white",
             "minorgridcolor": "white",
             "startlinecolor": "#2a3f5f"
            },
            "type": "carpet"
           }
          ],
          "choropleth": [
           {
            "colorbar": {
             "outlinewidth": 0,
             "ticks": ""
            },
            "type": "choropleth"
           }
          ],
          "contour": [
           {
            "colorbar": {
             "outlinewidth": 0,
             "ticks": ""
            },
            "colorscale": [
             [
              0,
              "#0d0887"
             ],
             [
              0.1111111111111111,
              "#46039f"
             ],
             [
              0.2222222222222222,
              "#7201a8"
             ],
             [
              0.3333333333333333,
              "#9c179e"
             ],
             [
              0.4444444444444444,
              "#bd3786"
             ],
             [
              0.5555555555555556,
              "#d8576b"
             ],
             [
              0.6666666666666666,
              "#ed7953"
             ],
             [
              0.7777777777777778,
              "#fb9f3a"
             ],
             [
              0.8888888888888888,
              "#fdca26"
             ],
             [
              1,
              "#f0f921"
             ]
            ],
            "type": "contour"
           }
          ],
          "contourcarpet": [
           {
            "colorbar": {
             "outlinewidth": 0,
             "ticks": ""
            },
            "type": "contourcarpet"
           }
          ],
          "heatmap": [
           {
            "colorbar": {
             "outlinewidth": 0,
             "ticks": ""
            },
            "colorscale": [
             [
              0,
              "#0d0887"
             ],
             [
              0.1111111111111111,
              "#46039f"
             ],
             [
              0.2222222222222222,
              "#7201a8"
             ],
             [
              0.3333333333333333,
              "#9c179e"
             ],
             [
              0.4444444444444444,
              "#bd3786"
             ],
             [
              0.5555555555555556,
              "#d8576b"
             ],
             [
              0.6666666666666666,
              "#ed7953"
             ],
             [
              0.7777777777777778,
              "#fb9f3a"
             ],
             [
              0.8888888888888888,
              "#fdca26"
             ],
             [
              1,
              "#f0f921"
             ]
            ],
            "type": "heatmap"
           }
          ],
          "heatmapgl": [
           {
            "colorbar": {
             "outlinewidth": 0,
             "ticks": ""
            },
            "colorscale": [
             [
              0,
              "#0d0887"
             ],
             [
              0.1111111111111111,
              "#46039f"
             ],
             [
              0.2222222222222222,
              "#7201a8"
             ],
             [
              0.3333333333333333,
              "#9c179e"
             ],
             [
              0.4444444444444444,
              "#bd3786"
             ],
             [
              0.5555555555555556,
              "#d8576b"
             ],
             [
              0.6666666666666666,
              "#ed7953"
             ],
             [
              0.7777777777777778,
              "#fb9f3a"
             ],
             [
              0.8888888888888888,
              "#fdca26"
             ],
             [
              1,
              "#f0f921"
             ]
            ],
            "type": "heatmapgl"
           }
          ],
          "histogram": [
           {
            "marker": {
             "pattern": {
              "fillmode": "overlay",
              "size": 10,
              "solidity": 0.2
             }
            },
            "type": "histogram"
           }
          ],
          "histogram2d": [
           {
            "colorbar": {
             "outlinewidth": 0,
             "ticks": ""
            },
            "colorscale": [
             [
              0,
              "#0d0887"
             ],
             [
              0.1111111111111111,
              "#46039f"
             ],
             [
              0.2222222222222222,
              "#7201a8"
             ],
             [
              0.3333333333333333,
              "#9c179e"
             ],
             [
              0.4444444444444444,
              "#bd3786"
             ],
             [
              0.5555555555555556,
              "#d8576b"
             ],
             [
              0.6666666666666666,
              "#ed7953"
             ],
             [
              0.7777777777777778,
              "#fb9f3a"
             ],
             [
              0.8888888888888888,
              "#fdca26"
             ],
             [
              1,
              "#f0f921"
             ]
            ],
            "type": "histogram2d"
           }
          ],
          "histogram2dcontour": [
           {
            "colorbar": {
             "outlinewidth": 0,
             "ticks": ""
            },
            "colorscale": [
             [
              0,
              "#0d0887"
             ],
             [
              0.1111111111111111,
              "#46039f"
             ],
             [
              0.2222222222222222,
              "#7201a8"
             ],
             [
              0.3333333333333333,
              "#9c179e"
             ],
             [
              0.4444444444444444,
              "#bd3786"
             ],
             [
              0.5555555555555556,
              "#d8576b"
             ],
             [
              0.6666666666666666,
              "#ed7953"
             ],
             [
              0.7777777777777778,
              "#fb9f3a"
             ],
             [
              0.8888888888888888,
              "#fdca26"
             ],
             [
              1,
              "#f0f921"
             ]
            ],
            "type": "histogram2dcontour"
           }
          ],
          "mesh3d": [
           {
            "colorbar": {
             "outlinewidth": 0,
             "ticks": ""
            },
            "type": "mesh3d"
           }
          ],
          "parcoords": [
           {
            "line": {
             "colorbar": {
              "outlinewidth": 0,
              "ticks": ""
             }
            },
            "type": "parcoords"
           }
          ],
          "pie": [
           {
            "automargin": true,
            "type": "pie"
           }
          ],
          "scatter": [
           {
            "fillpattern": {
             "fillmode": "overlay",
             "size": 10,
             "solidity": 0.2
            },
            "type": "scatter"
           }
          ],
          "scatter3d": [
           {
            "line": {
             "colorbar": {
              "outlinewidth": 0,
              "ticks": ""
             }
            },
            "marker": {
             "colorbar": {
              "outlinewidth": 0,
              "ticks": ""
             }
            },
            "type": "scatter3d"
           }
          ],
          "scattercarpet": [
           {
            "marker": {
             "colorbar": {
              "outlinewidth": 0,
              "ticks": ""
             }
            },
            "type": "scattercarpet"
           }
          ],
          "scattergeo": [
           {
            "marker": {
             "colorbar": {
              "outlinewidth": 0,
              "ticks": ""
             }
            },
            "type": "scattergeo"
           }
          ],
          "scattergl": [
           {
            "marker": {
             "colorbar": {
              "outlinewidth": 0,
              "ticks": ""
             }
            },
            "type": "scattergl"
           }
          ],
          "scattermapbox": [
           {
            "marker": {
             "colorbar": {
              "outlinewidth": 0,
              "ticks": ""
             }
            },
            "type": "scattermapbox"
           }
          ],
          "scatterpolar": [
           {
            "marker": {
             "colorbar": {
              "outlinewidth": 0,
              "ticks": ""
             }
            },
            "type": "scatterpolar"
           }
          ],
          "scatterpolargl": [
           {
            "marker": {
             "colorbar": {
              "outlinewidth": 0,
              "ticks": ""
             }
            },
            "type": "scatterpolargl"
           }
          ],
          "scatterternary": [
           {
            "marker": {
             "colorbar": {
              "outlinewidth": 0,
              "ticks": ""
             }
            },
            "type": "scatterternary"
           }
          ],
          "surface": [
           {
            "colorbar": {
             "outlinewidth": 0,
             "ticks": ""
            },
            "colorscale": [
             [
              0,
              "#0d0887"
             ],
             [
              0.1111111111111111,
              "#46039f"
             ],
             [
              0.2222222222222222,
              "#7201a8"
             ],
             [
              0.3333333333333333,
              "#9c179e"
             ],
             [
              0.4444444444444444,
              "#bd3786"
             ],
             [
              0.5555555555555556,
              "#d8576b"
             ],
             [
              0.6666666666666666,
              "#ed7953"
             ],
             [
              0.7777777777777778,
              "#fb9f3a"
             ],
             [
              0.8888888888888888,
              "#fdca26"
             ],
             [
              1,
              "#f0f921"
             ]
            ],
            "type": "surface"
           }
          ],
          "table": [
           {
            "cells": {
             "fill": {
              "color": "#EBF0F8"
             },
             "line": {
              "color": "white"
             }
            },
            "header": {
             "fill": {
              "color": "#C8D4E3"
             },
             "line": {
              "color": "white"
             }
            },
            "type": "table"
           }
          ]
         },
         "layout": {
          "annotationdefaults": {
           "arrowcolor": "#2a3f5f",
           "arrowhead": 0,
           "arrowwidth": 1
          },
          "autotypenumbers": "strict",
          "coloraxis": {
           "colorbar": {
            "outlinewidth": 0,
            "ticks": ""
           }
          },
          "colorscale": {
           "diverging": [
            [
             0,
             "#8e0152"
            ],
            [
             0.1,
             "#c51b7d"
            ],
            [
             0.2,
             "#de77ae"
            ],
            [
             0.3,
             "#f1b6da"
            ],
            [
             0.4,
             "#fde0ef"
            ],
            [
             0.5,
             "#f7f7f7"
            ],
            [
             0.6,
             "#e6f5d0"
            ],
            [
             0.7,
             "#b8e186"
            ],
            [
             0.8,
             "#7fbc41"
            ],
            [
             0.9,
             "#4d9221"
            ],
            [
             1,
             "#276419"
            ]
           ],
           "sequential": [
            [
             0,
             "#0d0887"
            ],
            [
             0.1111111111111111,
             "#46039f"
            ],
            [
             0.2222222222222222,
             "#7201a8"
            ],
            [
             0.3333333333333333,
             "#9c179e"
            ],
            [
             0.4444444444444444,
             "#bd3786"
            ],
            [
             0.5555555555555556,
             "#d8576b"
            ],
            [
             0.6666666666666666,
             "#ed7953"
            ],
            [
             0.7777777777777778,
             "#fb9f3a"
            ],
            [
             0.8888888888888888,
             "#fdca26"
            ],
            [
             1,
             "#f0f921"
            ]
           ],
           "sequentialminus": [
            [
             0,
             "#0d0887"
            ],
            [
             0.1111111111111111,
             "#46039f"
            ],
            [
             0.2222222222222222,
             "#7201a8"
            ],
            [
             0.3333333333333333,
             "#9c179e"
            ],
            [
             0.4444444444444444,
             "#bd3786"
            ],
            [
             0.5555555555555556,
             "#d8576b"
            ],
            [
             0.6666666666666666,
             "#ed7953"
            ],
            [
             0.7777777777777778,
             "#fb9f3a"
            ],
            [
             0.8888888888888888,
             "#fdca26"
            ],
            [
             1,
             "#f0f921"
            ]
           ]
          },
          "colorway": [
           "#636efa",
           "#EF553B",
           "#00cc96",
           "#ab63fa",
           "#FFA15A",
           "#19d3f3",
           "#FF6692",
           "#B6E880",
           "#FF97FF",
           "#FECB52"
          ],
          "font": {
           "color": "#2a3f5f"
          },
          "geo": {
           "bgcolor": "white",
           "lakecolor": "white",
           "landcolor": "#E5ECF6",
           "showlakes": true,
           "showland": true,
           "subunitcolor": "white"
          },
          "hoverlabel": {
           "align": "left"
          },
          "hovermode": "closest",
          "mapbox": {
           "style": "light"
          },
          "paper_bgcolor": "white",
          "plot_bgcolor": "#E5ECF6",
          "polar": {
           "angularaxis": {
            "gridcolor": "white",
            "linecolor": "white",
            "ticks": ""
           },
           "bgcolor": "#E5ECF6",
           "radialaxis": {
            "gridcolor": "white",
            "linecolor": "white",
            "ticks": ""
           }
          },
          "scene": {
           "xaxis": {
            "backgroundcolor": "#E5ECF6",
            "gridcolor": "white",
            "gridwidth": 2,
            "linecolor": "white",
            "showbackground": true,
            "ticks": "",
            "zerolinecolor": "white"
           },
           "yaxis": {
            "backgroundcolor": "#E5ECF6",
            "gridcolor": "white",
            "gridwidth": 2,
            "linecolor": "white",
            "showbackground": true,
            "ticks": "",
            "zerolinecolor": "white"
           },
           "zaxis": {
            "backgroundcolor": "#E5ECF6",
            "gridcolor": "white",
            "gridwidth": 2,
            "linecolor": "white",
            "showbackground": true,
            "ticks": "",
            "zerolinecolor": "white"
           }
          },
          "shapedefaults": {
           "line": {
            "color": "#2a3f5f"
           }
          },
          "ternary": {
           "aaxis": {
            "gridcolor": "white",
            "linecolor": "white",
            "ticks": ""
           },
           "baxis": {
            "gridcolor": "white",
            "linecolor": "white",
            "ticks": ""
           },
           "bgcolor": "#E5ECF6",
           "caxis": {
            "gridcolor": "white",
            "linecolor": "white",
            "ticks": ""
           }
          },
          "title": {
           "x": 0.05
          },
          "xaxis": {
           "automargin": true,
           "gridcolor": "white",
           "linecolor": "white",
           "ticks": "",
           "title": {
            "standoff": 15
           },
           "zerolinecolor": "white",
           "zerolinewidth": 2
          },
          "yaxis": {
           "automargin": true,
           "gridcolor": "white",
           "linecolor": "white",
           "ticks": "",
           "title": {
            "standoff": 15
           },
           "zerolinecolor": "white",
           "zerolinewidth": 2
          }
         }
        },
        "title": {
         "text": "Mod-LLE_3_comp - 0.177 sec."
        },
        "width": 500
       }
      }
     },
     "metadata": {},
     "output_type": "display_data"
    },
    {
     "data": {
      "application/vnd.plotly.v1+json": {
       "config": {
        "plotlyServerURL": "https://plot.ly"
       },
       "data": [
        {
         "hovertemplate": "color=5<br>x=%{x}<br>y=%{y}<br>z=%{z}<extra></extra>",
         "legendgroup": "5",
         "marker": {
          "color": "#636efa",
          "symbol": "circle"
         },
         "mode": "markers",
         "name": "5",
         "scene": "scene",
         "showlegend": true,
         "type": "scatter3d",
         "x": [
          -0.0053616403605779624,
          -0.005329772699832355,
          -0.004849856739992348,
          -0.00381491846468119,
          -0.0058654673021856785,
          -0.00451536734714343,
          -0.0009369913605478831,
          -0.0025189941940250288,
          -0.005323221266555725,
          -0.0014120950569822752,
          -0.008382231528842122,
          -0.0005759597026615687,
          -0.005864012325203297,
          -0.0037984204359133586,
          -0.004059312640771709,
          -0.004206814495797616,
          -0.0057226368417557325,
          -0.0019122213261239945,
          -0.006955410241161416,
          0.004243421955232633,
          -0.005559945810124284,
          -0.002962973826851378,
          -0.003326925146111084,
          -0.004828601781047461,
          0.002219538763832282,
          -0.0027777890507128325,
          -0.003367292455613527,
          -0.004099711277047455,
          -0.00708462998033655,
          -0.003574327151401868,
          -0.00004192185932447995,
          -0.004044622594924257,
          -0.005042554481705326,
          0.005348743409575304,
          -0.0019227970199334817,
          -0.003563923818693117,
          -0.00279523968065278,
          0.005921441477275743,
          -0.0036532025671970683,
          0.0033200083212050133,
          0.004863511650930002,
          -0.005082371324104648,
          0.00004004013415115533,
          -0.0008819505828685237,
          0.0046017929693011154,
          0.0037809996730903475,
          -0.005273619179125239,
          -0.0032203703245719086,
          -0.004261261257340401,
          -0.0045649022735454806,
          0.001891818226754472,
          0.004960020720878634,
          -0.003814111648699176,
          -0.0021740030562984254,
          -0.0035880924729297194,
          -0.003745432434939175,
          -0.004935626922585524,
          -0.002460850852726024,
          -0.005939895761281199,
          -0.005232161957346015,
          -0.004149813618296428,
          -0.004677031641805614,
          -0.0007238697153798684,
          -0.002803829677944715,
          -0.0006619152620158941,
          -0.004469381559379662,
          -0.0027934465424027458,
          -0.003287791984142731,
          -0.002624090560151473,
          -0.005924074230740909,
          -0.0038278854744540807,
          -0.002960772625871605,
          -0.0033479646084944026,
          -0.004570216151428663,
          -0.007725203101829644,
          -0.003759047447652923,
          -0.0037431717634566312,
          -0.0022688160578142325,
          0.0008627599319976772
         ],
         "y": [
          0.0009217904192681749,
          0.0009988774095417135,
          0.0009176522907796952,
          0.005388476667662723,
          0.0006535198664376976,
          0.00014250731287086121,
          -0.0007909259936922722,
          0.0006876877076464217,
          0.0003550867575773872,
          0.00014509491245309585,
          0.0011629896545756972,
          0.0006110001142995251,
          0.0008522859639808755,
          0.0002188761689468216,
          0.0011847781088170223,
          0.0006396751921374719,
          0.0016097111630386102,
          0.000602145579333746,
          0.0012378834615603788,
          0.0022284456775887567,
          0.0003315992542793061,
          0.0017664716484928813,
          0.0008561673222573412,
          0.0003058085406181755,
          0.0004153020784291826,
          -0.0031760641990080628,
          -0.00007004779470903659,
          0.00026032937313853234,
          0.0021045667552655536,
          -0.0007934594302575152,
          0.000855451433209569,
          0.00004694054339171236,
          0.0004455825209082609,
          -0.0027931957329039277,
          0.0007255384216572434,
          -0.00013625645886852084,
          -0.0009172429026801758,
          0.0008363630217829256,
          0.001485041205442586,
          -0.0005588834001492102,
          -0.010876102156448863,
          0.00039808968394415035,
          -0.001926567965060036,
          -0.0051913352087498005,
          -0.005884908181869274,
          -0.0032774144842751384,
          0.0014001692101074659,
          -0.00023199696099123618,
          0.001163471028374316,
          -0.0002053802413709803,
          -0.00282208676572913,
          -0.004030593812278129,
          0.002126332986676701,
          -0.00006925072533098264,
          0.0006101885785467637,
          0.00018553637596348954,
          0.0013429923977141718,
          -0.0008930958688506511,
          0.0008441532313222533,
          0.0027347007778142363,
          0.0018955988766954381,
          -0.0002730068066108867,
          0.0011055329849388837,
          -0.00040719300690824495,
          0.0003044355179704847,
          -0.001026901500991757,
          0.0007350691856726523,
          -0.00013531891586820305,
          0.0010923772623714773,
          0.0005992499784687987,
          -0.00041606330889092796,
          0.001095312144018739,
          -0.0008341452349635153,
          0.0003679010301687359,
          0.0010623308026389087,
          -0.00003597194362542442,
          -0.0006255031357351726,
          -0.0009009370251737703,
          0.005540217208347784
         ],
         "z": [
          0.008599696990734738,
          0.01443715960413599,
          0.01672812678115035,
          0.007609012952283514,
          0.011119801238003171,
          0.012372066894300562,
          0.011667247952839084,
          0.010170683012519645,
          0.011220109536227318,
          0.01001703613020211,
          0.004678628277046428,
          0.010104120027611938,
          0.010864177460238898,
          0.006586829314886113,
          0.01217394633533932,
          0.011760386893421876,
          0.008225094919073285,
          0.012216406725546247,
          0.01068671322402644,
          0.006822375720127692,
          0.008732616514886044,
          0.004880254898834646,
          0.011524917293099499,
          0.01222885765833124,
          0.009947312254083934,
          0.00998996973315689,
          0.011602596700466969,
          0.012198802506560077,
          0.01055415694863783,
          0.012181887745587861,
          -0.0037299126492038315,
          0.012204108591337207,
          0.01192153030568921,
          0.007937469558733291,
          0.01048965476466757,
          0.012689686496649762,
          0.011604830499709637,
          0.0094172786845576,
          0.010126078427872257,
          0.0007005502185403112,
          0.005478742006320647,
          0.011898786980144266,
          0.009880123866883597,
          0.0077725414010606925,
          0.002148889312379155,
          0.009308760781484786,
          0.009201295760220874,
          0.013231301814353877,
          0.00910782819697416,
          0.011356208197962106,
          0.010159954961619297,
          0.008032151619606628,
          0.008005696169491754,
          0.010783514168098564,
          0.011712674453797032,
          0.01243925315649828,
          0.008466673004130256,
          0.01085814329454958,
          0.01146106018899026,
          0.009403937056693347,
          0.010697818912727511,
          0.01196272936614913,
          0.008453864935493181,
          0.012102025746813391,
          0.00866248691537308,
          0.01161186355491777,
          0.009657464382807346,
          0.013186663751612593,
          0.012365865137411012,
          0.012364160559351292,
          0.012024756189055116,
          0.00803251978322524,
          0.009673267750577653,
          0.008076955594935369,
          0.008730267096384478,
          0.011922012927758768,
          0.011278966560689573,
          0.011143428471505009,
          0.007846344171081881
         ]
        },
        {
         "hovertemplate": "color=6<br>x=%{x}<br>y=%{y}<br>z=%{z}<extra></extra>",
         "legendgroup": "6",
         "marker": {
          "color": "#EF553B",
          "symbol": "circle"
         },
         "mode": "markers",
         "name": "6",
         "scene": "scene",
         "showlegend": true,
         "type": "scatter3d",
         "x": [
          -0.027435072423148986,
          -0.040477271714552024,
          -0.04840205613326144,
          -0.04111948504736835,
          -0.029785447147092463,
          -0.05096455862983474,
          -0.04678543581347706,
          -0.039244828436540855,
          -0.046716461393444327,
          -0.05289829424338617,
          -0.04065843912258983,
          -0.05410899441535057,
          -0.04942749110056059,
          -0.04875828324943981,
          -0.0366814513612585,
          -0.04377529488423097,
          -0.0196053869837934,
          -0.058243304943225487,
          -0.04231002812047048,
          -0.05678543842200453
         ],
         "y": [
          0.004003905035912424,
          0.008327336418874044,
          0.011329815221414897,
          0.006959588495257808,
          0.006488355724785604,
          0.01122895237118835,
          0.010417465876623887,
          0.008248680179879068,
          0.00871302022898212,
          0.01241418215812256,
          0.008843526932488887,
          0.01263512256306173,
          0.01301694601456728,
          0.011024938033909104,
          0.007634518500348908,
          0.00837126438669016,
          0.00363127082127581,
          0.013164090922112626,
          0.0072818044355791416,
          0.012216543785496782
         ],
         "z": [
          0.1293810901252745,
          0.17113536581811417,
          0.19840703577567,
          0.1785661924439127,
          0.12042652026196704,
          0.2142661237572742,
          0.18852000515000653,
          0.15351122897946107,
          0.20187477624347389,
          0.20310426769176623,
          0.16829882943464938,
          0.21841659095495997,
          0.1862622594769292,
          0.19928574402195878,
          0.1511506772475092,
          0.1911755284570702,
          0.0953308722496237,
          0.23970288326042055,
          0.18616360987978348,
          0.23652124715831732
         ]
        },
        {
         "hovertemplate": "color=3<br>x=%{x}<br>y=%{y}<br>z=%{z}<extra></extra>",
         "legendgroup": "3",
         "marker": {
          "color": "#00cc96",
          "symbol": "circle"
         },
         "mode": "markers",
         "name": "3",
         "scene": "scene",
         "showlegend": true,
         "type": "scatter3d",
         "x": [
          -0.04192487755002707,
          -0.0416452954246105,
          -0.04309433020838481,
          -0.04469952542329696,
          -0.04155481731844765,
          -0.04369789852762085,
          -0.0424596577207612,
          -0.042718481639808244,
          -0.04144151954180009,
          -0.04349978723229869,
          -0.04355234002230192,
          -0.03966709807405513,
          -0.04541384994466087,
          -0.041837618341982394,
          -0.04434270113751046,
          -0.04283421950152047,
          -0.04270287510046773,
          -0.045478896298605034,
          -0.030280065540245697,
          -0.04163191167547593,
          -0.028999206633839085,
          -0.044381602410810315,
          -0.04070686100285313,
          -0.04175058172756565,
          -0.041071847289253706,
          -0.04027749005337909,
          -0.0449219754812961,
          -0.03961464557630883,
          -0.04338340252736512,
          -0.042165296223603765,
          -0.04223304057953251,
          -0.03450873568534712,
          -0.0435589462877878,
          -0.0441487110834766,
          -0.04582297405274459,
          -0.041658701972538945,
          -0.04352987378642252,
          -0.03986811383693116,
          -0.04465935151673724,
          -0.03894966112575104,
          -0.044109113371410096,
          -0.03651624782258345,
          -0.041948287973152344,
          -0.043069684346068865,
          -0.037831390001691736,
          -0.042592282656798985,
          -0.04348948956909092,
          -0.04250475863627982,
          -0.0445931670554066,
          -0.04136738286519435,
          -0.043141753405634996,
          -0.03866924989063005,
          -0.04010951845809631,
          -0.04039687630611452,
          -0.04311697553357206,
          -0.0516064366444817,
          -0.045433536972300535,
          -0.01673666945816547,
          -0.04413491887817639,
          -0.04379686544646206,
          -0.04355820622242437,
          -0.043253806833374084,
          -0.042758893545840844,
          -0.04089555052114393,
          -0.04236936055721003,
          -0.04267699415567786,
          -0.04365720297919807,
          -0.04585637399829545,
          -0.041538284298512626,
          -0.04529626340364964,
          -0.04119420509482981,
          -0.04303321808862366,
          -0.04549278538551639,
          -0.044145964607427264,
          -0.04293120079558299,
          -0.040509584142831144,
          -0.042183036696053805,
          -0.026670297322459503,
          -0.044757008352662844,
          -0.039544511336449546,
          -0.037751640889252154,
          -0.040390136249459405,
          -0.04413513265388009,
          -0.013402773201233342,
          -0.043897337357146585,
          -0.04273197816274959,
          -0.04365501120910428,
          -0.03914940694168115,
          -0.034407185856131395,
          -0.038270639802696634,
          -0.04215088356103633,
          -0.037423031707680215,
          -0.04378017851930645,
          -0.0431035281960803,
          -0.040370661135659375,
          -0.043833325361773895,
          -0.04293278282122838,
          -0.04266801680882248,
          -0.041050033501428315,
          -0.04114635978396898,
          -0.038957347114538306,
          -0.0403363348019735,
          -0.04187020855877449,
          -0.04334437060949356,
          -0.04110562354591112,
          -0.04216662458543361,
          -0.03909860072359716,
          -0.0332701014562071,
          -0.04501549056259897,
          -0.039420785962332575,
          -0.0438025029452513,
          -0.04408811625232079,
          -0.02059795288110139,
          -0.04246614742853842,
          -0.04508603515649577,
          -0.043686739083660046,
          -0.032921475730634406,
          -0.045926239877338994,
          -0.015739964386087067,
          -0.040761573524078165,
          -0.0420393284221918,
          -0.0396331151893297,
          -0.05309714402737354,
          -0.04461841288461563,
          -0.04298507623750397,
          -0.040391898857445194,
          -0.043433620676529366,
          -0.043003146238771335,
          -0.051074501861540056,
          -0.02958235356623435,
          -0.043348007343729886,
          -0.04132654743803055,
          -0.04455928020242164
         ],
         "y": [
          0.035343886295659425,
          0.034173655243748255,
          0.03644080532183371,
          0.03830529966142589,
          0.03465879237204482,
          0.03700754615435216,
          0.03738569594890619,
          0.03515929655808711,
          0.03393078019746364,
          0.03693834202397728,
          0.036935779453419484,
          0.03023770773328466,
          0.03775336957113829,
          0.034546515226021514,
          0.03792316261345495,
          0.035880954605682865,
          0.03500679952619207,
          0.038908825142531224,
          0.025480179424144184,
          0.03427227452894915,
          0.026018128954690422,
          0.03760105928018741,
          0.03394545307040456,
          0.03494075994288073,
          0.03436695850459782,
          0.03573133922200209,
          0.038115654086471135,
          0.03091056026680808,
          0.036031476248660356,
          0.03593239502511148,
          0.03566757191164373,
          0.02830122484413121,
          0.0368160322484155,
          0.03760374350404396,
          0.038950077439919586,
          0.035114122344386954,
          0.03771381627546465,
          0.032970432666103576,
          0.03808084736858578,
          0.03183690854144839,
          0.037375923875916164,
          0.026711226151416505,
          0.03470451428282377,
          0.03629342040344839,
          0.029835260920646117,
          0.035541286046614426,
          0.036840735529281576,
          0.035750504717003834,
          0.037996424802154746,
          0.035990031279225135,
          0.036157730779478585,
          0.03418272074393992,
          0.03331601437672321,
          0.03477417490309883,
          0.03497963954114281,
          0.04546231194659111,
          0.038839122619423835,
          0.008488525697120174,
          0.03710253748262947,
          0.03645135432671005,
          0.03780730235024098,
          0.03680221520864253,
          0.036422095054550706,
          0.03358267712435953,
          0.03597610558198235,
          0.03583533511473805,
          0.03706675567422812,
          0.039206316606266285,
          0.03538073033058151,
          0.03861348704787561,
          0.03410942674374208,
          0.0367354727126175,
          0.03896371275638677,
          0.03819894679177234,
          0.03626861548789393,
          0.03413803378123321,
          0.035873049948773855,
          0.021236993450797395,
          0.03784240102973097,
          0.03352130834094538,
          0.030902632876563023,
          0.03441091287849515,
          0.037771910141646395,
          0.005469283330241555,
          0.03731173449750318,
          0.03601956806223317,
          0.036979208938110096,
          0.0364248569387108,
          0.029401118839782334,
          0.03148888899170784,
          0.03591561085164074,
          0.030824486561842432,
          0.03702602491095413,
          0.03713534184231655,
          0.03314733203612868,
          0.037503690154786176,
          0.035523592107012954,
          0.03605761666673822,
          0.033870401560906205,
          0.03712074819816809,
          0.034061161587994965,
          0.033022287237122215,
          0.03586978360277277,
          0.03685500376996477,
          0.035207988061895255,
          0.03490465936659179,
          0.03296341616244358,
          0.02790908118503707,
          0.038557326226656065,
          0.03354089262924405,
          0.03774666878071619,
          0.03696122955685258,
          0.014639619137900198,
          0.03577139675035188,
          0.03841807517065353,
          0.036159142415645065,
          0.026370766161212467,
          0.03904116311359448,
          0.01342277708371169,
          0.03451777473578364,
          0.035752023846058245,
          0.03388060740572115,
          0.047036702417418,
          0.03787208420419829,
          0.03577099356011232,
          0.0337840421186673,
          0.036641468256797045,
          0.03668184437001772,
          0.04473473229871108,
          0.022720904382508657,
          0.03711803813781445,
          0.03540452547590393,
          0.0386607132036657
         ],
         "z": [
          -0.03859748493068182,
          -0.0395205297899535,
          -0.04211999191324044,
          -0.0438468515902561,
          -0.04106708255909335,
          -0.04140906257048947,
          -0.04382197632505147,
          -0.04105223726551886,
          -0.04051199610924078,
          -0.04117583980670195,
          -0.04141384866526032,
          -0.034287373789760656,
          -0.044872499039013025,
          -0.040404760033542375,
          -0.04428588684521224,
          -0.04108048181992064,
          -0.041077012103714096,
          -0.04423535593403481,
          -0.026974203366855617,
          -0.041336978507454866,
          -0.027998893228659578,
          -0.04294158049216873,
          -0.037862163152348034,
          -0.041083327723790676,
          -0.03620027580485244,
          -0.04072138394228955,
          -0.0426951338874492,
          -0.030919797480312462,
          -0.04126570006194395,
          -0.038707608294947266,
          -0.04120641488770629,
          -0.034613301845653394,
          -0.041796170396868254,
          -0.043181015895906213,
          -0.04223745714372818,
          -0.038404860363512566,
          -0.04384494067405232,
          -0.03387926174030811,
          -0.04220295522389228,
          -0.03874784375458967,
          -0.042693097229764054,
          -0.027029014052466306,
          -0.039867005517576715,
          -0.04081644566983567,
          -0.027880534995462242,
          -0.04058922927163567,
          -0.042910999464753435,
          -0.039538333362006996,
          -0.043891092408892336,
          -0.04110416207286223,
          -0.041894848008634175,
          -0.03669380144413677,
          -0.03518443648421283,
          -0.03733016745109705,
          -0.041812998563581484,
          -0.05185183745946224,
          -0.044480732238675796,
          -0.02025713843187659,
          -0.0425437077967776,
          -0.029879608862304122,
          -0.04271982526707996,
          -0.0406105198505306,
          -0.04142905415211298,
          -0.03953088850716896,
          -0.04050464858416461,
          -0.041975638193282594,
          -0.04243720049948552,
          -0.045698091550898386,
          -0.04087340646778988,
          -0.044264524702085264,
          -0.037628396918208226,
          -0.04363986901825922,
          -0.045061467415355404,
          -0.04524924593796066,
          -0.04204229216065545,
          -0.03973329103466397,
          -0.041580971318566924,
          -0.015939615117598303,
          -0.0432831496772714,
          -0.03668213005112258,
          -0.030916583779325726,
          -0.04014929224639753,
          -0.04269689222481009,
          -0.017073007228665657,
          -0.042622370462294494,
          -0.04154145429903406,
          -0.04049227025039259,
          -0.040180794046167576,
          -0.033778908383635675,
          -0.03337449524850962,
          -0.03967214427553323,
          -0.03735812794223225,
          -0.042439758135557296,
          -0.04276040624488459,
          -0.03792270860041756,
          -0.042792219582665894,
          -0.040962264621306185,
          -0.04265068590434183,
          -0.03489785712486413,
          -0.04169000129297855,
          -0.039153925774690776,
          -0.038958604452751504,
          -0.040347454109960525,
          -0.04231401436946794,
          -0.03872596783456689,
          -0.034895607009195494,
          -0.03939668878666587,
          -0.03320127523262994,
          -0.04420266870316118,
          -0.03889553182156626,
          -0.043315668550359836,
          -0.04290111665318839,
          -0.019562859583617573,
          -0.039575296789328925,
          -0.043626324203829475,
          -0.04095811932553789,
          -0.02506223191265266,
          -0.04458513135966958,
          -0.02102873784939306,
          -0.038267908362331536,
          -0.04103247673403152,
          -0.03942471310555641,
          -0.05374425770423783,
          -0.04343451134087943,
          -0.03807551998621601,
          -0.03586511461239491,
          -0.03955637089516257,
          -0.04178406768865341,
          -0.05183786283827078,
          -0.029418572877432856,
          -0.0425044001973785,
          -0.04055220955593063,
          -0.044187347111276455
         ]
        },
        {
         "hovertemplate": "color=4<br>x=%{x}<br>y=%{y}<br>z=%{z}<extra></extra>",
         "legendgroup": "4",
         "marker": {
          "color": "#ab63fa",
          "symbol": "circle"
         },
         "mode": "markers",
         "name": "4",
         "scene": "scene",
         "showlegend": true,
         "type": "scatter3d",
         "x": [
          -0.006131779826570271,
          -0.0026140010317059533,
          0.0004908061034237313,
          -0.00109338875679112,
          0.00009820521772393488,
          -0.0018970062196273438,
          -0.0007291626108337345,
          0.00277999582760987,
          0.005120866928258373,
          -0.00176408271534822,
          -0.002321971998016422,
          -0.000310191967535102,
          -0.0009099251490216221,
          -0.002030799438216784,
          -0.0005161417715315343,
          -0.0032088764522050367,
          -0.003400097173517719,
          -0.0014717042381392764,
          0.0011224478597141978,
          -0.0024880250385881167,
          -0.0022328617452970906,
          -0.0005965325907976195,
          -0.0013925973843515842,
          -0.003780780789371529,
          -0.0050810859380078024,
          -0.0007767256234516642,
          -0.004040825000275625,
          -0.0025640012306241897,
          -0.00014237973942836726,
          0.0032348011678510393,
          -0.003357766070661527,
          -0.0035040032176194003,
          -0.00288447503179054,
          -0.0023428652122773584,
          -0.00041754316860969157,
          -0.0039709611006238845,
          -0.00031202553548474385,
          -0.00047130508518941107,
          -0.0028335701084270734,
          -0.0005202016726621843,
          -0.0014942409122032014,
          -0.0025736963693127717,
          0.0018056372894129451,
          -0.00015965950312872568,
          -0.0019473312233939423,
          -0.0025248964469385057,
          -0.0025844433974134186,
          -0.002410227827666315,
          -0.0035341324033265793,
          0.0003433403003274549,
          -0.0015949911370591301,
          0.0006690533092672118,
          -0.0027597360064079285,
          -0.003588295356412932,
          -0.0018735585198716743,
          -0.004306694998411582,
          -0.0037963759546662847
         ],
         "y": [
          -0.012776545185825038,
          -0.032743504069986454,
          -0.024638249809390254,
          -0.03455920050436136,
          -0.025337644752904412,
          -0.004115947286398832,
          -0.025074657162400045,
          -0.026342266067991026,
          -0.009378169635867715,
          -0.02874604966135738,
          -0.016797651964796424,
          -0.04494700718760763,
          -0.03398179839637188,
          -0.02545348195421116,
          -0.004921765703348445,
          -0.006803264484292633,
          -0.009854822074731196,
          -0.02930858793809889,
          -0.03763186465063418,
          -0.03407392916219139,
          -0.01854948300717039,
          -0.033159769010640494,
          -0.02665976971772594,
          -0.002187370788250915,
          0.004901322247617709,
          -0.02589774933419381,
          -0.023949965120732483,
          -0.03100126682095903,
          -0.030737177813454333,
          -0.021199755460574173,
          -0.015077864029697137,
          -0.007175338562798847,
          -0.009742245094366681,
          -0.025815856318653414,
          -0.03780666389208562,
          -0.001917066648470341,
          -0.023006772378052612,
          -0.037340105777010205,
          -0.02408919196744259,
          -0.029719185927062537,
          -0.007437473329289365,
          -0.018716620662602042,
          -0.0255630337767349,
          -0.03501694417565017,
          -0.03259648119401156,
          -0.011401547507010508,
          -0.02038868733460298,
          -0.023680929657383096,
          -0.014550605819238047,
          -0.01870021893639573,
          -0.007739023873237534,
          -0.040135076187958585,
          -0.019508619218602266,
          -0.0227825852228859,
          -0.022558875198513496,
          -0.001998100479889473,
          -0.019350625953653038
         ],
         "z": [
          -0.00205761794558576,
          -0.0015606392937607318,
          -0.002532070834876103,
          0.00019374856567883113,
          0.005902684552301387,
          0.004435713576519661,
          0.0010891482355491946,
          0.003353590274776436,
          0.003926091055641465,
          0.005569089861610088,
          0.006056282133663963,
          -0.003039147060431787,
          -0.0018424307947391512,
          0.002975113316571198,
          0.0053424821648056795,
          0.007633662187821048,
          0.007238309999185073,
          0.002206235186961076,
          0.003455847811002168,
          -0.0012553952245946895,
          0.005898112511228919,
          0.0003984059513671154,
          0.0011799408488613276,
          0.008752165853130333,
          0.01032307403836444,
          0.002896304719606474,
          0.0012844630355028641,
          0.002387024088925273,
          0.002164214729480413,
          0.004124515035857897,
          0.005807871281575384,
          0.005954358498026039,
          0.007525014460742141,
          0.0013716917279471483,
          -0.0006452179834184821,
          0.00824458368683086,
          -0.0011469798078461955,
          0.0010413207403298323,
          0.0011101259470436206,
          0.001995546544414053,
          0.007514405355032509,
          0.004964912231579081,
          0.0007597546761236636,
          0.0012708747526602258,
          -0.0030260548416154477,
          0.00651745486046122,
          0.005101407550892747,
          0.004714034395460129,
          0.004528691838803351,
          0.0038305478593161635,
          0.0023849954647561134,
          -0.0007867741852372791,
          0.0024151688037995517,
          0.0025034906494694337,
          0.002593129254169079,
          0.008284544173706545,
          0.0038434362228889074
         ]
        },
        {
         "hovertemplate": "color=0<br>x=%{x}<br>y=%{y}<br>z=%{z}<extra></extra>",
         "legendgroup": "0",
         "marker": {
          "color": "#FFA15A",
          "symbol": "circle"
         },
         "mode": "markers",
         "name": "0",
         "scene": "scene",
         "showlegend": true,
         "type": "scatter3d",
         "x": [
          -0.0032447839735309826,
          -0.007194331175034804,
          -0.005030478493887672,
          -0.008410586010894505,
          -0.009304098141806622,
          -0.007525984613275331,
          -0.004276211179150814,
          -0.012031691726449217,
          -0.011349029972781682,
          -0.007823724189008865,
          -0.005380140446716493,
          -0.002581716330280379,
          -0.006169127464683982,
          -0.007371713354726656,
          -0.0065756447940724,
          -0.012988163361258576,
          -0.004815925132464137,
          -0.0059004639858264325,
          -0.004020353362947232,
          -0.006959307631554225,
          -0.008624471752034794,
          -0.010203425989381065,
          -0.005083298905057678,
          -0.008798103574358535,
          -0.009847764213540122
         ],
         "y": [
          -0.001527695814001034,
          0.0002817139804044764,
          -0.0009315946792246878,
          0.00005666590426470913,
          0.0011091024945040686,
          0.00017216516020691214,
          0.0021344483403645184,
          -0.003409492374938537,
          0.0007244262911399874,
          0.0021641522616282697,
          0.003678503991047379,
          0.0029431613527932604,
          0.0019287903713926845,
          0.0009117796038899274,
          0.001708973936856306,
          -0.002415525104396659,
          -0.0006258535407753698,
          0.0007752631412869335,
          0.002013337566530181,
          0.0010829375199468598,
          -0.0019655069693941714,
          -0.0004991916994032015,
          0.0016014263953312074,
          0.0012118343593801226,
          -0.0008242126256939371
         ],
         "z": [
          0.010890154485916629,
          0.015516466476174147,
          0.015787592036099182,
          0.018949902764224064,
          0.01994521487414439,
          0.0172596644570986,
          0.01327027268345524,
          0.022897422210176877,
          0.020236239714302762,
          0.018181584625436144,
          0.013063473818507775,
          0.014002378060750971,
          0.01663079355055186,
          0.018939069651072823,
          0.017785192731092726,
          0.02330803138232795,
          0.016988782392023005,
          0.017068715689995524,
          0.012698981220539895,
          0.017160315857898168,
          0.017045991724690714,
          0.018928733755778727,
          0.016029746217735584,
          0.018823901548837535,
          0.021863289208152333
         ]
        },
        {
         "hovertemplate": "color=9<br>x=%{x}<br>y=%{y}<br>z=%{z}<extra></extra>",
         "legendgroup": "9",
         "marker": {
          "color": "#19d3f3",
          "symbol": "circle"
         },
         "mode": "markers",
         "name": "9",
         "scene": "scene",
         "showlegend": true,
         "type": "scatter3d",
         "x": [
          -0.006372225276952435,
          -0.009610989715176946,
          -0.007918651148858924,
          -0.012274747495441954,
          -0.011165550131796306,
          -0.008904735615248606,
          -0.0059018898133988,
          -0.007505060574621802,
          -0.007962723169717467,
          -0.011300340382377934,
          -0.00813320711582756,
          -0.008203163981854063,
          -0.005805433300011598,
          -0.01109615662612691,
          -0.0037762249172857143,
          -0.009707629565816327,
          -0.01054561393045278,
          -0.007924677665583392,
          -0.009581651267547658,
          -0.011079694544800574,
          -0.01367687867739966,
          -0.00729716260314571,
          -0.012384064741968143,
          -0.010904817716277264,
          -0.006926888800196734,
          -0.008334536095236163,
          -0.009127418092682561,
          -0.00763864027881328,
          -0.00985174085603474,
          -0.007660073683504957,
          -0.007588899885078305,
          -0.008053972209187,
          -0.007351461898359737,
          -0.010375308467469205,
          -0.006948009636015183,
          -0.009513663779717723,
          0.0036234303420440497,
          -0.006328523466770805,
          -0.009832366716805846,
          -0.010123843592403856,
          -0.010620856716258197,
          -0.00985116525922624,
          -0.009399387396799339,
          -0.006605603170621109,
          -0.007581041699022281,
          -0.010289641940734506,
          -0.011452998046573695,
          -0.009065972587960679,
          -0.008465918289197995,
          -0.006572612439196372,
          -0.007274092972862932,
          -0.008449204276295617,
          -0.00911248028259802,
          -0.008394757103439572,
          -0.007099582037943482,
          -0.008627836016069708,
          -0.003805234762607069,
          -0.007984914436950763,
          -0.013774102698906682,
          -0.009239656002841476,
          -0.008789966465028387,
          -0.009263305514692115
         ],
         "y": [
          -0.004097955229409951,
          -0.002161919781344175,
          -0.0029423357457933445,
          -0.0021706043009936927,
          -0.0010540667838914927,
          -0.00037214636422712704,
          -0.003163808135879931,
          -0.003603253781854738,
          -0.0012971985840941865,
          -0.0010241603726728488,
          -0.0017162975812746624,
          -0.005509240172888787,
          -0.0033595991593166107,
          -0.00005180409761048124,
          -0.006793022412576042,
          -0.00025714369546000083,
          -0.0018804484071335325,
          -0.003473791561979836,
          -0.0007143621972584549,
          -0.001902224969470326,
          -0.001621388515051437,
          -0.0010839099817401294,
          -0.0019255869730268119,
          -0.0006763178746535719,
          -0.00300459112438422,
          -0.003023765514983137,
          -0.0022896654560787405,
          -0.0017161073763262424,
          -0.0017936998132889806,
          -0.001788136455326301,
          -0.0022327779680521055,
          -0.003556163639179797,
          -0.0017872396179408941,
          0.0009482210742630609,
          -0.0034122832040210244,
          0.0004990039794641292,
          -0.011307386053286886,
          -0.0024377202623243064,
          0.0007394236535419509,
          -0.0022016912972567856,
          -0.00044480619532935757,
          -0.0006721543590140801,
          -0.0016275678246010922,
          -0.004001426125369915,
          -0.002973264476215069,
          -0.0011309756198637742,
          -0.002566143822013726,
          -0.0025035172240506325,
          -0.0022160163791453136,
          -0.005517227591048776,
          -0.0033246639507329796,
          -0.0019072822284765811,
          -0.0016158092108128144,
          -0.002958919816567776,
          -0.004719008195938738,
          -0.0011276440912887792,
          -0.0029365286375195717,
          -0.0029996939110195882,
          0.0024093648770409553,
          -0.00033593091559146887,
          -0.002224476227279425,
          -0.003578249733464437
         ],
         "z": [
          0.021397065235138606,
          0.02937633913231817,
          0.027131772858621256,
          0.031668791566364964,
          0.0309493219396099,
          0.030576297974736596,
          0.01919805441156526,
          0.02641545148807413,
          0.026158449817527345,
          0.03408130142109699,
          0.028888372020810474,
          0.033164480164855514,
          0.024315397706300187,
          0.02560169441440847,
          0.022422748435238983,
          0.02831923056430115,
          0.03029291073938759,
          0.026606203242094048,
          0.030476213865831076,
          0.03283128420375546,
          0.039293644337787446,
          0.02529940107786751,
          0.026132021960281443,
          0.027195884867248096,
          0.024680261858783113,
          0.026466710568537947,
          0.026437357750315617,
          0.029433536509964976,
          0.02860951129446497,
          0.02862059950387436,
          0.02800589566838592,
          0.02483912873686109,
          0.025448463779930434,
          0.030238440357183118,
          0.023808200237109896,
          0.02845326995418465,
          0.013301960929458363,
          0.01830474145462306,
          0.02860366037347767,
          0.026254365296664355,
          0.035471217430879505,
          0.031736210890723454,
          0.033408165418525954,
          0.025637115753715925,
          0.025526440604284294,
          0.028520086045868927,
          0.03430378548359839,
          0.026051824840041544,
          0.027691296531296896,
          0.023361461401123485,
          0.02508114956298476,
          0.026281316587892872,
          0.02902896802171076,
          0.028650978576336365,
          0.02313452779229652,
          0.028085887568530712,
          0.02160352373066072,
          0.027202285432392358,
          0.02659369987402775,
          0.030436680934143742,
          0.029301499137652308,
          0.029188148161913882
         ]
        },
        {
         "hovertemplate": "color=7<br>x=%{x}<br>y=%{y}<br>z=%{z}<extra></extra>",
         "legendgroup": "7",
         "marker": {
          "color": "#FF6692",
          "symbol": "circle"
         },
         "mode": "markers",
         "name": "7",
         "scene": "scene",
         "showlegend": true,
         "type": "scatter3d",
         "x": [
          0.1082806500278344,
          0.11988151200012094,
          0.12392767609067637,
          0.09405391342194645,
          0.10464420119396015,
          0.11604737851927988,
          0.10122166621966726,
          0.11285270383654561,
          0.11249631562763289,
          0.12536869853821914,
          0.13295008072463166,
          0.13006108963226054,
          0.07155037887439043,
          0.11118288420932976,
          0.1002063705094185,
          0.09630979305015334,
          0.1052727215409946,
          0.11530042343961303,
          0.10302720542596819,
          0.13001764247357245,
          0.0690750701447783,
          0.1196921768153153,
          0.09287777193089652,
          0.07773035243544384,
          0.11846724029601349,
          0.12498372327269315,
          0.10410338621418147,
          0.12651906988263303,
          0.10123356508370326,
          0.11162092746037958,
          0.09379654582062281,
          0.1187779227850808,
          0.0989783278969795,
          0.1015466033174814,
          0.1260840638299785,
          0.08158537556241785,
          0.11671933093342703,
          0.1192173949227541,
          0.12213410930908532,
          0.0847153819715786,
          0.11804214031922601,
          0.10034402601531736,
          0.10129923825315285,
          0.1073902723782518,
          0.06063798397992242,
          0.09671136661509228,
          0.1083644276643708,
          0.05073074252420807,
          0.12628801852451604,
          0.09726357685031986,
          0.10287644845536341,
          0.0853723505256046,
          0.12352787753070722,
          0.10995214260352867
         ],
         "y": [
          0.03779047228722129,
          0.04471948170355071,
          0.047156145103408445,
          0.02976157064251378,
          0.03854187598060297,
          0.04240961375875907,
          0.03654129697392251,
          0.040695262176801826,
          0.041309208344909656,
          0.047439250447338474,
          0.05168792217168156,
          0.04926096450259981,
          0.020981389356352263,
          0.040047415197746294,
          0.03749429657142914,
          0.030309094609801093,
          0.03819033502363782,
          0.04313732680049455,
          0.03843044162702241,
          0.05024374185882544,
          0.015335373211212627,
          0.0441866164227612,
          0.03340462857934917,
          0.026402192237608348,
          0.04298963705863767,
          0.04745488339370935,
          0.03916509263311306,
          0.04850798024580297,
          0.034450443116479754,
          0.041042578114839995,
          0.032236769539795,
          0.04456179207076292,
          0.03642315641259754,
          0.03619012123204303,
          0.04828875317544094,
          0.02587183881802364,
          0.04337638913966356,
          0.044126463681574496,
          0.046406289287130156,
          0.028670053643514694,
          0.04352341133068387,
          0.03443959534905442,
          0.03506307076539609,
          0.036321433521529264,
          0.018899235781008765,
          0.033008919126819254,
          0.038773579707126186,
          0.01920739262485311,
          0.04802025876673408,
          0.03454765251674787,
          0.03539710963885921,
          0.024044822710876667,
          0.04649918117050921,
          0.03769160522668605
         ],
         "z": [
          -0.003992254888158353,
          -0.004111217322930473,
          -0.0040151275481147206,
          -0.002641822188596321,
          -0.0031584578377310546,
          -0.003911400213576444,
          -0.004073962683806793,
          -0.0023105979916631415,
          -0.0039804031221474,
          -0.0038469032767360634,
          -0.004533752631740322,
          -0.004524264092681592,
          -0.0033528098713877207,
          -0.003733000553172817,
          -0.0034209171286340573,
          -0.002055703933663368,
          -0.0026659650547112453,
          -0.003975592677544652,
          -0.0026816290985999768,
          -0.004456232622294949,
          0.00012202505906536848,
          -0.0030803192375825766,
          -0.003336490478962527,
          -0.004071544609655222,
          -0.003867820343154367,
          -0.0043064610630699635,
          -0.0031090591107931845,
          -0.0041035776023751955,
          -0.0002732290357996582,
          -0.0035253426906013685,
          -0.003182639881629052,
          -0.003838547235401446,
          -0.002044689949196609,
          -0.001995297704461444,
          -0.003908386301355378,
          -0.002249987078289651,
          -0.0035757281829305876,
          -0.003908138341638764,
          -0.003976335953055552,
          0.0000950455178564645,
          -0.004158008621864523,
          -0.002188241597991771,
          -0.0028605452978207498,
          -0.003635250846602541,
          -0.0031111616706148443,
          -0.002692371138725329,
          -0.0032768182303401575,
          -0.005183779832522415,
          -0.004183706255424219,
          -0.0019473597715859714,
          -0.003193298664458555,
          -0.001654838739493094,
          -0.004212408981878343,
          -0.0035554404933544094
         ]
        },
        {
         "hovertemplate": "color=8<br>x=%{x}<br>y=%{y}<br>z=%{z}<extra></extra>",
         "legendgroup": "8",
         "marker": {
          "color": "#B6E880",
          "symbol": "circle"
         },
         "mode": "markers",
         "name": "8",
         "scene": "scene",
         "showlegend": true,
         "type": "scatter3d",
         "x": [
          0.00923942775058672,
          0.008388999494378047,
          0.007405823636292497,
          0.00777342529765478,
          0.0033030292896057065,
          0.005790016979328868,
          0.011809633242208198,
          0.0054976273102256374,
          0.00855416930133456,
          0.009534754803159788,
          0.009510205152597826,
          0.008999866590074596,
          0.006610258482415416,
          0.003977966025760553,
          0.010042052341413551,
          0.009280001205851197,
          0.01041744966213445,
          0.01102935580378999,
          0.007540249561534014,
          0.006671634405388961,
          0.008498164991018131,
          0.01020307573500913,
          0.008094948006554178,
          0.007753939985000739,
          0.007408095096691023,
          0.009743164265040644,
          0.009923600790377594,
          0.005882279141891974,
          0.008277682841767015,
          0.009922263874867084,
          0.007492138519256343,
          0.006886033683518202,
          0.01139492278771303,
          0.008770723940582864,
          0.006456493356302698,
          0.008262394743382034,
          0.009723126106644497,
          0.008788427311457559,
          0.01055659715901628,
          0.008402825507529414,
          0.009795774925175317,
          0.006518426886999161,
          0.007887718174156047,
          0.00883467286654448,
          0.008366146274388165,
          0.008327644855935765,
          0.009385529481155112,
          0.009377066221432067,
          0.006557030743087921
         ],
         "y": [
          -0.11571255528893809,
          -0.1210243875988885,
          -0.11756753891821024,
          -0.04826021676564263,
          -0.0721576874422713,
          -0.12628132446251333,
          -0.10167104058203735,
          -0.10143137727882945,
          -0.13228933572050303,
          -0.12578985934197798,
          -0.11780166565911575,
          -0.038925959013661166,
          -0.12455439901933157,
          -0.1271069620905778,
          -0.12614122226948266,
          -0.12723663497034152,
          -0.14279707777482156,
          -0.12521170740828438,
          -0.12595534092078992,
          -0.1294360837668378,
          -0.12701035056979912,
          -0.10910420159409771,
          -0.12052259594420198,
          -0.12771472739360074,
          -0.12959883540949405,
          -0.12399242858525644,
          -0.11925351928810438,
          -0.11265341905560798,
          -0.12527622353343223,
          -0.11152115469229182,
          -0.129594445834162,
          -0.12675853376696458,
          -0.1337912332272502,
          -0.12641601041853373,
          -0.11693539065065164,
          -0.11530501336264941,
          -0.1429580523229746,
          -0.1304358129068642,
          -0.14047048753621158,
          -0.1216215567230228,
          -0.08875566192724736,
          -0.11723085812159541,
          -0.1280034813658315,
          -0.11389139615481583,
          -0.12609421166443627,
          -0.13151659610175023,
          -0.12419881118280665,
          -0.13435560766191865,
          -0.11661323524413007
         ],
         "z": [
          -0.025612093936177485,
          -0.02809678876965055,
          -0.027120691628617383,
          -0.005509959949236877,
          -0.021470607107274536,
          -0.031144647616439463,
          -0.020511760834986334,
          -0.02204279040414092,
          -0.03133854757034649,
          -0.028797768660483645,
          -0.026237970028519467,
          -0.0009629874116451713,
          -0.03055557383141746,
          -0.024359037402226374,
          -0.027941658055048925,
          -0.02890668069952637,
          -0.03266406908010158,
          -0.026813144121334263,
          -0.02991511102320719,
          -0.031537136590134435,
          -0.029205264877410507,
          -0.02328993129998503,
          -0.027850966294143614,
          -0.03018428934982979,
          -0.03132945499293978,
          -0.027759806558613823,
          -0.02654391336009721,
          -0.02658544448382389,
          -0.0293825090813968,
          -0.023376725232839405,
          -0.03006895778835136,
          -0.030328374502917973,
          -0.029564481173533472,
          -0.02963121391704597,
          -0.027440837795068375,
          -0.025699032123873665,
          -0.03306698183214603,
          -0.030191060694875697,
          -0.031845067062579044,
          -0.0281946026214672,
          -0.016280743527837156,
          -0.027874838100683155,
          -0.03023350643079153,
          -0.025659971640104598,
          -0.029320543988905767,
          -0.03144064536964173,
          -0.0279893634692824,
          -0.030171171476342504,
          -0.028890458124550534
         ]
        },
        {
         "hovertemplate": "color=2<br>x=%{x}<br>y=%{y}<br>z=%{z}<extra></extra>",
         "legendgroup": "2",
         "marker": {
          "color": "#FF97FF",
          "symbol": "circle"
         },
         "mode": "markers",
         "name": "2",
         "scene": "scene",
         "showlegend": true,
         "type": "scatter3d",
         "x": [
          0.10092959888358036,
          0.10913238252825264,
          0.09031705798406434,
          0.08065180258543349,
          0.04913313942081867,
          0.08868495374866778,
          0.06282046099987529,
          0.04786089478355539,
          0.05770344539876843,
          0.06834950831103023,
          0.04133317124578186,
          0.05185161682437762,
          0.09210269432856302,
          0.05606698838361582,
          0.07632710734284107,
          0.09100250029127654,
          0.06881118865352252
         ],
         "y": [
          0.03326681120423981,
          0.039266887816795,
          0.027717351892268934,
          0.01853145148364684,
          0.007897155172541689,
          0.028335487642875933,
          0.00929237077678323,
          0.00035844327544187066,
          0.0062939112031117185,
          0.01805040914184315,
          -0.003822222749537925,
          0.00238608709503154,
          0.025947204453084686,
          0.0008780553868121669,
          0.012757276947827368,
          0.02730036186742227,
          0.014835096423586028
         ],
         "z": [
          -0.002153291888873657,
          -0.0025073512434404463,
          -0.0017686397634359453,
          -0.001616864494779097,
          -0.001426242507468499,
          -0.0007280485587898462,
          0.0004748198485554807,
          -0.005334612355225577,
          -0.0005546068180324812,
          -0.0008657194932300445,
          -0.0017827043383579523,
          -0.0002884361087722269,
          -0.0016244112885171469,
          -0.003941884799111033,
          -0.0022192264703348352,
          -0.0018687214103565754,
          -0.001130122069120212
         ]
        },
        {
         "hovertemplate": "color=1<br>x=%{x}<br>y=%{y}<br>z=%{z}<extra></extra>",
         "legendgroup": "1",
         "marker": {
          "color": "#FECB52",
          "symbol": "circle"
         },
         "mode": "markers",
         "name": "1",
         "scene": "scene",
         "showlegend": true,
         "type": "scatter3d",
         "x": [
          -0.004483191367011306,
          -0.01094215569148371,
          0.02715812908112439,
          0.0037530096572674088
         ],
         "y": [
          0.009067047700876268,
          0.011437598947232144,
          0.021677699792060773,
          0.016563638357403918
         ],
         "z": [
          0.012646452470353805,
          0.004569087241605634,
          -0.005928550293881174,
          0.012217795628516936
         ]
        }
       ],
       "layout": {
        "height": 400,
        "legend": {
         "title": {
          "text": "color"
         },
         "tracegroupgap": 0
        },
        "scene": {
         "domain": {
          "x": [
           0,
           1
          ],
          "y": [
           0,
           1
          ]
         },
         "xaxis": {
          "title": {
           "text": "c_1"
          }
         },
         "yaxis": {
          "title": {
           "text": "c_2"
          }
         },
         "zaxis": {
          "title": {
           "text": "c_3"
          }
         }
        },
        "template": {
         "data": {
          "bar": [
           {
            "error_x": {
             "color": "#2a3f5f"
            },
            "error_y": {
             "color": "#2a3f5f"
            },
            "marker": {
             "line": {
              "color": "#E5ECF6",
              "width": 0.5
             },
             "pattern": {
              "fillmode": "overlay",
              "size": 10,
              "solidity": 0.2
             }
            },
            "type": "bar"
           }
          ],
          "barpolar": [
           {
            "marker": {
             "line": {
              "color": "#E5ECF6",
              "width": 0.5
             },
             "pattern": {
              "fillmode": "overlay",
              "size": 10,
              "solidity": 0.2
             }
            },
            "type": "barpolar"
           }
          ],
          "carpet": [
           {
            "aaxis": {
             "endlinecolor": "#2a3f5f",
             "gridcolor": "white",
             "linecolor": "white",
             "minorgridcolor": "white",
             "startlinecolor": "#2a3f5f"
            },
            "baxis": {
             "endlinecolor": "#2a3f5f",
             "gridcolor": "white",
             "linecolor": "white",
             "minorgridcolor": "white",
             "startlinecolor": "#2a3f5f"
            },
            "type": "carpet"
           }
          ],
          "choropleth": [
           {
            "colorbar": {
             "outlinewidth": 0,
             "ticks": ""
            },
            "type": "choropleth"
           }
          ],
          "contour": [
           {
            "colorbar": {
             "outlinewidth": 0,
             "ticks": ""
            },
            "colorscale": [
             [
              0,
              "#0d0887"
             ],
             [
              0.1111111111111111,
              "#46039f"
             ],
             [
              0.2222222222222222,
              "#7201a8"
             ],
             [
              0.3333333333333333,
              "#9c179e"
             ],
             [
              0.4444444444444444,
              "#bd3786"
             ],
             [
              0.5555555555555556,
              "#d8576b"
             ],
             [
              0.6666666666666666,
              "#ed7953"
             ],
             [
              0.7777777777777778,
              "#fb9f3a"
             ],
             [
              0.8888888888888888,
              "#fdca26"
             ],
             [
              1,
              "#f0f921"
             ]
            ],
            "type": "contour"
           }
          ],
          "contourcarpet": [
           {
            "colorbar": {
             "outlinewidth": 0,
             "ticks": ""
            },
            "type": "contourcarpet"
           }
          ],
          "heatmap": [
           {
            "colorbar": {
             "outlinewidth": 0,
             "ticks": ""
            },
            "colorscale": [
             [
              0,
              "#0d0887"
             ],
             [
              0.1111111111111111,
              "#46039f"
             ],
             [
              0.2222222222222222,
              "#7201a8"
             ],
             [
              0.3333333333333333,
              "#9c179e"
             ],
             [
              0.4444444444444444,
              "#bd3786"
             ],
             [
              0.5555555555555556,
              "#d8576b"
             ],
             [
              0.6666666666666666,
              "#ed7953"
             ],
             [
              0.7777777777777778,
              "#fb9f3a"
             ],
             [
              0.8888888888888888,
              "#fdca26"
             ],
             [
              1,
              "#f0f921"
             ]
            ],
            "type": "heatmap"
           }
          ],
          "heatmapgl": [
           {
            "colorbar": {
             "outlinewidth": 0,
             "ticks": ""
            },
            "colorscale": [
             [
              0,
              "#0d0887"
             ],
             [
              0.1111111111111111,
              "#46039f"
             ],
             [
              0.2222222222222222,
              "#7201a8"
             ],
             [
              0.3333333333333333,
              "#9c179e"
             ],
             [
              0.4444444444444444,
              "#bd3786"
             ],
             [
              0.5555555555555556,
              "#d8576b"
             ],
             [
              0.6666666666666666,
              "#ed7953"
             ],
             [
              0.7777777777777778,
              "#fb9f3a"
             ],
             [
              0.8888888888888888,
              "#fdca26"
             ],
             [
              1,
              "#f0f921"
             ]
            ],
            "type": "heatmapgl"
           }
          ],
          "histogram": [
           {
            "marker": {
             "pattern": {
              "fillmode": "overlay",
              "size": 10,
              "solidity": 0.2
             }
            },
            "type": "histogram"
           }
          ],
          "histogram2d": [
           {
            "colorbar": {
             "outlinewidth": 0,
             "ticks": ""
            },
            "colorscale": [
             [
              0,
              "#0d0887"
             ],
             [
              0.1111111111111111,
              "#46039f"
             ],
             [
              0.2222222222222222,
              "#7201a8"
             ],
             [
              0.3333333333333333,
              "#9c179e"
             ],
             [
              0.4444444444444444,
              "#bd3786"
             ],
             [
              0.5555555555555556,
              "#d8576b"
             ],
             [
              0.6666666666666666,
              "#ed7953"
             ],
             [
              0.7777777777777778,
              "#fb9f3a"
             ],
             [
              0.8888888888888888,
              "#fdca26"
             ],
             [
              1,
              "#f0f921"
             ]
            ],
            "type": "histogram2d"
           }
          ],
          "histogram2dcontour": [
           {
            "colorbar": {
             "outlinewidth": 0,
             "ticks": ""
            },
            "colorscale": [
             [
              0,
              "#0d0887"
             ],
             [
              0.1111111111111111,
              "#46039f"
             ],
             [
              0.2222222222222222,
              "#7201a8"
             ],
             [
              0.3333333333333333,
              "#9c179e"
             ],
             [
              0.4444444444444444,
              "#bd3786"
             ],
             [
              0.5555555555555556,
              "#d8576b"
             ],
             [
              0.6666666666666666,
              "#ed7953"
             ],
             [
              0.7777777777777778,
              "#fb9f3a"
             ],
             [
              0.8888888888888888,
              "#fdca26"
             ],
             [
              1,
              "#f0f921"
             ]
            ],
            "type": "histogram2dcontour"
           }
          ],
          "mesh3d": [
           {
            "colorbar": {
             "outlinewidth": 0,
             "ticks": ""
            },
            "type": "mesh3d"
           }
          ],
          "parcoords": [
           {
            "line": {
             "colorbar": {
              "outlinewidth": 0,
              "ticks": ""
             }
            },
            "type": "parcoords"
           }
          ],
          "pie": [
           {
            "automargin": true,
            "type": "pie"
           }
          ],
          "scatter": [
           {
            "fillpattern": {
             "fillmode": "overlay",
             "size": 10,
             "solidity": 0.2
            },
            "type": "scatter"
           }
          ],
          "scatter3d": [
           {
            "line": {
             "colorbar": {
              "outlinewidth": 0,
              "ticks": ""
             }
            },
            "marker": {
             "colorbar": {
              "outlinewidth": 0,
              "ticks": ""
             }
            },
            "type": "scatter3d"
           }
          ],
          "scattercarpet": [
           {
            "marker": {
             "colorbar": {
              "outlinewidth": 0,
              "ticks": ""
             }
            },
            "type": "scattercarpet"
           }
          ],
          "scattergeo": [
           {
            "marker": {
             "colorbar": {
              "outlinewidth": 0,
              "ticks": ""
             }
            },
            "type": "scattergeo"
           }
          ],
          "scattergl": [
           {
            "marker": {
             "colorbar": {
              "outlinewidth": 0,
              "ticks": ""
             }
            },
            "type": "scattergl"
           }
          ],
          "scattermapbox": [
           {
            "marker": {
             "colorbar": {
              "outlinewidth": 0,
              "ticks": ""
             }
            },
            "type": "scattermapbox"
           }
          ],
          "scatterpolar": [
           {
            "marker": {
             "colorbar": {
              "outlinewidth": 0,
              "ticks": ""
             }
            },
            "type": "scatterpolar"
           }
          ],
          "scatterpolargl": [
           {
            "marker": {
             "colorbar": {
              "outlinewidth": 0,
              "ticks": ""
             }
            },
            "type": "scatterpolargl"
           }
          ],
          "scatterternary": [
           {
            "marker": {
             "colorbar": {
              "outlinewidth": 0,
              "ticks": ""
             }
            },
            "type": "scatterternary"
           }
          ],
          "surface": [
           {
            "colorbar": {
             "outlinewidth": 0,
             "ticks": ""
            },
            "colorscale": [
             [
              0,
              "#0d0887"
             ],
             [
              0.1111111111111111,
              "#46039f"
             ],
             [
              0.2222222222222222,
              "#7201a8"
             ],
             [
              0.3333333333333333,
              "#9c179e"
             ],
             [
              0.4444444444444444,
              "#bd3786"
             ],
             [
              0.5555555555555556,
              "#d8576b"
             ],
             [
              0.6666666666666666,
              "#ed7953"
             ],
             [
              0.7777777777777778,
              "#fb9f3a"
             ],
             [
              0.8888888888888888,
              "#fdca26"
             ],
             [
              1,
              "#f0f921"
             ]
            ],
            "type": "surface"
           }
          ],
          "table": [
           {
            "cells": {
             "fill": {
              "color": "#EBF0F8"
             },
             "line": {
              "color": "white"
             }
            },
            "header": {
             "fill": {
              "color": "#C8D4E3"
             },
             "line": {
              "color": "white"
             }
            },
            "type": "table"
           }
          ]
         },
         "layout": {
          "annotationdefaults": {
           "arrowcolor": "#2a3f5f",
           "arrowhead": 0,
           "arrowwidth": 1
          },
          "autotypenumbers": "strict",
          "coloraxis": {
           "colorbar": {
            "outlinewidth": 0,
            "ticks": ""
           }
          },
          "colorscale": {
           "diverging": [
            [
             0,
             "#8e0152"
            ],
            [
             0.1,
             "#c51b7d"
            ],
            [
             0.2,
             "#de77ae"
            ],
            [
             0.3,
             "#f1b6da"
            ],
            [
             0.4,
             "#fde0ef"
            ],
            [
             0.5,
             "#f7f7f7"
            ],
            [
             0.6,
             "#e6f5d0"
            ],
            [
             0.7,
             "#b8e186"
            ],
            [
             0.8,
             "#7fbc41"
            ],
            [
             0.9,
             "#4d9221"
            ],
            [
             1,
             "#276419"
            ]
           ],
           "sequential": [
            [
             0,
             "#0d0887"
            ],
            [
             0.1111111111111111,
             "#46039f"
            ],
            [
             0.2222222222222222,
             "#7201a8"
            ],
            [
             0.3333333333333333,
             "#9c179e"
            ],
            [
             0.4444444444444444,
             "#bd3786"
            ],
            [
             0.5555555555555556,
             "#d8576b"
            ],
            [
             0.6666666666666666,
             "#ed7953"
            ],
            [
             0.7777777777777778,
             "#fb9f3a"
            ],
            [
             0.8888888888888888,
             "#fdca26"
            ],
            [
             1,
             "#f0f921"
            ]
           ],
           "sequentialminus": [
            [
             0,
             "#0d0887"
            ],
            [
             0.1111111111111111,
             "#46039f"
            ],
            [
             0.2222222222222222,
             "#7201a8"
            ],
            [
             0.3333333333333333,
             "#9c179e"
            ],
            [
             0.4444444444444444,
             "#bd3786"
            ],
            [
             0.5555555555555556,
             "#d8576b"
            ],
            [
             0.6666666666666666,
             "#ed7953"
            ],
            [
             0.7777777777777778,
             "#fb9f3a"
            ],
            [
             0.8888888888888888,
             "#fdca26"
            ],
            [
             1,
             "#f0f921"
            ]
           ]
          },
          "colorway": [
           "#636efa",
           "#EF553B",
           "#00cc96",
           "#ab63fa",
           "#FFA15A",
           "#19d3f3",
           "#FF6692",
           "#B6E880",
           "#FF97FF",
           "#FECB52"
          ],
          "font": {
           "color": "#2a3f5f"
          },
          "geo": {
           "bgcolor": "white",
           "lakecolor": "white",
           "landcolor": "#E5ECF6",
           "showlakes": true,
           "showland": true,
           "subunitcolor": "white"
          },
          "hoverlabel": {
           "align": "left"
          },
          "hovermode": "closest",
          "mapbox": {
           "style": "light"
          },
          "paper_bgcolor": "white",
          "plot_bgcolor": "#E5ECF6",
          "polar": {
           "angularaxis": {
            "gridcolor": "white",
            "linecolor": "white",
            "ticks": ""
           },
           "bgcolor": "#E5ECF6",
           "radialaxis": {
            "gridcolor": "white",
            "linecolor": "white",
            "ticks": ""
           }
          },
          "scene": {
           "xaxis": {
            "backgroundcolor": "#E5ECF6",
            "gridcolor": "white",
            "gridwidth": 2,
            "linecolor": "white",
            "showbackground": true,
            "ticks": "",
            "zerolinecolor": "white"
           },
           "yaxis": {
            "backgroundcolor": "#E5ECF6",
            "gridcolor": "white",
            "gridwidth": 2,
            "linecolor": "white",
            "showbackground": true,
            "ticks": "",
            "zerolinecolor": "white"
           },
           "zaxis": {
            "backgroundcolor": "#E5ECF6",
            "gridcolor": "white",
            "gridwidth": 2,
            "linecolor": "white",
            "showbackground": true,
            "ticks": "",
            "zerolinecolor": "white"
           }
          },
          "shapedefaults": {
           "line": {
            "color": "#2a3f5f"
           }
          },
          "ternary": {
           "aaxis": {
            "gridcolor": "white",
            "linecolor": "white",
            "ticks": ""
           },
           "baxis": {
            "gridcolor": "white",
            "linecolor": "white",
            "ticks": ""
           },
           "bgcolor": "#E5ECF6",
           "caxis": {
            "gridcolor": "white",
            "linecolor": "white",
            "ticks": ""
           }
          },
          "title": {
           "x": 0.05
          },
          "xaxis": {
           "automargin": true,
           "gridcolor": "white",
           "linecolor": "white",
           "ticks": "",
           "title": {
            "standoff": 15
           },
           "zerolinecolor": "white",
           "zerolinewidth": 2
          },
          "yaxis": {
           "automargin": true,
           "gridcolor": "white",
           "linecolor": "white",
           "ticks": "",
           "title": {
            "standoff": 15
           },
           "zerolinecolor": "white",
           "zerolinewidth": 2
          }
         }
        },
        "title": {
         "text": "HessianLLE_3_comp - 0.217 sec."
        },
        "width": 500
       }
      }
     },
     "metadata": {},
     "output_type": "display_data"
    },
    {
     "data": {
      "application/vnd.plotly.v1+json": {
       "config": {
        "plotlyServerURL": "https://plot.ly"
       },
       "data": [
        {
         "hovertemplate": "color=5<br>x=%{x}<br>y=%{y}<br>z=%{z}<extra></extra>",
         "legendgroup": "5",
         "marker": {
          "color": "#636efa",
          "symbol": "circle"
         },
         "mode": "markers",
         "name": "5",
         "scene": "scene",
         "showlegend": true,
         "type": "scatter3d",
         "x": [
          11.220996856689453,
          11.508352279663086,
          11.110671997070312,
          10.988102912902832,
          11.264849662780762,
          11.24730110168457,
          11.051817893981934,
          10.990522384643555,
          11.080981254577637,
          10.950263023376465,
          11.438433647155762,
          11.090815544128418,
          11.029784202575684,
          10.697152137756348,
          11.502592086791992,
          11.321990966796875,
          11.300763130187988,
          11.39990234375,
          11.522003173828125,
          11.184932708740234,
          11.251764297485352,
          10.62256908416748,
          11.393308639526367,
          11.015390396118164,
          11.238439559936523,
          10.888859748840332,
          11.080625534057617,
          11.220267295837402,
          11.469576835632324,
          11.328570365905762,
          10.244232177734375,
          11.214877128601074,
          11.441145896911621,
          10.934332847595215,
          10.93466567993164,
          11.396820068359375,
          10.984935760498047,
          10.861273765563965,
          11.40028190612793,
          10.545112609863281,
          10.503666877746582,
          11.104721069335938,
          10.646475791931152,
          10.990796089172363,
          10.38508415222168,
          10.963920593261719,
          11.123518943786621,
          11.048416137695312,
          11.246665954589844,
          11.452629089355469,
          10.716732025146484,
          11.051196098327637,
          11.57732105255127,
          10.770291328430176,
          11.122645378112793,
          11.542081832885742,
          11.310586929321289,
          11.234121322631836,
          11.17978572845459,
          11.023261070251465,
          10.8436279296875,
          11.193185806274414,
          11.113414764404297,
          11.3004732131958,
          10.865363121032715,
          10.742159843444824,
          10.893513679504395,
          11.14488697052002,
          11.491981506347656,
          10.996609687805176,
          10.929529190063477,
          10.852787017822266,
          10.792145729064941,
          10.96399974822998,
          11.388606071472168,
          10.975449562072754,
          10.799732208251953,
          11.538448333740234,
          10.814770698547363
         ],
         "y": [
          7.795821666717529,
          7.753934860229492,
          7.449460029602051,
          7.62955904006958,
          8.059565544128418,
          7.541930675506592,
          7.764207363128662,
          8.050490379333496,
          7.855286598205566,
          7.598791599273682,
          7.364663600921631,
          8.009145736694336,
          7.905094623565674,
          8.13007640838623,
          7.3871564865112305,
          7.87216329574585,
          7.931620121002197,
          7.524430274963379,
          7.793789863586426,
          7.700535774230957,
          8.140408515930176,
          8.094697952270508,
          7.538629531860352,
          7.58400821685791,
          7.711756229400635,
          7.683488845825195,
          8.164755821228027,
          7.636566638946533,
          7.7908735275268555,
          7.350743770599365,
          7.944530010223389,
          7.877734184265137,
          7.9048895835876465,
          7.155617713928223,
          8.003439903259277,
          7.8170576095581055,
          7.7962517738342285,
          8.057494163513184,
          7.714264392852783,
          7.9493327140808105,
          7.287538051605225,
          7.836404800415039,
          7.358461856842041,
          7.179773330688477,
          7.314099311828613,
          7.193506240844727,
          7.999505996704102,
          7.922271728515625,
          7.682090759277344,
          7.938894271850586,
          7.4447021484375,
          7.15873908996582,
          7.747427463531494,
          8.095613479614258,
          7.835895538330078,
          7.745937824249268,
          8.227872848510742,
          7.468204498291016,
          7.853275299072266,
          8.436094284057617,
          7.84553861618042,
          7.603688716888428,
          7.905560493469238,
          7.870595455169678,
          8.162428855895996,
          7.775620937347412,
          7.9490647315979,
          7.542518615722656,
          7.398758888244629,
          7.888003349304199,
          7.994567394256592,
          8.259773254394531,
          8.059416770935059,
          7.806508541107178,
          8.12677001953125,
          8.034811973571777,
          7.67372989654541,
          7.476309299468994,
          7.5320725440979
         ],
         "z": [
          -1.405199408531189,
          -0.8621904850006104,
          -0.33108776807785034,
          -0.8136500120162964,
          -1.3707209825515747,
          -1.4216903448104858,
          -0.9064210653305054,
          -1.170651912689209,
          -1.5744163990020752,
          -0.9523227214813232,
          -0.8306065201759338,
          -0.9232593178749084,
          -1.4965249300003052,
          -0.8541868925094604,
          -0.915329098701477,
          -0.9095225930213928,
          -1.4788732528686523,
          -0.8305283784866333,
          -1.0879453420639038,
          -0.7954455614089966,
          -1.4109771251678467,
          -0.8446530699729919,
          -1.0668201446533203,
          -1.246176838874817,
          -0.6532374620437622,
          -1.3031501770019531,
          -1.0680789947509766,
          -1.5459691286087036,
          -1.2321841716766357,
          -0.7531887888908386,
          -0.4539738595485687,
          -0.8281485438346863,
          -1.5612599849700928,
          -0.8736931681632996,
          -0.6053600907325745,
          -0.6638666987419128,
          -0.8460759520530701,
          -0.9693765640258789,
          -1.3889917135238647,
          -0.7279276847839355,
          -0.756682813167572,
          -1.0657315254211426,
          -0.8507533073425293,
          -0.9894914031028748,
          -0.6663579344749451,
          -0.891143798828125,
          -1.359663724899292,
          -0.8386467099189758,
          -1.4028966426849365,
          -1.6583765745162964,
          -0.8714693188667297,
          -0.906040608882904,
          -1.0198633670806885,
          -1.0121793746948242,
          -1.4046262502670288,
          -0.8545108437538147,
          -1.184304118156433,
          -1.0948514938354492,
          -1.538332223892212,
          -1.0219308137893677,
          -0.4430587589740753,
          -1.5046498775482178,
          -1.1238294839859009,
          -1.0267077684402466,
          -1.0403586626052856,
          -0.8380863070487976,
          -0.590531051158905,
          -1.1209135055541992,
          -0.7350342869758606,
          -1.5880377292633057,
          -1.3817193508148193,
          -0.8540112972259521,
          -1.1602668762207031,
          -0.5873724818229675,
          -1.1412094831466675,
          -1.0987931489944458,
          -1.224218726158142,
          -0.7069001197814941,
          -0.2863720953464508
         ]
        },
        {
         "hovertemplate": "color=6<br>x=%{x}<br>y=%{y}<br>z=%{z}<extra></extra>",
         "legendgroup": "6",
         "marker": {
          "color": "#EF553B",
          "symbol": "circle"
         },
         "mode": "markers",
         "name": "6",
         "scene": "scene",
         "showlegend": true,
         "type": "scatter3d",
         "x": [
          9.217872619628906,
          9.148782730102539,
          9.110953330993652,
          9.245416641235352,
          9.093301773071289,
          9.123754501342773,
          9.210013389587402,
          9.25951099395752,
          9.211750030517578,
          9.234644889831543,
          9.147268295288086,
          9.192669868469238,
          9.221397399902344,
          9.118691444396973,
          9.11148452758789,
          9.240921974182129,
          9.105976104736328,
          9.297501564025879,
          9.244202613830566,
          9.205082893371582
         ],
         "y": [
          -1.2575315237045288,
          -1.151291012763977,
          -1.1456838846206665,
          -1.1637616157531738,
          -1.126792311668396,
          -1.0978399515151978,
          -1.2142716646194458,
          -1.1102620363235474,
          -1.0401426553726196,
          -1.1336475610733032,
          -1.1455618143081665,
          -1.1875234842300415,
          -1.1786748170852661,
          -1.166773796081543,
          -1.0366603136062622,
          -1.2642474174499512,
          -1.1955822706222534,
          -1.0783429145812988,
          -1.1969720125198364,
          -1.1056811809539795
         ],
         "z": [
          -2.740907907485962,
          -2.7238223552703857,
          -2.6755785942077637,
          -2.6040701866149902,
          -2.6165647506713867,
          -2.7276992797851562,
          -2.6029016971588135,
          -2.59934663772583,
          -2.6515305042266846,
          -2.6186277866363525,
          -2.652040958404541,
          -2.633838653564453,
          -2.5733914375305176,
          -2.811891555786133,
          -2.702810287475586,
          -2.730998992919922,
          -2.6528775691986084,
          -2.772411823272705,
          -2.6841273307800293,
          -2.5849456787109375
         ]
        },
        {
         "hovertemplate": "color=3<br>x=%{x}<br>y=%{y}<br>z=%{z}<extra></extra>",
         "legendgroup": "3",
         "marker": {
          "color": "#00cc96",
          "symbol": "circle"
         },
         "mode": "markers",
         "name": "3",
         "scene": "scene",
         "showlegend": true,
         "type": "scatter3d",
         "x": [
          3.0940423011779785,
          3.399657726287842,
          3.594587802886963,
          3.8440089225769043,
          3.6495537757873535,
          3.7436609268188477,
          3.6828773021698,
          4.038555145263672,
          3.6557536125183105,
          3.437492609024048,
          3.8886568546295166,
          4.212258338928223,
          3.8538901805877686,
          4.0741376876831055,
          4.3628249168396,
          4.143882751464844,
          3.4795496463775635,
          3.3137567043304443,
          4.7243123054504395,
          4.145320892333984,
          3.6066792011260986,
          3.7918612957000732,
          3.2118306159973145,
          4.080763339996338,
          3.3230183124542236,
          4.276173114776611,
          3.4860005378723145,
          3.0605545043945312,
          3.492056131362915,
          3.44903302192688,
          4.054241180419922,
          4.4013447761535645,
          3.7598111629486084,
          3.422752618789673,
          3.4305930137634277,
          3.477844715118408,
          3.9927754402160645,
          3.5684189796447754,
          4.17977237701416,
          3.526944875717163,
          3.7192201614379883,
          3.2917275428771973,
          3.799453020095825,
          3.695927858352661,
          3.5295517444610596,
          3.5297114849090576,
          3.946300506591797,
          4.161210536956787,
          3.812514305114746,
          3.8390109539031982,
          3.2457966804504395,
          3.0449535846710205,
          3.208780288696289,
          3.60404634475708,
          3.4298572540283203,
          3.301741361618042,
          3.504688262939453,
          4.994675159454346,
          4.136080265045166,
          3.696687936782837,
          3.465827226638794,
          3.693787097930908,
          4.330385684967041,
          3.258737802505493,
          3.5010595321655273,
          3.2667429447174072,
          3.7007970809936523,
          3.9089479446411133,
          3.7241647243499756,
          3.8144266605377197,
          3.2141366004943848,
          3.998598098754883,
          3.828096628189087,
          3.5936710834503174,
          3.992053508758545,
          4.197202205657959,
          3.8808681964874268,
          4.013605117797852,
          3.9107789993286133,
          3.2973482608795166,
          3.4871115684509277,
          3.6896164417266846,
          3.103160858154297,
          5.000235080718994,
          4.128762245178223,
          3.6428489685058594,
          3.8274142742156982,
          3.3630027770996094,
          3.1288745403289795,
          3.2693939208984375,
          3.5462262630462646,
          4.555459022521973,
          3.3033764362335205,
          3.7776038646698,
          4.407742023468018,
          4.152924060821533,
          3.532773494720459,
          3.9259936809539795,
          3.3718373775482178,
          3.681042432785034,
          4.3034892082214355,
          3.306044101715088,
          3.1637866497039795,
          3.309161901473999,
          4.223083972930908,
          4.0600996017456055,
          4.590564250946045,
          3.3132920265197754,
          3.253026008605957,
          3.175600528717041,
          3.964028835296631,
          4.108668327331543,
          4.865237712860107,
          3.929741144180298,
          3.8525121212005615,
          3.1889944076538086,
          3.636781692504883,
          3.9606313705444336,
          4.814902305603027,
          3.0364129543304443,
          4.151023864746094,
          4.409272193908691,
          3.3126003742218018,
          3.691209554672241,
          4.114765644073486,
          3.490387439727783,
          3.2299444675445557,
          3.4249329566955566,
          3.795175075531006,
          4.2291741371154785,
          3.730973958969116,
          3.0871293544769287,
          3.734166383743286
         ],
         "y": [
          7.644426345825195,
          7.853064060211182,
          8.237923622131348,
          8.402077674865723,
          8.186681747436523,
          8.175823211669922,
          8.543089866638184,
          7.897293567657471,
          8.459031105041504,
          7.748927116394043,
          8.212604522705078,
          8.002655982971191,
          8.005751609802246,
          7.60444974899292,
          8.2981595993042,
          7.896038055419922,
          7.961871147155762,
          8.063523292541504,
          7.943641185760498,
          8.393231391906738,
          7.156594753265381,
          8.320138931274414,
          7.72429084777832,
          8.271878242492676,
          7.463120937347412,
          8.096259117126465,
          8.020514488220215,
          7.338292598724365,
          7.403942584991455,
          7.53695011138916,
          8.015039443969727,
          7.925541877746582,
          7.425624847412109,
          8.486824989318848,
          7.5033416748046875,
          7.28962516784668,
          8.248279571533203,
          7.267381191253662,
          7.8415021896362305,
          7.876584529876709,
          8.122314453125,
          7.5569915771484375,
          7.942838668823242,
          7.774413108825684,
          7.2262349128723145,
          7.670196056365967,
          8.47053050994873,
          8.220941543579102,
          8.302024841308594,
          7.706192493438721,
          7.994693279266357,
          7.916647911071777,
          7.348969459533691,
          7.346592426300049,
          7.481716632843018,
          8.379497528076172,
          8.358744621276855,
          7.776592254638672,
          7.965435981750488,
          8.411995887756348,
          7.748898983001709,
          7.441805839538574,
          7.826615333557129,
          8.264788627624512,
          8.046342849731445,
          8.052631378173828,
          7.96290922164917,
          8.343879699707031,
          8.138010025024414,
          8.38220500946045,
          7.588666915893555,
          8.524173736572266,
          8.439627647399902,
          8.563545227050781,
          7.744844913482666,
          8.376018524169922,
          8.12989330291748,
          8.084099769592285,
          8.282601356506348,
          7.318936824798584,
          7.552027225494385,
          7.911164283752441,
          7.7221527099609375,
          7.797358989715576,
          7.848660945892334,
          8.203036308288574,
          7.629692554473877,
          8.205086708068848,
          7.701801776885986,
          7.449764728546143,
          7.792413711547852,
          8.135062217712402,
          7.707757472991943,
          8.669027328491211,
          7.97361946105957,
          8.418911933898926,
          8.313603401184082,
          8.533514022827148,
          7.751094341278076,
          8.022871017456055,
          8.3119478225708,
          8.024514198303223,
          7.921502113342285,
          8.295175552368164,
          7.9042158126831055,
          7.810530662536621,
          7.8598952293396,
          7.942836284637451,
          8.404977798461914,
          8.199722290039062,
          8.543204307556152,
          7.738282680511475,
          7.839736461639404,
          7.751655101776123,
          7.704619884490967,
          7.8479323387146,
          8.063583374023438,
          8.056395530700684,
          7.929154396057129,
          7.462289810180664,
          8.179794311523438,
          7.978760719299316,
          8.39599323272705,
          7.606717109680176,
          7.62874174118042,
          7.1905059814453125,
          7.286607265472412,
          8.044367790222168,
          8.247514724731445,
          8.09284782409668,
          8.34683609008789,
          7.542667865753174,
          8.414083480834961
         ],
         "z": [
          3.919452428817749,
          4.266157150268555,
          3.4677112102508545,
          3.7242989540100098,
          3.709796190261841,
          4.483569622039795,
          3.6416103839874268,
          4.221955299377441,
          3.6241753101348877,
          4.086745262145996,
          4.092727184295654,
          3.9631783962249756,
          3.654919147491455,
          3.6308257579803467,
          3.8167600631713867,
          3.8540000915527344,
          3.8640477657318115,
          3.859074592590332,
          3.6737561225891113,
          4.308003902435303,
          4.333279132843018,
          4.506464004516602,
          4.064702987670898,
          3.5032289028167725,
          3.893237590789795,
          3.973881244659424,
          4.244863033294678,
          4.282431125640869,
          3.8550736904144287,
          4.394248962402344,
          4.455040454864502,
          3.58817982673645,
          3.7341537475585938,
          3.7756528854370117,
          4.293059349060059,
          4.262763500213623,
          3.3306832313537598,
          4.1248250007629395,
          3.9470174312591553,
          3.612886667251587,
          3.8779075145721436,
          3.520197629928589,
          4.38624382019043,
          3.8617920875549316,
          4.285088539123535,
          3.322930335998535,
          4.175342082977295,
          4.240165710449219,
          3.4151036739349365,
          3.846406936645508,
          3.647599935531616,
          3.9389994144439697,
          4.241161346435547,
          4.51934289932251,
          3.6730124950408936,
          4.385894298553467,
          3.914726495742798,
          3.46441650390625,
          4.343381881713867,
          3.521554470062256,
          4.170247554779053,
          4.033545970916748,
          4.075882434844971,
          3.8832335472106934,
          3.322202682495117,
          3.5618040561676025,
          3.8917877674102783,
          3.8792285919189453,
          3.4175844192504883,
          3.853388547897339,
          3.9064605236053467,
          4.044147968292236,
          4.1899919509887695,
          3.6888296604156494,
          3.7262227535247803,
          3.6184611320495605,
          4.253469467163086,
          4.363088607788086,
          3.698453664779663,
          4.211613655090332,
          4.506015300750732,
          3.286588668823242,
          3.9405782222747803,
          3.4932448863983154,
          3.9888463020324707,
          4.122533798217773,
          4.323209762573242,
          3.5965769290924072,
          4.2201008796691895,
          4.409298419952393,
          4.43228006362915,
          3.575596570968628,
          3.492502450942993,
          3.9905905723571777,
          4.052297115325928,
          3.885666847229004,
          3.425847291946411,
          4.322605133056641,
          4.481540679931641,
          4.07711124420166,
          3.5782065391540527,
          4.344820499420166,
          3.782305955886841,
          4.16397762298584,
          4.294648170471191,
          3.445545196533203,
          3.8066577911376953,
          4.3598127365112305,
          4.132262706756592,
          3.826836109161377,
          4.055319786071777,
          3.7743754386901855,
          3.553086996078491,
          4.3464131355285645,
          3.676503896713257,
          4.02814245223999,
          4.542971134185791,
          3.3384153842926025,
          3.5803918838500977,
          4.285148620605469,
          3.6810660362243652,
          4.038433074951172,
          4.41604471206665,
          3.5892174243927,
          3.4835493564605713,
          4.394899368286133,
          4.067162036895752,
          3.6938388347625732,
          3.2834725379943848,
          4.398647785186768,
          4.2511115074157715,
          4.169406414031982,
          4.385011672973633
         ]
        },
        {
         "hovertemplate": "color=4<br>x=%{x}<br>y=%{y}<br>z=%{z}<extra></extra>",
         "legendgroup": "4",
         "marker": {
          "color": "#ab63fa",
          "symbol": "circle"
         },
         "mode": "markers",
         "name": "4",
         "scene": "scene",
         "showlegend": true,
         "type": "scatter3d",
         "x": [
          8.584219932556152,
          8.75680160522461,
          8.610889434814453,
          8.95018482208252,
          8.760758399963379,
          8.948282241821289,
          9.122836112976074,
          9.181831359863281,
          8.955277442932129,
          8.61648941040039,
          8.808216094970703,
          8.516092300415039,
          8.787625312805176,
          8.695215225219727,
          8.847692489624023,
          8.774479866027832,
          8.807453155517578,
          8.602801322937012,
          8.914636611938477,
          8.659651756286621,
          8.975905418395996,
          8.57406234741211,
          8.78963565826416,
          9.062621116638184,
          9.019376754760742,
          8.75550651550293,
          8.42961311340332,
          8.84504508972168,
          8.762670516967773,
          8.8429536819458,
          8.947242736816406,
          9.244403839111328,
          9.03349494934082,
          8.689826011657715,
          8.603228569030762,
          9.066009521484375,
          9.07278060913086,
          8.484562873840332,
          8.952197074890137,
          8.804497718811035,
          8.990934371948242,
          9.080029487609863,
          8.766823768615723,
          8.635305404663086,
          8.634846687316895,
          8.938193321228027,
          8.74388313293457,
          8.557710647583008,
          9.032949447631836,
          8.73259449005127,
          8.886405944824219,
          8.913164138793945,
          8.696077346801758,
          8.428483963012695,
          8.74134635925293,
          9.06965446472168,
          9.002267837524414
         ],
         "y": [
          5.431811809539795,
          4.987917423248291,
          5.0869460105896,
          4.967520236968994,
          5.0038275718688965,
          5.561050891876221,
          5.08028507232666,
          5.440056324005127,
          4.984099864959717,
          5.136422157287598,
          5.378772735595703,
          4.997862815856934,
          4.743393421173096,
          4.968660354614258,
          5.514230251312256,
          5.518710136413574,
          5.369226455688477,
          5.268998622894287,
          4.960376262664795,
          5.445836067199707,
          5.166171550750732,
          5.088420391082764,
          4.777355194091797,
          5.440321922302246,
          5.511781215667725,
          5.1306023597717285,
          5.1349310874938965,
          5.311759948730469,
          5.028648376464844,
          5.174445152282715,
          5.225468635559082,
          5.392940521240234,
          5.470475673675537,
          5.101817607879639,
          4.994172096252441,
          5.361624717712402,
          5.000148296356201,
          4.9868011474609375,
          5.128592014312744,
          5.07308292388916,
          5.433859348297119,
          5.2995829582214355,
          4.729988098144531,
          5.117457389831543,
          4.966684341430664,
          5.422915458679199,
          5.251931667327881,
          5.176183223724365,
          5.480374813079834,
          4.978682518005371,
          5.554577827453613,
          4.873173236846924,
          5.307765007019043,
          5.19390344619751,
          5.098608493804932,
          5.440716743469238,
          5.294992923736572
         ],
         "z": [
          1.1612268686294556,
          0.8819559812545776,
          1.104344367980957,
          1.1672499179840088,
          1.2108596563339233,
          1.230817437171936,
          1.2719658613204956,
          0.7888109087944031,
          1.3042075634002686,
          1.2533187866210938,
          1.6698181629180908,
          1.5191606283187866,
          1.1668890714645386,
          1.572242259979248,
          1.4048298597335815,
          1.3484601974487305,
          1.5085458755493164,
          1.602197527885437,
          1.3480819463729858,
          1.3056068420410156,
          1.3352704048156738,
          1.2739773988723755,
          1.2485727071762085,
          1.5477838516235352,
          1.6031525135040283,
          1.1973155736923218,
          1.478244423866272,
          1.6450239419937134,
          1.1657346487045288,
          1.21128249168396,
          1.255580186843872,
          1.3820791244506836,
          1.4475609064102173,
          1.6316193342208862,
          1.1120390892028809,
          1.6132951974868774,
          1.237850308418274,
          1.3880153894424438,
          1.1311099529266357,
          1.0887242555618286,
          1.5588672161102295,
          1.275246024131775,
          1.4936761856079102,
          1.488921046257019,
          1.2051782608032227,
          1.5488810539245605,
          1.5624710321426392,
          1.6113910675048828,
          1.5630675554275513,
          1.6185797452926636,
          1.3785098791122437,
          1.294910192489624,
          1.6346451044082642,
          1.507520079612732,
          1.7671962976455688,
          1.716438889503479,
          1.7818292379379272
         ]
        },
        {
         "hovertemplate": "color=0<br>x=%{x}<br>y=%{y}<br>z=%{z}<extra></extra>",
         "legendgroup": "0",
         "marker": {
          "color": "#FFA15A",
          "symbol": "circle"
         },
         "mode": "markers",
         "name": "0",
         "scene": "scene",
         "showlegend": true,
         "type": "scatter3d",
         "x": [
          11.293063163757324,
          11.470442771911621,
          11.49376392364502,
          11.433924674987793,
          11.490833282470703,
          11.459965705871582,
          11.52326488494873,
          11.421355247497559,
          11.6017427444458,
          11.30659008026123,
          11.576801300048828,
          11.750663757324219,
          11.636275291442871,
          11.592878341674805,
          11.593255043029785,
          11.377846717834473,
          11.53298568725586,
          11.592489242553711,
          11.532238006591797,
          11.71540641784668,
          11.426491737365723,
          11.250187873840332,
          11.635844230651855,
          11.54994010925293,
          11.460348129272461
         ],
         "y": [
          6.741693496704102,
          6.575189590454102,
          6.6431779861450195,
          6.540266990661621,
          6.709949493408203,
          6.584750652313232,
          6.840291976928711,
          6.427340507507324,
          6.66752290725708,
          6.507072448730469,
          6.9615068435668945,
          6.9867424964904785,
          6.66292667388916,
          6.713992595672607,
          6.711227893829346,
          6.423287868499756,
          6.638084888458252,
          6.664770603179932,
          6.986490726470947,
          6.726268291473389,
          6.512503147125244,
          6.528956413269043,
          6.714332103729248,
          6.755431652069092,
          6.409514427185059
         ],
         "z": [
          -0.500610888004303,
          -0.546454668045044,
          -0.35399115085601807,
          -0.3651598393917084,
          -0.1768302619457245,
          -0.45897212624549866,
          -0.3737478256225586,
          -0.399977445602417,
          -0.23916715383529663,
          -0.262764036655426,
          -0.475277304649353,
          -0.5384186506271362,
          -0.2481836974620819,
          -0.29777824878692627,
          -0.3293580412864685,
          -0.3480226397514343,
          -0.21877864003181458,
          -0.3884258568286896,
          -0.6676876544952393,
          -0.4010135233402252,
          -0.4680267572402954,
          -0.4703570008277893,
          -0.49667811393737793,
          -0.180256649851799,
          -0.4664117991924286
         ]
        },
        {
         "hovertemplate": "color=9<br>x=%{x}<br>y=%{y}<br>z=%{z}<extra></extra>",
         "legendgroup": "9",
         "marker": {
          "color": "#19d3f3",
          "symbol": "circle"
         },
         "mode": "markers",
         "name": "9",
         "scene": "scene",
         "showlegend": true,
         "type": "scatter3d",
         "x": [
          6.794190883636475,
          6.929657459259033,
          7.053895950317383,
          7.029304027557373,
          7.325878620147705,
          6.749608039855957,
          6.88013219833374,
          7.099746227264404,
          7.229329586029053,
          6.976046562194824,
          7.332948207855225,
          7.2512593269348145,
          7.223563194274902,
          7.517716407775879,
          7.195528030395508,
          7.388726711273193,
          7.017513751983643,
          6.912055015563965,
          6.676640033721924,
          6.893908500671387,
          6.737524032592773,
          7.571249961853027,
          6.882544040679932,
          6.946064472198486,
          6.890682220458984,
          6.981247901916504,
          7.349093437194824,
          7.497829914093018,
          6.812355041503906,
          7.324678421020508,
          7.075480937957764,
          6.844558238983154,
          7.402184963226318,
          7.467408657073975,
          7.122081756591797,
          7.553610324859619,
          7.666416645050049,
          7.238678455352783,
          7.5106024742126465,
          7.315229892730713,
          7.3361406326293945,
          6.9539008140563965,
          6.902909278869629,
          7.609719753265381,
          7.08413028717041,
          7.029824733734131,
          7.027803897857666,
          7.122096538543701,
          6.8204851150512695,
          7.164614200592041,
          7.000027656555176,
          7.488373756408691,
          7.185514450073242,
          7.1623945236206055,
          7.269887447357178,
          7.358824253082275,
          7.069458961486816,
          7.1606526374816895,
          7.484250545501709,
          7.417335033416748,
          6.745964050292969,
          7.101565361022949
         ],
         "y": [
          -0.4492075443267822,
          -0.4932721257209778,
          -0.3752981424331665,
          -0.26206880807876587,
          -0.22655929625034332,
          -0.6447542309761047,
          -0.40660935640335083,
          -0.4331246018409729,
          -0.19071802496910095,
          -0.08463533222675323,
          -0.1390671730041504,
          -0.7470832467079163,
          -0.34485021233558655,
          -0.6031512022018433,
          -0.06570186465978622,
          -0.345199316740036,
          -0.24120359122753143,
          -0.4672907292842865,
          -0.46001437306404114,
          -0.1958305686712265,
          -0.41601669788360596,
          -0.5853428244590759,
          -0.683451771736145,
          -0.6917978525161743,
          -0.22761529684066772,
          -0.3038058578968048,
          -0.7090402841567993,
          0.021844971925020218,
          -0.7340222597122192,
          -0.2205369621515274,
          -0.3060676157474518,
          -0.6174342632293701,
          -0.30463579297065735,
          -0.5474214553833008,
          -0.3549652695655823,
          -0.024411296471953392,
          0.00812204647809267,
          -0.3764568567276001,
          -0.3631943166255951,
          -0.6437059044837952,
          -0.27851659059524536,
          -0.06764201819896698,
          -0.122165746986866,
          -0.49284783005714417,
          -0.4556097090244293,
          -0.6339156627655029,
          -0.2692422866821289,
          -0.6856793761253357,
          -0.5960321426391602,
          -0.05810202285647392,
          -0.27876269817352295,
          -0.43196970224380493,
          -0.6675608158111572,
          -0.4155288338661194,
          -0.20542055368423462,
          -0.2979506552219391,
          0.0469818152487278,
          -0.18864387273788452,
          -0.6611116528511047,
          -0.07571399211883545,
          -0.29387223720550537,
          -0.2055969387292862
         ],
         "z": [
          0.3248280882835388,
          0.2884621024131775,
          -0.11238094419240952,
          0.5941661596298218,
          0.261578768491745,
          0.11047156155109406,
          0.155449777841568,
          -0.09091152995824814,
          -0.026273703202605247,
          0.48676371574401855,
          0.3216329514980316,
          0.022500187158584595,
          -0.09636716544628143,
          0.27610743045806885,
          -0.03100736252963543,
          0.7271115779876709,
          0.6069554686546326,
          0.04556390643119812,
          0.3430565595626831,
          0.6437934041023254,
          0.07988603413105011,
          0.23908141255378723,
          0.5261040925979614,
          0.12369363754987717,
          0.215556800365448,
          0.07923801243305206,
          0.2638826370239258,
          0.22240014374256134,
          0.19491469860076904,
          0.11706434190273285,
          0.11297641694545746,
          0.1092919111251831,
          -0.008301366120576859,
          0.0730821043252945,
          0.32348862290382385,
          0.1319851577281952,
          0.3816429376602173,
          0.1270425021648407,
          0.4217444658279419,
          0.3403249680995941,
          0.5617780089378357,
          0.18410173058509827,
          0.5377289056777954,
          0.25436750054359436,
          0.3529493510723114,
          0.3895929753780365,
          0.689775824546814,
          0.20724807679653168,
          0.2759743928909302,
          0.39854833483695984,
          0.02843414805829525,
          -0.019879477098584175,
          -0.014500414952635765,
          0.18352603912353516,
          -0.054740823805332184,
          0.09589765965938568,
          0.1119731217622757,
          -0.10936460644006729,
          0.28411832451820374,
          0.23455122113227844,
          0.1737690418958664,
          0.7163618206977844
         ]
        },
        {
         "hovertemplate": "color=7<br>x=%{x}<br>y=%{y}<br>z=%{z}<extra></extra>",
         "legendgroup": "7",
         "marker": {
          "color": "#FF6692",
          "symbol": "circle"
         },
         "mode": "markers",
         "name": "7",
         "scene": "scene",
         "showlegend": true,
         "type": "scatter3d",
         "x": [
          11.373705863952637,
          11.13044548034668,
          11.4990816116333,
          11.246199607849121,
          11.106526374816895,
          11.302433967590332,
          11.345486640930176,
          11.272729873657227,
          11.340312957763672,
          11.152750968933105,
          11.256360054016113,
          11.332755088806152,
          11.32456111907959,
          11.348459243774414,
          11.265308380126953,
          11.118917465209961,
          11.121305465698242,
          11.07787799835205,
          10.998077392578125,
          11.190459251403809,
          11.496170997619629,
          10.985532760620117,
          11.219661712646484,
          10.975434303283691,
          11.08990478515625,
          11.639633178710938,
          10.96253776550293,
          11.172037124633789,
          11.435940742492676,
          11.625314712524414,
          11.03239631652832,
          11.500933647155762,
          11.427109718322754,
          11.024942398071289,
          11.289050102233887,
          11.00446891784668,
          10.990756034851074,
          11.511716842651367,
          11.428655624389648,
          11.258807182312012,
          11.439530372619629,
          10.902592658996582,
          11.29469108581543,
          11.140052795410156,
          11.218600273132324,
          11.368522644042969,
          11.506745338439941,
          11.37873363494873,
          11.411502838134766,
          11.25969409942627,
          11.440458297729492,
          11.215970993041992,
          11.040994644165039,
          11.537149429321289
         ],
         "y": [
          13.285226821899414,
          13.827077865600586,
          13.503487586975098,
          13.248208045959473,
          13.696636199951172,
          13.50678539276123,
          13.473016738891602,
          13.712539672851562,
          13.61685848236084,
          13.814873695373535,
          13.773713111877441,
          13.83907699584961,
          13.31755542755127,
          13.78481674194336,
          13.75744915008545,
          13.160364151000977,
          13.883912086486816,
          13.529817581176758,
          13.786372184753418,
          13.71529483795166,
          13.222309112548828,
          13.777594566345215,
          13.562722206115723,
          13.17605209350586,
          13.43834400177002,
          13.625018119812012,
          13.578023910522461,
          13.651734352111816,
          13.376252174377441,
          13.794326782226562,
          13.115445137023926,
          13.642438888549805,
          13.835755348205566,
          13.79770278930664,
          13.689866065979004,
          13.319747924804688,
          13.519588470458984,
          13.456927299499512,
          13.548087120056152,
          13.596250534057617,
          13.769012451171875,
          13.770021438598633,
          13.570939064025879,
          13.194870948791504,
          13.006027221679688,
          13.805102348327637,
          13.484038352966309,
          13.581899642944336,
          13.865364074707031,
          13.799543380737305,
          13.499995231628418,
          13.106587409973145,
          13.442586898803711,
          13.651049613952637
         ],
         "z": [
          -4.209967613220215,
          -4.285275459289551,
          -4.316502094268799,
          -4.388737678527832,
          -3.9189679622650146,
          -4.300858974456787,
          -3.9491820335388184,
          -4.0478715896606445,
          -4.036915302276611,
          -4.36287260055542,
          -4.3686652183532715,
          -4.291308403015137,
          -3.785395383834839,
          -4.372117042541504,
          -3.911167860031128,
          -4.107977867126465,
          -3.9870996475219727,
          -4.338432788848877,
          -4.463648319244385,
          -4.214972496032715,
          -3.930840492248535,
          -4.3450798988342285,
          -3.7889816761016846,
          -3.9268596172332764,
          -4.296385288238525,
          -4.038696765899658,
          -3.9380922317504883,
          -4.429650783538818,
          -4.247215747833252,
          -4.130892753601074,
          -4.247738361358643,
          -4.1148786544799805,
          -4.017592430114746,
          -4.070532321929932,
          -3.9978318214416504,
          -4.1158528327941895,
          -4.345029830932617,
          -4.213263988494873,
          -4.385937690734863,
          -4.487865447998047,
          -4.283653259277344,
          -4.189489841461182,
          -4.579097747802734,
          -4.2219157218933105,
          -3.98616623878479,
          -3.9625442028045654,
          -4.2198591232299805,
          -3.8247525691986084,
          -4.189336776733398,
          -4.119236946105957,
          -4.301254749298096,
          -4.117463111877441,
          -4.322140216827393,
          -4.2741875648498535
         ]
        },
        {
         "hovertemplate": "color=8<br>x=%{x}<br>y=%{y}<br>z=%{z}<extra></extra>",
         "legendgroup": "8",
         "marker": {
          "color": "#B6E880",
          "symbol": "circle"
         },
         "mode": "markers",
         "name": "8",
         "scene": "scene",
         "showlegend": true,
         "type": "scatter3d",
         "x": [
          9.288430213928223,
          9.36097240447998,
          9.5246000289917,
          9.137822151184082,
          9.060303688049316,
          9.37499713897705,
          9.223312377929688,
          9.076667785644531,
          9.583234786987305,
          9.624879837036133,
          9.382198333740234,
          9.21638011932373,
          9.492839813232422,
          9.269116401672363,
          9.541850090026855,
          9.399212837219238,
          9.432404518127441,
          9.5160551071167,
          9.368720054626465,
          9.380786895751953,
          9.482803344726562,
          9.332921028137207,
          9.18941593170166,
          9.55491828918457,
          9.467203140258789,
          9.481698989868164,
          9.096918106079102,
          9.331564903259277,
          9.393187522888184,
          9.038434982299805,
          9.275879859924316,
          9.44819164276123,
          9.594612121582031,
          9.518677711486816,
          9.293203353881836,
          9.272499084472656,
          9.522710800170898,
          9.622326850891113,
          9.58324146270752,
          9.135953903198242,
          9.122593879699707,
          9.203117370605469,
          9.56899642944336,
          9.231223106384277,
          9.472579956054688,
          9.652050018310547,
          9.70501708984375,
          9.483141899108887,
          9.499943733215332
         ],
         "y": [
          2.554396152496338,
          2.357286214828491,
          2.518324375152588,
          2.339414119720459,
          3.189718723297119,
          2.8398897647857666,
          2.3918778896331787,
          2.4019503593444824,
          2.351546287536621,
          2.5848474502563477,
          2.383117914199829,
          2.259591579437256,
          2.547856569290161,
          2.665724515914917,
          2.4667112827301025,
          2.5104000568389893,
          2.3390254974365234,
          2.401596784591675,
          2.6529812812805176,
          2.7679519653320312,
          2.561506748199463,
          2.4482979774475098,
          2.623087167739868,
          2.7222976684570312,
          2.9517102241516113,
          2.354820728302002,
          2.723783254623413,
          2.565260887145996,
          2.5970194339752197,
          2.602219820022583,
          2.67338228225708,
          2.7297401428222656,
          2.327873468399048,
          2.504464864730835,
          2.4857699871063232,
          2.507023572921753,
          2.332258462905884,
          2.5627903938293457,
          2.252553939819336,
          2.649160861968994,
          2.347963809967041,
          2.8041834831237793,
          2.6208150386810303,
          2.4984078407287598,
          2.7217321395874023,
          2.5352373123168945,
          2.4809911251068115,
          2.4046096801757812,
          2.737844944000244
         ],
         "z": [
          3.030233144760132,
          2.7408595085144043,
          2.949293851852417,
          2.0819921493530273,
          2.7512826919555664,
          2.9324002265930176,
          2.374476194381714,
          2.8352112770080566,
          2.763360023498535,
          2.6257572174072266,
          2.635915517807007,
          2.149975538253784,
          2.858004093170166,
          3.1446774005889893,
          2.98392391204834,
          2.8456714153289795,
          2.807485342025757,
          2.9994819164276123,
          2.844076633453369,
          2.9638876914978027,
          2.5754778385162354,
          2.5575644969940186,
          2.7832958698272705,
          2.6805238723754883,
          2.6756012439727783,
          2.673765182495117,
          2.512829065322876,
          2.670942544937134,
          2.736804723739624,
          2.4226183891296387,
          2.950187921524048,
          2.6858091354370117,
          2.746569871902466,
          2.5728402137756348,
          3.0186877250671387,
          2.5853257179260254,
          3.1284475326538086,
          3.0108017921447754,
          2.802612543106079,
          2.886220932006836,
          2.4954395294189453,
          2.88651967048645,
          2.6525368690490723,
          2.6379306316375732,
          2.888920307159424,
          2.6624481678009033,
          2.8952057361602783,
          2.998112678527832,
          3.0012922286987305
         ]
        },
        {
         "hovertemplate": "color=2<br>x=%{x}<br>y=%{y}<br>z=%{z}<extra></extra>",
         "legendgroup": "2",
         "marker": {
          "color": "#FF97FF",
          "symbol": "circle"
         },
         "mode": "markers",
         "name": "2",
         "scene": "scene",
         "showlegend": true,
         "type": "scatter3d",
         "x": [
          10.687490463256836,
          10.683099746704102,
          10.654461860656738,
          10.304192543029785,
          10.374030113220215,
          10.625617027282715,
          10.476614952087402,
          10.543657302856445,
          10.229841232299805,
          10.38932991027832,
          10.550148963928223,
          10.317300796508789,
          10.383909225463867,
          10.25021743774414,
          10.27680492401123,
          10.317059516906738,
          10.410438537597656
         ],
         "y": [
          13.730300903320312,
          13.859640121459961,
          13.611889839172363,
          13.758210182189941,
          13.582937240600586,
          13.715209007263184,
          13.632247924804688,
          13.524750709533691,
          13.722474098205566,
          13.704437255859375,
          13.355158805847168,
          13.70670223236084,
          13.804783821105957,
          13.595376968383789,
          13.733386993408203,
          13.785398483276367,
          13.692986488342285
         ],
         "z": [
          -4.113887786865234,
          -4.26438570022583,
          -4.051188945770264,
          -4.068002700805664,
          -4.0423583984375,
          -4.163650989532471,
          -3.842146396636963,
          -4.010707855224609,
          -4.019370079040527,
          -4.133047103881836,
          -4.055667877197266,
          -4.025478839874268,
          -4.136036396026611,
          -3.935974597930908,
          -4.034181594848633,
          -4.099658012390137,
          -3.94754958152771
         ]
        },
        {
         "hovertemplate": "color=1<br>x=%{x}<br>y=%{y}<br>z=%{z}<extra></extra>",
         "legendgroup": "1",
         "marker": {
          "color": "#FECB52",
          "symbol": "circle"
         },
         "mode": "markers",
         "name": "1",
         "scene": "scene",
         "showlegend": true,
         "type": "scatter3d",
         "x": [
          10.605116844177246,
          10.361848831176758,
          10.821268081665039,
          10.495688438415527
         ],
         "y": [
          6.27686071395874,
          6.580668926239014,
          12.9663724899292,
          6.371840476989746
         ],
         "z": [
          -0.27127858996391296,
          -0.2528124749660492,
          -3.529594898223877,
          -0.3257140815258026
         ]
        }
       ],
       "layout": {
        "height": 400,
        "legend": {
         "title": {
          "text": "color"
         },
         "tracegroupgap": 0
        },
        "scene": {
         "domain": {
          "x": [
           0,
           1
          ],
          "y": [
           0,
           1
          ]
         },
         "xaxis": {
          "title": {
           "text": "c_1"
          }
         },
         "yaxis": {
          "title": {
           "text": "c_2"
          }
         },
         "zaxis": {
          "title": {
           "text": "c_3"
          }
         }
        },
        "template": {
         "data": {
          "bar": [
           {
            "error_x": {
             "color": "#2a3f5f"
            },
            "error_y": {
             "color": "#2a3f5f"
            },
            "marker": {
             "line": {
              "color": "#E5ECF6",
              "width": 0.5
             },
             "pattern": {
              "fillmode": "overlay",
              "size": 10,
              "solidity": 0.2
             }
            },
            "type": "bar"
           }
          ],
          "barpolar": [
           {
            "marker": {
             "line": {
              "color": "#E5ECF6",
              "width": 0.5
             },
             "pattern": {
              "fillmode": "overlay",
              "size": 10,
              "solidity": 0.2
             }
            },
            "type": "barpolar"
           }
          ],
          "carpet": [
           {
            "aaxis": {
             "endlinecolor": "#2a3f5f",
             "gridcolor": "white",
             "linecolor": "white",
             "minorgridcolor": "white",
             "startlinecolor": "#2a3f5f"
            },
            "baxis": {
             "endlinecolor": "#2a3f5f",
             "gridcolor": "white",
             "linecolor": "white",
             "minorgridcolor": "white",
             "startlinecolor": "#2a3f5f"
            },
            "type": "carpet"
           }
          ],
          "choropleth": [
           {
            "colorbar": {
             "outlinewidth": 0,
             "ticks": ""
            },
            "type": "choropleth"
           }
          ],
          "contour": [
           {
            "colorbar": {
             "outlinewidth": 0,
             "ticks": ""
            },
            "colorscale": [
             [
              0,
              "#0d0887"
             ],
             [
              0.1111111111111111,
              "#46039f"
             ],
             [
              0.2222222222222222,
              "#7201a8"
             ],
             [
              0.3333333333333333,
              "#9c179e"
             ],
             [
              0.4444444444444444,
              "#bd3786"
             ],
             [
              0.5555555555555556,
              "#d8576b"
             ],
             [
              0.6666666666666666,
              "#ed7953"
             ],
             [
              0.7777777777777778,
              "#fb9f3a"
             ],
             [
              0.8888888888888888,
              "#fdca26"
             ],
             [
              1,
              "#f0f921"
             ]
            ],
            "type": "contour"
           }
          ],
          "contourcarpet": [
           {
            "colorbar": {
             "outlinewidth": 0,
             "ticks": ""
            },
            "type": "contourcarpet"
           }
          ],
          "heatmap": [
           {
            "colorbar": {
             "outlinewidth": 0,
             "ticks": ""
            },
            "colorscale": [
             [
              0,
              "#0d0887"
             ],
             [
              0.1111111111111111,
              "#46039f"
             ],
             [
              0.2222222222222222,
              "#7201a8"
             ],
             [
              0.3333333333333333,
              "#9c179e"
             ],
             [
              0.4444444444444444,
              "#bd3786"
             ],
             [
              0.5555555555555556,
              "#d8576b"
             ],
             [
              0.6666666666666666,
              "#ed7953"
             ],
             [
              0.7777777777777778,
              "#fb9f3a"
             ],
             [
              0.8888888888888888,
              "#fdca26"
             ],
             [
              1,
              "#f0f921"
             ]
            ],
            "type": "heatmap"
           }
          ],
          "heatmapgl": [
           {
            "colorbar": {
             "outlinewidth": 0,
             "ticks": ""
            },
            "colorscale": [
             [
              0,
              "#0d0887"
             ],
             [
              0.1111111111111111,
              "#46039f"
             ],
             [
              0.2222222222222222,
              "#7201a8"
             ],
             [
              0.3333333333333333,
              "#9c179e"
             ],
             [
              0.4444444444444444,
              "#bd3786"
             ],
             [
              0.5555555555555556,
              "#d8576b"
             ],
             [
              0.6666666666666666,
              "#ed7953"
             ],
             [
              0.7777777777777778,
              "#fb9f3a"
             ],
             [
              0.8888888888888888,
              "#fdca26"
             ],
             [
              1,
              "#f0f921"
             ]
            ],
            "type": "heatmapgl"
           }
          ],
          "histogram": [
           {
            "marker": {
             "pattern": {
              "fillmode": "overlay",
              "size": 10,
              "solidity": 0.2
             }
            },
            "type": "histogram"
           }
          ],
          "histogram2d": [
           {
            "colorbar": {
             "outlinewidth": 0,
             "ticks": ""
            },
            "colorscale": [
             [
              0,
              "#0d0887"
             ],
             [
              0.1111111111111111,
              "#46039f"
             ],
             [
              0.2222222222222222,
              "#7201a8"
             ],
             [
              0.3333333333333333,
              "#9c179e"
             ],
             [
              0.4444444444444444,
              "#bd3786"
             ],
             [
              0.5555555555555556,
              "#d8576b"
             ],
             [
              0.6666666666666666,
              "#ed7953"
             ],
             [
              0.7777777777777778,
              "#fb9f3a"
             ],
             [
              0.8888888888888888,
              "#fdca26"
             ],
             [
              1,
              "#f0f921"
             ]
            ],
            "type": "histogram2d"
           }
          ],
          "histogram2dcontour": [
           {
            "colorbar": {
             "outlinewidth": 0,
             "ticks": ""
            },
            "colorscale": [
             [
              0,
              "#0d0887"
             ],
             [
              0.1111111111111111,
              "#46039f"
             ],
             [
              0.2222222222222222,
              "#7201a8"
             ],
             [
              0.3333333333333333,
              "#9c179e"
             ],
             [
              0.4444444444444444,
              "#bd3786"
             ],
             [
              0.5555555555555556,
              "#d8576b"
             ],
             [
              0.6666666666666666,
              "#ed7953"
             ],
             [
              0.7777777777777778,
              "#fb9f3a"
             ],
             [
              0.8888888888888888,
              "#fdca26"
             ],
             [
              1,
              "#f0f921"
             ]
            ],
            "type": "histogram2dcontour"
           }
          ],
          "mesh3d": [
           {
            "colorbar": {
             "outlinewidth": 0,
             "ticks": ""
            },
            "type": "mesh3d"
           }
          ],
          "parcoords": [
           {
            "line": {
             "colorbar": {
              "outlinewidth": 0,
              "ticks": ""
             }
            },
            "type": "parcoords"
           }
          ],
          "pie": [
           {
            "automargin": true,
            "type": "pie"
           }
          ],
          "scatter": [
           {
            "fillpattern": {
             "fillmode": "overlay",
             "size": 10,
             "solidity": 0.2
            },
            "type": "scatter"
           }
          ],
          "scatter3d": [
           {
            "line": {
             "colorbar": {
              "outlinewidth": 0,
              "ticks": ""
             }
            },
            "marker": {
             "colorbar": {
              "outlinewidth": 0,
              "ticks": ""
             }
            },
            "type": "scatter3d"
           }
          ],
          "scattercarpet": [
           {
            "marker": {
             "colorbar": {
              "outlinewidth": 0,
              "ticks": ""
             }
            },
            "type": "scattercarpet"
           }
          ],
          "scattergeo": [
           {
            "marker": {
             "colorbar": {
              "outlinewidth": 0,
              "ticks": ""
             }
            },
            "type": "scattergeo"
           }
          ],
          "scattergl": [
           {
            "marker": {
             "colorbar": {
              "outlinewidth": 0,
              "ticks": ""
             }
            },
            "type": "scattergl"
           }
          ],
          "scattermapbox": [
           {
            "marker": {
             "colorbar": {
              "outlinewidth": 0,
              "ticks": ""
             }
            },
            "type": "scattermapbox"
           }
          ],
          "scatterpolar": [
           {
            "marker": {
             "colorbar": {
              "outlinewidth": 0,
              "ticks": ""
             }
            },
            "type": "scatterpolar"
           }
          ],
          "scatterpolargl": [
           {
            "marker": {
             "colorbar": {
              "outlinewidth": 0,
              "ticks": ""
             }
            },
            "type": "scatterpolargl"
           }
          ],
          "scatterternary": [
           {
            "marker": {
             "colorbar": {
              "outlinewidth": 0,
              "ticks": ""
             }
            },
            "type": "scatterternary"
           }
          ],
          "surface": [
           {
            "colorbar": {
             "outlinewidth": 0,
             "ticks": ""
            },
            "colorscale": [
             [
              0,
              "#0d0887"
             ],
             [
              0.1111111111111111,
              "#46039f"
             ],
             [
              0.2222222222222222,
              "#7201a8"
             ],
             [
              0.3333333333333333,
              "#9c179e"
             ],
             [
              0.4444444444444444,
              "#bd3786"
             ],
             [
              0.5555555555555556,
              "#d8576b"
             ],
             [
              0.6666666666666666,
              "#ed7953"
             ],
             [
              0.7777777777777778,
              "#fb9f3a"
             ],
             [
              0.8888888888888888,
              "#fdca26"
             ],
             [
              1,
              "#f0f921"
             ]
            ],
            "type": "surface"
           }
          ],
          "table": [
           {
            "cells": {
             "fill": {
              "color": "#EBF0F8"
             },
             "line": {
              "color": "white"
             }
            },
            "header": {
             "fill": {
              "color": "#C8D4E3"
             },
             "line": {
              "color": "white"
             }
            },
            "type": "table"
           }
          ]
         },
         "layout": {
          "annotationdefaults": {
           "arrowcolor": "#2a3f5f",
           "arrowhead": 0,
           "arrowwidth": 1
          },
          "autotypenumbers": "strict",
          "coloraxis": {
           "colorbar": {
            "outlinewidth": 0,
            "ticks": ""
           }
          },
          "colorscale": {
           "diverging": [
            [
             0,
             "#8e0152"
            ],
            [
             0.1,
             "#c51b7d"
            ],
            [
             0.2,
             "#de77ae"
            ],
            [
             0.3,
             "#f1b6da"
            ],
            [
             0.4,
             "#fde0ef"
            ],
            [
             0.5,
             "#f7f7f7"
            ],
            [
             0.6,
             "#e6f5d0"
            ],
            [
             0.7,
             "#b8e186"
            ],
            [
             0.8,
             "#7fbc41"
            ],
            [
             0.9,
             "#4d9221"
            ],
            [
             1,
             "#276419"
            ]
           ],
           "sequential": [
            [
             0,
             "#0d0887"
            ],
            [
             0.1111111111111111,
             "#46039f"
            ],
            [
             0.2222222222222222,
             "#7201a8"
            ],
            [
             0.3333333333333333,
             "#9c179e"
            ],
            [
             0.4444444444444444,
             "#bd3786"
            ],
            [
             0.5555555555555556,
             "#d8576b"
            ],
            [
             0.6666666666666666,
             "#ed7953"
            ],
            [
             0.7777777777777778,
             "#fb9f3a"
            ],
            [
             0.8888888888888888,
             "#fdca26"
            ],
            [
             1,
             "#f0f921"
            ]
           ],
           "sequentialminus": [
            [
             0,
             "#0d0887"
            ],
            [
             0.1111111111111111,
             "#46039f"
            ],
            [
             0.2222222222222222,
             "#7201a8"
            ],
            [
             0.3333333333333333,
             "#9c179e"
            ],
            [
             0.4444444444444444,
             "#bd3786"
            ],
            [
             0.5555555555555556,
             "#d8576b"
            ],
            [
             0.6666666666666666,
             "#ed7953"
            ],
            [
             0.7777777777777778,
             "#fb9f3a"
            ],
            [
             0.8888888888888888,
             "#fdca26"
            ],
            [
             1,
             "#f0f921"
            ]
           ]
          },
          "colorway": [
           "#636efa",
           "#EF553B",
           "#00cc96",
           "#ab63fa",
           "#FFA15A",
           "#19d3f3",
           "#FF6692",
           "#B6E880",
           "#FF97FF",
           "#FECB52"
          ],
          "font": {
           "color": "#2a3f5f"
          },
          "geo": {
           "bgcolor": "white",
           "lakecolor": "white",
           "landcolor": "#E5ECF6",
           "showlakes": true,
           "showland": true,
           "subunitcolor": "white"
          },
          "hoverlabel": {
           "align": "left"
          },
          "hovermode": "closest",
          "mapbox": {
           "style": "light"
          },
          "paper_bgcolor": "white",
          "plot_bgcolor": "#E5ECF6",
          "polar": {
           "angularaxis": {
            "gridcolor": "white",
            "linecolor": "white",
            "ticks": ""
           },
           "bgcolor": "#E5ECF6",
           "radialaxis": {
            "gridcolor": "white",
            "linecolor": "white",
            "ticks": ""
           }
          },
          "scene": {
           "xaxis": {
            "backgroundcolor": "#E5ECF6",
            "gridcolor": "white",
            "gridwidth": 2,
            "linecolor": "white",
            "showbackground": true,
            "ticks": "",
            "zerolinecolor": "white"
           },
           "yaxis": {
            "backgroundcolor": "#E5ECF6",
            "gridcolor": "white",
            "gridwidth": 2,
            "linecolor": "white",
            "showbackground": true,
            "ticks": "",
            "zerolinecolor": "white"
           },
           "zaxis": {
            "backgroundcolor": "#E5ECF6",
            "gridcolor": "white",
            "gridwidth": 2,
            "linecolor": "white",
            "showbackground": true,
            "ticks": "",
            "zerolinecolor": "white"
           }
          },
          "shapedefaults": {
           "line": {
            "color": "#2a3f5f"
           }
          },
          "ternary": {
           "aaxis": {
            "gridcolor": "white",
            "linecolor": "white",
            "ticks": ""
           },
           "baxis": {
            "gridcolor": "white",
            "linecolor": "white",
            "ticks": ""
           },
           "bgcolor": "#E5ECF6",
           "caxis": {
            "gridcolor": "white",
            "linecolor": "white",
            "ticks": ""
           }
          },
          "title": {
           "x": 0.05
          },
          "xaxis": {
           "automargin": true,
           "gridcolor": "white",
           "linecolor": "white",
           "ticks": "",
           "title": {
            "standoff": 15
           },
           "zerolinecolor": "white",
           "zerolinewidth": 2
          },
          "yaxis": {
           "automargin": true,
           "gridcolor": "white",
           "linecolor": "white",
           "ticks": "",
           "title": {
            "standoff": 15
           },
           "zerolinecolor": "white",
           "zerolinewidth": 2
          }
         }
        },
        "title": {
         "text": "UMAP_3_comp - 1.631 sec."
        },
        "width": 500
       }
      }
     },
     "metadata": {},
     "output_type": "display_data"
    }
   ],
   "source": [
    "for fig in figs:\n",
    "    fig.show()"
   ]
  },
  {
   "cell_type": "code",
   "execution_count": null,
   "id": "fb9bc8c6",
   "metadata": {},
   "outputs": [],
   "source": [
    "# print(f\"Embedding DFs created:\")\n",
    "# [print(f\"\\t{key}\") for key in embeddings_dfs.keys()]\n",
    "# print()\n",
    "# embeddings_dfs['PCA_3_comp']"
   ]
  },
  {
   "cell_type": "markdown",
   "id": "d8b8f90d",
   "metadata": {},
   "source": [
    "## Clustering methods\n",
    "I used **k-means** clustering to assess clustering performance. K-means is a centroid based method that partitions the data into k spherical clusters. \n",
    "\n",
    "I used 10 centroids (the same number as the number of cases). However, any number of centroids could be used, given that we're assuming that we don't actually have labeled data.\n",
    "\n",
    "In the interest of time, I did not implement the following methods. However, these would have provided a better overall indication of clustering performance:\n",
    "- **DBSCAN**: a density based method (grouping points that are closely packed together), better suited to arbitrarily shaped clusters with plenty of noise; it doesn't require a predefined number of clusters\n",
    "- **Agglomerative clustering**: a bottom-up hierarchical partitioning of points that's tolerant to noise, though computationally expensive\n"
   ]
  },
  {
   "cell_type": "code",
   "execution_count": null,
   "id": "0e2ba5db",
   "metadata": {},
   "outputs": [],
   "source": [
    "n_clusters = 10\n",
    "random_state = 42\n",
    "kmeans_model = KMeans(n_clusters=n_clusters, random_state=random_state)"
   ]
  },
  {
   "cell_type": "markdown",
   "id": "d61cae5e",
   "metadata": {},
   "source": [
    "## Clustering metrics\n",
    "I referenced [This scikit learn page](https://scikit-learn.org/stable/modules/clustering.html#clustering-performance-evaluation) in determining how to measure clustering performance. There are a few different methods to measure performance, but I went with the **silhoutte score.**\n",
    "\n",
    "The silhouette score measures how well each sample in a cluster is separated from samples in other clusters. It takes into account both the cohesion (how close the samples are to each other within the same cluster) and the separation (how far the samples are from samples in other clusters). The silhouette score ranges from -1 to 1, where a higher value indicates better clustering. A score close to 1 suggests that the samples are well-clustered, while a score close to -1 indicates that the samples may have been assigned to the wrong clusters."
   ]
  },
  {
   "cell_type": "code",
   "execution_count": null,
   "id": "89162423",
   "metadata": {},
   "outputs": [],
   "source": [
    "clusters = {}\n",
    "for embedding_name, df in embeddings_dfs.items():\n",
    "    # extract only components (i.e. no labels)\n",
    "    X_1 = df.iloc[:,:-1]\n",
    "\n",
    "    # fit clusters\n",
    "    kmeans = kmeans_model.fit(X_1)\n",
    "    \n",
    "    # extract cluster labels\n",
    "    kmeans_labels = kmeans.labels_\n",
    "\n",
    "    silhouette_score = metrics.silhouette_score(X_1, kmeans_labels, metric='euclidean')\n",
    "    clusters[embedding_name] = {\n",
    "        \"silhouette_score\":silhouette_score,\n",
    "        }"
   ]
  },
  {
   "cell_type": "code",
   "execution_count": null,
   "id": "df5d914d",
   "metadata": {},
   "outputs": [
    {
     "data": {
      "text/html": [
       "<div>\n",
       "<style scoped>\n",
       "    .dataframe tbody tr th:only-of-type {\n",
       "        vertical-align: middle;\n",
       "    }\n",
       "\n",
       "    .dataframe tbody tr th {\n",
       "        vertical-align: top;\n",
       "    }\n",
       "\n",
       "    .dataframe thead th {\n",
       "        text-align: right;\n",
       "    }\n",
       "</style>\n",
       "<table border=\"1\" class=\"dataframe\">\n",
       "  <thead>\n",
       "    <tr style=\"text-align: right;\">\n",
       "      <th></th>\n",
       "      <th>silhouette_score</th>\n",
       "    </tr>\n",
       "  </thead>\n",
       "  <tbody>\n",
       "    <tr>\n",
       "      <th>UMAP_2_comp</th>\n",
       "      <td>0.691186</td>\n",
       "    </tr>\n",
       "    <tr>\n",
       "      <th>HessianLLE_4_comp</th>\n",
       "      <td>0.679967</td>\n",
       "    </tr>\n",
       "    <tr>\n",
       "      <th>HessianLLE_3_comp</th>\n",
       "      <td>0.672246</td>\n",
       "    </tr>\n",
       "    <tr>\n",
       "      <th>Mod-LLE_4_comp</th>\n",
       "      <td>0.667523</td>\n",
       "    </tr>\n",
       "    <tr>\n",
       "      <th>UMAP_3_comp</th>\n",
       "      <td>0.652429</td>\n",
       "    </tr>\n",
       "    <tr>\n",
       "      <th>Stand-LLE_3_comp</th>\n",
       "      <td>0.629521</td>\n",
       "    </tr>\n",
       "    <tr>\n",
       "      <th>HessianLLE_2_comp</th>\n",
       "      <td>0.611089</td>\n",
       "    </tr>\n",
       "    <tr>\n",
       "      <th>Mod-LLE_2_comp</th>\n",
       "      <td>0.606089</td>\n",
       "    </tr>\n",
       "    <tr>\n",
       "      <th>Stand-LLE_2_comp</th>\n",
       "      <td>0.603844</td>\n",
       "    </tr>\n",
       "    <tr>\n",
       "      <th>Stand-LLE_4_comp</th>\n",
       "      <td>0.601834</td>\n",
       "    </tr>\n",
       "    <tr>\n",
       "      <th>UMAP_4_comp</th>\n",
       "      <td>0.583251</td>\n",
       "    </tr>\n",
       "    <tr>\n",
       "      <th>t-SNE_2_comp</th>\n",
       "      <td>0.574974</td>\n",
       "    </tr>\n",
       "    <tr>\n",
       "      <th>Mod-LLE_3_comp</th>\n",
       "      <td>0.567320</td>\n",
       "    </tr>\n",
       "    <tr>\n",
       "      <th>PCA_2_comp</th>\n",
       "      <td>0.437381</td>\n",
       "    </tr>\n",
       "    <tr>\n",
       "      <th>PCA_4_comp</th>\n",
       "      <td>0.426735</td>\n",
       "    </tr>\n",
       "    <tr>\n",
       "      <th>Isomap_2_comp</th>\n",
       "      <td>0.425479</td>\n",
       "    </tr>\n",
       "    <tr>\n",
       "      <th>t-SNE_3_comp</th>\n",
       "      <td>0.412335</td>\n",
       "    </tr>\n",
       "    <tr>\n",
       "      <th>PCA_3_comp</th>\n",
       "      <td>0.403938</td>\n",
       "    </tr>\n",
       "    <tr>\n",
       "      <th>Isomap_3_comp</th>\n",
       "      <td>0.391439</td>\n",
       "    </tr>\n",
       "    <tr>\n",
       "      <th>Isomap_4_comp</th>\n",
       "      <td>0.370804</td>\n",
       "    </tr>\n",
       "    <tr>\n",
       "      <th>t-SNE_4_comp</th>\n",
       "      <td>0.346246</td>\n",
       "    </tr>\n",
       "  </tbody>\n",
       "</table>\n",
       "</div>"
      ],
      "text/plain": [
       "                   silhouette_score\n",
       "UMAP_2_comp                0.691186\n",
       "HessianLLE_4_comp          0.679967\n",
       "HessianLLE_3_comp          0.672246\n",
       "Mod-LLE_4_comp             0.667523\n",
       "UMAP_3_comp                0.652429\n",
       "Stand-LLE_3_comp           0.629521\n",
       "HessianLLE_2_comp          0.611089\n",
       "Mod-LLE_2_comp             0.606089\n",
       "Stand-LLE_2_comp           0.603844\n",
       "Stand-LLE_4_comp           0.601834\n",
       "UMAP_4_comp                0.583251\n",
       "t-SNE_2_comp               0.574974\n",
       "Mod-LLE_3_comp             0.567320\n",
       "PCA_2_comp                 0.437381\n",
       "PCA_4_comp                 0.426735\n",
       "Isomap_2_comp              0.425479\n",
       "t-SNE_3_comp               0.412335\n",
       "PCA_3_comp                 0.403938\n",
       "Isomap_3_comp              0.391439\n",
       "Isomap_4_comp              0.370804\n",
       "t-SNE_4_comp               0.346246"
      ]
     },
     "execution_count": 164,
     "metadata": {},
     "output_type": "execute_result"
    }
   ],
   "source": [
    "silhouette_scores = pd.DataFrame(clusters).T\n",
    "silhouette_scores.columns = ['silhouette_score']\n",
    "silhouette_scores = silhouette_scores.sort_values(by='silhouette_score', ascending=False)\n",
    "silhouette_scores"
   ]
  },
  {
   "cell_type": "markdown",
   "id": "614ea78b",
   "metadata": {},
   "source": [
    "In graphing the silhouette scores, we note that the embedding with the highest performance is ____, though all methods produced above 0, indicating that they all performed reasonable well on all dimension sizes. This suggests that after applying truncated SVD, the data were \n",
    "\n",
    "The number of components used, ranging from 2 to 4, didn't appear to affect clustering performance across all models, as there's a mix of all dimensions among the embeddings with the highest scores.\n",
    "\n",
    "The __ dimensional ___ embedding is clearly a good method, as the clusters are distinct both in the plotted visual as well as in the silhouette metrics shown below."
   ]
  },
  {
   "cell_type": "code",
   "execution_count": null,
   "id": "63f58918",
   "metadata": {},
   "outputs": [
    {
     "data": {
      "application/vnd.plotly.v1+json": {
       "config": {
        "plotlyServerURL": "https://plot.ly"
       },
       "data": [
        {
         "alignmentgroup": "True",
         "hovertemplate": "index=%{x}<br>Silhouette Scores=%{y}<extra></extra>",
         "legendgroup": "",
         "marker": {
          "color": "#636efa",
          "pattern": {
           "shape": ""
          }
         },
         "name": "",
         "offsetgroup": "",
         "orientation": "v",
         "showlegend": false,
         "textposition": "auto",
         "type": "bar",
         "x": [
          "UMAP_2_comp",
          "HessianLLE_4_comp",
          "HessianLLE_3_comp",
          "Mod-LLE_4_comp",
          "UMAP_3_comp",
          "Stand-LLE_3_comp",
          "HessianLLE_2_comp",
          "Mod-LLE_2_comp",
          "Stand-LLE_2_comp",
          "Stand-LLE_4_comp",
          "UMAP_4_comp",
          "t-SNE_2_comp",
          "Mod-LLE_3_comp",
          "PCA_2_comp",
          "PCA_4_comp",
          "Isomap_2_comp",
          "t-SNE_3_comp",
          "PCA_3_comp",
          "Isomap_3_comp",
          "Isomap_4_comp",
          "t-SNE_4_comp"
         ],
         "xaxis": "x",
         "y": [
          0.6911855340003967,
          0.6799671508861561,
          0.6722463409497563,
          0.6675228533071681,
          0.6524294018745422,
          0.6295209218400218,
          0.6110890725023558,
          0.6060885294986836,
          0.6038439583121514,
          0.6018338898012957,
          0.5832512378692627,
          0.5749738812446594,
          0.5673199306771654,
          0.43738088776290607,
          0.42673517538014105,
          0.42547943913197356,
          0.41233494877815247,
          0.4039379143325872,
          0.39143939548095796,
          0.3708044225160645,
          0.34624603390693665
         ],
         "yaxis": "y"
        }
       ],
       "layout": {
        "barmode": "relative",
        "legend": {
         "tracegroupgap": 0
        },
        "margin": {
         "t": 60
        },
        "template": {
         "data": {
          "bar": [
           {
            "error_x": {
             "color": "#2a3f5f"
            },
            "error_y": {
             "color": "#2a3f5f"
            },
            "marker": {
             "line": {
              "color": "#E5ECF6",
              "width": 0.5
             },
             "pattern": {
              "fillmode": "overlay",
              "size": 10,
              "solidity": 0.2
             }
            },
            "type": "bar"
           }
          ],
          "barpolar": [
           {
            "marker": {
             "line": {
              "color": "#E5ECF6",
              "width": 0.5
             },
             "pattern": {
              "fillmode": "overlay",
              "size": 10,
              "solidity": 0.2
             }
            },
            "type": "barpolar"
           }
          ],
          "carpet": [
           {
            "aaxis": {
             "endlinecolor": "#2a3f5f",
             "gridcolor": "white",
             "linecolor": "white",
             "minorgridcolor": "white",
             "startlinecolor": "#2a3f5f"
            },
            "baxis": {
             "endlinecolor": "#2a3f5f",
             "gridcolor": "white",
             "linecolor": "white",
             "minorgridcolor": "white",
             "startlinecolor": "#2a3f5f"
            },
            "type": "carpet"
           }
          ],
          "choropleth": [
           {
            "colorbar": {
             "outlinewidth": 0,
             "ticks": ""
            },
            "type": "choropleth"
           }
          ],
          "contour": [
           {
            "colorbar": {
             "outlinewidth": 0,
             "ticks": ""
            },
            "colorscale": [
             [
              0,
              "#0d0887"
             ],
             [
              0.1111111111111111,
              "#46039f"
             ],
             [
              0.2222222222222222,
              "#7201a8"
             ],
             [
              0.3333333333333333,
              "#9c179e"
             ],
             [
              0.4444444444444444,
              "#bd3786"
             ],
             [
              0.5555555555555556,
              "#d8576b"
             ],
             [
              0.6666666666666666,
              "#ed7953"
             ],
             [
              0.7777777777777778,
              "#fb9f3a"
             ],
             [
              0.8888888888888888,
              "#fdca26"
             ],
             [
              1,
              "#f0f921"
             ]
            ],
            "type": "contour"
           }
          ],
          "contourcarpet": [
           {
            "colorbar": {
             "outlinewidth": 0,
             "ticks": ""
            },
            "type": "contourcarpet"
           }
          ],
          "heatmap": [
           {
            "colorbar": {
             "outlinewidth": 0,
             "ticks": ""
            },
            "colorscale": [
             [
              0,
              "#0d0887"
             ],
             [
              0.1111111111111111,
              "#46039f"
             ],
             [
              0.2222222222222222,
              "#7201a8"
             ],
             [
              0.3333333333333333,
              "#9c179e"
             ],
             [
              0.4444444444444444,
              "#bd3786"
             ],
             [
              0.5555555555555556,
              "#d8576b"
             ],
             [
              0.6666666666666666,
              "#ed7953"
             ],
             [
              0.7777777777777778,
              "#fb9f3a"
             ],
             [
              0.8888888888888888,
              "#fdca26"
             ],
             [
              1,
              "#f0f921"
             ]
            ],
            "type": "heatmap"
           }
          ],
          "heatmapgl": [
           {
            "colorbar": {
             "outlinewidth": 0,
             "ticks": ""
            },
            "colorscale": [
             [
              0,
              "#0d0887"
             ],
             [
              0.1111111111111111,
              "#46039f"
             ],
             [
              0.2222222222222222,
              "#7201a8"
             ],
             [
              0.3333333333333333,
              "#9c179e"
             ],
             [
              0.4444444444444444,
              "#bd3786"
             ],
             [
              0.5555555555555556,
              "#d8576b"
             ],
             [
              0.6666666666666666,
              "#ed7953"
             ],
             [
              0.7777777777777778,
              "#fb9f3a"
             ],
             [
              0.8888888888888888,
              "#fdca26"
             ],
             [
              1,
              "#f0f921"
             ]
            ],
            "type": "heatmapgl"
           }
          ],
          "histogram": [
           {
            "marker": {
             "pattern": {
              "fillmode": "overlay",
              "size": 10,
              "solidity": 0.2
             }
            },
            "type": "histogram"
           }
          ],
          "histogram2d": [
           {
            "colorbar": {
             "outlinewidth": 0,
             "ticks": ""
            },
            "colorscale": [
             [
              0,
              "#0d0887"
             ],
             [
              0.1111111111111111,
              "#46039f"
             ],
             [
              0.2222222222222222,
              "#7201a8"
             ],
             [
              0.3333333333333333,
              "#9c179e"
             ],
             [
              0.4444444444444444,
              "#bd3786"
             ],
             [
              0.5555555555555556,
              "#d8576b"
             ],
             [
              0.6666666666666666,
              "#ed7953"
             ],
             [
              0.7777777777777778,
              "#fb9f3a"
             ],
             [
              0.8888888888888888,
              "#fdca26"
             ],
             [
              1,
              "#f0f921"
             ]
            ],
            "type": "histogram2d"
           }
          ],
          "histogram2dcontour": [
           {
            "colorbar": {
             "outlinewidth": 0,
             "ticks": ""
            },
            "colorscale": [
             [
              0,
              "#0d0887"
             ],
             [
              0.1111111111111111,
              "#46039f"
             ],
             [
              0.2222222222222222,
              "#7201a8"
             ],
             [
              0.3333333333333333,
              "#9c179e"
             ],
             [
              0.4444444444444444,
              "#bd3786"
             ],
             [
              0.5555555555555556,
              "#d8576b"
             ],
             [
              0.6666666666666666,
              "#ed7953"
             ],
             [
              0.7777777777777778,
              "#fb9f3a"
             ],
             [
              0.8888888888888888,
              "#fdca26"
             ],
             [
              1,
              "#f0f921"
             ]
            ],
            "type": "histogram2dcontour"
           }
          ],
          "mesh3d": [
           {
            "colorbar": {
             "outlinewidth": 0,
             "ticks": ""
            },
            "type": "mesh3d"
           }
          ],
          "parcoords": [
           {
            "line": {
             "colorbar": {
              "outlinewidth": 0,
              "ticks": ""
             }
            },
            "type": "parcoords"
           }
          ],
          "pie": [
           {
            "automargin": true,
            "type": "pie"
           }
          ],
          "scatter": [
           {
            "fillpattern": {
             "fillmode": "overlay",
             "size": 10,
             "solidity": 0.2
            },
            "type": "scatter"
           }
          ],
          "scatter3d": [
           {
            "line": {
             "colorbar": {
              "outlinewidth": 0,
              "ticks": ""
             }
            },
            "marker": {
             "colorbar": {
              "outlinewidth": 0,
              "ticks": ""
             }
            },
            "type": "scatter3d"
           }
          ],
          "scattercarpet": [
           {
            "marker": {
             "colorbar": {
              "outlinewidth": 0,
              "ticks": ""
             }
            },
            "type": "scattercarpet"
           }
          ],
          "scattergeo": [
           {
            "marker": {
             "colorbar": {
              "outlinewidth": 0,
              "ticks": ""
             }
            },
            "type": "scattergeo"
           }
          ],
          "scattergl": [
           {
            "marker": {
             "colorbar": {
              "outlinewidth": 0,
              "ticks": ""
             }
            },
            "type": "scattergl"
           }
          ],
          "scattermapbox": [
           {
            "marker": {
             "colorbar": {
              "outlinewidth": 0,
              "ticks": ""
             }
            },
            "type": "scattermapbox"
           }
          ],
          "scatterpolar": [
           {
            "marker": {
             "colorbar": {
              "outlinewidth": 0,
              "ticks": ""
             }
            },
            "type": "scatterpolar"
           }
          ],
          "scatterpolargl": [
           {
            "marker": {
             "colorbar": {
              "outlinewidth": 0,
              "ticks": ""
             }
            },
            "type": "scatterpolargl"
           }
          ],
          "scatterternary": [
           {
            "marker": {
             "colorbar": {
              "outlinewidth": 0,
              "ticks": ""
             }
            },
            "type": "scatterternary"
           }
          ],
          "surface": [
           {
            "colorbar": {
             "outlinewidth": 0,
             "ticks": ""
            },
            "colorscale": [
             [
              0,
              "#0d0887"
             ],
             [
              0.1111111111111111,
              "#46039f"
             ],
             [
              0.2222222222222222,
              "#7201a8"
             ],
             [
              0.3333333333333333,
              "#9c179e"
             ],
             [
              0.4444444444444444,
              "#bd3786"
             ],
             [
              0.5555555555555556,
              "#d8576b"
             ],
             [
              0.6666666666666666,
              "#ed7953"
             ],
             [
              0.7777777777777778,
              "#fb9f3a"
             ],
             [
              0.8888888888888888,
              "#fdca26"
             ],
             [
              1,
              "#f0f921"
             ]
            ],
            "type": "surface"
           }
          ],
          "table": [
           {
            "cells": {
             "fill": {
              "color": "#EBF0F8"
             },
             "line": {
              "color": "white"
             }
            },
            "header": {
             "fill": {
              "color": "#C8D4E3"
             },
             "line": {
              "color": "white"
             }
            },
            "type": "table"
           }
          ]
         },
         "layout": {
          "annotationdefaults": {
           "arrowcolor": "#2a3f5f",
           "arrowhead": 0,
           "arrowwidth": 1
          },
          "autotypenumbers": "strict",
          "coloraxis": {
           "colorbar": {
            "outlinewidth": 0,
            "ticks": ""
           }
          },
          "colorscale": {
           "diverging": [
            [
             0,
             "#8e0152"
            ],
            [
             0.1,
             "#c51b7d"
            ],
            [
             0.2,
             "#de77ae"
            ],
            [
             0.3,
             "#f1b6da"
            ],
            [
             0.4,
             "#fde0ef"
            ],
            [
             0.5,
             "#f7f7f7"
            ],
            [
             0.6,
             "#e6f5d0"
            ],
            [
             0.7,
             "#b8e186"
            ],
            [
             0.8,
             "#7fbc41"
            ],
            [
             0.9,
             "#4d9221"
            ],
            [
             1,
             "#276419"
            ]
           ],
           "sequential": [
            [
             0,
             "#0d0887"
            ],
            [
             0.1111111111111111,
             "#46039f"
            ],
            [
             0.2222222222222222,
             "#7201a8"
            ],
            [
             0.3333333333333333,
             "#9c179e"
            ],
            [
             0.4444444444444444,
             "#bd3786"
            ],
            [
             0.5555555555555556,
             "#d8576b"
            ],
            [
             0.6666666666666666,
             "#ed7953"
            ],
            [
             0.7777777777777778,
             "#fb9f3a"
            ],
            [
             0.8888888888888888,
             "#fdca26"
            ],
            [
             1,
             "#f0f921"
            ]
           ],
           "sequentialminus": [
            [
             0,
             "#0d0887"
            ],
            [
             0.1111111111111111,
             "#46039f"
            ],
            [
             0.2222222222222222,
             "#7201a8"
            ],
            [
             0.3333333333333333,
             "#9c179e"
            ],
            [
             0.4444444444444444,
             "#bd3786"
            ],
            [
             0.5555555555555556,
             "#d8576b"
            ],
            [
             0.6666666666666666,
             "#ed7953"
            ],
            [
             0.7777777777777778,
             "#fb9f3a"
            ],
            [
             0.8888888888888888,
             "#fdca26"
            ],
            [
             1,
             "#f0f921"
            ]
           ]
          },
          "colorway": [
           "#636efa",
           "#EF553B",
           "#00cc96",
           "#ab63fa",
           "#FFA15A",
           "#19d3f3",
           "#FF6692",
           "#B6E880",
           "#FF97FF",
           "#FECB52"
          ],
          "font": {
           "color": "#2a3f5f"
          },
          "geo": {
           "bgcolor": "white",
           "lakecolor": "white",
           "landcolor": "#E5ECF6",
           "showlakes": true,
           "showland": true,
           "subunitcolor": "white"
          },
          "hoverlabel": {
           "align": "left"
          },
          "hovermode": "closest",
          "mapbox": {
           "style": "light"
          },
          "paper_bgcolor": "white",
          "plot_bgcolor": "#E5ECF6",
          "polar": {
           "angularaxis": {
            "gridcolor": "white",
            "linecolor": "white",
            "ticks": ""
           },
           "bgcolor": "#E5ECF6",
           "radialaxis": {
            "gridcolor": "white",
            "linecolor": "white",
            "ticks": ""
           }
          },
          "scene": {
           "xaxis": {
            "backgroundcolor": "#E5ECF6",
            "gridcolor": "white",
            "gridwidth": 2,
            "linecolor": "white",
            "showbackground": true,
            "ticks": "",
            "zerolinecolor": "white"
           },
           "yaxis": {
            "backgroundcolor": "#E5ECF6",
            "gridcolor": "white",
            "gridwidth": 2,
            "linecolor": "white",
            "showbackground": true,
            "ticks": "",
            "zerolinecolor": "white"
           },
           "zaxis": {
            "backgroundcolor": "#E5ECF6",
            "gridcolor": "white",
            "gridwidth": 2,
            "linecolor": "white",
            "showbackground": true,
            "ticks": "",
            "zerolinecolor": "white"
           }
          },
          "shapedefaults": {
           "line": {
            "color": "#2a3f5f"
           }
          },
          "ternary": {
           "aaxis": {
            "gridcolor": "white",
            "linecolor": "white",
            "ticks": ""
           },
           "baxis": {
            "gridcolor": "white",
            "linecolor": "white",
            "ticks": ""
           },
           "bgcolor": "#E5ECF6",
           "caxis": {
            "gridcolor": "white",
            "linecolor": "white",
            "ticks": ""
           }
          },
          "title": {
           "x": 0.05
          },
          "xaxis": {
           "automargin": true,
           "gridcolor": "white",
           "linecolor": "white",
           "ticks": "",
           "title": {
            "standoff": 15
           },
           "zerolinecolor": "white",
           "zerolinewidth": 2
          },
          "yaxis": {
           "automargin": true,
           "gridcolor": "white",
           "linecolor": "white",
           "ticks": "",
           "title": {
            "standoff": 15
           },
           "zerolinecolor": "white",
           "zerolinewidth": 2
          }
         }
        },
        "title": {
         "text": "Clustering Performance - Highest to Lowest"
        },
        "xaxis": {
         "anchor": "y",
         "domain": [
          0,
          1
         ],
         "tickangle": 45,
         "title": {
          "text": "Embedding"
         }
        },
        "yaxis": {
         "anchor": "x",
         "domain": [
          0,
          1
         ],
         "title": {
          "text": "Silhouette Scores"
         }
        }
       }
      }
     },
     "metadata": {},
     "output_type": "display_data"
    }
   ],
   "source": [
    "fig = px.bar(silhouette_scores, x=silhouette_scores.index, y='silhouette_score', \n",
    "             labels={'silhouette_score': 'Silhouette Scores'})\n",
    "\n",
    "fig.update_layout(title=\"Clustering Performance - Highest to Lowest\",xaxis_title=\"Embedding\",xaxis_tickangle=45)\n",
    "\n",
    "fig.show()\n"
   ]
  }
 ],
 "metadata": {
  "kernelspec": {
   "display_name": "Python 3 (ipykernel)",
   "language": "python",
   "name": "python3"
  },
  "language_info": {
   "codemirror_mode": {
    "name": "ipython",
    "version": 3
   },
   "file_extension": ".py",
   "mimetype": "text/x-python",
   "name": "python",
   "nbconvert_exporter": "python",
   "pygments_lexer": "ipython3",
   "version": "3.11.6"
  }
 },
 "nbformat": 4,
 "nbformat_minor": 5
}
